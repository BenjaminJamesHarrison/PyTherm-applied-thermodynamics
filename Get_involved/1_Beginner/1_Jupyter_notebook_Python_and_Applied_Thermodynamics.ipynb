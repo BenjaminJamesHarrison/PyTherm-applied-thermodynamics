{
 "cells": [
  {
   "cell_type": "markdown",
   "metadata": {},
   "source": [
    "Jupyter notebook, Python and Applied Thermodynamics\n",
    "===\n",
    "This notebook intends to present basics of Jupyter notebook and Python in the context of solution of simple problems in classical thermodynamics.\n",
    "\n",
    "> **Here you will meet the following topics:**\n",
    ">- Thermodynamics: `1st law`, `\"cyclic process\"`, \n",
    ">- Python: `math operations`, `function`\n",
    ">- Jupyter Notebook: `cells`\n",
    "\n",
    "\n",
    "## A Jupyter notebook *Cell*\n",
    "This, from \"Jupyter notebook, Python and Applied Thermo...\" to \"...see some python code.\" is a Jupyter notebook cell, we can set its type to *Markdown* or to *Code*. In the first option, we write plain text, and using some special tokens as \\*, \\[, \\(, < ... we can get some nice formatting. In the second option, we write code in Python programming language, a we get it to run and display results just below the given cell.\n",
    "You can see the special tokens as raw text if you click the cell inside a running instance of jupyter notebook (because then you enter cell editing mode), and you can get out of the cell editing mode pressing Ctrl+Enter. Now let's see some python code."
   ]
  },
  {
   "cell_type": "markdown",
   "metadata": {},
   "source": [
    "Supose you have to solve the following problem in a thermodynamics course:\n",
    ">\"Consider a closed system containing `1 mol` of a gas. This system undergoes cyclic trasnformations consisting of four steps. The following table display variations in internal energy as well as total heat and total work input/output in each step. Determine the values of the missing quantities.\"\n",
    ">\n",
    "> Steps | $\\Delta U$ (`J`) | $Q$ (`J`) |$W$ (`J`) \n",
    "> :--: | --: | --: | --:\n",
    "> A-B | -200. | \\_\\_\\_ | -6,000. \n",
    "> B-C | \\_\\_\\_ | -3,800. | \\_\\_\\_\n",
    "> C-D | \\_\\_\\_ | -800. | 300.\n",
    "> D-A | 4,700. | \\_\\_\\_ | \\_\\_\\_\n",
    "> A-B-C-D-A | \\_\\_\\_ | \\_\\_\\_ | -1,400.\n",
    ">> Adapted from `Smith, van Ness, 0000, 00ed. Ex0.`\n",
    ">\n",
    "\n",
    "**Tags**: `1st law`, `cyclic process`"
   ]
  },
  {
   "cell_type": "markdown",
   "metadata": {
    "collapsed": true
   },
   "source": [
    "# Solution:\n",
    "## Fundamentals:\n",
    "According to the first law of thermodynamics, in any process, the variation in energy is equal to the sum of heat and work inputs/outputs\n",
    ">- $\\Delta U_{A\\to B} = Q_{A\\to B} + W_{A\\to B}$ \n",
    "\n",
    "where, by convention, \n",
    "* $\\Delta U_{A\\to B}$ means difference between internal energy in state $B$ and  nternal energy in  state $A$: $U_B - U_A$\n",
    "* A positive sign in $Q_{A\\to B}$ means heat entering the system along the process from  state $A$ to  state $B$\n",
    "* A positive sign in $W_{A\\to B}$ means work being done on the system along the process from  state $A$ to  state $B$\n",
    "\n",
    "Net Heat and Work in a cyclic operation is the sum of heat and work in each step process\n",
    "\n",
    ">- $Q_{A\\to B} + Q_{B\\to C} + Q_{C\\to D} +  Q_{D\\to A} = Q_{net}$\n",
    "\n",
    ">- $W_{A\\to B} + W_{B\\to C} + W_{C\\to D} +  W_{D\\to A} = W_{net}$\n",
    "\n",
    "Also, as internal energy is a *function of state*, in a cyclic operation its net variation, when a full cycle is complete and the system is found to be in a previously visited state, is zero.\n",
    "\n",
    ">- $\\Delta U_{A\\to B} + \\Delta U_{B\\to C} + \\Delta U_{C\\to D} +  \\Delta U_{D\\to A}= 0$\n",
    "\n"
   ]
  },
  {
   "cell_type": "markdown",
   "metadata": {},
   "source": [
    "approach 1, calculator\n",
    "\n",
    "approach 2, functions and manually\n",
    "\n",
    "approach 3, simultaneous algebraic system"
   ]
  },
  {
   "cell_type": "markdown",
   "metadata": {},
   "source": [
    "## Approach 1:\n",
    "Our first approach to solve this exercise will be most similar to doing it on your paper notebook with a simple scientific calculator by your side.\n",
    "\n",
    "In any process, the first law states that the three quantities presente in the table are related by one function, therefore there are two degrees of freedom to fully determine on line of the table.\n",
    "\n",
    "Note that in lines corresponding to processes `A-B` and `C-D`, two degreees of freeedom are provided and only one value is missing, therefore:\n",
    "\n",
    "###A-B\n",
    "\n",
    "> Steps | $\\Delta U$ (`J`) | $Q$ (`J`) |$W$ (`J`) \n",
    "> :--: | --: | --: | --:\n",
    "> A-B | -200. | \\_\\_\\_ | -6,000. \n",
    "\n",
    "$Q_{A\\to B}$ (`J`) = $\\Delta U_{A\\to B}$ (`J`)  - $W_{A\\to B}$ (`J`)"
   ]
  },
  {
   "cell_type": "code",
   "execution_count": 1,
   "metadata": {
    "collapsed": false,
    "scrolled": true
   },
   "outputs": [
    {
     "name": "stdout",
     "output_type": "stream",
     "text": [
      "5800.0\n"
     ]
    },
    {
     "data": {
      "text/plain": [
       "'jupyter also prints a multiliine comment uin the last lines of the code cell'"
      ]
     },
     "execution_count": 1,
     "metadata": {},
     "output_type": "execute_result"
    }
   ],
   "source": [
    "#this is the first Python code cell in the course\n",
    "#these lines beginning with a hashtag (#) are comments,\n",
    "#they are merely unformatted  descriptive text,\n",
    "#they do not inlfuence in any way the calculations that we will write\n",
    "\n",
    "\"\"\" This is an example of a multiline\n",
    "comment that spans multiple lines\n",
    "\"\"\"\n",
    "\n",
    "dU_from_A_to_B=-200. #we can comment just right of any calculation line, this line here is a assignment line,\n",
    "#it defines a variable dU and assigns it the value of -200.\n",
    "\n",
    "W_from_A_to_B=-6000. #this is another definition and assignment\n",
    "\n",
    "Q_from_A_to_B=dU_from_A_to_B-W_from_A_to_B #yet another definition and assignment,\n",
    "#however the assigned value now is the result of the subtraction (-) operation\n",
    "#between the values stored in the variables dU and W\n",
    "\n",
    "print(Q_from_A_to_B) #this line call the print command, this means that the value stored in the variable Q\n",
    "#should be printed in the output section of this cell, just below this space where we wwriting our source code\n",
    "\n",
    "\"\"\"After modyfing anything here, hit Ctrl+Enter to exit this jupyter notebook cell and run the calculations here\n",
    "note the number between square brackets at the left of the cell (e.g. In[1])\n",
    "if you hit Ctrl+Enter again it will run again and the counter will become In[2], In[3], and so on...\n",
    "Below you can see the result of the calculations\n",
    "\"\"\"\n",
    "\n",
    "\"\"\"jupyter also prints a multiliine comment uin the last lines of the code cell\"\"\""
   ]
  },
  {
   "cell_type": "markdown",
   "metadata": {},
   "source": [
    "###C-D \n",
    "\n",
    "> Steps | $\\Delta U$ (`J`) | $Q$ (`J`) |$W$ (`J`) \n",
    "> :--: | --: | --: | --:\n",
    "> C-D | \\_\\_\\_ | -800. | 300.\n",
    "\n",
    "$\\Delta U_{C\\to D}$ (`J`) = $Q_{C\\to D}$ (`J`) + $W_{C\\to D}$ (`J`)\n",
    "\n"
   ]
  },
  {
   "cell_type": "code",
   "execution_count": 2,
   "metadata": {
    "collapsed": false
   },
   "outputs": [
    {
     "name": "stdout",
     "output_type": "stream",
     "text": [
      "-200.0\n",
      "-500.0\n",
      "The variation in the internal energy along the process from state C to state D was equal to [ -500.0 J ].\n"
     ]
    }
   ],
   "source": [
    "\"\"\"this is another separate python code cell\n",
    "this is intended to be run just after the previous one\n",
    "note the number between square brackets at the left of the cell and compare with the other cells to see the order in which they were executed\n",
    "\"\"\"\n",
    "\n",
    "#at the execution of each cell, jupyter remembers whatever was executed since the kernel was started \n",
    "#(i.e. since the jupyter notebook was opened)\n",
    "#this means we can still see the values of the previous calculations\n",
    "print(dU_from_A_to_B)\n",
    "\n",
    "#if modify something such that you need the computer to forget the results of the past calculations \n",
    "# then click [Kernel] > [Restart & Clear Output] in jupyter toolbar\n",
    "\n",
    "#and now lets perform the calculation for the other process\n",
    "\n",
    "Q_from_C_to_D=-800. #we can comment just right of any calculation line, this line here is a assignment line,\n",
    "#it defines a variable dU and assigns it the value of -200.\n",
    "\n",
    "W_from_C_to_D=300.\n",
    "\n",
    "dU_from_C_to_D=Q_from_C_to_D+W_from_C_to_D\n",
    "print(dU_from_C_to_D)\n",
    "\n",
    "#we can also format the printing to make it look better:\n",
    "print(\"The variation in the internal energy along the process from state C to state D was equal to [\",dU_from_C_to_D,\"J ].\")\n",
    "\n",
    "#After modyfing anything here, hit Ctrl+Enter to exit this jupyter notebook cell and run the calculations here"
   ]
  },
  {
   "cell_type": "markdown",
   "metadata": {},
   "source": [
    "Now, using the last fundamentalk exposed, concernign the fact that a cyclic process, on completion of a full cycle returns to a same equilibrium state, we can solve the last line in the table\n",
    "\n",
    "> Steps | $\\Delta U$ (`J`) | $Q$ (`J`) |$W$ (`J`) \n",
    "> :--: | --: | --: | --:\n",
    "> A-B-C-D-A | \\_\\_\\_ | \\_\\_\\_ | -1,400.\n",
    "\n",
    "> $\\Delta U_{A\\to B\\to C\\to D\\to A}=0$\n",
    "\n",
    "and, then\n",
    "> $Q_{A\\to B\\to C\\to D\\to A}=\\Delta U_{A\\to B\\to C\\to D\\to A}-W_{A\\to B\\to C\\to D\\to A}$\n"
   ]
  },
  {
   "cell_type": "code",
   "execution_count": 3,
   "metadata": {
    "collapsed": false
   },
   "outputs": [
    {
     "name": "stdout",
     "output_type": "stream",
     "text": [
      "The net heat input was equal to [ 1400.0 J ].\n"
     ]
    }
   ],
   "source": [
    "dU_net = 0.\n",
    "\n",
    "W_net = -1400.\n",
    "\n",
    "Q_net = dU_net - W_net\n",
    "\n",
    "print(\"The net heat input was equal to [\",Q_net,\"J ].\")\n"
   ]
  },
  {
   "cell_type": "markdown",
   "metadata": {},
   "source": [
    "Now using the last fundamental again we can solve for the energy variation in step 2->3\n",
    "\n",
    "> Steps | $\\Delta U$ (`J`) \n",
    "> :--: | --: \n",
    "> A-B | -200. \n",
    "> B-C | \\_\\_\\_ \n",
    "> C-D | **-500.**\n",
    "> D-A | 4,700. \n",
    "> A-B-C-D-A | 0.\n",
    "\n",
    "$\\Delta U_{A\\to B} + \\Delta U_{B\\to C} + \\Delta U_{C\\to D} +  \\Delta U_{D\\to A}= 0$"
   ]
  },
  {
   "cell_type": "code",
   "execution_count": 4,
   "metadata": {
    "collapsed": false
   },
   "outputs": [
    {
     "name": "stdout",
     "output_type": "stream",
     "text": [
      "dU_from_A_to_B = [ -200.0  ] J.\n",
      "dU_from_C_to_D = [ -500.0  ] J.\n",
      "dU_net = [ 0.0  ] J.\n",
      "dU_from_D_to_A = [ 4700.0  ] J.\n",
      "dU_from_B_to_C = [ -4000.0  ] J.\n"
     ]
    }
   ],
   "source": [
    "\"\"\"remebemr the kernel remembers whatever we already told him or whatever was calculated\"\"\"\n",
    "print(\"dU_from_A_to_B = [\",dU_from_A_to_B,\" ] J.\")\n",
    "print(\"dU_from_C_to_D = [\",dU_from_C_to_D,\" ] J.\")\n",
    "print(\"dU_net = [\",dU_net,\" ] J.\")\n",
    "\n",
    "dU_from_D_to_A = 4700. #this we hadnt used yet\n",
    "print(\"dU_from_D_to_A = [\",dU_from_D_to_A,\" ] J.\")\n",
    "\n",
    "dU_from_B_to_C = dU_net - (dU_from_A_to_B + dU_from_C_to_D + dU_from_D_to_A) #now calculate the missing\n",
    "print(\"dU_from_B_to_C = [\",dU_from_B_to_C,\" ] J.\")"
   ]
  },
  {
   "cell_type": "markdown",
   "metadata": {},
   "source": [
    "now the work in B-> C\n",
    "according to 1st fundamental\n",
    "\n",
    "\n",
    "> Steps | $\\Delta U$ (`J`) | $Q$ (`J`) |$W$ (`J`) \n",
    "> :--: | --: | --: | --:\n",
    "> B-C | -4,000. | -3,800. | \\_\\_\\_\n",
    "\n",
    "$W_{B\\to C} = \\Delta U_{B\\to C} - Q_{B\\to C}$\n",
    "\n",
    "\n"
   ]
  },
  {
   "cell_type": "code",
   "execution_count": 5,
   "metadata": {
    "collapsed": false
   },
   "outputs": [
    {
     "name": "stdout",
     "output_type": "stream",
     "text": [
      "W_from_B_to_C = [ -200.0  ] J.\n"
     ]
    }
   ],
   "source": [
    "Q_from_B_to_C = -3800.\n",
    "W_from_B_to_C = dU_from_B_to_C - Q_from_B_to_C\n",
    "print(\"W_from_B_to_C = [\",W_from_B_to_C,\" ] J.\")"
   ]
  },
  {
   "cell_type": "markdown",
   "metadata": {},
   "source": [
    "Now using the 2nd and 3rd fundamentals we can solve for the heat and for work in step 4->1\n",
    "\n",
    "> Steps | $Q$ (`J`) |$W$ (`J`) \n",
    "> :--: | --: | --:\n",
    "> A-B | 5,800. | -6,000. \n",
    "> B-C | -3,800. | -200.\n",
    "> C-D | -800. | 300.\n",
    "> D-A |  \\_\\_\\_ | \\_\\_\\_\n",
    "> A-B-C-D-A |  1400. | -1,400.\n",
    "\n",
    ">- $Q_{D\\to A} = Q_{net} - (Q_{A\\to B} + Q_{B\\to C} + Q_{C\\to D})$\n",
    "\n",
    ">- $W_{D\\to A} = W_{net} - (W_{A\\to B} + W_{B\\to C} + W_{C\\to D})$"
   ]
  },
  {
   "cell_type": "code",
   "execution_count": 6,
   "metadata": {
    "collapsed": false
   },
   "outputs": [
    {
     "name": "stdout",
     "output_type": "stream",
     "text": [
      "Q_from_D_to_A = [ 200.0  ] J.\n",
      "W_from_D_to_A = [ 4500.0  ] J.\n"
     ]
    }
   ],
   "source": [
    "Q_from_D_to_A = Q_net - ( Q_from_A_to_B + Q_from_B_to_C + Q_from_C_to_D)\n",
    "W_from_D_to_A = W_net - ( W_from_A_to_B + W_from_B_to_C + W_from_C_to_D)\n",
    "print(\"Q_from_D_to_A = [\",Q_from_D_to_A,\" ] J.\")\n",
    "print(\"W_from_D_to_A = [\",W_from_D_to_A,\" ] J.\")"
   ]
  },
  {
   "cell_type": "markdown",
   "metadata": {},
   "source": [
    "Let's just print the whole table now\n",
    "\n"
   ]
  },
  {
   "cell_type": "code",
   "execution_count": 7,
   "metadata": {
    "collapsed": false
   },
   "outputs": [
    {
     "name": "stdout",
     "output_type": "stream",
     "text": [
      "      dU,          Q,            W\n",
      "  -200.0      5800.0       -6000.0\n",
      " -4000.0     -3800.0        -200.0\n",
      "  -500.0      -800.0         300.0\n",
      "  4700.0       200.0        4500.0\n",
      "     0.0      1400.0       -1400.0\n"
     ]
    }
   ],
   "source": [
    "print(\"      dU,          Q,            W\")\n",
    "print(\" \",dU_from_A_to_B,\"    \",Q_from_A_to_B,\"     \",W_from_A_to_B)\n",
    "print(\"\",dU_from_B_to_C,\"   \",Q_from_B_to_C,\"      \",W_from_B_to_C)\n",
    "print(\" \",dU_from_C_to_D,\"    \",Q_from_C_to_D,\"       \",W_from_C_to_D)\n",
    "print(\" \",dU_from_D_to_A,\"     \",Q_from_D_to_A,\"      \",W_from_D_to_A)\n",
    "print(\"    \",dU_net,\"    \",Q_net,\"     \",W_net)\n",
    "#note that we are manually adding lots of spaces here, however there are more elegant ways to print values,\n",
    "#e.g. https://pypi.python.org/pypi/PrettyTable/\n",
    "#you may want to take a look at these after being done with our beginenr course."
   ]
  },
  {
   "cell_type": "markdown",
   "metadata": {},
   "source": [
    "## Approach 2\n",
    "Our second approach involves the use of *functions* in the programming sense.\n",
    "a function is a named section of a program that performs a specific task, that can be used many times along the execution of the program, and that produces different outputs depending on different inputs provided.\n",
    "See below how to write a fucntion in Python"
   ]
  },
  {
   "cell_type": "code",
   "execution_count": 8,
   "metadata": {
    "collapsed": true
   },
   "outputs": [],
   "source": [
    "def FirstLaw_U_from_QW( Q, W ):\n",
    "   U=Q+W\n",
    "   return U"
   ]
  },
  {
   "cell_type": "code",
   "execution_count": 9,
   "metadata": {
    "collapsed": false
   },
   "outputs": [
    {
     "data": {
      "text/plain": [
       "11.0"
      ]
     },
     "execution_count": 9,
     "metadata": {},
     "output_type": "execute_result"
    }
   ],
   "source": [
    "FirstLaw_U_from_QW(1.,10.)"
   ]
  },
  {
   "cell_type": "markdown",
   "metadata": {},
   "source": [
    "##aPPROACH3"
   ]
  },
  {
   "cell_type": "markdown",
   "metadata": {},
   "source": [
    "#References\n",
    "`Smith, van Ness, 0000, 00ed. Ex0.`"
   ]
  }
 ],
 "metadata": {
  "kernelspec": {
   "display_name": "Python [Root]",
   "language": "python",
   "name": "Python [Root]"
  },
  "language_info": {
   "codemirror_mode": {
    "name": "ipython",
    "version": 3
   },
   "file_extension": ".py",
   "mimetype": "text/x-python",
   "name": "python",
   "nbconvert_exporter": "python",
   "pygments_lexer": "ipython3",
   "version": "3.5.2"
  }
 },
 "nbformat": 4,
 "nbformat_minor": 0
}
