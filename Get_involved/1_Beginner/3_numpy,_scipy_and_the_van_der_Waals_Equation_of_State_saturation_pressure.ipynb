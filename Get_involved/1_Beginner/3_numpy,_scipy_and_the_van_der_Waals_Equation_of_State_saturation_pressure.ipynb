{
 "cells": [
  {
   "cell_type": "markdown",
   "metadata": {},
   "source": [
    "# numpy, scipy and the van der Waals Equation of State saturation pressure\n",
    "In this notebook we present numerical evaluation of density and residual properties for given values of pressure and temperature using the van der Waals Equation of State. Then, using these calculations we present numerical evaluation of the saturation pressure for liquid-vapor equilibra at given temperature.\n",
    "\n",
    "> **Here you will meet the following topics:**\n",
    ">- Thermodynamics: *equation of state*, *calculation of*: *density*, *residual properties*, *saturation point pressure*\n",
    ">- Python: `numpy`:, `roots`; `scipy`: `optimize`"
   ]
  },
  {
   "cell_type": "markdown",
   "metadata": {},
   "source": [
    "Supose you have to solve the following problem in a thermodynamics course:\n",
    ">\"Calculate the saturation pressure for pure hexane at the temperature of 220 K according to the van der Waals equation of state\"\n",
    "\n",
    "We will show how here to implement a function to calculate density of a pure fluid at given T and P.\n",
    "Then, how to calculate the residual properties. And at last, how to calculate the saturation pressure."
   ]
  },
  {
   "cell_type": "markdown",
   "metadata": {
    "collapsed": false
   },
   "source": [
    "Here we will use more resources of the package numpy\n",
    "\n",
    "Therefore, import numpy:"
   ]
  },
  {
   "cell_type": "code",
   "execution_count": 1,
   "metadata": {
    "collapsed": true
   },
   "outputs": [],
   "source": [
    "import numpy as numpy"
   ]
  },
  {
   "cell_type": "markdown",
   "metadata": {},
   "source": [
    "And we will also use the package scipy.\n",
    "\n",
    "The following slightly different syntax for importing packages works similarly to the one already presented. Here, we import only a subset of the resources of scipy, the subset identified as optimize."
   ]
  },
  {
   "cell_type": "code",
   "execution_count": 2,
   "metadata": {
    "collapsed": true
   },
   "outputs": [],
   "source": [
    "from scipy import optimize as optimize\n",
    "#from <-- keyword \"from\"\n",
    "     #scipy <-- name of the parent module\n",
    "           #import <-- keyword \"import\"\n",
    "                  #optimize <-- name of the desired subpackage\n",
    "                           #as <-- keyword \"as\"\n",
    "                              #optimize <-- alias name"
   ]
  },
  {
   "cell_type": "markdown",
   "metadata": {},
   "source": [
    "Consider the *van der Waals* equation of state (Reid et al., 1987, see Eq 3-6.1 and Table 3-5, line 1)\n",
    "\n",
    "$P=\\frac{RT}{\\bar{V}-b}-\\frac{a}{{\\bar{V}}^{2}}$\n",
    "\n",
    "$a=\\frac{27}{64}\\frac{{{Tc}^{2}}{R^{2}}}{Pc}$\n",
    "\n",
    "\n",
    "$b=\\frac{{R}{Tc}}{{8}{Pc}}$\n",
    "\n",
    "where $R$ is the gas constant \n",
    "\n",
    "$R = 8.3144598$ $\\mathrm{{J} {mol^{−1}} {K^{−1}}}$\n",
    "\n",
    "and critical properties for hexane are \n",
    "\n",
    "$Tc = 507.5$ $\\mathrm{K}$\n",
    "\n",
    "\n",
    "$Pc = 30.1$ $\\times {10^6}$ $\\mathrm{Pa}$\n",
    "\n",
    "So lets code this information, as in notebook 2:\n",
    "\n",
    "First the gas constant:"
   ]
  },
  {
   "cell_type": "code",
   "execution_count": 3,
   "metadata": {
    "collapsed": true
   },
   "outputs": [],
   "source": [
    "#gas constant\n",
    "R = 8.3144598 #J.mol^−1.K^−1"
   ]
  },
  {
   "cell_type": "markdown",
   "metadata": {},
   "source": [
    "Now the physical properties of the substance:"
   ]
  },
  {
   "cell_type": "code",
   "execution_count": 4,
   "metadata": {
    "collapsed": false
   },
   "outputs": [],
   "source": [
    "#pure component critical point of hexane\n",
    "# Tc (K)\n",
    "Tc = 507.5 #K\n",
    "\n",
    "# Pc (bar)\n",
    "Pc = 30.1*(10**6) #Pa"
   ]
  },
  {
   "cell_type": "markdown",
   "metadata": {},
   "source": [
    "Then the EoS parameters:"
   ]
  },
  {
   "cell_type": "code",
   "execution_count": 5,
   "metadata": {
    "collapsed": false
   },
   "outputs": [
    {
     "name": "stdout",
     "output_type": "stream",
     "text": [
      "0.2495499363743344\n"
     ]
    }
   ],
   "source": [
    "a = 27/64*((Tc**2)*(R**2)/Pc)\n",
    "print(a)"
   ]
  },
  {
   "cell_type": "code",
   "execution_count": 6,
   "metadata": {
    "collapsed": false
   },
   "outputs": [
    {
     "name": "stdout",
     "output_type": "stream",
     "text": [
      "1.752320742732558e-05\n"
     ]
    }
   ],
   "source": [
    "b = (R*Tc)/(8*Pc)\n",
    "print(b)"
   ]
  },
  {
   "cell_type": "markdown",
   "metadata": {},
   "source": [
    "Here, we are interested in calculating $\\bar{V}$ for a given substance, therefore given $a$ and $B$, at some given condition of $P$ and $T$. For that purpose we convert the explicit $P(T,\\bar{V})$ representation of the EoS to an implicit representation. We can then find a repreesentation that corresponds to a 3$^{\\mathrm{rd}}$ degree polynomial in $\\bar{V}$, with coefficients depending on $P$, $T$, $a$ and $b$. THerefore, for a given substance (given $a$ and $b$), at given $P$ and $T$, the density can be obtained by solving this polynomial for $\\bar{V}$."
   ]
  },
  {
   "cell_type": "markdown",
   "metadata": {},
   "source": [
    "${P}{{\\bar{V}}^3}−({P}{b}+{R}{T}){{\\bar{V}}^2}+{a}{\\bar{V}}−{a}{b}={0}$"
   ]
  },
  {
   "cell_type": "markdown",
   "metadata": {
    "collapsed": true
   },
   "source": [
    "Let's define the temperature and pressure at which we want to perform a density calculation."
   ]
  },
  {
   "cell_type": "code",
   "execution_count": 7,
   "metadata": {
    "collapsed": true
   },
   "outputs": [],
   "source": [
    "#calculate density at what temperature and pressure?\n",
    "T = 220. #K\n",
    "P = 1*(10**5) #Pa"
   ]
  },
  {
   "cell_type": "code",
   "execution_count": 8,
   "metadata": {
    "collapsed": false
   },
   "outputs": [],
   "source": [
    "c3 = P #coefficient for v^3\n",
    "c2 = -(P*b+R*T) #coefficient v^2\n",
    "c1 = a  #coefficient v^1\n",
    "c0 = -a*b  #coefficient v^0"
   ]
  },
  {
   "cell_type": "code",
   "execution_count": 9,
   "metadata": {
    "collapsed": false
   },
   "outputs": [
    {
     "name": "stdout",
     "output_type": "stream",
     "text": [
      "[  1.81721416e-02   1.16545544e-04   2.06475858e-05]\n"
     ]
    }
   ],
   "source": [
    "v=numpy.roots([c3,c2,c1,c0]) #numpy .roots finds the roots of a polynomial\n",
    "#coefficients must be provided in a list form, constructed using the square brackets\n",
    "#result is the list of real and imaginary roots found.\n",
    "print(v)"
   ]
  },
  {
   "cell_type": "markdown",
   "metadata": {},
   "source": [
    "Here, after solving a 3$^{\\mathrm{rd}}$ degree polynomial, we may obtain three real valued roots. If three roots are found in the interval $(b,\\infty )$, the minimum  and maximum corresponds to liquid and vapor aggregation states, respectively, the intermediate root does not correspond to a phisycally relevant state.\n",
    "\n",
    "According to the principle of minimum Gibbs energy, at given $P$, $T$ (and quantity of matter), the state with least Gibbs energy is the *stable equilibrium state*. Therefore we must compare the Gibbs energy of these *states* to reveal which corresponds to the *stable equilibrium*. While we are not able to calculate absolute values of Gibbs energy using an equation of state, we are able to calculate relative values of Gibbs energy for both vapor and liquid states with a common reference associated with the ideal gas state, the relative scale of gibbs energy we use here is the residual Gibbs energy."
   ]
  },
  {
   "cell_type": "code",
   "execution_count": 10,
   "metadata": {
    "collapsed": false
   },
   "outputs": [
    {
     "name": "stdout",
     "output_type": "stream",
     "text": [
      "2.06475858431e-05\n",
      "0.000116545543579\n",
      "0.018172141638\n"
     ]
    }
   ],
   "source": [
    "[v_Liq, v_intermediate, v_Vap] = numpy.sort(v)\n",
    "print(v_Liq)\n",
    "print(v_intermediate)\n",
    "print(v_Vap)"
   ]
  },
  {
   "cell_type": "markdown",
   "metadata": {},
   "source": [
    "## The residual Gibbs energy\n",
    "For the origin and discussion of residual thermodynamics properties, see the references below. For the van der Waals EoS, the expression for the residual Gibbs energy, $G^{Res}$, is:\n",
    "\n",
    "$${G^{Res}} = PV-RT-\\frac{a}{\\bar{V}} -RTln \\left (\\frac{P(\\bar{V}-b)}{RT} \\right )$$\n",
    "\n",
    "> `Smith, van Ness, Abbott, 2005, 7th-pt-BR, Ch. (6.2, 6.3)\n",
    "> O'Connell and Haile, 2005, Ch. 4\n",
    "> Tester and Modell, 1997, Ch. 9.`"
   ]
  },
  {
   "cell_type": "code",
   "execution_count": 11,
   "metadata": {
    "collapsed": false
   },
   "outputs": [
    {
     "name": "stdout",
     "output_type": "stream",
     "text": [
      "[  -11.92852652  5587.49740938  1954.82586937]\n"
     ]
    }
   ],
   "source": [
    "Residual_G = (P*v)-(R*T)-(a/v) - T*(R*numpy.log(P*(v-b)/(R*T))) \n",
    "print(Residual_G)"
   ]
  },
  {
   "cell_type": "markdown",
   "metadata": {},
   "source": [
    "note now that the lowest gibbs energy yielded correspond to the liquid phase, that means at this pressure and temperature, the liquid phase is the stable equilibrium state."
   ]
  },
  {
   "cell_type": "markdown",
   "metadata": {},
   "source": [
    "## Calculation of saturation pressure\n",
    "\n",
    "Now, the saturation pressure is the pressure $P$ that makes the difference in residual gibbs energy between trial liquid and vapor pahse equal zero. We cannot explicitate P as a function of the difference in residual gibbs energy in order\n",
    "for that purpose we define of a function $\\Delta G^{Res}$ of $P$\n",
    "and we will solve it numerically, i.e. trying various values of $P$ according to a updating methodology and convergence criteria. To automate taht task we impkement a function **`def Delta_Residual_G(P):`**, which calculates the roots of volume, as before, and evaluates the residual gibbs energy in each of these states"
   ]
  },
  {
   "cell_type": "code",
   "execution_count": 12,
   "metadata": {
    "collapsed": false
   },
   "outputs": [],
   "source": [
    "#define equilibrium criteria: Residual_G_Liquid is equal to Residual_G_Vapor :. Delta_Residual_G = zero :. Delta_Residual_G < Tolerance\n",
    "def Delta_Residual_G(P):\n",
    "    c3 = P #coefficient for v^3\n",
    "    c2 = -(P*b+R*T) #coefficient v^2\n",
    "    c1 = a  #coefficient v^1\n",
    "    c0 = -a*b  #coefficient v^0\n",
    "    V = numpy.roots([c3,c2,c1,c0])\n",
    "    Vl = min(V)\n",
    "    Vv = max(V)\n",
    "    #print(P, V) #if you uncomment this line you will see every iteration in the output section of this cell\n",
    "    return (P*(Vl-Vv) + (-a)*(1/(Vl)-1/(Vv))+T*(R*numpy.log((Vv-b)/(Vl-b))))"
   ]
  },
  {
   "cell_type": "markdown",
   "metadata": {},
   "source": [
    "what follows is similar to the work of Topliss et al.,:\n",
    "> Topliss, Robert J., Dimitrios Dimitrelis, and John M. Prausnitz. 1988. “Computational Aspects of a Non-Cubic Equation of State for Phase-Equilibrium Calculations. Effect of Density-Dependent Mixing Rules.” Computers & Chemical Engineering 12 (5): 483–89. doi:10.1016/0098-1354(88)85067-1.\n",
    "\n",
    "To calculate saturation pressure for a given T, first we isolate the range of pressure where fluid phase equilibria is feasible:\n",
    "That is the range of pressure where there are 3 valid roots of volume, remember the isotherms presented in notebook 2. The maximum and minimum pressure that presents 3 valid roots for volume we will call `P_upper_plateau` and `P_lower_plateau` respectively. "
   ]
  },
  {
   "cell_type": "markdown",
   "metadata": {},
   "source": [
    "> given\n",
    "> \n",
    "> $T$,\n",
    "> \n",
    "> find all possible\n",
    "> \n",
    "> $\\bar{V}^*$,\n",
    "> \n",
    "> so that\n",
    "> \n",
    "> $\\left(\\frac{\\partial P}{  \\partial \\bar{V}}\\right)_{T}=0$\n",
    "> \n",
    "> in\n",
    "> \n",
    "> $\\bar{V}^* \\in (b,\\infty)$.\n",
    "> \n",
    "> Then, find the corresponding\n",
    "> \n",
    "> $P^* = P(T,\\bar{V}^*)$."
   ]
  },
  {
   "cell_type": "markdown",
   "metadata": {},
   "source": [
    "Analytical development of the partial derivative yields\n",
    "\n",
    "$\\left(\\frac{\\partial P}{  \\partial \\bar{V}}\\right)_{T}=-\\frac{RT}{(\\bar{V}-b)^2} + \\frac{2a}{\\bar{V}^3}$"
   ]
  },
  {
   "cell_type": "markdown",
   "metadata": {},
   "source": [
    "therefore in the stationary points\n",
    "\n",
    "$-\\frac{RT}{(\\bar{V}-b)^2} + \\frac{2a}{\\bar{V}^3}=0$"
   ]
  },
  {
   "cell_type": "markdown",
   "metadata": {},
   "source": [
    "which represents another 3rd order in V polynomial (not the same from the problem of finding V given P and T)"
   ]
  },
  {
   "cell_type": "markdown",
   "metadata": {},
   "source": [
    "$-{RT}{\\bar{V}^3} + {2a}{(\\bar{V}-b)^2}=0$"
   ]
  },
  {
   "cell_type": "markdown",
   "metadata": {},
   "source": [
    "$-{RT}{\\bar{V}^3} + {2a}{(\\bar{V})^2}+{2a}{(b)^2}+{2a}{(-2\\bar{V}b)}=0$"
   ]
  },
  {
   "cell_type": "code",
   "execution_count": 13,
   "metadata": {
    "collapsed": false
   },
   "outputs": [
    {
     "name": "stdout",
     "output_type": "stream",
     "text": [
      "plateaus: [  2.33425728e-04   2.51661243e-05   1.42624090e-05]\n",
      "plateaus: [  2.33425728e-04   2.51661243e-05]\n",
      "Vli: 2.51661242908e-05\n",
      "Vvi: 0.000233425727852\n",
      "Psupi: 3888420.00342\n",
      "Pinfi: 1e-09\n"
     ]
    }
   ],
   "source": [
    "#calculate each coeffcient of the polynomial-in-V representation of dP/dV=0\n",
    "rho = R*T\n",
    "mu = 2*(-a)\n",
    "nu = - b*(a*(-4))\n",
    "omega=- 2*(b**2)*(a*(1))\n",
    "#and use the method \"roots\" from package \"numpy\" to calculate the roots of this polynomial and assing the solutions to the variable plateaus as an array\n",
    "plateaus = numpy.roots([rho,mu,nu,omega])\n",
    "print(\"plateaus:\", plateaus)\n",
    "\n",
    "#filter out values of plateu correspondign to non-physical volume (less than b or complex)\n",
    "plateaus = plateaus[ numpy.where( plateaus > b ) ] #using the numpy function 'where\n",
    "\n",
    "print(\"plateaus:\", plateaus)\n",
    "Vli = min(plateaus)\n",
    "Vvi = max(plateaus)\n",
    "\n",
    "#find the corrsponding values of pressure for each filtered volume\n",
    "Psup = R*T/(Vvi-b)-a/(Vvi*Vvi)\n",
    "Psupi=Psup*.999\n",
    "\n",
    "Pinf = R*T/(Vli-b)-a/(Vli*Vli)\n",
    "\n",
    "#note that the algorithm cannot work with pressure less than or equal to zero, therefore fix minimium pressure to slightly above zero if is resulted negative\n",
    "\n",
    "if Pinf > 0:\n",
    "    Pinfi = Pinf*1.001\n",
    "else:\n",
    "    Pinfi = 0.000000001\n",
    "\n",
    "print(\"Vli:\",Vli)\n",
    "print(\"Vvi:\",Vvi)\n",
    "print(\"Psupi:\",Psupi)\n",
    "print(\"Pinfi:\",Pinfi)"
   ]
  },
  {
   "cell_type": "markdown",
   "metadata": {},
   "source": [
    "now we must find the solution P\n",
    "we ask package optmize to use method bissect to solve the equilibrium criteria just defined\n"
   ]
  },
  {
   "cell_type": "code",
   "execution_count": 22,
   "metadata": {
    "collapsed": false,
    "scrolled": true
   },
   "outputs": [
    {
     "name": "stdout",
     "output_type": "stream",
     "text": [
      "Saturation pressure = [ 297561.1280524415 ] bar\n"
     ]
    }
   ],
   "source": [
    "P_sat = optimize.bisect(Delta_Residual_G, Pinfi, Psupi, xtol=1e-12, rtol=4.4408920985006262e-16, maxiter=100, full_output=True, disp=True)\n",
    "print(\"Saturation pressure = [\",str(psat[0]),\"] bar\")"
   ]
  },
  {
   "cell_type": "markdown",
   "metadata": {},
   "source": [
    "in the first element (index 0) of the returning array of `optmize.bisect` we read the value of the saturation pressure\n",
    "in the second element we read additional information about the execution of the numerical method"
   ]
  },
  {
   "cell_type": "code",
   "execution_count": 23,
   "metadata": {
    "collapsed": false
   },
   "outputs": [
    {
     "name": "stdout",
     "output_type": "stream",
     "text": [
      "      converged: True\n",
      "           flag: 'converged'\n",
      " function_calls: 50\n",
      "     iterations: 48\n",
      "           root: 297561.1280524415\n"
     ]
    }
   ],
   "source": [
    "print(P_sat[1])"
   ]
  },
  {
   "cell_type": "markdown",
   "metadata": {},
   "source": [
    "## Conclusion\n"
   ]
  },
  {
   "cell_type": "markdown",
   "metadata": {},
   "source": [
    "# External references\n",
    "scipy, optimize [documentation](http://docs.scipy.org/doc/scipy/reference/optimize.html)"
   ]
  },
  {
   "cell_type": "markdown",
   "metadata": {},
   "source": [
    "# Credits\n",
    "* Initially developed in python 2.7 by Guilherme Carneiro Queiroz da Silva\n",
    "* Adapted to ipynb with python 3.5 by Iuri Soter Viana Segtovich"
   ]
  }
 ],
 "metadata": {
  "anaconda-cloud": {},
  "kernelspec": {
   "display_name": "Python [Root]",
   "language": "python",
   "name": "Python [Root]"
  },
  "language_info": {
   "codemirror_mode": {
    "name": "ipython",
    "version": 3
   },
   "file_extension": ".py",
   "mimetype": "text/x-python",
   "name": "python",
   "nbconvert_exporter": "python",
   "pygments_lexer": "ipython3",
   "version": "3.5.2"
  }
 },
 "nbformat": 4,
 "nbformat_minor": 0
}
