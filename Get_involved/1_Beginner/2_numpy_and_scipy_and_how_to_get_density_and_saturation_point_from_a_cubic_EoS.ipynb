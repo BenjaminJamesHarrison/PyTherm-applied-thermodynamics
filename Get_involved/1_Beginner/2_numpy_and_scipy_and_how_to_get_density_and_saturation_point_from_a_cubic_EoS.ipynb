{
 "cells": [
  {
   "cell_type": "markdown",
   "metadata": {},
   "source": [
    "van der Waals's Equation of State\n",
    "==\n",
    "This notebook intends to present van der Waals's Equation of State([wikipedia](https://en.wikipedia.org/wiki/Van_der_Waals_equation),[nobel prize lecture](http://www.nobelprize.org/nobel_prizes/physics/laureates/1910/waals-lecture.pdf)), and to derive get density for given values of Pressure and Temperature."
   ]
  },
  {
   "cell_type": "code",
   "execution_count": 1,
   "metadata": {
    "collapsed": false
   },
   "outputs": [
    {
     "name": "stdout",
     "output_type": "stream",
     "text": [
      "Populating the interactive namespace from numpy and matplotlib\n"
     ]
    }
   ],
   "source": [
    "%pylab inline"
   ]
  },
  {
   "cell_type": "code",
   "execution_count": 2,
   "metadata": {
    "collapsed": false
   },
   "outputs": [],
   "source": [
    "import numpy as numpy\n",
    "from scipy import linalg as linalg\n",
    "from scipy import optimize as optimize"
   ]
  },
  {
   "cell_type": "code",
   "execution_count": 3,
   "metadata": {
    "collapsed": false
   },
   "outputs": [],
   "source": [
    "### input\n",
    "\n",
    "R = 0.08314\n",
    "\n",
    "#Selecao de equacqo de estado\n",
    "ede = 'PR'\n",
    "\n",
    "#Substancia\n",
    "subs='hexano'\n",
    "\n",
    "#Parametros de componente puro (K,bar)\n",
    "Tc = 507.5\n",
    "Pc = 30.1\n",
    "ac=0.299\n",
    "\n",
    "#Informe a temperatura para o calculo de Psat (K)\n",
    "T = 220.\n",
    "\n"
   ]
  },
  {
   "cell_type": "code",
   "execution_count": 4,
   "metadata": {
    "collapsed": false
   },
   "outputs": [
    {
     "name": "stdout",
     "output_type": "stream",
     "text": [
      "plateaus: [ 4.25591143 -0.10653629  0.14642616  0.09212116]\n",
      "Roots: [ 4.25591143  0.14642616]\n",
      "Vli: 0.14642616259\n",
      "Vvi: 4.25591142877\n",
      "Psupi: 2.09228234169\n",
      "Pinfi: 1e-09\n",
      "psat: 0.001735215064619947 bar\n"
     ]
    }
   ],
   "source": [
    "### Calculate Psat\n",
    "if ede=='SRK':\n",
    "    kappa=0.48508+1.55171*ac-0.15613*ac*ac\n",
    "    a=0.42748*R*R*Tc*Tc/Pc\n",
    "    teta=a*(1+kappa-kappa*(T/Tc)**0.5)**2\n",
    "    b=0.08664*R*Tc/Pc\n",
    "    sig = 0.\n",
    "    eps = 1.\n",
    "    dteta = -a*kappa*(-kappa+(1+kappa)*(T/Tc)**0.5)/Tc\n",
    "    def psia(V):\n",
    "        return (1/(b*(eps-sig)))*numpy.log((V+eps*b)/(V+sig*b))\n",
    "elif ede == 'PR':        \n",
    "    kappa = 0.37464+1.54226*ac-0.26992*ac*ac   \n",
    "    a = 0.45724*R*R*Tc*Tc/Pc\n",
    "    teta = a*(1.+kappa-kappa*(T/Tc)**0.5)**2 \n",
    "    b = 0.0778*R*Tc/Pc\n",
    "    sig = 1. + 2**0.5\n",
    "    eps = 1. - 2**0.5\n",
    "    dteta = kappa*(-kappa+(1+kappa)*(T/Tc)**0.5)*-a/Tc\n",
    "    def psia(V):\n",
    "        return (1/(b*(eps-sig)))*numpy.log((V+eps*b)/(V+sig*b))\n",
    "\n",
    "rho = R*T\n",
    "mu = 2*(b*R*T*(eps+sig)-teta)\n",
    "nu = R*T*(b**2)*(4*sig*eps+eps*eps+sig*sig) - b*(teta*(eps+sig-4))\n",
    "omega=2*(b**3)*R*T*(sig*eps*eps+eps*sig*sig)- 2*(b**2)*(teta*(1-sig-eps))\n",
    "zeta = R*T*(b**4)*sig*sig*eps*eps-teta*(b**3)*(eps+sig)\n",
    "\n",
    "plateaus = numpy.roots([rho,mu,nu,omega,zeta])\n",
    "\n",
    "print(\"plateaus:\", plateaus)\n",
    "\n",
    "\n",
    "raizes = plateaus[ numpy.where( plateaus > b ) ]\n",
    "\n",
    "\n",
    "print(\"Roots:\", raizes)\n",
    "\n",
    "Vli = min(raizes)\n",
    "Vvi = max(raizes)\n",
    "\n",
    "Psupi = R*T/(Vvi-b)-teta/((Vvi+sig*b)*(Vvi+eps*b))-0.000000001\n",
    "Pinf = R*T/(Vli-b)-teta/((Vli+sig*b)*(Vli+eps*b))\n",
    "\n",
    "if Pinf > 0:\n",
    "    Pinfi = Pinf+0.000000001\n",
    "else:\n",
    "    Pinfi = 0   +0.000000001\n",
    "\n",
    "print(\"Vli:\",Vli)\n",
    "print(\"Vvi:\",Vvi)\n",
    "print(\"Psupi:\",Psupi)\n",
    "print(\"Pinfi:\",Pinfi)     \n",
    "\n",
    "def fps(P):\n",
    "    alfa = (sig+eps-1)*b-R*T/P\n",
    "    beta = sig*eps*b**2-(b+R*T/P)*(sig+eps)*b + teta/P\n",
    "    gamma = -(b+R*T/P)*(sig*eps*b**2)-b*teta/P\n",
    "    V = numpy.roots([1,alfa,beta,gamma])\n",
    "    Vl = min(V)\n",
    "    Vv = max(V)\n",
    "    return (P*(Vl-Vv) + (T*dteta-teta)*(psia(Vl)-psia(Vv))+T*(R*numpy.log((Vv-b)/(Vl-b))+dteta*(psia(Vv)-psia(Vl))))/(R*T)\n",
    "\n",
    "psat = optimize.bisect(fps, Pinfi, Psupi, xtol=1e-12, rtol=4.4408920985006262e-16, maxiter=100, full_output=True, disp=True)\n",
    "\n",
    "print(\"psat:\",str(psat[0]) + ' bar')\n",
    "\n"
   ]
  },
  {
   "cell_type": "markdown",
   "metadata": {},
   "source": [
    "# External references\n",
    "scipy, optimize [documentation](http://docs.scipy.org/doc/scipy/reference/optimize.html)"
   ]
  },
  {
   "cell_type": "markdown",
   "metadata": {},
   "source": [
    "# Credits\n",
    "* Initially developed in python 2.7 by Guilherme Carneiro Queiroz da Silva\n",
    "* Adapted to ipynb with python 3.5 by Iuri Soter Viana Segtovich"
   ]
  }
 ],
 "metadata": {
  "anaconda-cloud": {},
  "kernelspec": {
   "display_name": "Python [Root]",
   "language": "python",
   "name": "Python [Root]"
  },
  "language_info": {
   "codemirror_mode": {
    "name": "ipython",
    "version": 3
   },
   "file_extension": ".py",
   "mimetype": "text/x-python",
   "name": "python",
   "nbconvert_exporter": "python",
   "pygments_lexer": "ipython3",
   "version": "3.5.2"
  }
 },
 "nbformat": 4,
 "nbformat_minor": 0
}
