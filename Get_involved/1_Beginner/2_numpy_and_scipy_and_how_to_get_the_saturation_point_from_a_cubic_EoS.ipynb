{
 "cells": [
  {
   "cell_type": "markdown",
   "metadata": {},
   "source": [
    "numpy and scipy and how to get the saturation point from a cubic EoS\n",
    "==\n",
    "This notebook intends to present van der Waals's Equation of State([wikipedia](https://en.wikipedia.org/wiki/Van_der_Waals_equation),[nobel prize lecture](http://www.nobelprize.org/nobel_prizes/physics/laureates/1910/waals-lecture.pdf)), and to derive get density for given values of Pressure and Temperature.\n",
    "\n",
    "> **Here you will meet the following topics:**\n",
    ">- Thermodynamics: `equation of state`, `density`,  `saturation point`\n",
    ">- Python: `packages`, `numpy`, `scipy`"
   ]
  },
  {
   "cell_type": "markdown",
   "metadata": {
    "collapsed": false
   },
   "source": [
    "Here we will use some resources of the packages numpy and scipy"
   ]
  },
  {
   "cell_type": "markdown",
   "metadata": {},
   "source": [
    "To import a module into our notebook we use the following syntax:"
   ]
  },
  {
   "cell_type": "code",
   "execution_count": 1,
   "metadata": {
    "collapsed": true
   },
   "outputs": [],
   "source": [
    "import numpy as numpy #this line imports the module numpy\n",
    "#keyword import\n",
    "       #name of the module\n",
    "             #keyword \"as\"\n",
    "                #alias name"
   ]
  },
  {
   "cell_type": "markdown",
   "metadata": {},
   "source": [
    "the following slightly different syntax works similarly:"
   ]
  },
  {
   "cell_type": "code",
   "execution_count": 2,
   "metadata": {
    "collapsed": true
   },
   "outputs": [],
   "source": [
    "from scipy import optimize as optimize\n",
    "#keyword \"from\"\n",
    "     #name of the parent module\n",
    "           #keyword \"import\"\n",
    "                  #name of the desired subpackage\n",
    "                           #keyword \"as\"\n",
    "                              #alias name"
   ]
  },
  {
   "cell_type": "markdown",
   "metadata": {},
   "source": [
    "to use some function of this module we have to write 'alias name'.'function name'\n",
    "as an example we will see below:\n",
    "numpy.roots, numpy.log, numpy.where, optimize.bissect"
   ]
  },
  {
   "cell_type": "markdown",
   "metadata": {},
   "source": [
    "Supose you have to solve the following problem in a thermodynamics course:\n",
    ">\"Calculate saturation pressure for pure hexane at temperature of 220 K according to Peng-Robinson equation of state\"\n",
    "\n",
    "We will show how here to implement a function to calculate density of a pure fluid at given T and P; how calculate its fugacity coefficnient at that condition, and how to find saturaton pressure at given temperature, to according to Peng-Robinson equation of state."
   ]
  },
  {
   "cell_type": "markdown",
   "metadata": {},
   "source": [
    "Here we start by assigning value to some thermodynamic variables"
   ]
  },
  {
   "cell_type": "code",
   "execution_count": 3,
   "metadata": {
    "collapsed": false
   },
   "outputs": [],
   "source": [
    "#universal gas constant\n",
    "R = 0.08314 #CHECK UNITS\n",
    "\n",
    "#pure component critical parameters\n",
    "## Tc (K)\n",
    "Tc = 507.5\n",
    "\n",
    "## Pc (bar)\n",
    "Pc = 30.1\n",
    "\n",
    "##accentric factor\n",
    "ac=0.299"
   ]
  },
  {
   "cell_type": "code",
   "execution_count": 4,
   "metadata": {
    "collapsed": true
   },
   "outputs": [],
   "source": [
    "#calculate saturation pressure at what temperature?\n",
    "T = 220."
   ]
  },
  {
   "cell_type": "markdown",
   "metadata": {},
   "source": [
    "[ ] Write references"
   ]
  },
  {
   "cell_type": "code",
   "execution_count": 7,
   "metadata": {
    "collapsed": false
   },
   "outputs": [
    {
     "name": "stdout",
     "output_type": "stream",
     "text": [
      "plateaus: [ 4.25591143 -0.10653629  0.14642616  0.09212116]\n",
      "plateaus: [ 4.25591143  0.14642616]\n",
      "Vli: 0.14642616259\n",
      "Vvi: 4.25591142877\n",
      "Psupi: 2.09228234169\n",
      "Pinfi: 1e-09\n",
      "Saturation pressure = [ 0.001735215064619947 ] bar\n"
     ]
    }
   ],
   "source": [
    "### Calculate Psat using the algorith from\n",
    "\n",
    "#[ ] Write relevant equation in mathjax format\n",
    "\n",
    "#calculate the coeficients of the EoS from the critical properties\n",
    "kappa = 0.37464+1.54226*ac-0.26992*ac*ac   \n",
    "a = 0.45724*R*R*Tc*Tc/Pc\n",
    "teta = a*(1.+kappa-kappa*(T/Tc)**0.5)**2 \n",
    "b = 0.0778*R*Tc/Pc\n",
    "sig = 1. + 2**0.5\n",
    "eps = 1. - 2**0.5\n",
    "dteta = kappa*(-kappa+(1+kappa)*(T/Tc)**0.5)*-a/Tc\n",
    "\n",
    "#[ ] write dP/dV=0 in mathjax\n",
    "#[ ] write polynomial-in-V representation of dP/dV=0 in mathjax\n",
    "\n",
    "#calculate each coeffcient of the polynomial-in-V representation of dP/dV=0\n",
    "rho = R*T\n",
    "mu = 2*(b*R*T*(eps+sig)-teta)\n",
    "nu = R*T*(b**2)*(4*sig*eps+eps*eps+sig*sig) - b*(teta*(eps+sig-4))\n",
    "omega=2*(b**3)*R*T*(sig*eps*eps+eps*sig*sig)- 2*(b**2)*(teta*(1-sig-eps))\n",
    "zeta = R*T*(b**4)*sig*sig*eps*eps-teta*(b**3)*(eps+sig)\n",
    "\n",
    "#use the method \"roots\" from package \"numpy\" to calculate the roots of tyhe polynomial and assing the solutions to the variable plateaus as an array\n",
    "plateaus = numpy.roots([rho,mu,nu,omega,zeta])\n",
    "\n",
    "print(\"plateaus:\", plateaus)\n",
    "\n",
    "\n",
    "#filter out values of plateu correspondign to non-physical volume (less than b)\n",
    "\n",
    "plateaus = plateaus[ numpy.where( plateaus > b ) ]\n",
    "\n",
    "print(\"plateaus:\", plateaus)\n",
    "\n",
    "Vli = min(plateaus)\n",
    "Vvi = max(plateaus)\n",
    "\n",
    "#find the corrsponding values of pressure for each filtered volume\n",
    "\n",
    "Psupi = R*T/(Vvi-b)-teta/((Vvi+sig*b)*(Vvi+eps*b))-0.000000001\n",
    "Pinf = R*T/(Vli-b)-teta/((Vli+sig*b)*(Vli+eps*b))\n",
    "\n",
    "#note that the algorithm cannot work with pressure less than or equal to zero, therefore fix minimium pressure to slightly above zero if is resulted negative\n",
    "\n",
    "if Pinf > 0:\n",
    "    Pinfi = Pinf+0.000000001\n",
    "else:\n",
    "    Pinfi = 0   +0.000000001\n",
    "\n",
    "print(\"Vli:\",Vli)\n",
    "print(\"Vvi:\",Vvi)\n",
    "print(\"Psupi:\",Psupi)\n",
    "print(\"Pinfi:\",Pinfi)     \n",
    "\n",
    "#[ ] write reference to this equaiton in mathjax\n",
    "\n",
    "#define function for usage internal to the algorith\n",
    "def psia(V):\n",
    "    return (1/(b*(eps-sig)))*numpy.log((V+eps*b)/(V+sig*b))\n",
    "\n",
    "#[ ] write reference to this equaiton in mathjax\n",
    "\n",
    "#define equilibrium criteria\n",
    "def fps(P):\n",
    "    alfa = (sig+eps-1)*b-R*T/P\n",
    "    beta = sig*eps*b**2-(b+R*T/P)*(sig+eps)*b + teta/P\n",
    "    gamma = -(b+R*T/P)*(sig*eps*b**2)-b*teta/P\n",
    "    V = numpy.roots([1,alfa,beta,gamma])\n",
    "    Vl = min(V)\n",
    "    Vv = max(V)\n",
    "    return (P*(Vl-Vv) + (T*dteta-teta)*(psia(Vl)-psia(Vv))+T*(R*numpy.log((Vv-b)/(Vl-b))+dteta*(psia(Vv)-psia(Vl))))/(R*T)\n",
    "\n",
    "#ask package optmize to use method bissect to solve the equilibrium criteria just defined\n",
    "\n",
    "psat = optimize.bisect(fps, Pinfi, Psupi, xtol=1e-12, rtol=4.4408920985006262e-16, maxiter=100, full_output=True, disp=True)\n",
    "\n",
    "print(\"Saturation pressure = [\",str(psat[0]),\"] bar\")\n",
    "\n"
   ]
  },
  {
   "cell_type": "markdown",
   "metadata": {},
   "source": [
    "# External references\n",
    "scipy, optimize [documentation](http://docs.scipy.org/doc/scipy/reference/optimize.html)"
   ]
  },
  {
   "cell_type": "markdown",
   "metadata": {},
   "source": [
    "# Credits\n",
    "* Initially developed in python 2.7 by Guilherme Carneiro Queiroz da Silva\n",
    "* Adapted to ipynb with python 3.5 by Iuri Soter Viana Segtovich"
   ]
  }
 ],
 "metadata": {
  "anaconda-cloud": {},
  "kernelspec": {
   "display_name": "Python [Root]",
   "language": "python",
   "name": "Python [Root]"
  },
  "language_info": {
   "codemirror_mode": {
    "name": "ipython",
    "version": 3
   },
   "file_extension": ".py",
   "mimetype": "text/x-python",
   "name": "python",
   "nbconvert_exporter": "python",
   "pygments_lexer": "ipython3",
   "version": "3.5.2"
  }
 },
 "nbformat": 4,
 "nbformat_minor": 0
}
