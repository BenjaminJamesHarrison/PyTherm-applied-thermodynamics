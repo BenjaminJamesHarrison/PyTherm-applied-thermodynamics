{
 "cells": [
  {
   "cell_type": "markdown",
   "metadata": {},
   "source": [
    "van der Waals's Equation of State\n",
    "==\n",
    "This notebook intends to present van der Waals's Equation of State([wikipedia](https://en.wikipedia.org/wiki/Van_der_Waals_equation),[nobel prize lecture](http://www.nobelprize.org/nobel_prizes/physics/laureates/1910/waals-lecture.pdf)), and to derive some fundamental thermodynamic properties from that, according to the rules of calculus of classical thermodynamics relations ([Tester,Model,1997](http://www.isbnsearch.org/isbn/9780139153563),[Michelsen, Mollerup, 2007](http://www.forskningsdatabasen.dk/en/catalog/108130984))."
   ]
  },
  {
   "cell_type": "code",
   "execution_count": 1,
   "metadata": {
    "collapsed": false
   },
   "outputs": [
    {
     "name": "stdout",
     "output_type": "stream",
     "text": [
      "Populating the interactive namespace from numpy and matplotlib\n"
     ]
    }
   ],
   "source": [
    "%pylab inline"
   ]
  },
  {
   "cell_type": "code",
   "execution_count": 2,
   "metadata": {
    "collapsed": true
   },
   "outputs": [],
   "source": [
    "from sympy import Function, symbols, Derivative, ln, init_printing, lambdify"
   ]
  },
  {
   "cell_type": "code",
   "execution_count": 3,
   "metadata": {
    "collapsed": true
   },
   "outputs": [],
   "source": [
    "init_printing()"
   ]
  },
  {
   "cell_type": "code",
   "execution_count": 4,
   "metadata": {
    "collapsed": true
   },
   "outputs": [],
   "source": [
    "n_i,R,T,V,sqrt2=symbols(\"n_i,R,T,V,sqrt2\")"
   ]
  },
  {
   "cell_type": "code",
   "execution_count": 5,
   "metadata": {
    "collapsed": true
   },
   "outputs": [],
   "source": [
    "a = Function(\"a\")(n_i)\n",
    "b = Function(\"b\")(n_i)\n",
    "n = Function(\"n\")(n_i)"
   ]
  },
  {
   "cell_type": "code",
   "execution_count": 6,
   "metadata": {
    "collapsed": true
   },
   "outputs": [],
   "source": [
    "A=n*R*T*ln((V)/(V-b))+((a)/(2*sqrt2*b))*(ln((V+b-sqrt2*b)/(V+b+sqrt2*b)))"
   ]
  },
  {
   "cell_type": "code",
   "execution_count": 7,
   "metadata": {
    "collapsed": false
   },
   "outputs": [],
   "source": [
    "sympy_PHI = Derivative(A,n_i,evaluate=True)"
   ]
  },
  {
   "cell_type": "code",
   "execution_count": 8,
   "metadata": {
    "collapsed": false
   },
   "outputs": [
    {
     "data": {
      "image/png": "[encoded data removed]",
      "text/latex": [
       "$$R T \\log{\\left (\\frac{V}{V - b{\\left (n_{i} \\right )}} \\right )} \\frac{d}{d n_{i}} n{\\left (n_{i} \\right )} + \\frac{R T n{\\left (n_{i} \\right )} \\frac{d}{d n_{i}} b{\\left (n_{i} \\right )}}{V - b{\\left (n_{i} \\right )}} + \\frac{a{\\left (n_{i} \\right )}}{2 sqrt_{2} \\left(V - sqrt_{2} b{\\left (n_{i} \\right )} + b{\\left (n_{i} \\right )}\\right) b{\\left (n_{i} \\right )}} \\left(\\frac{1}{\\left(V + sqrt_{2} b{\\left (n_{i} \\right )} + b{\\left (n_{i} \\right )}\\right)^{2}} \\left(- sqrt_{2} \\frac{d}{d n_{i}} b{\\left (n_{i} \\right )} - \\frac{d}{d n_{i}} b{\\left (n_{i} \\right )}\\right) \\left(V - sqrt_{2} b{\\left (n_{i} \\right )} + b{\\left (n_{i} \\right )}\\right) + \\frac{- sqrt_{2} \\frac{d}{d n_{i}} b{\\left (n_{i} \\right )} + \\frac{d}{d n_{i}} b{\\left (n_{i} \\right )}}{V + sqrt_{2} b{\\left (n_{i} \\right )} + b{\\left (n_{i} \\right )}}\\right) \\left(V + sqrt_{2} b{\\left (n_{i} \\right )} + b{\\left (n_{i} \\right )}\\right) - \\frac{a{\\left (n_{i} \\right )} \\frac{d}{d n_{i}} b{\\left (n_{i} \\right )}}{2 sqrt_{2} b^{2}{\\left (n_{i} \\right )}} \\log{\\left (\\frac{V - sqrt_{2} b{\\left (n_{i} \\right )} + b{\\left (n_{i} \\right )}}{V + sqrt_{2} b{\\left (n_{i} \\right )} + b{\\left (n_{i} \\right )}} \\right )} + \\frac{\\frac{d}{d n_{i}} a{\\left (n_{i} \\right )}}{2 sqrt_{2} b{\\left (n_{i} \\right )}} \\log{\\left (\\frac{V - sqrt_{2} b{\\left (n_{i} \\right )} + b{\\left (n_{i} \\right )}}{V + sqrt_{2} b{\\left (n_{i} \\right )} + b{\\left (n_{i} \\right )}} \\right )}$$"
      ],
      "text/plain": [
       "                                                       ⎛⎛         d           \n",
       "                                                       ⎜⎜- sqrt₂⋅───(b(nᵢ)) - \n",
       "                                                       ⎜⎝        dnᵢ          \n",
       "                                           d           ⎜──────────────────────\n",
       "                                R⋅T⋅n(nᵢ)⋅───(b(nᵢ))   ⎜                      \n",
       "       ⎛    V    ⎞  d                     dnᵢ          ⎝                 (V + \n",
       "R⋅T⋅log⎜─────────⎟⋅───(n(nᵢ)) + ──────────────────── + ───────────────────────\n",
       "       ⎝V - b(nᵢ)⎠ dnᵢ               V - b(nᵢ)                                \n",
       "                                                                              \n",
       "\n",
       " d        ⎞                                      d            d        ⎞      \n",
       "───(b(nᵢ))⎟⋅(V - sqrt₂⋅b(nᵢ) + b(nᵢ))   - sqrt₂⋅───(b(nᵢ)) + ───(b(nᵢ))⎟      \n",
       "dnᵢ       ⎠                                     dnᵢ          dnᵢ       ⎟      \n",
       "───────────────────────────────────── + ───────────────────────────────⎟⋅(V + \n",
       "                    2                       V + sqrt₂⋅b(nᵢ) + b(nᵢ)    ⎟      \n",
       "sqrt₂⋅b(nᵢ) + b(nᵢ))                                                   ⎠      \n",
       "──────────────────────────────────────────────────────────────────────────────\n",
       "                     2⋅sqrt₂⋅(V - sqrt₂⋅b(nᵢ) + b(nᵢ))⋅b(nᵢ)                  \n",
       "                                                                              \n",
       "\n",
       "                                                                              \n",
       "                                                                              \n",
       "                                                                              \n",
       "sqrt₂⋅b(nᵢ) + b(nᵢ))⋅a(nᵢ)            ⎛V - sqrt₂⋅b(nᵢ) + b(nᵢ)⎞  d            \n",
       "                             a(nᵢ)⋅log⎜───────────────────────⎟⋅───(b(nᵢ))   l\n",
       "                                      ⎝V + sqrt₂⋅b(nᵢ) + b(nᵢ)⎠ dnᵢ           \n",
       "────────────────────────── - ───────────────────────────────────────────── + ─\n",
       "                                                      2                       \n",
       "                                             2⋅sqrt₂⋅b (nᵢ)                   \n",
       "\n",
       "                                      \n",
       "                                      \n",
       "                                      \n",
       "  ⎛V - sqrt₂⋅b(nᵢ) + b(nᵢ)⎞  d        \n",
       "og⎜───────────────────────⎟⋅───(a(nᵢ))\n",
       "  ⎝V + sqrt₂⋅b(nᵢ) + b(nᵢ)⎠ dnᵢ       \n",
       "──────────────────────────────────────\n",
       "            2⋅sqrt₂⋅b(nᵢ)             \n",
       "                                      "
      ]
     },
     "execution_count": 8,
     "metadata": {},
     "output_type": "execute_result"
    }
   ],
   "source": [
    "sympy_PHI #auto formatted print"
   ]
  },
  {
   "cell_type": "code",
   "execution_count": 9,
   "metadata": {
    "collapsed": false
   },
   "outputs": [
    {
     "name": "stdout",
     "output_type": "stream",
     "text": [
      "R*T*log(V/(V - b(n_i)))*Derivative(n(n_i), n_i) + R*T*n(n_i)*Derivative(b(n_i), n_i)/(V - b(n_i)) + ((-sqrt2*Derivative(b(n_i), n_i) - Derivative(b(n_i), n_i))*(V - sqrt2*b(n_i) + b(n_i))/(V + sqrt2*b(n_i) + b(n_i))**2 + (-sqrt2*Derivative(b(n_i), n_i) + Derivative(b(n_i), n_i))/(V + sqrt2*b(n_i) + b(n_i)))*(V + sqrt2*b(n_i) + b(n_i))*a(n_i)/(2*sqrt2*(V - sqrt2*b(n_i) + b(n_i))*b(n_i)) - a(n_i)*log((V - sqrt2*b(n_i) + b(n_i))/(V + sqrt2*b(n_i) + b(n_i)))*Derivative(b(n_i), n_i)/(2*sqrt2*b(n_i)**2) + log((V - sqrt2*b(n_i) + b(n_i))/(V + sqrt2*b(n_i) + b(n_i)))*Derivative(a(n_i), n_i)/(2*sqrt2*b(n_i))\n"
     ]
    }
   ],
   "source": [
    "print(sympy_PHI)"
   ]
  },
  {
   "cell_type": "code",
   "execution_count": 10,
   "metadata": {
    "collapsed": false
   },
   "outputs": [
    {
     "data": {
      "image/png": "[encoded data removed]",
      "text/latex": [
       "$$\\frac{R T b_{partial state} n{\\left (n_{i} \\right )}}{V - b{\\left (n_{i} \\right )}} + R T n_{partial state} \\log{\\left (\\frac{V}{V - b{\\left (n_{i} \\right )}} \\right )} + \\frac{a_{partial state}}{2 sqrt_{2} b{\\left (n_{i} \\right )}} \\log{\\left (\\frac{V - sqrt_{2} b{\\left (n_{i} \\right )} + b{\\left (n_{i} \\right )}}{V + sqrt_{2} b{\\left (n_{i} \\right )} + b{\\left (n_{i} \\right )}} \\right )} - \\frac{b_{partial state} a{\\left (n_{i} \\right )}}{2 sqrt_{2} b^{2}{\\left (n_{i} \\right )}} \\log{\\left (\\frac{V - sqrt_{2} b{\\left (n_{i} \\right )} + b{\\left (n_{i} \\right )}}{V + sqrt_{2} b{\\left (n_{i} \\right )} + b{\\left (n_{i} \\right )}} \\right )} + \\frac{a{\\left (n_{i} \\right )}}{2 sqrt_{2} \\left(V - sqrt_{2} b{\\left (n_{i} \\right )} + b{\\left (n_{i} \\right )}\\right) b{\\left (n_{i} \\right )}} \\left(\\frac{\\left(- b_{partial state} sqrt_{2} - b_{partial state}\\right) \\left(V - sqrt_{2} b{\\left (n_{i} \\right )} + b{\\left (n_{i} \\right )}\\right)}{\\left(V + sqrt_{2} b{\\left (n_{i} \\right )} + b{\\left (n_{i} \\right )}\\right)^{2}} + \\frac{- b_{partial state} sqrt_{2} + b_{partial state}}{V + sqrt_{2} b{\\left (n_{i} \\right )} + b{\\left (n_{i} \\right )}}\\right) \\left(V + sqrt_{2} b{\\left (n_{i} \\right )} + b{\\left (n_{i} \\right )}\\right)$$"
      ],
      "text/plain": [
       "                                                                              \n",
       "                                                                              \n",
       "                                                               aₚₐᵣₜᵢₐₗ ₛₜₐₜₑ⋅\n",
       "R⋅T⋅bₚₐᵣₜᵢₐₗ ₛₜₐₜₑ⋅n(nᵢ)                         ⎛    V    ⎞                  \n",
       "──────────────────────── + R⋅T⋅nₚₐᵣₜᵢₐₗ ₛₜₐₜₑ⋅log⎜─────────⎟ + ───────────────\n",
       "       V - b(nᵢ)                                 ⎝V - b(nᵢ)⎠                  \n",
       "                                                                              \n",
       "\n",
       "                                                                              \n",
       "   ⎛V - sqrt₂⋅b(nᵢ) + b(nᵢ)⎞                           ⎛V - sqrt₂⋅b(nᵢ) + b(nᵢ\n",
       "log⎜───────────────────────⎟   bₚₐᵣₜᵢₐₗ ₛₜₐₜₑ⋅a(nᵢ)⋅log⎜──────────────────────\n",
       "   ⎝V + sqrt₂⋅b(nᵢ) + b(nᵢ)⎠                           ⎝V + sqrt₂⋅b(nᵢ) + b(nᵢ\n",
       "──────────────────────────── - ───────────────────────────────────────────────\n",
       "2⋅sqrt₂⋅b(nᵢ)                                             2                   \n",
       "                                                 2⋅sqrt₂⋅b (nᵢ)               \n",
       "\n",
       "     ⎛(-bₚₐᵣₜᵢₐₗ ₛₜₐₜₑ⋅sqrt₂ - bₚₐᵣₜᵢₐₗ ₛₜₐₜₑ)⋅(V - sqrt₂⋅b(nᵢ) + b(nᵢ))   -bₚ\n",
       ")⎞   ⎜────────────────────────────────────────────────────────────────── + ───\n",
       "─⎟   ⎜                                             2                          \n",
       ")⎠   ⎝                    (V + sqrt₂⋅b(nᵢ) + b(nᵢ))                           \n",
       "── + ─────────────────────────────────────────────────────────────────────────\n",
       "                                                        2⋅sqrt₂⋅(V - sqrt₂⋅b(n\n",
       "                                                                              \n",
       "\n",
       "ₐᵣₜᵢₐₗ ₛₜₐₜₑ⋅sqrt₂ + bₚₐᵣₜᵢₐₗ ₛₜₐₜₑ⎞                                \n",
       "───────────────────────────────────⎟⋅(V + sqrt₂⋅b(nᵢ) + b(nᵢ))⋅a(nᵢ)\n",
       "    V + sqrt₂⋅b(nᵢ) + b(nᵢ)        ⎟                                \n",
       "                                   ⎠                                \n",
       "────────────────────────────────────────────────────────────────────\n",
       "ᵢ) + b(nᵢ))⋅b(nᵢ)                                                   \n",
       "                                                                    "
      ]
     },
     "execution_count": 10,
     "metadata": {},
     "output_type": "execute_result"
    }
   ],
   "source": [
    "#a_partial = symbols('Derivative(a(n_i), n_i)')\n",
    "#b_partial = symbols('Derivative(b(n_i), n_i)')\n",
    "#n_partial = symbols('Derivative(n(n_i), n_i)')\n",
    "\n",
    "a_state = symbols('a_state')\n",
    "b_state = symbols('b_state')\n",
    "n_state = symbols('n_state')\n",
    "a_partial_state = symbols('a_partial_state')\n",
    "b_partial_state = symbols('b_partial_state')\n",
    "n_partial_state = symbols('n_partial_state')\n",
    "\n",
    "sympy_PHI = sympy_PHI.subs('Derivative(a(n_i), n_i)', a_partial_state)\n",
    "sympy_PHI = sympy_PHI.subs('Derivative(b(n_i), n_i)', b_partial_state)\n",
    "sympy_PHI = sympy_PHI.subs('Derivative(n(n_i), n_i)', n_partial_state)\n",
    "\n",
    "sympy_PHI"
   ]
  },
  {
   "cell_type": "code",
   "execution_count": 11,
   "metadata": {
    "collapsed": false
   },
   "outputs": [
    {
     "data": {
      "image/png": "[encoded data removed]",
      "text/latex": [
       "$$\\frac{R T b_{partial state} n_{state}}{V - b_{state}} + R T n_{partial state} \\log{\\left (\\frac{V}{V - b_{state}} \\right )} + \\frac{a_{partial state}}{2 b_{state} sqrt_{2}} \\log{\\left (\\frac{V - b_{state} sqrt_{2} + b_{state}}{V + b_{state} sqrt_{2} + b_{state}} \\right )} - \\frac{a_{state} b_{partial state}}{2 b_{state}^{2} sqrt_{2}} \\log{\\left (\\frac{V - b_{state} sqrt_{2} + b_{state}}{V + b_{state} sqrt_{2} + b_{state}} \\right )} + \\frac{a_{state}}{2 b_{state} sqrt_{2} \\left(V - b_{state} sqrt_{2} + b_{state}\\right)} \\left(\\frac{1}{\\left(V + b_{state} sqrt_{2} + b_{state}\\right)^{2}} \\left(- b_{partial state} sqrt_{2} - b_{partial state}\\right) \\left(V - b_{state} sqrt_{2} + b_{state}\\right) + \\frac{- b_{partial state} sqrt_{2} + b_{partial state}}{V + b_{state} sqrt_{2} + b_{state}}\\right) \\left(V + b_{state} sqrt_{2} + b_{state}\\right)$$"
      ],
      "text/plain": [
       "                                                                              \n",
       "                                                                              \n",
       "                                                                 aₚₐᵣₜᵢₐₗ ₛₜₐₜ\n",
       "R⋅T⋅bₚₐᵣₜᵢₐₗ ₛₜₐₜₑ⋅nₛₜₐₜₑ                         ⎛    V     ⎞                \n",
       "───────────────────────── + R⋅T⋅nₚₐᵣₜᵢₐₗ ₛₜₐₜₑ⋅log⎜──────────⎟ + ─────────────\n",
       "        V - bₛₜₐₜₑ                                ⎝V - bₛₜₐₜₑ⎠                \n",
       "                                                                              \n",
       "\n",
       "                                                                              \n",
       "     ⎛V - bₛₜₐₜₑ⋅sqrt₂ + bₛₜₐₜₑ⎞                            ⎛V - bₛₜₐₜₑ⋅sqrt₂ \n",
       "ₑ⋅log⎜─────────────────────────⎟   aₛₜₐₜₑ⋅bₚₐᵣₜᵢₐₗ ₛₜₐₜₑ⋅log⎜─────────────────\n",
       "     ⎝V + bₛₜₐₜₑ⋅sqrt₂ + bₛₜₐₜₑ⎠                            ⎝V + bₛₜₐₜₑ⋅sqrt₂ \n",
       "──────────────────────────────── - ───────────────────────────────────────────\n",
       "   2⋅bₛₜₐₜₑ⋅sqrt₂                                            2                \n",
       "                                                     2⋅bₛₜₐₜₑ ⋅sqrt₂          \n",
       "\n",
       "                   ⎛(-bₚₐᵣₜᵢₐₗ ₛₜₐₜₑ⋅sqrt₂ - bₚₐᵣₜᵢₐₗ ₛₜₐₜₑ)⋅(V - bₛₜₐₜₑ⋅sqrt₂\n",
       "+ bₛₜₐₜₑ⎞   aₛₜₐₜₑ⋅⎜──────────────────────────────────────────────────────────\n",
       "────────⎟          ⎜                                               2          \n",
       "+ bₛₜₐₜₑ⎠          ⎝                    (V + bₛₜₐₜₑ⋅sqrt₂ + bₛₜₐₜₑ)           \n",
       "───────── + ──────────────────────────────────────────────────────────────────\n",
       "                                                                2⋅bₛₜₐₜₑ⋅sqrt₂\n",
       "                                                                              \n",
       "\n",
       " + bₛₜₐₜₑ)   -bₚₐᵣₜᵢₐₗ ₛₜₐₜₑ⋅sqrt₂ + bₚₐᵣₜᵢₐₗ ₛₜₐₜₑ⎞                          \n",
       "────────── + ──────────────────────────────────────⎟⋅(V + bₛₜₐₜₑ⋅sqrt₂ + bₛₜₐₜ\n",
       "                   V + bₛₜₐₜₑ⋅sqrt₂ + bₛₜₐₜₑ       ⎟                          \n",
       "                                                   ⎠                          \n",
       "──────────────────────────────────────────────────────────────────────────────\n",
       "⋅(V - bₛₜₐₜₑ⋅sqrt₂ + bₛₜₐₜₑ)                                                  \n",
       "                                                                              \n",
       "\n",
       "  \n",
       "ₑ)\n",
       "  \n",
       "  \n",
       "──\n",
       "  \n",
       "  "
      ]
     },
     "execution_count": 11,
     "metadata": {},
     "output_type": "execute_result"
    }
   ],
   "source": [
    "sympy_PHI = sympy_PHI.subs(a, a_state)\n",
    "sympy_PHI = sympy_PHI.subs(b, b_state)\n",
    "sympy_PHI = sympy_PHI.subs(n, n_state)\n",
    "\n",
    "sympy_PHI"
   ]
  },
  {
   "cell_type": "code",
   "execution_count": 12,
   "metadata": {
    "collapsed": false
   },
   "outputs": [
    {
     "name": "stdout",
     "output_type": "stream",
     "text": [
      "R*T*b_partial_state*n_state/(V - b_state) + R*T*n_partial_state*log(V/(V - b_state)) + a_partial_state*log((V - b_state*sqrt2 + b_state)/(V + b_state*sqrt2 + b_state))/(2*b_state*sqrt2) - a_state*b_partial_state*log((V - b_state*sqrt2 + b_state)/(V + b_state*sqrt2 + b_state))/(2*b_state**2*sqrt2) + a_state*((-b_partial_state*sqrt2 - b_partial_state)*(V - b_state*sqrt2 + b_state)/(V + b_state*sqrt2 + b_state)**2 + (-b_partial_state*sqrt2 + b_partial_state)/(V + b_state*sqrt2 + b_state))*(V + b_state*sqrt2 + b_state)/(2*b_state*sqrt2*(V - b_state*sqrt2 + b_state))\n"
     ]
    }
   ],
   "source": [
    "print(sympy_PHI)"
   ]
  },
  {
   "cell_type": "code",
   "execution_count": 13,
   "metadata": {
    "collapsed": false
   },
   "outputs": [],
   "source": [
    "Phi = lambdify(    \n",
    "    (\n",
    "        R, T, V, b, sqrt2, a,\n",
    "        b_partial_state, a_partial_state, n_partial_state,\n",
    "        b_state, a_state, n_state\n",
    "    ),\n",
    "    sympy_PHI,\n",
    "    \"numpy\")"
   ]
  },
  {
   "cell_type": "code",
   "execution_count": 14,
   "metadata": {
    "collapsed": false
   },
   "outputs": [
    {
     "data": {
      "image/png": "[encoded data removed]",
      "text/latex": [
       "$$3697.54935143$$"
      ],
      "text/plain": [
       "3697.54935143"
      ]
     },
     "execution_count": 14,
     "metadata": {},
     "output_type": "execute_result"
    }
   ],
   "source": [
    "Phi(8,273,2,1,1.4,1,1,1,1,1,1,1)"
   ]
  },
  {
   "cell_type": "markdown",
   "metadata": {},
   "source": [
    "# External references\n",
    "http://docs.sympy.org/latest/tutorial/basic_operations.html\n",
    "http://docs.sympy.org/latest/modules/utilities/lambdify.html"
   ]
  }
 ],
 "metadata": {
  "anaconda-cloud": {},
  "kernelspec": {
   "display_name": "Python [Root]",
   "language": "python",
   "name": "Python [Root]"
  },
  "language_info": {
   "codemirror_mode": {
    "name": "ipython",
    "version": 3
   },
   "file_extension": ".py",
   "mimetype": "text/x-python",
   "name": "python",
   "nbconvert_exporter": "python",
   "pygments_lexer": "ipython3",
   "version": "3.5.2"
  }
 },
 "nbformat": 4,
 "nbformat_minor": 0
}
