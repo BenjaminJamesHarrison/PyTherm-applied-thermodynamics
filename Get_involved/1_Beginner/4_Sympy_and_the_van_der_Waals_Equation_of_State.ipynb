{
 "cells": [
  {
   "cell_type": "markdown",
   "metadata": {},
   "source": [
    "sympy and the van der Waals's Equation of State\n",
    "==\n",
    "This notebook intends to present van der Waals's Equation of State([wikipedia](https://en.wikipedia.org/wiki/Van_der_Waals_equation),[nobel prize lecture](http://www.nobelprize.org/nobel_prizes/physics/laureates/1910/waals-lecture.pdf)), and to derive some fundamental thermodynamic properties from that, according to the rules of calculus of classical thermodynamics relations ([Tester,Model,1997](http://www.isbnsearch.org/isbn/9780139153563),[Michelsen, Mollerup, 2007](http://www.forskningsdatabasen.dk/en/catalog/108130984)).\n",
    "\n",
    "\n",
    "> **Here you will meet the following topics:**\n",
    ">- Thermodynamics: `fugacity coefficient`\n",
    ">- Python: `sympy`\n",
    ">- Jupyter Notebook: `magic command`, `interactive figures`"
   ]
  },
  {
   "cell_type": "markdown",
   "metadata": {},
   "source": [
    "Supose you have to solve the following assignment in a thermodynamics course:\n",
    ">\"Derive the expression to calculate fugacity coefficient from Peng-Robinson EoS Helmholtz energy representation\""
   ]
  },
  {
   "cell_type": "markdown",
   "metadata": {},
   "source": [
    "Here we will use sympy, the python package for symbolic mathematics. it is an under development computer algebra system (CAS)"
   ]
  },
  {
   "cell_type": "code",
   "execution_count": 1,
   "metadata": {
    "collapsed": true
   },
   "outputs": [],
   "source": [
    "import sympy as sympy"
   ]
  },
  {
   "cell_type": "markdown",
   "metadata": {
    "collapsed": true
   },
   "source": [
    "In a notebook, we can use mathjax, to get \"pretty printing\" of sympy expressions. Just run the init_printing method of sympy"
   ]
  },
  {
   "cell_type": "code",
   "execution_count": 2,
   "metadata": {
    "collapsed": false
   },
   "outputs": [],
   "source": [
    "sympy.init_printing(use_latex='mathjax')"
   ]
  },
  {
   "cell_type": "markdown",
   "metadata": {},
   "source": [
    "here we define some symbols to represent the variables in the functions that we wish to work with"
   ]
  },
  {
   "cell_type": "code",
   "execution_count": 3,
   "metadata": {
    "collapsed": true
   },
   "outputs": [],
   "source": [
    "n_i,R,T,V=sympy.symbols(\"n_i,R,T,V\")"
   ]
  },
  {
   "cell_type": "markdown",
   "metadata": {},
   "source": [
    "we can define some functions of these variable with undefined expression representation"
   ]
  },
  {
   "cell_type": "code",
   "execution_count": 4,
   "metadata": {
    "collapsed": true
   },
   "outputs": [],
   "source": [
    "a = sympy.Function(\"a\")(n_i)\n",
    "b = sympy.Function(\"b\")(n_i)\n",
    "n = sympy.Function(\"n\")(n_i)"
   ]
  },
  {
   "cell_type": "markdown",
   "metadata": {},
   "source": [
    "and define some functions of these variable with explicit expression representation\n",
    "the following is helmoholtz energy from peng-robinson EoS (REFERENCE MISSING)\n",
    "with explict dependence of A on T,V,n,a,b, but with undefined dependence on a b and n on n_i\n",
    "these undefined dependences are available in the reference, and we can take them into consideration later."
   ]
  },
  {
   "cell_type": "code",
   "execution_count": 5,
   "metadata": {
    "collapsed": false
   },
   "outputs": [],
   "source": [
    "A=n*R*T*sympy.ln((V)/(V-b))+((a)/(2*sympy.sqrt(2)*b))*(sympy.ln((V+b-sympy.sqrt(2)*b)/(V+b+sympy.sqrt(2)*b))) "
   ]
  },
  {
   "cell_type": "markdown",
   "metadata": {},
   "source": [
    "we can use the sympy method \"derivative\" to obtain the derivative of A with respect to some n_i, explicit dependendce is evaluated and undefined dependence is carried around trough product rules and chain rules."
   ]
  },
  {
   "cell_type": "code",
   "execution_count": 6,
   "metadata": {
    "collapsed": false
   },
   "outputs": [],
   "source": [
    "sympy_PHI = sympy.Derivative(A,n_i,evaluate=True)"
   ]
  },
  {
   "cell_type": "code",
   "execution_count": 7,
   "metadata": {
    "collapsed": false
   },
   "outputs": [
    {
     "data": {
      "text/latex": [
       "$$R T \\log{\\left (\\frac{V}{V - b{\\left (n_{i} \\right )}} \\right )} \\frac{d}{d n_{i}} n{\\left (n_{i} \\right )} + \\frac{R T n{\\left (n_{i} \\right )} \\frac{d}{d n_{i}} b{\\left (n_{i} \\right )}}{V - b{\\left (n_{i} \\right )}} + \\frac{\\sqrt{2} a{\\left (n_{i} \\right )}}{4 \\left(V - \\sqrt{2} b{\\left (n_{i} \\right )} + b{\\left (n_{i} \\right )}\\right) b{\\left (n_{i} \\right )}} \\left(\\frac{1}{\\left(V + b{\\left (n_{i} \\right )} + \\sqrt{2} b{\\left (n_{i} \\right )}\\right)^{2}} \\left(- \\sqrt{2} \\frac{d}{d n_{i}} b{\\left (n_{i} \\right )} - \\frac{d}{d n_{i}} b{\\left (n_{i} \\right )}\\right) \\left(V - \\sqrt{2} b{\\left (n_{i} \\right )} + b{\\left (n_{i} \\right )}\\right) + \\frac{- \\sqrt{2} \\frac{d}{d n_{i}} b{\\left (n_{i} \\right )} + \\frac{d}{d n_{i}} b{\\left (n_{i} \\right )}}{V + b{\\left (n_{i} \\right )} + \\sqrt{2} b{\\left (n_{i} \\right )}}\\right) \\left(V + b{\\left (n_{i} \\right )} + \\sqrt{2} b{\\left (n_{i} \\right )}\\right) - \\frac{\\sqrt{2} \\frac{d}{d n_{i}} b{\\left (n_{i} \\right )}}{4 b^{2}{\\left (n_{i} \\right )}} a{\\left (n_{i} \\right )} \\log{\\left (\\frac{V - \\sqrt{2} b{\\left (n_{i} \\right )} + b{\\left (n_{i} \\right )}}{V + b{\\left (n_{i} \\right )} + \\sqrt{2} b{\\left (n_{i} \\right )}} \\right )} + \\frac{\\sqrt{2} \\frac{d}{d n_{i}} a{\\left (n_{i} \\right )}}{4 b{\\left (n_{i} \\right )}} \\log{\\left (\\frac{V - \\sqrt{2} b{\\left (n_{i} \\right )} + b{\\left (n_{i} \\right )}}{V + b{\\left (n_{i} \\right )} + \\sqrt{2} b{\\left (n_{i} \\right )}} \\right )}$$"
      ],
      "text/plain": [
       "                                                          ⎛⎛      d           \n",
       "                                                          ⎜⎜- √2⋅───(b(nᵢ)) - \n",
       "                                                          ⎜⎝     dnᵢ          \n",
       "                                           d           √2⋅⎜───────────────────\n",
       "                                R⋅T⋅n(nᵢ)⋅───(b(nᵢ))      ⎜                   \n",
       "       ⎛    V    ⎞  d                     dnᵢ             ⎝               (V +\n",
       "R⋅T⋅log⎜─────────⎟⋅───(n(nᵢ)) + ──────────────────── + ───────────────────────\n",
       "       ⎝V - b(nᵢ)⎠ dnᵢ               V - b(nᵢ)                                \n",
       "                                                                              \n",
       "\n",
       " d        ⎞                                d            d        ⎞            \n",
       "───(b(nᵢ))⎟⋅(V - √2⋅b(nᵢ) + b(nᵢ))   - √2⋅───(b(nᵢ)) + ───(b(nᵢ))⎟            \n",
       "dnᵢ       ⎠                               dnᵢ          dnᵢ       ⎟            \n",
       "────────────────────────────────── + ────────────────────────────⎟⋅(V + b(nᵢ) \n",
       "                  2                      V + b(nᵢ) + √2⋅b(nᵢ)    ⎟            \n",
       " b(nᵢ) + √2⋅b(nᵢ))                                               ⎠            \n",
       "──────────────────────────────────────────────────────────────────────────────\n",
       "                     4⋅(V - √2⋅b(nᵢ) + b(nᵢ))⋅b(nᵢ)                           \n",
       "                                                                              \n",
       "\n",
       "                                                                              \n",
       "                                                                              \n",
       "                                                                              \n",
       "+ √2⋅b(nᵢ))⋅a(nᵢ)               ⎛V - √2⋅b(nᵢ) + b(nᵢ)⎞  d                 ⎛V -\n",
       "                    √2⋅a(nᵢ)⋅log⎜────────────────────⎟⋅───(b(nᵢ))   √2⋅log⎜───\n",
       "                                ⎝V + b(nᵢ) + √2⋅b(nᵢ)⎠ dnᵢ                ⎝V +\n",
       "───────────────── - ───────────────────────────────────────────── + ──────────\n",
       "                                          2                                   \n",
       "                                       4⋅b (nᵢ)                               \n",
       "\n",
       "                             \n",
       "                             \n",
       "                             \n",
       " √2⋅b(nᵢ) + b(nᵢ)⎞  d        \n",
       "─────────────────⎟⋅───(a(nᵢ))\n",
       " b(nᵢ) + √2⋅b(nᵢ)⎠ dnᵢ       \n",
       "─────────────────────────────\n",
       "      4⋅b(nᵢ)                \n",
       "                             "
      ]
     },
     "execution_count": 7,
     "metadata": {},
     "output_type": "execute_result"
    }
   ],
   "source": [
    "sympy_PHI #auto formatted print"
   ]
  },
  {
   "cell_type": "code",
   "execution_count": 8,
   "metadata": {
    "collapsed": false
   },
   "outputs": [
    {
     "name": "stdout",
     "output_type": "stream",
     "text": [
      "R*T*log(V/(V - b(n_i)))*Derivative(n(n_i), n_i) + R*T*n(n_i)*Derivative(b(n_i), n_i)/(V - b(n_i)) + sqrt(2)*((-sqrt(2)*Derivative(b(n_i), n_i) - Derivative(b(n_i), n_i))*(V - sqrt(2)*b(n_i) + b(n_i))/(V + b(n_i) + sqrt(2)*b(n_i))**2 + (-sqrt(2)*Derivative(b(n_i), n_i) + Derivative(b(n_i), n_i))/(V + b(n_i) + sqrt(2)*b(n_i)))*(V + b(n_i) + sqrt(2)*b(n_i))*a(n_i)/(4*(V - sqrt(2)*b(n_i) + b(n_i))*b(n_i)) - sqrt(2)*a(n_i)*log((V - sqrt(2)*b(n_i) + b(n_i))/(V + b(n_i) + sqrt(2)*b(n_i)))*Derivative(b(n_i), n_i)/(4*b(n_i)**2) + sqrt(2)*log((V - sqrt(2)*b(n_i) + b(n_i))/(V + b(n_i) + sqrt(2)*b(n_i)))*Derivative(a(n_i), n_i)/(4*b(n_i))\n"
     ]
    }
   ],
   "source": [
    "print(sympy_PHI)"
   ]
  },
  {
   "cell_type": "markdown",
   "metadata": {},
   "source": [
    "In a state of given values for $n(i)$ we can have the following substitutions"
   ]
  },
  {
   "cell_type": "code",
   "execution_count": 9,
   "metadata": {
    "collapsed": false
   },
   "outputs": [
    {
     "data": {
      "text/latex": [
       "$$\\frac{R T \\bar{b}_i n{\\left (n_{i} \\right )}}{V - b{\\left (n_{i} \\right )}} + R T \\log{\\left (\\frac{V}{V - b{\\left (n_{i} \\right )}} \\right )} + \\frac{\\sqrt{2} \\bar{a}_i}{4 b{\\left (n_{i} \\right )}} \\log{\\left (\\frac{V - \\sqrt{2} b{\\left (n_{i} \\right )} + b{\\left (n_{i} \\right )}}{V + b{\\left (n_{i} \\right )} + \\sqrt{2} b{\\left (n_{i} \\right )}} \\right )} - \\frac{\\sqrt{2} \\bar{b}_i a{\\left (n_{i} \\right )}}{4 b^{2}{\\left (n_{i} \\right )}} \\log{\\left (\\frac{V - \\sqrt{2} b{\\left (n_{i} \\right )} + b{\\left (n_{i} \\right )}}{V + b{\\left (n_{i} \\right )} + \\sqrt{2} b{\\left (n_{i} \\right )}} \\right )} + \\frac{\\sqrt{2} a{\\left (n_{i} \\right )}}{4 \\left(V - \\sqrt{2} b{\\left (n_{i} \\right )} + b{\\left (n_{i} \\right )}\\right) b{\\left (n_{i} \\right )}} \\left(\\frac{\\left(- \\sqrt{2} \\bar{b}_i - \\bar{b}_i\\right) \\left(V - \\sqrt{2} b{\\left (n_{i} \\right )} + b{\\left (n_{i} \\right )}\\right)}{\\left(V + b{\\left (n_{i} \\right )} + \\sqrt{2} b{\\left (n_{i} \\right )}\\right)^{2}} + \\frac{- \\sqrt{2} \\bar{b}_i + \\bar{b}_i}{V + b{\\left (n_{i} \\right )} + \\sqrt{2} b{\\left (n_{i} \\right )}}\\right) \\left(V + b{\\left (n_{i} \\right )} + \\sqrt{2} b{\\left (n_{i} \\right )}\\right)$$"
      ],
      "text/plain": [
       "                                                                              \n",
       "                                                         ⎛V - √2⋅b(nᵢ) + b(nᵢ)\n",
       "                                          √2⋅\\bar{a}ᵢ⋅log⎜────────────────────\n",
       "R⋅T⋅\\bar{b}ᵢ⋅n(nᵢ)          ⎛    V    ⎞                  ⎝V + b(nᵢ) + √2⋅b(nᵢ)\n",
       "────────────────── + R⋅T⋅log⎜─────────⎟ + ────────────────────────────────────\n",
       "    V - b(nᵢ)               ⎝V - b(nᵢ)⎠                  4⋅b(nᵢ)              \n",
       "                                                                              \n",
       "\n",
       "                                                     ⎛(-√2⋅\\bar{b}ᵢ - \\bar{b}ᵢ\n",
       "⎞                        ⎛V - √2⋅b(nᵢ) + b(nᵢ)⎞   √2⋅⎜────────────────────────\n",
       "⎟   √2⋅\\bar{b}ᵢ⋅a(nᵢ)⋅log⎜────────────────────⎟      ⎜                        \n",
       "⎠                        ⎝V + b(nᵢ) + √2⋅b(nᵢ)⎠      ⎝            (V + b(nᵢ) +\n",
       "─ - ─────────────────────────────────────────── + ────────────────────────────\n",
       "                         2                                                    \n",
       "                      4⋅b (nᵢ)                                                \n",
       "\n",
       ")⋅(V - √2⋅b(nᵢ) + b(nᵢ))   -√2⋅\\bar{b}ᵢ + \\bar{b}ᵢ⎞                           \n",
       "──────────────────────── + ───────────────────────⎟⋅(V + b(nᵢ) + √2⋅b(nᵢ))⋅a(n\n",
       "          2                  V + b(nᵢ) + √2⋅b(nᵢ) ⎟                           \n",
       " √2⋅b(nᵢ))                                        ⎠                           \n",
       "──────────────────────────────────────────────────────────────────────────────\n",
       "           4⋅(V - √2⋅b(nᵢ) + b(nᵢ))⋅b(nᵢ)                                     \n",
       "                                                                              \n",
       "\n",
       "  \n",
       "ᵢ)\n",
       "  \n",
       "  \n",
       "──\n",
       "  \n",
       "  "
      ]
     },
     "execution_count": 9,
     "metadata": {},
     "output_type": "execute_result"
    }
   ],
   "source": [
    "a_state = sympy.symbols('a')\n",
    "b_state = sympy.symbols('b')\n",
    "n_total = sympy.symbols('n')\n",
    "a_partial_i = sympy.symbols(r'\\bar{a}_i')\n",
    "b_partial_i = sympy.symbols(r'\\bar{b}_i')\n",
    "\n",
    "new_sympy_PHI=sympy_PHI\n",
    "\n",
    "new_sympy_PHI = new_sympy_PHI.subs('Derivative(a(n_i), n_i)', a_partial_i)\n",
    "new_sympy_PHI = new_sympy_PHI.subs('Derivative(b(n_i), n_i)', b_partial_i)\n",
    "new_sympy_PHI = new_sympy_PHI.subs('Derivative(n(n_i), n_i)', 1)\n",
    "\n",
    "new_sympy_PHI"
   ]
  },
  {
   "cell_type": "code",
   "execution_count": 10,
   "metadata": {
    "collapsed": false
   },
   "outputs": [
    {
     "data": {
      "text/latex": [
       "$$\\frac{R T \\bar{b}_i n}{V - b} + R T \\log{\\left (\\frac{V}{V - b} \\right )} + \\frac{\\sqrt{2} \\bar{a}_i}{4 b} \\log{\\left (\\frac{V - \\sqrt{2} b + b}{V + b + \\sqrt{2} b} \\right )} - \\frac{\\sqrt{2} \\bar{b}_i a}{4 b^{2}} \\log{\\left (\\frac{V - \\sqrt{2} b + b}{V + b + \\sqrt{2} b} \\right )} + \\frac{\\sqrt{2} a}{4 b \\left(V - \\sqrt{2} b + b\\right)} \\left(\\frac{\\left(- \\sqrt{2} \\bar{b}_i - \\bar{b}_i\\right) \\left(V - \\sqrt{2} b + b\\right)}{\\left(V + b + \\sqrt{2} b\\right)^{2}} + \\frac{- \\sqrt{2} \\bar{b}_i + \\bar{b}_i}{V + b + \\sqrt{2} b}\\right) \\left(V + b + \\sqrt{2} b\\right)$$"
      ],
      "text/plain": [
       "                                                                              \n",
       "                                                 ⎛V - √2⋅b + b⎞               \n",
       "                                  √2⋅\\bar{a}ᵢ⋅log⎜────────────⎟   √2⋅\\bar{b}ᵢ⋅\n",
       "R⋅T⋅\\bar{b}ᵢ⋅n          ⎛  V  ⎞                  ⎝V + b + √2⋅b⎠               \n",
       "────────────── + R⋅T⋅log⎜─────⎟ + ───────────────────────────── - ────────────\n",
       "    V - b               ⎝V - b⎠                4⋅b                            \n",
       "                                                                              \n",
       "\n",
       "                           ⎛(-√2⋅\\bar{b}ᵢ - \\bar{b}ᵢ)⋅(V - √2⋅b + b)   -√2⋅\\ba\n",
       "     ⎛V - √2⋅b + b⎞   √2⋅a⋅⎜──────────────────────────────────────── + ───────\n",
       "a⋅log⎜────────────⎟        ⎜                          2                      V\n",
       "     ⎝V + b + √2⋅b⎠        ⎝            (V + b + √2⋅b)                        \n",
       "─────────────────── + ────────────────────────────────────────────────────────\n",
       "     2                                                   4⋅b⋅(V - √2⋅b + b)   \n",
       "  4⋅b                                                                         \n",
       "\n",
       "r{b}ᵢ + \\bar{b}ᵢ⎞               \n",
       "────────────────⎟⋅(V + b + √2⋅b)\n",
       " + b + √2⋅b     ⎟               \n",
       "                ⎠               \n",
       "────────────────────────────────\n",
       "                                \n",
       "                                "
      ]
     },
     "execution_count": 10,
     "metadata": {},
     "output_type": "execute_result"
    }
   ],
   "source": [
    "new_sympy_PHI = new_sympy_PHI.subs(a, a_state)\n",
    "new_sympy_PHI = new_sympy_PHI.subs(b, b_state)\n",
    "new_sympy_PHI = new_sympy_PHI.subs(n, n_total)\n",
    "\n",
    "new_sympy_PHI"
   ]
  },
  {
   "cell_type": "markdown",
   "metadata": {},
   "source": [
    "oif we want to make it an equation to expor we can use a new symbol varPhi and the method Equality"
   ]
  },
  {
   "cell_type": "code",
   "execution_count": 11,
   "metadata": {
    "collapsed": false
   },
   "outputs": [
    {
     "data": {
      "text/latex": [
       "$$\\phi_i$$"
      ],
      "text/plain": [
       "\\phiᵢ"
      ]
     },
     "execution_count": 11,
     "metadata": {},
     "output_type": "execute_result"
    }
   ],
   "source": [
    "varPhi=sympy.symbols(r'\\phi_i')\n",
    "varPhi"
   ]
  },
  {
   "cell_type": "code",
   "execution_count": 12,
   "metadata": {
    "collapsed": false
   },
   "outputs": [
    {
     "data": {
      "text/latex": [
       "$$\\phi_i = \\frac{R T \\bar{b}_i n}{V - b} + R T \\log{\\left (\\frac{V}{V - b} \\right )} + \\frac{\\sqrt{2} \\bar{a}_i}{4 b} \\log{\\left (\\frac{V - \\sqrt{2} b + b}{V + b + \\sqrt{2} b} \\right )} - \\frac{\\sqrt{2} \\bar{b}_i a}{4 b^{2}} \\log{\\left (\\frac{V - \\sqrt{2} b + b}{V + b + \\sqrt{2} b} \\right )} + \\frac{\\sqrt{2} a}{4 b \\left(V - \\sqrt{2} b + b\\right)} \\left(\\frac{\\left(- \\sqrt{2} \\bar{b}_i - \\bar{b}_i\\right) \\left(V - \\sqrt{2} b + b\\right)}{\\left(V + b + \\sqrt{2} b\\right)^{2}} + \\frac{- \\sqrt{2} \\bar{b}_i + \\bar{b}_i}{V + b + \\sqrt{2} b}\\right) \\left(V + b + \\sqrt{2} b\\right)$$"
      ],
      "text/plain": [
       "                                                                              \n",
       "                                                         ⎛V - √2⋅b + b⎞       \n",
       "                                          √2⋅\\bar{a}ᵢ⋅log⎜────────────⎟   √2⋅\\\n",
       "        R⋅T⋅\\bar{b}ᵢ⋅n          ⎛  V  ⎞                  ⎝V + b + √2⋅b⎠       \n",
       "\\phiᵢ = ────────────── + R⋅T⋅log⎜─────⎟ + ───────────────────────────── - ────\n",
       "            V - b               ⎝V - b⎠                4⋅b                    \n",
       "                                                                              \n",
       "\n",
       "                                   ⎛(-√2⋅\\bar{b}ᵢ - \\bar{b}ᵢ)⋅(V - √2⋅b + b)  \n",
       "             ⎛V - √2⋅b + b⎞   √2⋅a⋅⎜──────────────────────────────────────── +\n",
       "bar{b}ᵢ⋅a⋅log⎜────────────⎟        ⎜                          2               \n",
       "             ⎝V + b + √2⋅b⎠        ⎝            (V + b + √2⋅b)                \n",
       "─────────────────────────── + ────────────────────────────────────────────────\n",
       "             2                                                   4⋅b⋅(V - √2⋅b\n",
       "          4⋅b                                                                 \n",
       "\n",
       " -√2⋅\\bar{b}ᵢ + \\bar{b}ᵢ⎞               \n",
       " ───────────────────────⎟⋅(V + b + √2⋅b)\n",
       "       V + b + √2⋅b     ⎟               \n",
       "                        ⎠               \n",
       "────────────────────────────────────────\n",
       " + b)                                   \n",
       "                                        "
      ]
     },
     "execution_count": 12,
     "metadata": {},
     "output_type": "execute_result"
    }
   ],
   "source": [
    "eqq=sympy.relational.Equality(varPhi,new_sympy_PHI)\n",
    "eqq\n"
   ]
  },
  {
   "cell_type": "code",
   "execution_count": 13,
   "metadata": {
    "collapsed": false
   },
   "outputs": [],
   "source": [
    "Phi = sympy.lambdify(    \n",
    "    (\n",
    "        R, T, V, b, a,\n",
    "        b_partial_i, a_partial_i,\n",
    "        b_state, a_state, n_total\n",
    "    ),\n",
    "    new_sympy_PHI,\n",
    "    \"numpy\")"
   ]
  },
  {
   "cell_type": "code",
   "execution_count": 14,
   "metadata": {
    "collapsed": false
   },
   "outputs": [
    {
     "data": {
      "text/latex": [
       "$$3697.54772806$$"
      ],
      "text/plain": [
       "3697.54772806"
      ]
     },
     "execution_count": 14,
     "metadata": {},
     "output_type": "execute_result"
    }
   ],
   "source": [
    "Phi(8,273,2,1,1,1,1,1,1,1)"
   ]
  },
  {
   "cell_type": "markdown",
   "metadata": {},
   "source": [
    "# External references\n",
    "* http://docs.sympy.org/latest/tutorial/basic_operations.html\n",
    "* http://docs.sympy.org/latest/modules/utilities/lambdify.html\n",
    "* https://minireference.com/static/tutorials/sympy_tutorial.pdf\n",
    "* \"pretty printing\" http://docs.sympy.org/dev/tutorial/printing.html"
   ]
  }
 ],
 "metadata": {
  "anaconda-cloud": {},
  "kernelspec": {
   "display_name": "Python [Root]",
   "language": "python",
   "name": "Python [Root]"
  },
  "language_info": {
   "codemirror_mode": {
    "name": "ipython",
    "version": 3
   },
   "file_extension": ".py",
   "mimetype": "text/x-python",
   "name": "python",
   "nbconvert_exporter": "python",
   "pygments_lexer": "ipython3",
   "version": "3.5.2"
  }
 },
 "nbformat": 4,
 "nbformat_minor": 0
}
