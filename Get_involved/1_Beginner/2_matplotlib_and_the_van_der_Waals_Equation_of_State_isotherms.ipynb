{
 "cells": [
  {
   "cell_type": "markdown",
   "metadata": {},
   "source": [
    "# matplotlib and the van der Waals Equation of State isotherms.\n",
    "This notebook intends to present van der Waals's Equation of State([wikipedia](https://en.wikipedia.org/wiki/Van_der_Waals_equation),[nobel prize lecture](http://www.nobelprize.org/nobel_prizes/physics/laureates/1910/waals-lecture.pdf)), and its isotherms in the Pressure-Volume diagram.\n",
    "\n",
    "> **Here you will meet the following topics:**\n",
    ">- Thermodynamics: `EoS isotherms`\n",
    ">- Python: `matplotlib.pyplot` `numpy.arange`\n",
    ">- Jupyter Notebook: `magic command`, `interactive figures`\n"
   ]
  },
  {
   "cell_type": "markdown",
   "metadata": {},
   "source": [
    "Supose you have to solve the following assignment in a thermodynamics course:\n",
    ">\"Plot the isotherm of van de Waals - EoS for some pure component at differnte values of T and comment on the sub-critical and super-critical behavior\""
   ]
  },
  {
   "cell_type": "code",
   "execution_count": 1,
   "metadata": {
    "collapsed": false
   },
   "outputs": [],
   "source": [
    "%matplotlib inline\n",
    "#this is an Ipython \"magic command\". This performs the necessary behind-the-scenes setup for IPython to work correctly hand in hand with matplotlib;\n",
    "#With this backend, the output of plotting commands is displayed inline within frontends like the Jupyter notebook, directly below the code cell that produced it. The resulting plots will then also be stored in the notebook document\n",
    "\n",
    "#you can try commenting the previous magic command and enabling the following\n",
    "#%matplotlib notebook\n",
    "#this command that allows interactive figures if your environment allows it.\n"
   ]
  },
  {
   "cell_type": "markdown",
   "metadata": {},
   "source": [
    "Here we will use some resources of the packages numpy and matplotlib"
   ]
  },
  {
   "cell_type": "markdown",
   "metadata": {},
   "source": [
    "numpy is \"the fundamental package for scientific computing with Python\""
   ]
  },
  {
   "cell_type": "markdown",
   "metadata": {},
   "source": [
    "To import a module into our notebook we use the following syntax:"
   ]
  },
  {
   "cell_type": "code",
   "execution_count": 2,
   "metadata": {
    "collapsed": true
   },
   "outputs": [],
   "source": [
    "import numpy as numpy #this line imports the module numpy \"the fundamental package for scientific computing with Python\"\n",
    "#import <-- keyword import\n",
    "       #numpy <-- name of the module\n",
    "             #as <-- keyword \"as\"\n",
    "                #numpy <-- the alias name that we wish to use to refer to that module"
   ]
  },
  {
   "cell_type": "markdown",
   "metadata": {},
   "source": [
    "We will also use matplotlib, a python 2D plotting library which produces publication quality figures in a variety of hardcopy formats and interactive environments across platforms.\n",
    "Specifically the pyplot interface."
   ]
  },
  {
   "cell_type": "code",
   "execution_count": 3,
   "metadata": {
    "collapsed": true
   },
   "outputs": [],
   "source": [
    "import matplotlib as matplotlib"
   ]
  },
  {
   "cell_type": "markdown",
   "metadata": {},
   "source": [
    "Consider the *van der Waals* equation of state (Reid et al., 1987, see Eq 3-6.1 and Table 3-5, line 1)\n",
    "\n",
    "$P=\\frac{RT}{{\\bar{V}}-b}-\\frac{a}{{\\bar{V}}^2}$\n",
    "\n",
    "$a=\\frac{27}{64}\\frac{{{Tc}^2}{R^2}}{Pc}$\n",
    "\n",
    "\n",
    "$b=\\frac{{R}{Tc}}{{8}{Pc}}$\n",
    "\n",
    "where $R$ is the gas constant \n",
    "\n",
    "$R = 8.3144598 \\mathrm{{J} {mol^{−1}} {K^{−1}}}$\n",
    "\n",
    "and critical properties for hexane are \n",
    "\n",
    "$Tc = 507.5 \\mathrm{K}$\n",
    "\n",
    "\n",
    "$Pc = 30.1 \\times {10^6} \\mathrm{Pa}$"
   ]
  },
  {
   "cell_type": "markdown",
   "metadata": {
    "collapsed": true
   },
   "source": [
    "So lets code this information:"
   ]
  },
  {
   "cell_type": "markdown",
   "metadata": {},
   "source": [
    "First the gas constant"
   ]
  },
  {
   "cell_type": "code",
   "execution_count": 4,
   "metadata": {
    "collapsed": true
   },
   "outputs": [],
   "source": [
    "#gas constant\n",
    "R = 8.3144598 #J.mol^−1.K^−1"
   ]
  },
  {
   "cell_type": "markdown",
   "metadata": {},
   "source": [
    "now the physical properties of the substance"
   ]
  },
  {
   "cell_type": "code",
   "execution_count": 5,
   "metadata": {
    "collapsed": true
   },
   "outputs": [],
   "source": [
    "#pure component critical point of hexane\n",
    "# Tc (K)\n",
    "Tc = 507.5 #K\n",
    "\n",
    "# Pc (bar)\n",
    "Pc = 30.1*(10**6) #Pa"
   ]
  },
  {
   "cell_type": "markdown",
   "metadata": {},
   "source": [
    "Then the EoS parameters"
   ]
  },
  {
   "cell_type": "code",
   "execution_count": 6,
   "metadata": {
    "collapsed": false
   },
   "outputs": [
    {
     "name": "stdout",
     "output_type": "stream",
     "text": [
      "0.2495499363743344\n"
     ]
    }
   ],
   "source": [
    "a = 27/64*((Tc**2)*(R**2)/Pc)\n",
    "print(a)"
   ]
  },
  {
   "cell_type": "code",
   "execution_count": 7,
   "metadata": {
    "collapsed": false
   },
   "outputs": [
    {
     "name": "stdout",
     "output_type": "stream",
     "text": [
      "1.752320742732558e-05\n"
     ]
    }
   ],
   "source": [
    "b = (R*Tc)/(8*Pc)\n",
    "print(b)"
   ]
  },
  {
   "cell_type": "markdown",
   "metadata": {},
   "source": [
    "and the explixt eos representation"
   ]
  },
  {
   "cell_type": "code",
   "execution_count": 8,
   "metadata": {
    "collapsed": false
   },
   "outputs": [],
   "source": [
    "def Pressure_van_Der_waals(T,Vm):\n",
    "#define function to calc Pressure from T and V\n",
    "    P = R*T/(Vm-b) - a/(Vm**2)\n",
    "#note that T and Vm used inside the function are the dummy argumets, i.e., the values used in the calculation are the values provided in when calling the function\n",
    "#while a and b are assumed known from the 'namespace' that encompasses that function, in this case, that is the namespace of the python code cells in whole jupyter notebook being run  \n",
    "#its functioning is quite simple here, however requires further comprehension when dealing with different python files and importing different modules.\n",
    "    return P"
   ]
  },
  {
   "cell_type": "code",
   "execution_count": 9,
   "metadata": {
    "collapsed": false
   },
   "outputs": [
    {
     "data": {
      "image/png": "[encoded data removed]",
      "text/plain": [
       "<matplotlib.figure.Figure at 0x7458470>"
      ]
     },
     "metadata": {},
     "output_type": "display_data"
    }
   ],
   "source": [
    "for T in numpy.linspace(277.5, 607.5, 9):\n",
    "#--------numpy.linspace <-- remember in course 1 we used the function \"range\" from python, that functio works only for integers\n",
    "#here we want to make a range of real values, for that we have to use the functions numpy.arange or numpy.linspace\n",
    "#numpy.linspace works in the following way: we provide a initial value, and end value and the number of values, and it returns us a list with the desired number of values equally spaced in the desired interval\n",
    "    \n",
    "    #array of values for volume\n",
    "    Vmi = numpy.exp(numpy.linspace(numpy.log((R*Tc)/(8*Pc)*1.01),numpy.log((R*Tc/Pc)*100.),100))\n",
    "    #here we use numpy.log the logarithm function and the linspace function to create a list that is equally spaced in the logarithm scale\n",
    "    #and the numpy.exp,  the numpy exponencial to recover the values displayed in the original scale\n",
    "\n",
    "    matplotlib.pyplot.figure(1) #activate a figure\n",
    "    matplotlib.pyplot.subplot(211) #activate a subplot\n",
    "\n",
    "    matplotlib.pyplot.loglog(Vmi,Pressure_van_Der_waals(T,Vmi), label=str(T)+'K') #create a logarithm vs logarithm scale plot of pressure vs volume, using the function pressure in each value of the volume list\n",
    "    matplotlib.pyplot.ylabel('positive P') #create labels to be displayed in the plot\n",
    "    matplotlib.pyplot.title('isotherm') #create a title\n",
    "    matplotlib.pyplot.ylim([Pressure_van_Der_waals(T,(R*Tc/Pc)*100.),Pressure_van_Der_waals(T,(R*Tc)/(8*Pc)*1.01)]) #define max and min limits of the y axis only to the positive pressure range\n",
    "    matplotlib.pyplot.xlim([(R*Tc)/(8*Pc)*1.01,(R*Tc/Pc)*100.]) #define max and min limits of the x axis\n",
    "\n",
    "    matplotlib.pyplot.tick_params( # choose some formatting to the ticks\n",
    "    axis='x',          # changes apply to the x-axis\n",
    "    which='both',      # both major and minor ticks are affected\n",
    "    bottom='on',      # ticks along the bottom edge are off\n",
    "    top='on',         # ticks along the top edge are off\n",
    "    labelbottom='off') # labels along the bottom edge are off\n",
    "\n",
    "    matplotlib.pyplot.subplot(212) #activate a second subplot\n",
    "\n",
    "    matplotlib.pyplot.semilogx(Vmi,Pressure_van_Der_waals(T,Vmi), label=str(T)+'K') #plot linear P vs log V\n",
    "\n",
    "    matplotlib.pyplot.xlabel(r'$\\bar{V}$') #use matplotlib's  mathtext to create special symbols in the x label\n",
    "    matplotlib.pyplot.ylabel('negative P') #y label for the second subplot\n",
    "    matplotlib.pyplot.ylim([-100000000,0.]) #define max and min limits of the y axis only to the negative pressure range\n",
    "    matplotlib.pyplot.xlim([(R*Tc)/(8*Pc)*1.01,(R*Tc/Pc)*100.]) #define same limits of the x axis\n",
    "        \n",
    "matplotlib.pyplot.show() #finally show the plot. It shows in the output section of the cell if the magic command %matplotlib inline was used in the beginning of the notebook\n"
   ]
  },
  {
   "cell_type": "markdown",
   "metadata": {},
   "source": [
    "# External references:\n",
    "* matplotlib magic command http://ipython.readthedocs.io/en/stable/interactive/plotting.html\n",
    "* matplotlib, pyplot [tutorial](http://matplotlib.org/users/pyplot_tutorial.html)"
   ]
  },
  {
   "cell_type": "markdown",
   "metadata": {},
   "source": [
    "# Credits\n",
    "* Initially developed in python 2.7 by Guilherme Carneiro Queiroz da Silva\n",
    "* Adapted to ipynb with python 3.5 by Iuri Soter Viana Segtovich"
   ]
  }
 ],
 "metadata": {
  "anaconda-cloud": {},
  "kernelspec": {
   "display_name": "Python [Root]",
   "language": "python",
   "name": "Python [Root]"
  },
  "language_info": {
   "codemirror_mode": {
    "name": "ipython",
    "version": 3
   },
   "file_extension": ".py",
   "mimetype": "text/x-python",
   "name": "python",
   "nbconvert_exporter": "python",
   "pygments_lexer": "ipython3",
   "version": "3.5.2"
  }
 },
 "nbformat": 4,
 "nbformat_minor": 0
}
