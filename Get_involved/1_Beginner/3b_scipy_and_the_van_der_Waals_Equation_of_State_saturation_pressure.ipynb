{
 "cells": [
  {
   "cell_type": "markdown",
   "metadata": {},
   "source": [
    "# Scipy and Vapor-Liquid Saturation Pressure from the van der Waals Equation of State\n",
    "In this notebook we present numerical evaluation of density and residual properties for given values of pressure and temperature using the van der Waals Equation of State. Then, using these calculations we present a numerical evaluation of the saturation pressure for liquid-vapor equilibra at a given temperature.\n",
    "\n",
    "> **Here you will meet the following topics:**\n",
    ">- Thermodynamics: *equation of state*, *calculation of*: *density*, *residual properties*, *saturation point pressure*\n",
    ">- Python: `numpy`:, `roots`; `scipy`: `optimize`"
   ]
  },
  {
   "cell_type": "markdown",
   "metadata": {},
   "source": [
    "Supose you have to solve the following problem in a thermodynamics course:\n",
    ">\"Calculate the saturation pressure for pure hexane at the temperature of 220 K according to the van der Waals equation of state\"\n",
    "\n",
    "Here, we will show how to implement a function to calculate density of a pure fluid at given T and P.\n",
    "Then, how to calculate the residual properties. And at last, how to calculate the saturation pressure."
   ]
  },
  {
   "cell_type": "markdown",
   "metadata": {},
   "source": [
    "We will use numpy again"
   ]
  },
  {
   "cell_type": "code",
   "execution_count": 1,
   "metadata": {
    "collapsed": true
   },
   "outputs": [],
   "source": [
    "import numpy as numpy"
   ]
  },
  {
   "cell_type": "markdown",
   "metadata": {
    "collapsed": false
   },
   "source": [
    "We will use the scipy package."
   ]
  },
  {
   "cell_type": "code",
   "execution_count": 2,
   "metadata": {
    "collapsed": true
   },
   "outputs": [],
   "source": [
    "import scipy as scipy"
   ]
  },
  {
   "cell_type": "markdown",
   "metadata": {},
   "source": [
    "We will also use the  optimize subpackage.\n",
    "The following syntax for importing packages is slightly different from the previous one. Nonetheless, both of them work in the same way. Here, we import only a subset of the resources of scipy, the subset identified as optimize."
   ]
  },
  {
   "cell_type": "code",
   "execution_count": 3,
   "metadata": {
    "collapsed": true
   },
   "outputs": [],
   "source": [
    "from scipy import optimize as optimize\n",
    "#from <-- keyword \"from\"\n",
    "     #scipy <-- name of the parent module\n",
    "           #import <-- keyword \"import\"\n",
    "                  #optimize <-- name of the desired subpackage\n",
    "                           #as <-- keyword \"as\"\n",
    "                              #optimize <-- alias name"
   ]
  },
  {
   "cell_type": "markdown",
   "metadata": {},
   "source": [
    "Consider the *van der Waals* equation of state (Reid et al., 1987, see Eq 3-6.1 and Table 3-5, line 1)\n",
    "\n",
    "$P=\\frac{RT}{\\bar{V}-b}-\\frac{a}{{\\bar{V}}^{2}}$\n",
    "\n",
    "$a=\\frac{27}{64}\\frac{{{Tc}^{2}}{R^{2}}}{Pc}$\n",
    "\n",
    "\n",
    "$b=\\frac{{R}{Tc}}{{8}{Pc}}$\n",
    "\n",
    "where $R$ is the gas constant \n",
    "\n",
    "$R = 8.3144598$ $\\mathrm{{J} {mol^{−1}} {K^{−1}}}$\n",
    "\n",
    "and critical properties for hexane are \n",
    "\n",
    "$Tc = 507.5$ $\\mathrm{K}$\n",
    "\n",
    "\n",
    "$Pc = 30.1$ $\\times {10^5}$ $\\mathrm{Pa}$\n",
    "\n",
    "So let's code this information, as in notebook 2:\n",
    "\n",
    "First, the universal gas constant ($R$) is assigned to the variable named `R`"
   ]
  },
  {
   "cell_type": "code",
   "execution_count": 4,
   "metadata": {
    "collapsed": true
   },
   "outputs": [],
   "source": [
    "#gas constant\n",
    "R = 8.3144598 #J.mol^−1.K^−1"
   ]
  },
  {
   "cell_type": "markdown",
   "metadata": {},
   "source": [
    "Now, we assign the values of the critical properties of hexane ($Tc$ and $Pc$) to variables `Tc` and `Pc`."
   ]
  },
  {
   "cell_type": "code",
   "execution_count": 5,
   "metadata": {
    "collapsed": false
   },
   "outputs": [],
   "source": [
    "#pure component critical point of hexane\n",
    "# Tc (K)\n",
    "Tc = 507.5 #K\n",
    "\n",
    "# Pc (Pa)\n",
    "Pc = 30.1*(10**5) #Pa"
   ]
  },
  {
   "cell_type": "markdown",
   "metadata": {},
   "source": [
    "Finally, we create variables `a` and `b` for the EoS parameters $a$ and $b$."
   ]
  },
  {
   "cell_type": "code",
   "execution_count": 6,
   "metadata": {
    "collapsed": false
   },
   "outputs": [
    {
     "name": "stdout",
     "output_type": "stream",
     "text": [
      "2.4954993637433445\n"
     ]
    }
   ],
   "source": [
    "a = 27/64*((Tc**2)*(R**2)/Pc)\n",
    "print(a)"
   ]
  },
  {
   "cell_type": "code",
   "execution_count": 7,
   "metadata": {
    "collapsed": false
   },
   "outputs": [
    {
     "name": "stdout",
     "output_type": "stream",
     "text": [
      "0.0001752320742732558\n"
     ]
    }
   ],
   "source": [
    "b = (R*Tc)/(8*Pc)\n",
    "print(b)"
   ]
  },
  {
   "cell_type": "markdown",
   "metadata": {},
   "source": [
    "Here, we are interested in calculating $\\bar{V}$ for a given substance, therefore we will calculate $\\bar{V}$ given $a$ and $B$, at some condition of $P$ and $T$. For that purpose we convert the explicit $P(T,\\bar{V})$ representation of the EoS to an implicit representation. We can then find a repreesentation that corresponds to a 3$^{\\mathrm{rd}}$ degree polynomial in $\\bar{V}$, with coefficients depending on $P$, $T$, $a$ and $b$. Therefore, for a given substance (represented by a pair of $a$ and $b$), at given $P$ and $T$, the density can be obtained by solving this polynomial for $\\bar{V}$."
   ]
  },
  {
   "cell_type": "markdown",
   "metadata": {},
   "source": [
    "${P}{{\\bar{V}}^3}−({P}{b}+{R}{T}){{\\bar{V}}^2}+{a}{\\bar{V}}−{a}{b}={0}$"
   ]
  },
  {
   "cell_type": "markdown",
   "metadata": {
    "collapsed": true
   },
   "source": [
    "Let's define the temperature and pressure at which we want to perform the density calculation."
   ]
  },
  {
   "cell_type": "code",
   "execution_count": 8,
   "metadata": {
    "collapsed": true
   },
   "outputs": [],
   "source": [
    "#calculate density at what temperature and pressure?\n",
    "T = 220. #K\n",
    "P = 1*(10**5) #Pa"
   ]
  },
  {
   "cell_type": "markdown",
   "metadata": {},
   "source": [
    "Then, let's define the coefficients of the polynomials:"
   ]
  },
  {
   "cell_type": "code",
   "execution_count": 9,
   "metadata": {
    "collapsed": false
   },
   "outputs": [],
   "source": [
    "c3 = P #coefficient for v^3\n",
    "c2 = -(P*b+R*T) #coefficient v^2\n",
    "c1 = a  #coefficient v^1\n",
    "c0 = -a*b  #coefficient v^0"
   ]
  },
  {
   "cell_type": "markdown",
   "metadata": {},
   "source": [
    "The volume is finally obtained by finding the roots of the polynomial."
   ]
  },
  {
   "cell_type": "code",
   "execution_count": 10,
   "metadata": {
    "collapsed": false
   },
   "outputs": [
    {
     "name": "stdout",
     "output_type": "stream",
     "text": [
      "[ 0.01701555  0.00124509  0.00020641]\n"
     ]
    }
   ],
   "source": [
    "v=scipy.roots([c3,c2,c1,c0]) #numpy .roots finds the roots of a polynomial\n",
    "#coefficients must be provided in a list form, constructed using the square brackets\n",
    "#result is the list of real and imaginary roots found.\n",
    "print(v)"
   ]
  },
  {
   "cell_type": "markdown",
   "metadata": {},
   "source": [
    "Here, after solving a 3$^{\\mathrm{rd}}$ degree polynomial, we may obtain three real valued roots. If three roots are found in the interval $(b,\\infty )$, the minimum  and maximum corresponds to liquid and vapor aggregation states, respectively, while the intermediate root does not correspond to a phisycally relevant state.\n",
    "\n",
    "According to the principle of minimum Gibbs energy, at given $P$, $T$ (and quantity of matter), the state with least Gibbs energy is the *stable equilibrium state*. Therefore we must compare the Gibbs energy of these *states* to reveal which corresponds to the *stable equilibrium state*. While we are not able to calculate absolute values of Gibbs energy using an equation of state, we are able to calculate relative values of Gibbs energy for both vapor and liquid states with a common reference associated with the ideal gas state. The relative scale of Gibbs energy we use here is the residual Gibbs energy, since both roots are at the same temperature and pressure."
   ]
  },
  {
   "cell_type": "code",
   "execution_count": 11,
   "metadata": {
    "collapsed": false
   },
   "outputs": [
    {
     "name": "stdout",
     "output_type": "stream",
     "text": [
      "0.000206407191559\n",
      "0.00124508874657\n",
      "0.0170155476961\n"
     ]
    }
   ],
   "source": [
    "[v_Liq, v_intermediate, v_Vap] = numpy.sort(v)\n",
    "print(v_Liq)\n",
    "print(v_intermediate)\n",
    "print(v_Vap)\n",
    "v=numpy.array([v_Liq, v_intermediate, v_Vap]) #numpy.array is a special type of list with which numpy methods (e.g. numpy. exp, numpy.log) can work"
   ]
  },
  {
   "cell_type": "markdown",
   "metadata": {},
   "source": [
    "## The residual Gibbs energy\n",
    "For the van der Waals EoS, the expression for the residual Gibbs energy ($\\bar{G}^{Res}$) is:\n",
    "\n",
    "$${\\bar{G}^{Res}} = P\\bar{V}-RT-\\frac{a}{\\bar{V}} -RTln \\left (\\frac{P(\\bar{V}-b)}{RT} \\right )$$\n",
    "\n",
    "For the origin and discussion of residual thermodynamics properties, see the references below:\n",
    "> `Smith, van Ness, Abbott, 2005, 7th-pt-BR, Ch. (6.2, 6.3)\n",
    "> O'Connell and Haile, 2005, Ch. 4\n",
    "> Tester and Modell, 1997, Ch. 9.`"
   ]
  },
  {
   "cell_type": "code",
   "execution_count": 12,
   "metadata": {
    "collapsed": false
   },
   "outputs": [
    {
     "name": "stdout",
     "output_type": "stream",
     "text": [
      "220.0 K 100000 Pa [-2238.4396586   1483.96852119  -123.05374806]\n"
     ]
    }
   ],
   "source": [
    "Residual_G = (P*v)-(R*T)-(a/v) - T*(R*numpy.log(P*(v-b)/(R*T))) \n",
    "print(T, \"K\", P, \"Pa\", Residual_G)"
   ]
  },
  {
   "cell_type": "markdown",
   "metadata": {},
   "source": [
    "Here you can note that the lowest Gibbs energy yielded correspond to the liquid phase. It means that, at this pressure and temperature, the liquid phase is the stable equilibrium state."
   ]
  },
  {
   "cell_type": "markdown",
   "metadata": {},
   "source": [
    "## Calculation of saturation pressure\n",
    "\n",
    "Now, the saturation pressure is the pressure $P$ that makes the difference in residual Gibbs energy between trial liquid and vapor phase equals zero at a given temperature. We cannot explicitate $P$ as a function of the difference in residual Gibbs energy, so we define a function $\\Delta G^{Res}$ of $P$\n",
    "and we will solve it numerically, i.e. trying various values of $P$ according to a updating methodology and convergence criteria.\n",
    "\n",
    "To automate that task we implement a function called **`def Delta_Residual_G(P):`**, which calculates the roots of volume, as before, and evaluates the difference between residual Gibbs energy in each of these states."
   ]
  },
  {
   "cell_type": "code",
   "execution_count": 13,
   "metadata": {
    "collapsed": false
   },
   "outputs": [
    {
     "name": "stdout",
     "output_type": "stream",
     "text": [
      "-2115.38591053\n"
     ]
    }
   ],
   "source": [
    "#define equilibrium criteria:\n",
    "#Residual_G_Liquid is equal to Residual_G_Vapor :. \n",
    "#mathematically:\n",
    "#Delta_Residual_G = zero :.\n",
    "#in practical implementation for a numerical solution:\n",
    "#Delta_Residual_G < Tolerance\n",
    "def Delta_Residual_G(T,P):\n",
    "    c3 = P #coefficient for v^3\n",
    "    c2 = -(P*b+R*T) #coefficient v^2\n",
    "    c1 = a  #coefficient v^1\n",
    "    c0 = -a*b  #coefficient v^0\n",
    "    V = scipy.roots([c3,c2,c1,c0])\n",
    "    Vl = min(V)\n",
    "    Vv = max(V)\n",
    "    #print(P, V) #if you uncomment this line you will see every iteration in the output section of this cell\n",
    "    return (P*(Vl-Vv) + (-a)*(1/(Vl)-1/(Vv))+T*(R*numpy.log((Vv-b)/(Vl-b))))\n",
    "\n",
    "#test for T=220 and atmospheric pressure\n",
    "print(Delta_Residual_G(220,100000))\n",
    "#negative value means G_liq is lower"
   ]
  },
  {
   "cell_type": "markdown",
   "metadata": {},
   "source": [
    "What follows is similar to the work of Topliss et al.,:\n",
    "> Topliss, Robert J., Dimitrios Dimitrelis, and John M. Prausnitz. 1988. “Computational Aspects of a Non-Cubic Equation of State for Phase-Equilibrium Calculations. Effect of Density-Dependent Mixing Rules.” Computers & Chemical Engineering 12 (5): 483–89. doi:10.1016/0098-1354(88)85067-1.\n",
    "\n",
    "To calculate saturation pressure for a given $T$, first we isolate the range of pressure where fluid phase equilibria can occur:\n",
    "That is the range of pressure where there are 3 valid roots of volume (keep in mind the isotherms presented in notebook 2). The maximum and minimum pressure that presents 3 valid roots for volume we will call `P_upper_plateau` and `P_lower_plateau` respectively. "
   ]
  },
  {
   "cell_type": "markdown",
   "metadata": {},
   "source": [
    "> given\n",
    "> \n",
    "> $T$,\n",
    "> \n",
    "> find all possible\n",
    "> \n",
    "> $\\bar{V}^*$,\n",
    "> \n",
    "> so that\n",
    "> \n",
    "> $\\left(\\frac{\\partial P}{  \\partial \\bar{V}}\\right)_{T}=0$\n",
    "> \n",
    "> in\n",
    "> \n",
    "> $\\bar{V}^* \\in (b,\\infty)$.\n",
    "> \n",
    "> Then, find the corresponding\n",
    "> \n",
    "> $P^* = P(T,\\bar{V}^*)$."
   ]
  },
  {
   "cell_type": "markdown",
   "metadata": {},
   "source": [
    "Analytical development of the partial derivative yields:\n",
    "\n",
    "$\\left(\\frac{\\partial P}{  \\partial \\bar{V}}\\right)_{T}=-\\frac{RT}{(\\bar{V}-b)^2} + \\frac{2a}{\\bar{V}^3}$"
   ]
  },
  {
   "cell_type": "markdown",
   "metadata": {},
   "source": [
    "Therefore in the stationary points, the following equality is true:\n",
    "\n",
    "$-\\frac{RT}{(\\bar{V}-b)^2} + \\frac{2a}{\\bar{V}^3}=0$"
   ]
  },
  {
   "cell_type": "markdown",
   "metadata": {},
   "source": [
    "It represents another 3rd order polynomial in $\\bar{V}$ (not the same from the problem of finding $\\bar{V}$ given $P$ and $T$), as follows:"
   ]
  },
  {
   "cell_type": "markdown",
   "metadata": {},
   "source": [
    "$-{RT}{\\bar{V}^3} + {2a}{(\\bar{V}-b)^2}=0$"
   ]
  },
  {
   "cell_type": "markdown",
   "metadata": {},
   "source": [
    "$-{RT}{\\bar{V}^3} + {2a}{(\\bar{V})^2}+{2a}{(b)^2}+{2a}{(-2\\bar{V}b)}=0$"
   ]
  },
  {
   "cell_type": "code",
   "execution_count": 14,
   "metadata": {
    "collapsed": false
   },
   "outputs": [
    {
     "name": "stdout",
     "output_type": "stream",
     "text": [
      "Vli: 0.000251661242908\n",
      "Vvi: 0.00233425727852\n",
      "Psupi: 388842.000342\n",
      "Pinfi: 1e-09\n"
     ]
    }
   ],
   "source": [
    "#calculate each coeffcient of the polynomial-in-V representation of dP/dV=0\n",
    "def Plimits(T):\n",
    "    rho = R*T\n",
    "    mu = 2*(-a)\n",
    "    nu = - b*(a*(-4))\n",
    "    omega=- 2*(b**2)*(a*(1))\n",
    "    #and use the method \"roots\" from package \"numpy\" to calculate the roots of this polynomial and assing the solutions to the variable plateaus as an array\n",
    "    plateaus = scipy.roots([rho,mu,nu,omega])\n",
    "#    print(\"plateaus:\", plateaus)\n",
    "\n",
    "    #filter out values of plateu corresponding to non-physical volume (less than b or complex)\n",
    "    plateaus = plateaus[ numpy.where( plateaus > b ) ] #using the numpy function 'where\n",
    "\n",
    "#    print(\"plateaus:\", plateaus)\n",
    "    Vli = min(plateaus)\n",
    "    Vvi = max(plateaus)\n",
    "\n",
    "    #find the corrsponding values of pressure for each filtered volume\n",
    "    Psup = R*T/(Vvi-b)-a/(Vvi*Vvi)\n",
    "    Psupi=Psup*.999\n",
    "\n",
    "    Pinf = R*T/(Vli-b)-a/(Vli*Vli)\n",
    "\n",
    "    #note that the algorithm cannot work with pressure less than or equal to zero, therefore fix minimium pressure to slightly above zero if it was negative\n",
    "\n",
    "    if Pinf > 0:\n",
    "        Pinfi = Pinf*1.001\n",
    "    else:\n",
    "        Pinfi = 0.000000001\n",
    "        \n",
    "    return [Vli,Vvi,Psupi,Pinfi]\n",
    "\n",
    "[Vli,Vvi,Psupi,Pinfi]=Plimits(220)\n",
    "\n",
    "print(\"Vli:\",Vli)\n",
    "print(\"Vvi:\",Vvi)\n",
    "print(\"Psupi:\",Psupi)\n",
    "print(\"Pinfi:\",Pinfi)"
   ]
  },
  {
   "cell_type": "markdown",
   "metadata": {},
   "source": [
    "Now we must find the solution $P$. Thus, we ask the package optmize to use the bissect method and solve the equilibrium criteria (equality of residual Gibbs free energy for both phases):\n"
   ]
  },
  {
   "cell_type": "code",
   "execution_count": 15,
   "metadata": {
    "collapsed": false,
    "scrolled": true
   },
   "outputs": [
    {
     "name": "stdout",
     "output_type": "stream",
     "text": [
      "-2115.38591053\n",
      "-2115.38591053\n"
     ]
    }
   ],
   "source": [
    "#Here, bisect is a numerical method that works on a function of 1 variable\n",
    "#However note that we wrote Delta_Residual_G as a function of 2 variables: T and P\n",
    "#So, to implement a handle of a function of one variable (P) that the method can wok with\n",
    "#and that corresponds to the previosuly defined d_G_Res(T,P) at one given T\n",
    "#we do the following\n",
    "def Delta_Residual_G_at_220K(P): #P appears here as the 1 variable inut argument\n",
    "    return Delta_Residual_G(220,P) #Temperature apppears hard-coded here as 220 K\n",
    "\n",
    "print(Delta_Residual_G(220,100000))\n",
    "print(Delta_Residual_G_at_220K(100000))"
   ]
  },
  {
   "cell_type": "code",
   "execution_count": 16,
   "metadata": {
    "collapsed": false
   },
   "outputs": [
    {
     "name": "stdout",
     "output_type": "stream",
     "text": [
      "Saturation pressure =  29756.113042661374  Pa ( 0.29756113042661375 bar )\n"
     ]
    }
   ],
   "source": [
    "P_sat = optimize.bisect(Delta_Residual_G_at_220K, Pinfi, Psupi, xtol=1.0e-9, rtol=1.0e-9, maxiter=100, full_output=True, disp=True)\n",
    "print(\"Saturation pressure = \",P_sat[0],\" Pa (\", P_sat[0]/10**5, \"bar )\" )"
   ]
  },
  {
   "cell_type": "markdown",
   "metadata": {},
   "source": [
    "In the first element (index 0) of the returning array of `optmize.bisect` we read the value of the saturation pressure\n",
    "in the second element we read additional information about the execution of the numerical method."
   ]
  },
  {
   "cell_type": "code",
   "execution_count": 17,
   "metadata": {
    "collapsed": false
   },
   "outputs": [
    {
     "name": "stdout",
     "output_type": "stream",
     "text": [
      "      converged: True\n",
      "           flag: 'converged'\n",
      " function_calls: 32\n",
      "     iterations: 30\n",
      "           root: 29756.113042661374\n"
     ]
    }
   ],
   "source": [
    "print(P_sat[1])"
   ]
  },
  {
   "cell_type": "markdown",
   "metadata": {},
   "source": [
    "# Grid, Calc and Plot"
   ]
  },
  {
   "cell_type": "code",
   "execution_count": 18,
   "metadata": {
    "collapsed": false
   },
   "outputs": [
    {
     "name": "stdout",
     "output_type": "stream",
     "text": [
      "29756.11304266136\n"
     ]
    }
   ],
   "source": [
    "def calc_Psat(T_in):\n",
    "    givenT=T_in\n",
    "#Here, bisect is a numerical method that works on a function of 1 variable\n",
    "#However note that we wrote Delta_Residual_G as a function of 2 variables: T and P\n",
    "#So, to implement a handle of a function of one variable (P) that the method can wok with\n",
    "#and that corresponds to the previosuly defined d_G_Res(T,P) at one given T\n",
    "#we do the following\n",
    "    def Delta_Residual_G_givenT(P): #P appears here as the 1 variable inut argument\n",
    "        return Delta_Residual_G(givenT,P) #T apppears here and is obained from the surrounding scope, see below the tests:\n",
    "    \n",
    "    [_,_,Pinfi,Psupi]=Plimits(givenT)\n",
    "    ans = optimize.bisect(Delta_Residual_G_givenT, Pinfi, Psupi, xtol=1.0e-9, rtol=1.0e-9, maxiter=100, full_output=True, disp=True)\n",
    "    return ans[0]\n",
    "\n",
    "#test\n",
    "print(calc_Psat(220))"
   ]
  },
  {
   "cell_type": "code",
   "execution_count": 19,
   "metadata": {
    "collapsed": false,
    "scrolled": false
   },
   "outputs": [
    {
     "name": "stderr",
     "output_type": "stream",
     "text": [
      "C:\\Users\\iuri\\Anaconda3\\lib\\site-packages\\scipy\\optimize\\zeros.py:248: ComplexWarning: Casting complex values to real discards the imaginary part\n",
      "  r = _zeros._bisect(f,a,b,xtol,rtol,maxiter,args,full_output,disp)\n"
     ]
    }
   ],
   "source": [
    "T=100\n",
    "Taxis=numpy.linspace(100,Tc,1000)\n",
    "Paxis=numpy.zeros(1000)\n",
    "Paxis[0]=calc_Psat(Taxis[0])\n",
    "for i in range(1,999):\n",
    "    Paxis[i]=calc_Psat(Taxis[i])\n",
    "    #print(i,Taxis[i],Paxis[i])"
   ]
  },
  {
   "cell_type": "code",
   "execution_count": 20,
   "metadata": {
    "collapsed": true
   },
   "outputs": [],
   "source": [
    "#compare with Antoine fits:\n",
    "def Pantoine(T): #http://webbook.nist.gov/cgi/cbook.cgi?ID=C110543&Mask=4\n",
    "    if T < 177.70:\n",
    "        return 0\n",
    "    elif T < 264.93:\n",
    "        A=3.45604\n",
    "        B=1044.038\n",
    "        C=-53.893\n",
    "        return (10**( A - (B / (T + C)) )   )* 10**5\n",
    "    elif T < 286.18:\n",
    "        return 0\n",
    "    elif T<342.69:\n",
    "        A=4.00266\n",
    "        B=1171.53\n",
    "        C=-48.784\n",
    "        return (10**( A - (B / (T + C)) )   )* 10**5\n",
    "    else:\n",
    "        return 0\n",
    "    \n",
    "def Pantoine2(T): #http://ddbonline.ddbst.com/AntoineCalculation/AntoineCalculationCGI.exe\n",
    "    A=7.01051\n",
    "    B=1246.33\n",
    "    C=232.988\n",
    "    return (10**( A - (B / (T - 273 + C)) )   )* 101325/760.0"
   ]
  },
  {
   "cell_type": "code",
   "execution_count": 21,
   "metadata": {
    "collapsed": false
   },
   "outputs": [
    {
     "data": {
      "image/png": "[encoded data removed]",
      "text/plain": [
       "<matplotlib.figure.Figure at 0x75c73c8>"
      ]
     },
     "metadata": {},
     "output_type": "display_data"
    },
    {
     "data": {
      "image/png": "[encoded data removed]",
      "text/plain": [
       "<matplotlib.figure.Figure at 0x7ebaf28>"
      ]
     },
     "metadata": {},
     "output_type": "display_data"
    }
   ],
   "source": [
    "import matplotlib as matplotlib\n",
    "from matplotlib import pyplot\n",
    "%matplotlib inline\n",
    "\n",
    "matplotlib.pyplot.figure(1)\n",
    "matplotlib.pyplot.plot(Taxis,Paxis)\n",
    "\n",
    "\n",
    "        \n",
    "Pantoineaxis = numpy.zeros(1000)\n",
    "Pantoineaxis = [ Pantoine(Taxis[i]) for i in range(1000) ]\n",
    "\n",
    "#print(Pantoineaxis)\n",
    "\n",
    "matplotlib.pyplot.plot(Taxis,Pantoineaxis)\n",
    "\n",
    "\n",
    "Pantoineaxis2 = numpy.zeros(1000)\n",
    "Pantoineaxis2 = [ Pantoine2(Taxis[i]) for i in range(1000) ]\n",
    "\n",
    "#print(Pantoineaxis)\n",
    "\n",
    "matplotlib.pyplot.plot(Taxis,Pantoineaxis2)\n",
    "\n",
    "matplotlib.pyplot.xlim([100,Tc])\n",
    "matplotlib.pyplot.ylim([100,Pc])\n",
    "\n",
    "\n",
    "matplotlib.pyplot.figure(2)\n",
    "matplotlib.pyplot.semilogy(Taxis,Paxis)\n",
    "\n",
    "\n",
    "        \n",
    "Pantoineaxis = numpy.zeros(1000)\n",
    "Pantoineaxis = [ Pantoine(Taxis[i]) for i in range(1000) ]\n",
    "\n",
    "#print(Pantoineaxis)\n",
    "\n",
    "matplotlib.pyplot.semilogy(Taxis,Pantoineaxis)\n",
    "\n",
    "\n",
    "Pantoineaxis2 = numpy.zeros(1000)\n",
    "Pantoineaxis2 = [ Pantoine2(Taxis[i]) for i in range(1000) ]\n",
    "\n",
    "#print(Pantoineaxis)\n",
    "\n",
    "matplotlib.pyplot.semilogy(Taxis,Pantoineaxis2)\n",
    "\n",
    "matplotlib.pyplot.xlim([100,Tc])\n",
    "matplotlib.pyplot.ylim([100,Pc])\n",
    "\n",
    "matplotlib.pyplot.show()\n",
    "\n"
   ]
  },
  {
   "cell_type": "markdown",
   "metadata": {},
   "source": [
    "## Conclusion\n",
    "In this notebook, a simple cubic equation of state was used to calculate the volume, the residual Gibbs energy and the saturation pressure of a pure fluid. Here, the saturation pressure was obtained by finding a pressure that would lead to equal residual Gibbs energy between two phases. In order to achieve that, this notebook introduced key concepts of phase equilibrium calculation (equality of molar Gibbs energy, for instance) and major tools for applied thermodynamics, such as root finding numerical methods available in scipy. After studying this notebook, the student should be able to solve simple fluid phase equilibrium problems and use numerical methods already implemented in Python libraries. "
   ]
  },
  {
   "cell_type": "markdown",
   "metadata": {},
   "source": [
    "## External references\n",
    "* scipy, optimize [documentation](http://docs.scipy.org/doc/scipy/reference/optimize.html)\n"
   ]
  },
  {
   "cell_type": "markdown",
   "metadata": {},
   "source": [
    "## Credits\n",
    "* Initially developed in python 2.7 by Guilherme Carneiro Queiroz da Silva\n",
    "* Adapted to ipynb with python 3.5 by Iuri Soter Viana Segtovich\n",
    "* Review - Fernando de Azevedo Medeiros"
   ]
  }
 ],
 "metadata": {
  "anaconda-cloud": {},
  "kernelspec": {
   "display_name": "Python [Root]",
   "language": "python",
   "name": "Python [Root]"
  },
  "language_info": {
   "codemirror_mode": {
    "name": "ipython",
    "version": 3
   },
   "file_extension": ".py",
   "mimetype": "text/x-python",
   "name": "python",
   "nbconvert_exporter": "python",
   "pygments_lexer": "ipython3",
   "version": "3.5.2"
  }
 },
 "nbformat": 4,
 "nbformat_minor": 0
}
