{
 "cells": [
  {
   "cell_type": "markdown",
   "metadata": {},
   "source": [
    "# sympy and the van der Waals's Equation of State analytical solutions\n",
    "\n",
    "This notebook intends to present van der Waals's Equation of State([wikipedia](https://en.wikipedia.org/wiki/Van_der_Waals_equation),[nobel prize lecture](http://www.nobelprize.org/nobel_prizes/physics/laureates/1910/waals-lecture.pdf)), and to derive some fundamental thermodynamic properties from that, according to the rules of calculus of classical thermodynamics relations ([Tester,Model,1997](http://www.isbnsearch.org/isbn/9780139153563),[Michelsen, Mollerup, 2007](http://www.forskningsdatabasen.dk/en/catalog/108130984)).\n",
    "\n",
    "\n",
    "> **Here you will meet the following topics:**\n",
    ">- Thermodynamics: `fugacity coefficient`\n",
    ">- Python: `sympy`\n",
    ">- Jupyter Notebook: `magic command`, `interactive figures`"
   ]
  },
  {
   "cell_type": "markdown",
   "metadata": {},
   "source": [
    "Supose you have to solve the following assignment in a thermodynamics course:\n",
    ">\"Derive the expression to calculate fugacity coefficient from Peng-Robinson EoS Helmholtz energy representation\""
   ]
  },
  {
   "cell_type": "markdown",
   "metadata": {},
   "source": [
    "Here we will use sympy, the python package for symbolic mathematics. it is an under development computer algebra system (CAS)"
   ]
  },
  {
   "cell_type": "code",
   "execution_count": 1,
   "metadata": {
    "collapsed": true
   },
   "outputs": [],
   "source": [
    "import sympy as sympy"
   ]
  },
  {
   "cell_type": "markdown",
   "metadata": {},
   "source": [
    "here we define some symbols to represent the variables in the functions that we wish to work with"
   ]
  },
  {
   "cell_type": "code",
   "execution_count": 2,
   "metadata": {
    "collapsed": false
   },
   "outputs": [],
   "source": [
    "R=sympy.symbols(\"R\")\n",
    "T,V=sympy.symbols(\"T,V\")\n",
    "a,b=sympy.symbols(\"a,b\")"
   ]
  },
  {
   "cell_type": "markdown",
   "metadata": {},
   "source": [
    "and define some functions of these variable with explicit expression representation\n",
    "the following is helmoholtz energy from peng-robinson EoS (REFERENCE MISSING)\n",
    "with explict dependence of A on T,V,n,a,b, but with undefined dependence on a b and n on n_i\n",
    "these undefined dependences are available in the reference, and we can take them into consideration later."
   ]
  },
  {
   "cell_type": "code",
   "execution_count": 3,
   "metadata": {
    "collapsed": false
   },
   "outputs": [],
   "source": [
    "P=(R*T)/(V-b) - a/(V*V)"
   ]
  },
  {
   "cell_type": "markdown",
   "metadata": {},
   "source": [
    "we can use the sympy method \"derivative\" to obtain the derivative of A with respect to some n_i, explicit dependendce is evaluated and undefined dependence is carried around trough product rules and chain rules."
   ]
  },
  {
   "cell_type": "code",
   "execution_count": 4,
   "metadata": {
    "collapsed": false
   },
   "outputs": [],
   "source": [
    "dPdT = sympy.Derivative(P,T,evaluate=True)\n"
   ]
  },
  {
   "cell_type": "markdown",
   "metadata": {
    "collapsed": true
   },
   "source": [
    "In a notebook, we can use mathjax, to get \"pretty printing\" of sympy expressions. Just import `display` from `IPython.display` and run the `init_printing()` method of sympy telling it tu use `mathjax` to render the equations"
   ]
  },
  {
   "cell_type": "code",
   "execution_count": 5,
   "metadata": {
    "collapsed": true
   },
   "outputs": [],
   "source": [
    "from IPython.display import display\n",
    "sympy.init_printing(use_latex='mathjax')"
   ]
  },
  {
   "cell_type": "code",
   "execution_count": 6,
   "metadata": {
    "collapsed": false
   },
   "outputs": [
    {
     "data": {
      "text/latex": [
       "$$\\frac{R}{V - b}$$"
      ],
      "text/plain": [
       "  R  \n",
       "─────\n",
       "V - b"
      ]
     },
     "metadata": {},
     "output_type": "display_data"
    }
   ],
   "source": [
    "display(dPdT)\n"
   ]
  },
  {
   "cell_type": "code",
   "execution_count": 7,
   "metadata": {
    "collapsed": false
   },
   "outputs": [
    {
     "data": {
      "text/latex": [
       "$$- \\frac{R T}{\\left(V - b\\right)^{2}} + \\frac{2 a}{V^{3}}$$"
      ],
      "text/plain": [
       "    R⋅T      2⋅a\n",
       "- ──────── + ───\n",
       "         2     3\n",
       "  (V - b)     V "
      ]
     },
     "metadata": {},
     "output_type": "display_data"
    }
   ],
   "source": [
    "dPdV = sympy.Derivative(P,V,evaluate=True)\n",
    "display(dPdV)"
   ]
  },
  {
   "cell_type": "code",
   "execution_count": 8,
   "metadata": {
    "collapsed": true
   },
   "outputs": [],
   "source": [
    "d2PdV2 = sympy.Derivative(dPdV,V,evaluate=True)\n"
   ]
  },
  {
   "cell_type": "code",
   "execution_count": 9,
   "metadata": {
    "collapsed": false
   },
   "outputs": [
    {
     "data": {
      "text/latex": [
       "$$\\frac{2 R T}{\\left(V - b\\right)^{3}} - \\frac{6 a}{V^{4}}$$"
      ],
      "text/plain": [
       " 2⋅R⋅T     6⋅a\n",
       "──────── - ───\n",
       "       3     4\n",
       "(V - b)     V "
      ]
     },
     "metadata": {},
     "output_type": "display_data"
    }
   ],
   "source": [
    "display(d2PdV2)"
   ]
  },
  {
   "cell_type": "markdown",
   "metadata": {},
   "source": [
    "after this effort, we would like to test our final equaitnos for numerical results\n",
    "for that purpose we can use the function `lambdify`\n",
    "\n",
    "this will take any expression from sympy\n",
    "and implemet a numerical evaluation routine\n",
    "taking 1 dummy argument for each independent symbol"
   ]
  },
  {
   "cell_type": "code",
   "execution_count": 10,
   "metadata": {
    "collapsed": true
   },
   "outputs": [],
   "source": [
    "num_P = sympy.lambdify(    \n",
    "    (\n",
    "        R, T, V, a, b\n",
    "    ),\n",
    "    P,\n",
    "    \"numpy\")"
   ]
  },
  {
   "cell_type": "markdown",
   "metadata": {},
   "source": [
    "lets test"
   ]
  },
  {
   "cell_type": "code",
   "execution_count": 11,
   "metadata": {
    "collapsed": false
   },
   "outputs": [
    {
     "name": "stdout",
     "output_type": "stream",
     "text": [
      "2269.5122235699937\n"
     ]
    }
   ],
   "source": [
    "val_R = 8.314\n",
    "val_T = 273\n",
    "val_V = 1\n",
    "val_a = 0.2495499363743344\n",
    "val_b = 1.752320742732558e-05\n",
    "print(\n",
    "    num_P(val_R,val_T,val_V,val_a,val_b)\n",
    ")"
   ]
  },
  {
   "cell_type": "code",
   "execution_count": 12,
   "metadata": {
    "collapsed": false
   },
   "outputs": [],
   "source": [
    "from sympy import solve"
   ]
  },
  {
   "cell_type": "code",
   "execution_count": 13,
   "metadata": {
    "collapsed": false
   },
   "outputs": [],
   "source": [
    "varP=sympy.symbols('varP')"
   ]
  },
  {
   "cell_type": "code",
   "execution_count": 14,
   "metadata": {
    "collapsed": true
   },
   "outputs": [],
   "source": [
    "zero=varP-P"
   ]
  },
  {
   "cell_type": "code",
   "execution_count": 15,
   "metadata": {
    "collapsed": false
   },
   "outputs": [
    {
     "data": {
      "text/latex": [
       "$$- \\frac{R T}{V - b} + varP + \\frac{a}{V^{2}}$$"
      ],
      "text/plain": [
       "   R⋅T           a \n",
       "- ───── + varP + ──\n",
       "  V - b           2\n",
       "                 V "
      ]
     },
     "metadata": {},
     "output_type": "display_data"
    }
   ],
   "source": [
    "display(zero)"
   ]
  },
  {
   "cell_type": "code",
   "execution_count": 16,
   "metadata": {
    "collapsed": false
   },
   "outputs": [],
   "source": [
    "sol_V = solve(zero,V)"
   ]
  },
  {
   "cell_type": "code",
   "execution_count": 17,
   "metadata": {
    "collapsed": false
   },
   "outputs": [
    {
     "name": "stdout",
     "output_type": "stream",
     "text": [
      "3\n"
     ]
    }
   ],
   "source": [
    "print(len(sol_V))"
   ]
  },
  {
   "cell_type": "code",
   "execution_count": 18,
   "metadata": {
    "collapsed": false
   },
   "outputs": [
    {
     "name": "stdout",
     "output_type": "stream",
     "text": [
      "-(-3*a/varP + (-R*T - b*varP)**2/varP**2)/(3*(-27*a*b/(2*varP) - 9*a*(-R*T - b*varP)/(2*varP**2) + sqrt(-4*(-3*a/varP + (-R*T - b*varP)**2/varP**2)**3 + (-27*a*b/varP - 9*a*(-R*T - b*varP)/varP**2 + 2*(-R*T - b*varP)**3/varP**3)**2)/2 + (-R*T - b*varP)**3/varP**3)**(1/3)) - (-27*a*b/(2*varP) - 9*a*(-R*T - b*varP)/(2*varP**2) + sqrt(-4*(-3*a/varP + (-R*T - b*varP)**2/varP**2)**3 + (-27*a*b/varP - 9*a*(-R*T - b*varP)/varP**2 + 2*(-R*T - b*varP)**3/varP**3)**2)/2 + (-R*T - b*varP)**3/varP**3)**(1/3)/3 - (-R*T - b*varP)/(3*varP)\n"
     ]
    },
    {
     "data": {
      "text/latex": [
       "$$- \\frac{- \\frac{3 a}{varP} + \\frac{1}{varP^{2}} \\left(- R T - b varP\\right)^{2}}{3 \\sqrt[3]{- \\frac{27 a b}{2 varP} - \\frac{9 a}{2 varP^{2}} \\left(- R T - b varP\\right) + \\frac{1}{2} \\sqrt{- 4 \\left(- \\frac{3 a}{varP} + \\frac{1}{varP^{2}} \\left(- R T - b varP\\right)^{2}\\right)^{3} + \\left(- \\frac{27 a}{varP} b - \\frac{9 a}{varP^{2}} \\left(- R T - b varP\\right) + \\frac{2}{varP^{3}} \\left(- R T - b varP\\right)^{3}\\right)^{2}} + \\frac{1}{varP^{3}} \\left(- R T - b varP\\right)^{3}}} - \\frac{1}{3} \\sqrt[3]{- \\frac{27 a b}{2 varP} - \\frac{9 a}{2 varP^{2}} \\left(- R T - b varP\\right) + \\frac{1}{2} \\sqrt{- 4 \\left(- \\frac{3 a}{varP} + \\frac{1}{varP^{2}} \\left(- R T - b varP\\right)^{2}\\right)^{3} + \\left(- \\frac{27 a}{varP} b - \\frac{9 a}{varP^{2}} \\left(- R T - b varP\\right) + \\frac{2}{varP^{3}} \\left(- R T - b varP\\right)^{3}\\right)^{2}} + \\frac{1}{varP^{3}} \\left(- R T - b varP\\right)^{3}} - \\frac{1}{3 varP} \\left(- R T - b varP\\right)$$"
      ],
      "text/plain": [
       "                                                                              \n",
       "                                                                              \n",
       "                                                                              \n",
       "                                                                              \n",
       "                                                                              \n",
       "                                                                              \n",
       "                                                                              \n",
       "                                                                          3⋅a \n",
       "                                                                        - ────\n",
       "                                                                          varP\n",
       "                                                                              \n",
       "- ────────────────────────────────────────────────────────────────────────────\n",
       "               _______________________________________________________________\n",
       "              ╱                                         ______________________\n",
       "             ╱                                         ╱                      \n",
       "            ╱                                         ╱      ⎛                \n",
       "           ╱                                         ╱       ⎜  3⋅a    (-R⋅T -\n",
       "          ╱                                         ╱    - 4⋅⎜- ──── + ───────\n",
       "         ╱                                         ╱         ⎜  varP          \n",
       "        ╱         27⋅a⋅b   9⋅a⋅(-R⋅T - b⋅varP)   ╲╱          ⎝              va\n",
       "  3⋅   ╱        - ────── - ─────────────────── + ─────────────────────────────\n",
       "    3 ╱           2⋅varP               2                                      \n",
       "    ╲╱                           2⋅varP                                       \n",
       "\n",
       "                                                                              \n",
       "                                                                              \n",
       "                                                                              \n",
       "                                                                              \n",
       "                                                                              \n",
       "                                                                              \n",
       "                  2                                                           \n",
       "   (-R⋅T - b⋅varP)                                                            \n",
       " + ────────────────                                                           \n",
       "            2                                                                 \n",
       "        varP                                                                  \n",
       "──────────────────────────────────────────────────────────────────────────────\n",
       "______________________________________________________________________________\n",
       "_____________________________________________________________________         \n",
       "          3                                                        2          \n",
       "        2⎞    ⎛                                                  3⎞           \n",
       " b⋅varP) ⎟    ⎜  27⋅a⋅b   9⋅a⋅(-R⋅T - b⋅varP)   2⋅(-R⋅T - b⋅varP) ⎟           \n",
       "─────────⎟  + ⎜- ────── - ─────────────────── + ──────────────────⎟           \n",
       "  2      ⎟    ⎜   varP               2                    3       ⎟           \n",
       "rP       ⎠    ⎝                  varP                 varP        ⎠     (-R⋅T \n",
       "───────────────────────────────────────────────────────────────────── + ──────\n",
       "                   2                                                          \n",
       "                                                                             v\n",
       "\n",
       "                         _____________________________________________________\n",
       "                        ╱                                         ____________\n",
       "                       ╱                                         ╱            \n",
       "                      ╱                                         ╱      ⎛      \n",
       "                     ╱                                         ╱       ⎜  3⋅a \n",
       "                    ╱                                         ╱    - 4⋅⎜- ────\n",
       "                   ╱                                         ╱         ⎜  varP\n",
       "                  ╱         27⋅a⋅b   9⋅a⋅(-R⋅T - b⋅varP)   ╲╱          ⎝      \n",
       "                 ╱        - ────── - ─────────────────── + ───────────────────\n",
       "              3 ╱           2⋅varP               2                            \n",
       "              ╲╱                           2⋅varP                             \n",
       "─────────── - ────────────────────────────────────────────────────────────────\n",
       "___________                                                                   \n",
       "                                                                              \n",
       "                                                                              \n",
       "                                                                              \n",
       "                                                                              \n",
       "                                                                              \n",
       "         3                                                                    \n",
       "- b⋅varP)                                                                     \n",
       "──────────                                                                    \n",
       "   3                                                                          \n",
       "arP                                                                           \n",
       "\n",
       "______________________________________________________________________________\n",
       "______________________________________________________________________________\n",
       "                    3                                                        2\n",
       "                  2⎞    ⎛                                                  3⎞ \n",
       "   (-R⋅T - b⋅varP) ⎟    ⎜  27⋅a⋅b   9⋅a⋅(-R⋅T - b⋅varP)   2⋅(-R⋅T - b⋅varP) ⎟ \n",
       " + ────────────────⎟  + ⎜- ────── - ─────────────────── + ──────────────────⎟ \n",
       "            2      ⎟    ⎜   varP               2                    3       ⎟ \n",
       "        varP       ⎠    ⎝                  varP                 varP        ⎠ \n",
       "──────────────────────────────────────────────────────────────────────────────\n",
       "                             2                                                \n",
       "                                                                              \n",
       "──────────────────────────────────────────────────────────────────────────────\n",
       "                 3                                                            \n",
       "                                                                              \n",
       "                                                                              \n",
       "                                                                              \n",
       "                                                                              \n",
       "                                                                              \n",
       "                                                                              \n",
       "                                                                              \n",
       "                                                                              \n",
       "                                                                              \n",
       "                                                                              \n",
       "\n",
       "_____________________                \n",
       "_                                    \n",
       "                                     \n",
       "                                     \n",
       "                                     \n",
       "                                     \n",
       "                   3                 \n",
       "    (-R⋅T - b⋅varP)                  \n",
       "─ + ────────────────                 \n",
       "             3                       \n",
       "         varP           -R⋅T - b⋅varP\n",
       "───────────────────── - ─────────────\n",
       "                            3⋅varP   \n",
       "                                     \n",
       "                                     \n",
       "                                     \n",
       "                                     \n",
       "                                     \n",
       "                                     \n",
       "                                     \n",
       "                                     \n",
       "                                     \n",
       "                                     "
      ]
     },
     "metadata": {},
     "output_type": "display_data"
    }
   ],
   "source": [
    "print(sol_V[0])\n",
    "display(sol_V[0])"
   ]
  },
  {
   "cell_type": "code",
   "execution_count": 19,
   "metadata": {
    "collapsed": false,
    "scrolled": true
   },
   "outputs": [
    {
     "name": "stdout",
     "output_type": "stream",
     "text": [
      "-(-3*a/varP + (-R*T - b*varP)**2/varP**2)/(3*(-1/2 - sqrt(3)*I/2)*(-27*a*b/(2*varP) - 9*a*(-R*T - b*varP)/(2*varP**2) + sqrt(-4*(-3*a/varP + (-R*T - b*varP)**2/varP**2)**3 + (-27*a*b/varP - 9*a*(-R*T - b*varP)/varP**2 + 2*(-R*T - b*varP)**3/varP**3)**2)/2 + (-R*T - b*varP)**3/varP**3)**(1/3)) - (-1/2 - sqrt(3)*I/2)*(-27*a*b/(2*varP) - 9*a*(-R*T - b*varP)/(2*varP**2) + sqrt(-4*(-3*a/varP + (-R*T - b*varP)**2/varP**2)**3 + (-27*a*b/varP - 9*a*(-R*T - b*varP)/varP**2 + 2*(-R*T - b*varP)**3/varP**3)**2)/2 + (-R*T - b*varP)**3/varP**3)**(1/3)/3 - (-R*T - b*varP)/(3*varP)\n"
     ]
    },
    {
     "data": {
      "text/latex": [
       "$$- \\frac{- \\frac{3 a}{varP} + \\frac{1}{varP^{2}} \\left(- R T - b varP\\right)^{2}}{3 \\left(- \\frac{1}{2} - \\frac{\\sqrt{3} i}{2}\\right) \\sqrt[3]{- \\frac{27 a b}{2 varP} - \\frac{9 a}{2 varP^{2}} \\left(- R T - b varP\\right) + \\frac{1}{2} \\sqrt{- 4 \\left(- \\frac{3 a}{varP} + \\frac{1}{varP^{2}} \\left(- R T - b varP\\right)^{2}\\right)^{3} + \\left(- \\frac{27 a}{varP} b - \\frac{9 a}{varP^{2}} \\left(- R T - b varP\\right) + \\frac{2}{varP^{3}} \\left(- R T - b varP\\right)^{3}\\right)^{2}} + \\frac{1}{varP^{3}} \\left(- R T - b varP\\right)^{3}}} - \\frac{1}{3} \\left(- \\frac{1}{2} - \\frac{\\sqrt{3} i}{2}\\right) \\sqrt[3]{- \\frac{27 a b}{2 varP} - \\frac{9 a}{2 varP^{2}} \\left(- R T - b varP\\right) + \\frac{1}{2} \\sqrt{- 4 \\left(- \\frac{3 a}{varP} + \\frac{1}{varP^{2}} \\left(- R T - b varP\\right)^{2}\\right)^{3} + \\left(- \\frac{27 a}{varP} b - \\frac{9 a}{varP^{2}} \\left(- R T - b varP\\right) + \\frac{2}{varP^{3}} \\left(- R T - b varP\\right)^{3}\\right)^{2}} + \\frac{1}{varP^{3}} \\left(- R T - b varP\\right)^{3}} - \\frac{1}{3 varP} \\left(- R T - b varP\\right)$$"
      ],
      "text/plain": [
       "                                                                              \n",
       "                                                                              \n",
       "                                                                              \n",
       "                                                                              \n",
       "                                                                              \n",
       "                                                                              \n",
       "                                                                              \n",
       "                                                                              \n",
       "                                                                              \n",
       "                                                                              \n",
       "                                                                              \n",
       "- ────────────────────────────────────────────────────────────────────────────\n",
       "                            __________________________________________________\n",
       "                           ╱                                         _________\n",
       "                          ╱                                         ╱         \n",
       "                         ╱                                         ╱      ⎛   \n",
       "                        ╱                                         ╱       ⎜  3\n",
       "                       ╱                                         ╱    - 4⋅⎜- ─\n",
       "                      ╱                                         ╱         ⎜  v\n",
       "    ⎛  1   √3⋅ⅈ⎞     ╱         27⋅a⋅b   9⋅a⋅(-R⋅T - b⋅varP)   ╲╱          ⎝   \n",
       "  3⋅⎜- ─ - ────⎟⋅   ╱        - ────── - ─────────────────── + ────────────────\n",
       "    ⎝  2    2  ⎠ 3 ╱           2⋅varP               2                         \n",
       "                 ╲╱                           2⋅varP                          \n",
       "\n",
       "                                                                              \n",
       "                                                                              \n",
       "                                                                              \n",
       "                                                                              \n",
       "                                                                              \n",
       "                                                                              \n",
       "                        2                                                     \n",
       "  3⋅a    (-R⋅T - b⋅varP)                                                      \n",
       "- ──── + ────────────────                                                     \n",
       "  varP            2                                                           \n",
       "              varP                                                            \n",
       "──────────────────────────────────────────────────────────────────────────────\n",
       "______________________________________________________________________________\n",
       "______________________________________________________________________________\n",
       "                       3                                                      \n",
       "                     2⎞    ⎛                                                  \n",
       "⋅a    (-R⋅T - b⋅varP) ⎟    ⎜  27⋅a⋅b   9⋅a⋅(-R⋅T - b⋅varP)   2⋅(-R⋅T - b⋅varP)\n",
       "─── + ────────────────⎟  + ⎜- ────── - ─────────────────── + ─────────────────\n",
       "arP            2      ⎟    ⎜   varP               2                    3      \n",
       "           varP       ⎠    ⎝                  varP                 varP       \n",
       "──────────────────────────────────────────────────────────────────────────────\n",
       "                                2                                             \n",
       "                                                                              \n",
       "\n",
       "                                                   ___________________________\n",
       "                                                  ╱                           \n",
       "                                                 ╱                            \n",
       "                                                ╱                             \n",
       "                                               ╱                              \n",
       "                                              ╱                               \n",
       "                                             ╱                                \n",
       "                           ⎛  1   √3⋅ⅈ⎞     ╱         27⋅a⋅b   9⋅a⋅(-R⋅T - b⋅v\n",
       "                           ⎜- ─ - ────⎟⋅   ╱        - ────── - ───────────────\n",
       "                           ⎝  2    2  ⎠ 3 ╱           2⋅varP               2  \n",
       "                                        ╲╱                           2⋅varP   \n",
       "──────────────────────── - ───────────────────────────────────────────────────\n",
       "________________________                                                      \n",
       "____                                                                          \n",
       "  2                                                                           \n",
       "3⎞                                                                            \n",
       " ⎟                                                                            \n",
       "─⎟                                                                            \n",
       " ⎟                    3                                                       \n",
       " ⎠     (-R⋅T - b⋅varP)                                                        \n",
       "──── + ────────────────                                                       \n",
       "                3                                                             \n",
       "            varP                                                              \n",
       "\n",
       "______________________________________________________________________________\n",
       "              ________________________________________________________________\n",
       "             ╱                                3                               \n",
       "            ╱      ⎛                        2⎞    ⎛                           \n",
       "           ╱       ⎜  3⋅a    (-R⋅T - b⋅varP) ⎟    ⎜  27⋅a⋅b   9⋅a⋅(-R⋅T - b⋅va\n",
       "          ╱    - 4⋅⎜- ──── + ────────────────⎟  + ⎜- ────── - ────────────────\n",
       "         ╱         ⎜  varP            2      ⎟    ⎜   varP               2    \n",
       "arP)   ╲╱          ⎝              varP       ⎠    ⎝                  varP     \n",
       "──── + ───────────────────────────────────────────────────────────────────────\n",
       "                                                       2                      \n",
       "                                                                              \n",
       "──────────────────────────────────────────────────────────────────────────────\n",
       "                                    3                                         \n",
       "                                                                              \n",
       "                                                                              \n",
       "                                                                              \n",
       "                                                                              \n",
       "                                                                              \n",
       "                                                                              \n",
       "                                                                              \n",
       "                                                                              \n",
       "                                                                              \n",
       "                                                                              \n",
       "\n",
       "_______________________________________________                \n",
       "___________________________                                    \n",
       "                         2                                     \n",
       "                       3⎞                                      \n",
       "rP)   2⋅(-R⋅T - b⋅varP) ⎟                                      \n",
       "─── + ──────────────────⎟                                      \n",
       "                3       ⎟                    3                 \n",
       "            varP        ⎠     (-R⋅T - b⋅varP)                  \n",
       "─────────────────────────── + ────────────────                 \n",
       "                                       3                       \n",
       "                                   varP           -R⋅T - b⋅varP\n",
       "─────────────────────────────────────────────── - ─────────────\n",
       "                                                      3⋅varP   \n",
       "                                                               \n",
       "                                                               \n",
       "                                                               \n",
       "                                                               \n",
       "                                                               \n",
       "                                                               \n",
       "                                                               \n",
       "                                                               \n",
       "                                                               \n",
       "                                                               "
      ]
     },
     "metadata": {},
     "output_type": "display_data"
    }
   ],
   "source": [
    "print(sol_V[1])\n",
    "display(sol_V[1])"
   ]
  },
  {
   "cell_type": "code",
   "execution_count": 20,
   "metadata": {
    "collapsed": false
   },
   "outputs": [
    {
     "name": "stdout",
     "output_type": "stream",
     "text": [
      "-(-3*a/varP + (-R*T - b*varP)**2/varP**2)/(3*(-1/2 + sqrt(3)*I/2)*(-27*a*b/(2*varP) - 9*a*(-R*T - b*varP)/(2*varP**2) + sqrt(-4*(-3*a/varP + (-R*T - b*varP)**2/varP**2)**3 + (-27*a*b/varP - 9*a*(-R*T - b*varP)/varP**2 + 2*(-R*T - b*varP)**3/varP**3)**2)/2 + (-R*T - b*varP)**3/varP**3)**(1/3)) - (-1/2 + sqrt(3)*I/2)*(-27*a*b/(2*varP) - 9*a*(-R*T - b*varP)/(2*varP**2) + sqrt(-4*(-3*a/varP + (-R*T - b*varP)**2/varP**2)**3 + (-27*a*b/varP - 9*a*(-R*T - b*varP)/varP**2 + 2*(-R*T - b*varP)**3/varP**3)**2)/2 + (-R*T - b*varP)**3/varP**3)**(1/3)/3 - (-R*T - b*varP)/(3*varP)\n"
     ]
    },
    {
     "data": {
      "text/latex": [
       "$$- \\frac{- \\frac{3 a}{varP} + \\frac{1}{varP^{2}} \\left(- R T - b varP\\right)^{2}}{3 \\left(- \\frac{1}{2} + \\frac{\\sqrt{3} i}{2}\\right) \\sqrt[3]{- \\frac{27 a b}{2 varP} - \\frac{9 a}{2 varP^{2}} \\left(- R T - b varP\\right) + \\frac{1}{2} \\sqrt{- 4 \\left(- \\frac{3 a}{varP} + \\frac{1}{varP^{2}} \\left(- R T - b varP\\right)^{2}\\right)^{3} + \\left(- \\frac{27 a}{varP} b - \\frac{9 a}{varP^{2}} \\left(- R T - b varP\\right) + \\frac{2}{varP^{3}} \\left(- R T - b varP\\right)^{3}\\right)^{2}} + \\frac{1}{varP^{3}} \\left(- R T - b varP\\right)^{3}}} - \\frac{1}{3} \\left(- \\frac{1}{2} + \\frac{\\sqrt{3} i}{2}\\right) \\sqrt[3]{- \\frac{27 a b}{2 varP} - \\frac{9 a}{2 varP^{2}} \\left(- R T - b varP\\right) + \\frac{1}{2} \\sqrt{- 4 \\left(- \\frac{3 a}{varP} + \\frac{1}{varP^{2}} \\left(- R T - b varP\\right)^{2}\\right)^{3} + \\left(- \\frac{27 a}{varP} b - \\frac{9 a}{varP^{2}} \\left(- R T - b varP\\right) + \\frac{2}{varP^{3}} \\left(- R T - b varP\\right)^{3}\\right)^{2}} + \\frac{1}{varP^{3}} \\left(- R T - b varP\\right)^{3}} - \\frac{1}{3 varP} \\left(- R T - b varP\\right)$$"
      ],
      "text/plain": [
       "                                                                              \n",
       "                                                                              \n",
       "                                                                              \n",
       "                                                                              \n",
       "                                                                              \n",
       "                                                                              \n",
       "                                                                              \n",
       "                                                                              \n",
       "                                                                              \n",
       "                                                                              \n",
       "                                                                              \n",
       "- ────────────────────────────────────────────────────────────────────────────\n",
       "                            __________________________________________________\n",
       "                           ╱                                         _________\n",
       "                          ╱                                         ╱         \n",
       "                         ╱                                         ╱      ⎛   \n",
       "                        ╱                                         ╱       ⎜  3\n",
       "                       ╱                                         ╱    - 4⋅⎜- ─\n",
       "                      ╱                                         ╱         ⎜  v\n",
       "    ⎛  1   √3⋅ⅈ⎞     ╱         27⋅a⋅b   9⋅a⋅(-R⋅T - b⋅varP)   ╲╱          ⎝   \n",
       "  3⋅⎜- ─ + ────⎟⋅   ╱        - ────── - ─────────────────── + ────────────────\n",
       "    ⎝  2    2  ⎠ 3 ╱           2⋅varP               2                         \n",
       "                 ╲╱                           2⋅varP                          \n",
       "\n",
       "                                                                              \n",
       "                                                                              \n",
       "                                                                              \n",
       "                                                                              \n",
       "                                                                              \n",
       "                                                                              \n",
       "                        2                                                     \n",
       "  3⋅a    (-R⋅T - b⋅varP)                                                      \n",
       "- ──── + ────────────────                                                     \n",
       "  varP            2                                                           \n",
       "              varP                                                            \n",
       "──────────────────────────────────────────────────────────────────────────────\n",
       "______________________________________________________________________________\n",
       "______________________________________________________________________________\n",
       "                       3                                                      \n",
       "                     2⎞    ⎛                                                  \n",
       "⋅a    (-R⋅T - b⋅varP) ⎟    ⎜  27⋅a⋅b   9⋅a⋅(-R⋅T - b⋅varP)   2⋅(-R⋅T - b⋅varP)\n",
       "─── + ────────────────⎟  + ⎜- ────── - ─────────────────── + ─────────────────\n",
       "arP            2      ⎟    ⎜   varP               2                    3      \n",
       "           varP       ⎠    ⎝                  varP                 varP       \n",
       "──────────────────────────────────────────────────────────────────────────────\n",
       "                                2                                             \n",
       "                                                                              \n",
       "\n",
       "                                                   ___________________________\n",
       "                                                  ╱                           \n",
       "                                                 ╱                            \n",
       "                                                ╱                             \n",
       "                                               ╱                              \n",
       "                                              ╱                               \n",
       "                                             ╱                                \n",
       "                           ⎛  1   √3⋅ⅈ⎞     ╱         27⋅a⋅b   9⋅a⋅(-R⋅T - b⋅v\n",
       "                           ⎜- ─ + ────⎟⋅   ╱        - ────── - ───────────────\n",
       "                           ⎝  2    2  ⎠ 3 ╱           2⋅varP               2  \n",
       "                                        ╲╱                           2⋅varP   \n",
       "──────────────────────── - ───────────────────────────────────────────────────\n",
       "________________________                                                      \n",
       "____                                                                          \n",
       "  2                                                                           \n",
       "3⎞                                                                            \n",
       " ⎟                                                                            \n",
       "─⎟                                                                            \n",
       " ⎟                    3                                                       \n",
       " ⎠     (-R⋅T - b⋅varP)                                                        \n",
       "──── + ────────────────                                                       \n",
       "                3                                                             \n",
       "            varP                                                              \n",
       "\n",
       "______________________________________________________________________________\n",
       "              ________________________________________________________________\n",
       "             ╱                                3                               \n",
       "            ╱      ⎛                        2⎞    ⎛                           \n",
       "           ╱       ⎜  3⋅a    (-R⋅T - b⋅varP) ⎟    ⎜  27⋅a⋅b   9⋅a⋅(-R⋅T - b⋅va\n",
       "          ╱    - 4⋅⎜- ──── + ────────────────⎟  + ⎜- ────── - ────────────────\n",
       "         ╱         ⎜  varP            2      ⎟    ⎜   varP               2    \n",
       "arP)   ╲╱          ⎝              varP       ⎠    ⎝                  varP     \n",
       "──── + ───────────────────────────────────────────────────────────────────────\n",
       "                                                       2                      \n",
       "                                                                              \n",
       "──────────────────────────────────────────────────────────────────────────────\n",
       "                                    3                                         \n",
       "                                                                              \n",
       "                                                                              \n",
       "                                                                              \n",
       "                                                                              \n",
       "                                                                              \n",
       "                                                                              \n",
       "                                                                              \n",
       "                                                                              \n",
       "                                                                              \n",
       "                                                                              \n",
       "\n",
       "_______________________________________________                \n",
       "___________________________                                    \n",
       "                         2                                     \n",
       "                       3⎞                                      \n",
       "rP)   2⋅(-R⋅T - b⋅varP) ⎟                                      \n",
       "─── + ──────────────────⎟                                      \n",
       "                3       ⎟                    3                 \n",
       "            varP        ⎠     (-R⋅T - b⋅varP)                  \n",
       "─────────────────────────── + ────────────────                 \n",
       "                                       3                       \n",
       "                                   varP           -R⋅T - b⋅varP\n",
       "─────────────────────────────────────────────── - ─────────────\n",
       "                                                      3⋅varP   \n",
       "                                                               \n",
       "                                                               \n",
       "                                                               \n",
       "                                                               \n",
       "                                                               \n",
       "                                                               \n",
       "                                                               \n",
       "                                                               \n",
       "                                                               \n",
       "                                                               "
      ]
     },
     "metadata": {},
     "output_type": "display_data"
    }
   ],
   "source": [
    "print(sol_V[2])\n",
    "display(sol_V[2])"
   ]
  },
  {
   "cell_type": "code",
   "execution_count": 21,
   "metadata": {
    "collapsed": false
   },
   "outputs": [],
   "source": [
    "sol_V_R=[sol_V[i].subs({R:8.3144598}) for i in range(0,3,1)]"
   ]
  },
  {
   "cell_type": "code",
   "execution_count": 22,
   "metadata": {
    "collapsed": false
   },
   "outputs": [
    {
     "name": "stdout",
     "output_type": "stream",
     "text": [
      "-(-3*a/varP + (-8.3144598*T - b*varP)**2/varP**2)/(3*(-27*a*b/(2*varP) - 9*a*(-8.3144598*T - b*varP)/(2*varP**2) + sqrt(-4*(-3*a/varP + (-8.3144598*T - b*varP)**2/varP**2)**3 + (-27*a*b/varP - 9*a*(-8.3144598*T - b*varP)/varP**2 + 2*(-8.3144598*T - b*varP)**3/varP**3)**2)/2 + (-8.3144598*T - b*varP)**3/varP**3)**(1/3)) - (-27*a*b/(2*varP) - 9*a*(-8.3144598*T - b*varP)/(2*varP**2) + sqrt(-4*(-3*a/varP + (-8.3144598*T - b*varP)**2/varP**2)**3 + (-27*a*b/varP - 9*a*(-8.3144598*T - b*varP)/varP**2 + 2*(-8.3144598*T - b*varP)**3/varP**3)**2)/2 + (-8.3144598*T - b*varP)**3/varP**3)**(1/3)/3 - (-8.3144598*T - b*varP)/(3*varP)\n"
     ]
    },
    {
     "data": {
      "text/latex": [
       "$$- \\frac{- \\frac{3 a}{varP} + \\frac{1}{varP^{2}} \\left(- 8.3144598 T - b varP\\right)^{2}}{3 \\sqrt[3]{- \\frac{27 a b}{2 varP} - \\frac{9 a}{2 varP^{2}} \\left(- 8.3144598 T - b varP\\right) + \\frac{1}{2} \\sqrt{- 4 \\left(- \\frac{3 a}{varP} + \\frac{1}{varP^{2}} \\left(- 8.3144598 T - b varP\\right)^{2}\\right)^{3} + \\left(- \\frac{27 a}{varP} b - \\frac{9 a}{varP^{2}} \\left(- 8.3144598 T - b varP\\right) + \\frac{2}{varP^{3}} \\left(- 8.3144598 T - b varP\\right)^{3}\\right)^{2}} + \\frac{1}{varP^{3}} \\left(- 8.3144598 T - b varP\\right)^{3}}} - \\frac{1}{3} \\sqrt[3]{- \\frac{27 a b}{2 varP} - \\frac{9 a}{2 varP^{2}} \\left(- 8.3144598 T - b varP\\right) + \\frac{1}{2} \\sqrt{- 4 \\left(- \\frac{3 a}{varP} + \\frac{1}{varP^{2}} \\left(- 8.3144598 T - b varP\\right)^{2}\\right)^{3} + \\left(- \\frac{27 a}{varP} b - \\frac{9 a}{varP^{2}} \\left(- 8.3144598 T - b varP\\right) + \\frac{2}{varP^{3}} \\left(- 8.3144598 T - b varP\\right)^{3}\\right)^{2}} + \\frac{1}{varP^{3}} \\left(- 8.3144598 T - b varP\\right)^{3}} - \\frac{1}{3 varP} \\left(- 8.3144598 T - b varP\\right)$$"
      ],
      "text/plain": [
       "                                                                              \n",
       "                                                                              \n",
       "                                                                              \n",
       "                                                                              \n",
       "                                                                              \n",
       "                                                                              \n",
       "                                                                              \n",
       "                                                                              \n",
       "                                                                              \n",
       "                                                                              \n",
       "                                                                              \n",
       "- ────────────────────────────────────────────────────────────────────────────\n",
       "               _______________________________________________________________\n",
       "              ╱                                                 ______________\n",
       "             ╱                                                 ╱              \n",
       "            ╱                                                 ╱      ⎛        \n",
       "           ╱                                                 ╱       ⎜  3⋅a   \n",
       "          ╱                                                 ╱    - 4⋅⎜- ──── +\n",
       "         ╱                                                 ╱         ⎜  varP  \n",
       "        ╱         27⋅a⋅b   9⋅a⋅(-8.3144598⋅T - b⋅varP)   ╲╱          ⎝        \n",
       "  3⋅   ╱        - ────── - ─────────────────────────── + ─────────────────────\n",
       "    3 ╱           2⋅varP                   2                                  \n",
       "    ╲╱                               2⋅varP                                   \n",
       "\n",
       "                                                                              \n",
       "                                                                              \n",
       "                                                                              \n",
       "                                                                              \n",
       "                                                                              \n",
       "                                                                              \n",
       "                                          2                                   \n",
       "            3⋅a    (-8.3144598⋅T - b⋅varP)                                    \n",
       "          - ──── + ────────────────────────                                   \n",
       "            varP                2                                             \n",
       "                            varP                                              \n",
       "──────────────────────────────────────────────────────────────────────────────\n",
       "______________________________________________________________________________\n",
       "______________________________________________________________________________\n",
       "                          3                                                   \n",
       "                        2⎞    ⎛                                               \n",
       " (-8.3144598⋅T - b⋅varP) ⎟    ⎜  27⋅a⋅b   9⋅a⋅(-8.3144598⋅T - b⋅varP)   2⋅(-8.\n",
       " ────────────────────────⎟  + ⎜- ────── - ─────────────────────────── + ──────\n",
       "              2          ⎟    ⎜   varP                   2                    \n",
       "          varP           ⎠    ⎝                      varP                     \n",
       "──────────────────────────────────────────────────────────────────────────────\n",
       "                                       2                                      \n",
       "                                                                              \n",
       "\n",
       "                                                                 _____________\n",
       "                                                                ╱             \n",
       "                                                               ╱              \n",
       "                                                              ╱               \n",
       "                                                             ╱                \n",
       "                                                            ╱                 \n",
       "                                                           ╱                  \n",
       "                                                          ╱         27⋅a⋅b   9\n",
       "                                                         ╱        - ────── - ─\n",
       "                                                      3 ╱           2⋅varP    \n",
       "                                                      ╲╱                      \n",
       "─────────────────────────────────────────────────── - ────────────────────────\n",
       "___________________________________________________                           \n",
       "_______________________                                                       \n",
       "                     2                                                        \n",
       "                   3⎞                                                         \n",
       "3144598⋅T - b⋅varP) ⎟                                                         \n",
       "────────────────────⎟                                                         \n",
       "        3           ⎟                            3                            \n",
       "    varP            ⎠     (-8.3144598⋅T - b⋅varP)                             \n",
       "─────────────────────── + ────────────────────────                            \n",
       "                                       3                                      \n",
       "                                   varP                                       \n",
       "\n",
       "______________________________________________________________________________\n",
       "                                    __________________________________________\n",
       "                                   ╱                                        3 \n",
       "                                  ╱      ⎛                                2⎞  \n",
       "                                 ╱       ⎜  3⋅a    (-8.3144598⋅T - b⋅varP) ⎟  \n",
       "                                ╱    - 4⋅⎜- ──── + ────────────────────────⎟  \n",
       "                               ╱         ⎜  varP                2          ⎟  \n",
       "⋅a⋅(-8.3144598⋅T - b⋅varP)   ╲╱          ⎝                  varP           ⎠  \n",
       "────────────────────────── + ─────────────────────────────────────────────────\n",
       "               2                                                              \n",
       "         2⋅varP                                                               \n",
       "──────────────────────────────────────────────────────────────────────────────\n",
       "                                                                             3\n",
       "                                                                              \n",
       "                                                                              \n",
       "                                                                              \n",
       "                                                                              \n",
       "                                                                              \n",
       "                                                                              \n",
       "                                                                              \n",
       "                                                                              \n",
       "                                                                              \n",
       "                                                                              \n",
       "\n",
       "______________________________________________________________________________\n",
       "_________________________________________________________________________     \n",
       "                                                                       2      \n",
       "  ⎛                                                                  3⎞       \n",
       "  ⎜  27⋅a⋅b   9⋅a⋅(-8.3144598⋅T - b⋅varP)   2⋅(-8.3144598⋅T - b⋅varP) ⎟       \n",
       "+ ⎜- ────── - ─────────────────────────── + ──────────────────────────⎟       \n",
       "  ⎜   varP                   2                            3           ⎟       \n",
       "  ⎝                      varP                         varP            ⎠     (-\n",
       "───────────────────────────────────────────────────────────────────────── + ──\n",
       "           2                                                                  \n",
       "                                                                              \n",
       "──────────────────────────────────────────────────────────────────────────────\n",
       "                                                                              \n",
       "                                                                              \n",
       "                                                                              \n",
       "                                                                              \n",
       "                                                                              \n",
       "                                                                              \n",
       "                                                                              \n",
       "                                                                              \n",
       "                                                                              \n",
       "                                                                              \n",
       "                                                                              \n",
       "\n",
       "_______________________                        \n",
       "                                               \n",
       "                                               \n",
       "                                               \n",
       "                                               \n",
       "                                               \n",
       "                     3                         \n",
       "8.3144598⋅T - b⋅varP)                          \n",
       "──────────────────────                         \n",
       "           3                                   \n",
       "       varP               -8.3144598⋅T - b⋅varP\n",
       "─────────────────────── - ─────────────────────\n",
       "                                  3⋅varP       \n",
       "                                               \n",
       "                                               \n",
       "                                               \n",
       "                                               \n",
       "                                               \n",
       "                                               \n",
       "                                               \n",
       "                                               \n",
       "                                               \n",
       "                                               "
      ]
     },
     "metadata": {},
     "output_type": "display_data"
    }
   ],
   "source": [
    "print(sol_V_R[0])\n",
    "display(sol_V_R[0])"
   ]
  },
  {
   "cell_type": "code",
   "execution_count": 23,
   "metadata": {
    "collapsed": false
   },
   "outputs": [],
   "source": [
    "num_V1 = sympy.lambdify(    \n",
    "    (\n",
    "        T, varP, a, b\n",
    "    ),\n",
    "    sol_V_R,\n",
    "    \"numpy\")"
   ]
  },
  {
   "cell_type": "code",
   "execution_count": 24,
   "metadata": {
    "collapsed": false
   },
   "outputs": [],
   "source": [
    "import numpy as numpy\n",
    "val_T = numpy.complex(273,0)\n",
    "val_P = numpy.complex(2269.5122235699937,0)\n",
    "val_a = numpy.complex(0.2495499363743344,0)\n",
    "val_b = numpy.complex(1.752320742732558e-05,0)\n",
    "import numpy as numpy"
   ]
  },
  {
   "cell_type": "code",
   "execution_count": 25,
   "metadata": {
    "collapsed": false
   },
   "outputs": [
    {
     "name": "stdout",
     "output_type": "stream",
     "text": [
      "(2.18760862872e-05+1.11022302463e-16j)\n",
      "(8.807342539e-05-1.11022302463e-16j)\n",
      "(1.0000553155+0j)\n"
     ]
    }
   ],
   "source": [
    "ans= num_V1(val_T,val_P,val_a,val_b)\n",
    "print(\n",
    "    ans[0]\n",
    ")\n",
    "print(\n",
    "    ans[1]\n",
    ")\n",
    "print(\n",
    "    ans[2]\n",
    ")"
   ]
  },
  {
   "cell_type": "markdown",
   "metadata": {},
   "source": [
    "# External references\n",
    "* http://docs.sympy.org/latest/tutorial/basic_operations.html\n",
    "* http://docs.sympy.org/latest/modules/utilities/lambdify.html\n",
    "* https://minireference.com/static/tutorials/sympy_tutorial.pdf\n",
    "* \"pretty printing\" http://docs.sympy.org/dev/tutorial/printing.html\n",
    "* jupyter display http://nbviewer.jupyter.org/github/ipython/ipython/blob/1.x/examples/notebooks/Part%205%20-%20Rich%20Display%20System.ipynb\n",
    "* sympy tutorial in adv dif eq. http://www.cfm.brown.edu/people/dobrush/am33/SymPy/index.html"
   ]
  }
 ],
 "metadata": {
  "anaconda-cloud": {},
  "kernelspec": {
   "display_name": "Python [Root]",
   "language": "python",
   "name": "Python [Root]"
  },
  "language_info": {
   "codemirror_mode": {
    "name": "ipython",
    "version": 3
   },
   "file_extension": ".py",
   "mimetype": "text/x-python",
   "name": "python",
   "nbconvert_exporter": "python",
   "pygments_lexer": "ipython3",
   "version": "3.5.2"
  }
 },
 "nbformat": 4,
 "nbformat_minor": 0
}
