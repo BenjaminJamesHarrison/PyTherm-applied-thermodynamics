{
 "cells": [
  {
   "cell_type": "markdown",
   "metadata": {},
   "source": [
    "# sympy and the van der Waals's Equation of State analytical solutions\n",
    "\n",
    "This notebook intends to present van der Waals's Equation of State ([wikipedia](https://en.wikipedia.org/wiki/Van_der_Waals_equation), [nobel prize lecture](http://www.nobelprize.org/nobel_prizes/physics/laureates/1910/waals-lecture.pdf)), and to derive some fundamental thermodynamic properties from that, according to the rules of calculus of classical thermodynamics relations ([Tester and Model,1997](http://www.isbnsearch.org/isbn/9780139153563); [Michelsen and Mollerup, 2007](http://www.forskningsdatabasen.dk/en/catalog/108130984)).\n",
    "\n",
    "\n",
    "> **Here you will meet the following topics:**\n",
    ">- Thermodynamics: `fugacity coefficient`\n",
    ">- Python: `sympy`"
   ]
  },
  {
   "cell_type": "markdown",
   "metadata": {},
   "source": [
    "Sometimes, we need to perform analytical calculations because they can be implemented and run faster than brute force numerical solutions of problems. \n",
    "Here, we show how to use SymPy, the python package for symbolic mathematics, to find the expressions for second order derivative of van der Waals EoS with respect to molar volume and find analytical expressions for the three volume roots at given T and P.\n",
    "SymPy is a computer algebra system (CAS) currently under development. It is capable of performing many stuff including:\n",
    "* analytical calculus\n",
    "  * differentiation\n",
    "  * integration\n",
    "  * solving differential and algebraic equations\n",
    "* symbolic manipulation\n",
    "  * simplification\n",
    "  * expansion\n",
    "  * substitution"
   ]
  },
  {
   "cell_type": "code",
   "execution_count": 1,
   "metadata": {
    "collapsed": true
   },
   "outputs": [],
   "source": [
    "import sympy as sympy"
   ]
  },
  {
   "cell_type": "markdown",
   "metadata": {},
   "source": [
    "We define some python variables as *sympy.symbols*, to represent the conceptual variables in the functions with which we wish to work."
   ]
  },
  {
   "cell_type": "code",
   "execution_count": 2,
   "metadata": {
    "collapsed": false
   },
   "outputs": [],
   "source": [
    "R=sympy.symbols(\"R\")\n",
    "#R <-- this R is the python variable to which the sympy.symbol object will be assigned\n",
    "#              #\"R\" <-- this R is the symbol that appears when we print the equations that we will assemble with the python variable R\n",
    "# we will use R to represent the universal gas constant\n",
    "T=sympy.symbols(\"T\")\n",
    "# we will use T and to represent T for temperature\n",
    "molar_V=sympy.symbols(r'\\bar{V}')\n",
    "# we will use molar_V to represent V with an over bar for molar volume\n",
    "a,b=sympy.symbols(\"a,b\")"
   ]
  },
  {
   "cell_type": "markdown",
   "metadata": {},
   "source": [
    "In a notebook, we can use mathjax, to get \"pretty printing\" of sympy expressions. Just import `display` from `IPython.display` and run the `init_printing()` method of sympy telling it to use `mathjax` to render the equations."
   ]
  },
  {
   "cell_type": "code",
   "execution_count": 3,
   "metadata": {
    "collapsed": true
   },
   "outputs": [],
   "source": [
    "from IPython.display import display\n",
    "sympy.init_printing(use_latex='mathjax')"
   ]
  },
  {
   "cell_type": "markdown",
   "metadata": {},
   "source": [
    "We can now test it"
   ]
  },
  {
   "cell_type": "code",
   "execution_count": 4,
   "metadata": {
    "collapsed": false
   },
   "outputs": [
    {
     "data": {
      "text/latex": [
       "$$R$$"
      ],
      "text/plain": [
       "R"
      ]
     },
     "metadata": {},
     "output_type": "display_data"
    },
    {
     "data": {
      "text/latex": [
       "$$T$$"
      ],
      "text/plain": [
       "T"
      ]
     },
     "metadata": {},
     "output_type": "display_data"
    },
    {
     "data": {
      "text/latex": [
       "$$\\bar{V}$$"
      ],
      "text/plain": [
       "\\bar{V}"
      ]
     },
     "metadata": {},
     "output_type": "display_data"
    },
    {
     "data": {
      "text/latex": [
       "$$a$$"
      ],
      "text/plain": [
       "a"
      ]
     },
     "metadata": {},
     "output_type": "display_data"
    },
    {
     "data": {
      "text/latex": [
       "$$b$$"
      ],
      "text/plain": [
       "b"
      ]
     },
     "metadata": {},
     "output_type": "display_data"
    }
   ],
   "source": [
    "display(R,T,molar_V,a,b)"
   ]
  },
  {
   "cell_type": "markdown",
   "metadata": {},
   "source": [
    "And we define some functions of these variables with an explicit expression representation.\n",
    "The following is the \"explicit in Pressure\" representation of the van der Waals equation of state.\n",
    "The variable `P`, stands for the pressure that can be calculated explicitly as a function of variables `R`, `T`, `molar_V`, `b`, and `a`."
   ]
  },
  {
   "cell_type": "code",
   "execution_count": 5,
   "metadata": {
    "collapsed": false
   },
   "outputs": [],
   "source": [
    "P=(R*T)/(molar_V-b) - a/(molar_V**2)"
   ]
  },
  {
   "cell_type": "markdown",
   "metadata": {},
   "source": [
    "Call the display function to see that the variable `P` stands for the symbolic expression using the symbols $R$, $T$, $\\bar{V}$, $a$, $b$"
   ]
  },
  {
   "cell_type": "code",
   "execution_count": 6,
   "metadata": {
    "collapsed": false
   },
   "outputs": [
    {
     "data": {
      "text/latex": [
       "$$\\frac{R T}{\\bar{V} - b} - \\frac{a}{\\bar{V}^{2}}$$"
      ],
      "text/plain": [
       "    R⋅T          a    \n",
       "─────────── - ────────\n",
       "\\bar{V} - b          2\n",
       "              \\bar{V} "
      ]
     },
     "metadata": {},
     "output_type": "display_data"
    }
   ],
   "source": [
    "display(P)"
   ]
  },
  {
   "cell_type": "markdown",
   "metadata": {},
   "source": [
    "Note, however, that we did not create a symbol for pressure.\n",
    "We will do it now, the symbol $P$ for pressure will be assigned to the variable `symbol_P`, to differentiate it from the already defined variable `P`. "
   ]
  },
  {
   "cell_type": "code",
   "execution_count": 7,
   "metadata": {
    "collapsed": true
   },
   "outputs": [],
   "source": [
    "symbol_P = sympy.symbols(\"P\")"
   ]
  },
  {
   "cell_type": "markdown",
   "metadata": {},
   "source": [
    "Call the display function to see that the variable `symbol_P` stands for the symbol $P$."
   ]
  },
  {
   "cell_type": "code",
   "execution_count": 8,
   "metadata": {
    "collapsed": false
   },
   "outputs": [
    {
     "data": {
      "text/latex": [
       "$$P$$"
      ],
      "text/plain": [
       "P"
      ]
     },
     "metadata": {},
     "output_type": "display_data"
    }
   ],
   "source": [
    "display(symbol_P)"
   ]
  },
  {
   "cell_type": "markdown",
   "metadata": {},
   "source": [
    "Now we would like to print both sides of the van der Waals equation. For that we use the relational function."
   ]
  },
  {
   "cell_type": "code",
   "execution_count": 9,
   "metadata": {
    "collapsed": false
   },
   "outputs": [
    {
     "data": {
      "text/latex": [
       "$$P = \\frac{R T}{\\bar{V} - b} - \\frac{a}{\\bar{V}^{2}}$$"
      ],
      "text/plain": [
       "        R⋅T          a    \n",
       "P = ─────────── - ────────\n",
       "    \\bar{V} - b          2\n",
       "                  \\bar{V} "
      ]
     },
     "metadata": {},
     "output_type": "display_data"
    }
   ],
   "source": [
    "van_der_Waals_EoS = sympy.relational.Equality(symbol_P,P)\n",
    "display(van_der_Waals_EoS)"
   ]
  },
  {
   "cell_type": "markdown",
   "metadata": {},
   "source": [
    "Now we can retrieve the symbol $P$ from the left hand side of this equation, and the symbolic expression for $P(R,T,\\bar{V},a,b)$ from the its right hand side."
   ]
  },
  {
   "cell_type": "code",
   "execution_count": 10,
   "metadata": {
    "collapsed": false
   },
   "outputs": [
    {
     "data": {
      "text/latex": [
       "$$P$$"
      ],
      "text/plain": [
       "P"
      ]
     },
     "metadata": {},
     "output_type": "display_data"
    },
    {
     "data": {
      "text/latex": [
       "$$\\frac{R T}{\\bar{V} - b} - \\frac{a}{\\bar{V}^{2}}$$"
      ],
      "text/plain": [
       "    R⋅T          a    \n",
       "─────────── - ────────\n",
       "\\bar{V} - b          2\n",
       "              \\bar{V} "
      ]
     },
     "metadata": {},
     "output_type": "display_data"
    }
   ],
   "source": [
    "display(van_der_Waals_EoS.lhs) #lhs stands for left hand side\n",
    "display(van_der_Waals_EoS.rhs) #rhs stands for right hand side"
   ]
  },
  {
   "cell_type": "markdown",
   "metadata": {},
   "source": [
    "We can use the sympy method \"derivative\" to obtain the partial derivatives of $P$ with respect to its variables. We will create a varibale named `dPdT` to store the result of the derivative method."
   ]
  },
  {
   "cell_type": "code",
   "execution_count": 11,
   "metadata": {
    "collapsed": false
   },
   "outputs": [],
   "source": [
    "dPdT = sympy.Derivative(van_der_Waals_EoS.rhs,T,evaluate=True)"
   ]
  },
  {
   "cell_type": "markdown",
   "metadata": {
    "collapsed": true
   },
   "source": [
    "Call the display function to see below the result of the derivative operation:"
   ]
  },
  {
   "cell_type": "code",
   "execution_count": 12,
   "metadata": {
    "collapsed": false
   },
   "outputs": [
    {
     "data": {
      "text/latex": [
       "$$\\frac{R}{\\bar{V} - b}$$"
      ],
      "text/plain": [
       "     R     \n",
       "───────────\n",
       "\\bar{V} - b"
      ]
     },
     "metadata": {},
     "output_type": "display_data"
    }
   ],
   "source": [
    "display(dPdT)"
   ]
  },
  {
   "cell_type": "markdown",
   "metadata": {},
   "source": [
    "We can also derrivate the van der Waals equation for molar volume (`dPdmolarV`) as follows:"
   ]
  },
  {
   "cell_type": "code",
   "execution_count": 13,
   "metadata": {
    "collapsed": false
   },
   "outputs": [
    {
     "data": {
      "text/latex": [
       "$$- \\frac{R T}{\\left(\\bar{V} - b\\right)^{2}} + \\frac{2 a}{\\bar{V}^{3}}$$"
      ],
      "text/plain": [
       "       R⋅T           2⋅a   \n",
       "- ────────────── + ────────\n",
       "               2          3\n",
       "  (\\bar{V} - b)    \\bar{V} "
      ]
     },
     "metadata": {},
     "output_type": "display_data"
    }
   ],
   "source": [
    "dPdmolarV = sympy.Derivative(van_der_Waals_EoS.rhs,molar_V,evaluate=True)\n",
    "display(dPdmolarV)"
   ]
  },
  {
   "cell_type": "markdown",
   "metadata": {},
   "source": [
    "The second derivative with respect to molar volume (`d2PmolarV2`) can be obtained by applying the sympy derivative method to the variable `dPdmolarV`:"
   ]
  },
  {
   "cell_type": "code",
   "execution_count": 14,
   "metadata": {
    "collapsed": false
   },
   "outputs": [
    {
     "data": {
      "text/latex": [
       "$$\\frac{2 R T}{\\left(\\bar{V} - b\\right)^{3}} - \\frac{6 a}{\\bar{V}^{4}}$$"
      ],
      "text/plain": [
       "    2⋅R⋅T          6⋅a   \n",
       "────────────── - ────────\n",
       "             3          4\n",
       "(\\bar{V} - b)    \\bar{V} "
      ]
     },
     "metadata": {},
     "output_type": "display_data"
    }
   ],
   "source": [
    "d2PdmolarV2 = sympy.Derivative(dPdmolarV,molar_V,evaluate=True)\n",
    "display(d2PdmolarV2)"
   ]
  },
  {
   "cell_type": "markdown",
   "metadata": {},
   "source": [
    "After this effort, we would like to test our final equations for numerical results, for that purpose we can use the function `lambdify` from sympy. This will take any expression written using sympy and implement a numerical evaluation routine taking a dummy argument for each independent symbol present."
   ]
  },
  {
   "cell_type": "code",
   "execution_count": 15,
   "metadata": {
    "collapsed": false
   },
   "outputs": [],
   "source": [
    "numerical_P = sympy.lambdify(    \n",
    "    (\n",
    "        R, T, molar_V, a, b\n",
    "    ),\n",
    "    van_der_Waals_EoS.rhs,\n",
    "    \"numpy\")"
   ]
  },
  {
   "cell_type": "markdown",
   "metadata": {},
   "source": [
    "Now, let's test it using some of the values from the previous lessons."
   ]
  },
  {
   "cell_type": "code",
   "execution_count": 16,
   "metadata": {
    "collapsed": false
   },
   "outputs": [
    {
     "name": "stdout",
     "output_type": "stream",
     "text": [
      "2269.5122235699937\n"
     ]
    }
   ],
   "source": [
    "#define python variables and assign the desired values to them\n",
    "value_R = 8.314\n",
    "value_T = 273\n",
    "value_molar_V = 1\n",
    "value_a = 0.2495499363743344\n",
    "value_b = 1.752320742732558e-05\n",
    "\n",
    "#evaluate the function using the values of choice\n",
    "result_P = numerical_P(value_R,value_T,value_molar_V,value_a,value_b)\n",
    "\n",
    "#print the result\n",
    "print(result_P)"
   ]
  },
  {
   "cell_type": "markdown",
   "metadata": {
    "collapsed": false
   },
   "source": [
    "Sympy has a `solve` function to obtain analytical solution of equations, when possible. For that purpose we must present the equation in an implicit representation: an expression containing no sign of equal and that any solution for the variables involved make the expression equal to zero. For a PVT equation of state, this would correspond to the left hand side of the general equation of state implict definition: $f(T,P,\\bar{V})=0$. There are several ways of doing so, being the simplest one the subtractation of the right hand side of a defined equation from its left hand side and the assignment of this expression to a variable conveniently identified as Zero."
   ]
  },
  {
   "cell_type": "code",
   "execution_count": 17,
   "metadata": {
    "collapsed": false
   },
   "outputs": [],
   "source": [
    "van_der_Waals_EoS_Zero=van_der_Waals_EoS.lhs-van_der_Waals_EoS.rhs"
   ]
  },
  {
   "cell_type": "markdown",
   "metadata": {},
   "source": [
    "Call the function display and see that the variable van_der_Waals_EoS_Zero represents an expression that should be zero for a set of variables $R$, $T$, $\\bar{V}$, $a$ and $b$ that solve the van_der_Waals_EoS_Zero"
   ]
  },
  {
   "cell_type": "code",
   "execution_count": 18,
   "metadata": {
    "collapsed": false
   },
   "outputs": [
    {
     "data": {
      "text/latex": [
       "$$P - \\frac{R T}{\\bar{V} - b} + \\frac{a}{\\bar{V}^{2}}$$"
      ],
      "text/plain": [
       "        R⋅T          a    \n",
       "P - ─────────── + ────────\n",
       "    \\bar{V} - b          2\n",
       "                  \\bar{V} "
      ]
     },
     "metadata": {},
     "output_type": "display_data"
    }
   ],
   "source": [
    "display(van_der_Waals_EoS_Zero)"
   ]
  },
  {
   "cell_type": "markdown",
   "metadata": {
    "collapsed": false
   },
   "source": [
    "Now call the function `solve` and obtain an explicit expression for one variable as a function of the remaining. As an example we will try to find the volume that is solution of the van der Waals EoS at given P and T, for a given substance (given a and b), given also the gas constant R"
   ]
  },
  {
   "cell_type": "code",
   "execution_count": 19,
   "metadata": {
    "collapsed": false
   },
   "outputs": [],
   "source": [
    "solution_molar_V_of_R_T_P_a_b = sympy.solve(van_der_Waals_EoS_Zero,molar_V)"
   ]
  },
  {
   "cell_type": "markdown",
   "metadata": {},
   "source": [
    "If the cell above ran succesfully, it means that sympy found an analytical solution for the posed problem.\n",
    "We can, then, use the function `len` to inquiry how many solutions were found."
   ]
  },
  {
   "cell_type": "code",
   "execution_count": 20,
   "metadata": {
    "collapsed": false
   },
   "outputs": [
    {
     "name": "stdout",
     "output_type": "stream",
     "text": [
      "3\n"
     ]
    }
   ],
   "source": [
    "print(len(solution_molar_V_of_R_T_P_a_b))"
   ]
  },
  {
   "cell_type": "markdown",
   "metadata": {},
   "source": [
    "There were three solutions, because as we have seen in notebook 3, van der Waals EoS solution for molar volume corresponds to the solution of a third degree polynomial in $\\bar{V}&, with coefficients depending on $R$, $P$, $T$, $a$ and $b$.\n",
    "Let's inspect each of them. We use the function `print` to see its symbols in raw form, and the function `display` to see the expression formatted with mathjax by the 'pretty printing' package.\n",
    "> note that the list of solutions \"solution_molar_V_of_R_T_P_a_b\" starts at index 0, as usual in python."
   ]
  },
  {
   "cell_type": "code",
   "execution_count": 21,
   "metadata": {
    "collapsed": false
   },
   "outputs": [
    {
     "name": "stdout",
     "output_type": "stream",
     "text": [
      "-(-3*a/P + (-P*b - R*T)**2/P**2)/(3*(sqrt(-4*(-3*a/P + (-P*b - R*T)**2/P**2)**3 + (-27*a*b/P - 9*a*(-P*b - R*T)/P**2 + 2*(-P*b - R*T)**3/P**3)**2)/2 - 27*a*b/(2*P) - 9*a*(-P*b - R*T)/(2*P**2) + (-P*b - R*T)**3/P**3)**(1/3)) - (sqrt(-4*(-3*a/P + (-P*b - R*T)**2/P**2)**3 + (-27*a*b/P - 9*a*(-P*b - R*T)/P**2 + 2*(-P*b - R*T)**3/P**3)**2)/2 - 27*a*b/(2*P) - 9*a*(-P*b - R*T)/(2*P**2) + (-P*b - R*T)**3/P**3)**(1/3)/3 - (-P*b - R*T)/(3*P)\n"
     ]
    },
    {
     "data": {
      "text/latex": [
       "$$- \\frac{- \\frac{3 a}{P} + \\frac{1}{P^{2}} \\left(- P b - R T\\right)^{2}}{3 \\sqrt[3]{\\frac{1}{2} \\sqrt{- 4 \\left(- \\frac{3 a}{P} + \\frac{1}{P^{2}} \\left(- P b - R T\\right)^{2}\\right)^{3} + \\left(- \\frac{27 a}{P} b - \\frac{9 a}{P^{2}} \\left(- P b - R T\\right) + \\frac{2}{P^{3}} \\left(- P b - R T\\right)^{3}\\right)^{2}} - \\frac{27 a b}{2 P} - \\frac{9 a}{2 P^{2}} \\left(- P b - R T\\right) + \\frac{1}{P^{3}} \\left(- P b - R T\\right)^{3}}} - \\frac{1}{3} \\sqrt[3]{\\frac{1}{2} \\sqrt{- 4 \\left(- \\frac{3 a}{P} + \\frac{1}{P^{2}} \\left(- P b - R T\\right)^{2}\\right)^{3} + \\left(- \\frac{27 a}{P} b - \\frac{9 a}{P^{2}} \\left(- P b - R T\\right) + \\frac{2}{P^{3}} \\left(- P b - R T\\right)^{3}\\right)^{2}} - \\frac{27 a b}{2 P} - \\frac{9 a}{2 P^{2}} \\left(- P b - R T\\right) + \\frac{1}{P^{3}} \\left(- P b - R T\\right)^{3}} - \\frac{1}{3 P} \\left(- P b - R T\\right)$$"
      ],
      "text/plain": [
       "                                                                              \n",
       "                                                                              \n",
       "                                                                              \n",
       "                                                                              \n",
       "                                                                              \n",
       "                                                                              \n",
       "                                                                              \n",
       "                                                                   3⋅a   (-P⋅b\n",
       "                                                                 - ─── + ─────\n",
       "                                                                    P         \n",
       "                                                                              \n",
       "- ────────────────────────────────────────────────────────────────────────────\n",
       "               _______________________________________________________________\n",
       "              ╱        _______________________________________________________\n",
       "             ╱        ╱                            3                          \n",
       "            ╱        ╱      ⎛                    2⎞    ⎛                      \n",
       "           ╱        ╱       ⎜  3⋅a   (-P⋅b - R⋅T) ⎟    ⎜  27⋅a⋅b   9⋅a⋅(-P⋅b -\n",
       "          ╱        ╱    - 4⋅⎜- ─── + ─────────────⎟  + ⎜- ────── - ───────────\n",
       "         ╱        ╱         ⎜   P           2     ⎟    ⎜    P              2  \n",
       "        ╱       ╲╱          ⎝              P      ⎠    ⎝                  P   \n",
       "  3⋅   ╱        ──────────────────────────────────────────────────────────────\n",
       "    3 ╱                                                    2                  \n",
       "    ╲╱                                                                        \n",
       "\n",
       "                                                                              \n",
       "                                                                              \n",
       "                                                                              \n",
       "                                                                              \n",
       "                                                                              \n",
       "                                                                              \n",
       "       2                                                                      \n",
       " - R⋅T)                                                                       \n",
       "────────                                                                     ╱\n",
       "  2                                                                       3 ╱ \n",
       " P                                                                        ╲╱  \n",
       "─────────────────────────────────────────────────────────────────────── - ────\n",
       "_______________________________________________________________________       \n",
       "__________________________                                                    \n",
       "                        2                                                     \n",
       "                      3⎞                                                      \n",
       " R⋅T)   2⋅(-P⋅b - R⋅T) ⎟                                                      \n",
       "───── + ───────────────⎟                                                      \n",
       "                3      ⎟                                             3        \n",
       "               P       ⎠     27⋅a⋅b   9⋅a⋅(-P⋅b - R⋅T)   (-P⋅b - R⋅T)         \n",
       "────────────────────────── - ────── - ──────────────── + ─────────────        \n",
       "                              2⋅P              2                3             \n",
       "                                            2⋅P                P              \n",
       "\n",
       "       _______________________________________________________________________\n",
       "      ╱        _______________________________________________________________\n",
       "     ╱        ╱                            3                                  \n",
       "    ╱        ╱      ⎛                    2⎞    ⎛                              \n",
       "   ╱        ╱       ⎜  3⋅a   (-P⋅b - R⋅T) ⎟    ⎜  27⋅a⋅b   9⋅a⋅(-P⋅b - R⋅T)   \n",
       "  ╱        ╱    - 4⋅⎜- ─── + ─────────────⎟  + ⎜- ────── - ──────────────── + \n",
       " ╱        ╱         ⎜   P           2     ⎟    ⎜    P              2          \n",
       "╱       ╲╱          ⎝              P      ⎠    ⎝                  P           \n",
       "        ──────────────────────────────────────────────────────────────────────\n",
       "                                                   2                          \n",
       "                                                                              \n",
       "──────────────────────────────────────────────────────────────────────────────\n",
       "                                                                    3         \n",
       "                                                                              \n",
       "                                                                              \n",
       "                                                                              \n",
       "                                                                              \n",
       "                                                                              \n",
       "                                                                              \n",
       "                                                                              \n",
       "                                                                              \n",
       "                                                                              \n",
       "                                                                              \n",
       "\n",
       "_______________________________________________________________             \n",
       "__________________                                                          \n",
       "                2                                                           \n",
       "              3⎞                                                            \n",
       "2⋅(-P⋅b - R⋅T) ⎟                                                            \n",
       "───────────────⎟                                                            \n",
       "        3      ⎟                                             3              \n",
       "       P       ⎠     27⋅a⋅b   9⋅a⋅(-P⋅b - R⋅T)   (-P⋅b - R⋅T)               \n",
       "────────────────── - ────── - ──────────────── + ─────────────              \n",
       "                      2⋅P              2                3                   \n",
       "                                    2⋅P                P          -P⋅b - R⋅T\n",
       "─────────────────────────────────────────────────────────────── - ──────────\n",
       "                                                                     3⋅P    \n",
       "                                                                            \n",
       "                                                                            \n",
       "                                                                            \n",
       "                                                                            \n",
       "                                                                            \n",
       "                                                                            \n",
       "                                                                            \n",
       "                                                                            \n",
       "                                                                            \n",
       "                                                                            "
      ]
     },
     "metadata": {},
     "output_type": "display_data"
    }
   ],
   "source": [
    "print(solution_molar_V_of_R_T_P_a_b[0])\n",
    "display(solution_molar_V_of_R_T_P_a_b[0])"
   ]
  },
  {
   "cell_type": "code",
   "execution_count": 22,
   "metadata": {
    "collapsed": false,
    "scrolled": true
   },
   "outputs": [
    {
     "name": "stdout",
     "output_type": "stream",
     "text": [
      "-(-3*a/P + (-P*b - R*T)**2/P**2)/(3*(-1/2 - sqrt(3)*I/2)*(sqrt(-4*(-3*a/P + (-P*b - R*T)**2/P**2)**3 + (-27*a*b/P - 9*a*(-P*b - R*T)/P**2 + 2*(-P*b - R*T)**3/P**3)**2)/2 - 27*a*b/(2*P) - 9*a*(-P*b - R*T)/(2*P**2) + (-P*b - R*T)**3/P**3)**(1/3)) - (-1/2 - sqrt(3)*I/2)*(sqrt(-4*(-3*a/P + (-P*b - R*T)**2/P**2)**3 + (-27*a*b/P - 9*a*(-P*b - R*T)/P**2 + 2*(-P*b - R*T)**3/P**3)**2)/2 - 27*a*b/(2*P) - 9*a*(-P*b - R*T)/(2*P**2) + (-P*b - R*T)**3/P**3)**(1/3)/3 - (-P*b - R*T)/(3*P)\n"
     ]
    },
    {
     "data": {
      "text/latex": [
       "$$- \\frac{- \\frac{3 a}{P} + \\frac{1}{P^{2}} \\left(- P b - R T\\right)^{2}}{3 \\left(- \\frac{1}{2} - \\frac{\\sqrt{3} i}{2}\\right) \\sqrt[3]{\\frac{1}{2} \\sqrt{- 4 \\left(- \\frac{3 a}{P} + \\frac{1}{P^{2}} \\left(- P b - R T\\right)^{2}\\right)^{3} + \\left(- \\frac{27 a}{P} b - \\frac{9 a}{P^{2}} \\left(- P b - R T\\right) + \\frac{2}{P^{3}} \\left(- P b - R T\\right)^{3}\\right)^{2}} - \\frac{27 a b}{2 P} - \\frac{9 a}{2 P^{2}} \\left(- P b - R T\\right) + \\frac{1}{P^{3}} \\left(- P b - R T\\right)^{3}}} - \\frac{1}{3} \\left(- \\frac{1}{2} - \\frac{\\sqrt{3} i}{2}\\right) \\sqrt[3]{\\frac{1}{2} \\sqrt{- 4 \\left(- \\frac{3 a}{P} + \\frac{1}{P^{2}} \\left(- P b - R T\\right)^{2}\\right)^{3} + \\left(- \\frac{27 a}{P} b - \\frac{9 a}{P^{2}} \\left(- P b - R T\\right) + \\frac{2}{P^{3}} \\left(- P b - R T\\right)^{3}\\right)^{2}} - \\frac{27 a b}{2 P} - \\frac{9 a}{2 P^{2}} \\left(- P b - R T\\right) + \\frac{1}{P^{3}} \\left(- P b - R T\\right)^{3}} - \\frac{1}{3 P} \\left(- P b - R T\\right)$$"
      ],
      "text/plain": [
       "                                                                              \n",
       "                                                                              \n",
       "                                                                              \n",
       "                                                                              \n",
       "                                                                              \n",
       "                                                                              \n",
       "                                                                              \n",
       "                                                                         3⋅a  \n",
       "                                                                       - ─── +\n",
       "                                                                          P   \n",
       "                                                                              \n",
       "- ────────────────────────────────────────────────────────────────────────────\n",
       "                            __________________________________________________\n",
       "                           ╱        __________________________________________\n",
       "                          ╱        ╱                            3             \n",
       "                         ╱        ╱      ⎛                    2⎞    ⎛         \n",
       "                        ╱        ╱       ⎜  3⋅a   (-P⋅b - R⋅T) ⎟    ⎜  27⋅a⋅b \n",
       "                       ╱        ╱    - 4⋅⎜- ─── + ─────────────⎟  + ⎜- ────── \n",
       "                      ╱        ╱         ⎜   P           2     ⎟    ⎜    P    \n",
       "    ⎛  1   √3⋅ⅈ⎞     ╱       ╲╱          ⎝              P      ⎠    ⎝         \n",
       "  3⋅⎜- ─ - ────⎟⋅   ╱        ─────────────────────────────────────────────────\n",
       "    ⎝  2    2  ⎠ 3 ╱                                                    2     \n",
       "                 ╲╱                                                           \n",
       "\n",
       "                                                                              \n",
       "                                                                              \n",
       "                                                                              \n",
       "                                                                              \n",
       "                                                                              \n",
       "                                                                              \n",
       "             2                                                                \n",
       " (-P⋅b - R⋅T)                                                                 \n",
       " ─────────────                                                                \n",
       "        2                                                                     \n",
       "       P                                                                      \n",
       "──────────────────────────────────────────────────────────────────────────────\n",
       "______________________________________________________________________________\n",
       "_______________________________________                                       \n",
       "                                     2                                        \n",
       "                                   3⎞                                         \n",
       "  9⋅a⋅(-P⋅b - R⋅T)   2⋅(-P⋅b - R⋅T) ⎟                                         \n",
       "- ──────────────── + ───────────────⎟                                         \n",
       "          2                  3      ⎟                                         \n",
       "         P                  P       ⎠     27⋅a⋅b   9⋅a⋅(-P⋅b - R⋅T)   (-P⋅b - \n",
       "─────────────────────────────────────── - ────── - ──────────────── + ────────\n",
       "                                           2⋅P              2                3\n",
       "                                                         2⋅P                P \n",
       "\n",
       "                                 _____________________________________________\n",
       "                                ╱        _____________________________________\n",
       "                               ╱        ╱                            3        \n",
       "                              ╱        ╱      ⎛                    2⎞    ⎛    \n",
       "                             ╱        ╱       ⎜  3⋅a   (-P⋅b - R⋅T) ⎟    ⎜  27\n",
       "                            ╱        ╱    - 4⋅⎜- ─── + ─────────────⎟  + ⎜- ──\n",
       "                           ╱        ╱         ⎜   P           2     ⎟    ⎜    \n",
       "         ⎛  1   √3⋅ⅈ⎞     ╱       ╲╱          ⎝              P      ⎠    ⎝    \n",
       "         ⎜- ─ - ────⎟⋅   ╱        ────────────────────────────────────────────\n",
       "         ⎝  2    2  ⎠ 3 ╱                                                    2\n",
       "                      ╲╱                                                      \n",
       "────── - ─────────────────────────────────────────────────────────────────────\n",
       "______                                                                        \n",
       "                                                                              \n",
       "                                                                              \n",
       "                                                                              \n",
       "                                                                              \n",
       "                                                                              \n",
       "    3                                                                         \n",
       "R⋅T)                                                                          \n",
       "─────                                                                         \n",
       "                                                                              \n",
       "                                                                              \n",
       "\n",
       "______________________________________________________________________________\n",
       "____________________________________________                                  \n",
       "                                          2                                   \n",
       "                                        3⎞                                    \n",
       "⋅a⋅b   9⋅a⋅(-P⋅b - R⋅T)   2⋅(-P⋅b - R⋅T) ⎟                                    \n",
       "──── - ──────────────── + ───────────────⎟                                    \n",
       "P              2                  3      ⎟                                    \n",
       "              P                  P       ⎠     27⋅a⋅b   9⋅a⋅(-P⋅b - R⋅T)   (-P\n",
       "──────────────────────────────────────────── - ────── - ──────────────── + ───\n",
       "                                                2⋅P              2            \n",
       "                                                              2⋅P             \n",
       "──────────────────────────────────────────────────────────────────────────────\n",
       "         3                                                                    \n",
       "                                                                              \n",
       "                                                                              \n",
       "                                                                              \n",
       "                                                                              \n",
       "                                                                              \n",
       "                                                                              \n",
       "                                                                              \n",
       "                                                                              \n",
       "                                                                              \n",
       "                                                                              \n",
       "\n",
       "___________             \n",
       "                        \n",
       "                        \n",
       "                        \n",
       "                        \n",
       "                        \n",
       "         3              \n",
       "⋅b - R⋅T)               \n",
       "──────────              \n",
       "    3                   \n",
       "   P          -P⋅b - R⋅T\n",
       "─────────── - ──────────\n",
       "                 3⋅P    \n",
       "                        \n",
       "                        \n",
       "                        \n",
       "                        \n",
       "                        \n",
       "                        \n",
       "                        \n",
       "                        \n",
       "                        \n",
       "                        "
      ]
     },
     "metadata": {},
     "output_type": "display_data"
    }
   ],
   "source": [
    "print(solution_molar_V_of_R_T_P_a_b[1])\n",
    "display(solution_molar_V_of_R_T_P_a_b[1])"
   ]
  },
  {
   "cell_type": "code",
   "execution_count": 23,
   "metadata": {
    "collapsed": false
   },
   "outputs": [
    {
     "name": "stdout",
     "output_type": "stream",
     "text": [
      "-(-3*a/P + (-P*b - R*T)**2/P**2)/(3*(-1/2 + sqrt(3)*I/2)*(sqrt(-4*(-3*a/P + (-P*b - R*T)**2/P**2)**3 + (-27*a*b/P - 9*a*(-P*b - R*T)/P**2 + 2*(-P*b - R*T)**3/P**3)**2)/2 - 27*a*b/(2*P) - 9*a*(-P*b - R*T)/(2*P**2) + (-P*b - R*T)**3/P**3)**(1/3)) - (-1/2 + sqrt(3)*I/2)*(sqrt(-4*(-3*a/P + (-P*b - R*T)**2/P**2)**3 + (-27*a*b/P - 9*a*(-P*b - R*T)/P**2 + 2*(-P*b - R*T)**3/P**3)**2)/2 - 27*a*b/(2*P) - 9*a*(-P*b - R*T)/(2*P**2) + (-P*b - R*T)**3/P**3)**(1/3)/3 - (-P*b - R*T)/(3*P)\n"
     ]
    },
    {
     "data": {
      "text/latex": [
       "$$- \\frac{- \\frac{3 a}{P} + \\frac{1}{P^{2}} \\left(- P b - R T\\right)^{2}}{3 \\left(- \\frac{1}{2} + \\frac{\\sqrt{3} i}{2}\\right) \\sqrt[3]{\\frac{1}{2} \\sqrt{- 4 \\left(- \\frac{3 a}{P} + \\frac{1}{P^{2}} \\left(- P b - R T\\right)^{2}\\right)^{3} + \\left(- \\frac{27 a}{P} b - \\frac{9 a}{P^{2}} \\left(- P b - R T\\right) + \\frac{2}{P^{3}} \\left(- P b - R T\\right)^{3}\\right)^{2}} - \\frac{27 a b}{2 P} - \\frac{9 a}{2 P^{2}} \\left(- P b - R T\\right) + \\frac{1}{P^{3}} \\left(- P b - R T\\right)^{3}}} - \\frac{1}{3} \\left(- \\frac{1}{2} + \\frac{\\sqrt{3} i}{2}\\right) \\sqrt[3]{\\frac{1}{2} \\sqrt{- 4 \\left(- \\frac{3 a}{P} + \\frac{1}{P^{2}} \\left(- P b - R T\\right)^{2}\\right)^{3} + \\left(- \\frac{27 a}{P} b - \\frac{9 a}{P^{2}} \\left(- P b - R T\\right) + \\frac{2}{P^{3}} \\left(- P b - R T\\right)^{3}\\right)^{2}} - \\frac{27 a b}{2 P} - \\frac{9 a}{2 P^{2}} \\left(- P b - R T\\right) + \\frac{1}{P^{3}} \\left(- P b - R T\\right)^{3}} - \\frac{1}{3 P} \\left(- P b - R T\\right)$$"
      ],
      "text/plain": [
       "                                                                              \n",
       "                                                                              \n",
       "                                                                              \n",
       "                                                                              \n",
       "                                                                              \n",
       "                                                                              \n",
       "                                                                              \n",
       "                                                                         3⋅a  \n",
       "                                                                       - ─── +\n",
       "                                                                          P   \n",
       "                                                                              \n",
       "- ────────────────────────────────────────────────────────────────────────────\n",
       "                            __________________________________________________\n",
       "                           ╱        __________________________________________\n",
       "                          ╱        ╱                            3             \n",
       "                         ╱        ╱      ⎛                    2⎞    ⎛         \n",
       "                        ╱        ╱       ⎜  3⋅a   (-P⋅b - R⋅T) ⎟    ⎜  27⋅a⋅b \n",
       "                       ╱        ╱    - 4⋅⎜- ─── + ─────────────⎟  + ⎜- ────── \n",
       "                      ╱        ╱         ⎜   P           2     ⎟    ⎜    P    \n",
       "    ⎛  1   √3⋅ⅈ⎞     ╱       ╲╱          ⎝              P      ⎠    ⎝         \n",
       "  3⋅⎜- ─ + ────⎟⋅   ╱        ─────────────────────────────────────────────────\n",
       "    ⎝  2    2  ⎠ 3 ╱                                                    2     \n",
       "                 ╲╱                                                           \n",
       "\n",
       "                                                                              \n",
       "                                                                              \n",
       "                                                                              \n",
       "                                                                              \n",
       "                                                                              \n",
       "                                                                              \n",
       "             2                                                                \n",
       " (-P⋅b - R⋅T)                                                                 \n",
       " ─────────────                                                                \n",
       "        2                                                                     \n",
       "       P                                                                      \n",
       "──────────────────────────────────────────────────────────────────────────────\n",
       "______________________________________________________________________________\n",
       "_______________________________________                                       \n",
       "                                     2                                        \n",
       "                                   3⎞                                         \n",
       "  9⋅a⋅(-P⋅b - R⋅T)   2⋅(-P⋅b - R⋅T) ⎟                                         \n",
       "- ──────────────── + ───────────────⎟                                         \n",
       "          2                  3      ⎟                                         \n",
       "         P                  P       ⎠     27⋅a⋅b   9⋅a⋅(-P⋅b - R⋅T)   (-P⋅b - \n",
       "─────────────────────────────────────── - ────── - ──────────────── + ────────\n",
       "                                           2⋅P              2                3\n",
       "                                                         2⋅P                P \n",
       "\n",
       "                                 _____________________________________________\n",
       "                                ╱        _____________________________________\n",
       "                               ╱        ╱                            3        \n",
       "                              ╱        ╱      ⎛                    2⎞    ⎛    \n",
       "                             ╱        ╱       ⎜  3⋅a   (-P⋅b - R⋅T) ⎟    ⎜  27\n",
       "                            ╱        ╱    - 4⋅⎜- ─── + ─────────────⎟  + ⎜- ──\n",
       "                           ╱        ╱         ⎜   P           2     ⎟    ⎜    \n",
       "         ⎛  1   √3⋅ⅈ⎞     ╱       ╲╱          ⎝              P      ⎠    ⎝    \n",
       "         ⎜- ─ + ────⎟⋅   ╱        ────────────────────────────────────────────\n",
       "         ⎝  2    2  ⎠ 3 ╱                                                    2\n",
       "                      ╲╱                                                      \n",
       "────── - ─────────────────────────────────────────────────────────────────────\n",
       "______                                                                        \n",
       "                                                                              \n",
       "                                                                              \n",
       "                                                                              \n",
       "                                                                              \n",
       "                                                                              \n",
       "    3                                                                         \n",
       "R⋅T)                                                                          \n",
       "─────                                                                         \n",
       "                                                                              \n",
       "                                                                              \n",
       "\n",
       "______________________________________________________________________________\n",
       "____________________________________________                                  \n",
       "                                          2                                   \n",
       "                                        3⎞                                    \n",
       "⋅a⋅b   9⋅a⋅(-P⋅b - R⋅T)   2⋅(-P⋅b - R⋅T) ⎟                                    \n",
       "──── - ──────────────── + ───────────────⎟                                    \n",
       "P              2                  3      ⎟                                    \n",
       "              P                  P       ⎠     27⋅a⋅b   9⋅a⋅(-P⋅b - R⋅T)   (-P\n",
       "──────────────────────────────────────────── - ────── - ──────────────── + ───\n",
       "                                                2⋅P              2            \n",
       "                                                              2⋅P             \n",
       "──────────────────────────────────────────────────────────────────────────────\n",
       "         3                                                                    \n",
       "                                                                              \n",
       "                                                                              \n",
       "                                                                              \n",
       "                                                                              \n",
       "                                                                              \n",
       "                                                                              \n",
       "                                                                              \n",
       "                                                                              \n",
       "                                                                              \n",
       "                                                                              \n",
       "\n",
       "___________             \n",
       "                        \n",
       "                        \n",
       "                        \n",
       "                        \n",
       "                        \n",
       "         3              \n",
       "⋅b - R⋅T)               \n",
       "──────────              \n",
       "    3                   \n",
       "   P          -P⋅b - R⋅T\n",
       "─────────── - ──────────\n",
       "                 3⋅P    \n",
       "                        \n",
       "                        \n",
       "                        \n",
       "                        \n",
       "                        \n",
       "                        \n",
       "                        \n",
       "                        \n",
       "                        \n",
       "                        "
      ]
     },
     "metadata": {},
     "output_type": "display_data"
    }
   ],
   "source": [
    "print(solution_molar_V_of_R_T_P_a_b[2])\n",
    "display(solution_molar_V_of_R_T_P_a_b[2])"
   ]
  },
  {
   "cell_type": "markdown",
   "metadata": {},
   "source": [
    "Note that the second and third solutions present the symbol I (capital), that displays as *i*. This symbol represents the complex number ($i \\mid i^2=-1$), sympy found two solutions for the molar volume that may be in the complex domain."
   ]
  },
  {
   "cell_type": "markdown",
   "metadata": {},
   "source": [
    "We can use the function `subs` to substitute constants, as is the case of $R$, when replacing $R$ with 8.3144598, we stipulate that $P$, $\\bar{V}$, $a$ and $b$ should be supplied at SI base units, for which $\\bar{V}$ will be returned in SI base units."
   ]
  },
  {
   "cell_type": "code",
   "execution_count": 24,
   "metadata": {
    "collapsed": false
   },
   "outputs": [],
   "source": [
    "solution_molar_V_of_R_T_P_a_b_SI=[solution_molar_V_of_R_T_P_a_b[i].subs({R:8.3144598}) for i in range(0,3,1)]\n",
    "#we use an implicit 'for' loop here (called list comprehension)\n",
    "#to substitute R in each component of solution_molar_V_of_R_T_P_a_b independently."
   ]
  },
  {
   "cell_type": "code",
   "execution_count": 25,
   "metadata": {
    "collapsed": false
   },
   "outputs": [
    {
     "name": "stdout",
     "output_type": "stream",
     "text": [
      "-(-3*a/P + (-P*b - 8.3144598*T)**2/P**2)/(3*(sqrt(-4*(-3*a/P + (-P*b - 8.3144598*T)**2/P**2)**3 + (-27*a*b/P - 9*a*(-P*b - 8.3144598*T)/P**2 + 2*(-P*b - 8.3144598*T)**3/P**3)**2)/2 - 27*a*b/(2*P) - 9*a*(-P*b - 8.3144598*T)/(2*P**2) + (-P*b - 8.3144598*T)**3/P**3)**(1/3)) - (sqrt(-4*(-3*a/P + (-P*b - 8.3144598*T)**2/P**2)**3 + (-27*a*b/P - 9*a*(-P*b - 8.3144598*T)/P**2 + 2*(-P*b - 8.3144598*T)**3/P**3)**2)/2 - 27*a*b/(2*P) - 9*a*(-P*b - 8.3144598*T)/(2*P**2) + (-P*b - 8.3144598*T)**3/P**3)**(1/3)/3 - (-P*b - 8.3144598*T)/(3*P)\n"
     ]
    },
    {
     "data": {
      "text/latex": [
       "$$- \\frac{- \\frac{3 a}{P} + \\frac{1}{P^{2}} \\left(- P b - 8.3144598 T\\right)^{2}}{3 \\sqrt[3]{\\frac{1}{2} \\sqrt{- 4 \\left(- \\frac{3 a}{P} + \\frac{1}{P^{2}} \\left(- P b - 8.3144598 T\\right)^{2}\\right)^{3} + \\left(- \\frac{27 a}{P} b - \\frac{9 a}{P^{2}} \\left(- P b - 8.3144598 T\\right) + \\frac{2}{P^{3}} \\left(- P b - 8.3144598 T\\right)^{3}\\right)^{2}} - \\frac{27 a b}{2 P} - \\frac{9 a}{2 P^{2}} \\left(- P b - 8.3144598 T\\right) + \\frac{1}{P^{3}} \\left(- P b - 8.3144598 T\\right)^{3}}} - \\frac{1}{3} \\sqrt[3]{\\frac{1}{2} \\sqrt{- 4 \\left(- \\frac{3 a}{P} + \\frac{1}{P^{2}} \\left(- P b - 8.3144598 T\\right)^{2}\\right)^{3} + \\left(- \\frac{27 a}{P} b - \\frac{9 a}{P^{2}} \\left(- P b - 8.3144598 T\\right) + \\frac{2}{P^{3}} \\left(- P b - 8.3144598 T\\right)^{3}\\right)^{2}} - \\frac{27 a b}{2 P} - \\frac{9 a}{2 P^{2}} \\left(- P b - 8.3144598 T\\right) + \\frac{1}{P^{3}} \\left(- P b - 8.3144598 T\\right)^{3}} - \\frac{1}{3 P} \\left(- P b - 8.3144598 T\\right)$$"
      ],
      "text/plain": [
       "                                                                              \n",
       "                                                                              \n",
       "                                                                              \n",
       "                                                                              \n",
       "                                                                              \n",
       "                                                                              \n",
       "                                                                              \n",
       "                                                                              \n",
       "                                                                              \n",
       "                                                                              \n",
       "                                                                              \n",
       "- ────────────────────────────────────────────────────────────────────────────\n",
       "               _______________________________________________________________\n",
       "              ╱        _______________________________________________________\n",
       "             ╱        ╱                                    3                  \n",
       "            ╱        ╱      ⎛                            2⎞    ⎛              \n",
       "           ╱        ╱       ⎜  3⋅a   (-P⋅b - 8.3144598⋅T) ⎟    ⎜  27⋅a⋅b   9⋅a\n",
       "          ╱        ╱    - 4⋅⎜- ─── + ─────────────────────⎟  + ⎜- ────── - ───\n",
       "         ╱        ╱         ⎜   P               2         ⎟    ⎜    P         \n",
       "        ╱       ╲╱          ⎝                  P          ⎠    ⎝              \n",
       "  3⋅   ╱        ──────────────────────────────────────────────────────────────\n",
       "    3 ╱                                                                2      \n",
       "    ╲╱                                                                        \n",
       "\n",
       "                                                                              \n",
       "                                                                              \n",
       "                                                                              \n",
       "                                                                              \n",
       "                                                                              \n",
       "                                                                              \n",
       "                               2                                              \n",
       "     3⋅a   (-P⋅b - 8.3144598⋅T)                                               \n",
       "   - ─── + ─────────────────────                                              \n",
       "      P               2                                                       \n",
       "                     P                                                        \n",
       "──────────────────────────────────────────────────────────────────────────────\n",
       "______________________________________________________________________________\n",
       "__________________________________________________                            \n",
       "                                                2                             \n",
       "                                              3⎞                              \n",
       "⋅(-P⋅b - 8.3144598⋅T)   2⋅(-P⋅b - 8.3144598⋅T) ⎟                              \n",
       "───────────────────── + ───────────────────────⎟                              \n",
       "         2                          3          ⎟                              \n",
       "        P                          P           ⎠     27⋅a⋅b   9⋅a⋅(-P⋅b - 8.31\n",
       "────────────────────────────────────────────────── - ────── - ────────────────\n",
       "                                                      2⋅P                  2  \n",
       "                                                                        2⋅P   \n",
       "\n",
       "                                               _______________________________\n",
       "                                              ╱        _______________________\n",
       "                                             ╱        ╱                       \n",
       "                                            ╱        ╱      ⎛                 \n",
       "                                           ╱        ╱       ⎜  3⋅a   (-P⋅b - 8\n",
       "                                          ╱        ╱    - 4⋅⎜- ─── + ─────────\n",
       "                                         ╱        ╱         ⎜   P             \n",
       "                                        ╱       ╲╱          ⎝                 \n",
       "                                       ╱        ──────────────────────────────\n",
       "                                    3 ╱                                       \n",
       "                                    ╲╱                                        \n",
       "───────────────────────────────── - ──────────────────────────────────────────\n",
       "_________________________________                                             \n",
       "                                                                              \n",
       "                                                                              \n",
       "                                                                              \n",
       "                                                                              \n",
       "                                                                              \n",
       "                               3                                              \n",
       "44598⋅T)   (-P⋅b - 8.3144598⋅T)                                               \n",
       "──────── + ─────────────────────                                              \n",
       "                      3                                                       \n",
       "                     P                                                        \n",
       "\n",
       "______________________________________________________________________________\n",
       "______________________________________________________________________________\n",
       "             3                                                                \n",
       "           2⎞    ⎛                                                            \n",
       ".3144598⋅T) ⎟    ⎜  27⋅a⋅b   9⋅a⋅(-P⋅b - 8.3144598⋅T)   2⋅(-P⋅b - 8.3144598⋅T)\n",
       "────────────⎟  + ⎜- ────── - ──────────────────────── + ──────────────────────\n",
       "  2         ⎟    ⎜    P                  2                          3         \n",
       " P          ⎠    ⎝                      P                          P          \n",
       "──────────────────────────────────────────────────────────────────────────────\n",
       "                         2                                                    \n",
       "                                                                              \n",
       "──────────────────────────────────────────────────────────────────────────────\n",
       "                                                  3                           \n",
       "                                                                              \n",
       "                                                                              \n",
       "                                                                              \n",
       "                                                                              \n",
       "                                                                              \n",
       "                                                                              \n",
       "                                                                              \n",
       "                                                                              \n",
       "                                                                              \n",
       "                                                                              \n",
       "\n",
       "_________________________________________________________________             \n",
       "____                                                                          \n",
       "  2                                                                           \n",
       "3⎞                                                                            \n",
       " ⎟                                                                            \n",
       "─⎟                                                                            \n",
       " ⎟                                                             3              \n",
       " ⎠     27⋅a⋅b   9⋅a⋅(-P⋅b - 8.3144598⋅T)   (-P⋅b - 8.3144598⋅T)               \n",
       "──── - ────── - ──────────────────────── + ─────────────────────              \n",
       "        2⋅P                  2                        3                       \n",
       "                          2⋅P                        P              -P⋅b - 8.3\n",
       "───────────────────────────────────────────────────────────────── - ──────────\n",
       "                                                                           3⋅P\n",
       "                                                                              \n",
       "                                                                              \n",
       "                                                                              \n",
       "                                                                              \n",
       "                                                                              \n",
       "                                                                              \n",
       "                                                                              \n",
       "                                                                              \n",
       "                                                                              \n",
       "                                                                              \n",
       "\n",
       "        \n",
       "        \n",
       "        \n",
       "        \n",
       "        \n",
       "        \n",
       "        \n",
       "        \n",
       "        \n",
       "        \n",
       "144598⋅T\n",
       "────────\n",
       "        \n",
       "        \n",
       "        \n",
       "        \n",
       "        \n",
       "        \n",
       "        \n",
       "        \n",
       "        \n",
       "        \n",
       "        "
      ]
     },
     "metadata": {},
     "output_type": "display_data"
    }
   ],
   "source": [
    "print(solution_molar_V_of_R_T_P_a_b_SI[0])\n",
    "display(solution_molar_V_of_R_T_P_a_b_SI[0])"
   ]
  },
  {
   "cell_type": "markdown",
   "metadata": {},
   "source": [
    "To test the solution, we use lambdify as before:"
   ]
  },
  {
   "cell_type": "code",
   "execution_count": 26,
   "metadata": {
    "collapsed": false
   },
   "outputs": [],
   "source": [
    "numerical_V_1 = sympy.lambdify(    \n",
    "    (\n",
    "        T, symbol_P, a, b\n",
    "    ),\n",
    "    solution_molar_V_of_R_T_P_a_b_SI,\n",
    "    \"numpy\")"
   ]
  },
  {
   "cell_type": "markdown",
   "metadata": {},
   "source": [
    "And now we use, as input values, the same values that we used when we tested the implementation of $P(R,T,\\bar{V},a,b)$.\n",
    "However, note that since the expression deals with complex numbers, we must provide input and expect output consistent with the complex set. For that we have to import numpy and use its `complex` function to create variables representing real numbers with a data structure consistent to the complex numbers domain (finite value for the real part, and zero value for the complex part)."
   ]
  },
  {
   "cell_type": "code",
   "execution_count": 27,
   "metadata": {
    "collapsed": false
   },
   "outputs": [
    {
     "name": "stdout",
     "output_type": "stream",
     "text": [
      "(2.18760862872e-05+0j)\n",
      "(8.80734253901e-05+5.55111512313e-17j)\n",
      "(1.0000553155-3.38813178902e-21j)\n"
     ]
    }
   ],
   "source": [
    "import numpy as numpy\n",
    "c_value_T = numpy.complex(value_T,0)\n",
    "c_value_P = numpy.complex(result_P,0)\n",
    "c_value_a = numpy.complex(value_a,0)\n",
    "c_value_b = numpy.complex(value_b,0)\n",
    "\n",
    "result_V= numerical_V_1(c_value_T,c_value_P,c_value_a,c_value_b)\n",
    "\n",
    "print(\n",
    "    result_V[0]\n",
    ")\n",
    "print(\n",
    "    result_V[1]\n",
    ")\n",
    "print(\n",
    "    result_V[2]\n",
    ")"
   ]
  },
  {
   "cell_type": "markdown",
   "metadata": {},
   "source": [
    "Note that the volume calculated in the third expression corresponds to the volume that we used as input when testing $P(R,T,\\bar{V},a,b)$, which, being the largest of the three, is characteristic of a vapor aggregation state.\n",
    "The other two values of volume correspond, in turn, to liquid state (the lower valued) and the intermediate valued volume root, both discussed in notebook 3."
   ]
  },
  {
   "cell_type": "markdown",
   "metadata": {},
   "source": [
    "# Conclusions\n",
    "In this notebook, expressions for derivatives of pressure with respect to molar volume were found from the van der Waals equation of state. In addition, analytical expressions for all three molar volume roots for a given pair of temperature and pressure were derived using the SymPy package. After the introduction of SymPy, the student should be able to obtain analytical derivatives for any equation of state. The student should also be able to obtain properties like Gibbs energy, Helmholtz energy or Enthalpy from equations of state, since they can be obtained from the derivation and integration of PVT functions. "
   ]
  },
  {
   "cell_type": "markdown",
   "metadata": {},
   "source": [
    "# External references\n",
    "* http://docs.sympy.org/latest/tutorial/basic_operations.html\n",
    "* http://docs.sympy.org/latest/modules/utilities/lambdify.html\n",
    "* https://minireference.com/static/tutorials/sympy_tutorial.pdf\n",
    "* \"pretty printing\" http://docs.sympy.org/dev/tutorial/printing.html\n",
    "* jupyter display http://nbviewer.jupyter.org/github/ipython/ipython/blob/1.x/examples/notebooks/Part%205%20-%20Rich%20Display%20System.ipynb\n",
    "* sympy tutorial in adv dif eq. http://www.cfm.brown.edu/people/dobrush/am33/SymPy/index.html\n",
    "* exact solution of cubic equations: https://en.wikipedia.org/wiki/Cubic_function#Cardano.27s_method"
   ]
  },
  {
   "cell_type": "markdown",
   "metadata": {},
   "source": [
    "# Credits\n",
    "* Development of this chapter: Iuri Soter Viana Segtovich  \n",
    "* Review: Fernando de Azevedo Medeiros\n",
    "* Acknowledgments:\n",
    "  * To Caleb Bell for first pointing out to me the capability of sympy to solve a cubic EOS explicit in terms of pressure, for volume."
   ]
  }
 ],
 "metadata": {
  "anaconda-cloud": {},
  "kernelspec": {
   "display_name": "Python [conda root]",
   "language": "python",
   "name": "conda-root-py"
  },
  "language_info": {
   "codemirror_mode": {
    "name": "ipython",
    "version": 3
   },
   "file_extension": ".py",
   "mimetype": "text/x-python",
   "name": "python",
   "nbconvert_exporter": "python",
   "pygments_lexer": "ipython3",
   "version": "3.5.2"
  }
 },
 "nbformat": 4,
 "nbformat_minor": 0
}
