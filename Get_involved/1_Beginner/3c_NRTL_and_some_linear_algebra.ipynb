{
 "cells": [
  {
   "cell_type": "markdown",
   "metadata": {
    "collapsed": false
   },
   "source": [
    "# The NonRandomTwoLiquids (NRTL) model for *excess Gibbs energy* ($g^E$) and a case study of the Liquid-Liquid equilibria of water+ethanol+limonene"
   ]
  },
  {
   "cell_type": "markdown",
   "metadata": {},
   "source": [
    "# The NonRandomTwoLiquids (NRTL) model\n",
    "\n",
    "Correlates excess Gibbs energy and its derivatives: e.g. activity coefficients at given T, P and composition for a liquid mixture.\n",
    "\n",
    "## References:\n",
    "* Renon H., Prausnitz J. M., Local Compositions in Thermodynamic Excess Functions for Liquid Mixtures, AIChE J., 14_1, S.135–144, 1968.pdf\n",
    "* Prausnitz, Lichtenthaler & Azevedo, Molecular Thermodynamic of Fluid Phase Equilibria, 1998\n",
    "\n",
    "# Model overview\n",
    "\n",
    "|--------------Renon & Prausnitz--------------|\n",
    "|:-:|\n",
    "|$ \\frac{g^E}{RT}=\\sum_{i=1}^n \\left[ x_i\\frac{\\sum_{j=1}^n \\tau_{j,i} G_{j,i} x_{j}}{\\sum_{k=1}^n G_{k,i} x_k} \\right] $\n",
    "\n",
    "Where\n",
    "\n",
    "\n",
    "|--------------Renon & Prausnitz--------------|\n",
    "|:-:|\n",
    "|$\\tau_{i,j}= \\frac{g_{i,j}-g_{j,j}}{RT}=\\frac{A_{i,j}}{T}$ |\n",
    "|$G_{i,j}=\\mathrm{exp}(-\\alpha_{i,j} \\tau_{i,j})$|\n",
    "\n",
    "And either each $(g_{i,j}-g_{j,j})$ difference, in units of energy, or  each $A_{i,j}$ binary parameter, in units of temperature, are usually fitted to experimental data and published.\n",
    "\n",
    "The activities coefficients are calculated from the derivative of excess gibbs energy with respect to mole number of componente i ($n_i=N x_i$) with T, P and mole number of every other component held constant, ($RTln(\\gamma_i) = {\\partial g^E}/{ \\partial n_i}$)therefore:\n",
    "\n",
    "\n",
    "|---------------------------------------Renon & Prausnitz--------------------------------------|\n",
    "|:-:|:-:|\n",
    "|$ln(\\gamma_i)=  \\frac{\\sum_{j=1}^n\\left[\\tau_{j,i} G_{j,i} x_{j}\\right]}{\\sum_{k=1}^n\\left[G_{k,i}x_{k}\\right]} + \\sum_{j=1}^n\\left[ \\left(\\frac{\\ G_{i,j} x_{j}}{\\sum_{k=1}^n\\left[G_{k,j}x_{k}\\right]}\\right) \\left(\\tau_{i,j}-\\frac{\\sum_{j=1}^n\\left[\\tau_{i,j} G_{i,j} x_{i}\\right]}{\\sum_{k=1}^n\\left[G_{k,j}x_{k}\\right]} \\right) \\right] $|"
   ]
  },
  {
   "cell_type": "markdown",
   "metadata": {},
   "source": [
    "# Gather the needed packages here"
   ]
  },
  {
   "cell_type": "code",
   "execution_count": 12,
   "metadata": {
    "collapsed": true
   },
   "outputs": [],
   "source": [
    "import numpy as np"
   ]
  },
  {
   "cell_type": "markdown",
   "metadata": {},
   "source": [
    "# Model inputs\n",
    "\n",
    "Experimental parameters from Cháfer et al., 2004\n",
    "\n",
    "Ref: Cháfer, Muñoz, Burguet, Berna, The influence of the temperature on the liquid–liquid equlibria of the mixture limonene + ethanol + H 2 O, Fluid Phase Equilibria 224 (2004) 251–256\n",
    "\n",
    "### Thermodynamics *degrees of freedom*\n",
    "Excess gibbs energy, and activity coefficients are natural functions of T, P and composition.\n",
    "Here, according to the published parameters, the validity of the model is for constant pressure of 1 atm.\n",
    "The remaining D.o.F are T and x\n"
   ]
  },
  {
   "cell_type": "code",
   "execution_count": 13,
   "metadata": {
    "collapsed": false
   },
   "outputs": [],
   "source": [
    "#trial temperature and composition:\n",
    "T = 293.15 #K\n",
    "x=np.array([.1,.3,.6])"
   ]
  },
  {
   "cell_type": "markdown",
   "metadata": {},
   "source": [
    "## Fitted parameters"
   ]
  },
  {
   "cell_type": "code",
   "execution_count": 14,
   "metadata": {
    "collapsed": true
   },
   "outputs": [],
   "source": [
    "alpha=0.2\n",
    "\n",
    "A12=107.99 #K\n",
    "A21=555.81 #K\n",
    "A13=1011.98 #K\n",
    "A31=2277.37 #K\n",
    "A23=-1113.1 #K\n",
    "A32=1217.37 #K"
   ]
  },
  {
   "cell_type": "markdown",
   "metadata": {
    "collapsed": true
   },
   "source": [
    "## Feeding the fitted parameters to the model in conventional notation:"
   ]
  },
  {
   "cell_type": "code",
   "execution_count": 15,
   "metadata": {
    "collapsed": false
   },
   "outputs": [
    {
     "name": "stdout",
     "output_type": "stream",
     "text": [
      "tau=\n",
      "[[ 0.          0.36837796  3.45208937]\n",
      " [ 1.89599181  0.         -3.79703224]\n",
      " [ 7.76861675  4.15272045  0.        ]]\n",
      "alpha=\n",
      "[[ 0.   0.2  0.2]\n",
      " [ 0.2  0.   0.2]\n",
      " [ 0.2  0.2  0. ]]\n"
     ]
    }
   ],
   "source": [
    "#assemble matrix\n",
    "tau = np.array([[0, A12, A13],\n",
    "             [A21, 0, A23],\n",
    "             [A31, A32, 0]])/(T)\n",
    "\n",
    "# one value for alpha feeds all three binary alphas\n",
    "alpha12=alpha13=alpha23=alpha\n",
    "\n",
    "#matrix is symmetric\n",
    "alpha21=alpha12\n",
    "alpha31=alpha13\n",
    "alpha32=alpha23\n",
    "\n",
    "#assemble matrix\n",
    "alpha = np.array([[0, alpha12, alpha13],\n",
    "                [alpha21, 0, alpha23],\n",
    "                [alpha31, alpha32, 0]])\n",
    "\n",
    "#verify\n",
    "print(\"tau=\")\n",
    "print(tau)\n",
    "print(\"alpha=\")\n",
    "print(alpha)"
   ]
  },
  {
   "cell_type": "markdown",
   "metadata": {},
   "source": [
    "# Model equations\n",
    "(try them in a script-wise manner, consider input fitted parameters and thermodynamic D.o.F. provided"
   ]
  },
  {
   "cell_type": "code",
   "execution_count": 16,
   "metadata": {
    "collapsed": false
   },
   "outputs": [
    {
     "name": "stdout",
     "output_type": "stream",
     "text": [
      "G=\n",
      "[[ 1.          0.92897301  0.50136652]\n",
      " [ 0.68440984  1.          2.13700742]\n",
      " [ 0.21145917  0.4358121   1.        ]]\n"
     ]
    }
   ],
   "source": [
    "G=np.zeros([3,3])\n",
    "for j in range(3):\n",
    "    for i in range(3):\n",
    "        G[j,i]=np.exp((-alpha[j,i]*tau[j,i]))\n",
    "print(\"G=\")\n",
    "print(G)"
   ]
  },
  {
   "cell_type": "code",
   "execution_count": 17,
   "metadata": {
    "collapsed": false
   },
   "outputs": [
    {
     "name": "stdout",
     "output_type": "stream",
     "text": [
      "[ 21.87429222   0.27033844   0.79826439]\n"
     ]
    }
   ],
   "source": [
    "Gamma=np.zeros([3])\n",
    "for i in range(3):\n",
    "\n",
    "    Sj1=0\n",
    "    Sj2=0\n",
    "    Sj3=0\n",
    "    for j in range(3):\n",
    "        Sj1     += tau[j,i]*G[j,i]*x[j]\n",
    "        Sj2     += G[j,i]*x[j]\n",
    "\n",
    "        Sk1=0\n",
    "        Sk2=0\n",
    "        Sk3=0\n",
    "        for k in range(3):\n",
    "            Sk1+=G[k,j]*x[k]\n",
    "            Sk2+=x[k]*tau[k,j]*G[k,j]\n",
    "            Sk3+=G[k,j]*x[k]\n",
    "        \n",
    "        Sj3     += ((x[j]*G[i,j])/(Sk1))*(tau[i,j]-(Sk2)/(Sk3))\n",
    "    \n",
    "    Gamma[i]=np.exp(Sj1/Sj2 + Sj3)\n",
    "    \n",
    "print(Gamma)"
   ]
  },
  {
   "cell_type": "markdown",
   "metadata": {},
   "source": [
    "# Liq-Liq Equilibria Flash\n",
    "The next step will be using the model in a phase equilibria algorithm, a LiqLiq equilibria flash\n",
    "\n",
    "it works as follows:\n",
    "\n",
    "D.o.F for a flash calculation: T, P, global composition - z\n",
    "\n",
    "\n",
    "\n",
    "* ...............  =>guess, xL1 xL2, then calls model(T,P,x)\n",
    "* ...............//\n",
    "* .............<=\n",
    "* T,P,z => algorithm => finds equilibrium xL1 xL2 and BETA\n",
    "\n",
    "**Equilibriuma criteria**\n",
    "\n",
    "mu1[:]=mu2[:]\n",
    "\n",
    "**Devised algorithm after analytical simplification of repeated contributions:**\n",
    "\n",
    "x1*gamma1[:]=x2*gamma2[:]\n",
    "\n",
    "The first preliminary step is to functionize the model for recursive usage:\n"
   ]
  },
  {
   "cell_type": "markdown",
   "metadata": {},
   "source": [
    "## Functionize the model\n",
    "\n",
    "$$\\underline{\\gamma} \\leftarrow {\\gamma} \\left(\\{T,\\underline {x}\\},\\{ \\underline {\\underline{\\alpha}}, \\underline {\\underline{\\tau}}\\}\\right)$$"
   ]
  },
  {
   "cell_type": "markdown",
   "metadata": {},
   "source": [
    "Easyest way to functionalize the model is copy the expressions already presented in the scripwise approach\n",
    "and the wrap in a def block:\n",
    "We propose the use of tuples to separate input from thermodynamics dof and experimental parameters conceptually\n",
    "this is not mandatory for the wrapping concept, see later"
   ]
  },
  {
   "cell_type": "code",
   "execution_count": 18,
   "metadata": {
    "collapsed": false
   },
   "outputs": [
    {
     "name": "stdout",
     "output_type": "stream",
     "text": [
      "[ 21.87429222   0.27033844   0.79826439]\n"
     ]
    }
   ],
   "source": [
    "def Gamma(ThermoDOF,ExpPARAM):\n",
    "    (T,x)=ThermoDOF\n",
    "    (alpha,tau)=ExpPARAM\n",
    "\n",
    "    G=np.zeros([3,3])\n",
    "    for j in range(3):\n",
    "        for i in range(3):\n",
    "            G[j,i]=np.exp((-alpha[j,i]*tau[j,i]))\n",
    "    \n",
    "    Gamma=np.zeros([3])\n",
    "    for i in range(3):\n",
    "\n",
    "        Sj1=0\n",
    "        Sj2=0\n",
    "        Sj3=0\n",
    "        for j in range(3):\n",
    "            Sj1 += tau[j,i]*G[j,i]*x[j]\n",
    "            Sj2 += G[j,i]*x[j]\n",
    "    \n",
    "            Sk1=0\n",
    "            Sk2=0\n",
    "            Sk3=0\n",
    "            for k in range(3):\n",
    "                Sk1 += G[k,j]*x[k]\n",
    "                Sk2 += x[k]*tau[k,j]*G[k,j]\n",
    "                Sk3 += G[k,j]*x[k]\n",
    "            \n",
    "            Sj3 += ((x[j]*G[i,j])/(Sk1))*(tau[i,j]-(Sk2)/(Sk3))\n",
    "        \n",
    "        Gamma[i]=np.exp(Sj1/Sj2 + Sj3)\n",
    "    \n",
    "    return Gamma\n",
    "  \n",
    "print(Gamma((T,x),(alpha,tau))) #ttest using those trial input"
   ]
  },
  {
   "cell_type": "markdown",
   "metadata": {},
   "source": [
    "# Applying linear algebra matrix notation\n",
    "\n",
    "These calculations can be rewritten using linear algebra\n",
    "which can improve readability, maintainability, reduce human error in the coding, and improve execution speed,\n",
    "See Lectures notes of Abreu, C. R. A. (Matrix Algebra and Matrix Differentiation Rules Applied to Excess Gibbs Energy Models) in our library [here](absolute url pending)\n",
    "\n",
    "|--------------Renon & Prausnitz--------------|-------------------Abreu-------------------|\n",
    "|:-:|:-:|\n",
    "|$ \\frac{g^E}{RT}=\\sum_{i=1}^n \\left[ x_i\\frac{\\sum_{j=1}^n \\tau_{j,i} G_{j,i} x_{j}}{\\sum_{k=1}^n G_{k,i} x_k} \\right] $|$ \\frac{g^E}{RT}=\\underline{x}^T\\underline{\\underline{E}} \\underline{x}$ |\n",
    "\n",
    "Where\n",
    "\n",
    "|--------------Renon & Prausnitz--------------|-------------------Abreu-------------------|\n",
    "|:-:|:-:|\n",
    "|$\\tau_{i,j}= \\frac{g_{i,j}-g_{j,j}}{RT}=\\frac{A_{i,j}}{T}$ | $\\underline{\\underline{\\tau}}=-T^{-1}\\underline{\\underline{A}}$|\n",
    "|$G_{i,j}=\\mathrm{exp}(-\\alpha_{i,j} \\tau_{i,j})$|$\\underline{\\underline{G}}= \\mathrm{exp}(\\underline{\\underline{\\alpha}} \\circ \\underline{\\underline{\\tau}})$|\n",
    "|---|$\\underline{\\underline{\\Lambda}}=(\\underline{\\underline{\\tau}} \\circ \\underline{\\underline{G}})$|\n",
    "|---|$\\underline{\\underline{E}}=\\underline{\\underline{\\Lambda}}\\mathscr{D}^{-1}(\\underline{\\underline{G}}^T\\underline{x})$|\n",
    "\n",
    "And either each $(g_{i,j}-g_{j,j})$ difference, in units of energy, or  each $A_{i,j}$ binary parameter, in units of temperature, are usually fitted to experimental data and published.\n",
    "\n",
    "therefore\n",
    "\n",
    "\n",
    "|---------------------------------------Renon & Prausnitz--------------------------------------|-------------------Abreu-------------------|\n",
    "|:-:|:-:|\n",
    "|$ln(\\gamma_i)=  \\frac{\\sum_{j=1}^n\\left[\\tau_{j,i} G_{j,i} x_{j}\\right]}{\\sum_{k=1}^n\\left[G_{k,i}x_{k}\\right]} + \\sum_{j=1}^n\\left[ \\left(\\frac{\\ G_{i,j} x_{j}}{\\sum_{k=1}^n\\left[G_{k,j}x_{k}\\right]}\\right) \\left(\\tau_{i,j}-\\frac{\\sum_{j=1}^n\\left[\\tau_{i,j} G_{i,j} x_{i}\\right]}{\\sum_{k=1}^n\\left[G_{k,j}x_{k}\\right]} \\right) \\right] $|$ ln(\\underline{\\gamma})=\\left(\\underline{\\underline{E}}^S-\\underline{\\underline{L}}\\mathscr{D}\\underline{\\underline{E}}^T \\right)\\underline{x}$|\n",
    "\n",
    "where\n",
    "\n",
    "* the symbol $\\underline{\\underline{M}} \\circ \\underline{\\underline{N}}$ is the Hadamard product, element-wise multiplication between matrices $\\underline{\\underline{M}} $and$ \\underline{\\underline{N}}$.\n",
    "\n",
    "* $\\mathscr{D}\\underline{v}$ means matrix diagonalization of an array $\\underline{v}$: $\\mathscr{D}\\underline{v}= \\left\\{ \\underline{\\underline{M}} \\mid M_{i,i}=v_{i},M_{i,j \\neq i}=0 \\right\\}$.\n",
    "\n",
    "* $\\underline{\\underline{M}}^S$ means symmetrization of a matrix $\\underline{\\underline{M}}$:  $\\underline{\\underline{M}}^S= \\left\\{ \\underline{\\underline{N}} \\mid N_{i,j}=M_{i,j}+M_{j,i}\\right\\}$\n",
    "* $\\underline{\\underline{M}}^T$ means transposition of a matrix $\\underline{\\underline{M}}$: $\\underline{\\underline{M}}^T= \\left\\{ \\underline{\\underline{N}} \\mid N_{i,j}=M_{j,i} \\right\\}$\n",
    "\n",
    "Diagonalization is used to represent element wise multiplication between lines or columns.\n",
    "See:\n",
    "if\n",
    "$\\underline{v3}= \\underline{v1} \\mathscr D  \\underline{v2}$\n",
    "then\n",
    "$v3_i= v1_i * v2_i$\n",
    "\n",
    "This is useful in analytical differentiation\n",
    "\n",
    "This may be dropped at implementation time, depending on the programming enviroment\n",
    "See below:\n",
    "\n",
    "\n"
   ]
  },
  {
   "cell_type": "markdown",
   "metadata": {},
   "source": [
    "matrix notation: v1 o v2 = matriz operators notation D v1 v2 = final python implement: v1*v2 (defaults termo-a-termo)\n",
    "matriz operators notation: E D v1 = [ E[1,:] o v1[1]; E[2,:] o v1[2]; E[3,:] o v1[3] ]= final python implement: E * v1.T\n",
    "\n",
    "see\n",
    "* **matrix multiplication**\n",
    "\n",
    "conventional matrix notation\n",
    "\n",
    "$\\underline{\\underline{C}}=\\underline{\\underline{A}}\\underline{\\underline{B}}$\n",
    "\n",
    "elemental definition:\n",
    "\n",
    "$C_{i,j} = \\sum_k{A_{i,k}*B_{k,j}}$\n",
    "\n",
    "python implementation\n",
    "\n",
    "`C = A @ B`\n",
    "\n",
    "* **element-wise multiplication**\n",
    "\n",
    "conventional matrix notation\n",
    "\n",
    "$\\underline{\\underline{C}}=\\underline{\\underline{A}} \\circ \\underline{\\underline{B}}$\n",
    "\n",
    "elemental definition:\n",
    "\n",
    "$C_{i,j} = A_{i,j}*B_{i,j}$\n",
    "\n",
    "python implementation\n",
    "\n",
    "`C = A * B`\n",
    "\n",
    "* **element wise multiplication with broadcasting -- matmul+diag equivalence**\n",
    "\n",
    "conventional matrix notation\n",
    "\n",
    "$\\underline{\\underline{C}}=\\underline{\\underline{A}} \\mathscr D \\underline{b}$\n",
    "\n",
    "$\\underline{\\underline{D}}= \\mathscr D \\underline{b} \\underline{\\underline{A}}$\n",
    "\n",
    "elemental definition:\n",
    "\n",
    "$C_{i,j} = A_{i,j}*b_{j}$\n",
    "\n",
    "$D_{i,j} = b_{i}*A_{i,j}$\n",
    "\n",
    "python implementation\n",
    "\n",
    "`C = A * b.T`\n",
    "\n",
    "`D = b * A"
   ]
  },
  {
   "cell_type": "markdown",
   "metadata": {},
   "source": [
    "## Use linear algebra in the model"
   ]
  },
  {
   "cell_type": "code",
   "execution_count": 22,
   "metadata": {
    "collapsed": false
   },
   "outputs": [
    {
     "name": "stdout",
     "output_type": "stream",
     "text": [
      "[[ 21.87429222]\n",
      " [  0.27033844]\n",
      " [  0.79826439]]\n"
     ]
    }
   ],
   "source": [
    "def linalgGamma(ThermoDOF,ExpPARAM):\n",
    "    T=ThermoDOF[0] #should be an scalar and a \n",
    "    x=ThermoDOF[1] #should be a single-column matrix, not quite the same as a 1d array, see the usage test below\n",
    "    alpha=ExpPARAM[0] #should be two matrix\n",
    "    tau=ExpPARAM[1]\n",
    "    \n",
    "    G=np.exp((-alpha*tau)) #M2d * N2d yields element-wise multiplication\n",
    "    Lambda=(tau*G) \n",
    "    den=G.T @ x #M.T yields the transpose matrix of M; M @ N yields the matrix multiplication between M and N\n",
    "    invden=1/den #scalar 1 is broadcast for element-wise division\n",
    "    E0 = Lambda * invden.T\n",
    "    L0 = G * invden.T\n",
    "    term2 = L0 * x.T\n",
    "    term3 = term2 @ E0.T\n",
    "    term4 = (E0+E0.T-term3) @ x\n",
    "    gamma = np.exp(term4)\n",
    "    return gamma\n",
    "  \n",
    "x_as_column = np.array([x]).T #we wrap x with an extra braket so it is now a 2d array, a matrix, as we did not add any extra lines it is a single-line matrix, we tranpose to generate a single-column matrix (1d arrays cannot be transposed, there is no second dimension)\n",
    "print(linalgGamma((T,x_as_column),(alpha,tau))) #test using those trial input"
   ]
  },
  {
   "cell_type": "markdown",
   "metadata": {},
   "source": [
    "Ipython provides a profiling tool, with %timeit you can evaluate the time for execution of a line of program (with all called dependencies). we use it to evaluate our function in version 1 with explicit for loops and in version 2 with linear algebra matrix operations"
   ]
  },
  {
   "cell_type": "code",
   "execution_count": 13,
   "metadata": {
    "collapsed": false
   },
   "outputs": [
    {
     "name": "stdout",
     "output_type": "stream",
     "text": [
      "10000 loops, best of 3: 97 µs per loop\n"
     ]
    }
   ],
   "source": [
    "%timeit Gamma((T,x),(alpha,tau)) #ttest using those trial input #My result was 131 micro seconds per loop"
   ]
  },
  {
   "cell_type": "code",
   "execution_count": 12,
   "metadata": {
    "collapsed": false
   },
   "outputs": [
    {
     "name": "stdout",
     "output_type": "stream",
     "text": [
      "The slowest run took 269.70 times longer than the fastest. This could mean that an intermediate result is being cached.\n",
      "10000 loops, best of 3: 27 µs per loop\n"
     ]
    }
   ],
   "source": [
    "%timeit linalgGamma((T,x_as_column),(alpha,tau)) #ttest using those trial input #My result was 39.9 micro seconds per loop"
   ]
  },
  {
   "cell_type": "markdown",
   "metadata": {},
   "source": [
    "# Coming soon:\n",
    "* some plots\n",
    "* Liq Liq Equilibria flash algorithm\n",
    "* more plots\n",
    "* more optimization with fortran, c, cython and numba"
   ]
  }
 ],
 "metadata": {
  "anaconda-cloud": {},
  "kernelspec": {
   "display_name": "Python [conda root]",
   "language": "python",
   "name": "conda-root-py"
  },
  "language_info": {
   "codemirror_mode": {
    "name": "ipython",
    "version": 3
   },
   "file_extension": ".py",
   "mimetype": "text/x-python",
   "name": "python",
   "nbconvert_exporter": "python",
   "pygments_lexer": "ipython3",
   "version": "3.5.2"
  }
 },
 "nbformat": 4,
 "nbformat_minor": 1
}
