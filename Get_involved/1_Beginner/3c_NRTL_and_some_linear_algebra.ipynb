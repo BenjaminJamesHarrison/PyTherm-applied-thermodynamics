{
 "cells": [
  {
   "cell_type": "markdown",
   "metadata": {
    "collapsed": false
   },
   "source": [
    "# The Non Random Two Liquids (NRTL) model for *excess Gibbs energy* ($g^E$) and a case study of the Liquid-Liquid equilibria of water+ethanol+ethyl acetate."
   ]
  },
  {
   "cell_type": "markdown",
   "metadata": {},
   "source": [
    "# The Non Random Two Liquids (NRTL) model\n",
    "\n",
    "Calculates excess Gibbs energy and its derivatives: e.g. activity coefficients $\\underline{\\gamma}$ and excess molar enthalpy $h^E$ at given $T$, $P$ and composition $\\underline {x}$ for a liquid mixture.\n",
    "\n",
    "\n",
    "## Model overview\n",
    "\n",
    "\n",
    "$$ \\frac{g^E}{RT}=\\sum_{i=1}^n \\left[ x_i\\frac{\\sum_{j=1}^n \\left[ \\tau_{j,i} G_{j,i} x_{j} \\right] }{\\sum_{k=1}^n \\left[ G_{k,i} x_k \\right] } \\right] $$\n",
    "\n",
    "Where\n",
    "\n",
    "> $\\tau_{i,j}= \\frac{g_{i,j}-g_{j,j}}{RT}=\\frac{A_{i,j}}{T}$\n",
    ">\n",
    "> $G_{i,j}=\\mathrm{exp}(-\\alpha_{i,j} \\tau_{i,j})$\n",
    "\n",
    "And either each $(g_{i,j}-g_{j,j})$ difference, in units of energy, or  each $A_{i,j}$ binary parameter, in units of temperature, are usually fitted to experimental data and published.\n",
    "\n",
    "The activities coefficients are calculated from the derivative of excess gibbs energy with respect to mole number of componente i ($n_i=N x_i$) with T, P and mole number of every other component held constant, ($RTln(\\gamma_i) = {\\partial g^E}/{ \\partial n_i}$)therefore:\n",
    "\n",
    "\n",
    "$$ln(\\gamma_i)=  \\frac{\\sum_{j=1}^n\\left[\\tau_{j,i} G_{j,i} x_{j}\\right]}{\\sum_{k=1}^n\\left[G_{k,i}x_{k}\\right]} + \\sum_{j=1}^n\\left[ \\left(\\frac{\\ G_{i,j} x_{j}}{\\sum_{k=1}^n\\left[G_{k,j}x_{k}\\right]}\\right) \\left(\\tau_{i,j}-\\frac{\\sum_{k=1}^n\\left[\\tau_{k,i} G_{k,i} x_{k}\\right]}{\\sum_{k=1}^n\\left[G_{k,j}x_{k}\\right]} \\right) \\right] $$\n",
    "\n",
    "## References:\n",
    "\n",
    "### The NRTL model' original paper\n",
    "* Renon H., Prausnitz J. M., Local Compositions in Thermodynamic Excess Functions for Liquid Mixtures, AIChE J., 14_1, S.135–144, 1968 [doi:10.1002/aic.690140124](https://doi.org/10.1002/aic.690140124)\n",
    "\n",
    "\n",
    "\n",
    "### The NRTL model in some books\n",
    "* Prausnitz, Lichtenthaler & Azevedo, Molecular Thermodynamic of Fluid Phase Equilibria, 1998 [ISBN-10: 0139777458](https://books.google.com.br/books?id=VSwc1XUmYpcC)\n",
    "\n",
    "### More papers on the NRTL model\n",
    "* Abreu, C. R. A., Matrix Algebra and Matrix Differentiation Rules Applied to Excess Gibbs Energy Models, Lecture notes available [here][Abreu, yyyy, LN, Matrix algebra...].\n",
    "\n",
    "[Abreu, yyyy, LN, Matrix algebra...]: https://github.com/iurisegtovich/PyTherm-applied-thermodynamics/blob/master/Get_involved/4_Texts_Library/AbreuC.R.A.%2C%20Matrix%20Algebra%20and%20Matrix%20Differentiation%20Rules%20Applied%20to%20Excess%20Gibbs%20Energy%20Models.pdf"
   ]
  },
  {
   "cell_type": "markdown",
   "metadata": {},
   "source": [
    "# Starting the computational implementation of the model:\n",
    "\n",
    "Gather the needed packages here"
   ]
  },
  {
   "cell_type": "code",
   "execution_count": 61,
   "metadata": {
    "collapsed": true
   },
   "outputs": [],
   "source": [
    "import numpy as np"
   ]
  },
  {
   "cell_type": "markdown",
   "metadata": {},
   "source": [
    "## Model inputs\n",
    "\n",
    "Experimental parameters from Renon et al., (1969)\n",
    "\n",
    "### References:\n",
    "\n",
    "Renon, Henri, and J. M. Prausnitz. \"Estimation of parameters for the NRTL equation for excess Gibbs energies of strongly nonideal liquid mixtures.\" Industrial & Engineering Chemistry Process Design and Development 8.3 (1969): 413-419.\n",
    "[DOI:10.1021/i260031a019]( https://doi.org/10.1021/i260031a019)"
   ]
  },
  {
   "cell_type": "markdown",
   "metadata": {},
   "source": [
    "## Thermodynamics *degrees of freedom*\n",
    "Excess gibbs energy, and activity coefficients are natural functions of temperature $(T)$, pressure $(P)$ and composition $(\\underline{x})$.\n",
    "Here, we will consider the system studied by Renon et al. (1969), they regressed parameters with which the model is valid for constant pressure of 1 atm.\n",
    "The remaining thermodynamics *degrees of freedom* required to calculate a set of activity coefficients are the temperature and composition.\n",
    "We set trial values below:"
   ]
  },
  {
   "cell_type": "code",
   "execution_count": 85,
   "metadata": {
    "collapsed": false
   },
   "outputs": [],
   "source": [
    "#trial temperature and composition:\n",
    "T = 293.15 #K\n",
    "x=np.array([.1,.3,.6]) #normalized"
   ]
  },
  {
   "cell_type": "markdown",
   "metadata": {},
   "source": [
    "## Fitted parameters\n",
    "Renon et al. (1969) fitted 1 $\\alpha$ valid for all 3 binary interactions $\\{(1,2),(1,3),(2,3)\\}$ parameter and 6 $A_{i,j}$ parameters, two for each binary interaction filling a non symmetric $A$ matrix."
   ]
  },
  {
   "cell_type": "code",
   "execution_count": 86,
   "metadata": {
    "collapsed": true
   },
   "outputs": [],
   "source": [
    "# Ethyl acetate (1) + water (2) + ethanol (3)\n",
    "\n",
    "\n",
    "alpha12 = 0.4\n",
    "\n",
    "alpha23 = 0.3\n",
    "\n",
    "alpha13 = 0.3\n",
    "\n",
    "# 6 binary Aij parameters\n",
    "Dg12 = 1335 #K\n",
    "Dg21 = 2510 #K\n",
    "\n",
    "Dg23 = 976 #K\n",
    "Dg32 = 88 #K\n",
    "\n",
    "Dg13 = 301 #K\n",
    "Dg31 = 322 #K\n"
   ]
  },
  {
   "cell_type": "markdown",
   "metadata": {
    "collapsed": true
   },
   "source": [
    "## Feeding the fitted parameters to the model in matrix structure:\n",
    "we will assemble the parameters in a matrix structure so that we can access each parameter by its index, as in\n",
    "`A[0,0]` and `A[0,1]`rather than as `A11` and `A12`, so we can loop trough all of them using an iterator, see below:"
   ]
  },
  {
   "cell_type": "code",
   "execution_count": 87,
   "metadata": {
    "collapsed": false
   },
   "outputs": [],
   "source": [
    "#assemble matrix with regressed parameters Dg_i,j, according to the model all diagonal terms are zero\n",
    "Dg = np.array([[0, Dg12, Dg13],\n",
    "             [Dg21, 0, Dg23],\n",
    "             [Dg31, Dg32, 0]])\n",
    "\n",
    "A = Dg/R\n",
    "\n",
    "#assemble symmetric matrix alpha\n",
    "alpha = np.array([[0, alpha12, alpha13],\n",
    "                [alpha12, 0, alpha23],\n",
    "                [alpha13, alpha23, 0]])"
   ]
  },
  {
   "cell_type": "code",
   "execution_count": 88,
   "metadata": {
    "collapsed": false
   },
   "outputs": [
    {
     "name": "stdout",
     "output_type": "stream",
     "text": [
      "i,j,alpha[i,j],A[i,j]\n",
      "0 0 0.0 0.0\n",
      "0 1 0.4 160.572528266\n",
      "0 2 0.3 36.2039932644\n",
      "1 0 0.4 301.900408949\n",
      "1 1 0.0 0.0\n",
      "1 2 0.3 117.392350253\n",
      "2 0 0.3 38.7298532596\n",
      "2 1 0.3 10.5845561703\n",
      "2 2 0.0 0.0\n",
      "alpha=\n",
      "[[ 0.   0.4  0.3]\n",
      " [ 0.4  0.   0.3]\n",
      " [ 0.3  0.3  0. ]]\n",
      "A=\n",
      "[[   0.          160.57252827   36.20399326]\n",
      " [ 301.90040895    0.          117.39235025]\n",
      " [  38.72985326   10.58455617    0.        ]]\n",
      "alpha12,alpha13,alpha23\n",
      "0.4 0.3 0.3\n",
      "A12,A13,A21,A23,A31,A32\n",
      "107.99 1011.98 555.81 -1113.1 2277.37 1217.37\n"
     ]
    }
   ],
   "source": [
    "#verify the assembled matrices\n",
    "\n",
    "#we can now automatically loop through its elements\n",
    "\n",
    "print(\"i,j,alpha[i,j],A[i,j]\")\n",
    "for i in range(3):\n",
    "    for j in range(3):\n",
    "        print(i,j,alpha[i,j],A[i,j])\n",
    "        \n",
    "#or even use the whole matrix at once\n",
    "print(\"alpha=\")\n",
    "print(alpha)\n",
    "print(\"A=\")\n",
    "print(A)\n",
    "\n",
    "\n",
    "# rather than typing each element indiividually\n",
    "print(\"alpha12,alpha13,alpha23\")\n",
    "print(alpha12,alpha13,alpha23)\n",
    "print(\"A12,A13,A21,A23,A31,A32\")\n",
    "print(A12,A13,A21,A23,A31,A32)"
   ]
  },
  {
   "cell_type": "markdown",
   "metadata": {},
   "source": [
    "## Model equations\n",
    "We first implement the model equations in a script-wise manner, considering the models input - the regressed parameters and thermodynamic degrees of freedom previously defined."
   ]
  },
  {
   "cell_type": "code",
   "execution_count": 89,
   "metadata": {
    "collapsed": false
   },
   "outputs": [
    {
     "name": "stdout",
     "output_type": "stream",
     "text": [
      "tau=\n",
      "[[ 0.          0.54774869  0.12349989]\n",
      " [ 1.0298496   0.          0.40045148]\n",
      " [ 0.13211616  0.03610628  0.        ]]\n",
      "G=\n",
      "[[ 1.          0.80324181  0.96362798]\n",
      " [ 0.66236412  1.          0.88680032]\n",
      " [ 0.96114034  0.98922657  1.        ]]\n"
     ]
    }
   ],
   "source": [
    "tau=np.zeros([3,3])\n",
    "for j in range(3):\n",
    "    for i in range(3):\n",
    "        tau[j,i]=A[j,i]/T\n",
    "print(\"tau=\")\n",
    "print(tau)\n",
    "        \n",
    "G=np.zeros([3,3])\n",
    "for j in range(3):\n",
    "    for i in range(3):\n",
    "        G[j,i]=np.exp((-alpha[j,i]*tau[j,i]))\n",
    "print(\"G=\")\n",
    "print(G)"
   ]
  },
  {
   "cell_type": "code",
   "execution_count": 90,
   "metadata": {
    "collapsed": false
   },
   "outputs": [
    {
     "name": "stdout",
     "output_type": "stream",
     "text": [
      "[ 1.49680164  1.28852206  1.01628464]\n"
     ]
    }
   ],
   "source": [
    "Gamma=np.zeros([3])\n",
    "for i in range(3):\n",
    "\n",
    "    Sj1=0\n",
    "    Sj2=0\n",
    "    Sj3=0\n",
    "    for j in range(3):\n",
    "        Sj1     += tau[j,i]*G[j,i]*x[j]\n",
    "        Sj2     += G[j,i]*x[j]\n",
    "\n",
    "        Sk1=0\n",
    "        Sk2=0\n",
    "        Sk3=0\n",
    "        for k in range(3):\n",
    "            Sk1+=G[k,j]*x[k]\n",
    "            Sk2+=x[k]*tau[k,j]*G[k,j]\n",
    "            Sk3+=G[k,j]*x[k]\n",
    "        \n",
    "        Sj3     += ((x[j]*G[i,j])/(Sk1))*(tau[i,j]-(Sk2)/(Sk3))\n",
    "    \n",
    "    Gamma[i]=np.exp(Sj1/Sj2 + Sj3)\n",
    "    \n",
    "print(Gamma)"
   ]
  },
  {
   "cell_type": "markdown",
   "metadata": {},
   "source": [
    "## *Functionize* the model\n",
    "\n",
    "> \"taking a block of code and converting it into a function that can be inherited (or included once) and called by various other programs sometimes over and over again.\" -[functionize](http://www.urbandictionary.com/define.php?term=functionize)\n",
    "\n",
    "In order for us to be able to re-use this model in different works we would like to functionize it, so we could call this function with different parameters and thermodynamic conditions, and with that make recursive usage to:\n",
    "* create plots for a given system - varying x and T\n",
    "* find solutions in phase equilibrium algorithms - varying x and T\n",
    "* study different systems - varying component-dependent parameters\n",
    "* perform parameter regression - varying parameter values to correlate data for a given system\n",
    "\n",
    "$$\\underline{\\gamma} \\leftarrow {\\gamma} \\left(T,\\underline {x}, \\underline {\\underline{\\alpha}}, \\underline {\\underline{\\tau}}\\right)$$"
   ]
  },
  {
   "cell_type": "markdown",
   "metadata": {},
   "source": [
    "## def model(arguments):\n",
    "Functionizing the model is straightforward: we just copy the expressions already presented in the script-wise approach\n",
    "and then wrap them in a `def` block with clear inputs:\n",
    "\n",
    "    def Gamma(T,x,alpha,A):\n",
    "\n",
    "and clear outputs:\n",
    "\n",
    "    return Gamma"
   ]
  },
  {
   "cell_type": "code",
   "execution_count": 91,
   "metadata": {
    "collapsed": false
   },
   "outputs": [],
   "source": [
    "def Gamma(T,x,alpha,AA):\n",
    "    tau=np.zeros([3,3])\n",
    "    for j in range(3):\n",
    "        for i in range(3):\n",
    "            tau[j,i]=A[j,i]/T    \n",
    "    \n",
    "    G=np.zeros([3,3])\n",
    "    for j in range(3):\n",
    "        for i in range(3):\n",
    "            G[j,i]=np.exp((-alpha[j,i]*tau[j,i]))\n",
    "    \n",
    "    Gamma=np.zeros([3])\n",
    "    for i in range(3):\n",
    "\n",
    "        Sj1=0\n",
    "        Sj2=0\n",
    "        Sj3=0\n",
    "        for j in range(3):\n",
    "            Sj1 += tau[j,i]*G[j,i]*x[j]\n",
    "            Sj2 += G[j,i]*x[j]\n",
    "    \n",
    "            Sk1=0\n",
    "            Sk2=0\n",
    "            Sk3=0\n",
    "            for k in range(3):\n",
    "                Sk1 += G[k,j]*x[k]\n",
    "                Sk2 += x[k]*tau[k,j]*G[k,j]\n",
    "                Sk3 += G[k,j]*x[k]\n",
    "            \n",
    "            Sj3 += ((x[j]*G[i,j])/(Sk1))*(tau[i,j]-(Sk2)/(Sk3))\n",
    "        \n",
    "        Gamma[i]=np.exp(Sj1/Sj2 + Sj3)\n",
    "    \n",
    "    return Gamma"
   ]
  },
  {
   "cell_type": "code",
   "execution_count": 92,
   "metadata": {
    "collapsed": false
   },
   "outputs": [
    {
     "name": "stdout",
     "output_type": "stream",
     "text": [
      "[ 1.49680164  1.28852206  1.01628464]\n"
     ]
    }
   ],
   "source": [
    "#test it to see if results match\n",
    "ans=Gamma(T,x,alpha,A)\n",
    "print(ans) #ttest using those trial input"
   ]
  },
  {
   "cell_type": "code",
   "execution_count": 93,
   "metadata": {
    "collapsed": false
   },
   "outputs": [
    {
     "name": "stdout",
     "output_type": "stream",
     "text": [
      "in ~pure Ethyl acetate liquid, Ethyl acetate's itself activity coefficient is  1.0\n",
      "ethanol infinite dillution activity coefficient is  1.28464455007\n",
      "and water infinite dillution activity coefficient is  3.42083308792\n",
      "in ~pure ethanol liquid, ethanol's itself activity coefficient is  1.54676981851\n",
      "Ethyl acetate infinite dillution activity coefficient is  4.34847080764\n",
      "and water infinite dillution activity coefficient is  1.0\n",
      "in ~pure water liquid, water's itself activity coefficient is  1.47879383184\n",
      "ethanol infinite dillution activity coefficient is  1.0\n",
      "and Ethyl acetate infinite dillution activity coefficient is  1.28546962045\n"
     ]
    }
   ],
   "source": [
    "# test predictions of activity coefficients at infinite dillution\n",
    "ans=Gamma(T,[1,0,0],alpha,A)\n",
    "print(\"in ~pure Ethyl acetate liquid, Ethyl acetate's itself activity coefficient is \",ans[0])\n",
    "print(\"ethanol infinite dillution activity coefficient is \", ans[2])\n",
    "print(\"and water infinite dillution activity coefficient is \", ans[1])\n",
    "\n",
    "ans=Gamma(T,[0,1,0],alpha,A)\n",
    "\n",
    "print(\"in ~pure ethanol liquid, ethanol's itself activity coefficient is \",ans[2])\n",
    "print(\"Ethyl acetate infinite dillution activity coefficient is \", ans[0])\n",
    "print(\"and water infinite dillution activity coefficient is \", ans[1])\n",
    "\n",
    "ans=Gamma(T,[0,0,1],alpha,A)\n",
    "\n",
    "print(\"in ~pure water liquid, water's itself activity coefficient is \",ans[1])\n",
    "print(\"ethanol infinite dillution activity coefficient is \", ans[2])\n",
    "print(\"and Ethyl acetate infinite dillution activity coefficient is \", ans[0])"
   ]
  },
  {
   "cell_type": "markdown",
   "metadata": {},
   "source": [
    "## As a first graphical result we can plot the Excess Gibbs energy as a function of mole fraction of one component ina  binary mixture"
   ]
  },
  {
   "cell_type": "code",
   "execution_count": 94,
   "metadata": {
    "collapsed": false
   },
   "outputs": [
    {
     "data": {
      "image/png": "[encoded data removed]",
      "text/plain": [
       "<matplotlib.figure.Figure at 0x7fa0444440b8>"
      ]
     },
     "metadata": {},
     "output_type": "display_data"
    }
   ],
   "source": [
    "T=298\n",
    "xW=np.linspace(0,1,100)\n",
    "xE=1-xW\n",
    "Ge=np.zeros(100)\n",
    "R=8.314\n",
    "\n",
    "for i in range(100):\n",
    "    gammas=Gamma(T,[0,xE[i],xW[i]],alpha,A)\n",
    "    Ge[i]=(R*T*(xE[i]*np.log(gammas[1])+xW[i]*np.log(gammas[2])))\n",
    "\n",
    "from matplotlib import pyplot as plt\n",
    "%matplotlib inline\n",
    "plt.plot(xE,Ge)\n",
    "plt.show()"
   ]
  },
  {
   "cell_type": "markdown",
   "metadata": {},
   "source": [
    "# Applying linear algebra matrix notation\n",
    "\n",
    "This implementation can be rewritten using linear algebra matrix notation, this can simplify analytical derivations, improve readability (although for the trained mind), maintainability, reduce human error in the coding (less typing therefore less typos), and improve execution speed (if we make use of libraries that can automatically convert matrix notation to optimal implementation of the underlying loops - e.g. NumPy).\n",
    "For details on the derivations of the matrix notation for the NRTL model, as well as for UNIQUAC, UNIFAC and COSMO see the lectures notes of Abreu, C. R. A. in our library [here][Abreu, yyyy, LN, Matrix algebra...].\n",
    "\n",
    "[Abreu, yyyy, LN, Matrix algebra...]: https://github.com/iurisegtovich/PyTherm-applied-thermodynamics/blob/master/Get_involved/4_Texts_Library/AbreuC.R.A.%2C%20Matrix%20Algebra%20and%20Matrix%20Differentiation%20Rules%20Applied%20to%20Excess%20Gibbs%20Energy%20Models.pdf\n",
    "\n",
    "| - - - - - - - - - - - - - - Renon & Prausnitz - - - - - - - - - - - - - - | - - - - - - - - - - - - - - Abreu - - - - - - - - - - - - - - |\n",
    "|:-:|:-:|\n",
    "|$ \\frac{g^E}{RT}=\\sum_{i=1}^n \\left[ x_i\\frac{\\sum_{j=1}^n \\tau_{j,i} G_{j,i} x_{j}}{\\sum_{k=1}^n G_{k,i} x_k} \\right] $|$ \\frac{g^E}{RT}=\\underline{x}^T\\underline{\\underline{E}} \\underline{x}$ |\n",
    "\n",
    "Where\n",
    "\n",
    "| - - - - - - - - - - - - - - Renon & Prausnitz - - - - - - - - - - - - - - | - - - - - - - - - - - - - - Abreu - - - - - - - - - - - - - - |\n",
    "|:-:|:-:|\n",
    "|$\\tau_{i,j}= \\frac{g_{i,j}-g_{j,j}}{RT}=\\frac{A_{i,j}}{T}$ | $\\underline{\\underline{\\tau}}=-T^{-1}\\underline{\\underline{A}}$|\n",
    "|$G_{i,j}=\\mathrm{exp}(-\\alpha_{i,j} \\tau_{i,j})$|$\\underline{\\underline{G}}= \\mathrm{exp}(\\underline{\\underline{\\alpha}} \\circ \\underline{\\underline{\\tau}})$|\n",
    "|---|$\\underline{\\underline{\\Lambda}}=(\\underline{\\underline{\\tau}} \\circ \\underline{\\underline{G}})$|\n",
    "|---|$\\underline{\\underline{E}}=\\underline{\\underline{\\Lambda}}\\mathscr{D}^{-1}(\\underline{\\underline{G}}^T\\underline{x})$|\n",
    "\n",
    "Therefore\n",
    "\n",
    "\n",
    "| - - - - - - - - - - - - - - - - - - - - - - - - - - - - - - - Renon & Prausnitz - - - - - - - - - - - - - - - - - - - - - - - - - - - - - - | - - - - - - - - - - - Abreu - - - - - - - - - - - |\n",
    "|:-:|:-:|\n",
    "|$ln(\\gamma_i)=  \\frac{\\sum_{j=1}^n\\left[\\tau_{j,i} G_{j,i} x_{j}\\right]}{\\sum_{k=1}^n\\left[G_{k,i}x_{k}\\right]} + \\sum_{j=1}^n\\left[ \\left(\\frac{\\ G_{i,j} x_{j}}{\\sum_{k=1}^n\\left[G_{k,j}x_{k}\\right]}\\right) \\left(\\tau_{i,j}-\\frac{\\sum_{j=1}^n\\left[\\tau_{i,j} G_{i,j} x_{i}\\right]}{\\sum_{k=1}^n\\left[G_{k,j}x_{k}\\right]} \\right) \\right] $|$ ln(\\underline{\\gamma})=\\left(\\underline{\\underline{E}}^S-\\underline{\\underline{L}}\\mathscr{D}\\underline{x}\\underline{\\underline{E}}^T \\right)\\underline{x}$|\n",
    "\n",
    "Where\n",
    "\n",
    "* $\\underline{\\underline{M}} \\circ \\underline{\\underline{N}}$ is the Hadamard product, element-wise multiplication between matrices $\\underline{\\underline{M}} $and$ \\underline{\\underline{N}}$, i.e.,\n",
    "$$\\underline{\\underline{M}} \\circ \\underline{\\underline{N}} = \\left\\{ \\underline{\\underline{R}} \\mid R_{i,j}=M_{i,j} \\times N_{i,j} \\right\\}$$\n",
    "\n",
    "* $\\mathscr{D}\\underline{v}$ means matrix diagonalization of an column $\\underline{v}$, i.e.,\n",
    "$$\\mathscr{D}\\underline{v}= \\left\\{ \\underline{\\underline{M}} \\mid M_{i,j}=v_{i} \\text { if } {j = i} \\text{, and } M_{i,j} = 0 \\text { if } {j \\neq i} \\right\\}$$\n",
    "\n",
    "* $\\underline{\\underline{M}}^S$ means symmetrization of a matrix $\\underline{\\underline{M}}$, i.e.,\n",
    "$$\\underline{\\underline{M}}^S= \\left\\{ \\underline{\\underline{N}} \\mid N_{i,j}=M_{i,j}+M_{j,i}\\right\\}$$\n",
    "* $\\underline{\\underline{M}}^T$ means transposition of a matrix $\\underline{\\underline{M}}$, i.e.,\n",
    "$$\\underline{\\underline{M}}^T= \\left\\{ \\underline{\\underline{N}} \\mid N_{i,j}=M_{j,i} \\right\\}$$"
   ]
  },
  {
   "cell_type": "markdown",
   "metadata": {},
   "source": [
    "* **matrix multiplication**\n",
    "\n",
    "> Replace summations of matrices in one of its dimensions\n",
    "\n",
    "  * elemental definition:\n",
    "\n",
    "$C_{i,j} = \\sum_k{\\left[A_{i,k} \\times B_{k,j}\\right]}$\n",
    "\n",
    "$d_{i} = \\sum_k{\\left[A_{i,k} \\times b_{k}\\right]}$\n",
    "\n",
    "$e_{j} = \\sum_k{\\left[a_{k} \\times B_{k,j}\\right]}$\n",
    "\n",
    "  * matrix notation\n",
    "\n",
    "$\\underline{\\underline{C}}=\\underline{\\underline{A}}\\underline{\\underline{B}}$\n",
    "\n",
    "$\\underline{d}=\\underline{\\underline{A}}\\underline{b}$\n",
    "\n",
    "$\\underline{e}=(\\underline{a^T}\\underline{\\underline{B}})^T$\n",
    "\n",
    "\n",
    "  * python implementation\n",
    "\n",
    "`C = A @ B`\n",
    "\n",
    "`d = A @ b`\n",
    "\n",
    "`e = (a.T @ B).T`\n",
    "\n",
    "* **element-wise multiplication**\n",
    "\n",
    "> Condensate operations that apply analogously in all elements of one or more matrices\n",
    "\n",
    "  * elemental definition:\n",
    "\n",
    "$C_{i,j} = A_{i,j} \\times B_{i,j}$\n",
    "\n",
    "  * matrix notation\n",
    "\n",
    "$\\underline{\\underline{C}}=\\underline{\\underline{A}} \\circ \\underline{\\underline{B}}$\n",
    "\n",
    "  * python implementation\n",
    "\n",
    "`C = A * B`\n",
    "\n",
    "* **element-wise multiplication with broadcasting**\n",
    "\n",
    "> Diagonalization is used to represent element-wise multiplication between: two single line matrixes, two single columns, one single line matrix and each line of a (nl,nc) matrix, or one single column matrix and each column of a (nl,nc) matrix. This is useful in analytical differentiation presented in the lecture notes of [Abreu C. R. A.][Abreu, yyyy, LN, Matrix algebra...].\n",
    "On the other hand, this notation may be dropped later, at implementation time, for a numerical solution, depending on the programming enviroment, see below the usage and correspondence of notations:\n",
    "\n",
    "[Abreu, yyyy, LN, Matrix algebra...]: https://github.com/iurisegtovich/PyTherm-applied-thermodynamics/blob/master/Get_involved/4_Texts_Library/AbreuC.R.A.%2C%20Matrix%20Algebra%20and%20Matrix%20Differentiation%20Rules%20Applied%20to%20Excess%20Gibbs%20Energy%20Models.pdf\n",
    "\n",
    "  * elemental definition:\n",
    "\n",
    "$C_{i,j} = A_{i,j} \\times b_{j}$\n",
    "\n",
    "$D_{i,j} = b_{i} \\times A_{i,j}$\n",
    "\n",
    "$e_{i} = a_{i} \\times b_{i}$\n",
    "\n",
    "$f_{j} = b_{j} \\times a_{j}  $\n",
    "\n",
    "  * matrix notation\n",
    "\n",
    "$\\underline{\\underline{C}}=\\underline{\\underline{A}} \\left( \\mathscr D \\underline{b} \\right )$\n",
    "\n",
    "$\\underline{\\underline{D}}= \\left( \\mathscr D \\underline{b} \\right ) \\underline{\\underline{A}}$\n",
    "\n",
    "$\\underline{e}= \\left( \\mathscr D \\underline{a} \\right ) \\underline{b}$\n",
    "\n",
    "$\\underline{f}=\\left( \\underline{b}^{T} \\left( \\mathscr D \\underline{a} \\right ) \\right)^T$\n",
    "\n",
    "  * python implementation\n",
    "\n",
    "`C = A * b.T`\n",
    "\n",
    "`D = b * A`\n",
    "\n",
    "`e = a * b`\n",
    "\n",
    "`f = (b.T * a.T).T`\n",
    "\n",
    "> where we chose to use:\n",
    ">- upper case letters to represent full (nl,nc) matrixes\n",
    ">- lower case letters to represent single column matrixes)\n",
    ">\n",
    "> while from Python/NumPy syntax:\n",
    ">- `M.T` is the numpy native syntax for transposition of a matrix `M`\n",
    ">- `A \\* B` is the numpy native syntax for the element-wise multiplication between matrixes `A` and `B`\n",
    "\n",
    "Note that in matrix algebra in python, single columns and single line matrixes should be represented by 2d arrays having shape (nl,1) and (1,nc), respectively. This is not quite the same thing as 1d arrays. Understand the differences seeing usage examples [here][Lists and array operations].\n",
    "\n",
    "> where:\n",
    ">- nl stands for number of lines in a single column (nl,1) matrix or in a full (nl,nc) matrix\n",
    ">- nc stands for number of columns in a single line (1,nc) matrix or in a full (nl,nc) matrix\n",
    "\n",
    "[Lists and array operations]: http://localhost:8888/notebooks/LocalWorkspaces/Pytherm/GITSYNC/Get_involved/5_Syntax_cheat_sheets%2C_examples%2C_samples%2C_tests/List%20and%20Array%20operations.ipynb"
   ]
  },
  {
   "cell_type": "markdown",
   "metadata": {},
   "source": [
    "## Use linear algebra in the model"
   ]
  },
  {
   "cell_type": "code",
   "execution_count": 95,
   "metadata": {
    "collapsed": false
   },
   "outputs": [],
   "source": [
    "def Gamma_linalg(T,c_x,q_alpha, q_A): # here we chose to use the starting letters s, c, l, and Q to identify scalar variables, single column matrixes, single line matrixes and square matrixes to the reader\n",
    "    # e_T should be an scalar value for temperature\n",
    "    # c_x should be a single-column matrix(2d array) representing composition\n",
    "    # q_alpha should be two matrix(2d array) representing component dependent parameters inferred from experimental data\n",
    "    # q_tau should be two matrix(2d array) representing component dependent parameters inferred from experimental data\n",
    "    \n",
    "    q_tau     = q_A/T #element-wise division by scalar\n",
    "    q_at      = q_alpha*q_tau #M2d * N2d yields element-wise multiplication\n",
    "    q_minusat     = -q_at #element wise signal change\n",
    "    q_G       = np.exp(q_minusat) #element wise exponentiation\n",
    "    q_Lambda  = (q_tau*q_G) #element-wise multiplication\n",
    "    q_GT      = q_G.T #M.T yields the transpose matrix of M;\n",
    "    c_den     = q_GT @ c_x #M @ N yields the matrix multiplication between M and N\n",
    "    c_invden  = 1/c_den #scalar 1 is broadcast for element-wise division\n",
    "    l_invden  = c_invden.T #transposition of a single column matrix yields a single line matrix\n",
    "    q_E       = q_Lambda * l_invden #element wise multiplication between (nl,nc) matrix M with (1,nc) matrix l broadcasts the element-wise multiplication of each (1,nc) submatrix of M with the unique (1,nc) matrix l\n",
    "    q_L       = q_G * l_invden #broadcasting of element-wise multiplication\n",
    "    l_x       = c_x.T #transposition of a single column matrix yields a single line matrix\n",
    "    q_Lx      = q_L * l_x #broadcasting of element-wise multiplication\n",
    "    q_ET      = q_E.T #transposition of square matrix\n",
    "    q_LxET    = q_Lx @ q_ET #matrix multiplication\n",
    "    q_ES      = q_E+q_ET #element-wise sum\n",
    "    q_ESminusLxET = q_ES-q_LxET #element-wise subtraction\n",
    "    q_ESminusLxETx     = q_ESminusLxET @ c_x #matrix multiplication\n",
    "    gamma     = np.exp(q_ESminusLxETx) #element-wise exponentiation\n",
    "    return gamma"
   ]
  },
  {
   "cell_type": "code",
   "execution_count": 96,
   "metadata": {
    "collapsed": false
   },
   "outputs": [
    {
     "name": "stdout",
     "output_type": "stream",
     "text": [
      "[[ 1.48877982]\n",
      " [ 1.28373249]\n",
      " [ 1.01599751]]\n"
     ]
    }
   ],
   "source": [
    "#a test case for the function\n",
    "#where x was the composition represented in a 1d array\n",
    "#and now line and x_as_column is a single lne and a single column matrix, respectively to represent composition\n",
    "#We build it using the array function to wrap the 1d array in another 1d aray, hence a 2d array\n",
    "x_as_line = np.array([x])\n",
    "#We transpose x_as_line to creata x_as_column, which is the shape expected by the linalgGamma function\n",
    "x_as_column = np.array([x]).T #we wrap x with an extra braket so it is now a 2d array, a matrix, as we did not add any extra lines it is a single-line matrix, we tranpose to generate a single-column matrix (1d arrays cannot be transposed, there is no second dimension)\n",
    "#print the output to see if errors occur and if values are coherent(between zero and infinity, tending to 1 for ideal solutions)\n",
    "print(Gamma_linalg(T,x_as_column,alpha,A)) #test using those trial input"
   ]
  },
  {
   "cell_type": "code",
   "execution_count": 97,
   "metadata": {
    "collapsed": false
   },
   "outputs": [],
   "source": [
    "def Gamma_linalg_tiny(T,c_x,q_alpha, q_A):\n",
    "    #note that we used many lines for didatics\n",
    "    #we can do it in few lines:\n",
    "    #note that some expression occur more than once below\n",
    "    #so it may be useful define it as a intermediary recurrent term here\n",
    "    #and calculate it once to use it then several times\n",
    "    q_tau     = q_A/T\n",
    "    q_G       = np.exp(-(q_alpha*q_tau))\n",
    "    l_D       = ((1/((q_G.T) @ c_x)).T)\n",
    "    q_E       = (q_tau*q_G) * l_D \n",
    "    gamma     = np.exp(((q_E+(q_E.T))-(((q_G * l_D) * (c_x.T)) @ (q_E.T))) @ c_x)\n",
    "    return gamma"
   ]
  },
  {
   "cell_type": "code",
   "execution_count": 98,
   "metadata": {
    "collapsed": false
   },
   "outputs": [
    {
     "name": "stdout",
     "output_type": "stream",
     "text": [
      "[[ 1.48877982]\n",
      " [ 1.28373249]\n",
      " [ 1.01599751]]\n"
     ]
    }
   ],
   "source": [
    "#test it to see that the results are the same\n",
    "print(Gamma_linalg_tiny(T,x_as_column,alpha,A)) #test using those trial input"
   ]
  },
  {
   "cell_type": "markdown",
   "metadata": {},
   "source": [
    "# What difference does it make?\n",
    "\n",
    "Ipython provides a profiling tool, with %timeit you can evaluate the time for execution of a line of program (with all called dependencies). In the following cells, we use it to evaluate our function in version 1 with explicit for loops and in version 2a and 2b with linear algebra matrix operations"
   ]
  },
  {
   "cell_type": "code",
   "execution_count": 99,
   "metadata": {
    "collapsed": false
   },
   "outputs": [
    {
     "name": "stdout",
     "output_type": "stream",
     "text": [
      "10000 loops, best of 3: 135 µs per loop\n"
     ]
    }
   ],
   "source": [
    "%timeit Gamma(T,x,alpha,A) #ttest using those trial input #My result was 90 micro seconds per loop"
   ]
  },
  {
   "cell_type": "code",
   "execution_count": 100,
   "metadata": {
    "collapsed": false,
    "scrolled": true
   },
   "outputs": [
    {
     "name": "stdout",
     "output_type": "stream",
     "text": [
      "The slowest run took 250.18 times longer than the fastest. This could mean that an intermediate result is being cached.\n",
      "10000 loops, best of 3: 28.5 µs per loop\n"
     ]
    }
   ],
   "source": [
    "%timeit Gamma_linalg(T,x_as_column,alpha,A) #ttest using those trial input #My result was 25 micro seconds per loop"
   ]
  },
  {
   "cell_type": "code",
   "execution_count": 101,
   "metadata": {
    "collapsed": false
   },
   "outputs": [
    {
     "name": "stdout",
     "output_type": "stream",
     "text": [
      "The slowest run took 155.03 times longer than the fastest. This could mean that an intermediate result is being cached.\n",
      "10000 loops, best of 3: 29.3 µs per loop\n"
     ]
    }
   ],
   "source": [
    "%timeit Gamma_linalg_tiny(T,x_as_column,alpha,A) #ttest using those trial input #My result was 25 micro seconds per loop"
   ]
  },
  {
   "cell_type": "markdown",
   "metadata": {},
   "source": [
    "here more honest trials with random input"
   ]
  },
  {
   "cell_type": "code",
   "execution_count": 102,
   "metadata": {
    "collapsed": false
   },
   "outputs": [
    {
     "name": "stdout",
     "output_type": "stream",
     "text": [
      "The slowest run took 2798.41 times longer than the fastest. This could mean that an intermediate result is being cached.\n",
      "10000 loops, best of 3: 21.5 µs per loop\n"
     ]
    }
   ],
   "source": [
    "%%timeit\n",
    "#approximately time the random number generation to subtract later\n",
    "# ~21 micro seconds per loop here\n",
    "N=3\n",
    "x=np.random.rand(N,1)\n",
    "x=x/sum(x)\n",
    "alpha=np.random.rand(N,N)\n",
    "A=np.random.rand(N,N)\n",
    "T=(np.random.rand(1,1)+.5)*273"
   ]
  },
  {
   "cell_type": "code",
   "execution_count": 103,
   "metadata": {
    "collapsed": false
   },
   "outputs": [
    {
     "name": "stdout",
     "output_type": "stream",
     "text": [
      "The slowest run took 17.80 times longer than the fastest. This could mean that an intermediate result is being cached.\n",
      "1000 loops, best of 3: 410 µs per loop\n"
     ]
    }
   ],
   "source": [
    "%%timeit\n",
    "# ~440 micro seconds per loop here (420 subtracting the random number generation)\n",
    "N=3\n",
    "x=np.random.rand(N,1)\n",
    "x=x/sum(x)\n",
    "alpha=np.random.rand(N,N)\n",
    "A=np.random.rand(N,N)\n",
    "T=(np.random.rand(1,1)+.5)*273\n",
    "\n",
    "_=Gamma(\n",
    "    T,\n",
    "    x,\n",
    "    alpha,\n",
    "    A)"
   ]
  },
  {
   "cell_type": "code",
   "execution_count": 104,
   "metadata": {
    "collapsed": false
   },
   "outputs": [
    {
     "name": "stdout",
     "output_type": "stream",
     "text": [
      "The slowest run took 89.87 times longer than the fastest. This could mean that an intermediate result is being cached.\n",
      "10000 loops, best of 3: 56 µs per loop\n"
     ]
    }
   ],
   "source": [
    "%%timeit\n",
    "# ~56 micro seconds per loop here  (36 subtracting the random number generation)\n",
    "N=3\n",
    "x=np.random.rand(N,1)\n",
    "x=x/sum(x)\n",
    "alpha=np.random.rand(N,N)\n",
    "A=np.random.rand(N,N)\n",
    "T=(np.random.rand(1,1)+.5)*273\n",
    "\n",
    "_=Gamma_linalg(\n",
    "    T,\n",
    "    x,\n",
    "    alpha,\n",
    "    A)"
   ]
  },
  {
   "cell_type": "code",
   "execution_count": 105,
   "metadata": {
    "collapsed": false
   },
   "outputs": [
    {
     "name": "stdout",
     "output_type": "stream",
     "text": [
      "The slowest run took 147.78 times longer than the fastest. This could mean that an intermediate result is being cached.\n",
      "10000 loops, best of 3: 57.3 µs per loop\n"
     ]
    }
   ],
   "source": [
    "%%timeit\n",
    "# ~52 micro seconds per loop here (32 subtracting the random number generation)\n",
    "N=3\n",
    "x=np.random.rand(N,1)\n",
    "x=x/sum(x)\n",
    "alpha=np.random.rand(N,N)\n",
    "A=np.random.rand(N,N)\n",
    "T=(np.random.rand(1,1)+.5)*273\n",
    "\n",
    "_=Gamma_linalg_tiny(\n",
    "    T,\n",
    "    x,\n",
    "    alpha,\n",
    "    A)"
   ]
  },
  {
   "cell_type": "markdown",
   "metadata": {},
   "source": [
    "# Maker it faster!\n",
    "Also, with minor effort, we can use Numba to further accelerate the code.\n",
    "\n",
    "See below how it is able to accelerate the functions `Gamma` `and Gamma_linalg_tiny` and compare."
   ]
  },
  {
   "cell_type": "code",
   "execution_count": 106,
   "metadata": {
    "collapsed": false
   },
   "outputs": [],
   "source": [
    "#These two lines is all that it takes to accelerate this function\n",
    "from numba import jit\n",
    "@jit\n",
    "#now repeat the function with a different bname so we can compare\n",
    "def Gamma_numba(T,x,alpha,A):\n",
    "\n",
    "    tau=np.zeros([3,3])\n",
    "    for j in range(3):\n",
    "        for i in range(3):\n",
    "            tau[j,i]=A[j,i]/T    \n",
    "    \n",
    "    G=np.zeros([3,3])\n",
    "    for j in range(3):\n",
    "        for i in range(3):\n",
    "            G[j,i]=np.exp((-alpha[j,i]*tau[j,i]))\n",
    "    \n",
    "    Gamma=np.zeros([3])\n",
    "    for i in range(3):\n",
    "\n",
    "        Sj1=0\n",
    "        Sj2=0\n",
    "        Sj3=0\n",
    "        for j in range(3):\n",
    "            Sj1 += tau[j,i]*G[j,i]*x[j]\n",
    "            Sj2 += G[j,i]*x[j]\n",
    "    \n",
    "            Sk1=0\n",
    "            Sk2=0\n",
    "            Sk3=0\n",
    "            for k in range(3):\n",
    "                Sk1 += G[k,j]*x[k]\n",
    "                Sk2 += x[k]*tau[k,j]*G[k,j]\n",
    "                Sk3 += G[k,j]*x[k]\n",
    "            \n",
    "            Sj3 += ((x[j]*G[i,j])/(Sk1))*(tau[i,j]-(Sk2)/(Sk3))\n",
    "        \n",
    "        Gamma[i]=np.exp(Sj1/Sj2 + Sj3)\n",
    "    \n",
    "    return Gamma"
   ]
  },
  {
   "cell_type": "code",
   "execution_count": 107,
   "metadata": {
    "collapsed": true
   },
   "outputs": [],
   "source": [
    "#These two lines is all that it takes to accelerate this function\n",
    "from numba import jit\n",
    "@jit\n",
    "#now repeat the function with a different bname so we can compare\n",
    "def Gamma_linalg_tiny_numba(T,c_x,q_alpha, q_A):\n",
    "    #note that we used many lines for didatics\n",
    "    #we can do it one liner:\n",
    "    #note that some expression occur more than once below so it may be useful define it as a intermediary recurrent term here and calculate it once to use it then several times\n",
    "    q_tau     = q_A/T\n",
    "    q_G       = np.exp(-(q_alpha*q_tau))\n",
    "    l_D       = ((1/((q_G.T) @ c_x)).T)\n",
    "    q_E       = (q_tau*q_G) * l_D \n",
    "    gamma     = np.exp(((q_E+(q_E.T))-(((q_G * l_D) * (c_x.T)) @ (q_E.T))) @ c_x)\n",
    "    return gamma"
   ]
  },
  {
   "cell_type": "code",
   "execution_count": 108,
   "metadata": {
    "collapsed": false
   },
   "outputs": [
    {
     "name": "stdout",
     "output_type": "stream",
     "text": [
      "The slowest run took 4880.81 times longer than the fastest. This could mean that an intermediate result is being cached.\n",
      "1 loop, best of 3: 421 µs per loop\n"
     ]
    }
   ],
   "source": [
    "%%timeit\n",
    "# ~370 micro seconds per loop here (350 subtracting the random number generation, versus 420 thats not much acceleration)\n",
    "N=3\n",
    "x=np.random.rand(N,1)\n",
    "x=x/sum(x)\n",
    "alpha=np.random.rand(N,N)\n",
    "A=np.random.rand(N,N)\n",
    "T=(np.random.rand(1,1)+.5)*273\n",
    "\n",
    "_ = Gamma_numba(\n",
    "    T,\n",
    "    x,\n",
    "    alpha,\n",
    "    A)"
   ]
  },
  {
   "cell_type": "code",
   "execution_count": 109,
   "metadata": {
    "collapsed": false
   },
   "outputs": [
    {
     "name": "stdout",
     "output_type": "stream",
     "text": [
      "The slowest run took 10406.87 times longer than the fastest. This could mean that an intermediate result is being cached.\n",
      "1 loop, best of 3: 168 µs per loop\n"
     ]
    }
   ],
   "source": [
    "%%timeit\n",
    "# ~34 micro seconds per loop here (14 subtracting the random number generation, versus 32 thats approximately half)\n",
    "\n",
    "N=3\n",
    "x=np.random.rand(N,1)\n",
    "x=x/sum(x)\n",
    "alpha=np.random.rand(N,N)\n",
    "A=np.random.rand(N,N)\n",
    "T=(np.random.rand(1,1)+.5)*273\n",
    "\n",
    "_ = Gamma_linalg_tiny_numba(\n",
    "    T,\n",
    "    x,\n",
    "    alpha,\n",
    "    A)"
   ]
  },
  {
   "cell_type": "markdown",
   "metadata": {},
   "source": [
    "# Incoming features:\n",
    "\n",
    "* 3d plots of activity coefficient vs composition\n",
    ">- gamma1 vs (x1,x2 | x3=1-x1-x2)\n",
    ">- gamma2 vs (x1,x2 | x3=1-x1-x2)\n",
    ">- gamma3 vs (x1,x2 | x3=1-x1-x2)\n",
    "\n",
    "* Liq-Liq Equilibria flash algorithm\n",
    "\n",
    "* 2d x1-x2-x3 triangle plots of phase equilibria envelope at given T and P\n",
    "\n",
    "* Optimizing code with cython and numba, comparison with fortran and c\n",
    "\n",
    "* Problem inversion: Regression of alpha and tau parameters from experimental data."
   ]
  }
 ],
 "metadata": {
  "anaconda-cloud": {},
  "kernelspec": {
   "display_name": "Python [conda root]",
   "language": "python",
   "name": "conda-root-py"
  },
  "language_info": {
   "codemirror_mode": {
    "name": "ipython",
    "version": 3
   },
   "file_extension": ".py",
   "mimetype": "text/x-python",
   "name": "python",
   "nbconvert_exporter": "python",
   "pygments_lexer": "ipython3",
   "version": "3.5.2"
  }
 },
 "nbformat": 4,
 "nbformat_minor": 1
}
