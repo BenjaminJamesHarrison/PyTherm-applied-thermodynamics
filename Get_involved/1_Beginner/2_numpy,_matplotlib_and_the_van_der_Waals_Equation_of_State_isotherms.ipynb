{
 "cells": [
  {
   "cell_type": "markdown",
   "metadata": {},
   "source": [
    "# numpy, matplotlib and the van der Waals Equation of State isotherms.\n",
    "This notebook intends to present van der Waals's Equation of State([wikipedia](https://en.wikipedia.org/wiki/Van_der_Waals_equation),[nobel prize lecture](http://www.nobelprize.org/nobel_prizes/physics/laureates/1910/waals-lecture.pdf)) and its isotherms in the Pressure-Volume diagram.\n",
    "\n",
    "> **Here you will meet the following topics:**\n",
    ">- Thermodynamics: `EoS isotherms`\n",
    ">- Python: `matplotlib.pyplot` `numpy.arange`\n",
    ">- Jupyter Notebook: `magic command`, `interactive figures`\n"
   ]
  },
  {
   "cell_type": "markdown",
   "metadata": {},
   "source": [
    "Supose you have to solve the following assignment in a thermodynamics course:\n",
    ">\"Plot the isotherm of van de Waals - EoS for some pure component at different values of T and comment on the sub-critical and super-critical behavior.\""
   ]
  },
  {
   "cell_type": "markdown",
   "metadata": {},
   "source": [
    "Here we will use some resources of the packages numpy and matplotlib. numpy is \"the fundamental package for scientific computing with Python\".\n",
    "To import a module into our notebook we use the following syntax:"
   ]
  },
  {
   "cell_type": "code",
   "execution_count": 1,
   "metadata": {
    "collapsed": true
   },
   "outputs": [],
   "source": [
    "import numpy as numpy #this line imports the module numpy \"the fundamental package for scientific computing with Python\"\n",
    "#import <-- keyword import\n",
    "       #numpy <-- name of the module\n",
    "             #as <-- keyword \"as\"\n",
    "                #numpy <-- the alias name that we wish to use to refer to that module"
   ]
  },
  {
   "cell_type": "markdown",
   "metadata": {},
   "source": [
    "In order to use any function of this module, we have to write `alias_name.function_name`. As an example, we will see function `numpy.linspace` that will be used in the following cells.\n",
    "\n",
    "We will also use matplotlib, a python 2D plotting library which produces publication quality figures in a variety of hardcopy formats and interactive environments across platforms.\n",
    "We will be particularly interested in the pyplot interface."
   ]
  },
  {
   "cell_type": "code",
   "execution_count": 2,
   "metadata": {
    "collapsed": true
   },
   "outputs": [],
   "source": [
    "import matplotlib as matplotlib\n",
    "from matplotlib import pyplot"
   ]
  },
  {
   "cell_type": "markdown",
   "metadata": {},
   "source": [
    "From matplotlib, we will be most interested in the pyplot submodule. We will use its functions and, in order to do that, syntax will follow the same structure mentioned above: `alias_name.submodule_name.function_name`"
   ]
  },
  {
   "cell_type": "code",
   "execution_count": 3,
   "metadata": {
    "collapsed": true
   },
   "outputs": [],
   "source": [
    "%matplotlib inline\n",
    "#this is an Ipython \"magic command\". This performs the necessary behind-the-scenes setup for IPython to work correctly hand in hand with matplotlib;\n",
    "#With this backend, the output of plotting commands is displayed inline within frontends like the Jupyter notebook, directly below the code cell that produced it. The resulting plots will then also be stored in the notebook document\n",
    "\n",
    "#you can try commenting the previous magic command and enabling the following\n",
    "#%matplotlib notebook\n",
    "#this command allows interactive figures, if your environment is suitable for it."
   ]
  },
  {
   "cell_type": "markdown",
   "metadata": {},
   "source": [
    "Consider the *van der Waals* equation of state (Reid et al., 1987 - see Eq 3-6.1 and Table 3-5, line 1)\n",
    "\n",
    "$P=\\frac{RT}{{\\bar{V}}-b}-\\frac{a}{{\\bar{V}}^2}$\n",
    "\n",
    "$a=\\frac{27}{64}\\frac{{{Tc}^2}{R^2}}{Pc}$\n",
    "\n",
    "\n",
    "$b=\\frac{{R}{Tc}}{{8}{Pc}}$\n",
    "\n",
    "where $R$ is the gas constant: \n",
    "\n",
    "$R = 8.3144598 \\mathrm{{J} {mol^{−1}} {K^{−1}}}$\n",
    "\n",
    "Here, we will use hexane as an example. Its critical properties are: \n",
    "\n",
    "$Tc = 507.5 \\mathrm{K}$\n",
    "\n",
    "\n",
    "$Pc = 30.1 \\times {10^5} \\mathrm{Pa}$\n",
    "\n",
    "So let's code this information:"
   ]
  },
  {
   "cell_type": "markdown",
   "metadata": {},
   "source": [
    "First, we assign the value of the universal gas constant ($R$) to the variable named `R`"
   ]
  },
  {
   "cell_type": "code",
   "execution_count": 4,
   "metadata": {
    "collapsed": true
   },
   "outputs": [],
   "source": [
    "#gas constant\n",
    "R = 8.3144598 #J.mol^−1.K^−1"
   ]
  },
  {
   "cell_type": "markdown",
   "metadata": {},
   "source": [
    "Now, we assign the values of the critical properties of hexane ($Tc$ and $Pc$) to variables `Tc` and `Pc`."
   ]
  },
  {
   "cell_type": "code",
   "execution_count": 5,
   "metadata": {
    "collapsed": true
   },
   "outputs": [],
   "source": [
    "#pure component critical point of hexane\n",
    "# Tc (K)\n",
    "Tc = 507.5 #K\n",
    "\n",
    "# Pc (Pa)\n",
    "Pc = 30.1*(10**5) #Pa"
   ]
  },
  {
   "cell_type": "markdown",
   "metadata": {},
   "source": [
    "Finally, we create variables `a` and `b` for the EoS parameters $a$ and $b$."
   ]
  },
  {
   "cell_type": "code",
   "execution_count": 6,
   "metadata": {
    "collapsed": false
   },
   "outputs": [
    {
     "name": "stdout",
     "output_type": "stream",
     "text": [
      "2.4954993637433445\n"
     ]
    }
   ],
   "source": [
    "a = 27/64*((Tc**2)*(R**2)/Pc)\n",
    "print(a)"
   ]
  },
  {
   "cell_type": "code",
   "execution_count": 7,
   "metadata": {
    "collapsed": false
   },
   "outputs": [
    {
     "name": "stdout",
     "output_type": "stream",
     "text": [
      "0.0001752320742732558\n"
     ]
    }
   ],
   "source": [
    "b = (R*Tc)/(8*Pc)\n",
    "print(b)"
   ]
  },
  {
   "cell_type": "markdown",
   "metadata": {},
   "source": [
    "Once the values of the parameters were assigned, we can create a function for pressure calculation using the pressure-explicit form of the van der Waals EoS. Its variables are molar volume ($\\bar{V}$) and temperature ($T$). These last two physical values (molar volume and temperature) will be represented by the variables `Vm` and `T`, respectively. "
   ]
  },
  {
   "cell_type": "code",
   "execution_count": 8,
   "metadata": {
    "collapsed": false
   },
   "outputs": [],
   "source": [
    "def Pressure_van_Der_waals(T,Vm):\n",
    "#define function to calc Pressure from T and V\n",
    "    P = R*T/(Vm-b) - a/(Vm**2)\n",
    "#note that T and Vm used inside the function are the dummy arguments, i.e., the values used in the calculation are the values provided when calling the function.\n",
    "#a and b, on the other hand, are assumed known from the 'namespace' that encompasses that function, in this case, that is the namespace of the python code cells in the whole jupyter notebook being run  \n",
    "#its functioning is quite simple here. however, it requires further comprehension when dealing with different python files and importing different modules.\n",
    "    return P"
   ]
  },
  {
   "cell_type": "code",
   "execution_count": 12,
   "metadata": {
    "collapsed": false
   },
   "outputs": [
    {
     "data": {
      "image/png": "[encoded data removed]",
      "text/plain": [
       "<matplotlib.figure.Figure at 0x8217e48>"
      ]
     },
     "metadata": {},
     "output_type": "display_data"
    }
   ],
   "source": [
    "for T in numpy.linspace(277.5, 607.5, 9):\n",
    "#--------numpy.linspace <-- remember in course 1 we used the function \"range\" from python. that function works only for integers.\n",
    "#here we want to make a range of real values. for that, we have to use the functions numpy.arange or numpy.linspace\n",
    "#numpy.linspace works in the following way: we provide a initial value, and end value and the number of values, and it returns us a list with the desired number of values equally spaced in the desired interval\n",
    "    \n",
    "    #array of values for volume\n",
    "    Vmi = numpy.exp(numpy.linspace(numpy.log((R*Tc)/(8*Pc)*1.01),numpy.log((R*Tc/Pc)*100.),100))\n",
    "    #here we use numpy.log the logarithm function and the linspace function to create a list that is equally spaced in the logarithm scale\n",
    "    #and the numpy.exp,  the numpy exponencial to recover the values displayed in the original scale\n",
    "    #this transformation to logarithm scale is convenient, given that the values obtained from the equation of state encompass several orders of magnitude.\n",
    "\n",
    "    matplotlib.pyplot.figure(1) #activate a figure\n",
    "    matplotlib.pyplot.subplot(211) #activate a subplot\n",
    "    matplotlib.pyplot.loglog(Vmi,Pressure_van_Der_waals(T,Vmi)) #create a logarithm vs logarithm scale plot of pressure vs volume, using the function pressure in each value of the volume list\n",
    "    matplotlib.pyplot.ylabel('positive P') #create labels to be displayed in y axis of the plot\n",
    "    matplotlib.pyplot.title('isotherm') #create a title for the figure\n",
    "    matplotlib.pyplot.ylim([Pressure_van_Der_waals(T,(R*Tc/Pc)*100.),\n",
    "                            Pressure_van_Der_waals(T,(R*Tc)/(8*Pc)*1.01)])#define max and min limits of the y axis only to the positive pressure range. remember that this plot is in logarithm scale and it does not accept negative values.\n",
    "    matplotlib.pyplot.xlim([(R*Tc)/(8*Pc)*1.01,(R*Tc/Pc)*100.]) #define max and min limits of the x axis\n",
    "\n",
    "    matplotlib.pyplot.tick_params( # choose some formatting to the ticks\n",
    "    axis='x',          # changes apply to the x-axis\n",
    "    which='both',      # both major and minor ticks are affected\n",
    "    bottom='on',      # ticks along the bottom edge are off\n",
    "    top='on',         # ticks along the top edge are off\n",
    "    labelbottom='off') # labels along the bottom edge are off\n",
    "\n",
    "    matplotlib.pyplot.subplot(212) #activate a second subplot. this subplot is needed because we are plotting values in logarithm scale. However, negative values cannot be represented in logarithm scale. Thus, we are creating a new semilog graphic.\n",
    "\n",
    "    matplotlib.pyplot.semilogx(Vmi,Pressure_van_Der_waals(T,Vmi)) #plot linear P vs log V\n",
    "\n",
    "    matplotlib.pyplot.xlabel(r'$\\bar{V}$') #use matplotlib's  mathtext to create special symbols in the x label\n",
    "    matplotlib.pyplot.ylabel('negative P') #y label for the second subplot\n",
    "    matplotlib.pyplot.ylim([-10000000,0.]) #define max and min limits of the y axis only to the negative pressure range. remember that only the values that weren't displayed in the first graphic will be plotted here.\n",
    "    matplotlib.pyplot.xlim([(R*Tc)/(8*Pc)*1.01,(R*Tc/Pc)*100.]) #define max and min limits of the x axis\n",
    "        \n",
    "matplotlib.pyplot.show() #finally show the plot. It shows in the output section of the cell if the magic command %matplotlib inline was used in the beginning of the notebook\n"
   ]
  },
  {
   "cell_type": "markdown",
   "metadata": {},
   "source": [
    "## Conclusion\n",
    "In this notebook, it was demonstrated how to calculate the equilibrium pressure for a pure component as a function of its molar volume and temperature using a cubic equation of state. Isotherms were plotted in a PxV graphic using matplotlib library. After finishing this reading, you should be able to make simple uses of equations of state and create figures using tools from matplotlib, like pyplot. This will be an extremely needed skill in the following steps of this course, provided that we will create several graphic relating different thermodynamic properties. "
   ]
  },
  {
   "cell_type": "markdown",
   "metadata": {},
   "source": [
    "## External references:\n",
    "* matplotlib magic command: [ipython / interactive plotting](http://ipython.readthedocs.io/en/stable/interactive/plotting.html)\n",
    "* matplotlib, pyplot: [tutorial](http://matplotlib.org/users/pyplot_tutorial.html)\n",
    "* Reid, R. C.; Prausnitz, J. M.; Poling, B. E., The properties of gases and liquids, 4th Ed.; McGraw-Hill, 1987."
   ]
  },
  {
   "cell_type": "markdown",
   "metadata": {},
   "source": [
    "## Credits\n",
    "* Initially developed in python 2.7 by Guilherme Carneiro Queiroz da Silva.\n",
    "* Adapted to ipynb with python 3.5 by Iuri Soter Viana Segtovich.\n",
    "* Review - Fernando de Azevedo Medeiros"
   ]
  }
 ],
 "metadata": {
  "anaconda-cloud": {},
  "kernelspec": {
   "display_name": "Python [Root]",
   "language": "python",
   "name": "Python [Root]"
  },
  "language_info": {
   "codemirror_mode": {
    "name": "ipython",
    "version": 3
   },
   "file_extension": ".py",
   "mimetype": "text/x-python",
   "name": "python",
   "nbconvert_exporter": "python",
   "pygments_lexer": "ipython3",
   "version": "3.5.2"
  }
 },
 "nbformat": 4,
 "nbformat_minor": 0
}
