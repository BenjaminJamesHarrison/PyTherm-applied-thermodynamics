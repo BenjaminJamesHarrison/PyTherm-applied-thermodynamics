{
 "cells": [
  {
   "cell_type": "markdown",
   "metadata": {},
   "source": [
    "numpy and scipy and how to get the saturation point from a cubic EoS\n",
    "==\n",
    "This notebook intends to present van der Waals's Equation of State([wikipedia](https://en.wikipedia.org/wiki/Van_der_Waals_equation),[nobel prize lecture](http://www.nobelprize.org/nobel_prizes/physics/laureates/1910/waals-lecture.pdf)), and to derive get density for given values of Pressure and Temperature.\n",
    "\n",
    "> **Here you will meet the following topics:**\n",
    ">- Thermodynamics: `equation of state`, `density`,  `saturation point`\n",
    ">- Python: `packages`, `numpy`, `scipy`"
   ]
  },
  {
   "cell_type": "markdown",
   "metadata": {
    "collapsed": false
   },
   "source": [
    "Here we will use more resources of the packages numpy and we will also use the package scipy"
   ]
  },
  {
   "cell_type": "code",
   "execution_count": 1,
   "metadata": {
    "collapsed": true
   },
   "outputs": [],
   "source": [
    "import numpy as numpy"
   ]
  },
  {
   "cell_type": "markdown",
   "metadata": {},
   "source": [
    "the following slightly different syntax works similarly,\n",
    "here, we impor only a subset of the resources of scipy"
   ]
  },
  {
   "cell_type": "code",
   "execution_count": 2,
   "metadata": {
    "collapsed": true
   },
   "outputs": [],
   "source": [
    "from scipy import optimize as optimize\n",
    "#keyword \"from\"\n",
    "     #name of the parent module\n",
    "           #keyword \"import\"\n",
    "                  #name of the desired subpackage\n",
    "                           #keyword \"as\"\n",
    "                              #alias name"
   ]
  },
  {
   "cell_type": "markdown",
   "metadata": {},
   "source": [
    "to use some function of this module we have to write 'alias name'.'function name'\n",
    "as an example we will see below:\n",
    "numpy.roots, numpy.log, numpy.where, optimize.bissect"
   ]
  },
  {
   "cell_type": "markdown",
   "metadata": {},
   "source": [
    "Supose you have to solve the following problem in a thermodynamics course:\n",
    ">\"Calculate saturation pressure for pure hexane at temperature of 220 K according to van der Waals equation of state\"\n",
    "\n",
    "We will show how here to implement a function to calculate density of a pure fluid at given T and P."
   ]
  },
  {
   "cell_type": "markdown",
   "metadata": {},
   "source": [
    "Consider the *van der Waals* equation of state (Reid et al., 1987, see Eq 3-6.1 and Table 3-5, line 1)\n",
    "\n",
    "$P=\\frac{RT}{\\bar{V}-b}-\\frac{a}{{\\bar{V}}^{2}}$\n",
    "\n",
    "$a=\\frac{27}{64}\\frac{{{Tc}^{2}}{R^{2}}}{Pc}$\n",
    "\n",
    "\n",
    "$b=\\frac{{R}{Tc}}{{8}{Pc}}$\n",
    "\n",
    "where $R$ is the gas constant \n",
    "\n",
    "$R = 8.3144598 \\mathrm{{J} {mol^{−1}} {K^{−1}}}$\n",
    "\n",
    "and critical properties for hexane are \n",
    "\n",
    "$Tc = 507.5 \\mathrm{K}$\n",
    "\n",
    "\n",
    "$Pc = 30.1 \\times {10^6} \\mathrm{Pa}$"
   ]
  },
  {
   "cell_type": "markdown",
   "metadata": {},
   "source": [
    "So lets code this information:"
   ]
  },
  {
   "cell_type": "markdown",
   "metadata": {},
   "source": [
    "First the gas constant"
   ]
  },
  {
   "cell_type": "code",
   "execution_count": 3,
   "metadata": {
    "collapsed": true
   },
   "outputs": [],
   "source": [
    "#gas constant\n",
    "R = 8.3144598 #J.mol^−1.K^−1"
   ]
  },
  {
   "cell_type": "markdown",
   "metadata": {},
   "source": [
    "now the physical properties of the substance"
   ]
  },
  {
   "cell_type": "code",
   "execution_count": 4,
   "metadata": {
    "collapsed": false
   },
   "outputs": [],
   "source": [
    "#pure component critical point of hexane\n",
    "# Tc (K)\n",
    "Tc = 507.5 #K\n",
    "\n",
    "# Pc (bar)\n",
    "Pc = 30.1*(10**6) #Pa"
   ]
  },
  {
   "cell_type": "markdown",
   "metadata": {},
   "source": [
    "Then the EoS parameters"
   ]
  },
  {
   "cell_type": "code",
   "execution_count": 5,
   "metadata": {
    "collapsed": false
   },
   "outputs": [
    {
     "name": "stdout",
     "output_type": "stream",
     "text": [
      "0.2495499363743344\n"
     ]
    }
   ],
   "source": [
    "a = 27/64*((Tc**2)*(R**2)/Pc)\n",
    "print(a)"
   ]
  },
  {
   "cell_type": "code",
   "execution_count": 6,
   "metadata": {
    "collapsed": false
   },
   "outputs": [
    {
     "name": "stdout",
     "output_type": "stream",
     "text": [
      "1.752320742732558e-05\n"
     ]
    }
   ],
   "source": [
    "b = (R*Tc)/(8*Pc)\n",
    "print(b)"
   ]
  },
  {
   "cell_type": "markdown",
   "metadata": {
    "collapsed": true
   },
   "source": [
    "We define the temperature at which we want to perform calculations"
   ]
  },
  {
   "cell_type": "code",
   "execution_count": 7,
   "metadata": {
    "collapsed": true
   },
   "outputs": [],
   "source": [
    "#calculate density at what temperature and pressure?\n",
    "T = 220. #K\n",
    "P = 1*(10**5) #Pa"
   ]
  },
  {
   "cell_type": "markdown",
   "metadata": {},
   "source": [
    "Now instead of using the explixit in P(TV) representation of the EoS we use the implict representation, that is a 3rd order polynomial in V"
   ]
  },
  {
   "cell_type": "markdown",
   "metadata": {},
   "source": [
    "${P}{{\\bar{V}}^3}−({P}{b}+{R}{T}){{\\bar{V}}^2}+{a}{\\bar{V}}−{a}{b}={0}$"
   ]
  },
  {
   "cell_type": "markdown",
   "metadata": {
    "collapsed": false
   },
   "source": [
    "This third grade polynomial provides the values of the volume at a given temperature and pressure."
   ]
  },
  {
   "cell_type": "code",
   "execution_count": 8,
   "metadata": {
    "collapsed": false
   },
   "outputs": [],
   "source": [
    "c3 = P #coefficient for v^3\n",
    "c2 = -(P*b+R*T) #coefficient v^2\n",
    "c1 = a  #coefficient v^1\n",
    "c0 = -a*b  #coefficient v^0"
   ]
  },
  {
   "cell_type": "markdown",
   "metadata": {},
   "source": [
    "density at given P,T can be obtained by solving this polynomial for V"
   ]
  },
  {
   "cell_type": "code",
   "execution_count": 9,
   "metadata": {
    "collapsed": false
   },
   "outputs": [
    {
     "name": "stdout",
     "output_type": "stream",
     "text": [
      "[  1.81721416e-02   1.16545544e-04   2.06475858e-05]\n"
     ]
    }
   ],
   "source": [
    "v=numpy.roots([c3,c2,c1,c0]) #numpy .roots finds the roots of a polynomial\n",
    "#coefficients must be provided in a list form, constructed using the square brackets\n",
    "#result is the list of real and imaginary roots found.\n",
    "print(v)"
   ]
  },
  {
   "cell_type": "markdown",
   "metadata": {},
   "source": [
    "then calc phi to know whic root has lower gibbs energy and is therefor stable"
   ]
  },
  {
   "cell_type": "code",
   "execution_count": 10,
   "metadata": {
    "collapsed": false
   },
   "outputs": [
    {
     "name": "stdout",
     "output_type": "stream",
     "text": [
      "[  -11.92852652  5587.49740938  1954.82586937]\n"
     ]
    }
   ],
   "source": [
    "Residual_G = (P*v)-(R*T)-(a/v) - T*(R*numpy.log(P*(v-b)/(R*T))) #pdf do Charlles\n",
    "print(Residual_G)"
   ]
  },
  {
   "cell_type": "markdown",
   "metadata": {},
   "source": [
    "what follows is similar to topliss [XXX] paper:"
   ]
  },
  {
   "cell_type": "markdown",
   "metadata": {},
   "source": [
    "Calculate Saturation prewssure\n",
    "for the given T\n",
    "first we isolate the range of pressure where fluid phase equilibria is feasible:\n",
    "that is the range of pressure where there are 3 real roots of volume\n",
    "that is between P_max and P_min\n",
    "which are pressure values where isotherms P(T,V) have a local maximu and minimum with V belonging to [b,oo)\n",
    "\n",
    " \n"
   ]
  },
  {
   "cell_type": "markdown",
   "metadata": {},
   "source": [
    "given\n",
    "\n",
    "$T$,\n",
    "\n",
    "find all possible\n",
    "\n",
    "$\\bar{V}^*$,\n",
    "\n",
    "so that\n",
    "\n",
    "$\\left(\\frac{\\partial P}{  \\partial \\bar{V}}\\right)_{T}=0$\n",
    "\n",
    "in\n",
    "\n",
    "$\\bar{V}^* \\in (b,\\infty)$.\n",
    "\n",
    "Then, find the corresponding\n",
    "\n",
    "$P^* = P(T,\\bar{V}^*)$."
   ]
  },
  {
   "cell_type": "markdown",
   "metadata": {},
   "source": [
    "analytical development of the partial derivative yields\n",
    "\n",
    "$\\left(\\frac{\\partial P}{  \\partial \\bar{V}}\\right)_{T}=-\\frac{RT}{(\\bar{V}-b)^2} + \\frac{2a}{\\bar{V}^3}$"
   ]
  },
  {
   "cell_type": "markdown",
   "metadata": {},
   "source": [
    "therefore in the stationary points\n",
    "\n",
    "$-\\frac{RT}{(\\bar{V}-b)^2} + \\frac{2a}{\\bar{V}^3}=0$"
   ]
  },
  {
   "cell_type": "markdown",
   "metadata": {},
   "source": [
    "which represents another 3rd order in V polynomial (not the same from the problem of finding V given P and T)"
   ]
  },
  {
   "cell_type": "markdown",
   "metadata": {},
   "source": [
    "$-{RT}{\\bar{V}^3} + {2a}{(\\bar{V}-b)^2}=0$"
   ]
  },
  {
   "cell_type": "markdown",
   "metadata": {},
   "source": [
    "$-{RT}{\\bar{V}^3} + {2a}{(\\bar{V})^2}+{2a}{(b)^2}+{2a}{(-2\\bar{V}b)}=0$"
   ]
  },
  {
   "cell_type": "code",
   "execution_count": 14,
   "metadata": {
    "collapsed": false
   },
   "outputs": [],
   "source": [
    "#calculate each coeffcient of the polynomial-in-V representation of dP/dV=0\n",
    "rho = R*T\n",
    "mu = 2*(-a)\n",
    "nu = - b*(a*(-4))\n",
    "omega=- 2*(b**2)*(a*(1))\n",
    "\n"
   ]
  },
  {
   "cell_type": "code",
   "execution_count": 15,
   "metadata": {
    "collapsed": false
   },
   "outputs": [
    {
     "name": "stdout",
     "output_type": "stream",
     "text": [
      "plateaus: [  2.33425728e-04   2.51661243e-05   1.42624090e-05]\n",
      "plateaus: [  2.33425728e-04   2.51661243e-05]\n",
      "Vli: 2.51661242908e-05\n",
      "Vvi: 0.000233425727852\n",
      "Psupi: 3888420.00342\n",
      "Pinfi: 1e-09\n"
     ]
    }
   ],
   "source": [
    "#use the method \"roots\" from package \"numpy\" to calculate the roots of this polynomial and assing the solutions to the variable plateaus as an array\n",
    "plateaus = numpy.roots([rho,mu,nu,omega])\n",
    "print(\"plateaus:\", plateaus)\n",
    "\n",
    "\n",
    "#filter out values of plateu correspondign to non-physical volume (less than b)\n",
    "plateaus = plateaus[ numpy.where( plateaus > b ) ]\n",
    "\n",
    "print(\"plateaus:\", plateaus)\n",
    "Vli = min(plateaus)\n",
    "Vvi = max(plateaus)\n",
    "\n",
    "#find the corrsponding values of pressure for each filtered volume\n",
    "Psup = R*T/(Vvi-b)-a/(Vvi*Vvi)\n",
    "Psupi=Psup*.999\n",
    "\n",
    "Pinf = R*T/(Vli-b)-a/(Vli*Vli)\n",
    "\n",
    "#note that the algorithm cannot work with pressure less than or equal to zero, therefore fix minimium pressure to slightly above zero if is resulted negative\n",
    "\n",
    "if Pinf > 0:\n",
    "    Pinfi = Pinf*1.001\n",
    "else:\n",
    "    Pinfi = 0.000000001\n",
    "\n",
    "print(\"Vli:\",Vli)\n",
    "print(\"Vvi:\",Vvi)\n",
    "print(\"Psupi:\",Psupi)\n",
    "print(\"Pinfi:\",Pinfi)     \n",
    "\n"
   ]
  },
  {
   "cell_type": "markdown",
   "metadata": {},
   "source": [
    "calc hres\n",
    "that comes from the following integration\n",
    "$$Hres = RT(-T(\\int{de 0 a P, dzdt a p dp sobre p}))$$\n",
    "we show how to change into integration in dV\n",
    "$$[n.a.]$$\n",
    "that yields the following expresion specifically for vdWnP EoS\n",
    "$$Hres=PV-RT+(TdadT-a)/V$$"
   ]
  },
  {
   "cell_type": "code",
   "execution_count": null,
   "metadata": {
    "collapsed": true
   },
   "outputs": [],
   "source": [
    "\n"
   ]
  },
  {
   "cell_type": "markdown",
   "metadata": {},
   "source": [
    "calc Gres (\"J\" omitted)\n",
    "that comes from the following integration\n",
    "$$Gres = RT(Gres@P=0 + \\int {de 0 a P, (V-V^(GI)/RT) dP,})$$\n",
    "we show how to change into integration in dV\n",
    "$$[n.a.]$$\n",
    "and that yields the following expresion specifically for vdWnP EoS\n",
    "$$Sres=PV-RT+(TdadT-a)/V$$"
   ]
  },
  {
   "cell_type": "markdown",
   "metadata": {},
   "source": [
    "calc Sres from subtraction S=(H-G)/T"
   ]
  },
  {
   "cell_type": "code",
   "execution_count": null,
   "metadata": {
    "collapsed": true
   },
   "outputs": [],
   "source": []
  },
  {
   "cell_type": "markdown",
   "metadata": {},
   "source": [
    "REfs:\n",
    "Smith van Ness Abott, 7th ed, ch 6\n",
    "O connell e Haile, ed 1005 ch 4\n",
    "TEster modell 1997 ch 9"
   ]
  },
  {
   "cell_type": "markdown",
   "metadata": {},
   "source": [
    "calcpsat\n",
    "to calc psat we will need to find P that makes  delta_Residual_G nequal zero\n",
    "as we cannot explicitate P as a function of delta_Residual_G\n",
    "for that purpose we define of a function delta_Residual_G of P\n",
    "and we will solve it numerically, i.e. tsting various values of P\n",
    "t automate taht task we impkement a function **`def Delta_Residual_G(P):`**"
   ]
  },
  {
   "cell_type": "code",
   "execution_count": 13,
   "metadata": {
    "collapsed": false
   },
   "outputs": [
    {
     "name": "stdout",
     "output_type": "stream",
     "text": [
      "Saturation pressure = [ 297561.1280524415 ] bar\n"
     ]
    }
   ],
   "source": [
    "\n",
    "\n",
    "\n",
    "#define equilibrium criteria: Residual_G_Liquid is equal to Residual_G_Vapor :. Delta_Residual_G = zero :. Delta_Residual_G < Tolerance\n",
    "def Delta_Residual_G(P):\n",
    "    alfa = (-1)*b-R*T/P\n",
    "    beta = + a/P\n",
    "    gamma = -b*a/P\n",
    "    V = numpy.roots([1,alfa,beta,gamma])\n",
    "    Vl = min(V)\n",
    "    Vv = max(V)\n",
    "    #print(P, V) #if you uncomment this line you will see every iteration in the output section of this cell\n",
    "    return (P*(Vl-Vv) + (-a)*(1/(Vl)-1/(Vv))+T*(R*numpy.log((Vv-b)/(Vl-b))))\n"
   ]
  },
  {
   "cell_type": "markdown",
   "metadata": {},
   "source": [
    "now we must find the solution P\n",
    "we ask package optmize to use method bissect to solve the equilibrium criteria just defined\n"
   ]
  },
  {
   "cell_type": "code",
   "execution_count": null,
   "metadata": {
    "collapsed": true
   },
   "outputs": [],
   "source": [
    "\n",
    "psat = optimize.bisect(Delta_Residual_G, Pinfi, Psupi, xtol=1e-12, rtol=4.4408920985006262e-16, maxiter=100, full_output=True, disp=True)\n",
    "print(\"Saturation pressure = [\",str(psat[0]),\"] bar\")\n",
    "\n"
   ]
  },
  {
   "cell_type": "code",
   "execution_count": null,
   "metadata": {
    "collapsed": true
   },
   "outputs": [],
   "source": []
  },
  {
   "cell_type": "markdown",
   "metadata": {},
   "source": [
    "# External references\n",
    "scipy, optimize [documentation](http://docs.scipy.org/doc/scipy/reference/optimize.html)"
   ]
  },
  {
   "cell_type": "markdown",
   "metadata": {},
   "source": [
    "# Credits\n",
    "* Initially developed in python 2.7 by Guilherme Carneiro Queiroz da Silva\n",
    "* Adapted to ipynb with python 3.5 by Iuri Soter Viana Segtovich"
   ]
  },
  {
   "cell_type": "code",
   "execution_count": null,
   "metadata": {
    "collapsed": true
   },
   "outputs": [],
   "source": []
  },
  {
   "cell_type": "code",
   "execution_count": null,
   "metadata": {
    "collapsed": true
   },
   "outputs": [],
   "source": []
  },
  {
   "cell_type": "code",
   "execution_count": null,
   "metadata": {
    "collapsed": true
   },
   "outputs": [],
   "source": []
  },
  {
   "cell_type": "code",
   "execution_count": null,
   "metadata": {
    "collapsed": true
   },
   "outputs": [],
   "source": []
  },
  {
   "cell_type": "code",
   "execution_count": null,
   "metadata": {
    "collapsed": true
   },
   "outputs": [],
   "source": []
  },
  {
   "cell_type": "code",
   "execution_count": null,
   "metadata": {
    "collapsed": true
   },
   "outputs": [],
   "source": []
  }
 ],
 "metadata": {
  "anaconda-cloud": {},
  "kernelspec": {
   "display_name": "Python [Root]",
   "language": "python",
   "name": "Python [Root]"
  },
  "language_info": {
   "codemirror_mode": {
    "name": "ipython",
    "version": 3
   },
   "file_extension": ".py",
   "mimetype": "text/x-python",
   "name": "python",
   "nbconvert_exporter": "python",
   "pygments_lexer": "ipython3",
   "version": "3.5.2"
  }
 },
 "nbformat": 4,
 "nbformat_minor": 0
}
