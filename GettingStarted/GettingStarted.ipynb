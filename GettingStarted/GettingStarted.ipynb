{
 "cells": [
  {
   "cell_type": "markdown",
   "metadata": {},
   "source": [
    " * the following is a draft of what is to come "
 " "
" getting started "
" ================== "
 " "
" First of all, what is python, what is ipynb? "
 " "
" python is a programming language with many libraaries that provide numerical methodss, analytical algebra (CAS) and graphical (as ploting and equation formating) resources "
 " "
" jupyter is an interface that runs python source code and intercalate blocks of src with blocks of expalaining text or graphical results "
"  "
" github renders some features of ipynb files automatically  "
" 'From today Jupyter notebooks render in all their glory right here on GitHub. < https://github.com/blog/1995-github-jupyter-notebooks-3 >  "
" to have more functionality you can use jupyter site, tab try it online "
" it works on most browsers, including some on mobile devices as google chrome "
" to have full functionality you have to install python and jupyter on your pc "
" you can install it on windows or linux and i think mac too "
" there is python for mobile "
" i dont know if there is standalone jupyter for mobile "
" some sites explain getting started on python and on jupyter "
" https://www.python.org/about/gettingstarted/ "
" https://jupyter-notebook-beginner-guide.readthedocs.io/en/latest/ "
" i will just expose the main steps here in a minimalist way to start running the codes provided in this repo "
   ]
  },
  
 "nbformat": 4,
 "nbformat_minor": 0
}
