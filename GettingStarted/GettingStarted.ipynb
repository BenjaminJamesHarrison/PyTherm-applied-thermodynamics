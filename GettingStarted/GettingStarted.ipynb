{
 "cells": [
  {
   "cell_type": "markdown",
   "metadata": {},
   "source": [
    "# Getting Started\n",
    "* GIT\n",
    "* GITHUB\n",
    "* PYTHON\n",
    "* NUMPY\n",
    "* SYMPY\n",
    "* MATPLOTLIB\n",
    "* JUPYTER\n",
    "\n",
    "the following is a draft of what is to come  \n",
    " \n",
    "\n",
    "First of all, what is python, what is ipynb?  \n",
    "    \n",
    "python is a programming language with many libraaries that provide numerical methodss, analytical algebra (CAS) and graphical (as ploting and equation formating) resources  \n",
    "    \n",
    "jupyter is an interface that runs python source code and intercalate blocks of src with blocks of expalaining text or graphical results  \n",
    "    \n",
    "github renders some features of ipynb files automatically   \n",
    "'From today Jupyter notebooks render in all their glory right here on GitHub.' < https://github.com/blog/1995-github-jupyter-notebooks-3 >   \n",
    "to have more functionality you can use jupyter site, tab try it online  \n",
    "it works on most browsers, including some on mobile devices as google chrome  \n",
    "to have full functionality you have to install python and jupyter on your pc  \n",
    "you can install it on windows or linux and i think mac too  \n",
    "there is python for mobile  \n",
    "i dont know if there is standalone jupyter for mobile  \n",
    "some sites explain getting started on python and on jupyter  \n",
    "https://www.python.org/about/gettingstarted/  \n",
    "https://jupyter-notebook-beginner-guide.readthedocs.io/en/latest/  \n",
    "i will just expose the main steps here in a minimalist way to start running the codes provided in this repo     \n",
    "  "
   ]
  },
  {
   "cell_type": "code",
   "execution_count": null,
   "metadata": {
    "collapsed": true
   },
   "outputs": [],
   "source": []
  }
 ],
 "metadata": {
  "anaconda-cloud": {},
  "kernelspec": {
   "display_name": "Python [Root]",
   "language": "python",
   "name": "Python [Root]"
  },
  "language_info": {
   "codemirror_mode": {
    "name": "ipython",
    "version": 3
   },
   "file_extension": ".py",
   "mimetype": "text/x-python",
   "name": "python",
   "nbconvert_exporter": "python",
   "pygments_lexer": "ipython3",
   "version": "3.5.2"
  }
 },
 "nbformat": 4,
 "nbformat_minor": 0
}
