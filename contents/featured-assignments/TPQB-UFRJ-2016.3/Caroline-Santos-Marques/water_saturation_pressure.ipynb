{
 "cells": [
  {
   "cell_type": "code",
   "execution_count": 1,
   "metadata": {
    "collapsed": true
   },
   "outputs": [],
   "source": [
    "import numpy as numpy\n"
   ]
  },
  {
   "cell_type": "markdown",
   "metadata": {},
   "source": [
    "## Saturation pressure and Thermodynamic Properties\n"
   ]
  },
  {
   "cell_type": "markdown",
   "metadata": {},
   "source": [
    "## Water"
   ]
  },
  {
   "cell_type": "code",
   "execution_count": 2,
   "metadata": {
    "collapsed": true
   },
   "outputs": [],
   "source": [
    "#gas constant\n",
    "R = 8.3144598 #J.mol^−1.K^−1"
   ]
  },
  {
   "cell_type": "code",
   "execution_count": 3,
   "metadata": {
    "collapsed": true
   },
   "outputs": [],
   "source": [
    "#Pure component critical point of water\n",
    "# Tc (K)\n",
    "Tc = 647.3 #K\n",
    "\n",
    "# Pc (bar)\n",
    "Pc = 221.2*(10**5) #Pa\n",
    "\n",
    "# correlation\n",
    "\n",
    "w = 0.344"
   ]
  },
  {
   "cell_type": "code",
   "execution_count": 4,
   "metadata": {
    "collapsed": false,
    "scrolled": true
   },
   "outputs": [],
   "source": [
    "#State equation parameters\n",
    "\n",
    "T = numpy.linspace(200,Tc,300)  #K\n",
    "omega=0.086640\n",
    "b = (omega*R*Tc)/Pc\n",
    "#print(b)\n",
    "\n",
    "\n",
    "\n",
    "\n",
    "\n",
    "\n"
   ]
  },
  {
   "cell_type": "code",
   "execution_count": 5,
   "metadata": {
    "collapsed": false
   },
   "outputs": [
    {
     "name": "stdout",
     "output_type": "stream",
     "text": [
      "0.559770449092\n",
      "0.935963723295\n"
     ]
    }
   ],
   "source": [
    "def a(T):\n",
    "    #print(w,Tc)    \n",
    "    return (\n",
    "    \n",
    "    (R*R*Tc*Tc*0.427480/Pc)*\n",
    "        \n",
    "        (1+((0.480+1.574*w-0.176*w*w)*(1-(numpy.sqrt(T/Tc)))))**2\n",
    "        \n",
    " \n",
    "    \n",
    "    ) #definiçaõ de função\n",
    "\n",
    "print(a(Tc))\n",
    "print(a(0.5*Tc))"
   ]
  },
  {
   "cell_type": "code",
   "execution_count": 6,
   "metadata": {
    "collapsed": false
   },
   "outputs": [],
   "source": [
    "def calcV(P,T):\n",
    "    c1=P\n",
    "    c2=-R*T\n",
    "    c3=-b*R*T-P*b*b+a(T)\n",
    "    c4=-a(T)*b\n",
    "    V=numpy.roots([c1,c2,c3,c4])\n",
    "    Vl = min(V)\n",
    "    Vv = max(V)\n",
    "    return (Vl,Vv)\n",
    "\n"
   ]
  },
  {
   "cell_type": "code",
   "execution_count": 7,
   "metadata": {
    "collapsed": false
   },
   "outputs": [
    {
     "name": "stdout",
     "output_type": "stream",
     "text": [
      "(0.99171885667143533, 0.030754059968649258)\n",
      "(0.91440517972625357, 2.5300642490266645e-05)\n"
     ]
    }
   ],
   "source": [
    "\n",
    "def phiv(P,T):\n",
    "    c1=P\n",
    "    c2=-R*T\n",
    "    c3=-b*R*T-P*b*b+a(T)\n",
    "    c4=-a(T)*b\n",
    "    V=numpy.roots([c1,c2,c3,c4])\n",
    "    Vv= max(V)\n",
    "    return numpy.exp(((P*Vv)/(R*T))-1-numpy.log(((P*Vv)/(R*T))-(b*P)/(R*T))- (a(T)/(b*R*T))*numpy.log((((P*Vv)/(R*T))+ (b*P)/(R*T))/((P*Vv)/(R*T)))), Vv\n",
    "\n",
    "def phil(P,T):\n",
    "    c1=P\n",
    "    c2=-R*T\n",
    "    c3=-b*R*T-P*b*b+a(T)\n",
    "    c4=-a(T)*b\n",
    "    V=numpy.roots([c1,c2,c3,c4])\n",
    "    Vl= min (V)\n",
    "   \n",
    "    return numpy.exp(((P*Vl)/(R*T))-1-numpy.log(((P*Vl)/(R*T))-(b*P)/(R*T))- (a(T)/(b*R*T))*numpy.log((((P*Vl)/(R*T))+ (b*P)/(R*T))/((P*Vl)/(R*T)))),Vl\n",
    "\n",
    "print(phiv(100000,373))\n",
    "print(phil(100000,373))\n"
   ]
  },
  {
   "cell_type": "code",
   "execution_count": 8,
   "metadata": {
    "collapsed": true
   },
   "outputs": [],
   "source": [
    "def S_res(T,P,V):\n",
    "    Tr=T/Tc\n",
    "    dev=(402374603786943180544511778531*((2253215889523281*Tr**(1/2))/2251799813685248 - 4505015703208529/2251799813685248))/(316912650057057350374175801344*Tr**(1/2))\n",
    "    Z=(P*V)/(R*T);\n",
    "    q=a(T)/(b*R*T);\n",
    "    beta=b*P/(R*T);\n",
    "    I=numpy.log((Z+beta)/Z)\n",
    "   \n",
    "    return numpy.log(Z-beta)+ dev*q*I"
   ]
  },
  {
   "cell_type": "code",
   "execution_count": 9,
   "metadata": {
    "collapsed": false
   },
   "outputs": [],
   "source": [
    "def H_res(T,P,V):\n",
    "\n",
    "    Tr=T/Tc\n",
    "    dev=(402374603786943180544511778531*((2253215889523281*Tr**(1/2))/2251799813685248 - 4505015703208529/2251799813685248))/(316912650057057350374175801344*Tr**(1/2))\n",
    "    Z=(P*V)/(R*T);\n",
    "    q=a(T)/(b*R*T);\n",
    "    beta=b*P/(R*T);\n",
    "    I=numpy.log((Z+beta)/Z);\n",
    "\n",
    "    return Z-1+ (dev-1)*q*I"
   ]
  },
  {
   "cell_type": "code",
   "execution_count": 10,
   "metadata": {
    "collapsed": false
   },
   "outputs": [
    {
     "name": "stdout",
     "output_type": "stream",
     "text": [
      "(3188.9813648833328, 2.386793546283712e-05, 0.78963172463452513, -40.774912191213367, -0.0021381543724091128, -40.774451657355414, -0.0016776205144556724)\n"
     ]
    },
    {
     "name": "stderr",
     "output_type": "stream",
     "text": [
      "C:\\Program Files\\Anaconda3\\lib\\site-packages\\ipykernel\\__main__.py:40: ComplexWarning: Casting complex values to real discards the imaginary part\n"
     ]
    }
   ],
   "source": [
    "def P_sat(T,P_iguess):\n",
    "\n",
    "    RES=1\n",
    "    TOL=1e-9\n",
    "    MAX=1000\n",
    "    i=0\n",
    "    P=P_iguess\n",
    "    while(RES>TOL and i<MAX): \n",
    "        \n",
    "        valor_phi_L, Vol_L = phil(P,T)\n",
    "        valor_phi_V, Vol_V = phiv(P,T)\n",
    "        \n",
    "        P=P*(valor_phi_L/valor_phi_V)\n",
    "        RES=abs((valor_phi_L/valor_phi_V)-1.)\n",
    "        i=i+1\n",
    "        #print(phil(P,T))\n",
    "        #print(phiv(P,T))\n",
    "        #print(P_sat)\n",
    "        \n",
    "    HRES_L=H_res(T,P,Vol_L)\n",
    "    HRES_V=H_res(T,P,Vol_V)\n",
    "    SRES_L=S_res(T,P,Vol_L)\n",
    "    SRES_V=S_res(T,P,Vol_V)  \n",
    "        \n",
    "        \n",
    "        \n",
    "    return P, Vol_L, Vol_V, HRES_L, HRES_V,SRES_L,SRES_V\n",
    "\n",
    "P_loop=(80000)\n",
    "print(P_sat(303,P_loop))\n",
    "valP = numpy.zeros(300)\n",
    "val_L = numpy.zeros(300)\n",
    "val_V = numpy.zeros(300)\n",
    "HR_L= numpy.zeros(300)\n",
    "HR_V = numpy.zeros(300)\n",
    "SR_L= numpy.zeros(300)\n",
    "SR_V= numpy.zeros(300)\n",
    "for j in range(300): #criação de um loop\n",
    "    T_=T[j]\n",
    "    valP[j], val_L[j],val_V[j],HR_L[j],HR_V[j],SR_L[j],SR_V[j]= P_sat(T_,P_loop)\n",
    "\n",
    "    \n",
    "    \n",
    "\n",
    "    \n",
    "\n",
    "\n",
    "\n",
    "\n",
    "                "
   ]
  },
  {
   "cell_type": "code",
   "execution_count": 11,
   "metadata": {
    "collapsed": false
   },
   "outputs": [],
   "source": [
    "import matplotlib.pyplot as plt"
   ]
  },
  {
   "cell_type": "code",
   "execution_count": 12,
   "metadata": {
    "collapsed": true
   },
   "outputs": [],
   "source": [
    "%matplotlib inline"
   ]
  },
  {
   "cell_type": "markdown",
   "metadata": {},
   "source": [
    "## Saturation Pressure by Antoine:"
   ]
  },
  {
   "cell_type": "code",
   "execution_count": null,
   "metadata": {
    "collapsed": true
   },
   "outputs": [],
   "source": []
  },
  {
   "cell_type": "code",
   "execution_count": 13,
   "metadata": {
    "collapsed": false
   },
   "outputs": [
    {
     "name": "stdout",
     "output_type": "stream",
     "text": [
      "4028.9061772324076\n",
      "3941052.6728651645\n"
     ]
    }
   ],
   "source": [
    "A1=8.07131\n",
    "B1=1730.63\n",
    "C1=-40.426\n",
    "f=133.32\n",
    "\n",
    "def P1_Sat(T):\n",
    "    P1=(10**(A1 - (B1/(C1+T))))*f\n",
    "    return P1\n",
    "print(P1_Sat(303))\n",
    "\n",
    "A2=8.14019\n",
    "B2=1810.94\n",
    "C2=-29.485 \n",
    "\n",
    "\n",
    "def P2_Sat(T):\n",
    "    P2 = (10**(A2 - (B2/(C2+T))))*f\n",
    "    return P2\n",
    "print(P2_Sat(523))\n",
    "\n",
    "T1=numpy.linspace(200,373,100)\n",
    "val1 = numpy.zeros(100)\n",
    "\n",
    "for i in range(100):\n",
    "        T1_=T1[i]\n",
    "        val1[i]=P1_Sat(T1_)\n",
    "        #print(T1,val1)\n",
    "   \n",
    " \n",
    "T2=numpy.linspace(374,641,100)\n",
    "\n",
    "val2 = numpy.zeros(100)  \n",
    "\n",
    "for i in range(100):\n",
    "    T2_=T2[i]\n",
    "    val2[i]=P2_Sat(T2_)\n",
    "    #print(val2)\n",
    "    \n",
    "# plt.figure(2)\n",
    "# plt.semilogy(1)\n",
    "# plt.plot(T1,val1)\n",
    "# plt.plot(T2,val2)\n",
    "# plt.xlim([200,Tc*1.05])\n",
    "# plt.ylim([100,Pc*10])\n",
    "# plt.show()\n",
    "    "
   ]
  },
  {
   "cell_type": "markdown",
   "metadata": {},
   "source": [
    "## Saturation Pressure by:\n",
    "\n",
    "* SRK equation \n",
    "* Antoine equation \n",
    "* Experimental values\n",
    "\n"
   ]
  },
  {
   "cell_type": "code",
   "execution_count": 14,
   "metadata": {
    "collapsed": false
   },
   "outputs": [
    {
     "data": {
      "image/png": "[encoded data removed]",
      "text/plain": [
       "<matplotlib.figure.Figure at 0x20865487fd0>"
      ]
     },
     "metadata": {},
     "output_type": "display_data"
    },
    {
     "data": {
      "image/png": "[encoded data removed]",
      "text/plain": [
       "<matplotlib.figure.Figure at 0x20865d67da0>"
      ]
     },
     "metadata": {},
     "output_type": "display_data"
    }
   ],
   "source": [
    "dadosexp = numpy.loadtxt('exp_data_vapor_pressure_water.txt', dtype='float', comments='#', converters=None, skiprows=0, usecols=None, unpack=False, ndmin=0)\n",
    "T_exp = dadosexp[:,0]\n",
    "P_exp = dadosexp[:,1]*1000\n",
    "\n",
    "plt.figure(1)\n",
    "plt.semilogy(1)\n",
    "plt.scatter(T_exp,P_exp)\n",
    "plt.plot(T,valP)\n",
    "plt.xlim([200,Tc*1.05])\n",
    "plt.ylim([100,Pc*10])\n",
    "plt.show()\n",
    "plt.figure(2)\n",
    "plt.semilogy(1)\n",
    "plt.scatter(T_exp,P_exp)\n",
    "plt.xlim([200,Tc*1.05])\n",
    "plt.ylim([100,Pc*10])\n",
    "plt.plot(T1,val1)\n",
    "plt.plot(T2,val2)\n",
    "plt.show()"
   ]
  },
  {
   "cell_type": "markdown",
   "metadata": {
    "collapsed": false
   },
   "source": [
    "## Diagram Thermodynamics "
   ]
  },
  {
   "cell_type": "markdown",
   "metadata": {},
   "source": [
    "## P X V"
   ]
  },
  {
   "cell_type": "code",
   "execution_count": 15,
   "metadata": {
    "collapsed": false,
    "scrolled": true
   },
   "outputs": [
    {
     "data": {
      "image/png": "[encoded data removed]",
      "text/plain": [
       "<matplotlib.figure.Figure at 0x20866ed9898>"
      ]
     },
     "metadata": {},
     "output_type": "display_data"
    }
   ],
   "source": [
    "def SRK(V,T):\n",
    "    \n",
    "    P= ((R*T)/(V-b)) - (a(T)/(V*(V+b)))\n",
    "    #print(b)\n",
    "    #print(a(T),R)\n",
    "    return P\n",
    " \n",
    "Vc=R*Tc/Pc\n",
    " \n",
    "\n",
    "\n",
    "V=numpy.linspace(b*1.0001,10*Vc,1000)\n",
    "plt.figure(1)\n",
    "plt.plot(V,SRK(V,343))\n",
    "#print(SRK(V,343))\n",
    "plt.xlim(0,10*Vc)\n",
    "plt.ylim(-1*Pc,2*Pc)\n",
    "plt.show()    \n",
    "\n",
    "    "
   ]
  },
  {
   "cell_type": "markdown",
   "metadata": {
    "collapsed": false
   },
   "source": [
    "## P X H"
   ]
  },
  {
   "cell_type": "code",
   "execution_count": 32,
   "metadata": {
    "collapsed": false
   },
   "outputs": [
    {
     "data": {
      "image/png": "[encoded data removed]",
      "text/plain": [
       "<matplotlib.figure.Figure at 0x2086702e0b8>"
      ]
     },
     "metadata": {},
     "output_type": "display_data"
    }
   ],
   "source": [
    "#Enthalpy for ideal gas\n",
    "def Hid(T):\n",
    "    a0=4.395\n",
    "    a1=-4.186*0.001\n",
    "    a2=1.405*10**-5\n",
    "    a3=1.564*10**-8\n",
    "    Tref=273.15\n",
    "    int_cp_l=a0*(T-Tref)+a1*(T*T-Tref*Tref)*0.5+a2*(T*T*T-Tref*Tref*Tref)*(1/3);\n",
    "    return int_cp_l\n",
    "#print(Hid(303))\n",
    "#Hl=numpy.zeros(300)\n",
    "Hl=Hid(T)+HR_L\n",
    "Hv=Hid(T)+HR_V\n",
    "\n",
    "Hl=HR_L\n",
    "Hv=HR_V\n",
    "\n",
    "#print(Hl)\n",
    "#print(valP)\n",
    "#print(H_liq)\n",
    "\n",
    "\n",
    "plt.figure(1)\n",
    "plt.semilogy(Hl,valP)\n",
    "#plt.plot(Hv,valP)\n",
    "plt.semilogy(Hv,valP)\n",
    "#plt.xlim(-500,0)\n",
    "plt.ylim(0.1,1.05*Pc)\n",
    "plt.show() \n"
   ]
  },
  {
   "cell_type": "code",
   "execution_count": 35,
   "metadata": {
    "collapsed": false
   },
   "outputs": [
    {
     "data": {
      "image/png": "[encoded data removed]",
      "text/plain": [
       "<matplotlib.figure.Figure at 0x208656a64e0>"
      ]
     },
     "metadata": {},
     "output_type": "display_data"
    }
   ],
   "source": [
    "#Entropy for ideal gas\n",
    "def Sid(P,T):\n",
    "    Pref=1*10**5\n",
    "    a0=4.395\n",
    "    a1=-4.186*0.001\n",
    "    a2=1.405*10**-5\n",
    "    a3=1.564*10**-8\n",
    "    a4=0.632*10**-11\n",
    "    Tref=273.15\n",
    "    return R*(a4/4*(T**4-Tref**4)+a3/3*(T**3-Tref**3)+a2/2*(T**2-Tref**2)+a1*(T-Tref)+a0*numpy.log(T/Tref))-R*numpy.log(P/Pref)\n",
    "    \n",
    "Sl=SR_L#+Sid(valP,T)\n",
    "Sv=SR_V#+Sid(valP,T)\n",
    "\n",
    "plt.figure(1)\n",
    "plt.plot(Sl,T)\n",
    "#plt.plot(Hv,valP)\n",
    "plt.plot(Sv,T)\n",
    "#plt.xlim(30,130)\n",
    "#plt.ylim(0.1,1.05c)\n",
    "plt.show() \n",
    "\n",
    "#print(Sl)"
   ]
  },
  {
   "cell_type": "code",
   "execution_count": 34,
   "metadata": {
    "collapsed": false
   },
   "outputs": [],
   "source": [
    "#print(valP)\n",
    "#print(Hl) \n",
    "#print(Hv)\n"
   ]
  },
  {
   "cell_type": "code",
   "execution_count": null,
   "metadata": {
    "collapsed": true
   },
   "outputs": [],
   "source": []
  },
  {
   "cell_type": "code",
   "execution_count": null,
   "metadata": {
    "collapsed": true
   },
   "outputs": [],
   "source": []
  }
 ],
 "metadata": {
  "anaconda-cloud": {},
  "kernelspec": {
   "display_name": "Python [conda root]",
   "language": "python",
   "name": "conda-root-py"
  },
  "language_info": {
   "codemirror_mode": {
    "name": "ipython",
    "version": 3
   },
   "file_extension": ".py",
   "mimetype": "text/x-python",
   "name": "python",
   "nbconvert_exporter": "python",
   "pygments_lexer": "ipython3",
   "version": "3.5.2"
  }
 },
 "nbformat": 4,
 "nbformat_minor": 1
}
