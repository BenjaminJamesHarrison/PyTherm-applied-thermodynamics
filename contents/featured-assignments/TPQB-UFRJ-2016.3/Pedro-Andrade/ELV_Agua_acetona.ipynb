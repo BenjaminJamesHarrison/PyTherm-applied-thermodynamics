{
 "cells": [
  {
   "cell_type": "markdown",
   "metadata": {},
   "source": [
    "Cálculo de Equilíbrio de Fases da Mistura Água e Acetona\n",
    "Utilizando modelo de energia livre NRTL\n",
    "\n",
    "Referência para parâmetros do modelo:\n",
    "\n",
    "1- Understanding Distillation Using Column Profile Maps, Author(s): Daniel Beneke, Mark Peters, David Glasser, Diane Hildebrandt\n",
    "\n",
    "http://onlinelibrary.wiley.com/doi/10.1002/9781118477304.app2/pdf\n",
    "\n",
    "2- \"Vapor-liquid equilibrium of water-acetone-air at ambient temperatures and pressures. An analysis of different VLE-fitting methods\" Jan H. Lichtenbelt, Bob J. Schram, Ind. Eng. Chem. Process Des. Dev., 1985, 24 (2), pp 391–397\n",
    "\n",
    "http://pubs.acs.org/doi/abs/10.1021/i200029a029\n",
    "\n",
    "\n"
   ]
  },
  {
   "cell_type": "code",
   "execution_count": 1,
   "metadata": {
    "collapsed": true
   },
   "outputs": [],
   "source": [
    "import numpy as np"
   ]
  },
  {
   "cell_type": "code",
   "execution_count": 2,
   "metadata": {
    "collapsed": false
   },
   "outputs": [],
   "source": [
    "#temperatura e composições preliminares\n",
    "T = 373\n",
    "x = np.array([0.3,0.7])"
   ]
  },
  {
   "cell_type": "code",
   "execution_count": 3,
   "metadata": {
    "collapsed": false
   },
   "outputs": [],
   "source": [
    "def NRTL(x,T):\n",
    "    \n",
    "    alfa11 = alfa22 = 0\n",
    "    alfa12 = 0.3\n",
    "    alfa21 = 0.3\n",
    "\n",
    "    a11 = 0\n",
    "    a12 = 0.054\n",
    "    a21 = 6.398\n",
    "    a22 = 0\n",
    "    #Matriz aij\n",
    "    aij = np.array([[a11,a12],[a21,a22]])\n",
    "    #print (aij)\n",
    "    b11 = 0\n",
    "    b12 = 420\n",
    "    b21 = -1809\n",
    "    b22 = 0\n",
    "    #matriz bij\n",
    "    bij = np.array([[b11,b12],[b21,b22]])\n",
    "    #print (bij)\n",
    "    \n",
    "    alfa = np.array([[alfa11,alfa12],[alfa21,alfa22]])\n",
    "    tau=np.zeros([2,2])\n",
    "    for j in range(2):\n",
    "        for i in range(2):\n",
    "    \n",
    "            tau[j,i]=aij[j,i]+bij[j,i]/T\n",
    "            \n",
    "    G = np.zeros([2,2])\n",
    "    for j in range(2):\n",
    "        for i in range(2):\n",
    "            G[j,i] = np.exp(-alfa[j,i]*tau[j,i])\n",
    "            \n",
    "    Gamma=np.zeros([2])\n",
    "    for i in range(2):\n",
    "\n",
    "        Sj1=0\n",
    "        Sj2=0\n",
    "        Sj3=0\n",
    "        for j in range(2):\n",
    "            Sj1     += tau[j,i]*G[j,i]*x[j]\n",
    "            Sj2     += G[j,i]*x[j]\n",
    "\n",
    "            Sk1=0\n",
    "            Sk2=0\n",
    "            Sk3=0\n",
    "            for k in range(2):\n",
    "                Sk1+=G[k,j]*x[k]\n",
    "                Sk2+=x[k]*tau[k,j]*G[k,j]\n",
    "                Sk3+=G[k,j]*x[k]\n",
    "\n",
    "            Sj3     += ((x[j]*G[i,j])/(Sk1))*(tau[i,j]-(Sk2)/(Sk3))\n",
    "\n",
    "        Gamma[i]=np.exp(-Sj1/Sj2 - Sj3)\n",
    "    \n",
    "    return Gamma\n"
   ]
  },
  {
   "cell_type": "code",
   "execution_count": 4,
   "metadata": {
    "collapsed": false
   },
   "outputs": [
    {
     "name": "stdout",
     "output_type": "stream",
     "text": [
      "Coeficientes de atividade\n",
      "    Agua      Acetona\n",
      "[ 0.35461064  0.80008441]\n"
     ]
    }
   ],
   "source": [
    "print ('Coeficientes de atividade')\n",
    "print ('    Agua      Acetona')\n",
    "print(NRTL(x,T))"
   ]
  },
  {
   "cell_type": "code",
   "execution_count": 5,
   "metadata": {
    "collapsed": false
   },
   "outputs": [
    {
     "name": "stdout",
     "output_type": "stream",
     "text": [
      "101333.212771\n",
      "369786.982543\n"
     ]
    }
   ],
   "source": [
    "#Calculo de Psat com a Equação de Antoine\n",
    "#Pressões de saturação para entrar em yi.Pbol = xi*Gammai*P_sati\n",
    "#T = 373\n",
    "\n",
    "def PantoineW(T):\n",
    "    Aw = 16.3872\n",
    "    Bw = 3885.70\n",
    "    Cw = 230.170\n",
    "    return (np.exp(Aw - Bw/(T-273 + Cw)))*1000\n",
    "PsatAw = PantoineW(T)\n",
    "print (PsatAw)\n",
    "\n",
    "def PantoineA(T):\n",
    "    Aa = 14.3145\n",
    "    Ba = 2756.22\n",
    "    Ca = 228.06\n",
    "    return (np.exp(Aa - Ba/(T-273 + Ca)))*1000\n",
    "PsatAa = PantoineA(T)\n",
    "print (PsatAa)"
   ]
  },
  {
   "cell_type": "code",
   "execution_count": 6,
   "metadata": {
    "collapsed": false
   },
   "outputs": [],
   "source": [
    "import matplotlib.pyplot as plt\n",
    "def Pbol(x,T):\n",
    "    y_out = np.zeros(2)\n",
    "    Gamma = NRTL(x,T)\n",
    "    Psati = ([PsatAw,PsatAa])\n",
    "    Pbol_=0\n",
    "    for i in range(0,2):\n",
    "#        print(i,Pbol_)\n",
    "        Pbol_ += x[i]*Gamma[i]*Psati[i]\n",
    "    \n",
    "    #calculo das composicoes do vapor\n",
    "    for i in range(0,2):\n",
    "        y_out[i] = x[i]*Gamma[i]*Psati[i]/Pbol_\n",
    "        \n",
    "        \n",
    "#    print(y_out, Gamma, x, Psati, Pbol_)\n",
    "    return [y_out, Pbol_]\n",
    "\n"
   ]
  },
  {
   "cell_type": "code",
   "execution_count": 7,
   "metadata": {
    "collapsed": false,
    "scrolled": false
   },
   "outputs": [
    {
     "data": {
      "image/png": "[encoded data removed]",
      "text/plain": [
       "<matplotlib.figure.Figure at 0x99df380908>"
      ]
     },
     "metadata": {},
     "output_type": "display_data"
    }
   ],
   "source": [
    "xwaxis = np.linspace (0,0.18,100)\n",
    "P_axis = np.zeros(100)\n",
    "ywaxis = np.zeros(100)\n",
    "for i in range (0,100):\n",
    "    xa = 1-xwaxis[i]\n",
    "    x_ = [xwaxis[i],xa]\n",
    "    \n",
    "        \n",
    "    y_, P_axis[i] = Pbol(x_,T)\n",
    "    ywaxis[i] = y_[0]\n",
    "\n",
    "plt.figure(1)\n",
    "plt.plot(xwaxis,P_axis)\n",
    "plt.plot(ywaxis,P_axis)\n",
    "\n",
    "xwaxis = np.linspace (0.18,1,100)\n",
    "P_axis = np.zeros(100)\n",
    "ywaxis = np.zeros(100)\n",
    "for i in range (0,100):\n",
    "    xa = 1-xwaxis[i]\n",
    "    x_ = [xwaxis[i],xa]\n",
    "    \n",
    "        \n",
    "    y_, P_axis[i] = Pbol(x_,T)\n",
    "    ywaxis[i] = y_[0]\n",
    "plt.title('Diagrama de Equilíbrio Água+Acetona')\n",
    "plt.plot(xwaxis,P_axis)\n",
    "plt.plot(ywaxis,P_axis)\n",
    "\n",
    "plt.show()\n",
    "\n"
   ]
  },
  {
   "cell_type": "code",
   "execution_count": null,
   "metadata": {
    "collapsed": true
   },
   "outputs": [],
   "source": []
  },
  {
   "cell_type": "code",
   "execution_count": null,
   "metadata": {
    "collapsed": true
   },
   "outputs": [],
   "source": []
  }
 ],
 "metadata": {
  "anaconda-cloud": {},
  "kernelspec": {
   "display_name": "Python [conda root]",
   "language": "python",
   "name": "conda-root-py"
  },
  "language_info": {
   "codemirror_mode": {
    "name": "ipython",
    "version": 3
   },
   "file_extension": ".py",
   "mimetype": "text/x-python",
   "name": "python",
   "nbconvert_exporter": "python",
   "pygments_lexer": "ipython3",
   "version": "3.5.2"
  }
 },
 "nbformat": 4,
 "nbformat_minor": 1
}
