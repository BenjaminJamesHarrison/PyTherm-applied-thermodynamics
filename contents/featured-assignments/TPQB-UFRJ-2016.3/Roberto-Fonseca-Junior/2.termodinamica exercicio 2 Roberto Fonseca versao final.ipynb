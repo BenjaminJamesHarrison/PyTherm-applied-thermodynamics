{
 "cells": [
  {
   "cell_type": "markdown",
   "metadata": {},
   "source": [
    "# Trabalho de Termodinâmica Aplicada: \n",
    "### Cálculos de propriedades termodinâmicas e de equilíbrio de fases utilizando equações de estado e modelos de G de excesso"
   ]
  },
  {
   "cell_type": "code",
   "execution_count": 1,
   "metadata": {
    "collapsed": true
   },
   "outputs": [],
   "source": [
    "from scipy import optimize as opt"
   ]
  },
  {
   "cell_type": "markdown",
   "metadata": {},
   "source": [
    "#### O objetivo deste trabalho é realizar cálculos de propriedades termodinâmicas para os componentes puros ÁGUA e ETANOL, considerando a Equação de Estado SRK, e em seguida realizar cálculos para a mistura destes compostos, utilizando o modelo NRTL de G de excesso. \n",
    "\n",
    "#### Para facilitar a execução, este trabalho foi dividido em três arquivos:\n",
    ">* 1- Cálculos para o componente puro AGUA\n",
    ">* 2- Cálculos para o componente puro ETANOL\n",
    ">* 3- Cálculos para o sistema binário AGUA + ETANOL"
   ]
  },
  {
   "cell_type": "markdown",
   "metadata": {},
   "source": [
    "### *3) Cálculos para o sistema binário AGUA + ETANOL\n",
    "\n",
    "O primeiro passo é avaliar o sistema pela Regra das fases de Gibbs, para conhecer os graus de liberdade permitidos. Assim, para dois componentes, em equilíbrio L-V:  \n",
    "\n",
    "Variância = C − F + 2 = 2 - 2 + 2  = 2\n",
    "\n",
    "Entao, são necessários 2 variáveis independentes para caracterizar o sistema. "
   ]
  },
  {
   "cell_type": "markdown",
   "metadata": {},
   "source": [
    "#### *A) Equilíbrio líquido-vapor de misturas*\n",
    "\n",
    "\n",
    "Há duas opções para o cálculo de propriedades de misturas: \n",
    ">* usar EoS direto para as duas fases\n",
    ">* usar propriedades em excesso para a fase líquida\n",
    "\n",
    "No caso de fases líquidas é comum utilizar as chamadas propriedades em excesso, e modelos de G de excesso. Estes modelos consideram a não-idealidade da fase líquida ao incluir o coeficiente de atividade dos componentes presentes na fase. \n",
    "\n",
    "##### Equilibrio de fases\n",
    "\n",
    "Na condição de equilíbrio, há igualdade de potenciais quimicos de cada componente em cada fase, nas mesmas condições de P e T. Então, podemos ter:\n",
    "\n",
    ">* f^i(v)(T,P,y) = yi.FI^i(v)(T,P,y).P\n",
    ">* f^i(l)(T,P,x) = xi.FI^i(l)(T,P,x).P                          (usando EOS para fase l) \n",
    ">* f^i(l)(T,P,x) = xi.GAMAi(T,x).Pisat.FIisat,correcao de Point (usando modelos Gexcesso)\n",
    "(f^i = fugacidade de i na mistura; FI^i = coeficiente de fugacidade)\n",
    "\n",
    "Assim, para o equilíbrio usa-se dois tipos de equações. \n",
    ">* *EoS para as duas fases:*\n",
    ">* yi.FI^i(v)(T,P,y)=xi.FI^i(l)(T,P,x)\n",
    "\n",
    ">* *Gexcesso para a fase L:*\n",
    ">* yi.FI^i(v)(T,P,y).P = xi.GAMAi(T,x).Pisat.FI^isat.correcao de Point \n",
    "\n",
    "Seguindo a equação que considera um modelo de Gexcesso, pode-se fazer duas simplificações:\n",
    ">* considerar mistura ideal na fase gasosa. Chega-se a   yi.P = xi.GAMAi.Pisat (Lei de Raoult modificada)\n",
    "Esta simplificação pode ser feita pois o termo *FI^isat.correcao de Point* pode ser aproximado para um, pois os efeitos se compensam. \n",
    "\n",
    ">* considerar mistura ideal na fase líquida. Chega-se a  yi.P = xi.Pisat (Lei de Raoult) \n",
    "\n",
    "Neste trabalho será utilizada a Lei de Raoult modificada:\n",
    "\n",
    "${y(i)}{P} = {x(i)}{Gamma(i)}{P(i)sat}$ "
   ]
  },
  {
   "cell_type": "markdown",
   "metadata": {},
   "source": [
    "Para realizar os cálculos anteriores é necessário conhecer as pressões de saturação dos componentes da mistura. Este cálculo será feito pela Equação de Antoine, para tentar ter alguma precisão experimental e não considerar a equação de estado.E também por este motivo utilizaremos um modelo de G de excesso."
   ]
  },
  {
   "cell_type": "markdown",
   "metadata": {},
   "source": [
    "## Cálculo de ${P}^{\\mathrm{ sat}}$ pela Equação de Antoine"
   ]
  },
  {
   "cell_type": "code",
   "execution_count": 2,
   "metadata": {
    "collapsed": true
   },
   "outputs": [],
   "source": [
    "# Definição de Psat(T,Componente)\n",
    "# Fonte DDBST\n",
    "\n",
    "def P_antoine(T,comp):\n",
    "    \n",
    "    A=0\n",
    "    B=0\n",
    "    C=0\n",
    "    \n",
    "    if comp == 1: # Água\n",
    "        if T<(1+273.15):\n",
    "            return 0\n",
    "    \n",
    "        elif T<(100+273.15):\n",
    "            A = 8.07131\n",
    "            B = 1730.63\n",
    "            C = 233.426\n",
    "            \n",
    "        elif T<(374+273.15):\n",
    "            A = 8.14019\n",
    "            B = 1810.94\n",
    "            C = 244.485\n",
    "        \n",
    "        else:\n",
    "            return 0\n",
    "       \n",
    "    elif comp == 2: #Etanol\n",
    "        if T<(-57+273.15):\n",
    "            return 0\n",
    "    \n",
    "        elif T<=(80+273.15):\n",
    "            A = 8.20417\n",
    "            B = 1642.89\n",
    "            C = 230.3\n",
    "            \n",
    "        elif T<=(243+273.15):\n",
    "            A = 7.68117\n",
    "            B = 1332.04\n",
    "            C = 199.2\n",
    "        \n",
    "        elif T == 5.1635e2:\n",
    "            return 6.3e6\n",
    "        \n",
    "        else:\n",
    "            return 0\n",
    "    \n",
    "      \n",
    "    return 10**(A - B/(C+T-273.15))*101325/760 # T em Kelvin e P convertido para Pascal"
   ]
  },
  {
   "cell_type": "markdown",
   "metadata": {},
   "source": [
    "Conhecendo-se as pressões de saturação, pode-se seguir para o cálculo de Gama da mistura, pois vamos considerar que não podemos utilizar equações de estado para a fase líquida. \n"
   ]
  },
  {
   "cell_type": "markdown",
   "metadata": {},
   "source": [
    "## Modelo NRTL pra Energia de Gibbs em Excesso ${G}^{\\mathrm{ E}}$\n",
    "\n",
    "O modelo de G de excesso escolhido neste trabalho é o modelo NRTL, descrito a seguir.\n",
    "\n",
    "$$ \\frac{g^E}{RT}=\\sum_{i=1}^n \\left[ x_i\\frac{\\sum_{j=1}^n \\left[ \\tau_{j,i} G_{j,i} x_{j} \\right] }{\\sum_{k=1}^n \\left[ G_{k,i} x_k \\right] } \\right] $$\n",
    "\n",
    "Onde:\n",
    "\n",
    "$\\tau_{i,j}= \\frac{g_{i,j}-g_{j,j}}{RT}=\\frac{A_{i,j}}{T}$\n",
    "\n",
    "$G_{i,j}=\\mathrm{exp}(-\\alpha_{i,j} \\tau_{i,j})$\n",
    "\n",
    "Cada diferença $(g_{i,j}-g_{j,j})$ (em unidades de energia) e cada parametro de interação binaria  $A_{i,j}$ (em unidades de temperatura) são ajustados experimentalmente. \n",
    "\n",
    "Os coeficientes de atividade são calculados a partir derivação da expressão acima em relação ao numero de moles de cada componente i, mantendo constantes T, P e os demais componentes. \n",
    "\n",
    " $$ln(\\gamma_i)= \\frac{\\sum_{j=1}^n\\left[\\tau_{j,i} G_{j,i} x_{j}\\right]}{\\sum_{k=1}^n\\left[G_{k,i}x_{k}\\right]} + \\sum_{j=1}^n\\left[ \\left(\\frac{\\ G_{i,j} x_{j}}{\\sum_{k=1}^n\\left[G_{k,j}x_{k}\\right]}\\right) \\left(\\tau_{i,j}-\\frac{\\sum_{r=1}^n\\left[\\tau_{i,r} G_{i,r} x_{i}\\right]}{\\sum_{k=1}^n\\left[G_{k,j}x_{k}\\right]} \\right) \\right] $$\n",
    " \n",
    "Chafer calculou os coeficientes de interação binária entre água e etanol. Estes dados foram utilizados neste trabalho.\n",
    "(Cháfer, Muñoz, Burguet, Berna, The influence of the temperature on the liquid–liquid equlibria of the mixture limonene + ethanol + $\\mathrm {H_2O}$, Fluid Phase Equilibria 224 (2004) 251–256 doi:10.1016/j.fluid.2004.06.045)"
   ]
  },
  {
   "cell_type": "code",
   "execution_count": 3,
   "metadata": {
    "collapsed": true
   },
   "outputs": [],
   "source": [
    "import numpy as np\n",
    "\n",
    "# Temperatura e composições de teste\n",
    "\n",
    "T = 293.15            #K\n",
    "x = np.array([.5,.5]) #normalized\n",
    "\n",
    "\n",
    "\n",
    "#parâmetros do Renon, 1969\n",
    "\n",
    "# Ethyl acetate (1) + water (2) + ethanol (3)\n",
    "\n",
    "#alpha12 = 0.4\n",
    "#alpha23 = 0.3\n",
    "#alpha13 = 0.3\n",
    "\n",
    "\n",
    "alpha12 = alpha21 = 0.3\n",
    "\n",
    "#parâmetros do Renon, 1969\n",
    "\n",
    "# Ethyl acetate (1) + water (2) + ethanol (3)\n",
    "# 6 binary Aij parameters\n",
    "#Dg12 = 1335 #K\n",
    "#Dg21 = 2510 #K\n",
    "#Dg23 = 976 #K\n",
    "#Dg32 = 88 #K\n",
    "#Dg13 = 301 #K\n",
    "#Dg31 = 322 #K\n",
    "\n",
    "\n",
    "\n",
    "# Parâmetros de interação binárias\n",
    "\n",
    "A12 = 976 #K\n",
    "A21 = 88 #K"
   ]
  },
  {
   "cell_type": "code",
   "execution_count": 4,
   "metadata": {
    "collapsed": false
   },
   "outputs": [
    {
     "name": "stdout",
     "output_type": "stream",
     "text": [
      "[[ 0.   0.3]\n",
      " [ 0.3  0. ]]\n"
     ]
    }
   ],
   "source": [
    "#assemble matrix with regressed parameters A_i,j, according to the model all diagonal terms are zero\n",
    "A = np.array([[0, A12],\n",
    "             [A21, 0]])\n",
    "\n",
    "#assemble symmetric matrix alpha\n",
    "alpha = np.array([[0, alpha12],\n",
    "                [alpha21, 0]])\n",
    "\n",
    "print(alpha)"
   ]
  },
  {
   "cell_type": "code",
   "execution_count": 5,
   "metadata": {
    "collapsed": false
   },
   "outputs": [
    {
     "name": "stdout",
     "output_type": "stream",
     "text": [
      "i,j,alpha[i,j],A[i,j]\n",
      "0 0 0.0 0\n",
      "0 1 0.3 976\n",
      "1 0 0.3 88\n",
      "1 1 0.0 0\n"
     ]
    }
   ],
   "source": [
    "#verify the assembled matrices\n",
    "\n",
    "#we can now automatically loop through its elements\n",
    "\n",
    "print(\"i,j,alpha[i,j],A[i,j]\")\n",
    "for i in range(2):\n",
    "    for j in range(2):\n",
    "        print(i,j,alpha[i,j],A[i,j])\n",
    "        \n"
   ]
  },
  {
   "cell_type": "code",
   "execution_count": 6,
   "metadata": {
    "collapsed": false
   },
   "outputs": [
    {
     "name": "stdout",
     "output_type": "stream",
     "text": [
      "tau=\n",
      "[[ 0.          3.32935357]\n",
      " [ 0.30018762  0.        ]]\n",
      "\n",
      "G=\n",
      "[[ 1.          0.36831893]\n",
      " [ 0.91387975  1.        ]]\n"
     ]
    }
   ],
   "source": [
    "# Matriz Tau\n",
    "\n",
    "tau=np.zeros([2,2])\n",
    "for j in range(2):\n",
    "    for i in range(2):\n",
    "        tau[j,i]=A[j,i]/T\n",
    "print(\"tau=\")\n",
    "print(tau)\n",
    "\n",
    "print(\"\")\n",
    "\n",
    "# Matriz G\n",
    "\n",
    "G=np.zeros([2,2])\n",
    "for j in range(2):\n",
    "    for i in range(2):\n",
    "        G[j,i]=np.exp((-alpha[j,i]*tau[j,i]))\n",
    "print(\"G=\")\n",
    "print(G)"
   ]
  },
  {
   "cell_type": "code",
   "execution_count": 7,
   "metadata": {
    "collapsed": false
   },
   "outputs": [
    {
     "name": "stdout",
     "output_type": "stream",
     "text": [
      "[ 2.06142336  1.37180318]\n"
     ]
    }
   ],
   "source": [
    "# Definição de Gamma\n",
    "\n",
    "def Gamma(T,x,alpha,A):\n",
    "\n",
    "    tau=np.zeros([2,2]) # Água e Etanol\n",
    "    for j in range(2):\n",
    "        for i in range(2):\n",
    "            tau[j,i]=A[j,i]/T    \n",
    "    \n",
    "    G=np.zeros([2,2])\n",
    "    for j in range(2):\n",
    "        for i in range(2):\n",
    "            G[j,i]=np.exp((-alpha[j,i]*tau[j,i]))\n",
    "    \n",
    "    Gamma=np.zeros([2])\n",
    "    for i in range(2):\n",
    "\n",
    "        Sj1=0\n",
    "        Sj2=0\n",
    "        Sj3=0\n",
    "        for j in range(2):\n",
    "            Sj1 += tau[j,i]*G[j,i]*x[j]\n",
    "            Sj2 += G[j,i]*x[j]\n",
    "    \n",
    "            Sk1=0\n",
    "            Sk2=0\n",
    "            Sk3=0\n",
    "            for k in range(2):\n",
    "                Sk1 += G[k,j]*x[k]\n",
    "                Sk2 += x[k]*tau[k,j]*G[k,j]\n",
    "                Sk3 += G[k,j]*x[k]\n",
    "            \n",
    "            Sj3 += ((x[j]*G[i,j])/(Sk1))*(tau[i,j]-(Sk2)/(Sk3))\n",
    "        \n",
    "        Gamma[i]=np.exp(Sj1/Sj2 + Sj3)\n",
    "    \n",
    "    return Gamma\n",
    "\n",
    "print(Gamma(T,x,alpha,A))"
   ]
  },
  {
   "cell_type": "code",
   "execution_count": 8,
   "metadata": {
    "collapsed": false
   },
   "outputs": [
    {
     "name": "stdout",
     "output_type": "stream",
     "text": [
      "P_sat 1 = 2329.5753519365844 Pa\n",
      "P_sat 2 = 5826.254353148996 Pa\n"
     ]
    }
   ],
   "source": [
    "# Teste do cálculo de Psat por Antoine\n",
    "\n",
    "print(\"P_sat 1 =\",P_antoine(T,1),\"Pa\")\n",
    "print(\"P_sat 2 =\",P_antoine(T,2),\"Pa\")"
   ]
  },
  {
   "cell_type": "markdown",
   "metadata": {},
   "source": [
    "## Cálculo da Pressão de Bolha da mistura (${P}_{\\mathrm{ bolha}}$)"
   ]
  },
  {
   "cell_type": "code",
   "execution_count": 9,
   "metadata": {
    "collapsed": false
   },
   "outputs": [
    {
     "name": "stdout",
     "output_type": "stream",
     "text": [
      "x 1 = 0.5\n",
      "x 2 = 0.5\n",
      "\n",
      "Gamma 1 = 2.06142336153\n",
      "Gamma 2 = 1.37180317791\n",
      "\n",
      "P_sat 1 = 2329.5753519365844 Pa\n",
      "P_sat 2 = 5826.254353148996 Pa\n",
      "\n",
      "P_bolha = 6397.35764495 Pa\n"
     ]
    }
   ],
   "source": [
    "# P_bolha = Somatório (x(i) * gamma(i)* P(i)_sat)\n",
    "\n",
    "def P_bolha(T,x):\n",
    "    \n",
    "    P = np.zeros(2)\n",
    "    \n",
    "    for i in range (2): # 2 componentes\n",
    "        \n",
    "        P[i] = x[i]*Gamma(T,x,alpha,A)[i]*P_antoine(T,i+1) # Para i=0 -> Componente=1 | Para i=1 -> Componente=2)\n",
    "#        print (i,P[i])\n",
    "    \n",
    "    return P[i]+P[i-1]\n",
    "\n",
    "# Teste da função\n",
    "\n",
    "T_teste = 293.15\n",
    "x_teste = [.5,.5]\n",
    "\n",
    "# Imprime dos valores para as condições de teste\n",
    "\n",
    "print(\"x 1 =\",x_teste[0])\n",
    "print(\"x 2 =\",x_teste[1])\n",
    "print(\"\")\n",
    "print(\"Gamma 1 =\",Gamma(T_teste,x_teste,alpha,A)[0])\n",
    "print(\"Gamma 2 =\",Gamma(T_teste,x_teste,alpha,A)[1])\n",
    "print(\"\")\n",
    "print(\"P_sat 1 =\",P_antoine(T_teste,1),\"Pa\")\n",
    "print(\"P_sat 2 =\",P_antoine(T_teste,2),\"Pa\")\n",
    "print(\"\")\n",
    "print(\"P_bolha =\",P_bolha(T_teste,x_teste),\"Pa\")"
   ]
  },
  {
   "cell_type": "markdown",
   "metadata": {},
   "source": [
    "## Cálculo da curva de ELV da mistura (${P}_{\\mathrm{ bolha}}$ e ${P}_{\\mathrm{ orvalho}}$ )\n"
   ]
  },
  {
   "cell_type": "code",
   "execution_count": 10,
   "metadata": {
    "collapsed": false
   },
   "outputs": [],
   "source": [
    "# Temperatura\n",
    "\n",
    "T_dado = 423.15 # Unidade K\n",
    "\n",
    "grid_x1       = np.zeros(101)\n",
    "grid_y1       = np.zeros(101)\n",
    "grid_P_bolha  = np.zeros(101)\n",
    "\n",
    "i = 0\n",
    "\n",
    "for x1 in np.linspace(0,1,101):\n",
    "    \n",
    "    grid_x1[i]      = x1\n",
    "    \n",
    "    x2              = 1 - x1\n",
    "\n",
    "    x_vetor         = [x1,x2]\n",
    "    \n",
    "    grid_P_bolha[i] = P_bolha(T_dado,x_vetor)\n",
    "    \n",
    "    grid_y1[i]      = x1*Gamma(T_dado,x_vetor,alpha,A)[0]*P_antoine(T_dado,1)/P_bolha(T_dado,x_vetor)\n",
    "    \n",
    "#    print(i,x1,u[i],grid_P_bolha[i])\n",
    "    \n",
    "    i = i+1\n",
    "    \n",
    "#print(grid_x1,grid_P_bolha,grid_y1)\n",
    "\n",
    "\n"
   ]
  },
  {
   "cell_type": "code",
   "execution_count": 11,
   "metadata": {
    "collapsed": false
   },
   "outputs": [
    {
     "data": {
      "image/png": "[encoded data removed]",
      "text/plain": [
       "<matplotlib.figure.Figure at 0x7b7c748>"
      ]
     },
     "metadata": {},
     "output_type": "display_data"
    }
   ],
   "source": [
    "## Plotando o gráfico \n",
    "\n",
    "import matplotlib.pyplot as plt\n",
    "%matplotlib inline\n",
    "\n",
    "#ativar uma figura 1\n",
    "plt.figure(1)\n",
    "\n",
    "#legend=[] #iniciador do objeto legenda\n",
    "\n",
    "#plt.subplot(121) #activate a subplot\n",
    "plt.title('Gráfico Pxy, Água-Etanol')\n",
    "plt.xlabel('x1,y1 (Água)')\n",
    "plt.ylabel('Pressão (Pa)')\n",
    "plt.xlim([0,1])\n",
    "#traçar\n",
    "\n",
    "plt.plot(grid_x1,grid_P_bolha, label='P_bolha') #label é a etiqueta que será usada na legenda\n",
    "plt.plot(grid_y1,grid_P_bolha, label='P_orvalho') #label é a etiqueta que será usada na legenda\n",
    "\n",
    "plt.legend(loc=1)\n",
    "\n",
    "plt.show()"
   ]
  },
  {
   "cell_type": "markdown",
   "metadata": {},
   "source": [
    "## Cálculo de Propriedades Termodinâmicas de Misturas\n",
    "\n",
    "Nesta parte do trabalho serão calculadas as propriedades em excesso: entalpia, energia de Gibbs e entropia. Ao final será feita uma comparação com dados experimentais\n",
    "\n",
    "Propriedade em excesso é a diferença entre o valor de uma propriedade para uma solução real e o valor da mesma propriedade para uma solução ideal, nas mesmas condições de T, P e x\n",
    "\n",
    "$\\frac{G^e}{RT} = \\frac{H^e}{RT} - \\frac{S^e}{R}$\n",
    "\n",
    "$\\frac {Ge}{RT} = somatorio(xi.lnGAMAi)$ (lnGAMAi é a propriedade parcial molar de Ge/RT)\n",
    "\n",
    "Para P e x constantes: \n",
    "\n",
    "${H^e} = - {RT}{^2} \\frac{d(G^e/RT)}{dT} $\n",
    "\n",
    "${S^e} =\\frac{H^e-G^e}{T} $\n"
   ]
  },
  {
   "cell_type": "code",
   "execution_count": 12,
   "metadata": {
    "collapsed": false
   },
   "outputs": [],
   "source": [
    "## Propriedades de Excesso\n",
    "\n",
    "\n",
    "T_dado = 323.15 # Unidade K\n",
    "\n",
    "# Constante de gás\n",
    "R = 8.3144598 #J.mol^−1.K^−1\n",
    "\n",
    "u=np.zeros(101)\n",
    "G_exc=np.zeros(101)\n",
    "\n",
    "i = 0\n",
    "for x1 in np.linspace(0,1,101):\n",
    "        \n",
    "    u[i] = x1\n",
    "    x2 = 1 - x1\n",
    "    x_vetor = [x1,x2]\n",
    "    \n",
    "    \n",
    "    Gamma_vetor=Gamma(T_dado,x_vetor,alpha,A)\n",
    "    \n",
    "    Gamma1=Gamma_vetor[0]\n",
    "    Gamma2=Gamma_vetor[1]\n",
    "    \n",
    "    #print(Gamma1,Gamma2)\n",
    "\n",
    "    G_exc[i]=R*T_dado*(x1*np.log(Gamma1)+x2*np.log(Gamma2))\n",
    "             \n",
    "   \n",
    "    i = i+1\n",
    "\n",
    "\n",
    "#print(G_exc)\n"
   ]
  },
  {
   "cell_type": "code",
   "execution_count": 13,
   "metadata": {
    "collapsed": false
   },
   "outputs": [
    {
     "data": {
      "image/png": "[encoded data removed]",
      "text/plain": [
       "<matplotlib.figure.Figure at 0x86bce10>"
      ]
     },
     "metadata": {},
     "output_type": "display_data"
    }
   ],
   "source": [
    "#plt.figure(1)\n",
    "\n",
    "#legend=[] #iniciador do objeto legenda\n",
    "\n",
    "plt.xlabel('x1 (Etanol)')\n",
    "\n",
    "\n",
    "#traçar\n",
    "\n",
    "plt.plot(1-u,G_exc, label='G_excesso') #label é a etiqueta que será usada na legenda\n",
    "plt.ylabel('J/mol)')\n",
    "plt.legend(loc=1)\n",
    "\n",
    "plt.show()"
   ]
  },
  {
   "cell_type": "code",
   "execution_count": null,
   "metadata": {
    "collapsed": true
   },
   "outputs": [],
   "source": []
  }
 ],
 "metadata": {
  "anaconda-cloud": {},
  "kernelspec": {
   "display_name": "Python [conda root]",
   "language": "python",
   "name": "conda-root-py"
  },
  "language_info": {
   "codemirror_mode": {
    "name": "ipython",
    "version": 3
   },
   "file_extension": ".py",
   "mimetype": "text/x-python",
   "name": "python",
   "nbconvert_exporter": "python",
   "pygments_lexer": "ipython3",
   "version": "3.5.2"
  }
 },
 "nbformat": 4,
 "nbformat_minor": 1
}
