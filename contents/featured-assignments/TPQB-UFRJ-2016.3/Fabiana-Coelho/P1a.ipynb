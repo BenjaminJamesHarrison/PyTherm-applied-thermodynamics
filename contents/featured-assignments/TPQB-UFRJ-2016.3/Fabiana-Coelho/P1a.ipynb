{
 "cells": [
  {
   "cell_type": "markdown",
   "metadata": {},
   "source": [
    "Para resolução do trabalho, foi escolhida a mistura água e acetona, a equação de estado SRK e o modelo NRTL para o cálculo da energia de Gibbs de excesso. Esse arquivo foca na primeira questão da primeira parte do trabalho, que visa o uso da equação de estado para os cálculos com componentes puros.\n",
    "\n",
    "I)\tEquilíbrio líquido-vapor:\n",
    "\n",
    "a.\tCálculo da pressão de saturação dos dois componentes puros da mistura água e acetona.\n",
    "\n",
    "b.\tComparação entre os valores obtidos pela equação de estado e pela equação de Antoine.\n",
    "\n",
    "c.\tComparação entre os valores obtidos e dados experimentais."
   ]
  },
  {
   "cell_type": "code",
   "execution_count": 1,
   "metadata": {
    "collapsed": false
   },
   "outputs": [],
   "source": [
    "import numpy as np\n",
    "import numpy.matlib as npmatlib\n",
    "import scipy as sci\n",
    "import matplotlib.pyplot as plt\n",
    "%matplotlib inline"
   ]
  },
  {
   "cell_type": "code",
   "execution_count": 2,
   "metadata": {
    "collapsed": true
   },
   "outputs": [],
   "source": [
    "from scipy import optimize as optimize"
   ]
  },
  {
   "cell_type": "markdown",
   "metadata": {},
   "source": [
    "# I) Equilíbrio Líquido Vapor\n",
    "## a) Cálculo da Pressão de Saturação para os componentes puros: acetona e água\n",
    "\n",
    "### Equação de Estado Soave-Redlich-Kwong (1972)\n",
    "A equação SRK foi retirada da Apostila de Termodinâmica da Engenharia Química - EQE359 (Tavares, Medeiros e Segtovich).\n",
    "\n",
    "$${P} = \\frac{RT}{\\bar{V}-b} - \\frac{a(T)}{(\\bar{V}+\\varepsilon.b)(\\bar{V}+\\sigma.b)} $$\n",
    "\n",
    "Para SRK, os coeficientes tem os seguintes valores:\n",
    "- $\\sigma = 1$;\n",
    "- $\\varepsilon = 0$;\n",
    "- $\\Omega = 0,08664$;\n",
    "- $\\Psi = 0,42748$\n",
    "\n",
    "Portanto, a equação pode ser simplificada, substituindo-se $\\varepsilon$ e $\\sigma$:\n",
    "\n",
    "$${P} = \\frac{RT}{\\bar{V}-b} - \\frac{a(T)}{\\bar{V}(\\bar{V}+b)} $$\n",
    "\n",
    "${a(T)} = {a} = \\Psi\\frac{\\alpha(Tr)R^2Tc^2}{Pc}$, no código: a(T) será chamado de a\n",
    "\n",
    "${b} = \\Omega\\frac{RTc}{Pc}$\n",
    "\n",
    "${\\alpha(Tr)} = alfaSRK = [1+(0,480+1,574w-0,176w^2)(1-Tr^\\frac{1}{2})]^2$, no código: alfa(Tr) será chamado alfa\n",
    "\n",
    "${Tr} = \\frac{T}{Tc}$\n",
    "\n",
    "onde o w é o fator acêntrico. Os valores de $\\sigma$, $\\varepsilon$, $\\Omega$ e $\\Psi$ utilizados foram obtidos na Tabela 3.1 da referida apostila. Os valores de Pc e Tc e de R para acetona e água foram obtidos nos apêndices B e A, respectivamente, no livro de Van Ness."
   ]
  },
  {
   "cell_type": "markdown",
   "metadata": {},
   "source": [
    "### Constantes a serem usadas:"
   ]
  },
  {
   "cell_type": "code",
   "execution_count": 3,
   "metadata": {
    "collapsed": true
   },
   "outputs": [],
   "source": [
    "#Valor para a constante universal dos gases - Van Ness, Tabela A.2, pag. 506\n",
    "R = 8.3144598 #J.mol^-1.K^-1\n",
    "\n",
    "#Valores para acetona pura: Tc, Pc e w - Van Ness, Tabela B.1, pag. 508\n",
    "Tc_ac = 508.2 #K\n",
    "Pc_ac = 47.01*10**5 #Pa\n",
    "w_ac = 0.307\n",
    "\n",
    "#Valores para água pura: Tc, Pc e w - Van Ness, Tabela B.1, pag. 509.\n",
    "#O índice \"wat\" foi escolhido para evitar confusão com o índice \"ac\".\n",
    "Tc_wat = 647.1 #K\n",
    "Pc_wat = 220.55*10**5 #Pa\n",
    "w_wat = 0.345\n",
    "\n",
    "#Valores das constantes da equação SRK - Tabela 3.1, pag. 37.\n",
    "sigma = 1\n",
    "omega = 0.08664\n",
    "psi = 0.42748\n",
    "ep = 0\n",
    "\n",
    "#A Temperatura de ebulição a 1 bar da acetona é 56,1 ºC\n",
    "#Referência: GESTIS Substance Database. \n",
    "P_ac = 1*10**5 #Pa\n",
    "T_ac = 56+273.15 #K\n",
    "\n",
    "#A Temperatura de ebulição a 1 atm da água é aproximadamente 100,0 ºC.\n",
    "P_wat = 1*10**5 #Pa\n",
    "T_wat = 100+273.15 #K"
   ]
  },
  {
   "cell_type": "markdown",
   "metadata": {},
   "source": [
    "### Cálculo dos volumes de líquido e vapor a uma dada pressão:\n",
    "\n",
    "É preciso isolar o volume e igualar a equação a zero, de forma a usar o numpy.roots e calcular o que é necessário a partir dos coeficientes da equação.\n",
    "\n",
    "$${P}{\\bar{V}^{3}}+[({\\sigma}-1).{P}.{b}-{R}.{T}]{\\bar{V}^{2}}-[{\\sigma}.{P}.{b}^{2}+({\\sigma}.{R}.{T}.{b})-{a}]{\\bar{V}}-[{a}.{b}] = 0$$\n",
    "\n",
    "Como $\\sigma = 1$:\n",
    "$${P}{\\bar{V}^{3}}-({R}.{T}){\\bar{V}^{2}}-[{P}.{b}^{2}+({R}.{T}.{b})-{a}]{\\bar{V}}-[{a}.{b}] = 0$$\n",
    "\n",
    "${c3} = {P}$\n",
    "\n",
    "${c2} = -{R}.{T}$\n",
    "\n",
    "${c1} = {a}-{P}.{b}^{2}-({R}.{T}.{b})$\n",
    "\n",
    "${c0} = -({a}.{b})$\n",
    "\n",
    "A menor raiz será a de líquido, enquanto a maior será de gás."
   ]
  },
  {
   "cell_type": "code",
   "execution_count": 4,
   "metadata": {
    "collapsed": true
   },
   "outputs": [],
   "source": [
    "def polysolverfilter(coefs,b):\n",
    "    ans = np.roots(coefs)\n",
    "    ans = ans[np.where(ans>b)]\n",
    "    return ans\n",
    "\n",
    "#Essa função filtra o resultado dos polinômios calculados em V, de forma que valores não reais de V fiquem de fora\n",
    "#da resposta, evitando resultados não coerentes."
   ]
  },
  {
   "cell_type": "code",
   "execution_count": 5,
   "metadata": {
    "collapsed": false
   },
   "outputs": [
    {
     "name": "stdout",
     "output_type": "stream",
     "text": [
      "- Acetona:\n",
      "Volume de líquido de acetona =  9.88292496993e-05\n",
      "Volume de vapor de acetona =  0.0265929160556\n",
      " \n",
      "- Água:\n",
      "Volume de líquido de água =  2.53706913208e-05\n",
      "Volume de vapor de águaa =  0.0307660095935\n"
     ]
    }
   ],
   "source": [
    "def V_EOS (T,P,Tc,Pc,w):  \n",
    "    b = omega*R*Tc/Pc\n",
    "    Tr = T/Tc\n",
    "    alfa = (1+(0.48+(1.574*w)-(0.176*(w**2)))*(1-(Tr**(1/2))))**2\n",
    "    a = psi*(alfa*(R**2)*(Tc**2)/Pc)\n",
    "    c3 = P\n",
    "    c2 = -(R*T)\n",
    "    c1 = (a)-(P*(b**2))-(R*T*b)\n",
    "    c0 = -(a*b)\n",
    "    V = np.roots([c3,c2,c1,c0])\n",
    "    \n",
    "    return V\n",
    "\n",
    "#TESTE DA FUNÇÃO:\n",
    "V_ac = V_EOS(T_ac,P_ac,Tc_ac,Pc_ac,w_ac)\n",
    "Vl_ac = min(V_ac)\n",
    "Vv_ac = max(V_ac)\n",
    "print(\"- Acetona:\")\n",
    "print(\"Volume de líquido de acetona = \",Vl_ac,)\n",
    "print(\"Volume de vapor de acetona = \",Vv_ac,)    \n",
    "print(\" \")\n",
    "V_wat = V_EOS(T_wat,P_wat,Tc_wat,Pc_wat,w_wat)\n",
    "Vl_wat = min(V_wat)\n",
    "Vv_wat = max(V_wat)\n",
    "print(\"- Água:\")\n",
    "print(\"Volume de líquido de água = \",Vl_wat,)\n",
    "print(\"Volume de vapor de águaa = \",Vv_wat,)   "
   ]
  },
  {
   "cell_type": "markdown",
   "metadata": {},
   "source": [
    "### Cálculo da Energia de Gibbs Residual\n",
    "\n",
    "O cálculo da energia de Gibbs residual e dos coeficientes de fugacidade ($\\phi$) permitem o cálculo da pressão de saturação posteriormente. \n",
    "\n",
    "$${\\bar{G}^{R}} = R.T.[Z-1-ln(Z-B)-(\\frac{A}{B}).ln(\\frac{Z+B}{Z})]$$\n",
    "\n",
    "Substituindo \n",
    "\n",
    "${Z} = \\frac{P.\\bar{V}}{R.T}$\n",
    "\n",
    "${B} = \\frac{P.b}{R.T}$\n",
    "\n",
    "${A} = \\frac{P.a}{R^2.T^.2}$\n",
    "\n",
    "Obtem-se a equação que será usada para o cálculo da energia de Gibbs residual para líquido e vapor e de sua variação:\n",
    "\n",
    "$${\\bar{G}^{R}} = R.T.\\left[\\frac{P.\\bar{V}}{R.T}-1-ln\\left(\\frac{P.\\bar{V}}{R.T}-\\frac{P.b}{R.T}\\right)-\\left(\\frac{a}{b.R.T}\\right).ln\\left(\\frac{\\frac{P.\\bar{V}}{R.T}+\\frac{P.b}{R.T}}{\\frac{P.\\bar{V}}{R.T}}\\right)\\right]$$\n",
    "\n",
    "Em um equilíbrio líquido e vapor é importante notar que:\n",
    "\n",
    "$${\\phi_i}^{L} = {\\phi_i}^{V}$$\n",
    "\n",
    "Como trata-se do equilíbrio líquido-vapor em um substância pura e utiliza-se equação de estado para o cálculo do G:\n",
    "\n",
    "${\\phi_i} = exp [\\frac{\\bar{G^R}}{RT}]$\n",
    "\n",
    "E, pode-se afirmar que:\n",
    "\n",
    "$$ {\\bar{G}^{RL}} = {\\bar{G}^{RV}}$$\n",
    "\n",
    "$$ {RESÍDUO} = {\\Delta\\bar{G}^{R}}={\\bar{G}^{RL}} - {\\bar{G}^{RV}} = 0$$\n",
    "\n",
    "A pressão de saturação é a pressão que resolve a igualdade de fugacidades na fase líquida e vapor. Portanto, o delta G será usado como função resíduo para determinação da pressão de saturação.\n",
    "\n",
    "### Cálculo de Pressão de saturação:\n",
    "\n",
    "$${P} = \\frac{RT}{\\bar{V}-b} - \\frac{a}{\\bar{V}(\\bar{V}+b)} = \\frac{RT}{\\bar{V}-b} - {a)}.\\left[\\left(\\frac{\\frac{1}{b}}{\\bar{V}}\\right)-\\left(\\frac{\\frac{1}{b}}{(\\bar{V}+b)}\\right)\\right]$$\n",
    "\n",
    "Para determinar a pressão de saturação, será usado o método da bissetriz. Portanto, é preciso achar os valores máximo e mínimo para se montar o intervalo de pressão, a partir da equação SRK. Dessa forma, é preciso derivar a pressão em a função do volume a temperatura constante.\n",
    "\n",
    "$\\left(\\frac{\\partial P}{ \\partial \\bar{V}}\\right)_{T}= -\\frac{RT}{(\\bar{V}-{b})^2}+\\left[\\frac{2a(\\bar{V}+{\\frac{b}{2}})}{\\bar{V^2}({\\bar{V+b})^2}}\\right]=0$\n",
    "\n",
    "$-RT\\bar{V}^4+(2a-2bRT).\\bar{V}^3-(RTb^2+3ab).\\bar{V}^2+ab^3=0$\n",
    "\n",
    "A equação acima será usada para determinar os limites inferior e superior da pressão, para construção do gráfico."
   ]
  },
  {
   "cell_type": "markdown",
   "metadata": {},
   "source": [
    "#### 1) Função G_res:"
   ]
  },
  {
   "cell_type": "code",
   "execution_count": 6,
   "metadata": {
    "collapsed": false
   },
   "outputs": [
    {
     "name": "stdout",
     "output_type": "stream",
     "text": [
      "- Acetona:\n",
      "Gibbs residual da fase líquida para acetona =  -97.2618424192 J/mol\n",
      "Gibbs residual da fase vapor para acetona =  -76.4336334977 J/mol\n",
      " \n",
      "- Água:\n",
      "Gibbs residual da fase líquida para água =  -270.085459562 J/mol\n",
      "Gibbs residual da fase vapor para água =  -25.8410416865 J/mol\n"
     ]
    }
   ],
   "source": [
    "def G_res(T,P,V,Tc,Pc,w):    \n",
    "    b = omega*R*Tc/Pc\n",
    "    Tr = T/Tc\n",
    "    alfa = (1+(0.48+(1.574*w)-(0.176*(w**2)))*(1-(Tr**(1/2))))**2\n",
    "    a = psi*(alfa*(R**2)*(Tc**2)/Pc)\n",
    "    G_res = R*T*(((P*V)/(R*T))-1-np.log(((P*V)/(R*T))-(b*P)/(R*T))-(a/(b*R*T))*np.log((((P*V)/(R*T))+ (b*P)/(R*T))/((P*V)/(R*T))))\n",
    "    return G_res\n",
    "\n",
    "#TESTE PARA GIBBS:\n",
    "Gl_res_ac = G_res (T_ac,P_ac,Vl_ac,Tc_ac,Pc_ac,w_ac)\n",
    "Gv_res_ac = G_res (T_ac,P_ac,Vv_ac,Tc_ac,Pc_ac,w_ac)\n",
    "Gl_res_wat = G_res (T_wat,P_wat,Vl_wat,Tc_wat,Pc_wat,w_wat)\n",
    "Gv_res_wat = G_res (T_wat,P_wat,Vv_wat,Tc_wat,Pc_wat,w_wat)\n",
    "\n",
    "print(\"- Acetona:\")\n",
    "print(\"Gibbs residual da fase líquida para acetona = \",Gl_res_ac, 'J/mol')\n",
    "print(\"Gibbs residual da fase vapor para acetona = \",Gv_res_ac,'J/mol')\n",
    "print(\" \")\n",
    "print(\"- Água:\")\n",
    "print(\"Gibbs residual da fase líquida para água = \",Gl_res_wat,'J/mol')\n",
    "print(\"Gibbs residual da fase vapor para água = \",Gv_res_wat,'J/mol')"
   ]
  },
  {
   "cell_type": "markdown",
   "metadata": {},
   "source": [
    "#### 2) Função $\\Delta_{Gres}$:"
   ]
  },
  {
   "cell_type": "code",
   "execution_count": 7,
   "metadata": {
    "collapsed": false
   },
   "outputs": [
    {
     "name": "stdout",
     "output_type": "stream",
     "text": [
      "Delta G residual acetona:  -20.8282089215 J/mol\n",
      "Delta G residual água:  -244.244417875 J/mol\n"
     ]
    }
   ],
   "source": [
    "#Critério de equilíbrio Gl_res = Gv_res :. delta_G_res = 0 :.\n",
    "#delta_G_res < tolerância\n",
    "\n",
    "def delta_G_res(T,P,Pc,Tc,w):\n",
    "    b = omega*R*Tc/Pc\n",
    "    Tr = T/Tc\n",
    "    alfa = (1+(0.48+(1.574*w)-(0.176*(w**2)))*(1-(Tr**(1/2))))**2\n",
    "    a = psi*(alfa*(R**2)*(Tc**2)/Pc)\n",
    "    \n",
    "    V = V_EOS(T,P,Tc,Pc,w)    \n",
    "    Vl = min(V) \n",
    "    Vv = max(V)\n",
    "   \n",
    "    Gl_res = G_res(T,P,Vl,Tc,Pc,w)\n",
    "    Gv_res = G_res(T,P,Vv,Tc,Pc,w)\n",
    "    delta_G_res = Gl_res - Gv_res\n",
    "    \n",
    "    return delta_G_res\n",
    "\n",
    "#TESTE DO DELTA G:\n",
    "delta_G_res_ac = delta_G_res(T_ac,P_ac,Pc_ac,Tc_ac,w_ac)\n",
    "delta_G_res_wat = delta_G_res(T_wat,P_wat,Pc_wat,Tc_wat,w_wat)\n",
    "\n",
    "print(\"Delta G residual acetona: \",delta_G_res_ac,'J/mol')\n",
    "print(\"Delta G residual água: \",delta_G_res_wat,'J/mol')"
   ]
  },
  {
   "cell_type": "markdown",
   "metadata": {},
   "source": [
    "#### 3) Função para cálculo dos limites de P:"
   ]
  },
  {
   "cell_type": "code",
   "execution_count": 8,
   "metadata": {
    "collapsed": false
   },
   "outputs": [
    {
     "name": "stdout",
     "output_type": "stream",
     "text": [
      "- Acetona:\n",
      "Vinfi acetona: 0.000127710866838\n",
      "Vsupi acetona: 0.00136271767564\n",
      "Pinfi acetona: 1e-09\n",
      "Psupi acetona: 827511.310692\n",
      " \n",
      "- Água:\n",
      "Vinfi água: 3.23069255616e-05\n",
      "Vsupi água: 0.000476919630992\n",
      "Pinfi água: 1e-09\n",
      "Psupi água: 2828202.28114\n"
     ]
    }
   ],
   "source": [
    "#cálculo de cada coeficiente na expressão, igualando dP/dV a 0\n",
    "def Plimites(T,Pc,Tc,w):\n",
    "    b = omega*R*Tc/Pc\n",
    "    Tr = T/Tc\n",
    "    alfa = (1+(0.48+(1.574*w)-(0.176*(w**2)))*(1-(Tr**(1/2))))**2\n",
    "    a = psi*(alfa*(R**2)*(Tc**2)/Pc)\n",
    "    \n",
    "    A = (R*T)\n",
    "    B = -(2*a-(2*b*R*T))\n",
    "    C = ((R*T*(b**2))+(3*a*b))\n",
    "    D = 0\n",
    "    E = -(a*(b**3))\n",
    "    limites = np.roots([A,B,C,D,E])\n",
    "    limites = limites[np.where( limites > b)] #Se V < b :. valores negativos ou não reais para P\n",
    "#Serão achados os volumes e esses darão a pressão máxima (P_sup_limite) e mínima (P_min_limite)\n",
    "#Podem haver valores de plateau não físicos, então é preciso retirá-los com uma função \"where\"\n",
    "    \n",
    "    Vinfi = min(limites)\n",
    "    Vsupi = max(limites)\n",
    "    Psup = (R*T/(Vsupi-b))-a/(Vsupi*(Vsupi-b))\n",
    "    Psupi=Psup*.999 #para a nova pressão a ser analisada\n",
    "    \n",
    "    Pinf = (R*T/(Vinfi-b))-a/(Vinfi*(Vinfi-b))\n",
    "#A pressão ser negativa ou igual a zero não pode, então, é preciso colocar um comando \"if\" com uma correção\n",
    "    if Pinf > 0:\n",
    "        Pinfi = Pinf*1.001\n",
    "    else:\n",
    "        Pinfi = 0.000000001\n",
    "    return [Vinfi, Vsupi, Pinfi, Psupi]\n",
    "\n",
    "#TESTE PARA o Plimites\n",
    "[Vinfi_ac,Vsupi_ac,Pinfi_ac,Psupi_ac]=Plimites(T_ac,Pc_ac,Tc_ac,w_ac)\n",
    "[Vinfi_wat,Vsupi_wat,Pinfi_wat,Psupi_wat]=Plimites(T_wat,Pc_wat,Tc_wat,w_wat)\n",
    "print(\"- Acetona:\")\n",
    "print(\"Vinfi acetona:\", Vinfi_ac)\n",
    "print(\"Vsupi acetona:\", Vsupi_ac)\n",
    "print(\"Pinfi acetona:\", Pinfi_ac)\n",
    "print(\"Psupi acetona:\", Psupi_ac)\n",
    "print(\" \")\n",
    "print(\"- Água:\")\n",
    "print(\"Vinfi água:\", Vinfi_wat)\n",
    "print(\"Vsupi água:\", Vsupi_wat)\n",
    "print(\"Pinfi água:\", Pinfi_wat)\n",
    "print(\"Psupi água:\", Psupi_wat)"
   ]
  },
  {
   "cell_type": "markdown",
   "metadata": {},
   "source": [
    "#### 3) Cálculo da Pressão de Saturação pelo Método da Bissetriz"
   ]
  },
  {
   "cell_type": "code",
   "execution_count": 9,
   "metadata": {
    "collapsed": false
   },
   "outputs": [
    {
     "name": "stdout",
     "output_type": "stream",
     "text": [
      "-20.8282089215\n",
      "-244.244417875\n"
     ]
    }
   ],
   "source": [
    "#O método da bissetriz é função de uma variável. Portanto, as variáveis da função delta_G_res tem que ser definidas,\n",
    "#menos o P que será determinado pelo método.\n",
    "\n",
    "def delta_G_res_bis_ac(P):\n",
    "    return delta_G_res(T_ac,P,Pc_ac,Tc_ac,w_ac)\n",
    "\n",
    "def delta_G_res_bis_wat(P):\n",
    "    return delta_G_res(T_wat,P,Pc_wat,Tc_wat,w_wat)\n",
    "\n",
    "print(delta_G_res_bis_ac(P_ac))\n",
    "print(delta_G_res_bis_wat(P_wat))"
   ]
  },
  {
   "cell_type": "code",
   "execution_count": 10,
   "metadata": {
    "collapsed": false
   },
   "outputs": [
    {
     "name": "stdout",
     "output_type": "stream",
     "text": [
      "Pressão de Saturação da acetona = [ 99217.03949626946 ] Pa\n",
      "Pressão de Saturação da água = [ 92364.76448057179 ] Pa\n"
     ]
    }
   ],
   "source": [
    "#TESTE para Psat:\n",
    "Psat_ac = optimize.bisect(delta_G_res_bis_ac, Pinfi_ac, Psupi_ac, xtol=1.0e-9, rtol=1.0e-9, maxiter=100, full_output=True, disp=True)\n",
    "print(\"Pressão de Saturação da acetona = [\",str (Psat_ac[0]),\"] Pa\")\n",
    "\n",
    "Psat_wat = optimize.bisect(delta_G_res_bis_wat, Pinfi_wat, Psupi_wat, xtol=1.0e-9, rtol=1.0e-9, maxiter=100, full_output=True, disp=True)\n",
    "print(\"Pressão de Saturação da água = [\",str (Psat_wat[0]),\"] Pa\")"
   ]
  },
  {
   "cell_type": "code",
   "execution_count": 11,
   "metadata": {
    "collapsed": false
   },
   "outputs": [
    {
     "name": "stdout",
     "output_type": "stream",
     "text": [
      "- Acetona:\n",
      "      converged: True\n",
      "           flag: 'converged'\n",
      " function_calls: 35\n",
      "     iterations: 33\n",
      "           root: 99217.03949626946\n",
      "\n",
      "- Água:\n",
      "      converged: True\n",
      "           flag: 'converged'\n",
      " function_calls: 37\n",
      "     iterations: 35\n",
      "           root: 92364.76448057179\n"
     ]
    }
   ],
   "source": [
    "#TESTE\n",
    "print(\"- Acetona:\")\n",
    "print(Psat_ac[1])\n",
    "print(\"\")\n",
    "print(\"- Água:\")\n",
    "print(Psat_wat[1])"
   ]
  },
  {
   "cell_type": "markdown",
   "metadata": {},
   "source": [
    "#### 4) Pressões de saturação da água e acetona:"
   ]
  },
  {
   "cell_type": "code",
   "execution_count": 21,
   "metadata": {
    "collapsed": false
   },
   "outputs": [
    {
     "name": "stdout",
     "output_type": "stream",
     "text": [
      "Psat da acetona: 99217.03955647894  Pa (329,15 K)\n",
      "Psat da água: 92364.76436739347  Pa (373,15 K)\n",
      " \n",
      "Psat da acetona: 0.9921703955647895  bar (329,15 K)\n",
      "Psat da água: 0.9236476436739347  bar (373,15 K)\n"
     ]
    },
    {
     "name": "stderr",
     "output_type": "stream",
     "text": [
      "C:\\Users\\Fabiana Coelho\\Anaconda3\\lib\\site-packages\\scipy\\optimize\\zeros.py:249: ComplexWarning: Casting complex values to real discards the imaginary part\n",
      "  r = _zeros._bisect(f,a,b,xtol,rtol,maxiter,args,full_output,disp)\n"
     ]
    }
   ],
   "source": [
    "def calc_Psat(T_in,Pc,Tc,w):\n",
    "    Tdado = T_in\n",
    "    \n",
    "    def delta_G_res_Tdado(P):\n",
    "        return delta_G_res(Tdado,P,Pc,Tc,w)\n",
    "    \n",
    "    [_,_,Pinfi,Psupi] = Plimites(Tdado,Pc,Tc,w)\n",
    "    Pans = optimize.bisect(delta_G_res_Tdado, Pinfi, Psupi*5, xtol=1.0e-9, rtol=1.0e-9, maxiter=100, full_output=False, disp=True)\n",
    "       \n",
    "    return Pans, Pinfi, Psupi\n",
    "\n",
    "calc_Psat_ac = calc_Psat(T_ac,Pc_ac,Tc_ac,w_ac)[0]\n",
    "calc_Psat_wat = calc_Psat(T_wat,Pc_wat,Tc_wat,w_wat)[0]\n",
    "\n",
    "print(\"Psat da acetona:\",calc_Psat_ac,\" Pa (329,15 K)\")\n",
    "print(\"Psat da água:\",calc_Psat_wat,\" Pa (373,15 K)\")\n",
    "print(\" \")\n",
    "print(\"Psat da acetona:\",calc_Psat_ac*10**(-5),\" bar (329,15 K)\")\n",
    "print(\"Psat da água:\",calc_Psat_wat*10**(-5),\" bar (373,15 K)\")"
   ]
  },
  {
   "cell_type": "markdown",
   "metadata": {},
   "source": [
    "### Comparação dos dados:\n",
    "5.1) Montagem do gráfico de Pressão de saturação por temperatura para acetona.\n",
    "\n",
    "5.2) Plotar os dados experimentais encontrados no banco de dados da Dortmund Data Bank (DDBST).\n",
    "\n",
    "5.3) Plotar ainda a pressão de acordo com a Equação de Antoine, através dos coeficientes disponíveis na DDBST.\n",
    "\n",
    "### Equação de Antoine \n",
    "A equação de Antoine foi retirada da Apostila de Termodinâmica da Engenharia Química - EQE359 (Tavares, Medeiros e Segtovich).\n",
    "\n",
    "$$ln{P_{sat}} = A - \\frac{B}{T+C}$$\n",
    "\n",
    "Os coeficientes A, B e C e suas relações com a temperatura estão dentro do código de Antoine para cada cálculo.\n",
    "\n"
   ]
  },
  {
   "cell_type": "markdown",
   "metadata": {},
   "source": [
    "### Acetona!"
   ]
  },
  {
   "cell_type": "code",
   "execution_count": 22,
   "metadata": {
    "collapsed": false
   },
   "outputs": [
    {
     "name": "stderr",
     "output_type": "stream",
     "text": [
      "C:\\Users\\Fabiana Coelho\\Anaconda3\\lib\\site-packages\\scipy\\optimize\\zeros.py:249: ComplexWarning: Casting complex values to real discards the imaginary part\n",
      "  r = _zeros._bisect(f,a,b,xtol,rtol,maxiter,args,full_output,disp)\n"
     ]
    }
   ],
   "source": [
    "T=200\n",
    "Taxis=np.linspace(T,Tc_ac*0.9,100) #Seleção dos valores de T\n",
    "Paxis=np.zeros(100)  #Criação de um vetor de zeros para P\n",
    "Paxis[0]=calc_Psat(Taxis[0],Pc_ac,Tc_ac,w_ac)[0]  #Cálculo da Psat\n",
    "\n",
    "for i in range(100):\n",
    "    Paxis[i]=calc_Psat(Taxis[i],Pc_ac,Tc_ac,w_ac)[0]"
   ]
  },
  {
   "cell_type": "code",
   "execution_count": 25,
   "metadata": {
    "collapsed": false
   },
   "outputs": [],
   "source": [
    "#Dados retirados da Tabela B.2 do Van Ness.\n",
    "def Pantoine_acetona(T):\n",
    "    A = 14.3145\n",
    "    B = 2756.22\n",
    "    C = 228.06\n",
    "    return (np.exp(A - B/(T-273 + C)))*1000\n",
    "#Temperaturas entre -26ºC e 77ºC."
   ]
  },
  {
   "cell_type": "code",
   "execution_count": 26,
   "metadata": {
    "collapsed": false
   },
   "outputs": [
    {
     "data": {
      "image/png": "[encoded data removed]",
      "text/plain": [
       "<matplotlib.figure.Figure at 0x1a0284fdac8>"
      ]
     },
     "metadata": {},
     "output_type": "display_data"
    },
    {
     "data": {
      "image/png": "[encoded data removed]",
      "text/plain": [
       "<matplotlib.figure.Figure at 0x1a0283739e8>"
      ]
     },
     "metadata": {},
     "output_type": "display_data"
    }
   ],
   "source": [
    "dadosexp = np.loadtxt('exp data vapor pressure acetone.txt', dtype='float', comments='#', converters=None, skiprows=0, usecols=None, unpack=False, ndmin=0)\n",
    "T_exp = dadosexp[:,0]\n",
    "P_exp = dadosexp[:,1]*1000\n",
    "\n",
    "plt.figure(1)\n",
    "\n",
    "legend=[]\n",
    "plt.title('Pressão de saturação, acetona (Escala log)')\n",
    "plt.semilogy(1)\n",
    "plt.scatter(T_exp,P_exp, label='Dados experimentais DDBST')\n",
    "plt.plot(Taxis,Paxis, label='Modelo SRK')\n",
    "\n",
    "plt.xlabel('T (K)')\n",
    "plt.ylabel('P (Pa)')\n",
    "plt.xlim([200,Tc_ac*1.2]) \n",
    "plt.ylim([1e3,1e9]) \n",
    "      \n",
    "Pantoine_acetonaaxis = [ Pantoine_acetona(Taxis[i]) for i in range(100) ]\n",
    "plt.plot(Taxis,Pantoine_acetonaaxis, label='Antoine')\n",
    "plt.legend(loc=0)\n",
    "\n",
    "plt.figure(2)\n",
    "\n",
    "legend=[]\n",
    "plt.title('Pressão de saturação, acetona')\n",
    "plt.scatter(T_exp,P_exp, label='Dados experimentais DDBST')\n",
    "plt.plot(Taxis,Paxis, label='Modelo SRK')\n",
    "\n",
    "plt.xlim([200,Tc_ac*1.2]) \n",
    "plt.ylim([0,Pc_ac]) \n",
    "      \n",
    "Pantoine_acetonaaxis = [ Pantoine_acetona(Taxis[i]) for i in range(100) ]\n",
    "plt.plot(Taxis,Pantoine_acetonaaxis, label='Antoine')\n",
    "plt.legend(loc=0)\n",
    "\n",
    "plt.show()"
   ]
  },
  {
   "cell_type": "markdown",
   "metadata": {},
   "source": [
    "### Água!"
   ]
  },
  {
   "cell_type": "code",
   "execution_count": 16,
   "metadata": {
    "collapsed": false
   },
   "outputs": [
    {
     "name": "stderr",
     "output_type": "stream",
     "text": [
      "C:\\Users\\Fabiana Coelho\\Anaconda3\\lib\\site-packages\\scipy\\optimize\\zeros.py:249: ComplexWarning: Casting complex values to real discards the imaginary part\n",
      "  r = _zeros._bisect(f,a,b,xtol,rtol,maxiter,args,full_output,disp)\n"
     ]
    },
    {
     "ename": "ValueError",
     "evalue": "f(a) and f(b) must have different signs",
     "output_type": "error",
     "traceback": [
      "\u001b[0;31m---------------------------------------------------------------------------\u001b[0m",
      "\u001b[0;31mValueError\u001b[0m                                Traceback (most recent call last)",
      "\u001b[0;32m<ipython-input-16-dc9da351e2e7>\u001b[0m in \u001b[0;36m<module>\u001b[0;34m()\u001b[0m\n\u001b[1;32m      5\u001b[0m \u001b[1;33m\u001b[0m\u001b[0m\n\u001b[1;32m      6\u001b[0m \u001b[1;32mfor\u001b[0m \u001b[0mi\u001b[0m \u001b[1;32min\u001b[0m \u001b[0mrange\u001b[0m\u001b[1;33m(\u001b[0m\u001b[1;36m100\u001b[0m\u001b[1;33m)\u001b[0m\u001b[1;33m:\u001b[0m\u001b[1;33m\u001b[0m\u001b[0m\n\u001b[0;32m----> 7\u001b[0;31m     \u001b[0mPaxis\u001b[0m\u001b[1;33m[\u001b[0m\u001b[0mi\u001b[0m\u001b[1;33m]\u001b[0m\u001b[1;33m=\u001b[0m\u001b[0mcalc_Psat\u001b[0m\u001b[1;33m(\u001b[0m\u001b[0mTaxis\u001b[0m\u001b[1;33m[\u001b[0m\u001b[0mi\u001b[0m\u001b[1;33m]\u001b[0m\u001b[1;33m,\u001b[0m\u001b[0mPc_wat\u001b[0m\u001b[1;33m,\u001b[0m\u001b[0mTc_wat\u001b[0m\u001b[1;33m,\u001b[0m\u001b[0mw_wat\u001b[0m\u001b[1;33m)\u001b[0m\u001b[1;33m[\u001b[0m\u001b[1;36m0\u001b[0m\u001b[1;33m]\u001b[0m\u001b[1;33m\u001b[0m\u001b[0m\n\u001b[0m",
      "\u001b[0;32m<ipython-input-12-fe721412ce56>\u001b[0m in \u001b[0;36mcalc_Psat\u001b[0;34m(T_in, Pc, Tc, w)\u001b[0m\n\u001b[1;32m      6\u001b[0m \u001b[1;33m\u001b[0m\u001b[0m\n\u001b[1;32m      7\u001b[0m     \u001b[1;33m[\u001b[0m\u001b[0m_\u001b[0m\u001b[1;33m,\u001b[0m\u001b[0m_\u001b[0m\u001b[1;33m,\u001b[0m\u001b[0mPinfi\u001b[0m\u001b[1;33m,\u001b[0m\u001b[0mPsupi\u001b[0m\u001b[1;33m]\u001b[0m \u001b[1;33m=\u001b[0m \u001b[0mPlimites\u001b[0m\u001b[1;33m(\u001b[0m\u001b[0mTdado\u001b[0m\u001b[1;33m,\u001b[0m\u001b[0mPc\u001b[0m\u001b[1;33m,\u001b[0m\u001b[0mTc\u001b[0m\u001b[1;33m,\u001b[0m\u001b[0mw\u001b[0m\u001b[1;33m)\u001b[0m\u001b[1;33m\u001b[0m\u001b[0m\n\u001b[0;32m----> 8\u001b[0;31m     \u001b[0mPans\u001b[0m \u001b[1;33m=\u001b[0m \u001b[0moptimize\u001b[0m\u001b[1;33m.\u001b[0m\u001b[0mbisect\u001b[0m\u001b[1;33m(\u001b[0m\u001b[0mdelta_G_res_Tdado\u001b[0m\u001b[1;33m,\u001b[0m \u001b[0mPinfi\u001b[0m\u001b[1;33m,\u001b[0m \u001b[0mPsupi\u001b[0m\u001b[1;33m*\u001b[0m\u001b[1;36m5\u001b[0m\u001b[1;33m,\u001b[0m \u001b[0mxtol\u001b[0m\u001b[1;33m=\u001b[0m\u001b[1;36m1.0e-9\u001b[0m\u001b[1;33m,\u001b[0m \u001b[0mrtol\u001b[0m\u001b[1;33m=\u001b[0m\u001b[1;36m1.0e-9\u001b[0m\u001b[1;33m,\u001b[0m \u001b[0mmaxiter\u001b[0m\u001b[1;33m=\u001b[0m\u001b[1;36m100\u001b[0m\u001b[1;33m,\u001b[0m \u001b[0mfull_output\u001b[0m\u001b[1;33m=\u001b[0m\u001b[1;32mFalse\u001b[0m\u001b[1;33m,\u001b[0m \u001b[0mdisp\u001b[0m\u001b[1;33m=\u001b[0m\u001b[1;32mTrue\u001b[0m\u001b[1;33m)\u001b[0m\u001b[1;33m\u001b[0m\u001b[0m\n\u001b[0m\u001b[1;32m      9\u001b[0m \u001b[1;33m\u001b[0m\u001b[0m\n\u001b[1;32m     10\u001b[0m     \u001b[1;32mreturn\u001b[0m \u001b[0mPans\u001b[0m\u001b[1;33m,\u001b[0m \u001b[0mPinfi\u001b[0m\u001b[1;33m,\u001b[0m \u001b[0mPsupi\u001b[0m\u001b[1;33m\u001b[0m\u001b[0m\n",
      "\u001b[0;32mC:\\Users\\Fabiana Coelho\\Anaconda3\\lib\\site-packages\\scipy\\optimize\\zeros.py\u001b[0m in \u001b[0;36mbisect\u001b[0;34m(f, a, b, args, xtol, rtol, maxiter, full_output, disp)\u001b[0m\n\u001b[1;32m    247\u001b[0m     \u001b[1;32mif\u001b[0m \u001b[0mrtol\u001b[0m \u001b[1;33m<\u001b[0m \u001b[0m_rtol\u001b[0m\u001b[1;33m:\u001b[0m\u001b[1;33m\u001b[0m\u001b[0m\n\u001b[1;32m    248\u001b[0m         \u001b[1;32mraise\u001b[0m \u001b[0mValueError\u001b[0m\u001b[1;33m(\u001b[0m\u001b[1;34m\"rtol too small (%g < %g)\"\u001b[0m \u001b[1;33m%\u001b[0m \u001b[1;33m(\u001b[0m\u001b[0mrtol\u001b[0m\u001b[1;33m,\u001b[0m \u001b[0m_rtol\u001b[0m\u001b[1;33m)\u001b[0m\u001b[1;33m)\u001b[0m\u001b[1;33m\u001b[0m\u001b[0m\n\u001b[0;32m--> 249\u001b[0;31m     \u001b[0mr\u001b[0m \u001b[1;33m=\u001b[0m \u001b[0m_zeros\u001b[0m\u001b[1;33m.\u001b[0m\u001b[0m_bisect\u001b[0m\u001b[1;33m(\u001b[0m\u001b[0mf\u001b[0m\u001b[1;33m,\u001b[0m\u001b[0ma\u001b[0m\u001b[1;33m,\u001b[0m\u001b[0mb\u001b[0m\u001b[1;33m,\u001b[0m\u001b[0mxtol\u001b[0m\u001b[1;33m,\u001b[0m\u001b[0mrtol\u001b[0m\u001b[1;33m,\u001b[0m\u001b[0mmaxiter\u001b[0m\u001b[1;33m,\u001b[0m\u001b[0margs\u001b[0m\u001b[1;33m,\u001b[0m\u001b[0mfull_output\u001b[0m\u001b[1;33m,\u001b[0m\u001b[0mdisp\u001b[0m\u001b[1;33m)\u001b[0m\u001b[1;33m\u001b[0m\u001b[0m\n\u001b[0m\u001b[1;32m    250\u001b[0m     \u001b[1;32mreturn\u001b[0m \u001b[0mresults_c\u001b[0m\u001b[1;33m(\u001b[0m\u001b[0mfull_output\u001b[0m\u001b[1;33m,\u001b[0m \u001b[0mr\u001b[0m\u001b[1;33m)\u001b[0m\u001b[1;33m\u001b[0m\u001b[0m\n\u001b[1;32m    251\u001b[0m \u001b[1;33m\u001b[0m\u001b[0m\n",
      "\u001b[0;31mValueError\u001b[0m: f(a) and f(b) must have different signs"
     ]
    }
   ],
   "source": [
    "T=200\n",
    "Taxis=np.linspace(T,Tc_wat,100) \n",
    "Paxis=np.zeros(100)\n",
    "Paxis[0]=calc_Psat(Taxis[0],Pc_wat,Tc_wat,w_wat)[0]\n",
    "\n",
    "for i in range(100):\n",
    "    Paxis[i]=calc_Psat(Taxis[i],Pc_wat,Tc_wat,w_wat)[0]"
   ]
  },
  {
   "cell_type": "code",
   "execution_count": 17,
   "metadata": {
    "collapsed": false
   },
   "outputs": [],
   "source": [
    "#Dados retirados da Tabela B.2 do Van Ness.\n",
    "def Pantoine_agua(T): \n",
    "    A = 16.3872\n",
    "    B = 3885.70\n",
    "    C = 230.170\n",
    "    return (np.exp(A - B/(T-273 + C)))*1000"
   ]
  },
  {
   "cell_type": "code",
   "execution_count": 18,
   "metadata": {
    "collapsed": false
   },
   "outputs": [
    {
     "data": {
      "image/png": "[encoded data removed]",
      "text/plain": [
       "<matplotlib.figure.Figure at 0x1a0283aac18>"
      ]
     },
     "metadata": {},
     "output_type": "display_data"
    },
    {
     "data": {
      "image/png": "[encoded data removed]",
      "text/plain": [
       "<matplotlib.figure.Figure at 0x1a028443cc0>"
      ]
     },
     "metadata": {},
     "output_type": "display_data"
    }
   ],
   "source": [
    "dadosexp = np.loadtxt('exp data vapor pressure water.txt', dtype='float', comments='#', converters=None, skiprows=0, usecols=None, unpack=False, ndmin=0)\n",
    "T_exp = dadosexp[:,0]\n",
    "P_exp = dadosexp[:,1]*1000\n",
    "\n",
    "plt.figure(1)\n",
    "\n",
    "legend=[]\n",
    "plt.title('Pressão de saturação, água (Escala log)')\n",
    "plt.semilogy(1)\n",
    "plt.scatter(T_exp,P_exp, label='Dados experimentais DDBST')\n",
    "plt.plot(Taxis,Paxis, label='Modelo SRK')\n",
    "\n",
    "plt.xlim([200,Tc_wat]) \n",
    "plt.ylim([1e3,1e9]) \n",
    "      \n",
    "Pantoine_aguaaxis = [ Pantoine_agua(Taxis[i]) for i in range(100) ]\n",
    "plt.plot(Taxis,Pantoine_aguaaxis, label='Antoine')\n",
    "plt.legend(loc=0)\n",
    "\n",
    "\n",
    "plt.figure(2)\n",
    "\n",
    "legend=[]\n",
    "plt.scatter(T_exp,P_exp, label='Dados experimentais DDBST')\n",
    "plt.plot(Taxis,Paxis, label='Modelo SRK')\n",
    "\n",
    "plt.xlim([200,Tc_ac]) \n",
    "plt.ylim([0,Pc_ac]) \n",
    "      \n",
    "Pantoine_aguaaxis = [ Pantoine_agua(Taxis[i]) for i in range(100) ]\n",
    "plt.plot(Taxis,Pantoine_aguaaxis, label='Antoine')\n",
    "plt.legend(loc=0)\n",
    "\n",
    "plt.show()"
   ]
  },
  {
   "cell_type": "markdown",
   "metadata": {},
   "source": [
    "# Referências:\n",
    "DDBST GmbH. Vapor Pressure of Acetone. Disponível em: <http://www.ddbst.com/en/EED/PCP/VAP_C4.php>. Acessado em: 28/11/2016.\n",
    "\n",
    "DDBST GmbH. Vapor Pressure of Water. Disponível em: <http://www.ddbst.com/en/EED/PCP/VAP_C174.php>. Acessado em: 28/11/2016.\n",
    "\n",
    "GESTIS Substance Database. Acetone. Disponível em: <http://gestis-en.itrust.de/nxt/gateway.dll/gestis_en/011230.xml?f=templates$fn=default.htm$3.0>. Acessado em: 26/11/2016.\n",
    "\n",
    "NIST - National Institute of Standards and Technology. Acetone. Disponível em: <http://webbook.nist.gov/cgi/cbook.cgi?ID=C67641&Mask=4&Type=ANTOINE&Plot=on>. Acessado em: 26/11/2016.\n",
    "\n",
    "NIST - National Institute of Standards and Technology. Water. Disponível em: <http://webbook.nist.gov/cgi/cbook.cgi?ID=C7732185&Mask=4&Type=ANTOINE&Plot=on>. Acessado em: 26/11/2016.\n",
    "\n",
    "TAVARES, F.W.; MEDEIROS, F. de A.; S. I.S.V. Termodinâmica da Engenharia Química - EQE 359.\n",
    "\n",
    "VAN NESS, H.C.; SMITH, J.M.; ABBOTT, M.M. Introdução à Termodinâmica da Engenharia Química. 7 Edição. Rio de Janeiro, LTC, 2007. 626 p."
   ]
  },
  {
   "cell_type": "code",
   "execution_count": null,
   "metadata": {
    "collapsed": true
   },
   "outputs": [],
   "source": []
  },
  {
   "cell_type": "code",
   "execution_count": null,
   "metadata": {
    "collapsed": true
   },
   "outputs": [],
   "source": []
  }
 ],
 "metadata": {
  "anaconda-cloud": {},
  "kernelspec": {
   "display_name": "Python [default]",
   "language": "python",
   "name": "python3"
  },
  "language_info": {
   "codemirror_mode": {
    "name": "ipython",
    "version": 3
   },
   "file_extension": ".py",
   "mimetype": "text/x-python",
   "name": "python",
   "nbconvert_exporter": "python",
   "pygments_lexer": "ipython3",
   "version": "3.5.2"
  }
 },
 "nbformat": 4,
 "nbformat_minor": 1
}
