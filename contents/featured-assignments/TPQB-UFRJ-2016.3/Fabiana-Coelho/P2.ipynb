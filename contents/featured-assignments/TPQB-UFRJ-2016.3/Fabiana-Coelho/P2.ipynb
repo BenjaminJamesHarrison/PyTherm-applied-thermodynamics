{
 "cells": [
  {
   "cell_type": "markdown",
   "metadata": {},
   "source": [
    "# I) Equilíbrio Líquido Vapor\n",
    "## a) Cálculo de ponto de bolha e ponto de orvalho da mistura escolhida\n",
    "\n",
    "A mistura escolhida foi água e acetona.\n",
    "\n",
    "### Equilíbrio das fases\n",
    "\n",
    "Para que as fases esteja em equilíbrio uma série de fatores devem ser levados em consideração:\n",
    "\n",
    "$T^\\alpha = T^\\beta = T$\n",
    "\n",
    "$P^\\alpha = P^\\beta = P$\n",
    "\n",
    "$\\mu^\\alpha(T^\\alpha,P^\\alpha,\\boldsymbol{x^\\alpha}) = \\mu^\\beta(T^\\beta,P^\\beta,\\boldsymbol{x^\\beta})$\n",
    "\n",
    "$f_i^\\alpha(T^\\alpha,P^\\alpha,\\boldsymbol{x^\\alpha}) = f_i^\\beta(T^\\beta,P^\\beta,\\boldsymbol{x^\\beta})$\n",
    "\n",
    "Considerando o equilíbrio Líquido-Vapor (onde $\\phi_m$ é o coeficiente de fugacidade da mistura):\n",
    "\n",
    "Fase vapor: $f_i^V(T,P,\\boldsymbol{y}) = y_i.\\phi_m^V(T,P,\\boldsymbol{y}).P$\n",
    "\n",
    "Fase líquida: $f_i^L(T,P,\\boldsymbol{x}) = x_i.\\gamma_i(T,\\boldsymbol{x}).P_i^{sat}.\\phi_i^{sat}.exp\\left[\\frac{\\bar{V}_i^{o,L}}{RT}.(P-P_i^{sat})\\right]$\n",
    "\n",
    "A equação da fase líquida pode ser simplificada pra baixas pressões:\n",
    "\n",
    "$f_i^L(T,P,\\boldsymbol{x}) = x_i.\\gamma_i(T,\\boldsymbol{x}).P_i^{sat}$\n",
    "\n",
    "Assim, é possível Igualar as fases na seguinte equação:\n",
    "\n",
    "$f_i^V(T,P,\\boldsymbol{y}) = f_i^L(T,P,\\boldsymbol{x})$\n",
    "\n",
    "$y_i.\\phi_m^V(T,P,\\boldsymbol{y}).P = x_i.\\gamma_i(T,\\boldsymbol{x}).P_i^{sat}$\n",
    "\n",
    "\n",
    "\n",
    "### Equação de Estado Soave-Redlich-Kwong (1972)\n",
    "A equação SRK  para misturas foi adaptada da Apostila de Termodinâmica da Engenharia Química - EQE359 (Tavares, Medeiros e Segtovich). Os valores de $\\sigma$, $\\varepsilon$, $\\Omega$ e $\\Psi$ utilizados foram obtidos na Tabela 3.1 da referida apostila. Os valores de Pc e Tc e de R para acetona e água foram obtidos nos apêndices B e A, respectivamente, no livro de Van Ness.\n",
    "\n",
    "$${P} = \\frac{RT}{\\bar{V}-b} - \\frac{a(T)}{(\\bar{V}+\\varepsilon.b)(\\bar{V}+\\sigma.b)} $$\n",
    "\n",
    "Para SRK, os coeficientes tem os seguintes valores:\n",
    "- $\\sigma = 1$;\n",
    "- $\\varepsilon = 0$;\n",
    "- $\\Omega = 0,08664$;\n",
    "- $\\Psi = 0,42748$\n",
    "\n",
    "$${P} = \\frac{RT}{\\bar{V}-b} - \\frac{a(T)}{\\bar{V}(\\bar{V}+b)} $$\n",
    "\n",
    "${a_i(T)} = {a_i} = \\Psi\\frac{\\alpha(Tr)R^2Tc_i^2}{Pc_i}$, no código: a(T) será chamado de a\n",
    "\n",
    "${b_i} = \\Omega\\frac{RTc_i}{Pc_i}$\n",
    "\n",
    "${\\alpha_i(Tr)} = alfa_{SRK} = [1+(0,480+1,574w_i-0,176w_i^2)(1-Tr_i^\\frac{1}{2})]^2$, no código: alfa(Tr) será chamado alfa\n",
    "\n",
    "${Tr_i} = \\frac{T}{Tc_i}$\n",
    "\n",
    "$A = \\sum_{i}\\sum_{j}zizj(aiaj)^{1/2}$\n",
    "\n",
    "$B = \\sum_{i}\\sum_{j}zizj\\left(\\frac{b_i+b_j}{2}\\right)=\\sum_{i}z_ib_i$\n",
    "\n",
    "onde o w é o fator acêntrico.\n",
    "\n",
    "Transformando de V para Z, a EOS de SRK pode ser reduzida e igualada a zero conforme mostrado abaixo. Assim é possível achar os Z's do equilíbrio.\n",
    "\n",
    "$Z^3-Z^2+(A-B-B^2)Z-AB=0$\n",
    "\n",
    "$Ai = \\frac{P.a_i}{R^2T^2}$\n",
    "\n",
    "$Bi = \\frac{P.b_i}{RT}$\n",
    "\n",
    "$B = \\sum_{i}y_iB_i$\n",
    "\n",
    "$A = \\sum_{i}\\sum_{j}yiyj(AiAj)^{1/2}$\n",
    "\n",
    "$$ln(\\phi_i) = -ln(Z_i-B)+Z_i-1+\\left(\\frac{A}{(\\alpha+\\beta)B}\\right)ln\\left(\\frac{Z_i-\\beta.B}{Z_i+\\alpha.B}\\right)$$\n",
    "\n",
    "Como $\\alpha = 1$ e $\\beta = 0$:\n",
    "\n",
    "\n",
    "$$ln(\\phi_i) = -ln(Z_i-B)+Z_i-1+\\left(\\frac{A}{B}\\right)ln\\left(\\frac{Z_i}{Z_i+B}\\right)$$\n",
    "\n",
    "### Modelo de Gibbs de Excesso pelo Modelo Non-Random Two-Liquid (NRTL)\n",
    "\n",
    "$$ \\frac{g^E}{RT}=\\sum_{i=1}^n \\left[ x_i\\frac{\\sum_{j=1}^n \\left[ \\tau_{j,i} G_{j,i} x_{j} \\right] }{\\sum_{k=1}^n \\left[ G_{k,i} x_k \\right] } \\right] $$\n",
    "\n",
    "Onde:\n",
    "\n",
    "$\\tau_{i,j}= \\frac{g_{i,j}-g_{j,j}}{RT}=\\frac{A_{i,j}}{T}$\n",
    "\n",
    "$G_{i,j}=\\mathrm{exp}(-\\alpha_{i,j} \\tau_{i,j})$\n",
    "\n",
    "Na notação i = 1 corresponde a acetona e 2 a água.\n",
    "Os coeficientes de NRTL foram retirado do artigo de Llchtenbett e Schramt (1985).\n",
    "\n",
    "Os coeficientes de atividade ($\\gamma_i$) foram calculados usando a derivada da energia de Gibbs de excesso em relação ao número de mols do componente i ($n_i=N x_i$) a T, P e número de mols constante.\n",
    "\n",
    "$$RTln(\\gamma_i) = {\\partial g^E}/{ \\partial n_i}$$\n",
    "\n",
    "$$ln(\\gamma_i)= \\frac{\\sum_{j=1}^n\\left[\\tau_{j,i} G_{j,i} x_{j}\\right]}{\\sum_{k=1}^n\\left[G_{k,i}x_{k}\\right]} + \\sum_{j=1}^n\\left[ \\left(\\frac{\\ G_{i,j} x_{j}}{\\sum_{k=1}^n\\left[G_{k,j}x_{k}\\right]}\\right) \\left(\\tau_{i,j}-\\frac{\\sum_{j=1}^n\\left[\\tau_{i,j} G_{i,j} x_{i}\\right]}{\\sum_{k=1}^n\\left[G_{k,j}x_{k}\\right]} \\right) \\right] $$\n"
   ]
  },
  {
   "cell_type": "code",
   "execution_count": 1,
   "metadata": {
    "collapsed": true
   },
   "outputs": [],
   "source": [
    "import numpy as np\n",
    "import numpy.linalg as nplin\n",
    "#import numpy.matlib as npmatlib\n",
    "#import scipy as sci\n",
    "#import matplotlib.pyplot as plt\n",
    "#%matplotlib inline"
   ]
  },
  {
   "cell_type": "markdown",
   "metadata": {},
   "source": [
    "$\\gamma_i^{oo,j} = lim \\gamma_i, (xj->1)$\n",
    "\n",
    "Esse é o gama do componente i quando há a diluição infinita do mesmo pelo componente j. Esse será o parâmetro usado para conferir se o cálculo de gama está similar aos dados experimentais apresentados pelo estudo de Llchtenbett e Schramt (1985)"
   ]
  },
  {
   "cell_type": "code",
   "execution_count": 2,
   "metadata": {
    "collapsed": false
   },
   "outputs": [
    {
     "name": "stdout",
     "output_type": "stream",
     "text": [
      "Sendo 1 acetona e 2 água\n",
      "A12: 817.8522914982402 K\n",
      "A21: 276.6265103596989 K\n",
      "alpha12 = alpha21: 0.4\n"
     ]
    }
   ],
   "source": [
    "#Constantes e chutes iniciais usados no trabalho:\n",
    "#Valor para a constante universal dos gases - Van Ness, Tabela A.2, pag. 506\n",
    "R = 8.3144598 #J.mol^-1.K^-1\n",
    "\n",
    "#Valores para acetona pura: Tc, Pc e w - Van Ness, Tabela B.1, pag. 508\n",
    "#Valores para água pura: Tc, Pc e w - Van Ness, Tabela B.1, pag. 509.\n",
    "Tc = np.array([[508.2],\n",
    "               [647.1]])  #K\n",
    "Pc = np.array([[47.01*10**5],\n",
    "               [220.55*10**5]])   #Pa\n",
    "\n",
    "w = np.array([[0.307],\n",
    "               [0.345]])\n",
    "\n",
    "#Valores das constantes da equação SRK - Tabela 3.1, pag. 37.\n",
    "omega = 0.08664\n",
    "psi = 0.42748\n",
    "\n",
    "T = 289.1 #K\n",
    "P = 1*10**5 #Pa\n",
    "x=np.array([[.001,.999],\n",
    "          [.999,.001]])\n",
    "#Esse vetor de x corresponde a diluição infinita dos componentes. Ele será usado posteriormente para comparação com os\n",
    "#dados experimentais de Llchtenbett e Schramt (1985). A Temperatura e Pressão também foram escolhidas propositalmente.\n",
    "\n",
    "#Coeficientes retirados do trabalho de Llchtenbett e Schramt (1985).\n",
    "#1: acetona; 2: água\n",
    "deltag1=6.8 #kJ/mol deltag1=g12-g11\n",
    "deltag2=2.3 #kJ/mol  deltag2=g21-g22\n",
    "alpha12=alpha21=0.4\n",
    "A12=deltag1*10**3/R #K\n",
    "A21=deltag2*10**3/R #K\n",
    "\n",
    "print('Sendo 1 acetona e 2 água')\n",
    "print('A12:',A12,'K')\n",
    "print('A21:',A21,'K')\n",
    "print('alpha12 = alpha21:',alpha12,)"
   ]
  },
  {
   "cell_type": "code",
   "execution_count": 3,
   "metadata": {
    "collapsed": false
   },
   "outputs": [
    {
     "name": "stdout",
     "output_type": "stream",
     "text": [
      "i,j,alpha[i,j],Aij[i,j]\n",
      "0 0 0.0 0.0\n",
      "0 1 0.4 817.852291498\n",
      "1 0 0.4 276.62651036\n",
      "1 1 0.0 0.0\n",
      "alpha:\n",
      "[[ 0.   0.4]\n",
      " [ 0.4  0. ]]\n",
      "Aij:\n",
      "[[   0.          817.8522915 ]\n",
      " [ 276.62651036    0.        ]]\n"
     ]
    }
   ],
   "source": [
    "#montagem da matriz e verificação\n",
    "Aij = np.array([[0, A12],\n",
    "             [A21, 0]])\n",
    "alpha = np.array([[0, alpha12],\n",
    "                [alpha21, 0]])\n",
    "\n",
    "print(\"i,j,alpha[i,j],Aij[i,j]\")\n",
    "for i in range(2):\n",
    "    for j in range(2):\n",
    "        print(i,j,alpha[i,j],Aij[i,j])\n",
    "        \n",
    "print('alpha:')\n",
    "print(alpha)      \n",
    "print('Aij:')\n",
    "print(Aij)"
   ]
  },
  {
   "cell_type": "code",
   "execution_count": 4,
   "metadata": {
    "collapsed": false
   },
   "outputs": [
    {
     "name": "stdout",
     "output_type": "stream",
     "text": [
      "tau=\n",
      "[[ 0.          2.82895985]\n",
      " [ 0.95685407  0.        ]]\n",
      "G=\n",
      "[[ 1.          0.322522  ]\n",
      " [ 0.68198908  1.        ]]\n"
     ]
    }
   ],
   "source": [
    "#Cálculo de tau e G:\n",
    "tau=np.zeros([2,2])\n",
    "for j in range(2):\n",
    "    for i in range(2):\n",
    "        tau[j,i]=Aij[j,i]/T\n",
    "print(\"tau=\")\n",
    "print(tau)\n",
    "        \n",
    "G=np.zeros([2,2])\n",
    "for j in range(2):\n",
    "    for i in range(2):\n",
    "        G[j,i]=np.exp((-alpha[j,i]*tau[j,i]))\n",
    "print(\"G=\")\n",
    "print(G)"
   ]
  },
  {
   "cell_type": "markdown",
   "metadata": {},
   "source": [
    "### Cálculo do Coeficiente de Atividade ($\\gamma_i$) pelo $\\bar{g}^E/(RT)$"
   ]
  },
  {
   "cell_type": "code",
   "execution_count": 5,
   "metadata": {
    "collapsed": false
   },
   "outputs": [
    {
     "name": "stdout",
     "output_type": "stream",
     "text": [
      "Gamma diluído acetona: [ 6.46151813  1.0000017 ]\n",
      "Gamma diluído acetona exp: 6.4\n",
      "Gamma diluído água: [  1.00000918  31.91751523]\n",
      "Gamma diluído água exp: 32\n"
     ]
    }
   ],
   "source": [
    "def Gamma(T,x,alpha,A):\n",
    "    alpha12=alpha21=0.4\n",
    "    A12=deltag1*10**3/R #K\n",
    "    A21=deltag2*10**3/R #K\n",
    "    A = np.array([[0, A12],\n",
    "             [A21, 0]])\n",
    "    alpha = np.array([[0, alpha12],\n",
    "                [alpha21, 0]])\n",
    "\n",
    "    tau=np.zeros([2,2])\n",
    "    for j in range(2):\n",
    "        for i in range(2):\n",
    "            tau[j,i]=A[j,i]/T    \n",
    "    \n",
    "    G=np.zeros([2,2])\n",
    "    for j in range(2):\n",
    "        for i in range(2):\n",
    "            G[j,i]=np.exp((-alpha[j,i]*tau[j,i]))\n",
    "    \n",
    "    Gamma=np.zeros([2])\n",
    "    for i in range(2):\n",
    "\n",
    "        Sj1=0\n",
    "        Sj2=0\n",
    "        Sj3=0\n",
    "        for j in range(2):\n",
    "            Sj1 += tau[j,i]*G[j,i]*x[j]\n",
    "            Sj2 += G[j,i]*x[j]\n",
    "    \n",
    "            Sk1=0\n",
    "            Sk2=0\n",
    "            Sk3=0\n",
    "            for k in range(2):\n",
    "                Sk1 += G[k,j]*x[k]\n",
    "                Sk2 += x[k]*tau[k,j]*G[k,j]\n",
    "                Sk3 += G[k,j]*x[k]\n",
    "            \n",
    "            Sj3 += ((x[j]*G[i,j])/(Sk1))*(tau[i,j]-(Sk2)/(Sk3))\n",
    "        \n",
    "        Gamma[i]=np.exp(Sj1/Sj2 + Sj3)\n",
    "    \n",
    "    return Gamma\n",
    "Gamma_dil_ac=Gamma(289.1,x[0,:],alpha,Aij[0])\n",
    "Gamma_dil_wat=Gamma(289.1,x[1,:],alpha,Aij[1])\n",
    "\n",
    "print('Gamma diluído acetona:',Gamma_dil_ac)\n",
    "print('Gamma diluído acetona exp:',6.4,)\n",
    "print('Gamma diluído água:',Gamma_dil_wat)\n",
    "print('Gamma diluído água exp:',32,)"
   ]
  },
  {
   "cell_type": "markdown",
   "metadata": {},
   "source": [
    "### Cálculo do Coeficiente de Fugacidade ($\\phi_i$) pela EOS (mistura):"
   ]
  },
  {
   "cell_type": "code",
   "execution_count": 6,
   "metadata": {
    "collapsed": false
   },
   "outputs": [
    {
     "name": "stdout",
     "output_type": "stream",
     "text": [
      "[[ 0.96060007]\n",
      " [ 0.98394601]]\n"
     ]
    }
   ],
   "source": [
    "def phiv_mist(T,P,y):  #phi de vapor para cálculo de PO e PB.\n",
    "    def Z_EOS_mist(T,P,y):  \n",
    "        Tr = T/Tc\n",
    "        alfa = (1+(0.48+(1.574*w)-(0.176*(w**2)))*(1-(Tr**(1/2))))**2\n",
    "        a = psi*(alfa*(R**2)*(Tc**2)/Pc)\n",
    "        A = P*a/((R**2)*(T**2))\n",
    "        b = omega*R*Tc/Pc\n",
    "        B = P*b/(R*T)\n",
    "        \n",
    "        Beos=0\n",
    "        for i in range(2):\n",
    "            Beos += y[i]*B[i]\n",
    "        Aeos=0\n",
    "        for i in range(2):\n",
    "            for j in range(2):\n",
    "                Aeos  +=  y[i]*y[j]*(A[i]*A[j])**(1/2)\n",
    "        c3 = 1\n",
    "        c2 = -1\n",
    "        c1 = Aeos-Beos-(Beos**2)\n",
    "        c0 = -(Aeos*Beos)\n",
    "        Z = np.roots([c3,c2,c1,c0])\n",
    "        Zans=[]\n",
    "        for i in range(3):\n",
    "            if np.isreal(Z[i])==1:  #selecionar os valores reais\n",
    "                Zans=Zans+[Z[i]]    #constroi um vetor com raízes reais\n",
    "                \n",
    "        Zans=np.real(Zans)          #conversão do tipo complexo para real\n",
    "        Zv=max(Zans)\n",
    "        return Zv,A,B\n",
    "\n",
    "    Z,A,B=Z_EOS_mist(T,P,y)\n",
    "    phiv=np.exp(-np.log(Z-B)+Z-1+(A/B)*np.log(Z/(Z+B)))\n",
    "    return phiv\n",
    "phiv=phiv_mist(T,P,[1,0])\n",
    "print(phiv)"
   ]
  },
  {
   "cell_type": "markdown",
   "metadata": {},
   "source": [
    "### Pressão de saturação:\n",
    "A pressão de saturação para ambos os componentes será calculada por um método interativo utilizando Newton-Raphson."
   ]
  },
  {
   "cell_type": "code",
   "execution_count": 7,
   "metadata": {
    "collapsed": false
   },
   "outputs": [
    {
     "name": "stdout",
     "output_type": "stream",
     "text": [
      "Pressão de saturação da acetona: [ 0.1944162] bar\n",
      "Pressão de saturação da água: [ 0.01288841] bar\n"
     ]
    }
   ],
   "source": [
    "def calc_P_sat(T,P_chute,Tc,Pc,w):\n",
    "    def phi_sat(T,P,Tc,Pc,w):\n",
    "        Tr = T/Tc\n",
    "        alfa = (1+(0.48+(1.574*w)-(0.176*(w**2)))*(1-(Tr**(1/2))))**2\n",
    "        a = psi*(alfa*(R**2)*(Tc**2)/Pc)\n",
    "        A = P*a/((R**2)*(T**2))\n",
    "        b = omega*R*Tc/Pc\n",
    "        B = P*b/(R*T)\n",
    "        def Z_EOS(T,P,Tc,Pc,w):\n",
    "            c3=1\n",
    "            c2=-1\n",
    "            c1=A-B-B**2\n",
    "            c0=-A*B\n",
    "            Z = np.roots([c3,c2,c1,c0])\n",
    "            Zans=[]\n",
    "            for i in range(3):\n",
    "                if np.isreal(Z[i])==1:  #selecionar os valores reais\n",
    "                    Zans=Zans+[Z[i]]    #constroi um vetor com raízes reais\n",
    "           \n",
    "            Zans=np.real(Zans)          #conversão do tipo complexo para real\n",
    "            Zv=max(Zans)\n",
    "            Zl=min(Zans)\n",
    "    \n",
    "            return Zv,Zl\n",
    "        Zv,Zl=Z_EOS(T,P,Tc,Pc,w)\n",
    "        phi_satv=np.exp(-np.log(Zv-B)+Zv-1+(A/B)*np.log(Zv/(Zv+B)))\n",
    "        phi_satl=np.exp(-np.log(Zl-B)+Zl-1+(A/B)*np.log(Zl/(Zl+B)))\n",
    "        \n",
    "        return phi_satv,phi_satl\n",
    "    \n",
    "    RES=1\n",
    "    TOL=1e-9\n",
    "    MAX=1000\n",
    "    P=P_chute\n",
    "    i=0\n",
    "    while(RES>TOL and i<MAX): \n",
    "        phi_satv,phi_satl=phi_sat(T,P,Tc,Pc,w)\n",
    "        P=P*(phi_satl/phi_satv)\n",
    "        RES=np.abs(phi_satv/phi_satl-1.)\n",
    "        i=i+1\n",
    "\n",
    "    return P\n",
    "P_sat_ac=calc_P_sat(T,99217.04,Tc[0],Pc[0],w[0])*10**-5\n",
    "P_sat_wat=calc_P_sat(T,92364.76,Tc[1],Pc[1],w[1])*10**-5\n",
    "\n",
    "print('Pressão de saturação da acetona:',P_sat_ac,'bar')\n",
    "print('Pressão de saturação da água:',P_sat_wat,'bar')"
   ]
  },
  {
   "cell_type": "code",
   "execution_count": 8,
   "metadata": {
    "collapsed": false
   },
   "outputs": [
    {
     "name": "stdout",
     "output_type": "stream",
     "text": [
      "Pressão de saturação da acetona: [ 0.1944162] bar\n",
      "Pressão de saturação da água: [ 0.01288841] bar\n"
     ]
    }
   ],
   "source": [
    "def calc_P_sat(T,P_chute,Tc,Pc,w):\n",
    "    def phi_sat(T,P,Tc,Pc,w):\n",
    "        Tr = T/Tc\n",
    "        alfa = (1+(0.48+(1.574*w)-(0.176*(w**2)))*(1-(Tr**(1/2))))**2\n",
    "        a = psi*(alfa*(R**2)*(Tc**2)/Pc)\n",
    "        A = P*a/((R**2)*(T**2))\n",
    "        b = omega*R*Tc/Pc\n",
    "        B = P*b/(R*T)\n",
    "        def Z_EOS(T,P,Tc,Pc,w):\n",
    "            c3=1\n",
    "            c2=-1\n",
    "            c1=A-B-B**2\n",
    "            c0=-A*B\n",
    "            Z = np.roots([c3,c2,c1,c0])\n",
    "            Zans=[]\n",
    "            for i in range(3):\n",
    "                if np.isreal(Z[i])==1:  #selecionar os valores reais\n",
    "                    Zans=Zans+[Z[i]]    #constroi um vetor com raízes reais\n",
    "           \n",
    "            Zans=np.real(Zans)          #conversão do tipo complexo para real\n",
    "            Zv=max(Zans)\n",
    "            Zl=min(Zans)\n",
    "            return Zv,Zl\n",
    "        Zv,Zl=Z_EOS(T,P,Tc,Pc,w)\n",
    "        phi_satv=(-np.log(Zv-B)+Zv-1+(A/B)*np.log(Zv/(Zv+B)))\n",
    "        phi_satl=(-np.log(Zl-B)+Zl-1+(A/B)*np.log(Zl/(Zl+B)))\n",
    "        return phi_satv,phi_satl\n",
    "    \n",
    "    RES=1\n",
    "    TOL=1e-9\n",
    "    MAX=10000\n",
    "    P=P_chute\n",
    "    i=0\n",
    "    dP=0.00001\n",
    "    while(RES>TOL and i<MAX): \n",
    "        phi_satv,phi_satl=phi_sat(T,P,Tc,Pc,w)\n",
    "        #Calculo da função F\n",
    "        F=phi_satv-phi_satl\n",
    "        \n",
    "        #Calculo da Jacobiana\n",
    "        phi_satv_p,phi_satl_p=phi_sat(T,P+dP,Tc,Pc,w)\n",
    "        phi_satv_n,phi_satl_n=phi_sat(T,P-dP,Tc,Pc,w)\n",
    "        Fp=phi_satv_p-phi_satl_p\n",
    "        Fn=phi_satv_n-phi_satl_n\n",
    "        J=(Fp-Fn)/(2*dP)\n",
    "\n",
    "        #Próximo passo\n",
    "        P=P-F/J*0.1\n",
    "        RES=np.abs(-F/J)\n",
    "        i=i+1\n",
    "        \n",
    "    \n",
    "    return P\n",
    "#P_sat_ac=calc_P_sat(T,P,Tc[0],Pc[0],w[0])*10**-5\n",
    "#P_sat_wat=calc_P_sat(T,P,Tc[1],Pc[1],w[1])*10**-5\n",
    "print('Pressão de saturação da acetona:',P_sat_ac,'bar')\n",
    "print('Pressão de saturação da água:',P_sat_wat,'bar')"
   ]
  },
  {
   "cell_type": "markdown",
   "metadata": {},
   "source": [
    "### Cálculo de Ponto de Bolha:\n",
    "\n",
    "$x_i = z_i$\n",
    "\n",
    "Chute inicial: uma matriz contendo $y_1$, $y_2$ e P em uma coluna. Procedimento Newton-Raphson."
   ]
  },
  {
   "cell_type": "code",
   "execution_count": 9,
   "metadata": {
    "collapsed": false
   },
   "outputs": [
    {
     "name": "stdout",
     "output_type": "stream",
     "text": [
      "[[  9.44693059e-01]\n",
      " [  5.53069406e-02]\n",
      " [  3.08975366e+04]]\n",
      "Para T=298K, xac=0,6 e xwat=0,4\n",
      "yac= [ 0.94469306]\n",
      "ywat= [ 0.05530694]\n",
      "P do Ponto de Bolha: [ 0.30897537] bar\n"
     ]
    }
   ],
   "source": [
    "##Entradas\n",
    "#composição\n",
    "z1 = 0.6\n",
    "z2 = 1-z1\n",
    "z = np.array([[z1],[z2]])\n",
    "x=z #Ponto de Bolha\n",
    "\n",
    "T=298 #Temperatura em K\n",
    "\n",
    "## Chute inicial\n",
    "chute = np.array([[0.98],\n",
    "                 [0.02],\n",
    "                 [0.19*10**5]])\n",
    "X=chute\n",
    "## Parämetro de convergência\n",
    "RES=1\n",
    "TOL=1e-9\n",
    "MAX=10000\n",
    "i=0\n",
    "#Cálculo da P de saturação de acetona e água\n",
    "Psat_chute=np.array([[0.19*10**5],\n",
    "                    [0.013*10**5]])\n",
    "Psat=np.zeros(len(z))\n",
    "for i in range (len(z)):\n",
    "    Psat[i]=calc_P_sat(T,Psat_chute[i],Tc[i],Pc[i],w[i])\n",
    "#Gama de mistura\n",
    "gamma=Gamma(T,x,alpha,Aij)\n",
    "\n",
    "while(RES>TOL and i<MAX): \n",
    "    #Fugacidade da fase vapor\n",
    "    phiv=phiv_mist(T,X[2],X[0:2])\n",
    "    #Função F=0\n",
    "    F=np.array([X[0]*phiv[0]*X[2]-x[0]*gamma[0]*Psat[0],X[1]*phiv[1]*X[2]-x[1]*gamma[1]*Psat[1],X[0]+X[1]-1])\n",
    "    #Jacobiano\n",
    "    dy1=0.00001\n",
    "    dy2=0.00001\n",
    "    dP=0.001\n",
    "    y1p=X[0]+dy1\n",
    "    y1n=X[0]-dy1\n",
    "    y2p=X[1]+dy2\n",
    "    y2n=X[1]-dy2\n",
    "    Pp=X[2]+dP\n",
    "    Pn=X[2]-dP\n",
    "    phivp1=phiv_mist(T,X[2],np.array([[y1p], [X[1]]]))\n",
    "    phivn1=phiv_mist(T,X[2],np.array([[y1n], [X[1]]]))\n",
    "    phivp2=phiv_mist(T,X[2],np.array([[X[0]], [y2p]]))\n",
    "    phivn2=phiv_mist(T,X[2],np.array([[X[0]], [y2n]]))\n",
    "    phivp3=phiv_mist(T,Pp,X[0:2])\n",
    "    phivn3=phiv_mist(T,Pn,X[0:2])\n",
    "    F11p=(y1p)*phivp1[0]*X[2]\n",
    "    F11n=(y1n)*phivn1[0]*X[2]\n",
    "    J11=(F11p-F11n)/(2*dy1)\n",
    "    F12p=X[0]*phivp2[0]*X[2]\n",
    "    F12n=X[0]*phivn2[0]*X[2]\n",
    "    J12=(F12p-F12n)/(2*dy2)\n",
    "    F13p=X[0]*phivp3[0]*Pp\n",
    "    F13n=X[0]*phivn3[0]*Pn\n",
    "    J13=(F13p-F13n)/(2*dP)\n",
    "    F21p=X[1]*phivp1[1]*X[2]\n",
    "    F21n=X[1]*phivn1[1]*X[2]\n",
    "    J21=(F21p-F21n)/(2*dy1)\n",
    "    F22p=(y2p)*phivp2[1]*X[2]\n",
    "    F22n=(y2n)*phivn2[1]*X[2]\n",
    "    J22=(F22p-F22n)/(2*dy2)\n",
    "    F23p=X[1]*phivp3[1]*Pp\n",
    "    F23n=X[1]*phivn3[1]*Pn\n",
    "    J23=(F23p-F23n)/(2*dP)\n",
    "    J31=np.array(1)\n",
    "    J32=np.array(1)\n",
    "    J33=np.array(0)\n",
    "    J=np.array([[J11, J12, J13], [J21, J22, J23], [J31, J32, J33]],dtype='float')\n",
    "    #Próximo passo\n",
    "    \n",
    "    X=X-np.dot(nplin.inv(J),F)*0.1 #np.dot: multiplicação matricial\n",
    "    \n",
    "    RES=nplin.norm(np.abs(np.dot(nplin.inv(J),F)))\n",
    "\n",
    "    i=i+1\n",
    "print(X)\n",
    "print('Para T=298K, xac=0,6 e xwat=0,4')\n",
    "print('yac=',X[0])\n",
    "print('ywat=',X[1])\n",
    "print('P do Ponto de Bolha:',X[2]*10**-5,'bar')"
   ]
  },
  {
   "cell_type": "markdown",
   "metadata": {},
   "source": [
    "### Cálculo de Ponto de Orvalho:\n",
    "\n",
    "$y_i=z_i$\n",
    "\n",
    "Chute inicial: uma matriz contendo $x_1$, $x_2$ e P em uma coluna. Procedimento Newton-Raphson.\n"
   ]
  },
  {
   "cell_type": "code",
   "execution_count": 26,
   "metadata": {
    "collapsed": false
   },
   "outputs": [
    {
     "name": "stdout",
     "output_type": "stream",
     "text": [
      "[[  1.96886122e-02]\n",
      " [  9.80311388e-01]\n",
      " [  5.69515462e+03]]\n",
      "Para T=298K, xac=0,6 e xwat=0,4\n",
      "xac= [ 0.01968861]\n",
      "xwat= [ 0.98031139]\n",
      "P do Ponto de Orvalho: [ 0.05695155] bar\n"
     ]
    }
   ],
   "source": [
    "##Entradas\n",
    "#composição\n",
    "z1 = 0.6\n",
    "z2 = 1-z1\n",
    "z = np.array([[z1],[z2]])\n",
    "y=z #Ponto de Orvalho\n",
    "\n",
    "T=298 #Temperatura em K\n",
    "\n",
    "## Chute inicial\n",
    "chute = np.array([[0.02],\n",
    "                 [0.98],\n",
    "                 [0.013*10**5]])\n",
    "Y=chute\n",
    "## Parämetro de convergência\n",
    "RES=1\n",
    "TOL=1e-9\n",
    "MAX=10000\n",
    "i=0\n",
    "#Cálculo da P de saturação de acetona e água\n",
    "Psat_chute=np.array([[0.19*10**5],\n",
    "                    [0.013*10**5]])\n",
    "Psat=np.zeros(len(z))\n",
    "for i in range (len(z)):\n",
    "    Psat[i]=calc_P_sat(T,Psat_chute[i],Tc[i],Pc[i],w[i])\n",
    "\n",
    "while(RES>TOL and i<MAX): \n",
    "    #Gama de mistura\n",
    "    gamma=Gamma(T,Y[0:2],alpha,Aij)\n",
    "    #Fugacidade da fase vapor\n",
    "    phiv=phiv_mist(T,Y[2],y)\n",
    "    #Função F=0\n",
    "    F=np.array([y[0]*phiv[0]*Y[2]-Y[0]*gamma[0]*Psat[0],y[1]*phiv[1]*Y[2]-Y[1]*gamma[1]*Psat[1],Y[0]+Y[1]-1])\n",
    "    #Jacobiano\n",
    "    dx1=0.00001\n",
    "    dx2=0.00001\n",
    "    dP=0.001\n",
    "    x1p=Y[0]+dx1\n",
    "    x1n=Y[0]-dx1\n",
    "    x2p=Y[1]+dx2\n",
    "    x2n=Y[1]-dx2\n",
    "    Pp=Y[2]+dP\n",
    "    Pn=Y[2]-dP\n",
    "    gammap1=Gamma(T,np.array([[x1p], [Y[0]]]),alpha,Aij)\n",
    "    gamman1=Gamma(T,np.array([[x1n], [Y[0]]]),alpha,Aij)\n",
    "    gammap2=Gamma(T,np.array([Y[1], [x2p]]),alpha,Aij)\n",
    "    gamman2=Gamma(T,np.array([Y[1], [x2n]]),alpha,Aij)\n",
    "    phivp=phiv_mist(T,Pp,y)\n",
    "    phivn=phiv_mist(T,Pn,y)\n",
    "    F11p=-(x1p)*gammap1[0]*Psat[0]\n",
    "    F11n=-(x1n)*gamman1[0]*Psat[0]\n",
    "    J11=(F11p-F11n)/(2*dx1)\n",
    "    F12p=-Y[0]*gammap2[0]*Psat[0]\n",
    "    F12n=-Y[0]*gamman2[0]*Psat[0]\n",
    "    J12=(F12p-F12n)/(2*dx2)\n",
    "    F13p=y[0]*phivp[0]*Pp\n",
    "    F13n=y[0]*phivn[0]*Pn\n",
    "    J13=(F13p-F13n)/(2*dP)\n",
    "    F21p=-Y[1]*gammap2[1]*Psat[1]\n",
    "    F21n=-Y[1]*gamman2[1]*Psat[1]\n",
    "    J21=(F21p-F21n)/(2*dx1)\n",
    "    F22p=-(x2p)*gammap2[1]*Psat[1]\n",
    "    F22n=-(x2n)*gamman2[1]*Psat[1]\n",
    "    J22=(F22p-F22n)/(2*dx2)\n",
    "    F23p=X[1]*phivp[1]*Pp\n",
    "    F23n=X[1]*phivn[1]*Pn\n",
    "    J23=(F23p-F23n)/(2*dP)\n",
    "    J31=np.array(1)\n",
    "    J32=np.array(1)\n",
    "    J33=np.array(0)\n",
    "    J=np.array([[J11, J12, J13], [J21, J22, J23], [J31, J32, J33]],dtype='float')\n",
    "    #Próximo passo\n",
    "    \n",
    "    Y=Y-np.dot(nplin.inv(J),F)*0.1 #np.dot: multiplicação matricial\n",
    "    \n",
    "    RES=nplin.norm(np.abs(np.dot(nplin.inv(J),F)))\n",
    "\n",
    "    i=i+1\n",
    "print(Y)\n",
    "print('Para T=298K, xac=0,6 e xwat=0,4')\n",
    "print('xac=',Y[0])\n",
    "print('xwat=',Y[1])\n",
    "print('P do Ponto de Orvalho:',Y[2]*10**-5,'bar')"
   ]
  },
  {
   "cell_type": "markdown",
   "metadata": {},
   "source": [
    "### b) Cálculo de entalpia, energia de Gibbs, e entropia em excesso da mistura\n",
    "\n",
    "$\\bar{M}^E(T,P,\\boldsymbol{x})=\\bar{M}(T,P,\\boldsymbol{x})-\\bar{M}^{id}(T,P,\\boldsymbol{x})$\n",
    "\n",
    "$\\Delta\\bar{M}^E(T,P,\\boldsymbol{x})=\\Delta\\bar{M}(T,P,\\boldsymbol{x})-\\Delta\\bar{M}^{id}(T,P,\\boldsymbol{x})$\n",
    "\n",
    "De propriedades de mistura:\n",
    "\n",
    "$\\bar{M}=\\Delta\\bar{M^{o}}+\\sum_{i}^cx_i\\bar{M}_{i}^o$\n",
    "\n",
    "$\\bar{M}^E+\\bar{M}^{id}=\\Delta\\bar{M}^E+\\bar{M}^{id}$\n",
    "\n",
    "$\\bar{M}^E=\\Delta\\bar{M}^E$\n",
    "\n",
    "A partir das relações de propriedades de mistura, obtemos as propriedades de excesso desejadas:\n",
    "\n",
    "$\\frac{\\bar{G}^E}{RT}=\\sum_{i}^cx_iln(\\gamma_i)$\n",
    "\n",
    "$\\frac{\\bar{H}^E}{RT}=-T\\sum_{i}^cx_i\\left(\\frac{dln(\\gamma_i)}{dT}\\right),(P,\\boldsymbol{x} constantes)$\n",
    "\n",
    "$\\frac{\\bar{S}^E}{R}=-T\\sum_{i}^cx_i\\left(\\frac{dln(\\gamma_i)}{dT}\\right)-,\\sum_{i}^cx_iln(\\gamma_i)(P,\\boldsymbol{x} constantes)$\n",
    "\n",
    "$\\frac{\\bar{S}^E}{R}=\\frac{\\bar{H}^E}{RT}-\\frac{\\bar{G}^E}{RT}$"
   ]
  },
  {
   "cell_type": "code",
   "execution_count": 11,
   "metadata": {
    "collapsed": false
   },
   "outputs": [
    {
     "name": "stdout",
     "output_type": "stream",
     "text": [
      "[[ 0.6]\n",
      " [ 0.4]]\n"
     ]
    }
   ],
   "source": [
    "x1=0.6\n",
    "x2=1-x1\n",
    "x = np.array([[x1],[x2]])\n",
    "print(x)"
   ]
  },
  {
   "cell_type": "code",
   "execution_count": 21,
   "metadata": {
    "collapsed": false
   },
   "outputs": [
    {
     "name": "stdout",
     "output_type": "stream",
     "text": [
      "G de excesso a 289K [ 1341.88572906] J/mol\n"
     ]
    }
   ],
   "source": [
    "def G_exc(T,x,alpha,A):\n",
    "    gamma=Gamma(T,x,alpha,Aij)\n",
    "    g_exc=0         \n",
    "    for i in range(2):\n",
    "        g_exc += (R*T)*(x[i]*np.log(gamma[i]))\n",
    "    return g_exc\n",
    "g_exc=G_exc(T,x,alpha,Aij)\n",
    "print('Energia Livre de Gibbs de excesso da mistura a 289K',g_exc,'J/mol')"
   ]
  },
  {
   "cell_type": "code",
   "execution_count": 25,
   "metadata": {
    "collapsed": false
   },
   "outputs": [
    {
     "name": "stdout",
     "output_type": "stream",
     "text": [
      "Entalpia de excesso da mistura a 289K [ 567.58361308] J/mol\n",
      "Entropia de excesso da mistura a 289K [-2.59832925] J/mol\n"
     ]
    }
   ],
   "source": [
    "def H_exc(T,x,alpha,A):\n",
    "    dT = 0.0001\n",
    "    Tp = T+dT\n",
    "    Tn = T-dT\n",
    "    gammap=Gamma(Tp,x,alpha,Aij)\n",
    "    gamman=Gamma(Tn,x,alpha,Aij)\n",
    "    gam=(np.log(gammap)-np.log(gamman))/(2*dT)\n",
    "    h_exc=0        \n",
    "    for i in range(2):\n",
    "        h_exc += -(R*T**2)*(x[i]*gam[i])\n",
    "    return h_exc\n",
    "h_exc=H_exc(T,x,alpha,Aij)\n",
    "print('Entalpia de excesso da mistura a 289K',h_exc,'J/mol')\n",
    "\n",
    "def S_exc(T,x,alpha,A):\n",
    "    s_exc = R*(h_exc/(R*T)-g_exc/(R*T))\n",
    "    return s_exc\n",
    "s_exc=S_exc(T,x,alpha,Aij)\n",
    "print('Entropia de excesso da mistura a 289K',s_exc,'J/mol')"
   ]
  },
  {
   "cell_type": "markdown",
   "metadata": {},
   "source": [
    "# Referências:\n",
    "Abreu, C. R. A., Matrix Algebra and Matrix Differentiation Rules Applied to Excess Gibbs Energy Models, Notas de aula, 18 p.\n",
    "\n",
    "LLCHTENBETT, J.H; SCHRAMT, B.J. Vapor-Liquid Equilibrium of Water-Acetone-Air at Ambient Temperatures and  Pressures. An Analysis of Different VLE-Fitting Methods. Industrial & Engineering Chemistry Process Design and Development,  v.24, p. 391-987, 1985.\n",
    "\n",
    "PRAUSNITZ, J.M.; POLING, B.E.; O'CONNELL, J.P. The Properties of Gases and Liquids. 5 Edição, McGraw-Hill, 2001. 803 p."
   ]
  }
 ],
 "metadata": {
  "anaconda-cloud": {},
  "kernelspec": {
   "display_name": "Python [default]",
   "language": "python",
   "name": "python3"
  },
  "language_info": {
   "codemirror_mode": {
    "name": "ipython",
    "version": 3
   },
   "file_extension": ".py",
   "mimetype": "text/x-python",
   "name": "python",
   "nbconvert_exporter": "python",
   "pygments_lexer": "ipython3",
   "version": "3.5.2"
  }
 },
 "nbformat": 4,
 "nbformat_minor": 1
}
