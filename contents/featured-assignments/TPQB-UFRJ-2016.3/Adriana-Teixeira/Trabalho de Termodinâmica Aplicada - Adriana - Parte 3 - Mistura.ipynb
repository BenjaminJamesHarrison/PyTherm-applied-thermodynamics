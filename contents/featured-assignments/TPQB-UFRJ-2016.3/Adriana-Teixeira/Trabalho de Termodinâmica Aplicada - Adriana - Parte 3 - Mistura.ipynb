{
 "cells": [
  {
   "cell_type": "markdown",
   "metadata": {
    "collapsed": true
   },
   "source": [
    "# Trabalho de Termodinâmica Aplicada: \n",
    "### Cálculos de propriedades termodinâmicas e de equilíbrio de fases utilizando equações de estado e modelos de G de excesso"
   ]
  },
  {
   "cell_type": "markdown",
   "metadata": {},
   "source": [
    "##### Adriana Teixeira\n",
    "##### TPQB - Doutorado\n",
    "##### 2016/3"
   ]
  },
  {
   "cell_type": "code",
   "execution_count": 1,
   "metadata": {
    "collapsed": true
   },
   "outputs": [],
   "source": [
    "from scipy import optimize as opt"
   ]
  },
  {
   "cell_type": "markdown",
   "metadata": {},
   "source": [
    "#### O objetivo deste trabalho é realizar cálculos de propriedades termodinâmicas para os componentes puros ÁGUA e ETANOL, considerando a Equação de Estado SRK, e em seguida realizar cálculos para a mistura destes compostos, utilizando o modelo NRTL de G de excesso. \n",
    "\n",
    "#### Para facilitar a execução, este trabalho foi dividido em três arquivos:\n",
    ">* 1- Cálculos para o componente puro AGUA\n",
    ">* 2- Cálculos para o componente puro ETANOL\n",
    ">* 3- Cálculos para o sistema binário AGUA + ETANOL"
   ]
  },
  {
   "cell_type": "markdown",
   "metadata": {},
   "source": [
    "### *3) Cálculos para o sistema binário AGUA + ETANOL\n",
    "\n",
    "O primeiro passo é avaliar o sistema pela Regra das fases de Gibbs, para conhecer os graus de liberdade permitidos. Assim, para dois componentes, em equilíbrio L-V:  \n",
    "\n",
    "Variância = C − F + 2 = 2 - 2 + 2  = 2\n",
    "\n",
    "Entao são necessárias 2 variáveis independentes para caracterizar o sistema. "
   ]
  },
  {
   "cell_type": "markdown",
   "metadata": {},
   "source": [
    "#### *A) Equilíbrio líquido-vapor de misturas*\n",
    "\n",
    "\n",
    "Há duas opções para o cálculo de propriedades de misturas: \n",
    ">* usar EoS direto para as duas fases\n",
    ">* usar propriedades em excesso para a fase líquida\n",
    "\n",
    "Como não há bons modelos de Cp, mede-se Cp do componente puro com a pressão indo a zero (gas ideal) - Cpi' (T). Assim, para calcular o Cp de uma mistura como gas ideal (Cp'), como os componentes não se enxergam, temos que Cp'=somatorio(xi.Cpi'). Ainda assim, o fato de não termos modelos de Cp pode nos deixar em dúvida se a Equação de Estado, que é ótima para calcular propriedades PVT de fases gasosas, continua sendo boa para calcular propriedades de fases líquidas e sólidas. \n",
    "\n",
    "No caso de fases líquidas é comum utilizar as chamadas propriedades em excesso, e modelos de G de excesso. Estes modelos consideram a não-idealidade da fase líquida ao incluir o coeficiente de atividade dos componentes presentes na fase. \n",
    "\n",
    "##### Equilibrio de fases\n",
    "\n",
    "Na condição de equilíbrio há igualdade de potenciais quimicos (e de fugacidade) de cada componente em cada fase, nas mesmas condições de P e T. A fugacidade de cada componente nas fases líquido e vapor pode ser expressa de diferentes maneiras:\n",
    "\n",
    ">* ${f(i)}^{\\mathrm{(v)}}(T,P,y) = {y(i)}.FI(i)^{\\mathrm{(v)}}(T,P,y).P$      (FI é o coeficiente de fugacidade)\n",
    ">* ${f(i)}^{\\mathrm{(l)}}(T,P,x) = {x(i)}.FI(i)^{\\mathrm{(l)}}(T,P,x).P$      (usando EoS para fase l)\n",
    ">* ${f(i)}^{\\mathrm{(l)}}(T,P,x) = {x(i)}{Gamma(i)}(T,x){P(i)}^{\\mathrm{sat}}{FI(i)}^{\\mathrm{sat}}.{correcao de Point}$  (usando modelos Gexcesso para a fase líquida)\n",
    "\n",
    "\n",
    "Assim, para a igualdade de fugacidades no equilíbrio pode-se fazer duas considerações: \n",
    ">* *Usar EoS para as duas fases:*\n",
    ">* ${y(i)}.FI(i)^{\\mathrm{(v)}}(T,P,y) = {x(i)}.FI(i)^{\\mathrm{(l)}}(T,P,x)$\n",
    ">*\n",
    ">* *Usar modelos de Gexcesso para a fase L:*\n",
    ">* ${y(i)}.FI(i)^{\\mathrm{(v)}}(T,P,y) = {x(i)}{Gamma(i)}(T,x){P(i)}^{\\mathrm{sat}}{FI(i)}^{\\mathrm{sat}}.{correcao de Point}$\n",
    "\n",
    "\n",
    "Seguindo a equação que considera um modelo de Gexcesso para a fase líquida, pode-se fazer duas simplificações :\n",
    ">* considerar mistura ideal na fase gasosa (assim a fugacidade é igual à pressão parcial de i):\n",
    "${y(i)}{P} = {x(i)}{Gamma(i)}{P(i)}^{\\mathrm{sat}}$  (Lei de Raoult modificada). Esta simplificação pode ser feita pois o termo ${FI(i)}^{\\mathrm{sat}}.{correcao de Point}$ pode ser aproximado para um, pois os efeitos se compensam. \n",
    "\n",
    ">* considerar mistura ideal na fase líquida:\n",
    "${y(i)}{P} = {x(i)}{P(i)}^{\\mathrm{sat}}$  (Lei de Raoult) Na mistura ideal o coeficiente de atividade é igual a 1. \n",
    "\n",
    "Neste trabalho será utilizada a Lei de Raoult modificada:\n",
    "\n",
    "${y(i)}{P} = {x(i)}{Gamma(i)}{P(i)}^{\\mathrm{sat}}$ "
   ]
  },
  {
   "cell_type": "markdown",
   "metadata": {},
   "source": [
    "Para realizar os cálculos anteriores é necessário conhecer as pressões de saturação dos componentes da mistura. Este cálculo será feito pela Equação de Antoine, para tentar ter alguma precisão experimental e não considerar a equação de estado.E também por este motivo utilizaremos um modelo de G de excesso."
   ]
  },
  {
   "cell_type": "markdown",
   "metadata": {},
   "source": [
    "## Cálculo de ${P}^{\\mathrm{ sat}}$ pela Equação de Antoine"
   ]
  },
  {
   "cell_type": "code",
   "execution_count": 2,
   "metadata": {
    "collapsed": true
   },
   "outputs": [],
   "source": [
    "# Definição de Psat(T,Componente)\n",
    "# Fonte DDBST\n",
    "\n",
    "def P_antoine(T,comp):\n",
    "    \n",
    "    A=0\n",
    "    B=0\n",
    "    C=0\n",
    "    \n",
    "    if comp == 1: # Água\n",
    "        if T<(1+273.15):\n",
    "            return 0\n",
    "    \n",
    "        elif T<(100+273.15):\n",
    "            A = 8.07131\n",
    "            B = 1730.63\n",
    "            C = 233.426\n",
    "            \n",
    "        elif T<(374+273.15):\n",
    "            A = 8.14019\n",
    "            B = 1810.94\n",
    "            C = 244.485\n",
    "        \n",
    "        else:\n",
    "            return 0\n",
    "       \n",
    "    elif comp == 2: #Etanol\n",
    "        if T<(-57+273.15):\n",
    "            return 0\n",
    "    \n",
    "        elif T<=(80+273.15):\n",
    "            A = 8.20417\n",
    "            B = 1642.89\n",
    "            C = 230.3\n",
    "            \n",
    "        elif T<=(243+273.15):\n",
    "            A = 7.68117\n",
    "            B = 1332.04\n",
    "            C = 199.2\n",
    "        \n",
    "        elif T == 5.1635e2:\n",
    "            return 6.3e6\n",
    "        \n",
    "        else:\n",
    "            return 0\n",
    "    \n",
    "    elif comp ==3: #Hexano\n",
    "        \n",
    "        if T < (-95+273.15):\n",
    "            return 0 #no correlation available\n",
    "        \n",
    "        elif T <= (235+273.15):\n",
    "            A=7.01051\n",
    "            B=1246.33\n",
    "            C=232.988\n",
    "               \n",
    "        else:\n",
    "            return 0\n",
    "       \n",
    "    return 10**(A - B/(C+T-273.15))*101325/760 # T em Kelvin e P convertido para Pascal"
   ]
  },
  {
   "cell_type": "markdown",
   "metadata": {},
   "source": [
    "Conhecendo-se as pressões de saturação, pode-se seguir para o cálculo de Gama da mistura, pois vamos considerar que não podemos utilizar equações de estado para a fase líquida. \n"
   ]
  },
  {
   "cell_type": "markdown",
   "metadata": {},
   "source": [
    "## Modelo NRTL (Non Random Two Liquids) para Energia de Gibbs em Excesso ${G}^{\\mathrm{ E}}$\n",
    "\n",
    "O modelo de G de excesso escolhido neste trabalho é o modelo NRTL, descrito a seguir.\n",
    "\n",
    "$$ \\frac{g^E}{RT}=\\sum_{i=1}^n \\left[ x_i\\frac{\\sum_{j=1}^n \\left[ \\tau_{j,i} G_{j,i} x_{j} \\right] }{\\sum_{k=1}^n \\left[ G_{k,i} x_k \\right] } \\right] $$\n",
    "\n",
    "Onde:\n",
    "\n",
    "$\\tau_{i,j}= \\frac{g_{i,j}-g_{j,j}}{RT}=\\frac{A_{i,j}}{T}$\n",
    "\n",
    "$G_{i,j}=\\mathrm{exp}(-\\alpha_{i,j} \\tau_{i,j})$\n",
    "\n",
    "Cada diferença $(g_{i,j}-g_{j,j})$ (em unidades de energia) e cada parametro de interação binaria  $A_{i,j}$ (em unidades de temperatura) são ajustados experimentalmente. \n",
    "\n",
    "Os coeficientes de atividade são calculados a partir derivação da expressão acima em relação ao numero de moles de cada componente i, mantendo constantes T, P e os demais componentes. \n",
    "\n",
    " $$ln(\\gamma_i)= \\frac{\\sum_{j=1}^n\\left[\\tau_{j,i} G_{j,i} x_{j}\\right]}{\\sum_{k=1}^n\\left[G_{k,i}x_{k}\\right]} + \\sum_{j=1}^n\\left[ \\left(\\frac{\\ G_{i,j} x_{j}}{\\sum_{k=1}^n\\left[G_{k,j}x_{k}\\right]}\\right) \\left(\\tau_{i,j}-\\frac{\\sum_{j=1}^n\\left[\\tau_{i,j} G_{i,j} x_{i}\\right]}{\\sum_{k=1}^n\\left[G_{k,j}x_{k}\\right]} \\right) \\right] $$\n",
    "\n",
    "O trabalho original deste modelo é :\n",
    "* Renon H., Prausnitz J. M., \"Local Compositions in Thermodynamic Excess Functions for Liquid Mixtures\", AIChE J., 14_1, S.135–144, 1968 [doi:10.1002/aic.690140124](https://doi.org/10.1002/aic.690140124)\n",
    "\n",
    "Em um trabalho posterior os mesmos autores estimam os parâmetros necessários para o modelo, considerando o sistema água, etanol e acetato de etila. Os dados dos coeficientes de interação binária entre água e etanol foram utilizados neste trabalho.\n",
    "\n",
    "* Renon, H., Prausnitz, J.M., \"Estimation of parameters for the NRTL equation for excess Gibbs energies of strongly nonideal liquid mixtures.\" Industrial & Engineering Chemistry Process Design and Development 8.3 (1969): 413-419.\n",
    "[DOI:10.1021/i260031a019]( https://doi.org/10.1021/i260031a019)\n"
   ]
  },
  {
   "cell_type": "code",
   "execution_count": 3,
   "metadata": {
    "collapsed": true
   },
   "outputs": [],
   "source": [
    "import numpy as np\n",
    "\n",
    "# Temperatura e composições de teste\n",
    "\n",
    "T = 293.15            #K\n",
    "x = np.array([.5,.5]) #normalizado\n",
    "R = 8.3144598     #J.mol^−1.K^−1\n",
    "\n",
    "\n",
    "# 1 = Água\n",
    "# 2 = Etanol\n",
    "\n",
    "alpha12 = alpha21 = 0.3\n",
    "\n",
    "\n",
    "# Parâmetros de interação binárias\n",
    "\n",
    "A12 = 976/R*4.18 #K\n",
    "A21 = 88/R*4.18  #K"
   ]
  },
  {
   "cell_type": "code",
   "execution_count": 4,
   "metadata": {
    "collapsed": false
   },
   "outputs": [
    {
     "name": "stdout",
     "output_type": "stream",
     "text": [
      "[[ 0.   0.3]\n",
      " [ 0.3  0. ]]\n"
     ]
    }
   ],
   "source": [
    "# Matrix com os parâmetros A_i,j\n",
    "# De acordo com o modelo os termos diagonais são nulos \n",
    "A = np.array([[0, A12],\n",
    "             [A21, 0]])\n",
    "\n",
    "# Matriz simétrica alpha\n",
    "alpha = np.array([[0, alpha12],\n",
    "                [alpha21, 0]])\n",
    "\n",
    "print(alpha)"
   ]
  },
  {
   "cell_type": "code",
   "execution_count": 5,
   "metadata": {
    "collapsed": false
   },
   "outputs": [
    {
     "name": "stdout",
     "output_type": "stream",
     "text": [
      "i,j,alpha[i,j],A[i,j]\n",
      "(0, 0, 0.0, 0.0)\n",
      "(0, 1, 0.29999999999999999, 490.6728877322854)\n",
      "(1, 0, 0.29999999999999999, 44.240998074222453)\n",
      "(1, 1, 0.0, 0.0)\n",
      "\n",
      "alpha=\n",
      "[[ 0.   0.3]\n",
      " [ 0.3  0. ]]\n",
      "\n",
      "A=\n",
      "[[   0.          490.67288773]\n",
      " [  44.24099807    0.        ]]\n",
      "\n",
      "alpha12,alpha21\n",
      "(0.3, 0.3)\n",
      "\n",
      "A12,A21\n",
      "(490.6728877322854, 44.24099807422245)\n"
     ]
    }
   ],
   "source": [
    "# Verificando as matrizes\n",
    "\n",
    "# Desta maneira pode-se acessar facilmente seus termos \n",
    "\n",
    "print(\"i,j,alpha[i,j],A[i,j]\")\n",
    "for i in range(2):\n",
    "    for j in range(2):\n",
    "        print(i,j,alpha[i,j],A[i,j])\n",
    "        \n",
    "#or even use the whole matrix at once\n",
    "print(\"\")\n",
    "print(\"alpha=\")\n",
    "print(alpha)\n",
    "print(\"\")\n",
    "print(\"A=\")\n",
    "print(A)\n",
    "print(\"\")\n",
    "# rather than typing each element individually\n",
    "print(\"alpha12,alpha21\")\n",
    "print(alpha12,alpha21)\n",
    "print(\"\")\n",
    "print(\"A12,A21\")\n",
    "print(A12,A21)"
   ]
  },
  {
   "cell_type": "code",
   "execution_count": 6,
   "metadata": {
    "collapsed": false
   },
   "outputs": [
    {
     "name": "stdout",
     "output_type": "stream",
     "text": [
      "tau=\n",
      "[[ 0.          1.6737946 ]\n",
      " [ 0.15091591  0.        ]]\n",
      "\n",
      "G=\n",
      "[[ 1.          0.60523505]\n",
      " [ 0.95573484  1.        ]]\n"
     ]
    }
   ],
   "source": [
    "# Matriz Tau\n",
    "\n",
    "tau=np.zeros([2,2])\n",
    "for j in range(2):\n",
    "    for i in range(2):\n",
    "        tau[j,i]=A[j,i]/T\n",
    "print(\"tau=\")\n",
    "print(tau)\n",
    "\n",
    "print(\"\")\n",
    "\n",
    "# Matriz G\n",
    "\n",
    "G=np.zeros([2,2])\n",
    "for j in range(2):\n",
    "    for i in range(2):\n",
    "        G[j,i]=np.exp((-alpha[j,i]*tau[j,i]))\n",
    "print(\"G=\")\n",
    "print(G)"
   ]
  },
  {
   "cell_type": "code",
   "execution_count": 7,
   "metadata": {
    "collapsed": false
   },
   "outputs": [
    {
     "name": "stdout",
     "output_type": "stream",
     "text": [
      "[ 1.53600055  1.31739026]\n"
     ]
    }
   ],
   "source": [
    "# Definição de Gamma\n",
    "\n",
    "def Gamma(T,x,alpha,A):\n",
    "\n",
    "    tau=np.zeros([2,2]) # Água e Etanol\n",
    "    for j in range(2):\n",
    "        for i in range(2):\n",
    "            tau[j,i]=A[j,i]/T    \n",
    "    \n",
    "    G=np.zeros([2,2])\n",
    "    for j in range(2):\n",
    "        for i in range(2):\n",
    "            G[j,i]=np.exp((-alpha[j,i]*tau[j,i]))\n",
    "    \n",
    "    Gamma=np.zeros([2])\n",
    "    for i in range(2):\n",
    "\n",
    "        Sj1=0\n",
    "        Sj2=0\n",
    "        Sj3=0\n",
    "        for j in range(2):\n",
    "            Sj1 += tau[j,i]*G[j,i]*x[j]\n",
    "            Sj2 += G[j,i]*x[j]\n",
    "    \n",
    "            Sk1=0\n",
    "            Sk2=0\n",
    "            Sk3=0\n",
    "            for k in range(2):\n",
    "                Sk1 += G[k,j]*x[k]\n",
    "                Sk2 += x[k]*tau[k,j]*G[k,j]\n",
    "                Sk3 += G[k,j]*x[k]\n",
    "            \n",
    "            Sj3 += ((x[j]*G[i,j])/(Sk1))*(tau[i,j]-(Sk2)/(Sk3))\n",
    "        \n",
    "        Gamma[i]=np.exp(Sj1/Sj2 + Sj3)\n",
    "    \n",
    "    return Gamma\n",
    "\n",
    "print(Gamma(T,x,alpha,A))"
   ]
  },
  {
   "cell_type": "code",
   "execution_count": 8,
   "metadata": {
    "collapsed": false
   },
   "outputs": [
    {
     "name": "stdout",
     "output_type": "stream",
     "text": [
      "('P_sat 1 =', 2329.5753519365844, 'Pa')\n",
      "('P_sat 2 =', 5826.254353148996, 'Pa')\n"
     ]
    }
   ],
   "source": [
    "# Teste do cálculo de Psat por Antoine\n",
    "\n",
    "print(\"P_sat 1 =\",P_antoine(T,1),\"Pa\")\n",
    "print(\"P_sat 2 =\",P_antoine(T,2),\"Pa\")"
   ]
  },
  {
   "cell_type": "markdown",
   "metadata": {},
   "source": [
    "## Cálculo da Pressão de Bolha da mistura (${P}_{\\mathrm{ bolha}}$)"
   ]
  },
  {
   "cell_type": "code",
   "execution_count": 9,
   "metadata": {
    "collapsed": false
   },
   "outputs": [
    {
     "name": "stdout",
     "output_type": "stream",
     "text": [
      "('x 1 =', 0.5)\n",
      "('x 2 =', 0.5)\n",
      "\n",
      "('Gamma 1 =', 1.5360005518378324)\n",
      "('Gamma 2 =', 1.3173902639189194)\n",
      "\n",
      "('P_sat 1 =', 2329.5753519365844, 'Pa')\n",
      "('P_sat 2 =', 5826.254353148996, 'Pa')\n",
      "\n",
      "('P_bolha =', 5626.8398930380581, 'Pa')\n"
     ]
    }
   ],
   "source": [
    "# P_bolha = Somatório (x(i) * gamma(i)* P(i)_sat)\n",
    "\n",
    "def P_bolha(T,x):\n",
    "    \n",
    "    P = np.zeros(2)\n",
    "    \n",
    "    for i in range (2): # 2 componentes\n",
    "        \n",
    "#        P = 0      \n",
    "#        P = P + x[i]*Gamma(T,x,alpha,A)[i]*P_antoine(T,i+1)\n",
    "#        print(d,P)\n",
    "\n",
    "        P[i] = x[i]*Gamma(T,x,alpha,A)[i]*P_antoine(T,i+1) # Para i=0 -> Componente=1 | Para i=1 -> Componente=2)\n",
    "#        print (i,P[i])\n",
    "    \n",
    "    return P[i]+P[i-1]\n",
    "\n",
    "# Teste da função\n",
    "\n",
    "T_teste = 293.15\n",
    "x_teste = [.5,.5]\n",
    "\n",
    "# Imprime dos valores para as condições de teste\n",
    "\n",
    "print(\"x 1 =\",x_teste[0])\n",
    "print(\"x 2 =\",x_teste[1])\n",
    "print(\"\")\n",
    "print(\"Gamma 1 =\",Gamma(T_teste,x_teste,alpha,A)[0])\n",
    "print(\"Gamma 2 =\",Gamma(T_teste,x_teste,alpha,A)[1])\n",
    "print(\"\")\n",
    "print(\"P_sat 1 =\",P_antoine(T_teste,1),\"Pa\")\n",
    "print(\"P_sat 2 =\",P_antoine(T_teste,2),\"Pa\")\n",
    "print(\"\")\n",
    "print(\"P_bolha =\",P_bolha(T_teste,x_teste),\"Pa\")"
   ]
  },
  {
   "cell_type": "markdown",
   "metadata": {},
   "source": [
    "## Cálculo da curva de ELV da mistura (${P}_{\\mathrm{ bolha}}$ e ${P}_{\\mathrm{ orvalho}}$ )\n"
   ]
  },
  {
   "cell_type": "code",
   "execution_count": 10,
   "metadata": {
    "collapsed": false
   },
   "outputs": [],
   "source": [
    "# CÓDIGO MODIFICADO\n",
    "# Temperatura\n",
    "\n",
    "T_dado = 273.15+200 # Unidade K\n",
    "\n",
    "grid_x1       = np.zeros(101)\n",
    "grid_y1       = np.zeros(101)\n",
    "grid_P_bolha  = np.zeros(101)\n",
    "\n",
    "i = 0\n",
    "\n",
    "for x1 in np.linspace(0,1,101):\n",
    "    \n",
    "    grid_x1[i]      = x1\n",
    "    \n",
    "    x2              = 1 - x1\n",
    "\n",
    "    x_vetor         = [x1,x2]\n",
    "    \n",
    "    grid_P_bolha[i] = P_bolha(T_dado,x_vetor)\n",
    "    \n",
    "    grid_y1[i]      = x1*Gamma(T_dado,x_vetor,alpha,A)[0]*P_antoine(T_dado,1)/P_bolha(T_dado,x_vetor)  #Porvalho\n",
    "    \n",
    "#    print(i,x1,u[i],grid_P_bolha[i])\n",
    "    \n",
    "    i = i+1\n",
    "    \n",
    "#print(grid_x1,grid_P_bolha,grid_y1)\n",
    "\n",
    "\n"
   ]
  },
  {
   "cell_type": "code",
   "execution_count": 11,
   "metadata": {
    "collapsed": false
   },
   "outputs": [],
   "source": [
    "# Dados experimentais de ELV água-etanol (fração molar de água em cada fase)\n",
    "# Referência: F. Barr-David, B.F. Dodge, J. Chem. Eng. Data 4 (1959) 107–121.\n",
    "\n",
    "table = np.loadtxt('Etanol liquido 200 oC.txt', dtype='float', comments='#', delimiter=None, converters=None, skiprows=0, usecols=None, unpack=False, ndmin=0)\n",
    "grid_x1L_exp = 1-table[:,0]                # converter fração molar de etanol em fração molar de água\n",
    "grid_Pbolha_exp = table[:,1]*6894.757     # converter psi para Pa\n",
    "\n",
    "table = np.loadtxt('Etanol vapor 200 oC.txt', dtype='float', comments='#', delimiter=None, converters=None, skiprows=0, usecols=None, unpack=False, ndmin=0)\n",
    "grid_x1V_exp = 1-table[:,0]                # converter fração molar de etanol em fração molar de água\n",
    "grid_Porvalho_exp = table[:,1]*6894.757     # converter psi para Pa\n",
    "\n"
   ]
  },
  {
   "cell_type": "code",
   "execution_count": 12,
   "metadata": {
    "collapsed": false
   },
   "outputs": [
    {
     "data": {
      "image/png": "[encoded data removed]",
      "text/plain": [
       "<matplotlib.figure.Figure at 0x96304f0>"
      ]
     },
     "metadata": {},
     "output_type": "display_data"
    }
   ],
   "source": [
    "## Plotando o gráfico \n",
    "\n",
    "import matplotlib.pyplot as plt\n",
    "%matplotlib inline\n",
    "\n",
    "#ativar uma figura 1\n",
    "plt.figure(1)\n",
    "\n",
    "#legend=[] #iniciador do objeto legenda\n",
    "\n",
    "#plt.subplot(121) #activate a subplot\n",
    "plt.title('Grafico Pxy, Agua-Etanol 200 oC')\n",
    "plt.xlabel('x1,y1, Agua')\n",
    "plt.ylabel('Pressao, Pa')\n",
    "plt.xlim([0,1])\n",
    "#traçar\n",
    "\n",
    "plt.plot(grid_x1,grid_P_bolha, label='P_bolha') #label é a etiqueta que será usada na legenda\n",
    "plt.plot(grid_y1,grid_P_bolha, label='P_orvalho') \n",
    "plt.scatter(grid_x1L_exp,grid_Pbolha_exp, label='P_bolha exp',color='b') \n",
    "plt.scatter(grid_x1V_exp,grid_Porvalho_exp, label='P_orvalho exp',color='g') \n",
    "\n",
    "plt.legend(loc=0)\n",
    "\n",
    "plt.show()"
   ]
  },
  {
   "cell_type": "markdown",
   "metadata": {},
   "source": [
    "## Cálculo de Propriedades Termodinâmicas de Misturas\n",
    "\n",
    "As propriedades termodinâmicas de fases líquidas são calculadas de maneira mais precisa através de propriedades que medem o seu afastamento de soluções ideais, e não de gases ideais. Assim:\n",
    "\n",
    "${M^e} = M - {M^{id}}$\n",
    "\n",
    "Nesta parte do trabalho serão calculadas as propriedades em excesso: entalpia, energia de Gibbs e entropia. Ao final será feita uma comparação com dados experimentais. \n",
    "\n",
    "Propriedade em excesso é a diferença entre o valor de uma propriedade para uma solução real e o valor da mesma propriedade para uma solução ideal, nas mesmas condições de T, P e x\n",
    "\n",
    "$\\frac{G^e}{RT} = \\frac{H^e}{RT} - \\frac{S^e}{R}$\n",
    "\n",
    "ou\n",
    "\n",
    "$\\frac{G^e}{RT} = \\sum{x(i)}.{ln Gamma(i)}$\n",
    "\n",
    "Para P e x constantes: \n",
    "\n",
    "${H^e} = - {RT}{^2} \\frac{d(G^e/RT)}{dT} $\n",
    "\n",
    "${S^e} =\\frac{dG^e}{dT} $\n"
   ]
  },
  {
   "cell_type": "code",
   "execution_count": 13,
   "metadata": {
    "collapsed": false
   },
   "outputs": [
    {
     "name": "stdout",
     "output_type": "stream",
     "text": [
      "[   0.           28.1815487    55.98377126   83.40314943  110.43610659\n",
      "  137.07900659  163.32815256  189.17978569  214.63008394  239.67516078\n",
      "  264.31106385  288.53377362  312.33920201  335.72319092  358.68151084\n",
      "  381.20985932  403.30385943  424.95905821  446.17092503  466.93484997\n",
      "  487.24614212  507.10002782  526.49164889  545.41606079  563.86823078\n",
      "  581.84303592  599.33526117  616.3395973   632.85063884  648.86288192\n",
      "  664.37072209  679.36845202  693.85025926  707.81022376  721.2423155\n",
      "  734.14039195  746.49819547  758.30935067  769.56736169  780.26560937\n",
      "  790.39734837  799.95570424  808.93367029  817.32410456  825.11972648\n",
      "  832.31311364  838.8966983   844.86276396  850.20344163  854.9107062\n",
      "  858.97637257  862.39209168  865.14934648  867.23944772  868.65352962\n",
      "  869.38254546  869.417263    868.7482597   867.36591793  865.26041991\n",
      "  862.42174254  858.8396521   854.50369869  849.40321063  843.52728854\n",
      "  836.86479934  829.40437001  821.13438113  812.04296028  802.11797516\n",
      "  791.34702648  779.71744071  767.21626243  753.83024663  739.54585052\n",
      "  724.34922529  708.22620742  691.16230979  673.14271245  654.15225306\n",
      "  634.17541705  613.19632739  591.19873401  568.16600284  544.08110452\n",
      "  518.92660264  492.68464155  465.33693382  436.86474712  407.24889077\n",
      "  376.46970162  344.50702957  311.34022246  276.94811041  241.30898958\n",
      "  204.40060531  166.20013466  126.68416814   85.82869095   43.60906329\n",
      "    0.        ]\n"
     ]
    }
   ],
   "source": [
    "## Propriedades em Excesso\n",
    "\n",
    "\n",
    "T_dado = 293.15 # Unidade K\n",
    "\n",
    "u=np.zeros(101)\n",
    "G_exc=np.zeros(101)\n",
    "\n",
    "i = 0\n",
    "for x1 in np.linspace(0,1,101):\n",
    "        \n",
    "    u[i] = x1\n",
    "    x2 = 1 - x1\n",
    "    x_vetor = [x1,x2]\n",
    "    \n",
    "    \n",
    "    Gamma_vetor=Gamma(T_teste,x_vetor,alpha,A)\n",
    "    \n",
    "    Gamma1=Gamma_vetor[0]\n",
    "    Gamma2=Gamma_vetor[1]\n",
    "\n",
    "    G_exc[i]=(x1*np.log(Gamma1)+x2*np.log(Gamma2))*(R*T)\n",
    "             \n",
    "   \n",
    "    i = i+1\n",
    "\n",
    "\n",
    "print(G_exc)\n"
   ]
  },
  {
   "cell_type": "code",
   "execution_count": 14,
   "metadata": {
    "collapsed": false
   },
   "outputs": [
    {
     "data": {
      "image/png": "[encoded data removed]",
      "text/plain": [
       "<matplotlib.figure.Figure at 0x45c9430>"
      ]
     },
     "metadata": {},
     "output_type": "display_data"
    }
   ],
   "source": [
    "#plt.figure(1)\n",
    "\n",
    "#legend=[] #iniciador do objeto legenda\n",
    "\n",
    "plt.xlabel('x1,Agua')\n",
    "plt.ylabel('J mol-1')\n",
    "\n",
    "\n",
    "#traçar\n",
    "\n",
    "plt.plot(u,G_exc, label='G_excesso') #label é a etiqueta que será usada na legenda\n",
    "\n",
    "plt.legend(loc=1)\n",
    "\n",
    "plt.show()"
   ]
  },
  {
   "cell_type": "markdown",
   "metadata": {
    "collapsed": true
   },
   "source": [
    "Agora, faltam calcular a ${H^e}$ e a ${S^e}$, e comparar tudo com dados experimentais. Por fim calcular deltaH e deltaS reais."
   ]
  }
 ],
 "metadata": {
  "anaconda-cloud": {},
  "kernelspec": {
   "display_name": "Python [conda root]",
   "language": "python",
   "name": "conda-root-py"
  },
  "language_info": {
   "codemirror_mode": {
    "name": "ipython",
    "version": 2
   },
   "file_extension": ".py",
   "mimetype": "text/x-python",
   "name": "python",
   "nbconvert_exporter": "python",
   "pygments_lexer": "ipython2",
   "version": "2.7.12"
  }
 },
 "nbformat": 4,
 "nbformat_minor": 1
}
