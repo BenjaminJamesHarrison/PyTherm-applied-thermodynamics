{
 "cells": [
  {
   "cell_type": "markdown",
   "metadata": {},
   "source": [
    "# Introdução aos cálculos de propriedades termodinâmicas e de equilíbrio de fases utilizando equações de estado (EoS) e modelos de ${G}^{\\mathrm{ E}}$"
   ]
  },
  {
   "cell_type": "markdown",
   "metadata": {},
   "source": [
    "* Elaborado por Antonio A. R. Patricio\n",
    "* Disciplina Termodinâmica aplicada\n",
    "* Trimestre 2016.3\n",
    "* Rev.2 - Alteração dos parâmetros de Chafer por Renon e retorno do sinal + no cálculo de gamma"
   ]
  },
  {
   "cell_type": "markdown",
   "metadata": {},
   "source": [
    "## Parte 2 - Uso da equação de estado + modelo de ${G}^{\\mathrm{ E}}$ para cálculos com misturas binárias"
   ]
  },
  {
   "cell_type": "markdown",
   "metadata": {},
   "source": [
    "## Cálculo de ${P}^{\\mathrm{ sat}}$ pela Equação de Antoine"
   ]
  },
  {
   "cell_type": "code",
   "execution_count": 203,
   "metadata": {
    "collapsed": true
   },
   "outputs": [],
   "source": [
    "# Definição de Psat(T,Componente)\n",
    "# Fonte DDBST\n",
    "\n",
    "def P_antoine(T,comp):\n",
    "    \n",
    "    A=0\n",
    "    B=0\n",
    "    C=0\n",
    "    \n",
    "    if comp == 1: # Água\n",
    "        if T<(1+273.15):\n",
    "            return 0\n",
    "    \n",
    "        elif T<(100+273.15):\n",
    "            A = 8.07131\n",
    "            B = 1730.63\n",
    "            C = 233.426\n",
    "            \n",
    "        elif T<(374+273.15):\n",
    "            A = 8.14019\n",
    "            B = 1810.94\n",
    "            C = 244.485\n",
    "        \n",
    "        else:\n",
    "            return 0\n",
    "       \n",
    "    elif comp == 2: #Etanol\n",
    "        if T<(-57+273.15):\n",
    "            return 0\n",
    "    \n",
    "        elif T<=(80+273.15):\n",
    "            A = 8.20417\n",
    "            B = 1642.89\n",
    "            C = 230.3\n",
    "            \n",
    "        elif T<=(243+273.15):\n",
    "            A = 7.68117\n",
    "            B = 1332.04\n",
    "            C = 199.2\n",
    "        \n",
    "        elif T == 5.1635e2:\n",
    "            return 6.3e6\n",
    "        \n",
    "        else:\n",
    "            return 0\n",
    "    \n",
    "    elif comp ==3: #Hexano\n",
    "        \n",
    "        if T < (-95+273.15):\n",
    "            return 0 #no correlation available\n",
    "        \n",
    "        elif T <= (235+273.15):\n",
    "            A=7.01051\n",
    "            B=1246.33\n",
    "            C=232.988\n",
    "               \n",
    "        else:\n",
    "            return 0\n",
    "       \n",
    "    return 10**(A - B/(C+T-273.15))*101325/760 # T em Kelvin e P convertido para Pascal"
   ]
  },
  {
   "cell_type": "markdown",
   "metadata": {},
   "source": [
    "## Modelo NRTL para Energia de Gibbs em Excesso ${G}^{\\mathrm{ E}}$\n",
    "\n",
    "O modelo de G de excesso escolhido neste trabalho é o modelo NRTL, descrito a seguir.\n",
    "\n",
    "$$ \\frac{g^E}{RT}=\\sum_{i=1}^n \\left[ x_i\\frac{\\sum_{j=1}^n \\left[ \\tau_{j,i} G_{j,i} x_{j} \\right] }{\\sum_{k=1}^n \\left[ G_{k,i} x_k \\right] } \\right] $$\n",
    "\n",
    "Onde:\n",
    "\n",
    "$\\tau_{i,j}= \\frac{g_{i,j}-g_{j,j}}{RT}=\\frac{A_{i,j}}{T}$\n",
    "\n",
    "$G_{i,j}=\\mathrm{exp}(-\\alpha_{i,j} \\tau_{i,j})$\n",
    "\n",
    "Cada diferença $(g_{i,j}-g_{j,j})$ (em unidades de energia) e cada parametro de interação binaria  $A_{i,j}$ (em unidades de temperatura) são ajustados experimentalmente. \n",
    "\n",
    "Os coeficientes de atividade são calculados a partir derivação da expressão acima em relação ao numero de moles de cada componente i, mantendo constantes T, P e os demais componentes. \n",
    "\n",
    " $$ln(\\gamma_i)= \\frac{\\sum_{j=1}^n\\left[\\tau_{j,i} G_{j,i} x_{j}\\right]}{\\sum_{k=1}^n\\left[G_{k,i}x_{k}\\right]} + \\sum_{j=1}^n\\left[ \\left(\\frac{\\ G_{i,j} x_{j}}{\\sum_{k=1}^n\\left[G_{k,j}x_{k}\\right]}\\right) \\left(\\tau_{i,j}-\\frac{\\sum_{j=1}^n\\left[\\tau_{i,j} G_{i,j} x_{i}\\right]}{\\sum_{k=1}^n\\left[G_{k,j}x_{k}\\right]} \\right) \\right] $$\n",
    " \n",
    "Chafer calculou os coeficientes de interação binária entre água e etanol. Estes dados foram utilizados neste trabalho.\n",
    "(Cháfer, Muñoz, Burguet, Berna, The influence of the temperature on the liquid–liquid equlibria of the mixture limonene + ethanol + $\\mathrm {H_2O}$, Fluid Phase Equilibria 224 (2004) 251–256 [doi:10.1016/j.fluid.2004.06.045](https://doi.org/10.1016/j.fluid.2004.06.045)"
   ]
  },
  {
   "cell_type": "code",
   "execution_count": 204,
   "metadata": {
    "collapsed": true
   },
   "outputs": [],
   "source": [
    "import numpy as np\n",
    "\n",
    "# Temperatura e composições de teste\n",
    "\n",
    "T = 293.15            #K\n",
    "x = np.array([.5,.5]) #normalized\n",
    "\n",
    "\n",
    "# Renon, 1968\n",
    "\n",
    "alpha12 = alpha21 = 0.3\n",
    "\n",
    "\n",
    "# Parâmetros de interação binárias\n",
    "\n",
    "#A12 = -1113.1 #K     # Chafer\n",
    "#A21 = 1217.37 #K     # Chafer\n",
    "\n",
    "A12 = 976*4.18/8.314      #K    Renon\n",
    "A21 = 88*4.18/8.314       #K    Renon"
   ]
  },
  {
   "cell_type": "code",
   "execution_count": 205,
   "metadata": {
    "collapsed": false
   },
   "outputs": [
    {
     "name": "stdout",
     "output_type": "stream",
     "text": [
      "[[ 0.   0.3]\n",
      " [ 0.3  0. ]]\n"
     ]
    }
   ],
   "source": [
    "#assemble matrix with regressed parameters A_i,j, according to the model all diagonal terms are zero\n",
    "A = np.array([[0, A12],\n",
    "             [A21, 0]])\n",
    "\n",
    "#assemble symmetric matrix alpha\n",
    "alpha = np.array([[0, alpha12],\n",
    "                [alpha21, 0]])\n",
    "\n",
    "print(alpha)"
   ]
  },
  {
   "cell_type": "code",
   "execution_count": 206,
   "metadata": {
    "collapsed": false
   },
   "outputs": [
    {
     "name": "stdout",
     "output_type": "stream",
     "text": [
      "i,j,alpha[i,j],A[i,j]\n",
      "0 0 0.0 0.0\n",
      "0 1 0.3 490.700024056\n",
      "1 0 0.3 44.2434447919\n",
      "1 1 0.0 0.0\n",
      "\n",
      "alpha=\n",
      "[[ 0.   0.3]\n",
      " [ 0.3  0. ]]\n",
      "\n",
      "A=\n",
      "[[   0.          490.70002406]\n",
      " [  44.24344479    0.        ]]\n",
      "\n",
      "alpha12,alpha21\n",
      "0.3 0.3\n",
      "\n",
      "A12,A21\n",
      "490.7000240558095 44.24344479191724\n"
     ]
    }
   ],
   "source": [
    "#verify the assembled matrices\n",
    "\n",
    "#we can now automatically loop through its elements\n",
    "\n",
    "print(\"i,j,alpha[i,j],A[i,j]\")\n",
    "for i in range(2):\n",
    "    for j in range(2):\n",
    "        print(i,j,alpha[i,j],A[i,j])\n",
    "        \n",
    "#or even use the whole matrix at once\n",
    "print(\"\")\n",
    "print(\"alpha=\")\n",
    "print(alpha)\n",
    "print(\"\")\n",
    "print(\"A=\")\n",
    "print(A)\n",
    "print(\"\")\n",
    "# rather than typing each element individually\n",
    "print(\"alpha12,alpha21\")\n",
    "print(alpha12,alpha21)\n",
    "print(\"\")\n",
    "print(\"A12,A21\")\n",
    "print(A12,A21)"
   ]
  },
  {
   "cell_type": "code",
   "execution_count": 207,
   "metadata": {
    "collapsed": false
   },
   "outputs": [
    {
     "name": "stdout",
     "output_type": "stream",
     "text": [
      "tau=\n",
      "[[ 0.          1.67388717]\n",
      " [ 0.15092425  0.        ]]\n",
      "\n",
      "G=\n",
      "[[ 1.          0.60521824]\n",
      " [ 0.95573244  1.        ]]\n"
     ]
    }
   ],
   "source": [
    "# Matriz Tau\n",
    "\n",
    "tau=np.zeros([2,2])\n",
    "for j in range(2):\n",
    "    for i in range(2):\n",
    "        tau[j,i]=A[j,i]/T\n",
    "print(\"tau=\")\n",
    "print(tau)\n",
    "\n",
    "print(\"\")\n",
    "\n",
    "# Matriz G\n",
    "\n",
    "G=np.zeros([2,2])\n",
    "for j in range(2):\n",
    "    for i in range(2):\n",
    "        G[j,i]=np.exp((-alpha[j,i]*tau[j,i]))\n",
    "print(\"G=\")\n",
    "print(G)"
   ]
  },
  {
   "cell_type": "code",
   "execution_count": 208,
   "metadata": {
    "collapsed": false
   },
   "outputs": [
    {
     "name": "stdout",
     "output_type": "stream",
     "text": [
      "[ 1.53603274  1.3173995 ]\n"
     ]
    }
   ],
   "source": [
    "# Definição de Gamma\n",
    "\n",
    "def Gamma(T,x,alpha,A):\n",
    "\n",
    "    tau=np.zeros([2,2]) # Água e Etanol\n",
    "    for j in range(2):\n",
    "        for i in range(2):\n",
    "            tau[j,i]=A[j,i]/T    \n",
    "    \n",
    "    G=np.zeros([2,2])\n",
    "    for j in range(2):\n",
    "        for i in range(2):\n",
    "            G[j,i]=np.exp((-alpha[j,i]*tau[j,i]))\n",
    "    \n",
    "    Gamma=np.zeros([2])\n",
    "    for i in range(2):\n",
    "\n",
    "        Sj1=0\n",
    "        Sj2=0\n",
    "        Sj3=0\n",
    "        for j in range(2):\n",
    "            Sj1 += tau[j,i]*G[j,i]*x[j]\n",
    "            Sj2 += G[j,i]*x[j]\n",
    "    \n",
    "            Sk1=0\n",
    "            Sk2=0\n",
    "            Sk3=0\n",
    "            for k in range(2):\n",
    "                Sk1 += G[k,j]*x[k]\n",
    "                Sk2 += x[k]*tau[k,j]*G[k,j]\n",
    "                Sk3 += G[k,j]*x[k]\n",
    "            \n",
    "            Sj3 += ((x[j]*G[i,j])/(Sk1))*(tau[i,j]-(Sk2)/(Sk3))\n",
    "        \n",
    "        Gamma[i]=np.exp(Sj1/Sj2 + Sj3)\n",
    "    \n",
    "    return Gamma\n",
    "\n",
    "print(Gamma(T,x,alpha,A))"
   ]
  },
  {
   "cell_type": "code",
   "execution_count": 209,
   "metadata": {
    "collapsed": false
   },
   "outputs": [
    {
     "name": "stdout",
     "output_type": "stream",
     "text": [
      "P_sat 1 = 2329.5753519365844 Pa\n",
      "P_sat 2 = 5826.254353148996 Pa\n"
     ]
    }
   ],
   "source": [
    "# Teste do cálculo de Psat por Antoine\n",
    "\n",
    "print(\"P_sat 1 =\",P_antoine(T,1),\"Pa\")\n",
    "print(\"P_sat 2 =\",P_antoine(T,2),\"Pa\")"
   ]
  },
  {
   "cell_type": "markdown",
   "metadata": {},
   "source": [
    "## Cálculo do Ponto de Bolha da mistura (${P}_{\\mathrm{ bolha}}$)"
   ]
  },
  {
   "cell_type": "code",
   "execution_count": 210,
   "metadata": {
    "collapsed": false
   },
   "outputs": [
    {
     "name": "stdout",
     "output_type": "stream",
     "text": [
      "x 1 = 0.5\n",
      "x 2 = 0.5\n",
      "\n",
      "Gamma 1 = 1.53603274397\n",
      "Gamma 2 = 1.3173994982\n",
      "\n",
      "P_sat 1 = 2329.5753519365844 Pa\n",
      "P_sat 2 = 5826.254353148996 Pa\n",
      "\n",
      "P_bolha = 5626.90429068 Pa\n"
     ]
    }
   ],
   "source": [
    "# P_bolha = Somatório (x(i) * gamma(i)* P(i)_sat)\n",
    "\n",
    "def P_bolha(T,x):\n",
    "    \n",
    "    P = np.zeros(2)\n",
    "    \n",
    "    for i in range (2): # 2 componentes\n",
    "        \n",
    "#        P = 0      \n",
    "#        P = P + x[i]*Gamma(T,x,alpha,A)[i]*P_antoine(T,i+1)\n",
    "#        print(d,P)\n",
    "\n",
    "        P[i] = x[i]*Gamma(T,x,alpha,A)[i]*P_antoine(T,i+1) # Para i=0 -> Componente=1 | Para i=1 -> Componente=2)\n",
    "#        print (i,P[i])\n",
    "    \n",
    "    return P[i]+P[i-1]\n",
    "\n",
    "# Teste da função\n",
    "\n",
    "T_teste = 293.15\n",
    "x_teste = [.5,.5]\n",
    "\n",
    "# Imprime dos valores para as condições de teste\n",
    "\n",
    "print(\"x 1 =\",x_teste[0])\n",
    "print(\"x 2 =\",x_teste[1])\n",
    "print(\"\")\n",
    "print(\"Gamma 1 =\",Gamma(T_teste,x_teste,alpha,A)[0])\n",
    "print(\"Gamma 2 =\",Gamma(T_teste,x_teste,alpha,A)[1])\n",
    "print(\"\")\n",
    "print(\"P_sat 1 =\",P_antoine(T_teste,1),\"Pa\")\n",
    "print(\"P_sat 2 =\",P_antoine(T_teste,2),\"Pa\")\n",
    "print(\"\")\n",
    "print(\"P_bolha =\",P_bolha(T_teste,x_teste),\"Pa\")"
   ]
  },
  {
   "cell_type": "markdown",
   "metadata": {},
   "source": [
    "## Cálculo da curva de ELV da mistura (${P}_{\\mathrm{ bolha}}$ e ${P}_{\\mathrm{ orvalho}}$)"
   ]
  },
  {
   "cell_type": "code",
   "execution_count": 211,
   "metadata": {
    "collapsed": false
   },
   "outputs": [],
   "source": [
    "# Temperatura especificada\n",
    "\n",
    "T_dado = 423.15 # Unidade K\n",
    "\n",
    "grid_x1       = np.zeros(101)\n",
    "grid_y1       = np.zeros(101)\n",
    "grid_P_bolha  = np.zeros(101)\n",
    "\n",
    "i = 0\n",
    "\n",
    "for x1 in np.linspace(0,1,101):\n",
    "    \n",
    "    grid_x1[i]      = x1\n",
    "    \n",
    "    x2              = 1 - x1\n",
    "\n",
    "    x_vetor         = [x1,x2]\n",
    "    \n",
    "    grid_P_bolha[i] = P_bolha(T_dado,x_vetor)\n",
    "    \n",
    "    grid_y1[i]      = x1*Gamma(T_dado,x_vetor,alpha,A)[0]*P_antoine(T_dado,1)/P_bolha(T_dado,x_vetor)\n",
    "    \n",
    "#    print(i,x1,u[i],grid_P_bolha[i])\n",
    "    \n",
    "    i = i+1\n",
    "    \n",
    "#print(grid_x1,grid_P_bolha,grid_y1)"
   ]
  },
  {
   "cell_type": "code",
   "execution_count": 212,
   "metadata": {
    "collapsed": false
   },
   "outputs": [
    {
     "data": {
      "image/png": "[encoded data removed]",
      "text/plain": [
       "<matplotlib.figure.Figure at 0x83d6b00>"
      ]
     },
     "metadata": {},
     "output_type": "display_data"
    }
   ],
   "source": [
    "import matplotlib.pyplot as plt\n",
    "%matplotlib inline\n",
    "\n",
    "#ativar uma figura 1\n",
    "plt.figure(1)\n",
    "\n",
    "#legend=[] #iniciador do objeto legenda\n",
    "\n",
    "\n",
    "table = np.loadtxt('Etanol liquido 150 oC.txt', dtype='float', comments='#', delimiter=None, converters=None, skiprows=0, usecols=None, unpack=False, ndmin=0)\n",
    "table2 = np.loadtxt('Etanol vapor 150 oC.txt', dtype='float', comments='#', delimiter=None, converters=None, skiprows=0, usecols=None, unpack=False, ndmin=0)\n",
    "\n",
    "x_etanol = table[:,0]\n",
    "x_agua =1- x_etanol\n",
    "P_bol = table[:,1]*101325/(14.7)\n",
    "\n",
    "y_etanol = table2[:,0]\n",
    "y_agua = 1 - y_etanol\n",
    "P_orv = table2[:,1]*101325/(14.7)\n",
    "\n",
    "#plt.subplot(121) #activate a subplot\n",
    "plt.title('Gráfico Pxy, Água-Etanol')\n",
    "plt.xlabel('x1,y1 (Água)')\n",
    "plt.ylabel('Pressão (Pa)')\n",
    "plt.xlim([0,1])\n",
    "\n",
    "#traçar\n",
    "plt.scatter(x_agua,P_bol, label='Dados exp bolha')\n",
    "plt.scatter(y_agua,P_orv,color='g', label='Dados exp orvalho')\n",
    "plt.plot(grid_x1,grid_P_bolha, label='P_bolha') #label é a etiqueta que será usada na legenda\n",
    "plt.plot(grid_y1,grid_P_bolha, label='P_orvalho') #label é a etiqueta que será usada na legenda\n",
    "\n",
    "\n",
    "\n",
    "plt.legend(loc=1)\n",
    "\n",
    "plt.show()"
   ]
  },
  {
   "cell_type": "markdown",
   "metadata": {},
   "source": [
    "## Cálculo de Propriedades Termodinâmicas de Misturas\n",
    "\n",
    "Nesta parte do trabalho, serão calculadas as propriedades em excesso: \n",
    "* Entalpia (${H^E}$), \n",
    "* Energia de Gibbs (${G^E}$)\n",
    "* Entropia (${S^E}$). \n",
    "\n",
    "Ao final, será feita uma comparação com dados experimentais.\n",
    "\n",
    "Uma propriedade em excesso corresponde a diferença entre o valor de uma propriedade para uma solução real e o valor da mesma propriedade para uma solução ideal, nas mesmas condições de T, P e x.\n",
    "\n",
    "$\\frac{G^E}{RT} = \\frac{H^E}{RT} - \\frac{S^E}{R}$\n",
    "\n",
    "$\\frac{G^E}{RT} = \\sum_{i=1}^n \\ x_{i} ln( \\gamma_{i})$\n",
    "\n",
    "Onde ($ln( \\gamma_{i})$ é a propriedade parcial molar de $\\frac{G^E}{RT}$). Para P e x constantes: \n",
    "\n",
    "${H^E} = - {RT}{^2} \\frac{d(G^E/RT)}{dT} $\n",
    "\n",
    "${S^E} =\\frac{dG^E}{dT} $"
   ]
  },
  {
   "cell_type": "markdown",
   "metadata": {},
   "source": [
    "### Definição das funções de cálculo de Gamma $(\\gamma)$ e de Entalpia em Excesso (${H^E}$) por Algebra Linear"
   ]
  },
  {
   "cell_type": "code",
   "execution_count": 213,
   "metadata": {
    "collapsed": true
   },
   "outputs": [],
   "source": [
    "#trial temperature and composition:\n",
    "T = 293.15 #K\n",
    "x=np.array([.1,.3,.6]) #normalized"
   ]
  },
  {
   "cell_type": "code",
   "execution_count": 264,
   "metadata": {
    "collapsed": true
   },
   "outputs": [],
   "source": [
    "# Ethyl acetate (1) + water (2) + ethanol (3)\n",
    "\n",
    "R = 8.314\n",
    "\n",
    "alpha12_n = 0.4\n",
    "\n",
    "alpha23_n = 0.3\n",
    "\n",
    "alpha13_n = 0.3\n",
    "\n",
    "# 6 binary Aij parameters\n",
    "Dg12 = 1335 #K\n",
    "Dg21 = 2510 #K\n",
    "\n",
    "Dg23 = 976*4.18 #K\n",
    "Dg32 = 88*4.18 #K\n",
    "\n",
    "Dg13 = 301 #K\n",
    "Dg31 = 322 #K"
   ]
  },
  {
   "cell_type": "code",
   "execution_count": 265,
   "metadata": {
    "collapsed": true
   },
   "outputs": [],
   "source": [
    "#assemble matrix with regressed parameters Dg_i,j, according to the model all diagonal terms are zero\n",
    "Dg = np.array([[0, Dg12, Dg13],\n",
    "             [Dg21, 0, Dg23],\n",
    "             [Dg31, Dg32, 0]])\n",
    "\n",
    "A_n = Dg/R\n",
    "\n",
    "#assemble symmetric matrix alpha\n",
    "alpha_n = np.array([[0, alpha12_n, alpha13_n],\n",
    "                [alpha12_n, 0, alpha23_n],\n",
    "                [alpha13_n, alpha23_n, 0]])"
   ]
  },
  {
   "cell_type": "code",
   "execution_count": 266,
   "metadata": {
    "collapsed": false
   },
   "outputs": [
    {
     "name": "stdout",
     "output_type": "stream",
     "text": [
      "i,j,alpha_n[i,j],A_n[i,j]\n",
      "0 0 0.0 0.0\n",
      "0 1 0.4 160.572528266\n",
      "0 2 0.3 36.2039932644\n",
      "1 0 0.4 301.900408949\n",
      "1 1 0.0 0.0\n",
      "1 2 0.3 490.700024056\n",
      "2 0 0.3 38.7298532596\n",
      "2 1 0.3 44.2434447919\n",
      "2 2 0.0 0.0\n",
      "alpha=\n",
      "[[ 0.   0.4  0.3]\n",
      " [ 0.4  0.   0.3]\n",
      " [ 0.3  0.3  0. ]]\n",
      "A=\n",
      "[[   0.          160.57252827   36.20399326]\n",
      " [ 301.90040895    0.          490.70002406]\n",
      " [  38.72985326   44.24344479    0.        ]]\n",
      "alpha12,alpha13,alpha23\n",
      "0.4 0.3 0.3\n",
      "A12,A13,A21,A23,A31,A32\n",
      "1335 301 2510 4079.68 322 367.84\n"
     ]
    }
   ],
   "source": [
    "#verify the assembled matrices\n",
    "\n",
    "#we can now automatically loop through its elements\n",
    "\n",
    "print(\"i,j,alpha_n[i,j],A_n[i,j]\")\n",
    "for i in range(3):\n",
    "    for j in range(3):\n",
    "        print(i,j,alpha_n[i,j],A_n[i,j])\n",
    "        \n",
    "#or even use the whole matrix at once\n",
    "print(\"alpha=\")\n",
    "print(alpha_n)\n",
    "print(\"A=\")\n",
    "print(A_n)\n",
    "\n",
    "\n",
    "# rather than typing each element indiividually\n",
    "print(\"alpha12,alpha13,alpha23\")\n",
    "print(alpha12_n,alpha13_n,alpha23_n)\n",
    "print(\"A12,A13,A21,A23,A31,A32\")\n",
    "print(Dg12,Dg13,Dg21,Dg23,Dg31,Dg32)"
   ]
  },
  {
   "cell_type": "code",
   "execution_count": 267,
   "metadata": {
    "collapsed": false
   },
   "outputs": [
    {
     "name": "stdout",
     "output_type": "stream",
     "text": [
      "tau=\n",
      "[[ 0.          0.54774869  0.12349989]\n",
      " [ 1.0298496   0.          1.67388717]\n",
      " [ 0.13211616  0.15092425  0.        ]]\n",
      "G=\n",
      "[[ 1.          0.80324181  0.96362798]\n",
      " [ 0.66236412  1.          0.60521824]\n",
      " [ 0.96114034  0.95573244  1.        ]]\n"
     ]
    }
   ],
   "source": [
    "tau_n=np.zeros([3,3])\n",
    "for j in range(3):\n",
    "    for i in range(3):\n",
    "        tau_n[j,i]=A_n[j,i]/T\n",
    "print(\"tau=\")\n",
    "print(tau_n)\n",
    "        \n",
    "G_n=np.zeros([3,3])\n",
    "for j in range(3):\n",
    "    for i in range(3):\n",
    "        G_n[j,i]=np.exp((-alpha_n[j,i]*tau_n[j,i]))\n",
    "print(\"G=\")\n",
    "print(G_n)"
   ]
  },
  {
   "cell_type": "code",
   "execution_count": 268,
   "metadata": {
    "collapsed": true
   },
   "outputs": [],
   "source": [
    "# De acordo com o material Matrix Algebra and Matrix Differentiation Rules Applied To Excess Gibbs Energy Models \n",
    "# de Charlles R. A. Abreu\n",
    "\n",
    "def Gamma_linalg(T,c_x,q_alpha, q_A): # here we chose to use the starting letters s, c, l, and Q to identify scalar variables, single column matrixes, single line matrixes and square matrixes to the reader\n",
    "    # e_T should be an scalar value for temperature\n",
    "    # c_x should be a single-column matrix(2d array) representing composition\n",
    "    # q_alpha should be two matrix(2d array) representing component dependent parameters inferred from experimental data\n",
    "    # q_tau should be two matrix(2d array) representing component dependent parameters inferred from experimental data\n",
    "    \n",
    "    q_tau     = q_A/T #element-wise division by scalar\n",
    "    q_at      = q_alpha*q_tau #M2d * N2d yields element-wise multiplication\n",
    "    q_minusat     = -q_at #element wise signal change\n",
    "    q_G       = np.exp(q_minusat) #element wise exponentiation\n",
    "    q_Lambda  = (q_tau*q_G) #element-wise multiplication\n",
    "    q_GT      = q_G.T #M.T yields the transpose matrix of M;\n",
    "    c_den     = q_GT @ c_x #M @ N yields the matrix multiplication between M and N\n",
    "    c_invden  = 1/c_den #scalar 1 is broadcast for element-wise division\n",
    "    l_invden  = c_invden.T #transposition of a single column matrix yields a single line matrix\n",
    "    q_E       = q_Lambda * l_invden #element wise multiplication between (nl,nc) matrix M with (1,nc) matrix l broadcasts the element-wise multiplication of each (1,nc) submatrix of M with the unique (1,nc) matrix l\n",
    "    q_L       = q_G * l_invden #broadcasting of element-wise multiplication\n",
    "    l_x       = c_x.T #transposition of a single column matrix yields a single line matrix\n",
    "    q_Lx      = q_L * l_x #broadcasting of element-wise multiplication\n",
    "    q_ET      = q_E.T #transposition of square matrix\n",
    "    q_LxET    = q_Lx @ q_ET #matrix multiplication\n",
    "    q_ES      = q_E+q_ET #element-wise sum\n",
    "    q_ESminusLxET = q_ES-q_LxET #element-wise subtraction\n",
    "    q_ESminusLxETx     = q_ESminusLxET @ c_x #matrix multiplication\n",
    "    gamma     = np.exp(q_ESminusLxETx) #element-wise exponentiation\n",
    "    return gamma"
   ]
  },
  {
   "cell_type": "code",
   "execution_count": 269,
   "metadata": {
    "collapsed": false
   },
   "outputs": [
    {
     "name": "stdout",
     "output_type": "stream",
     "text": [
      "[[ 485.36486441]]\n"
     ]
    }
   ],
   "source": [
    "# De acordo com o material Matrix Algebra and Matrix Differentiation Rules Applied To Excess Gibbs Energy Models\n",
    "# de Charlles R. A. Abreu\n",
    "\n",
    "def H_excesso_linalg(T,c_x,q_alpha,q_A):\n",
    "    \n",
    "    q_tau     = q_A/T #element-wise division by scalar\n",
    "    q_at      = q_alpha*q_tau #M2d * N2d yields element-wise multiplication\n",
    "    q_minusat     = -q_at #element wise signal change\n",
    "    q_G       = np.exp(q_minusat) #element wise exponentiation\n",
    "    q_Lambda  = (q_tau*q_G) #element-wise multiplication\n",
    "    q_GT      = q_G.T #M.T yields the transpose matrix of M;\n",
    "    c_den     = q_GT @ c_x #M @ N yields the matrix multiplication between M and N\n",
    "    c_invden  = 1/c_den #scalar 1 is broadcast for element-wise division\n",
    "    l_invden  = c_invden.T #transposition of a single column matrix yields a single line matrix\n",
    "    q_E       = q_Lambda * l_invden #element wise multiplication between (nl,nc) matrix M with (1,nc) matrix l broadcasts the element-wise multiplication of each (1,nc) submatrix of M with the unique (1,nc) matrix \n",
    "    q_L       = q_G * l_invden #broadcasting of element-wise multiplication\n",
    "    l_x       = c_x.T #transposition of a single column matrix yields a single line matrix\n",
    "    q_Lx      = q_L * l_x #broadcasting of element-wise multiplication\n",
    "    q_ET      = q_E.T #transposition of square matrix\n",
    "    q_LxET    = q_Lx @ q_ET #matrix multiplication\n",
    "    q_ES      = q_E+q_ET #element-wise sum\n",
    "    q_ESminusLxET = q_ES-q_LxET #element-wise subtraction\n",
    "    q_ESminusLxETx     = q_ESminusLxET @ c_x #matrix multiplication\n",
    "    \n",
    "    q_LambdaT    = q_Lambda/T\n",
    "    q_G_dot      = q_LambdaT*q_alpha\n",
    "    \n",
    "    q_Lambda_dot = (q_A*q_G_dot - q_Lambda)/T    # Matriz 3x3\n",
    "    \n",
    "    #print(q_Lambda_dot)    \n",
    "    ###\n",
    "    \n",
    "    #p1 = ( q_Lambda_dot - p1b)\n",
    "    \n",
    "    #p2 = \n",
    "    \n",
    "    #q_E_dot = p1 * p2T\n",
    "    ###\n",
    "    \n",
    "    \n",
    "    q_G_dot_T    = q_G_dot.T                     # Matriz 3x3\n",
    "    c_GdotTx    = q_G_dot_T @ c_x               # Matriz 3x1\n",
    "    l_GdotTx = c_GdotTx.T\n",
    "\n",
    "#    l_den_dot    = c_den_dot.T\n",
    "\n",
    "    #q_E_dot = \n",
    "\n",
    "#    q_E_dot_p1   = (q_Lambda_dot - (q_E @ c_den_dot))  # Possível problema - Matrix 3x3 subtraindo de 3x1\n",
    "\n",
    "    q_E_dot_p1   = q_E * l_GdotTx               # Matriz 3x1\n",
    "    q_E_dot_p2   = q_Lambda_dot - q_E_dot_p1     # Matriz 3x3\n",
    "    \n",
    "    q_E_dot      = q_E_dot_p2 * l_invden       # Matriz 3x1\n",
    "    \n",
    "    H_exc_parc   = l_x @ q_E_dot @ c_x\n",
    "\n",
    "    \n",
    "    \n",
    "    H_exc        = H_exc_parc*(-R*T**2)\n",
    "    \n",
    "    return H_exc.T\n",
    "\n",
    "print(H_excesso_linalg(T,x_as_column,alpha_n,A_n)) #test using those trial input"
   ]
  },
  {
   "cell_type": "code",
   "execution_count": 270,
   "metadata": {
    "collapsed": false
   },
   "outputs": [
    {
     "name": "stdout",
     "output_type": "stream",
     "text": [
      "[[ 1.2616122 ]\n",
      " [ 1.99577557]\n",
      " [ 1.10228962]]\n",
      "\n",
      "[[ 485.36486441]]\n"
     ]
    }
   ],
   "source": [
    "x_as_line = np.array([x])\n",
    "\n",
    "x_as_column = np.array([x]).T \n",
    "\n",
    "print(Gamma_linalg(T,x_as_column,alpha_n,A_n)) #test using those trial input\n",
    "print(\"\")\n",
    "print(H_excesso_linalg(T,x_as_column,alpha_n,A_n)) #test using those trial input"
   ]
  },
  {
   "cell_type": "code",
   "execution_count": 271,
   "metadata": {
    "collapsed": false
   },
   "outputs": [
    {
     "name": "stdout",
     "output_type": "stream",
     "text": [
      "[ 0.1  0.3  0.6]\n"
     ]
    }
   ],
   "source": [
    "print(x)"
   ]
  },
  {
   "cell_type": "markdown",
   "metadata": {},
   "source": [
    "### Cálculo da Energia de Gibbs em Excesso (${G^E}$), Entalpia em Excesso (${H^E}$) e Entropia em Excesso (${S^E}$)"
   ]
  },
  {
   "cell_type": "code",
   "execution_count": 272,
   "metadata": {
    "collapsed": false
   },
   "outputs": [],
   "source": [
    "## Cálculo de G_excesso, H_excesso e TS_excesso\n",
    "\n",
    "T_dado = 323.15 # Unidade K\n",
    "R      = 8.3144598 #Pa.m3.mol^−1.K^−1 (Constante universal)\n",
    "\n",
    "u=np.zeros(101)\n",
    "G_exc=np.zeros(101)\n",
    "H_exc=np.zeros(101)\n",
    "TS_exc=np.zeros(101)\n",
    "\n",
    "i = 0\n",
    "for x2 in np.linspace(0,1,101):\n",
    "        \n",
    "    u[i] = x2\n",
    "    x1 = 1 - x2\n",
    "    x3 = 1 - x1 - x2\n",
    "    \n",
    "    x_vetor = [x1,x2]\n",
    "        \n",
    "    Gamma_vetor=Gamma(T_dado,x_vetor,alpha,A)\n",
    "    \n",
    "    Gamma1=Gamma_vetor[0]\n",
    "    Gamma2=Gamma_vetor[1]\n",
    "\n",
    "    G_exc[i]=(x1*np.log(Gamma1)+x2*np.log(Gamma2))*R*T_dado # Cálculo de H_exc\n",
    "    \n",
    "    x_vetor_3comp = [x3,x1,x2]\n",
    "    x_vetor_3comp_col = np.array([x_vetor_3comp]).T\n",
    "    \n",
    "    H_exc[i]=H_excesso_linalg(T_dado,x_vetor_3comp_col,alpha_n,A_n)[0,0] # Cálculo de H_exc\n",
    "    \n",
    "    TS_exc[i]=H_exc[i]-G_exc[i]   # Cálculo de S_exc\n",
    "    \n",
    "    i = i+1\n",
    "\n",
    "#print(G_exc)\n"
   ]
  },
  {
   "cell_type": "code",
   "execution_count": 273,
   "metadata": {
    "collapsed": false
   },
   "outputs": [
    {
     "data": {
      "image/png": "[encoded data removed]",
      "text/plain": [
       "<matplotlib.figure.Figure at 0x910e0f0>"
      ]
     },
     "metadata": {},
     "output_type": "display_data"
    }
   ],
   "source": [
    "#plt.figure(1)\n",
    "\n",
    "#legend=[] #iniciador do objeto legenda\n",
    "\n",
    "plt.xlabel('x2 (Etanol)')\n",
    "\n",
    "#Dados experimentais - H_excesso para Etanol @ T = 323.15 K\n",
    "table5 = np.loadtxt('Hexcesso 323K.txt', dtype='float', comments='#', delimiter=None, converters=None, skiprows=0, usecols=None, unpack=False, ndmin=0)\n",
    "x_exp_5 = table5[:,0] \n",
    "H_exp_5 = table5[:,1]\n",
    "\n",
    "#traçar\n",
    "plt.title('Gráfico Propriedades em excesso, Água-Etanol')\n",
    "plt.xlabel('x2 (Etanol)')\n",
    "plt.ylabel('J/mol')\n",
    "\n",
    "plt.plot(u,G_exc, label='G_excesso') #label é a etiqueta que será usada na legenda\n",
    "plt.plot(u,H_exc, label='H_excesso') #label é a etiqueta que será usada na legenda\n",
    "plt.plot(u,TS_exc, label='T*S_excesso')\n",
    "plt.scatter(x_exp_5,H_exp_5, label='H_exc exp')\n",
    "\n",
    "plt.legend(loc=1)\n",
    "\n",
    "plt.show()"
   ]
  },
  {
   "cell_type": "code",
   "execution_count": null,
   "metadata": {
    "collapsed": true
   },
   "outputs": [],
   "source": []
  },
  {
   "cell_type": "code",
   "execution_count": null,
   "metadata": {
    "collapsed": true
   },
   "outputs": [],
   "source": []
  }
 ],
 "metadata": {
  "anaconda-cloud": {},
  "kernelspec": {
   "display_name": "Python [conda root]",
   "language": "python",
   "name": "conda-root-py"
  },
  "language_info": {
   "codemirror_mode": {
    "name": "ipython",
    "version": 3
   },
   "file_extension": ".py",
   "mimetype": "text/x-python",
   "name": "python",
   "nbconvert_exporter": "python",
   "pygments_lexer": "ipython3",
   "version": "3.5.2"
  }
 },
 "nbformat": 4,
 "nbformat_minor": 1
}
