{
 "cells": [
  {
   "cell_type": "markdown",
   "metadata": {},
   "source": [
    "# main lectures\n",
    "You will also find jupyter notebooks adressing simple problems in applied thermodynamics. These notebooks will expose basic concepts of applied thermodynamics along with comments on python syntax and the usage of the jupyter notebook itself. - These will Introduce the student to some tools: python, numpy, scipy, sympy. And at the same time analyze some phenomena in classical thermodynamic, properties of gases and liquids, phase equilibra, etc..\n"
   ]
  },
  {
   "cell_type": "markdown",
   "metadata": {},
   "source": [
    "- [On jupyter notebook, python, and the 1st law of thermodynamics](contents/main-lectures/1-jupyternotebook-python-1stlaw.ipynb)"
   ]
  },
  {
   "cell_type": "markdown",
   "metadata": {},
   "source": [
    "- [2_numpy,_matplotlib_and_the_van_der_Waals_Equation_of_State_isotherms](contents/Lectures_in_ipynb/2_numpy,_matplotlib_and_the_van_der_Waals_Equation_of_State_isotherms.ipynb)"
   ]
  },
  {
   "cell_type": "markdown",
   "metadata": {},
   "source": [
    "- [3a_pt_BR_Aula.._Cálculo_Simples_do_VolumeMolar_e_PressãoDeSaturação_a_partir_de_uma_EquaçãoDeEstadoCúbica.ipynb](contents/Lectures_in_ipynb/3a_pt_BR_Aula.._Cálculo_Simples_do_VolumeMolar_e_PressãoDeSaturação_a_partir_de_uma_EquaçãoDeEstadoCúbica.ipynb)"
   ]
  },
  {
   "cell_type": "markdown",
   "metadata": {},
   "source": [
    "- [3b_scipy_and_the_van_der_Waals_Equation_of_State_saturation_pressure.ipynb](contents/Lectures_in_ipynb/3b_scipy_and_the_van_der_Waals_Equation_of_State_saturation_pressure.ipynb)"
   ]
  },
  {
   "cell_type": "markdown",
   "metadata": {},
   "source": [
    "- [3c_NRTL_and_some_linear_algebra.ipynb](contents/Lectures_in_ipynb/3c_NRTL_and_some_linear_algebra.ipynb)"
   ]
  },
  {
   "cell_type": "markdown",
   "metadata": {},
   "source": [
    "- [3d_methane_hydrates.ipynb](contents/Lectures_in_ipynb/3d_methane_hydrates.ipynb)"
   ]
  },
  {
   "cell_type": "markdown",
   "metadata": {},
   "source": [
    "- [4_sympy_and_the_van_der_Waals_Equation_of_State_analytical_solutions.ipynb](contents/Lectures_in_ipynb/4_sympy_and_the_van_der_Waals_Equation_of_State_analytical_solutions.ipynb)"
   ]
  }
 ],
 "metadata": {
  "anaconda-cloud": {},
  "kernelspec": {
   "display_name": "Python [conda root]",
   "language": "python",
   "name": "conda-root-py"
  },
  "language_info": {
   "codemirror_mode": {
    "name": "ipython",
    "version": 3
   },
   "file_extension": ".py",
   "mimetype": "text/x-python",
   "name": "python",
   "nbconvert_exporter": "python",
   "pygments_lexer": "ipython3",
   "version": "3.5.2"
  }
 },
 "nbformat": 4,
 "nbformat_minor": 0
}
