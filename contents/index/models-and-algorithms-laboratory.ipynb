{
 "cells": [
  {
   "cell_type": "markdown",
   "metadata": {},
   "source": [
    "### model & algorithms laboratory\n",
    "In this folder you will find jupyter notebooks to present solutions of usual problems in applied thermodynamics. These notebooks will be used to analyze, compare and present solutions of problems. Here we will no longer provide comments on python syntax.\n",
    "The notebooks may make use of code in separate python scripts or in differente languages\n",
    "This directory will act as a laboratory for analysis, development and testing of models and algorithms.\n"
   ]
  },
  {
   "cell_type": "markdown",
   "metadata": {},
   "source": [
    "- [hydrocarbons phase envelope](contents/models-and-algorithms-laboratory/PxT_L-V_Phase_Envelope_given_z/ipynb_caller_script_and_plotting_tool/ipynb_caller_script_and_plotting_tool.ipynb)"
   ]
  }
 ],
 "metadata": {
  "anaconda-cloud": {},
  "kernelspec": {
   "display_name": "Python [conda root]",
   "language": "python",
   "name": "conda-root-py"
  },
  "language_info": {
   "codemirror_mode": {
    "name": "ipython",
    "version": 3
   },
   "file_extension": ".py",
   "mimetype": "text/x-python",
   "name": "python",
   "nbconvert_exporter": "python",
   "pygments_lexer": "ipython3",
   "version": "3.5.2"
  }
 },
 "nbformat": 4,
 "nbformat_minor": 0
}
