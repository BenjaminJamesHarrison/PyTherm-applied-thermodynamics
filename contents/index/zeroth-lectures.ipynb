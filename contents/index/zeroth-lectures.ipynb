{
 "cells": [
  {
   "cell_type": "markdown",
   "metadata": {},
   "source": [
    "# zeroth lectures\n",
    "The zeroth lecture in this folder should be studied on the platform provided by python tutor live.- This platform  graphically depicts the behavior of variables, assignments, functions and pointers, which is the major source of confusion among beginners in programming. - basic syntax, variables, functions, arguments, pointers, lists.\n",
    "\n",
    "> Try them in [python tutor](http://www.pythontutor.com/)' remote executable environment.\n",
    "> \n",
    "> URLs for preloaded lectures [here](zeroth-lectures-python-tutor-URLs.ipynb)"
   ]
  },
  {
   "cell_type": "markdown",
   "metadata": {},
   "source": [
    "## part A - variables and operators\n",
    "* jupyter notebook [here](contents/zeroth-lectures/A-variables-and-operators.ipynb)"
   ]
  },
  {
   "cell_type": "markdown",
   "metadata": {},
   "source": [
    "## part B - \n",
    "* jupyter notebook [here](contents/zeroth-lectures/B-functions.ipynb)"
   ]
  },
  {
   "cell_type": "markdown",
   "metadata": {},
   "source": [
    "## part C - \n",
    "* jupyter notebook [here](contents/zeroth-lectures/C-tuples-and-lists.ipynb)"
   ]
  },
  {
   "cell_type": "markdown",
   "metadata": {},
   "source": [
    "## part D - \n",
    "* jupyter notebook [here](contents/zeroth-lectures/D-for-oops.ipynb)"
   ]
  },
  {
   "cell_type": "markdown",
   "metadata": {},
   "source": [
    "## part E - \n",
    "* jupyter notebook [here](contents/zeroth-lectures/E-if-conditionals.ipynb)"
   ]
  },
  {
   "cell_type": "markdown",
   "metadata": {},
   "source": [
    "## part F - \n",
    "* jupyter notebook [here](contents/zeroth-lectures/F-callbacks.ipynb)"
   ]
  }
 ],
 "metadata": {
  "anaconda-cloud": {},
  "kernelspec": {
   "display_name": "Python [conda root]",
   "language": "python",
   "name": "conda-root-py"
  },
  "language_info": {
   "codemirror_mode": {
    "name": "ipython",
    "version": 3
   },
   "file_extension": ".py",
   "mimetype": "text/x-python",
   "name": "python",
   "nbconvert_exporter": "python",
   "pygments_lexer": "ipython3",
   "version": "3.5.2"
  }
 },
 "nbformat": 4,
 "nbformat_minor": 0
}
