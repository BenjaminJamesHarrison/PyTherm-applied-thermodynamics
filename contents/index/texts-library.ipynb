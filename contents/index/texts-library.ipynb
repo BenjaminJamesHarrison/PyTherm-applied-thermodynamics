{
 "cells": [
  {
   "cell_type": "markdown",
   "metadata": {},
   "source": [
    "# texts library"
   ]
  },
  {
   "cell_type": "markdown",
   "metadata": {},
   "source": [
    "- [Abreu, C. R. A., Matrix Algebra and Matrix Differentiation Rules Applied to Excess Gibbs Energy Models](contents/texts-library/AbreuC.R.A., Matrix Algebra and Matrix Differentiation Rules Applied to Excess Gibbs Energy Models.pdf)"
   ]
  },
  {
   "cell_type": "markdown",
   "metadata": {},
   "source": [
    "- [Abreu, C. R. A., 2010, COBEQ - Aplicação de álgebra E CÁLCULO MATRICIAIS À PREDIÇÃO DE EQUILÍBRIO LÍQUIDO-LÍQUIDO COM O MODELO COSMO-SAC](contents/texts-library/Abreu, C. R. A., 2010, COBEQ - Aplicação de álgebra ... COSMO-SAC.pdf)"
   ]
  }
 ],
 "metadata": {
  "anaconda-cloud": {},
  "kernelspec": {
   "display_name": "Python [conda root]",
   "language": "python",
   "name": "conda-root-py"
  },
  "language_info": {
   "codemirror_mode": {
    "name": "ipython",
    "version": 3
   },
   "file_extension": ".py",
   "mimetype": "text/x-python",
   "name": "python",
   "nbconvert_exporter": "python",
   "pygments_lexer": "ipython3",
   "version": "3.5.2"
  }
 },
 "nbformat": 4,
 "nbformat_minor": 0
}
