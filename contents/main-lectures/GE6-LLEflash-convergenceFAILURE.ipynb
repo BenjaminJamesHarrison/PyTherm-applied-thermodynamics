{
 "cells": [
  {
   "cell_type": "markdown",
   "metadata": {
    "collapsed": false
   },
   "source": [
    "# The Non Random Two Liquids (NRTL) model for *excess Gibbs energy* ($g^E$) and a case study of Liquid-Liquid equilibria of Ethyl acetate (1) + water (2) + ethanol (3)"
   ]
  },
  {
   "cell_type": "markdown",
   "metadata": {},
   "source": [
    "Having previously discussed *Excess thermodynamic properties*, excess energy models, the NRTL model specifically, and VLE, we now proceed to study LLE."
   ]
  },
  {
   "cell_type": "markdown",
   "metadata": {},
   "source": [
    "# Requirements"
   ]
  },
  {
   "cell_type": "markdown",
   "metadata": {},
   "source": [
    "# The NumPy package\n",
    "for array structures and operations"
   ]
  },
  {
   "cell_type": "code",
   "execution_count": 1,
   "metadata": {
    "collapsed": true
   },
   "outputs": [],
   "source": [
    "import numpy as np"
   ]
  },
  {
   "cell_type": "markdown",
   "metadata": {},
   "source": [
    "## The pyplot interface from the matplotlib package"
   ]
  },
  {
   "cell_type": "code",
   "execution_count": 2,
   "metadata": {
    "collapsed": true
   },
   "outputs": [],
   "source": [
    "from matplotlib import pyplot as plt\n",
    "%matplotlib inline"
   ]
  },
  {
   "cell_type": "markdown",
   "metadata": {},
   "source": [
    "# physical constants in the international system of units"
   ]
  },
  {
   "cell_type": "code",
   "execution_count": 3,
   "metadata": {
    "collapsed": false,
    "scrolled": true
   },
   "outputs": [
    {
     "name": "stdout",
     "output_type": "stream",
     "text": [
      "8.3144598\n"
     ]
    }
   ],
   "source": [
    "from scipy.constants import R\n",
    "print(R)"
   ]
  },
  {
   "cell_type": "markdown",
   "metadata": {},
   "source": [
    "# some special purpose functions that will help us in our analyzes"
   ]
  },
  {
   "cell_type": "code",
   "execution_count": 4,
   "metadata": {
    "collapsed": true
   },
   "outputs": [],
   "source": [
    "def stdv(v): #will standardize an array, transforming all values to between 0 and 1\n",
    "    w=(v-np.min(v))/(np.max(v)-np.min(v))\n",
    "    return w"
   ]
  },
  {
   "cell_type": "markdown",
   "metadata": {},
   "source": [
    "# The NRTL model\n",
    "as presented in previous lecture\n",
    "* reproduced below in minimalist numpy/numba format"
   ]
  },
  {
   "cell_type": "code",
   "execution_count": 5,
   "metadata": {
    "collapsed": false
   },
   "outputs": [],
   "source": [
    "from numba import jit\n",
    "@jit\n",
    "def Gamma(T,c_x,q_alpha, q_A):\n",
    "    q_tau     = q_A/T\n",
    "    q_G       = np.exp(-(q_alpha*q_tau))\n",
    "    l_D       = ((1/((q_G.T) @ c_x)).T)\n",
    "    q_E       = (q_tau*q_G) * l_D \n",
    "    gamma     = np.exp(((q_E+(q_E.T))-(((q_G * l_D) * (c_x.T)) @ (q_E.T))) @ c_x)\n",
    "    return gamma"
   ]
  },
  {
   "cell_type": "markdown",
   "metadata": {},
   "source": [
    "# Fitted parameters\n",
    "Parameters from Renon and Prausnitz, 1969."
   ]
  },
  {
   "cell_type": "code",
   "execution_count": 6,
   "metadata": {
    "collapsed": true
   },
   "outputs": [],
   "source": [
    "# Ethyl acetate (1) + water (2) + ethanol (3)\n",
    "\n",
    "alpha12 = 0.4\n",
    "\n",
    "alpha23 = 0.3\n",
    "\n",
    "alpha13 = 0.3\n",
    "\n",
    "# 6 binary Aij parameters\n",
    "Dg12 = 1335 * 4.184 #J/K\n",
    "Dg21 = 2510 * 4.184 #J/K\n",
    "\n",
    "Dg23 = 976 * 4.184 #J/K\n",
    "Dg32 = 88 * 4.184 #J/K\n",
    "\n",
    "Dg13 = 301 * 4.184 #J/K\n",
    "Dg31 = 322 * 4.184 #J/K"
   ]
  },
  {
   "cell_type": "markdown",
   "metadata": {
    "collapsed": true
   },
   "source": [
    "## Feeding the fitted parameters to the model in matrix structure:\n",
    "we will assemble the parameters in a matrix structure compatible with the current imlementation of the model"
   ]
  },
  {
   "cell_type": "code",
   "execution_count": 7,
   "metadata": {
    "collapsed": false
   },
   "outputs": [],
   "source": [
    "#assemble matrix with regressed parameters Dg_i,j, according to the model all diagonal terms are zero\n",
    "Dg = np.array([[0, Dg12, Dg13],\n",
    "             [Dg21, 0, Dg23],\n",
    "             [Dg31, Dg32, 0]])\n",
    "\n",
    "\n",
    "#assemble symmetric matrix alpha\n",
    "alpha = np.array([[0, alpha12, alpha13],\n",
    "                [alpha12, 0, alpha23],\n",
    "                [alpha13, alpha23, 0]])\n",
    "\n",
    "A= Dg/R"
   ]
  },
  {
   "cell_type": "markdown",
   "metadata": {},
   "source": [
    "* This notebook shall contain calculations at the temperature of 70 deg C"
   ]
  },
  {
   "cell_type": "code",
   "execution_count": 8,
   "metadata": {
    "collapsed": true
   },
   "outputs": [],
   "source": [
    "T = 273+70 #K"
   ]
  },
  {
   "cell_type": "markdown",
   "metadata": {
    "collapsed": true
   },
   "source": [
    "# Liq-Liq Equilibria Flash\n",
    "Now we start discussing the Liq-Liq equilibria flash calculation\n",
    "\n",
    "it works as follows:\n",
    "\n",
    "The degrees of Freedom for a flash calculation are temperature - T, pressure - P and global composition - z\n",
    "\n",
    "<img src=supportFiles/algorithms.png width=500>|\n",
    "\n",
    "**Equilibriuma criteria**\n",
    "\n",
    "$$\\mu_{i}^{\\rm {L1}}=\\mu_{i}^{\\rm {L2}}, \\forall i$$\n",
    "\n",
    "**Devised algorithm after analytical simplification of repeated contributions:**\n",
    "\n",
    "$$x_{i}^{\\rm {L1}} \\gamma_{i}^{\\rm {L1}}= x_{i}^{\\rm {L2}} \\gamma_{i}^{\\rm {L2}}, \\forall i$$"
   ]
  },
  {
   "cell_type": "markdown",
   "metadata": {
    "collapsed": true
   },
   "source": [
    "# algorithm\n",
    "based on Rachford and Rice (1952) approach to LV equilibrium\n",
    "\n",
    "\n",
    "Ref: Rachford HH, Rice JD, Petroleum Trans AIME 1952;195:327-328"
   ]
  },
  {
   "cell_type": "code",
   "execution_count": 9,
   "metadata": {
    "collapsed": false
   },
   "outputs": [],
   "source": [
    "def ELLflash_explicit(Z,beta0,K0,MODEL,qolog):\n",
    "    \n",
    "    #copy intial guesses to local variables\n",
    "    beta=beta0.copy()\n",
    "    K=K0.copy()\n",
    "\n",
    "    converged = 0 # flag indicating not converged yet\n",
    "    \n",
    "    if qolog:\n",
    "        itlogi=0\n",
    "        itlogv=np.ndarray(2,dtype=object)\n",
    "        itlogv[0]=np.zeros(100*100)\n",
    "        itlogv[1]=np.zeros([100*100,3])\n",
    "    \n",
    "    #initialize local arrays\n",
    "    a = np.zeros(3)\n",
    "    XI = np.zeros(3)\n",
    "    XII = np.zeros(3)\n",
    "    \n",
    "    looped2=0\n",
    "    looped3=0\n",
    "    \n",
    "    #managing loop for fixed point point algorithm\n",
    "    looping2 = 0\n",
    "    while ( (looping2 == 0) # means do at least once\n",
    "           or ((ResK)>0.0001 # convergence criteria\n",
    "               and looping2 < 100) ): # max number of iterations\n",
    "\n",
    "        prevK = K.copy()\n",
    "        \n",
    "        #print(np.may_share_memory(K,prevK))\n",
    "        \n",
    "        #Solve RachfordRice equation with a newton raphson loop\n",
    "        looping3 = 0\n",
    "        while ( (looping3 == 0) # means do at least once\n",
    "               or ((ResBeta)>0.0001 # convergence criteria\n",
    "                   and looping3 < 100) ): #max number of iterations\n",
    "            \n",
    "            prevbeta = beta.copy()\n",
    "\n",
    "            for i in range(3):\n",
    "                a[i] = ( (K[i]-1) / (1+beta*(K[i]-1)) )            \n",
    "                \n",
    "            R=0 #residue funtion (F)\n",
    "            for j in range(3):\n",
    "                R+=Z[j]*a[j]\n",
    "\n",
    "            J=0 #jacobian (Fprime)\n",
    "            for j in range(3):\n",
    "                J-=Z[j]*a[j]*a[j]\n",
    "                            \n",
    "            beta -= R/J #NR step            \n",
    "            \n",
    "            if beta[0,0]<0:\n",
    "                beta[0,0]=0\n",
    "                \n",
    "            if 1<beta[0,0]:\n",
    "                beta[0,0]=1\n",
    "            \n",
    "            ResBeta = abs(beta[0,0]-prevbeta[0,0])\n",
    "            \n",
    "            looping3 += 1        \n",
    "            \n",
    "            if qolog:\n",
    "                #print(looping3,beta0,prevbeta[0,0],beta[0,0],ResBeta)\n",
    "                itlogv[0][itlogi] = beta[0,0]\n",
    "                itlogv[1][itlogi,0:3] = K[0:3,0]\n",
    "                itlogi += 1\n",
    "            \n",
    "        looped3+= looping3\n",
    "\n",
    "        for i in range(3):\n",
    "            XI[i] = Z[i] * (1./(1+beta * (K[i]-1))) #Rachford-Rice composition updating scheme\n",
    "                \n",
    "        gamaI = MODEL(XI/np.sum(XI)) #enforce normalization in the MODEL call\n",
    "        \n",
    "        for i in range(3):\n",
    "            XII[i] = K[i]*XI[i]\n",
    "\n",
    "        gamaII = MODEL(XII/np.sum(XII)) #enforce normalization in the MODEL call\n",
    "        \n",
    "        for i in range(3):\n",
    "            K[i] = (gamaI[i])/(gamaII[i]) #definition of K\n",
    "        \n",
    "        ResK=0\n",
    "        for i in range(3):\n",
    "            ResK += np.sqrt((prevK[i]-K[i])**2)\n",
    "        looping2 += 1\n",
    "    \n",
    "    looped2 += looping2\n",
    "        \n",
    "    #print('Calculation has ended')\n",
    "    if (looping2 < 100 and looping3 < 100 and (0.<=beta[0,0]<=1.) ):\n",
    "        converged = 1\n",
    "    \n",
    "    if qolog:\n",
    "        return XI, XII, beta, converged, looped2, looped3, itlogv\n",
    "    else:\n",
    "        return XI, XII, beta, converged, looping2, looped3"
   ]
  },
  {
   "cell_type": "markdown",
   "metadata": {},
   "source": [
    "### using an aproximation of a known solution as initial guess as an easy test for the algorithm"
   ]
  },
  {
   "cell_type": "code",
   "execution_count": 10,
   "metadata": {
    "collapsed": false
   },
   "outputs": [
    {
     "name": "stdout",
     "output_type": "stream",
     "text": [
      "at T 343 Z [[ 0.1   0.85  0.05]]\n",
      "with ig of k0 [[ 20.           0.41935484   2.44444444]] beta0 [[ 0.16]]\n",
      "solution is\n",
      "xi [ 0.02558642  0.93241587  0.04199771]\n",
      "xii [ 0.52329144  0.38118861  0.09551994]\n",
      "beta [[ 0.14951341]]\n",
      "converged? 1 -- 1 means yes\n"
     ]
    }
   ],
   "source": [
    "#test\n",
    "\n",
    "#exact ad-hoc NRTL solution\n",
    "#Ztest = np.array([[ 0.10526316,  0.84210526,  0.05263158]]).T\n",
    "#XItest = np.array([[ 0.02616646,  0.93009914,  0.0437344 ]]).T\n",
    "#XIItest = np.array([[ 0.51520944,  0.38604626,  0.0987443 ]]).T\n",
    "#BETAtest = np.array([[ 0.16173772]])\n",
    "\n",
    "#appproximate\n",
    "Ztest = np.array([[ 0.1,  0.85,  0.05]]).T\n",
    "XItest = np.array([[ 0.025,  0.93,  0.045 ]]).T\n",
    "XIItest = np.array([[ 0.5,  0.39,  0.11 ]]).T\n",
    "BETAtest = np.array([[ 0.16]])\n",
    "\n",
    "\n",
    "Ktest=1/(XItest/XIItest)\n",
    "\n",
    "beta0=BETAtest\n",
    "k0=Ktest\n",
    "Z=Ztest\n",
    "\n",
    "\n",
    "MODEL = lambda x: Gamma(T,x,alpha,A)\n",
    "\n",
    "ans=ELLflash_explicit(Z,beta0,k0,MODEL,True)\n",
    "\n",
    "print('at T', T, 'Z', Z.T)\n",
    "print('with ig of k0', k0.T,'beta0', beta0)\n",
    "print('solution is')\n",
    "print('xi',ans[0].T)\n",
    "print('xii',ans[1].T)\n",
    "print('beta',ans[2])\n",
    "print('converged?',ans[3], '-- 1 means yes')"
   ]
  },
  {
   "cell_type": "markdown",
   "metadata": {},
   "source": [
    "# take a look at the iteration log"
   ]
  },
  {
   "cell_type": "code",
   "execution_count": 11,
   "metadata": {
    "collapsed": false
   },
   "outputs": [
    {
     "data": {
      "image/png": "[encoded data removed]",
      "text/plain": [
       "<matplotlib.figure.Figure at 0x814f6d8>"
      ]
     },
     "metadata": {},
     "output_type": "display_data"
    }
   ],
   "source": [
    "plt.plot(stdv(ans[6][0][:ans[5]]))\n",
    "plt.plot(stdv(ans[6][1][:ans[5],0]))\n",
    "plt.plot(stdv(ans[6][1][:ans[5],1]))\n",
    "plt.plot(stdv(ans[6][1][:ans[5],2]))\n",
    "\n",
    "plt.xlim(0,ans[5])\n",
    "plt.show()"
   ]
  },
  {
   "cell_type": "code",
   "execution_count": 12,
   "metadata": {
    "collapsed": false
   },
   "outputs": [
    {
     "name": "stdout",
     "output_type": "stream",
     "text": [
      "100 loops, best of 3: 11.6 ms per loop\n"
     ]
    }
   ],
   "source": [
    "%timeit ans=ELLflash_explicit(Z,beta0,k0,MODEL,False)"
   ]
  },
  {
   "cell_type": "markdown",
   "metadata": {},
   "source": [
    "# using inear algebra"
   ]
  },
  {
   "cell_type": "code",
   "execution_count": 13,
   "metadata": {
    "collapsed": false
   },
   "outputs": [],
   "source": [
    "def ELLflash(Z,beta0,K0,MODEL): #ELLflash_linalg\n",
    "    \n",
    "    beta=beta0.copy()\n",
    "    K=K0.copy()\n",
    "    \n",
    "    converged = 0\n",
    "    \n",
    "    looped2 = 0\n",
    "    looped3 = 0\n",
    "    \n",
    "    looping2 = 0\n",
    "    while ( (looping2 == 0) # means do at least once\n",
    "           or ((ResK)>0.0001 # convergence criteria\n",
    "               and looping2 < 100) ): # max number of iterations\n",
    "\n",
    "        prevK = K.copy()        \n",
    "        \n",
    "        looping3 = 0\n",
    "        while ( (looping3 == 0)\n",
    "               or (ResBeta>0.0001 # convergence criteria\n",
    "                   and looping3 < 100) ): #max number of iterations\n",
    "            \n",
    "            prevbeta = beta.copy()\n",
    "            \n",
    "            a = (1/(1+beta*(K-1))) * (K-1)\n",
    "            beta = beta+(1/((Z.T*a.T) @ a)) @ (Z.T @ a)\n",
    "\n",
    "            if beta[0,0]<0:\n",
    "                beta[0,0]=0\n",
    "                \n",
    "            if 1<beta[0,0]:\n",
    "                beta[0,0]=1\n",
    "            \n",
    "            ResBeta = beta[0,0]-prevbeta[0,0]\n",
    "\n",
    "            looping3 += 1\n",
    "            \n",
    "        looped3 += looping3\n",
    "\n",
    "        XI = (1./(1+beta * (K-1))) * Z\n",
    "\n",
    "        gamaI = MODEL(XI/np.sum(XI))\n",
    "        \n",
    "        XII = K*XI\n",
    "\n",
    "        gamaII = MODEL(XII/np.sum(XII))\n",
    "        \n",
    "        K = (gamaI)/(gamaII)\n",
    "        \n",
    "        ResK = np.linalg.norm(K-prevK)\n",
    "        \n",
    "        looping2 += 1 \n",
    "        \n",
    "    looped2 += looping2\n",
    "\n",
    "    #print('Calculation has ended')\n",
    "    if (looping2 < 100 and looping3 < 100  and ( 0. <= beta[0,0] <= 1.)  ):\n",
    "        converged = 1\n",
    "    \n",
    "    return XI, XII, beta, converged, looped2, looped3"
   ]
  },
  {
   "cell_type": "markdown",
   "metadata": {},
   "source": [
    "# did linear algebra make a difference here?"
   ]
  },
  {
   "cell_type": "code",
   "execution_count": 14,
   "metadata": {
    "collapsed": false
   },
   "outputs": [
    {
     "name": "stdout",
     "output_type": "stream",
     "text": [
      "100 loops, best of 3: 11.5 ms per loop\n",
      "1 [[ 0.14951341]]\n",
      "10 loops, best of 3: 14.4 ms per loop\n",
      "1 [[ 0.14951384]]\n",
      "The slowest run took 164.02 times longer than the fastest. This could mean that an intermediate result is being cached.\n",
      "1 loop, best of 3: 5.68 ms per loop\n",
      "1 [[ 0.14951426]]\n",
      "100 loops, best of 3: 7.54 ms per loop\n",
      "1 [[ 0.14951415]]\n"
     ]
    }
   ],
   "source": [
    "# no linalg, close to solution\n",
    "%timeit ELLflash_explicit(Z,beta0,k0,MODEL,False)\n",
    "ans=ELLflash_explicit(Z,beta0,k0,MODEL,False)\n",
    "print(ans[3],ans[2])\n",
    "\n",
    "# no linalg, a little far from solution\n",
    "%timeit ELLflash_explicit(Z,beta0*beta0,k0/Z,MODEL,False)\n",
    "ans=ELLflash_explicit(Z,2*beta0,k0/Z,MODEL,False)\n",
    "print(ans[3],ans[2])\n",
    "\n",
    "# linalg, close to solution\n",
    "%timeit ELLflash(Z,beta0,k0,MODEL)\n",
    "ans=ELLflash(Z,beta0,k0,MODEL)\n",
    "print(ans[3],ans[2])\n",
    "\n",
    "# linalg, a little far from solution\n",
    "%timeit ELLflash(Z,2*beta0,k0/Z,MODEL)\n",
    "ans=ELLflash(Z,2*beta0,k0/Z,MODEL)\n",
    "print(ans[3],ans[2])\n",
    "\n",
    "#approximately half the time here\n",
    "\n",
    "# close to solution, 1.6ms drops to 0.9\n",
    "# a little far from solution, 6.4ms drops to 3,4"
   ]
  },
  {
   "cell_type": "markdown",
   "metadata": {
    "collapsed": true
   },
   "source": [
    "# objective methodology for providing 'good' initial guesses\n",
    "\n",
    "\n",
    "presented by Abreu, C. R. A., 2010 - COBEQ\n",
    "as \n",
    "\"a mdified version of Ohanomah e Thompson (1984)\""
   ]
  },
  {
   "cell_type": "code",
   "execution_count": 15,
   "metadata": {
    "collapsed": false
   },
   "outputs": [],
   "source": [
    "#Estimativas Iniciais\n",
    "\n",
    "def iguess(Z,MODEL):\n",
    "    #print(Z)\n",
    "\n",
    "    gama0 = MODEL(Z/np.sum(Z))\n",
    "    \n",
    "    Xlin = 1/(gama0.T @ Z) * (gama0*Z)\n",
    "\n",
    "    gamalin = MODEL(Xlin/np.sum(Xlin))\n",
    "\n",
    "    Klin = (1./gamalin) * gama0\n",
    "\n",
    "    KlinMin = np.min(Klin)\n",
    "    KlinMax = np.max(Klin)\n",
    "\n",
    "    NT = (KlinMax - KlinMin)\n",
    "    \n",
    "    nI0 = (KlinMax - Klin) * Z\n",
    "\n",
    "    nII0 = (Klin-KlinMin) * Z\n",
    "    \n",
    "    beta0 = np.array([[ 1/(KlinMax-KlinMin) * np.sum(nII0) ]])\n",
    "    \n",
    "    ###\n",
    "    \n",
    "    XI0 = 1/(np.sum(nI0)) * nI0\n",
    "\n",
    "    gamaI0=MODEL(XI0/np.sum(XI0))\n",
    "\n",
    "    XII0 = 1/(np.sum(nII0)) * nII0\n",
    "\n",
    "    gamaII0=MODEL(XII0/np.sum(XII0))\n",
    "    \n",
    "    K0 = (gamaI0)/(gamaII0)\n",
    "    \n",
    "    #K0 = (XII0+1e-5)/(XI0+1e-5)\n",
    "    \n",
    "    #print(XI0, XII0, gamaI0, gamaII0, K0)\n",
    "    \n",
    "    return beta0, K0"
   ]
  },
  {
   "cell_type": "markdown",
   "metadata": {},
   "source": [
    "# see the iteration log when using these initial guesses"
   ]
  },
  {
   "cell_type": "code",
   "execution_count": 16,
   "metadata": {
    "collapsed": false
   },
   "outputs": [
    {
     "name": "stdout",
     "output_type": "stream",
     "text": [
      "at T 343 Z [[ 0.1   0.85  0.05]]\n",
      "with ig of k0 [[ 53.51704507   0.08210211   1.89504205]] beta0 [[ 0.10903288]]\n",
      "solution is\n",
      "xi [ 0.02558676  0.93241488  0.04199836]\n",
      "xii [ 0.52333357  0.38114549  0.09552094]\n",
      "beta [[ 0.14950019]]\n",
      "converged? 1 -- 1 means yes\n"
     ]
    }
   ],
   "source": [
    "#test\n",
    "\n",
    "\n",
    "#exact ad-hoc NRTL solution\n",
    "#Ztest = np.array([[ 0.10526316,  0.84210526,  0.05263158]]).T\n",
    "#XItest = np.array([[ 0.02616646,  0.93009914,  0.0437344 ]]).T\n",
    "#XIItest = np.array([[ 0.51520944,  0.38604626,  0.0987443 ]]).T\n",
    "#BETAtest = np.array([[ 0.16173772]])\n",
    "\n",
    "#appproximate\n",
    "Ztest = np.array([[ 0.1,  0.85,  0.05]]).T\n",
    "#XItest = np.array([[ 0.025,  0.93,  0.045 ]]).T\n",
    "#XIItest = np.array([[ 0.5,  0.39,  0.11 ]]).T\n",
    "\n",
    "igtest = iguess(Ztest,MODEL)\n",
    "\n",
    "BETAtest = igtest[0]\n",
    "\n",
    "Ktest=igtest[1]\n",
    "\n",
    "beta0=BETAtest\n",
    "k0=Ktest\n",
    "Z=Ztest\n",
    "\n",
    "\n",
    "MODEL = lambda x: Gamma(T,x,alpha,A)\n",
    "\n",
    "ans=ELLflash_explicit(Z,beta0,k0,MODEL,True)\n",
    "\n",
    "print('at T', T, 'Z', Z.T)\n",
    "print('with ig of k0', k0.T,'beta0', beta0)\n",
    "print('solution is')\n",
    "print('xi',ans[0].T)\n",
    "print('xii',ans[1].T)\n",
    "print('beta',ans[2])\n",
    "print('converged?',ans[3], '-- 1 means yes')"
   ]
  },
  {
   "cell_type": "code",
   "execution_count": 17,
   "metadata": {
    "collapsed": false
   },
   "outputs": [
    {
     "data": {
      "image/png": "[encoded data removed]",
      "text/plain": [
       "<matplotlib.figure.Figure at 0xa42f5f8>"
      ]
     },
     "metadata": {},
     "output_type": "display_data"
    }
   ],
   "source": [
    "plt.plot(stdv(ans[6][0][:ans[5]]))\n",
    "plt.plot(stdv(ans[6][1][:ans[5],0]))\n",
    "plt.plot(stdv(ans[6][1][:ans[5],1]))\n",
    "plt.plot(stdv(ans[6][1][:ans[5],2]))\n",
    "\n",
    "plt.xlim(0,ans[5])\n",
    "plt.show()"
   ]
  },
  {
   "cell_type": "markdown",
   "metadata": {},
   "source": [
    "# grid calc plot"
   ]
  },
  {
   "cell_type": "code",
   "execution_count": 18,
   "metadata": {
    "collapsed": false,
    "scrolled": false
   },
   "outputs": [
    {
     "name": "stdout",
     "output_type": "stream",
     "text": [
      "210\n",
      "done 33\n"
     ]
    }
   ],
   "source": [
    "nspace = 20\n",
    "\n",
    "Z2 = np.linspace(0,1,nspace)\n",
    "Z3 = np.linspace(0,1,nspace)\n",
    "\n",
    "Z2[0]=1e-9\n",
    "Z3[0]=1e-9\n",
    "\n",
    "\n",
    "Z2[-1]=1-1e-9\n",
    "Z3[-1]=1-1e-9\n",
    "\n",
    "\n",
    "rawZs = np.ndarray((nspace,nspace), dtype=object)\n",
    "\n",
    "flags = np.zeros((nspace,nspace))\n",
    "\n",
    "for i in range(nspace):\n",
    "    for j in range(nspace):\n",
    "        rawZs[i,j]=np.array([1-Z2[i]-Z3[j],Z2[i],Z3[j]])\n",
    "        if ( Z2[i] + Z3[j] <= 1 ):\n",
    "            flags[i,j] = 1\n",
    "        \n",
    "\n",
    "            \n",
    "Zs = rawZs[np.where(flags==1)]\n",
    "\n",
    "npts = Zs.shape[0]\n",
    "print(npts)\n",
    "\n",
    "Resultados_beta = np.zeros([npts])\n",
    "Resultados_conv = np.zeros([npts])\n",
    "Resultados_Z = np.zeros([npts,3])\n",
    "Resultados_XI = np.zeros([npts,3])\n",
    "Resultados_XII = np.zeros([npts,3])\n",
    "Resultados_K0 = np.ndarray(npts, dtype = object)\n",
    "Resultados_K = np.ndarray(npts, dtype = object)\n",
    "Resultados_beta0 = np.zeros([npts])\n",
    "\n",
    "\n",
    "sResultados_beta = np.zeros([npts])\n",
    "sResultados_conv = np.zeros([npts])\n",
    "sResultados_Z = np.zeros([npts,3])\n",
    "sResultados_XI = np.zeros([npts,3])\n",
    "sResultados_XII = np.zeros([npts,3])\n",
    "sResultados_K0 = np.ndarray(npts, dtype = object)\n",
    "sResultados_K = np.ndarray(npts, dtype = object)\n",
    "sResultados_beta0 = np.zeros([npts])\n",
    "\n",
    "MODEL = lambda x: Gamma(T,x,alpha,A)\n",
    "\n",
    "l=0\n",
    "for k in range(npts):\n",
    "    beta0, K0 = iguess(np.array([Zs[k]]).T,MODEL)\n",
    "    #print(beta0,K0)\n",
    "    #print(Zs[k],beta0,K0)\n",
    "    ans = ELLflash(np.array([Zs[k]]).T,beta0,K0,MODEL)\n",
    "    \n",
    "    if (0<ans[2] and 1>ans[2] and ans[3]!=0):\n",
    "        #print(ans[0][0][0],ans[0][1][0],ans[0][2][0])\n",
    "        #print(ans[0][0:3,0])\n",
    "        Resultados_XI[l,:] = ans[0][0:3,0]#np.array([ans[0][0][0],ans[0][1][0],ans[0][2][0]])\n",
    "        Resultados_XII[l,:] = ans[1][0:3,0] #np.array([ans[1][0][0],ans[1][1][0],ans[1][2][0]])\n",
    "        Resultados_beta[l] = ans[2]\n",
    "        Resultados_conv[l] = ans[3]\n",
    "\n",
    "        Resultados_Z[l,:] = Zs[k]\n",
    "        \n",
    "        Resultados_beta0[l] = beta0[0,0]\n",
    "        Resultados_K0[l] = K0\n",
    "        \n",
    "        Resultados_K[l] = Resultados_XII[l,:]/Resultados_XI[l,:]\n",
    "        \n",
    "        l+=1\n",
    "        #print('PASS', Zs[k], ans[0][0:3,0], ans[1][0:3,0], ans[2])\n",
    "    else:\n",
    "        #print('FAIL', k, Zs[k])\n",
    "        pass\n",
    "\n",
    "print('done',l)\n",
    "    \n",
    "ndone=l-1"
   ]
  },
  {
   "cell_type": "markdown",
   "metadata": {},
   "source": [
    "* of a grid with 210 points we foundo solutions for 33 points\n",
    "* lets soon see wether we tried calculations at conditions that do not have solution, or at conds that had solutions but our algorithms missed"
   ]
  },
  {
   "cell_type": "code",
   "execution_count": 19,
   "metadata": {
    "collapsed": false
   },
   "outputs": [],
   "source": [
    "fResultados_XI = Resultados_XI[:][np.where(Resultados_conv!=0)]\n",
    "fResultados_XII = Resultados_XII[:][np.where(Resultados_conv!=0)]\n",
    "fResultados_beta = Resultados_beta[np.where(Resultados_conv!=0)]\n",
    "fResultados_Z = Resultados_Z[:][np.where(Resultados_conv!=0)]"
   ]
  },
  {
   "cell_type": "code",
   "execution_count": 20,
   "metadata": {
    "collapsed": false
   },
   "outputs": [],
   "source": [
    "# barycentric coords: (a,b,c)\n",
    "a=fResultados_XI[:,0]\n",
    "b=fResultados_XI[:,1]\n",
    "c=fResultados_XI[:,2]\n",
    "\n",
    "d=fResultados_XII[:,0]\n",
    "e=fResultados_XII[:,1]\n",
    "f=fResultados_XII[:,2]\n",
    "\n",
    "g=fResultados_Z[:,0]\n",
    "h=fResultados_Z[:,1]\n",
    "ii=fResultados_Z[:,2]\n",
    "\n"
   ]
  },
  {
   "cell_type": "code",
   "execution_count": 21,
   "metadata": {
    "collapsed": true
   },
   "outputs": [],
   "source": [
    "# plot mole fractions results in axis of ethanol vc water"
   ]
  },
  {
   "cell_type": "code",
   "execution_count": 22,
   "metadata": {
    "collapsed": false,
    "scrolled": true
   },
   "outputs": [
    {
     "data": {
      "image/png": "[encoded data removed]",
      "text/plain": [
       "<matplotlib.figure.Figure at 0x5d5d278>"
      ]
     },
     "metadata": {},
     "output_type": "display_data"
    }
   ],
   "source": [
    "plt.axis([0,1,0,1])\n",
    "    \n",
    "plt.scatter(a,c)    \n",
    "plt.scatter(d,f)    \n",
    "\n",
    "ZS=np.zeros([npts,3])\n",
    "for i in range(npts):\n",
    "    ZS[i,:]=Zs[i]\n",
    "\n",
    "plt.scatter(ZS[:,0],ZS[:,2],marker='o',s=80, facecolors='none', edgecolors='r')    \n",
    "    \n",
    "plt.scatter(g,ii,marker='*')\n",
    "\n",
    "#UNCOMMENT THIS LINE TO PLOT THE FAILED POINT\n",
    "#failedpoint= [0.42105263 , 0.52631579 , 0.05263158]\n",
    "#plt.scatter(failedpoint[0],failedpoint[2],marker='d')\n",
    "\n",
    "plt.show()"
   ]
  },
  {
   "cell_type": "code",
   "execution_count": 23,
   "metadata": {
    "collapsed": false
   },
   "outputs": [],
   "source": [
    "# x crit = 0.2 aprox\n",
    "\n",
    "\n",
    "#refiltrar a e b LEFT and RIGHT of the crit point\n",
    "\n",
    "crit=.2\n",
    "\n",
    "al=a[np.where(a<=crit)]\n",
    "ar=a[np.where(a>crit)]\n",
    "dl=d[np.where(d<=crit)]\n",
    "dr=d[np.where(d>crit)]\n",
    "\n",
    "bl=b[np.where(a<=crit)]\n",
    "br=b[np.where(a>crit)]\n",
    "el=e[np.where(d<=crit)]\n",
    "er=e[np.where(d>crit)]\n",
    "\n",
    "cl=c[np.where(a<=crit)]\n",
    "cr=c[np.where(a>crit)]\n",
    "fl=f[np.where(d<=crit)]\n",
    "fr=f[np.where(d>crit)]"
   ]
  },
  {
   "cell_type": "code",
   "execution_count": 24,
   "metadata": {
    "collapsed": false,
    "scrolled": false
   },
   "outputs": [
    {
     "name": "stdout",
     "output_type": "stream",
     "text": [
      "(33,) (33,) (33,) (33,)\n",
      "(22,) (22,) (11,) (11,)\n",
      "(11,) (11,) (22,) (22,)\n",
      "(33,) (33,) (33,) (33,)\n"
     ]
    }
   ],
   "source": [
    "Ly = np.concatenate((al,dl),axis=0)\n",
    "Lx = np.concatenate((cl,fl),axis=0)\n",
    "\n",
    "Ry = np.concatenate((ar,dr),axis=0)\n",
    "Rx = np.concatenate((cr,fr),axis=0)\n",
    "\n",
    "sLy=np.sort(Ly)\n",
    "sLx=np.sort(Lx)\n",
    "sRy=np.sort(Ry)\n",
    "sRx=-np.sort(-Rx)\n",
    "\n",
    "print(a.shape,b.shape,d.shape,e.shape)\n",
    "print(al.shape,bl.shape,dl.shape,el.shape)\n",
    "print(ar.shape,br.shape,dr.shape,er.shape)\n",
    "print(Ly.shape,Ry.shape,Lx.shape,Rx.shape)\n"
   ]
  },
  {
   "cell_type": "code",
   "execution_count": 25,
   "metadata": {
    "collapsed": false
   },
   "outputs": [
    {
     "data": {
      "image/png": "[encoded data removed]",
      "text/plain": [
       "<matplotlib.figure.Figure at 0x98b8588>"
      ]
     },
     "metadata": {},
     "output_type": "display_data"
    }
   ],
   "source": [
    "plt.axis([0,1,0,1])\n",
    "    \n",
    "plt.scatter(Ly,Lx)    \n",
    "plt.scatter(Ry,Rx)    \n",
    "\n",
    "plt.plot(sLy,sLx)\n",
    "plt.plot(sRy,sRx)\n",
    "\n",
    "\n",
    "for i in range(0,ndone):\n",
    "    plt.plot([a[i],d[i]],[c[i],f[i]])\n",
    "\n",
    "\n",
    "plt.scatter(g,ii, marker='*')\n",
    "\n",
    "plt.xlabel('mol. frac. water')\n",
    "plt.ylabel('mol. frac. ethanol')\n",
    "plt.title('LLE at '+str(T-273)+'degC')    \n",
    "    \n",
    "plt.show()\n"
   ]
  },
  {
   "cell_type": "markdown",
   "metadata": {},
   "source": [
    "# note that we tried flash at every open circle, but converged only at asteriscs\n",
    "# outside the visible phase diagram, we sholud not have convergence because there is indeed no soltuiotn foe LLE\n",
    "# however inside the phase envelope there is solution but our algorithm failed"
   ]
  },
  {
   "cell_type": "code",
   "execution_count": 26,
   "metadata": {
    "collapsed": false
   },
   "outputs": [
    {
     "name": "stdout",
     "output_type": "stream",
     "text": [
      "[[ 1.]]\n",
      "0 0 means did not cnverge\n"
     ]
    },
    {
     "data": {
      "image/png": "[encoded data removed]",
      "text/plain": [
       "<matplotlib.figure.Figure at 0x87a1a58>"
      ]
     },
     "metadata": {},
     "output_type": "display_data"
    }
   ],
   "source": [
    "\n",
    "\n",
    "#what happended to some points:\n",
    "failedpoint= [0.42105263 , 0.52631579 , 0.05263158]\n",
    "\n",
    "ig = iguess(np.array([failedpoint]).T,MODEL)\n",
    "#print('ig')\n",
    "#print(ig)\n",
    "ans=ELLflash_explicit(np.array([failedpoint]).T,ig[0],(ig[1]),MODEL,True)\n",
    "#print(ans)\n",
    "\n",
    "#lets study those points in a different notebook!\n",
    "\n",
    "print(ans[2])\n",
    "print(ans[3],'0 means did not cnverge')\n",
    "\n",
    "plt.plot(stdv(ans[6][0][:ans[5]]))\n",
    "plt.plot(stdv(ans[6][1][:ans[5],0]))\n",
    "plt.plot(stdv(ans[6][1][:ans[5],1]))\n",
    "plt.plot(stdv(ans[6][1][:ans[5],2]))\n",
    "\n",
    "plt.xlim(0,ans[5])\n",
    "plt.show()"
   ]
  },
  {
   "cell_type": "markdown",
   "metadata": {},
   "source": [
    "# divergence in BETA caused by not good enough initial guess fr K0\n",
    "# see below a trial with a different K0"
   ]
  },
  {
   "cell_type": "code",
   "execution_count": 27,
   "metadata": {
    "collapsed": false,
    "scrolled": false
   },
   "outputs": [
    {
     "name": "stdout",
     "output_type": "stream",
     "text": [
      "[[ 0.79986453]] vs 0.310193764201\n",
      "[[ 0.41875185  4.62153782  1.02404211]] vs [ 0.03473608  2.8461674   0.41370058]\n",
      "[[ 0.31019376]]\n",
      "1 1 means cnverge\n"
     ]
    },
    {
     "data": {
      "image/png": "[encoded data removed]",
      "text/plain": [
       "<matplotlib.figure.Figure at 0xa1ed6a0>"
      ]
     },
     "metadata": {},
     "output_type": "display_data"
    }
   ],
   "source": [
    "#what happended to some points:\n",
    "failedpoint= [0.42105263 , 0.52631579 , 0.05263158]\n",
    "\n",
    "ig = iguess(np.array([failedpoint]).T,MODEL)\n",
    "#print('ig')\n",
    "#print(ig)\n",
    "ans=ELLflash_explicit(np.array([failedpoint]).T,ig[0],(ig[1])/2,MODEL,True)\n",
    "#print('ans')\n",
    "#print(ans)\n",
    "\n",
    "#print(ans[1])\n",
    "\n",
    "print(ig[0],'vs',ans[2][0,0])\n",
    "print(ig[1].T,'vs',(ans[1][:]/ans[0][:]))\n",
    "\n",
    "\n",
    "print(ans[2])\n",
    "print(ans[3],'1 means cnverge')\n",
    "\n",
    "#lets study those points in a different notebook!\n",
    "\n",
    "plt.plot(stdv(ans[6][0][:ans[5]]))\n",
    "plt.plot(stdv(ans[6][1][:ans[5],0]))\n",
    "plt.plot(stdv(ans[6][1][:ans[5],1]))\n",
    "plt.plot(stdv(ans[6][1][:ans[5],2]))\n",
    "\n",
    "plt.xlim(0,ans[5])\n",
    "plt.show()"
   ]
  },
  {
   "cell_type": "markdown",
   "metadata": {},
   "source": [
    "# ig history"
   ]
  },
  {
   "cell_type": "code",
   "execution_count": 28,
   "metadata": {
    "collapsed": false
   },
   "outputs": [],
   "source": [
    "testZ2 = 0.52631579\n",
    "\n",
    "npts=100\n",
    "\n",
    "Zs = np.ndarray(npts, dtype=object)\n",
    "\n",
    "i=0\n",
    "for testZ1 in np.linspace(0,testZ2,npts):\n",
    "    testZ3 = 1-testZ1-testZ2\n",
    "    Zs[i] = np.asarray([testZ1,testZ2,testZ3])\n",
    "    i+=1\n",
    "    \n",
    "    "
   ]
  },
  {
   "cell_type": "code",
   "execution_count": 29,
   "metadata": {
    "collapsed": false,
    "scrolled": true
   },
   "outputs": [
    {
     "name": "stderr",
     "output_type": "stream",
     "text": [
      "C:\\Users\\iuri\\Anaconda3\\lib\\site-packages\\ipykernel\\__main__.py:59: RuntimeWarning: invalid value encountered in true_divide\n"
     ]
    },
    {
     "name": "stdout",
     "output_type": "stream",
     "text": [
      "done 40\n"
     ]
    }
   ],
   "source": [
    "Resultados_beta = np.zeros([npts])\n",
    "Resultados_conv = np.zeros([npts])\n",
    "Resultados_Z = np.zeros([npts,3])\n",
    "Resultados_XI = np.zeros([npts,3])\n",
    "Resultados_XII = np.zeros([npts,3])\n",
    "Resultados_K0 = np.ndarray(npts, dtype = object)\n",
    "Resultados_K = np.ndarray(npts, dtype = object)\n",
    "Resultados_beta0 = np.zeros([npts])\n",
    "\n",
    "sResultados_beta = np.zeros([npts])\n",
    "sResultados_conv = np.zeros([npts])\n",
    "sResultados_Z = np.zeros([npts,3])\n",
    "sResultados_XI = np.zeros([npts,3])\n",
    "sResultados_XII = np.zeros([npts,3])\n",
    "sResultados_K0 = np.ndarray(npts, dtype = object)\n",
    "sResultados_K = np.ndarray(npts, dtype = object)\n",
    "sResultados_beta0 = np.zeros([npts])\n",
    "\n",
    "MODEL = lambda x: Gamma(T,x,alpha,A)\n",
    "\n",
    "l=0\n",
    "ll=0\n",
    "for k in range(npts):\n",
    "    beta0, K0 = iguess(np.array([Zs[k]]).T,MODEL)\n",
    "    #print(beta0,K0)\n",
    "    #print(Zs[k],beta0,K0)\n",
    "    ans = ELLflash(np.array([Zs[k]]).T,beta0,K0,MODEL)\n",
    "    \n",
    "    if (0<ans[2] and 1>ans[2] and ans[3]!=0):\n",
    "        #print(ans[0][0][0],ans[0][1][0],ans[0][2][0])\n",
    "        #print(ans[0][0:3,0])\n",
    "        Resultados_XI[l,:] = ans[0][0:3,0]#np.array([ans[0][0][0],ans[0][1][0],ans[0][2][0]])\n",
    "        Resultados_XII[l,:] = ans[1][0:3,0] #np.array([ans[1][0][0],ans[1][1][0],ans[1][2][0]])\n",
    "        Resultados_beta[l] = ans[2]\n",
    "        Resultados_conv[l] = ans[3]\n",
    "\n",
    "        Resultados_Z[l,:] = Zs[k]\n",
    "        \n",
    "        Resultados_beta0[l] = beta0[0,0]\n",
    "        Resultados_K0[l] = K0\n",
    "        \n",
    "        Resultados_K[l] = Resultados_XII[l,:]/Resultados_XI[l,:]\n",
    "        \n",
    "        l+=1\n",
    "        #print('PASS', Zs[k], ans[0][0:3,0], ans[1][0:3,0], ans[2])\n",
    "    else:\n",
    "        #print('FAIL', k, Zs[k])\n",
    "        pass\n",
    "    \n",
    "\n",
    "    \n",
    "    sResultados_conv[ll] = ans[3]\n",
    "    sResultados_Z[ll,:] = Zs[k]\n",
    "    sResultados_beta0[ll] = beta0[0,0]\n",
    "    sResultados_K0[ll] = K0\n",
    "    \n",
    "    if ans[3]==1:\n",
    "        sResultados_beta[ll] = ans[2]\n",
    "        sResultados_K[ll] = ans[1][0:3,0]/ans[0][0:3,0]\n",
    "    else:\n",
    "        sResultados_beta[ll] = ans[2]*0\n",
    "        sResultados_K[ll] = ans[1][0:3,0]/ans[0][0:3,0]*0\n",
    "    \n",
    "    ll+=1\n",
    " \n",
    "print('done',l)\n",
    "    \n",
    "ndone=l-1"
   ]
  },
  {
   "cell_type": "code",
   "execution_count": null,
   "metadata": {
    "collapsed": true
   },
   "outputs": [],
   "source": []
  },
  {
   "cell_type": "code",
   "execution_count": null,
   "metadata": {
    "collapsed": true
   },
   "outputs": [],
   "source": []
  },
  {
   "cell_type": "code",
   "execution_count": null,
   "metadata": {
    "collapsed": false,
    "scrolled": true
   },
   "outputs": [],
   "source": []
  },
  {
   "cell_type": "code",
   "execution_count": null,
   "metadata": {
    "collapsed": true
   },
   "outputs": [],
   "source": []
  },
  {
   "cell_type": "code",
   "execution_count": null,
   "metadata": {
    "collapsed": true
   },
   "outputs": [],
   "source": []
  },
  {
   "cell_type": "code",
   "execution_count": null,
   "metadata": {
    "collapsed": true
   },
   "outputs": [],
   "source": []
  },
  {
   "cell_type": "code",
   "execution_count": 30,
   "metadata": {
    "collapsed": false,
    "scrolled": false
   },
   "outputs": [
    {
     "name": "stdout",
     "output_type": "stream",
     "text": [
      "[ 1.  1.  1.  1.  1.  1.  1.  1.  1.  1.  1.  1.  1.  0.  1.  1.  1.  1.\n",
      "  1.  1.  1.  1.  1.  1.  1.  1.  1.  1.  1.  1.  1.  1.  1.  1.]\n",
      "[ 1.          0.          0.          0.          0.          0.          0.\n",
      "  0.          0.          0.          0.          0.          0.          0.\n",
      "  0.          0.          0.          0.          0.          0.          0.\n",
      "  0.          0.          0.          0.          0.          0.          0.\n",
      "  0.          0.          0.          0.          0.          0.          0.\n",
      "  0.          0.          0.          0.          0.          0.          0.\n",
      "  0.          0.          0.          0.          0.          1.          1.\n",
      "  1.          1.          0.          0.          0.          0.          0.\n",
      "  0.          0.          0.          0.9473989   0.92386607  0.90278913\n",
      "  0.88372061  0.86632151  0.85031202  0.83547414  0.82162759  0.80857401\n",
      "  0.79616533  0.78472324  0.77401123  0.76361938  0.75360881  0.74397174\n",
      "  0.73462545  0.72556555  0.71673969  0.70811277  0.69971917  0.\n",
      "  0.31691301  0.32501899  0.33303922  0.34100881  0.34891757  0.35678734\n",
      "  0.3645978   0.37235028  0.38001389  0.38755401  0.39492909  0.40207962\n",
      "  0.40894618  0.41546994  0.42160072  0.42729509  0.43252767  0.43729026\n",
      "  0.44158459  0.44542847]\n"
     ]
    },
    {
     "data": {
      "image/png": "[encoded data removed]",
      "text/plain": [
       "<matplotlib.figure.Figure at 0x864d3c8>"
      ]
     },
     "metadata": {},
     "output_type": "display_data"
    }
   ],
   "source": [
    "iterable = (sResultados_conv[l] for l in range(66,ll))\n",
    "axis = np.fromiter(iterable, np.float)\n",
    "print(axis)\n",
    "\n",
    "plt.plot((axis+1),label='conv')\n",
    "\n",
    "iterable = (sResultados_beta[l] for l in range(0,ll))\n",
    "axis = np.fromiter(iterable, np.float)\n",
    "print(axis)\n",
    "\n",
    "FIRST_CONV = 66\n",
    "\n",
    "iterable = (sResultados_beta[l] for l in range(FIRST_CONV,ll))\n",
    "axis = np.fromiter(iterable, np.float)\n",
    "plt.plot(axis,label='solution')\n",
    "\n",
    "iterable = (sResultados_beta0[l] for l in range(FIRST_CONV,ll))\n",
    "axis = np.fromiter(iterable, np.float)\n",
    "plt.plot(axis,label='ig')\n",
    "\n",
    "'''[[ 0.79986453]] vs 0.310193764201\n",
    "[[ 0.41875185  4.62153782  1.02404211]] vs [ 0.03473608  2.8461674   0.41370058]'''\n",
    "\n",
    "plt.scatter([13],[0.79986453],marker='*',label='bad_ig')\n",
    "plt.scatter([13],[0.310193764201 ],label='failed_sol')\n",
    "plt.scatter([13],[1-0.310193764201 ],marker='d',label='comp_failed_sol')\n",
    "\n",
    "\n",
    "iterable = (sResultados_beta[l] for l in range(FIRST_CONV,ll))\n",
    "axis = np.fromiter(iterable, np.float)\n",
    "plt.plot(1-axis,label='comp_solution')\n",
    "iterable = (sResultados_beta0[l] for l in range(FIRST_CONV,ll))\n",
    "axis = np.fromiter(iterable, np.float)\n",
    "plt.plot(1-axis,label='comp_ig')\n",
    "\n",
    "plt.legend()\n",
    "\n",
    "plt.show()"
   ]
  },
  {
   "cell_type": "markdown",
   "metadata": {},
   "source": [
    "# IG CLOSE TO SOLUTION '2'"
   ]
  },
  {
   "cell_type": "code",
   "execution_count": 31,
   "metadata": {
    "collapsed": false
   },
   "outputs": [
    {
     "name": "stdout",
     "output_type": "stream",
     "text": [
      "[ 1.  1.  1.  1.  1.  1.  1.  1.  1.  1.  1.  1.  1.  0.  1.  1.  1.  1.\n",
      "  1.  1.  1.  1.  1.  1.  1.  1.  1.  1.  1.  1.  1.  1.  1.  1.]\n"
     ]
    },
    {
     "name": "stderr",
     "output_type": "stream",
     "text": [
      "C:\\Users\\iuri\\Anaconda3\\lib\\site-packages\\ipykernel\\__main__.py:25: RuntimeWarning: divide by zero encountered in true_divide\n"
     ]
    },
    {
     "data": {
      "image/png": "[encoded data removed]",
      "text/plain": [
       "<matplotlib.figure.Figure at 0x8703f28>"
      ]
     },
     "metadata": {},
     "output_type": "display_data"
    }
   ],
   "source": [
    "iterable = (sResultados_conv[l] for l in range(FIRST_CONV,ll))\n",
    "axis = np.fromiter(iterable, np.float)\n",
    "print(axis)\n",
    "plt.semilogy(1000*(axis)+100,label='conv')\n",
    "\n",
    "\n",
    "iterable = (sResultados_K[l][0] for l in range(FIRST_CONV,ll))\n",
    "axis = np.fromiter(iterable, np.float)\n",
    "plt.semilogy(axis,label='solution')\n",
    "\n",
    "iterable = (sResultados_K0[l][0] for l in range(FIRST_CONV,ll))\n",
    "axis = np.fromiter(iterable, np.float)\n",
    "plt.semilogy(axis,label='ig')\n",
    "\n",
    "'''[[ 0.79986453]] vs 0.310193764201\n",
    "[[ 0.41875185  4.62153782  1.02404211]] vs [ 0.03473608  2.8461674   0.41370058]'''\n",
    "\n",
    "plt.scatter([13],[0.41875185],marker='*',label='bad_ig')\n",
    "plt.scatter([13],[0.03473608],label='failed_sol')\n",
    "plt.scatter([13],[1/0.03473608 ],marker='d',label='inv_failed_sol')\n",
    "\n",
    "\n",
    "iterable = (sResultados_K[l][0] for l in range(FIRST_CONV,ll))\n",
    "axis = np.fromiter(iterable, np.float)\n",
    "plt.plot(1/axis,label='inv_solution')\n",
    "iterable = (sResultados_K0[l][0] for l in range(FIRST_CONV,ll))\n",
    "axis = np.fromiter(iterable, np.float)\n",
    "plt.plot(1/axis,label='inv_ig')\n",
    "\n",
    "plt.legend()\n",
    "\n",
    "plt.show()"
   ]
  },
  {
   "cell_type": "markdown",
   "metadata": {},
   "source": [
    "# ig right in the middle, closer to solution 1"
   ]
  },
  {
   "cell_type": "code",
   "execution_count": 32,
   "metadata": {
    "collapsed": false
   },
   "outputs": [
    {
     "name": "stdout",
     "output_type": "stream",
     "text": [
      "[ 1.  1.  1.  1.  1.  1.  1.  1.  1.  1.  1.  1.  1.  0.  1.  1.  1.  1.\n",
      "  1.  1.  1.  1.  1.  1.  1.  1.  1.  1.  1.  1.  1.  1.  1.  1.]\n"
     ]
    },
    {
     "name": "stderr",
     "output_type": "stream",
     "text": [
      "C:\\Users\\iuri\\Anaconda3\\lib\\site-packages\\ipykernel\\__main__.py:24: RuntimeWarning: divide by zero encountered in true_divide\n"
     ]
    },
    {
     "data": {
      "image/png": "[encoded data removed]",
      "text/plain": [
       "<matplotlib.figure.Figure at 0x9867c18>"
      ]
     },
     "metadata": {},
     "output_type": "display_data"
    }
   ],
   "source": [
    "iterable = (sResultados_conv[l] for l in range(FIRST_CONV,ll))\n",
    "axis = np.fromiter(iterable, np.float)\n",
    "print(axis)\n",
    "plt.semilogy(1000*(axis)+100,label='conv')\n",
    "\n",
    "\n",
    "iterable = (sResultados_K[l][1] for l in range(FIRST_CONV,ll))\n",
    "axis = np.fromiter(iterable, np.float)\n",
    "plt.semilogy(axis,label='solution')\n",
    "\n",
    "iterable = (sResultados_K0[l][1] for l in range(FIRST_CONV,ll))\n",
    "axis = np.fromiter(iterable, np.float)\n",
    "plt.semilogy(axis,label='ig')\n",
    "\n",
    "'''[[ 0.79986453]] vs 0.310193764201\n",
    "[[ 0.41875185  4.62153782  1.02404211]] vs [ 0.03473608  2.8461674   0.41370058]'''\n",
    "\n",
    "plt.scatter([13],[4.62153782],marker='*')\n",
    "plt.scatter([13],[2.8461674 ],label='failed_sol')\n",
    "plt.scatter([13],[1/2.8461674 ],marker='d',label='inv_failed_sol')\n",
    "\n",
    "iterable = (sResultados_K[l][1] for l in range(FIRST_CONV,ll))\n",
    "axis = np.fromiter(iterable, np.float)\n",
    "plt.plot(1/axis,label='inv_solution')\n",
    "iterable = (sResultados_K0[l][1] for l in range(FIRST_CONV,ll))\n",
    "axis = np.fromiter(iterable, np.float)\n",
    "plt.plot(1/axis,label='inv_ig')\n",
    "\n",
    "plt.legend()\n",
    "\n",
    "plt.show()"
   ]
  },
  {
   "cell_type": "markdown",
   "metadata": {},
   "source": [
    "# ig CLOSE TO FEASIBLE SOLUTION '1'"
   ]
  },
  {
   "cell_type": "code",
   "execution_count": 33,
   "metadata": {
    "collapsed": false
   },
   "outputs": [
    {
     "name": "stdout",
     "output_type": "stream",
     "text": [
      "[ 1.  1.  1.  1.  1.  1.  1.  1.  1.  1.  1.  1.  1.  0.  1.  1.  1.  1.\n",
      "  1.  1.  1.  1.  1.  1.  1.  1.  1.  1.  1.  1.  1.  1.  1.  1.]\n"
     ]
    },
    {
     "name": "stderr",
     "output_type": "stream",
     "text": [
      "C:\\Users\\iuri\\Anaconda3\\lib\\site-packages\\ipykernel\\__main__.py:24: RuntimeWarning: divide by zero encountered in true_divide\n"
     ]
    },
    {
     "data": {
      "image/png": "[encoded data removed]",
      "text/plain": [
       "<matplotlib.figure.Figure at 0xa2ea240>"
      ]
     },
     "metadata": {},
     "output_type": "display_data"
    }
   ],
   "source": [
    "iterable = (sResultados_conv[l] for l in range(FIRST_CONV,ll))\n",
    "axis = np.fromiter(iterable, np.float)\n",
    "print(axis)\n",
    "plt.semilogy(1000*(axis)+100,label='conv')\n",
    "\n",
    "\n",
    "iterable = (sResultados_K[l][2] for l in range(FIRST_CONV,ll))\n",
    "axis = np.fromiter(iterable, np.float)\n",
    "plt.semilogy(axis,label='solution')\n",
    "\n",
    "iterable = (sResultados_K0[l][2] for l in range(FIRST_CONV,ll))\n",
    "axis = np.fromiter(iterable, np.float)\n",
    "plt.semilogy(axis,label='ig')\n",
    "\n",
    "'''[[ 0.79986453]] vs 0.310193764201\n",
    "[[ 0.41875185  4.62153782  1.02404211]] vs [ 0.03473608  2.8461674   0.41370058]'''\n",
    "\n",
    "plt.scatter([13],[1.02404211],marker='*')\n",
    "plt.scatter([13],[0.41370058 ],label='failed_sol')\n",
    "plt.scatter([13],[1/0.41370058 ],marker='d',label='inv_failed_sol')\n",
    "\n",
    "iterable = (sResultados_K[l][2] for l in range(FIRST_CONV,ll))\n",
    "axis = np.fromiter(iterable, np.float)\n",
    "plt.plot(1/axis,label='inv_solution')\n",
    "iterable = (sResultados_K0[l][2] for l in range(FIRST_CONV,ll))\n",
    "axis = np.fromiter(iterable, np.float)\n",
    "plt.plot(1/axis,label='inv_ig')\n",
    "\n",
    "plt.legend()\n",
    "\n",
    "plt.show()"
   ]
  },
  {
   "cell_type": "markdown",
   "metadata": {
    "collapsed": true
   },
   "source": [
    "# INITIAL GUESS RIGHT IN THE MIDDEL OF TWO FEASIBLE SOLUTIONS"
   ]
  },
  {
   "cell_type": "code",
   "execution_count": null,
   "metadata": {
    "collapsed": true
   },
   "outputs": [],
   "source": []
  },
  {
   "cell_type": "code",
   "execution_count": null,
   "metadata": {
    "collapsed": true
   },
   "outputs": [],
   "source": []
  }
 ],
 "metadata": {
  "anaconda-cloud": {},
  "kernelspec": {
   "display_name": "Python [Root]",
   "language": "python",
   "name": "Python [Root]"
  },
  "language_info": {
   "codemirror_mode": {
    "name": "ipython",
    "version": 3
   },
   "file_extension": ".py",
   "mimetype": "text/x-python",
   "name": "python",
   "nbconvert_exporter": "python",
   "pygments_lexer": "ipython3",
   "version": "3.5.2"
  }
 },
 "nbformat": 4,
 "nbformat_minor": 1
}
