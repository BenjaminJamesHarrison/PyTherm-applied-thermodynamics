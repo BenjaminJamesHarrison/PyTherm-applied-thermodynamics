{
 "cells": [
  {
   "cell_type": "markdown",
   "metadata": {},
   "source": [
    ">This file should act as an index for myBinder or for GitHub's default notebook viewer to link to all notebooks and other content in the PyTherm project."
   ]
  },
  {
   "cell_type": "markdown",
   "metadata": {},
   "source": [
    "# Table of Contents"
   ]
  },
  {
   "cell_type": "markdown",
   "metadata": {},
   "source": [
    "## Lectures"
   ]
  },
  {
   "cell_type": "markdown",
   "metadata": {},
   "source": [
    "### Zeroth lectures - on python tutor live\n",
    "The zeroth lecture in this folder should be studied on the platform provided by python tutor live.- This platform  graphically depicts the behavior of variables, assignments, functions and pointers, which is the major source of confusion among beginners in programming.\n",
    "\n",
    "\"basic_syntax_variables_functions_arguments_pointers_lists\""
   ]
  },
  {
   "cell_type": "markdown",
   "metadata": {},
   "source": [
    "\n",
    "* A [here][preloaded ptl A]\n",
    "\n",
    "[preloaded ptl A]: http://www.pythontutor.com/live.html#code=%23%20The%20following%20code%20should%20be%20studied%20on%20the%20platform%20provided%20by%20http%3A//www.pythontutor.com/live.html%23mode%3Dedit%0A%23%20This%20platform%20graphically%20depicts%20the%20behavior%20of%20variables,%20assignments,%20functions%20and%20pointers,%0A%23%20which%20is%20the%20major%20source%20of%20confusion%20among%20beginners%20in%20programming%0A%0A%23%20%3D%3D%3D%20Lecture%20zero,%20part%20A%20%3D%3D%3D%3D%3D%3D%3D%3D%3D%3D%3D%3D%3D%3D%3D%3D%3D%3D%3D%3D%3D%3D%3D%3D%3D%3D%3D%3D%3D%3D%3D%3D%3D%3D%3D%3D%3D%3D%3D%3D%3D%3D%3D%3D%3D%3D%3D%3D%3D%3D%3D%3D%3D%3D%3D%3D%3D%3D%3D%3D%3D%3D%3D%3D%3D%3D%3D%3D%3D%3D%3D%3D%3D%3D%3D%3D%3D%3D%3D%3D%3D%3D%3D%3D%3D%3D%3D%3D%3D%3D%3D%3D%3D%3D%3D%3D%3D%3D%3D%3D%3D%3D%3D%3D%3D%3D%3D%3D%3D%3D%3D%3D%3D%3D%3D%3D%3D%3D%3D%3D%3D%3D%3D%3D%3D%3D%3D%3D%3D%3D%3D%3D%3D%3D%3D%3D%3D%3D%3D%3D%3D%3D%3D%3D%3D%3D%3D%3D%3D%3D%3D%3D%3D%3D%3D%3D%3D%3D%3D%3D%3D%3D%3D%3D%3D%3D%3D%3D%0A%0A%23%20---%20Assignments%20-------------------------------------------------------------------------------------------------------------------------------------------------------------%0A%0AR%20%3D%208.314%0A%0A%23%20Read%20as%20%22%20The%20value%20%228.314%22%20is%20assigned%20(%3D%29%20to%20the%20variable%20%22R%22.%20%22%0A%0A%23%20Note%20the%20'global%20frame'%20table%0A%0A%23%20---%20print%20-------------------------------------------------------------------------------------------------------------------------------------------------------------%0A%0A%23%20print%20the%20value%20assigned%20to%20R%0A%0Aprint(R%29%0A%0A%23%20Note%20the%20'print%20output'%20field%0A%0AT%20%3D%20273%0A%23%20Note%20a%20new%20line%20on%20the%20'global%20frame'%20table%0A%0AP%20%3D%201e5%20%23%201e5%20means%201%20x%2010%5E5%0A%23%20Note%20a%20new%20line%20on%20the%20'global%20frame'%20table%0A%0A%23%20assignment%20to%20the%20result%20of%20an%20operation%0A%0A%23%20---%20Operators%20----------------------------------------------------------------------------------------------------------------------------------\n",
    "\n"
   ]
  },
  {
   "cell_type": "markdown",
   "metadata": {},
   "source": [
    "### ipynb lectures\n",
    "You will also find jupyter notebooks adressing simple problems in applied thermodynamics. These notebooks will expose basic concepts of applied thermodynamics along with comments on python syntax and the usage of the jupyter notebook itself. - These will Introduce the student to some tools: python, numpy, scipy, sympy. And at the same time analyze some phenomena in classical thermodynamic, properties of gases and liquids, phase equilibra, etc..\n"
   ]
  },
  {
   "cell_type": "markdown",
   "metadata": {},
   "source": [
    "- [vdWnP EoS isotherms](/enUS/Lectures/ipynb/2_numpy,_matplotlib_and_the_van_der_Waals_Equation_of_State_isotherms.ipynb)"
   ]
  },
  {
   "cell_type": "markdown",
   "metadata": {},
   "source": [
    "\n",
    "### featured assignments"
   ]
  },
  {
   "cell_type": "markdown",
   "metadata": {},
   "source": [
    "### cheat sheets\n",
    "Syntax_cheat_sheets,_examples,_samples,_tests"
   ]
  },
  {
   "cell_type": "markdown",
   "metadata": {},
   "source": [
    "### texts\n",
    "\n"
   ]
  },
  {
   "cell_type": "markdown",
   "metadata": {},
   "source": [
    "### model & algorithms laboratory\n",
    "In this folder you will find jupyter notebooks to present solutions of usual problems in applied thermodynamics. These notebooks will be used to analyze, compare and present solutions of problems. Here we will no longer provide comments on python syntax.\n",
    "The notebooks may make use of code in separate python scripts or in differente languages\n",
    "This directory will act as a laboratory for analysis, development and testing of models and algorithms.\n"
   ]
  },
  {
   "cell_type": "markdown",
   "metadata": {},
   "source": [
    "### software incubator\n"
   ]
  },
  {
   "cell_type": "markdown",
   "metadata": {},
   "source": [
    "### external references\n",
    "\n",
    "* We plan on including some examples similar to the ones presented in [nrthermo's pvdiagram](http://nrthermo.tk/pvdiagrams/): van der Waals equation of state, the p-v diagram, the Binodal Curve, the Boyle temperature, and the Compressibility diagram. However in python with numpy/scipy/sympy and matplotlib, while they did in c with numerical recipes and independent plotting tools.\n",
    "\n"
   ]
  }
 ],
 "metadata": {
  "anaconda-cloud": {},
  "kernelspec": {
   "display_name": "Python [conda root]",
   "language": "python",
   "name": "conda-root-py"
  },
  "language_info": {
   "codemirror_mode": {
    "name": "ipython",
    "version": 3
   },
   "file_extension": ".py",
   "mimetype": "text/x-python",
   "name": "python",
   "nbconvert_exporter": "python",
   "pygments_lexer": "ipython3",
   "version": "3.5.2"
  }
 },
 "nbformat": 4,
 "nbformat_minor": 0
}
