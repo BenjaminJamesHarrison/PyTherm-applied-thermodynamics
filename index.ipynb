{
 "cells": [
  {
   "cell_type": "markdown",
   "metadata": {},
   "source": [
    "> This is the index file for jupyter' nbviewer and myBinder to link to all notebooks in the PyTherm project.\n",
    ">\n",
    "> \\> [static nbviewer access](http://nbviewer.jupyter.org/github/iurisegtovich/PyTherm-applied-thermodynamics/blob/master/index.ipynb)\n",
    ">\n",
    "> \\>_ [interactive myBinder access](http://mybinder.org:/repo/iurisegtovich/pytherm-applied-thermodynamics)"
   ]
  },
  {
   "cell_type": "markdown",
   "metadata": {},
   "source": [
    "# Table of Contents"
   ]
  },
  {
   "cell_type": "markdown",
   "metadata": {},
   "source": [
    "## Lectures"
   ]
  },
  {
   "cell_type": "markdown",
   "metadata": {},
   "source": [
    "### zeroth lectures\n",
    "The zeroth lecture in this folder should be studied on the platform provided by python tutor live.- This platform  graphically depicts the behavior of variables, assignments, functions and pointers, which is the major source of confusion among beginners in programming. - basic syntax, variables, functions, arguments, pointers, lists."
   ]
  },
  {
   "cell_type": "markdown",
   "metadata": {},
   "source": [
    "[View >>](contents/index/zeroth-lectures.ipynb)"
   ]
  },
  {
   "cell_type": "markdown",
   "metadata": {},
   "source": [
    "### main lectures\n",
    "You will also find jupyter notebooks adressing simple problems in applied thermodynamics. These notebooks will expose basic concepts of applied thermodynamics along with comments on python syntax and the usage of the jupyter notebook itself. - These will Introduce the student to some tools: python, numpy, scipy, sympy. And at the same time analyze some phenomena in classical thermodynamic, properties of gases and liquids, phase equilibra, etc..\n"
   ]
  },
  {
   "cell_type": "markdown",
   "metadata": {},
   "source": [
    "[View >>](contents/index/main-lectures.ipynb)"
   ]
  },
  {
   "cell_type": "markdown",
   "metadata": {},
   "source": [
    "## featured assignments"
   ]
  },
  {
   "cell_type": "markdown",
   "metadata": {},
   "source": [
    "[View >>](contents/index/featured-assignments.ipynb)"
   ]
  },
  {
   "cell_type": "markdown",
   "metadata": {},
   "source": [
    "## cheat sheets\n",
    "Syntax cheat sheets, examples, samples, tests"
   ]
  },
  {
   "cell_type": "markdown",
   "metadata": {},
   "source": [
    "[View >>](contents/index/cheat-sheets.ipynb)"
   ]
  },
  {
   "cell_type": "markdown",
   "metadata": {},
   "source": [
    "## texts library"
   ]
  },
  {
   "cell_type": "markdown",
   "metadata": {},
   "source": [
    "[View >>](contents/index/texts-library.ipynb)"
   ]
  },
  {
   "cell_type": "markdown",
   "metadata": {},
   "source": [
    "## model & algorithms laboratory\n",
    "In this folder you will find jupyter notebooks to present solutions of usual problems in applied thermodynamics. These notebooks will be used to analyze, compare and present solutions of problems. Here we will no longer provide comments on python syntax.\n",
    "The notebooks may make use of code in separate python scripts or in differente languages\n",
    "This directory will act as a laboratory for analysis, development and testing of models and algorithms."
   ]
  },
  {
   "cell_type": "markdown",
   "metadata": {},
   "source": [
    "[View >>](contents/index/models-and-algorithms-laboratory.ipynb)"
   ]
  },
  {
   "cell_type": "markdown",
   "metadata": {},
   "source": [
    "## software incubator\n",
    "[View >>](contents/index/software-incubator.ipynb)"
   ]
  },
  {
   "cell_type": "markdown",
   "metadata": {},
   "source": [
    "## external references"
   ]
  },
  {
   "cell_type": "markdown",
   "metadata": {},
   "source": [
    "[View >>](contents/index/external-references.ipynb)"
   ]
  }
 ],
 "metadata": {
  "anaconda-cloud": {},
  "kernelspec": {
   "display_name": "Python [conda root]",
   "language": "python",
   "name": "conda-root-py"
  },
  "language_info": {
   "codemirror_mode": {
    "name": "ipython",
    "version": 3
   },
   "file_extension": ".py",
   "mimetype": "text/x-python",
   "name": "python",
   "nbconvert_exporter": "python",
   "pygments_lexer": "ipython3",
   "version": "3.5.2"
  }
 },
 "nbformat": 4,
 "nbformat_minor": 0
}
