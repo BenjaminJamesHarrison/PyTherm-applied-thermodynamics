{
 "cells": [
  {
   "cell_type": "markdown",
   "metadata": {},
   "source": [
    "# Natural gas hydrates - Phase Equilibria\n",
    "Liquid(Water)-Solid(Hydrate-sI)-Gas(Methane) Equilibria\n",
    "> cf. Segtovich et al., 2016"
   ]
  },
  {
   "cell_type": "markdown",
   "metadata": {},
   "source": [
    "# Overview"
   ]
  },
  {
   "cell_type": "markdown",
   "metadata": {},
   "source": [
    "## Equilibrium criteria\n",
    "\n",
    "Equality of pressure, temperature and chemical potential among all phases for each component \n",
    "\n",
    "$$\\mu_w^L=\\mu_w^H$$\n",
    "$$\\mu_w^G=\\mu_w^H$$\n",
    "$$\\mu_g^L=\\mu_g^H$$\n",
    "$$\\mu_g^G=\\mu_g^H$$\n",
    "\n",
    "Note that the solubility of water in the gas phase is known to be small ( circa 100 ppm ) and does not significantly affect the chemical potential of other components in the gas phase\n",
    "Similarly, the solubility of guest components in the liquid water phase is known to be small ( even lower than 1 ppm ) and does not significantly affect the chemical potential of water in that liquid water phase.\n",
    "\n",
    "Therefore we are able to split the problem in two sections with .\n",
    "\n",
    "First we can calculate phase equilibria using equality of chemical componets present in significant ammount in each phase\n",
    "\n",
    "$$\\mu_w^L=\\mu_w^H$$\n",
    "\n",
    "$$\\mu_g^G=\\mu_g^H$$\n",
    "\n",
    "Then we may calculate the solubility of guest components in water and of water in gas phase at equilibrium condition, if we want to do so."
   ]
  },
  {
   "cell_type": "markdown",
   "metadata": {},
   "source": [
    "## Models\n",
    "\n",
    "Regarding models for said chemical potentials in each phase,\n",
    "\n",
    "We know an equation of state for the gas phase, from which we are able to calculate fugacity as function of temperature, of either density or pressure, and of composition.\n",
    "\n",
    "$$f_g^G \\leftarrow f_g^G(T,P,x_g^G)$$\n",
    "\n",
    "We know an equation of state for the adsorption of guest components in an hypothesized empty lattice phase, from which we are able to calculate chemical potential difference for water between filled and empty lattice conditions, as well as composition of guests in the lattice, as function of temperature, and fugacity of the guests in the hydrate phase.\n",
    "\n",
    "$$\\Delta\\mu_w^{H-EL} \\leftarrow \\Delta\\mu_w^{H-EL}(T,f_g^H)$$\n",
    "\n",
    "Regarding the liquid water phase and the hypothesized empty lattice phase, we can calculate a difference in the cehmical potential of water between these phases from classical thermodynamics integration as a function of temperature and pressure, given a initial condition of T0, P0 and a reference chemical potential difference.\n",
    "\n",
    "$$\\Delta\\mu_w^{Lw-EL} \\leftarrow \\Delta\\mu_w^{Lw-EL}(T,P)$$"
   ]
  },
  {
   "cell_type": "markdown",
   "metadata": {},
   "source": [
    "## Devised algorithm\n",
    "\n",
    "Having hold of these models we can devise an algorithm to achieve equality of chemical potential in the following \n",
    "\n",
    "* $\\mu_g^G=\\mu_g^H$ is met by means o meeting $f_g^G=f_g^H$\n",
    "\n",
    "* $\\mu_w^{Lw}=\\mu_g^H$ is met by means of meeting $\\mu_w^{Lw}-\\mu_w^{EL}=\\mu_g^H-\\mu_w^{EL}$ which we name $\\Delta\\mu_w^{Lw-EL}=\\Delta\\mu_g^{H-EL}$\n",
    "\n",
    "Then,\n",
    "\n",
    "Equality of guest fugacity is met by **direct substitution** of gas fugacity into hydrate model:\n",
    "\n",
    "$$f_g^H \\impliedby f_g^G(P,T,x_g^G)$$\n",
    "\n",
    "making the functionality of $\\Delta\\mu_w^{H-EL}(T,P,f_g^H)$ become $\\Delta\\mu_w^{H-EL}(T,P,f_g^H(T,P,x_g^G))$ therefore $\\Delta\\mu_w^{H-EL}(T,P,x_g^G)$.\n",
    "\n",
    "For given $P$ and $x_g^G$ , the equality of the chemical potential differences for water is met by numerical solution of this equality for $T$.\n",
    "\n",
    "$T^{SOLUTION} \\leftarrow SOLVE \\left({\\Delta\\mu_w^{H-EL}(T<^{SOLVE},P<^{GIVEN},x_g^G<^{GIVEN})=\\Delta\\mu_w^{Lw-EL}(T<^{SOLVE},P<^{GIVEN})}\\right)$"
   ]
  },
  {
   "cell_type": "markdown",
   "metadata": {
    "collapsed": true
   },
   "source": [
    "Implementation:"
   ]
  },
  {
   "cell_type": "code",
   "execution_count": 12,
   "metadata": {
    "collapsed": true
   },
   "outputs": [],
   "source": [
    "import numpy as np"
   ]
  },
  {
   "cell_type": "markdown",
   "metadata": {},
   "source": [
    "# Implement model for calculation of fugacity in gas phase\n",
    "e.g. Peng-Robinson [REF](DOI) (Poling, Abreu Lecture Notes, PR original)"
   ]
  },
  {
   "cell_type": "code",
   "execution_count": 13,
   "metadata": {
    "collapsed": false
   },
   "outputs": [],
   "source": [
    "def PR_fug_G(T,P,x): #Peng-Robinson\n",
    "    R = 8.31446 #m^3*Pa/(mol*K)  \n",
    "    \n",
    "    Ncomp=1 #<<<<<<<<<<<<<<<<<<<<<<<<<<<<<<<<<<<<<<<<<<<<<<<<<<<<<<<<<<<<<<<<<<<<<<<<<<<<<INPUT\n",
    "\n",
    "    k=np.zeros([Ncomp,Ncomp])\n",
    "    Tc=np.ones([Ncomp])\n",
    "    Pc=np.ones([Ncomp])\n",
    "    w=np.ones([Ncomp])\n",
    "    \n",
    "    sigma=1+np.sqrt(2)\n",
    "    epsilon=1-np.sqrt(2)\n",
    "    \n",
    "    #e.g.METHANE\n",
    "    Tc[0]=-82.59+273#<<<<<<<<<<<<<<<<<<<<<<<<<<<<<<<<<<<<<<<<<<<<<<<<<<<<<<<<<<<<<<<<<<<<<INPUT\n",
    "    Pc[0]=45.99*1e5#<<<<<<<<<<<<<<<<<<<<<<<<<<<<<<<<<<<<<<<<<<<<<<<<<<<<<<<<<<<<<<<<<<<<<<INPUT\n",
    "    w[0]=0.010#<<<<<<<<<<<<<<<<<<<<<<<<<<<<<<<<<<<<<<<<<<<<<<<<<<<<<<<<<<<<<<<<<<<<<<<<<<<INPUT\n",
    "    \n",
    "    ai_crit = (0.45724*((R)**2)*(Tc[:])**2)/(Pc[:])\n",
    "    bi_crit = (0.07780*(R)*(Tc[:]))/(Pc[:])\n",
    "    \n",
    "    PRk = 0.37464 + 1.54226*w[:]-0.26992*(w[:])**2\n",
    "    \n",
    "    alphaAi= (1. + PRk*(1.-np.sqrt(T/Tc[:])))**2\n",
    "    \n",
    "    ThetaAi=ai_crit[:]*alphaAi[:]\n",
    "    \n",
    "    b_m=sum(x*bi_crit)\n",
    "    \n",
    "    Theta_m=0\n",
    "    for i in range(Ncomp):\n",
    "        for j in range(Ncomp):\n",
    "            Theta_m += x[i]*x[j]*np.sqrt(ThetaAi[i]*ThetaAi[j])*(1.- k[i,j])\n",
    "            \n",
    "    Theta_m=sum(sum(np.array( #sums over all elements of the following temporary 2d array\n",
    "        [x[i]*x[j]*np.sqrt(ThetaAi[i]*ThetaAi[j])*(1.- k[i,j])\n",
    "        for (i,j) in np.ndindex(Ncomp,Ncomp)]).reshape((Ncomp,Ncomp))        \n",
    "    ))            \n",
    "    \n",
    "    c0 = -(b_m**3)*sigma*epsilon + (-R*T*sigma*epsilon*(b_m**2)-b_m*Theta_m)/P\n",
    "    c1 = (b_m**2)*(sigma*epsilon-epsilon-sigma) + ((R*T)*(-sigma*b_m-epsilon*b_m) + Theta_m)/P\n",
    "    c2 = epsilon*b_m+sigma*b_m-b_m-R*T/P\n",
    "    c3 = 1\n",
    "        \n",
    "    V = np.roots(np.array([c3,c2,c1,c0]))\n",
    "\n",
    "    \n",
    "    V = V[ np.isreal(V) ].real #filter out complex roots\n",
    "    V = V[ np.where( V > b_m ) ] #filter out non physical roots\n",
    "\n",
    "    V = max(V) #GASphase-only EOS implementation  \n",
    "    \n",
    "#    print(\"debug V=\",V*1000)\n",
    "    \n",
    "    dbidni=bi_crit[:]\n",
    "\n",
    "    dthetaidni=np.zeros(Ncomp)\n",
    "    for i in range(Ncomp):\n",
    "        sum1 = 0.\n",
    "        for j in range(Ncomp):\n",
    "            sum1 += x[j]*np.sqrt(ThetaAi[j])*(1.-k[i,j])\n",
    "\n",
    "        dthetaidni[i]=np.sqrt(ThetaAi[i])*sum1\n",
    "\n",
    "    qsi = (1./(b_m*(epsilon-sigma)))*np.log((V+epsilon*b_m)/(V+sigma*b_m))\n",
    "    \n",
    "    lnPhi = (((dbidni[:]/b_m)*((P*V)/(R*T)-1) \n",
    "                -np.log(P*(V-b_m)/(R*T)) \n",
    "                -(Theta_m/(R*T))*qsi)*\n",
    "                ((2*dthetaidni[:]/Theta_m)- \n",
    "                (dbidni[:]/b_m)))\n",
    "\n",
    "    fug = np.exp(lnPhi)*x*P\n",
    "\n",
    "    return fug, V\n",
    "\n",
    "def test_PR():\n",
    "    R = 8.31446 #m^3*Pa/(mol*K)  \n",
    "    tryT=273\n",
    "    tryP=1e5\n",
    "    tryx=np.array([1.])\n",
    "    ans=PR_fug_G(tryT,tryP,tryx)\n",
    "    print(\"Z\",tryP*ans[1]/(R*tryT))\n",
    "    print(\"f\",ans[0])\n",
    "\n",
    "    tryT=273\n",
    "    tryP=1e9\n",
    "    tryx=np.array([1.])\n",
    "    ans=PR_fug_G(tryT,tryP,tryx)\n",
    "    print(\"Z\",tryP*ans[1]/(R*tryT))\n",
    "    print(\"f\",ans[0])\n",
    "\n",
    "    tryT=298\n",
    "    tryP=1e5\n",
    "    tryx=np.array([1.])\n",
    "    ans=PR_fug_G(tryT,tryP,tryx)\n",
    "    print(\"Z\",tryP*ans[1]/(R*tryT))\n",
    "    print(\"f\",ans[0])\n",
    "    \n",
    "    tryT=298\n",
    "    tryP=1e9\n",
    "    tryx=np.array([1.])\n",
    "    ans=PR_fug_G(tryT,tryP,tryx)\n",
    "    print(\"Z\",tryP*ans[1]/(R*tryT))\n",
    "    print(\"f\",ans[0])\n",
    "    return"
   ]
  },
  {
   "cell_type": "code",
   "execution_count": 14,
   "metadata": {
    "collapsed": false
   },
   "outputs": [
    {
     "name": "stdout",
     "output_type": "stream",
     "text": [
      "Z 0.997061903565\n",
      "f [ 99706.49713971]\n",
      "Z 12.685200677\n",
      "f [  1.71815606e+13]\n",
      "Z 0.997781120382\n",
      "f [ 99778.1888341]\n",
      "Z 11.7011817254\n",
      "f [  8.32866536e+12]\n"
     ]
    }
   ],
   "source": [
    "#test\n",
    "test_PR()"
   ]
  },
  {
   "cell_type": "markdown",
   "metadata": {},
   "source": [
    "# The model for $\\Delta\\mu_w^{H-EL}$, van der Waals and Platteeuw, 1959\n",
    "langmuir constants as function of temperature\n",
    "$$C_{i,j}=\\frac{A_{i,j}}{T}exp\\frac{B_{i,j}}{T}$$\n",
    "\n",
    "composition as occupancy of cavities as function of langmuir constants and fugacities\n",
    "$$\\Theta_{i,j}=\\frac{C_{i,j}f_{i}}{1+\\sum_k\\left[{C_{k,j}f_{k}}\\right]}$$\n",
    "\n",
    "chemical potential difference as function of occupancy\n",
    "$$\\Delta\\mu_w^{H-EL}=RT\\left( \\sum_j\\left[{\\nu_j ln\\left(1- \\sum_i\\left[{\\Theta_{i,j}}\\right]\\right)}\\right] \\right)$$\n",
    "\n",
    "where A and B are empirical parameters presented by Parrish and Prausnitz (...), Munck (...), Sloan (...), Segtovich, 2016."
   ]
  },
  {
   "cell_type": "code",
   "execution_count": 15,
   "metadata": {
    "collapsed": false
   },
   "outputs": [],
   "source": [
    "def vdwnp_H_EL(T,fug):\n",
    "    \n",
    "#parameters\n",
    "\n",
    "    R = 8.31446 #!m^3*Pa/(mol*K)  \n",
    "\n",
    "    Nguest=1    #<<<<<<<<<<<<<<<<<<<<<<<<<<<<<<<<<<<<<<<<<<<<<<<<<<<<<<<<<<<<<<<<<<<<<INPUT components\n",
    "    Ncav=2 #<<<<<<<<<<<<<<<<<<<<<<<<<<<<<<<<<<<<<<<<<<<<<<<<<<<<<<<<<<<<<<<<<<<<<INPUT structure\n",
    "\n",
    "    UCnw = 46 #sI #<<<<<<<<<<<<<<<<<<<<<<<<<<<<<<<<<<<<<<<<<<<<<<<<<<<<<<<<<<<<<<<<<<<<<INPUT structure\n",
    "    ni = np.array([2/UCnw, 6/UCnw]) #sI #<<<<<<<<<<<<<<<<<<<<<<<<<<<<<<<<<<<<<<<<<<<<<<<<<<<<<<<<<<<<<<<<<<<<<INPUT structure\n",
    "\n",
    "    Nguest = 1\n",
    "    A_pSWP = np.zeros([Nguest,Ncav])\n",
    "    B_pSWP = np.zeros([Nguest,Ncav])\n",
    "    \n",
    "    #methane\n",
    "    A_pSWP[0,0] = .7228e-8 #Pa^-1.K #<<<<<<<<<<<<<<<<<<<<<<<<<<<<<<<<<<<<<<<<<<<<<<<<<<<<<<<<<<<<<<<<<<<<<INPUT components,structure\n",
    "    B_pSWP[0,0] = 3187. #K #<<<<<<<<<<<<<<<<<<<<<<<<<<<<<<<<<<<<<<<<<<<<<<<<<<<<<<<<<<<<<<<<<<<<<INPUT components,structure\n",
    "    A_pSWP[0,1] = 23.35e-8 #Pa^-1.K #<<<<<<<<<<<<<<<<<<<<<<<<<<<<<<<<<<<<<<<<<<<<<<<<<<<<<<<<<<<<<<<<<<<<<INPUT components,structure\n",
    "    B_pSWP[0,1] = 2653. #K #<<<<<<<<<<<<<<<<<<<<<<<<<<<<<<<<<<<<<<<<<<<<<<<<<<<<<<<<<<<<<<<<<<<<<INPU2*T components,structure\n",
    "\n",
    "#LANGMUIR CONSTANTS\n",
    "    Clang=np.zeros([Nguest,Ncav])\n",
    "    for i in range(Nguest):\n",
    "        for j in range(Ncav):\n",
    "            Clang[i,j] = (A_pSWP[i,j]/T)*np.exp(B_pSWP[i,j]/T) #Pa\n",
    "\n",
    "#OCCUPANCY\n",
    "    occ=np.zeros([Nguest,Ncav])\n",
    "    for j in range(Ncav):\n",
    "        sum1 = 0.      \n",
    "        for i in range(Nguest):\n",
    "            sum1 += Clang[i,j]*fug[i]\n",
    "\n",
    "        for i in range(Nguest):\n",
    "            occ[i,j] = Clang[i,j]*fug[i]/(1.+sum1)         \n",
    "#vdwnp\n",
    "    Dmu_H_EL = 0.\n",
    "    for j in range(Ncav):\n",
    "        sum1 = 0.\n",
    "        for i in range(Nguest):\n",
    "            sum1 += occ[i,j]\n",
    "            \n",
    "        Dmu_H_EL += ni[j]*np.log(1.-sum1)\n",
    "\n",
    "    return Dmu_H_EL\n",
    "\n",
    "# Here there is a standard test for vwnp\n",
    "def test_vwnp():\n",
    "    tryT=273\n",
    "    tryELV=1e-5\n",
    "    tryf=np.array([100000])\n",
    "    print(vdwnp_H_EL(tryT,tryf))\n",
    "    \n",
    "    tryT=273\n",
    "    tryf=np.array([1e9])\n",
    "    print(vdwnp_H_EL(tryT,tryf))\n",
    "    \n",
    "    tryT=298\n",
    "    tryELV=1e-5\n",
    "    tryf=np.array([100000])\n",
    "    print(vdwnp_H_EL(tryT,tryf))\n",
    "    \n",
    "    tryT=298\n",
    "    tryf=np.array([1e9])\n",
    "    print(vdwnp_H_EL(tryT,tryf))\n",
    "   \n",
    "    return"
   ]
  },
  {
   "cell_type": "code",
   "execution_count": 16,
   "metadata": {
    "collapsed": false
   },
   "outputs": [
    {
     "name": "stdout",
     "output_type": "stream",
     "text": [
      "-0.127099254882\n",
      "-1.59686925346\n",
      "-0.0637573948653\n",
      "-1.43275104482\n"
     ]
    }
   ],
   "source": [
    "#test\n",
    "test_vwnp()"
   ]
  },
  {
   "cell_type": "markdown",
   "metadata": {},
   "source": [
    "# The model for $\\Delta\\mu_w^{EL-Lw}$, Saito (...)\n",
    "Later reviewed by Parrish and Prausnitz (...), Munck (...), Sloan (...), Segtovich, 2016.\n",
    "$$\\Delta\\mu_w^{EL-Lw}=RT\\left( \\frac{\\Delta\\mu_w^{EL-Lw}|_{T0,P0}}{RT_0}-\\int_{T0}^{T} \\frac{\\Delta h_w^{EL-Lw}|_{P0}}{RT^2}+ \\int_{P0}^{P} \\frac{\\Delta v_w^{EL-Lw}|_{T}}{RT} \\right)$$"
   ]
  },
  {
   "cell_type": "code",
   "execution_count": 17,
   "metadata": {
    "collapsed": false
   },
   "outputs": [],
   "source": [
    "def saito_EL_Lw(T,P):\n",
    "    \n",
    "    R = 8.31446 #!m^3*Pa/(mol*K)  \n",
    "    \n",
    "    P0=612.62 #<<<<<<<<<<<<<<<<<<<<<<<<<<<<<<<<<<<<<<<<<<<<<<<<<<<<<<<<<<<<<<<<<<<<<INPUT\n",
    "    T0=273.18 #<<<<<<<<<<<<<<<<<<<<<<<<<<<<<<<<<<<<<<<<<<<<<<<<<<<<<<<<<<<<<<<<<<<<<INPUT\n",
    "    \n",
    "    Dmu00 = 1264.00 #EL-LW  #<<<<<<<<<<<<<<<<<<<<<<<<<<<<<<<<<<<<<<<<<<<<<<<<<<<<<<<<<<<<<<<<<<<<<INPUT structure\n",
    "    Dh00  = -4858.00 #EL-LW   #<<<<<<<<<<<<<<<<<<<<<<<<<<<<<<<<<<<<<<<<<<<<<<<<<<<<<<<<<<<<<<<<<<<<<INPUT structure\n",
    "    Dcp00 = -39.16 #EL-LW?   #<<<<<<<<<<<<<<<<<<<<<<<<<<<<<<<<<<<<<<<<<<<<<<<<<<<<<<<<<<<<<<<<<<<<<INPUT structure\n",
    "\n",
    "    \n",
    "    #-S_DH_EL_LW_RT2_dT (T0->T, P)\n",
    "    GenVantHoffFactor = (1./R) * (((1./T)-(1/T0))*(Dh00-Dcp00*T0) - (Dcp00)*np.log(T*(1/T0)))\n",
    "       \n",
    "    #VLW\n",
    "    V_Lw = (18.)*1e-6 # ( ( 1g/cm3 / 18g/mol ) ^-1 ) * 10^-6 m3/cm3 = ___ m3/mol\n",
    "\n",
    "    #VEL\n",
    "    \n",
    "    D_V_EL_Lw = 4.6e-6 #*1.2   #<<<<<<<<<<<<<<<<<<<<<<<<<<<<<<<<<<<<<<<<<<<<<<<<<<<<<<<<<<<<<<<<<<<<<INPUT structure\n",
    "    # Try multiplying this parameter for 1.2 and see the effect in the phase diagram\n",
    "    \n",
    "    V_EL = V_Lw+D_V_EL_Lw\n",
    "    \n",
    "    #Poyinting_EL_Lw (T, P0->P)\n",
    "    Poynting_EL_Lw = D_V_EL_Lw*(P-P0)/(R*T)\n",
    "    \n",
    "    Dmu_EL_Lw = ( Dmu00/(R*T0) + GenVantHoffFactor + Poynting_EL_Lw ) #EL-PW\n",
    "    \n",
    "    return Dmu_EL_Lw\n",
    "\n",
    "# Here there is a standar test\n",
    "def test_saito():\n",
    "    tryT=273\n",
    "    tryP=1e5\n",
    "    print(saito_EL_Lw(tryT,tryP))\n",
    "\n",
    "    tryT=273\n",
    "    tryP=1e9\n",
    "    print(saito_EL_Lw(tryT,tryP))\n",
    "    \n",
    "    tryT=298\n",
    "    tryP=1e5\n",
    "    print(saito_EL_Lw(tryT,tryP))\n",
    "\n",
    "    tryT=198\n",
    "    tryP=1e9\n",
    "    print(saito_EL_Lw(tryT,tryP))  \n",
    "    \n",
    "    return"
   ]
  },
  {
   "cell_type": "code",
   "execution_count": 18,
   "metadata": {
    "collapsed": false
   },
   "outputs": [
    {
     "name": "stdout",
     "output_type": "stream",
     "text": [
      "0.555290889116\n",
      "2.58165602505\n",
      "0.752126561468\n",
      "2.81098609671\n"
     ]
    }
   ],
   "source": [
    "#test\n",
    "test_saito()"
   ]
  },
  {
   "cell_type": "code",
   "execution_count": 19,
   "metadata": {
    "collapsed": false
   },
   "outputs": [
    {
     "data": {
      "image/png": "[encoded data removed]",
      "text/plain": [
       "<matplotlib.figure.Figure at 0x7f00b9cfed30>"
      ]
     },
     "metadata": {},
     "output_type": "display_data"
    }
   ],
   "source": [
    "#define a script to calculate the phase diagram\n",
    "def PhaseDiagram():\n",
    "    from scipy.optimize import bisect as SOLVE\n",
    "\n",
    "    #specified gas composition\n",
    "    x=np.array([1.])\n",
    "\n",
    "    #definition of residue function for numerical solution along the PxT phase diagram\n",
    "    def RES(T,P):\n",
    "        Dmu_EL_Lw=saito_EL_Lw(T,P)\n",
    "        fug_G=PR_fug_G(T,P,x)[0]\n",
    "        Dmu_H_EL=vdwnp_H_EL(T,fug_G)\n",
    "        return Dmu_EL_Lw+Dmu_H_EL\n",
    "    \n",
    "    #define a grid\n",
    "    Tgrid = np.zeros(100)\n",
    "    Pgrid = np.logspace(5,9,100)\n",
    "    \n",
    "    #seek solution for T for each P in the grid\n",
    "    for i in range(100):\n",
    "\n",
    "        #call the solver imported from scipy.optimize\n",
    "        ans=SOLVE(\n",
    "            #define a lambda function for thew numerical method\n",
    "            #so that the numerical method can treat the RES of T and P as a function of 1 variable and tehrefore provide solutions for T for each given P\n",
    "            lambda T, P=Pgrid[i]: RES(T,P)\n",
    "            #set lower and upper search limits and tolerances\n",
    "            , 150, 400, xtol=1e-9, rtol=1e-9, maxiter=100, full_output=True, disp=True)\n",
    "\n",
    "    #record solution after each point in the grid\n",
    "        Tgrid[i]=ans[0]\n",
    "\n",
    "    #plot:\n",
    "    \n",
    "    #import plotting tools\n",
    "    import matplotlib.pyplot as plt\n",
    "    %matplotlib inline\n",
    "    \n",
    "    #activate figure\n",
    "    #plot calculated data\n",
    "    plt.figure(1)\n",
    "    plt.semilogy(Tgrid,Pgrid)\n",
    "    \n",
    "    #set plot limits\n",
    "    plt.xlim([273,333])\n",
    "    plt.ylim([1e5,1e10])\n",
    "\n",
    "    #Let's also plot some experimental data along our calculations\n",
    "    \n",
    "    #retrieve data from a text file provided with this notebook\n",
    "    table = np.loadtxt('supportFiles/C1-sI-hydrates-HLwGequilibria-expData.txt', #data from NIST\n",
    "                       dtype='float', \n",
    "                       comments='#', \n",
    "                       converters=None,\n",
    "                       skiprows=0,\n",
    "                       usecols=None,\n",
    "                       unpack=False,\n",
    "                       ndmin=0)\n",
    "    \n",
    "    #split data into arrays for T and P\n",
    "    T_eq = table[:,0]\n",
    "    P_eq = table[:,1]    \n",
    "    \n",
    "    #plot exp data as scatter\n",
    "    plt.scatter(T_eq,P_eq)\n",
    "    \n",
    "    #show plot!\n",
    "    plt.show()    \n",
    "    return\n",
    "\n",
    "#call the phase diagram script\n",
    "_=PhaseDiagram()"
   ]
  },
  {
   "cell_type": "markdown",
   "metadata": {},
   "source": [
    "# Coming soon:\n",
    ">- preserve this notebook for beginner lectures\n",
    ">- present improvements in intermediate notebooks\n",
    "\n",
    "* add ice below 273 K\n",
    "* add Langmuir parameters for\n",
    "* add acurate correlation for Lw and H volumes and its Poynting integrals\n",
    "* add activity coefficient model for water soluble inhibitors\n",
    "* add ethanol' inhibitor-guest dual-role\n",
    "\n",
    "\n"
   ]
  }
 ],
 "metadata": {
  "anaconda-cloud": {},
  "kernelspec": {
   "display_name": "Python [conda root]",
   "language": "python",
   "name": "conda-root-py"
  },
  "language_info": {
   "codemirror_mode": {
    "name": "ipython",
    "version": 3
   },
   "file_extension": ".py",
   "mimetype": "text/x-python",
   "name": "python",
   "nbconvert_exporter": "python",
   "pygments_lexer": "ipython3",
   "version": "3.5.2"
  }
 },
 "nbformat": 4,
 "nbformat_minor": 1
}
