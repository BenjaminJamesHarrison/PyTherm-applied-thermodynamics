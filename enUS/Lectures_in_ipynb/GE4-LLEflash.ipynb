{
 "cells": [
  {
   "cell_type": "markdown",
   "metadata": {
    "collapsed": false
   },
   "source": [
    "# The Non Random Two Liquids (NRTL) model for *excess Gibbs energy* ($g^E$) and a case study of Liquid-Liquid equilibria of water+ethanol+ethyl acetate"
   ]
  },
  {
   "cell_type": "markdown",
   "metadata": {},
   "source": [
    "## Fitted parameters\n",
    "Renon et al. (1969) fitted 1 $\\alpha$ valid for all 3 binary interactions $\\{(1,2),(1,3),(2,3)\\}$ parameter and 6 $A_{i,j}$ parameters, two for each binary interaction filling a non symmetric $A$ matrix."
   ]
  },
  {
   "cell_type": "code",
   "execution_count": 2,
   "metadata": {
    "collapsed": true
   },
   "outputs": [],
   "source": [
    "#unit system constant\n",
    "R=8.314\n",
    "\n",
    "# Ethyl acetate (1) + water (2) + ethanol (3)\n",
    "\n",
    "alpha12 = 0.4\n",
    "\n",
    "alpha23 = 0.3\n",
    "\n",
    "alpha13 = 0.3\n",
    "\n",
    "# 6 binary Aij parameters\n",
    "Dg12 = 1335 #K\n",
    "Dg21 = 2510 #K\n",
    "\n",
    "Dg23 = 976 #K\n",
    "Dg32 = 88 #K\n",
    "\n",
    "Dg13 = 301 #K\n",
    "Dg31 = 322 #K\n"
   ]
  },
  {
   "cell_type": "markdown",
   "metadata": {
    "collapsed": true
   },
   "source": [
    "## Feeding the fitted parameters to the model in matrix structure:\n",
    "we will assemble the parameters in a matrix structure so that we can access each parameter by its index, as in\n",
    "`A[0,0]` and `A[0,1]`rather than as `A11` and `A12`, so we can loop trough all of them using an iterator, see below:"
   ]
  },
  {
   "cell_type": "code",
   "execution_count": 5,
   "metadata": {
    "collapsed": true
   },
   "outputs": [],
   "source": [
    "import numpy as np\n",
    "from scipy.constants import R"
   ]
  },
  {
   "cell_type": "code",
   "execution_count": 11,
   "metadata": {
    "collapsed": false
   },
   "outputs": [],
   "source": [
    "#assemble matrix with regressed parameters Dg_i,j, according to the model all diagonal terms are zero\n",
    "Dg = np.array([[0, Dg12, Dg13],\n",
    "             [Dg21, 0, Dg23],\n",
    "             [Dg31, Dg32, 0]])\n",
    "\n",
    "\n",
    "#assemble symmetric matrix alpha\n",
    "alpha = np.array([[0, alpha12, alpha13],\n",
    "                [alpha12, 0, alpha23],\n",
    "                [alpha13, alpha23, 0]])\n",
    "\n",
    "#finally\n",
    "A = Dg/R\n"
   ]
  },
  {
   "cell_type": "code",
   "execution_count": 74,
   "metadata": {
    "collapsed": false
   },
   "outputs": [],
   "source": [
    "# chafer's\n",
    "\n",
    "alpha12=alpha13=alpha23=alpha21=alpha31=alpha23=0.2;\n",
    "\n",
    "\n",
    "A12=107.99\n",
    "A21=555.81\n",
    "A13=1011.98\n",
    "A31=2277.37\n",
    "A23=-1113.1\n",
    "A32=1217.37\n",
    "\n",
    "alpha = np.array([[0, alpha12, alpha13],\n",
    "                [alpha12, 0, alpha23],\n",
    "                [alpha13, alpha23, 0]])\n",
    "\n",
    "A = np.array([[0, A12, A13],\n",
    "             [A21, 0, A23],\n",
    "             [A31, A32, 0]])"
   ]
  },
  {
   "cell_type": "code",
   "execution_count": 68,
   "metadata": {
    "collapsed": false
   },
   "outputs": [],
   "source": [
    "from numba import jit\n",
    "@jit\n",
    "def Gamma(T,c_x,q_alpha, q_A):\n",
    "    #note that we used many lines for didatics\n",
    "    #we can do it in few lines:\n",
    "    #note that some expression occur more than once below\n",
    "    #so it may be useful define it as a intermediary recurrent term here\n",
    "    #and calculate it once to use it then several times\n",
    "    q_tau     = q_A/T\n",
    "    q_G       = np.exp(-(q_alpha*q_tau))\n",
    "    l_D       = ((1/((q_G.T) @ c_x)).T)\n",
    "    q_E       = (q_tau*q_G) * l_D \n",
    "    gamma     = np.exp(((q_E+(q_E.T))-(((q_G * l_D) * (c_x.T)) @ (q_E.T))) @ c_x)\n",
    "    return gamma"
   ]
  },
  {
   "cell_type": "code",
   "execution_count": 69,
   "metadata": {
    "collapsed": false
   },
   "outputs": [
    {
     "name": "stdout",
     "output_type": "stream",
     "text": [
      "[[ 7.97865398]\n",
      " [ 0.31550702]\n",
      " [ 0.95773617]]\n"
     ]
    }
   ],
   "source": [
    "#test it to see that the results are the same\n",
    "T=293.15\n",
    "x=np.array([.2,.3,.5]) #normalized\n",
    "x_as_column = np.array([x]).T\n",
    "print(Gamma(T,x_as_column,alpha,A)) #test using those trial input"
   ]
  },
  {
   "cell_type": "markdown",
   "metadata": {
    "collapsed": true
   },
   "source": [
    "# Liq-Liq Equilibria Flash\n",
    "The next step will be using the model in a phase equilibria algorithm, a Liq-Liq equilibria flash calculation\n",
    "\n",
    "it works as follows:\n",
    "\n",
    "The degrees of Freedom for a flash calculation are temperature - T, pressure - P and global composition - z\n",
    "\n",
    "\n",
    "XXX img src from thesis XXX\n",
    "* ...............  =>guess, xL1 xL2, then calls model(T,P,x)\n",
    "* ...............//\n",
    "* .............<=\n",
    "* T,P,z => algorithm => finds equilibrium xL1 xL2 and BETA\n",
    "\n",
    "**Equilibriuma criteria**\n",
    "\n",
    "$$\\mu_{i}^{\\rm {L1}}=\\mu_{i}^{\\rm {L2}}, \\forall i$$\n",
    "\n",
    "**Devised algorithm after analytical simplification of repeated contributions:**\n",
    "\n",
    "$$x_{i}^{\\rm {L1}} \\gamma_{i}^{\\rm {L1}}= x_{i}^{\\rm {L2}} \\gamma_{i}^{\\rm {L2}}, \\forall i$$"
   ]
  },
  {
   "cell_type": "markdown",
   "metadata": {
    "collapsed": true
   },
   "source": [
    "# algorithm\n"
   ]
  },
  {
   "cell_type": "code",
   "execution_count": 70,
   "metadata": {
    "collapsed": false
   },
   "outputs": [],
   "source": [
    "def ELLflash(Z,beta0,K0,MODEL):\n",
    "    v1 = np.array([[1,1,1]]).T\n",
    "    beta=prevbeta=beta0\n",
    "    K=prevK=K0\n",
    "\n",
    "    G=np.exp(-alpha*A/T);\n",
    "\n",
    "    Lambda=(A*G/T);\n",
    "    \n",
    "    looped2 = 0\n",
    "    looped3 = 0\n",
    "\n",
    "    #Gerencia Loop até que atinja convergência\n",
    "    looping2 = 0\n",
    "    while (looping2 == 0) or (max(abs(K-prevK))>0.0001 and looping2 < 1000):\n",
    "    #while max(abs(K-prevK))>0.0001 && looping2 < 1000\n",
    "        prevbeta = beta\n",
    "        a= (1./(v1+beta*(K-v1))) * (K-v1)\n",
    "        beta = beta+(1/((Z.T*a.T) @ a)) @ (Z.T @ a)\n",
    "\n",
    "        looping3 = 0;\n",
    "        while (abs(beta-prevbeta)>0.0001 and looping3 < 1000):\n",
    "            prevbeta = beta\n",
    "            a=(1./(v1+beta*(K-v1))) * (K-v1)\n",
    "            beta=beta+(1/((Z.T * a.T) @ a)) @ (Z.T @ a)\n",
    "            looping3 = looping3 + 1\n",
    "            looped3 = looped3 + 1\n",
    "        \n",
    "\n",
    "        prevK = K\n",
    "        XI=(1./(v1+beta * (K-v1))) * Z\n",
    "        EI=Lambda * (1./(G.T @ XI)).T\n",
    "        LI=G * (1./(G.T @ XI)).T\n",
    "        gamaI=np.exp((EI+EI.T-LI * XI.T @ EI.T) @ XI)\n",
    "        XII=K*XI;\n",
    "        EII=Lambda* (1./(G.T @ XII)).T\n",
    "        LII=G*(1./(G.T @ XII)).T\n",
    "        gamaII=np.exp((EII+EII.T-LII*XII.T @ EII.T) @ XII); #o modelo do gamma tá embutido\n",
    "        K=np.exp(np.log(gamaI)-np.log(gamaII));\n",
    "                       \n",
    "        looping2 = looping2 + 1;\n",
    "        looped2 = looped2 + 1;\n",
    "    \n",
    "\n",
    "    print('Calculation has ended')\n",
    "    if (looped2 < 1000 and looped3 < 1000):\n",
    "        Converged = 1;\n",
    "        print('xi',XI)\n",
    "        print('xii',XII)\n",
    "        print('beta',beta)\n",
    "    else:\n",
    "        Converged = 0;\n",
    "        print('unconverged')\n",
    "    \n",
    "    return XI, XII, beta"
   ]
  },
  {
   "cell_type": "code",
   "execution_count": 79,
   "metadata": {
    "collapsed": false
   },
   "outputs": [
    {
     "name": "stdout",
     "output_type": "stream",
     "text": [
      "293.15\n",
      "[[ 0.9168827 ]\n",
      " [ 0.3519015 ]\n",
      " [ 0.17377495]]\n",
      "[[ 0.91689205]\n",
      " [ 0.35194092]\n",
      " [ 0.17381633]]\n",
      "hue\n",
      "Calculation has ended\n",
      "xi [[ 0.05351624]\n",
      " [ 0.52503406]\n",
      " [ 0.4214497 ]]\n",
      "xii [[ 0.88451339]\n",
      " [ 0.10349332]\n",
      " [ 0.01199329]]\n",
      "beta [[ 0.29661204]]\n",
      "(array([[ 0.05351624],\n",
      "       [ 0.52503406],\n",
      "       [ 0.4214497 ]]), array([[ 0.88451339],\n",
      "       [ 0.10349332],\n",
      "       [ 0.01199329]]), array([[ 0.29661204]]))\n"
     ]
    }
   ],
   "source": [
    "ztest=np.array([[0.3000,\n",
    "0.4000,\n",
    "0.3000]]).T\n",
    "\n",
    "betatest=0.2966\n",
    "\n",
    "xitest=np.array([[0.0535,\n",
    "0.5250,\n",
    "0.4215]]).T\n",
    "\n",
    "\n",
    "xiitest=np.array([[0.8845,\n",
    "0.1035,\n",
    "0.0120]]).T\n",
    "\n",
    "ktest=1/(xitest/xiitest)\n",
    "\n",
    "beta0=betatest*1\n",
    "k0=ktest*1\n",
    "Z=ztest\n",
    "\n",
    "print(T)\n",
    "print(xitest*Gamma(T,xitest,alpha,A))\n",
    "print(xiitest*Gamma(T,xiitest,alpha,A))\n",
    "\n",
    "print('hue')\n",
    "print(ELLflash(Z,beta0,k0,0))"
   ]
  },
  {
   "cell_type": "markdown",
   "metadata": {
    "collapsed": true
   },
   "source": [
    "# initial guess\n",
    "\n",
    "%Estimativas Iniciais\n",
    "X0=Z;\n",
    "E0=Lambda*diag(1./(G'*X0));\n",
    "L0=G*diag(1./(G'*X0));\n",
    "gama0=exp([E0+E0'-L0*diag(X0)*E0']*X0);\n",
    "\n",
    "Xlin=1/(gama0'*Z)*diag(gama0)*Z;\n",
    "Elin=Lambda*diag(1./(G'*Xlin));\n",
    "Llin=G*diag(1./(G'*Xlin));\n",
    "gamalin=exp([Elin+Elin'-Llin*diag(Xlin)*Elin']*Xlin);\n",
    "Klin=diag(1./gamalin)*gama0;\n",
    "KlinMin=min(Klin);\n",
    "KlinMax=max(Klin);\n",
    "\n",
    "nI0=diag(KlinMax*v1-Klin)*Z;\n",
    "XI0=1/(v1'*nI0)*nI0;\n",
    "EI0=Lambda*diag(1./(G'*XI0));\n",
    "LI0=G*diag(1./(G'*XI0));\n",
    "gamaI0=exp([EI0+EI0'-LI0*diag(XI0)*EI0']*XI0);\n",
    "\n",
    "nII0=diag(Klin-KlinMin*v1)*Z;\n",
    "XII0=1/(v1'*nII0)*nII0;\n",
    "EII0=Lambda*diag(1./(G'*XII0));\n",
    "LII0=G*diag(1./(G'*XII0));\n",
    "gamaII0=exp([EII0+EII0'-LII0*diag(XII0)*EII0']*XII0);\n",
    "\n",
    "beta0=1/(KlinMax-KlinMin)*v1'*nII0;\n",
    "K0=exp(log(gamaI0)-log(gamaII0));\n"
   ]
  },
  {
   "cell_type": "markdown",
   "metadata": {},
   "source": [
    "# grid calc plot"
   ]
  },
  {
   "cell_type": "code",
   "execution_count": null,
   "metadata": {
    "collapsed": true
   },
   "outputs": [],
   "source": [
    "Resultados_beta = zeros(1,100);\n",
    "Resultados_Z = zeros(3,100);\n",
    "Resultados_XI = zeros(3,100);\n",
    "Resultados_XII = zeros(3,100);\n",
    "j = 0;\n",
    "for z1 = [0:0.1:1]\n",
    "\tfor z2 = [0:0.1:1]\n",
    "        if z1+z2 <= 1\n",
    "        roda_nrtl_iuri\n",
    "        if Converged == 1 && beta > 0 && beta < 1;\n",
    "        j = j+1;\n",
    "        Resultados_beta(j) = beta;\n",
    "            for l = [1;2;3]\n",
    "                Resultados_XI(l,j) = XI(l);\n",
    "                Resultados_XII(l,j) = XII(l);\n",
    "                Resultados_Z(l,j) = Z(l);\n",
    "            end %123\n",
    "        end %converged\n",
    "        end %<=1\n",
    "    end %z2\n",
    "end %z1"
   ]
  }
 ],
 "metadata": {
  "anaconda-cloud": {},
  "kernelspec": {
   "display_name": "Python [conda root]",
   "language": "python",
   "name": "conda-root-py"
  },
  "language_info": {
   "codemirror_mode": {
    "name": "ipython",
    "version": 3
   },
   "file_extension": ".py",
   "mimetype": "text/x-python",
   "name": "python",
   "nbconvert_exporter": "python",
   "pygments_lexer": "ipython3",
   "version": "3.5.2"
  }
 },
 "nbformat": 4,
 "nbformat_minor": 1
}
