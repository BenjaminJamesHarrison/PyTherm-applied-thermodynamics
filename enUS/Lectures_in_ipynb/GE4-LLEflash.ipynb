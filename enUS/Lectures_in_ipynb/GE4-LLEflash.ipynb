{
 "cells": [
  {
   "cell_type": "markdown",
   "metadata": {
    "collapsed": false
   },
   "source": [
    "# The Non Random Two Liquids (NRTL) model for *excess Gibbs energy* ($g^E$) and a case study of Liquid-Liquid equilibria of water+ethanol+ethyl acetate"
   ]
  },
  {
   "cell_type": "markdown",
   "metadata": {
    "collapsed": true
   },
   "source": [
    "## Feeding the fitted parameters to the model in matrix structure:\n",
    "we will assemble the parameters in a matrix structure so that we can access each parameter by its index, as in\n",
    "`A[0,0]` and `A[0,1]`rather than as `A11` and `A12`, so we can loop trough all of them using an iterator, see below:"
   ]
  },
  {
   "cell_type": "code",
   "execution_count": 2,
   "metadata": {
    "collapsed": true
   },
   "outputs": [],
   "source": [
    "import numpy as np\n",
    "from scipy.constants import R"
   ]
  },
  {
   "cell_type": "code",
   "execution_count": 3,
   "metadata": {
    "collapsed": false
   },
   "outputs": [],
   "source": [
    "#fited parameters\n",
    "# chafer's\n",
    "\n",
    "alpha12=alpha13=alpha23=alpha21=alpha31=alpha23=0.2;\n",
    "\n",
    "\n",
    "A12=107.99\n",
    "A21=555.81\n",
    "A13=1011.98\n",
    "A31=2277.37\n",
    "A23=-1113.1\n",
    "A32=1217.37\n",
    "\n",
    "alpha = np.array([[0, alpha12, alpha13],\n",
    "                [alpha12, 0, alpha23],\n",
    "                [alpha13, alpha23, 0]])\n",
    "\n",
    "A = np.array([[0, A12, A13],\n",
    "             [A21, 0, A23],\n",
    "             [A31, A32, 0]])"
   ]
  },
  {
   "cell_type": "code",
   "execution_count": 4,
   "metadata": {
    "collapsed": false
   },
   "outputs": [],
   "source": [
    "from numba import jit\n",
    "@jit\n",
    "def Gamma(T,c_x,q_alpha, q_A):\n",
    "    #note that we used many lines for didatics\n",
    "    #we can do it in few lines:\n",
    "    #note that some expression occur more than once below\n",
    "    #so it may be useful define it as a intermediary recurrent term here\n",
    "    #and calculate it once to use it then several times\n",
    "    q_tau     = q_A/T\n",
    "    q_G       = np.exp(-(q_alpha*q_tau))\n",
    "    l_D       = ((1/((q_G.T) @ c_x)).T)\n",
    "    q_E       = (q_tau*q_G) * l_D \n",
    "    gamma     = np.exp(((q_E+(q_E.T))-(((q_G * l_D) * (c_x.T)) @ (q_E.T))) @ c_x)\n",
    "    return gamma"
   ]
  },
  {
   "cell_type": "code",
   "execution_count": 5,
   "metadata": {
    "collapsed": false
   },
   "outputs": [
    {
     "name": "stdout",
     "output_type": "stream",
     "text": [
      "[[ 7.97865398]\n",
      " [ 0.31550702]\n",
      " [ 0.95773617]]\n"
     ]
    }
   ],
   "source": [
    "#test it to see that the results are the same\n",
    "T=293.15\n",
    "x=np.array([.2,.3,.5]) #normalized\n",
    "x_as_column = np.array([x]).T\n",
    "print(Gamma(T,x_as_column,alpha,A)) #test using those trial input"
   ]
  },
  {
   "cell_type": "markdown",
   "metadata": {
    "collapsed": true
   },
   "source": [
    "# Liq-Liq Equilibria Flash\n",
    "The next step will be using the model in a phase equilibria algorithm, a Liq-Liq equilibria flash calculation\n",
    "\n",
    "it works as follows:\n",
    "\n",
    "The degrees of Freedom for a flash calculation are temperature - T, pressure - P and global composition - z\n",
    "\n",
    "\n",
    "XXX img src from thesis XXX\n",
    "* ...............  =>guess, xL1 xL2, then calls model(T,P,x)\n",
    "* ...............//\n",
    "* .............<=\n",
    "* T,P,z => algorithm => finds equilibrium xL1 xL2 and BETA\n",
    "\n",
    "**Equilibriuma criteria**\n",
    "\n",
    "$$\\mu_{i}^{\\rm {L1}}=\\mu_{i}^{\\rm {L2}}, \\forall i$$\n",
    "\n",
    "**Devised algorithm after analytical simplification of repeated contributions:**\n",
    "\n",
    "$$x_{i}^{\\rm {L1}} \\gamma_{i}^{\\rm {L1}}= x_{i}^{\\rm {L2}} \\gamma_{i}^{\\rm {L2}}, \\forall i$$"
   ]
  },
  {
   "cell_type": "markdown",
   "metadata": {
    "collapsed": true
   },
   "source": [
    "# algorithm\n"
   ]
  },
  {
   "cell_type": "code",
   "execution_count": 6,
   "metadata": {
    "collapsed": false
   },
   "outputs": [
    {
     "name": "stdout",
     "output_type": "stream",
     "text": [
      "293.15\n",
      "[[ 0.9168827 ]\n",
      " [ 0.3519015 ]\n",
      " [ 0.17377495]]\n",
      "[[ 0.91689205]\n",
      " [ 0.35194092]\n",
      " [ 0.17381633]]\n",
      "hue\n",
      "[ 0.05349958  0.52504064  0.42145977]\n",
      "[ 0.88449314  0.10350801  0.01199885]\n",
      "[ 0.29663337]\n",
      "1\n"
     ]
    }
   ],
   "source": [
    "def ELLflash_explicit(Z,beta0,K0,MODEL):\n",
    "    beta=prevbeta=beta0\n",
    "    K=prevK=K0\n",
    "    \n",
    "    a = np.zeros(3)\n",
    "    XI = np.zeros(3)\n",
    "    XII = np.zeros(3)\n",
    "    \n",
    "    looping2 = 0\n",
    "    while ( (looping2 == 0) # means do at least once\n",
    "           or (max(abs(K-prevK))>0.0001 # convergence criteria\n",
    "               and looping2 < 100) ): # max number of iterations\n",
    "        \n",
    "        #Solve RachfordRice equation with a newton raphson loop\n",
    "        looping3 = 0\n",
    "        while ( (looping3 == 0) # means do at least once\n",
    "               or (abs(beta-prevbeta)>0.0001 # convergence criteria\n",
    "                   and looping3 < 100) ): #max number of iterations\n",
    "            prevbeta = beta\n",
    "\n",
    "            for i in range(3):\n",
    "                a[i] = ( (K[i]-1) / (1+beta*(K[i]-1)) )            \n",
    "                \n",
    "            F=0\n",
    "            for j in range(3):\n",
    "                F+=Z[j]*a[j]\n",
    "\n",
    "            J=0\n",
    "            for j in range(3):\n",
    "                J-=Z[j]*a[j]*a[j]\n",
    "                            \n",
    "            beta -= F/J\n",
    "\n",
    "            looping3 = looping3 + 1        \n",
    "\n",
    "        prevK = K\n",
    "        \n",
    "        for i in range(3):\n",
    "            XI[i] = Z[i] * (1./(1+beta * (K[i]-1))) #Rachford-Rice composition updating scheme\n",
    "                \n",
    "        gamaI = MODEL(XI)\n",
    "        \n",
    "        for i in range(3):\n",
    "            XII[i] = K[i]*XI[i]\n",
    "\n",
    "        gamaII = MODEL(XII)\n",
    "        \n",
    "        for i in range(3):\n",
    "            K[i] = (gamaI[i])/(gamaII[i])\n",
    "                       \n",
    "        looping2 = looping2 + 1    \n",
    "\n",
    "    #print('Calculation has ended')\n",
    "    if (looping2 < 100 and looping3 < 100):\n",
    "        converged = 1\n",
    "#        print('xi',XI)\n",
    "#        print('xii',XII)\n",
    "#        print('beta',beta)\n",
    "    else:\n",
    "        converged = 0\n",
    "#        print('unconverged')\n",
    "    \n",
    "    return XI, XII, beta, converged\n",
    "\n",
    "ztest=np.array([[0.3000,\n",
    "0.4000,\n",
    "0.3000]]).T\n",
    "\n",
    "betatest=0.2966\n",
    "\n",
    "xitest=np.array([[0.0535,\n",
    "0.5250,\n",
    "0.4215]]).T\n",
    "\n",
    "\n",
    "xiitest=np.array([[0.8845,\n",
    "0.1035,\n",
    "0.0120]]).T\n",
    "\n",
    "ktest=1/(xitest/xiitest)\n",
    "\n",
    "beta0=betatest*1\n",
    "k0=ktest*1\n",
    "Z=ztest\n",
    "\n",
    "print(T)\n",
    "print(xitest*Gamma(T,xitest,alpha,A))\n",
    "print(xiitest*Gamma(T,xiitest,alpha,A))\n",
    "\n",
    "print('hue')\n",
    "MODEL = lambda x: Gamma(T,x,alpha,A)\n",
    "ans=ELLflash_explicit(Z,beta0,k0,MODEL)\n",
    "print(ans[0])\n",
    "print(ans[1])\n",
    "print(ans[2])\n",
    "print(ans[3])"
   ]
  },
  {
   "cell_type": "code",
   "execution_count": 7,
   "metadata": {
    "collapsed": false
   },
   "outputs": [
    {
     "name": "stdout",
     "output_type": "stream",
     "text": [
      "The slowest run took 8.65 times longer than the fastest. This could mean that an intermediate result is being cached.\n",
      "10000 loops, best of 3: 171 µs per loop\n"
     ]
    }
   ],
   "source": [
    "%timeit ans=ELLflash_explicit(Z,beta0,k0,MODEL)"
   ]
  },
  {
   "cell_type": "code",
   "execution_count": 70,
   "metadata": {
    "collapsed": false
   },
   "outputs": [],
   "source": [
    "def ELLflash(Z,beta0,K0,MODEL):\n",
    "    beta=prevbeta=beta0\n",
    "    K=prevK=K0\n",
    "    \n",
    "    looping2 = 0\n",
    "    while ( (looping2 == 0) # means do at least once\n",
    "           or (max(abs(K-prevK))>0.0001 # convergence criteria\n",
    "               and looping2 < 1000) ): # max number of iterations\n",
    "        looping3 = 0\n",
    "        while ( (looping3 == 0)\n",
    "               or (abs(beta-prevbeta)>0.0001 # convergence criteria\n",
    "                   and looping3 < 100) ): #max number of iterations\n",
    "            prevbeta = beta\n",
    "            \n",
    "            a = (1/(1+beta*(K-1))) * (K-1)\n",
    "            beta = beta+(1/((Z.T*a.T) @ a)) @ (Z.T @ a)\n",
    "            \n",
    "            looping3 += 1        \n",
    "\n",
    "        prevK = K\n",
    "        XI = (1./(1+beta * (K-1))) * Z\n",
    "\n",
    "        gamaI = MODEL(XI)\n",
    "        \n",
    "        XII = K*XI\n",
    "\n",
    "        gamaII = MODEL(XII)\n",
    "        \n",
    "        K = (gamaI)/(gamaII)\n",
    "                       \n",
    "        looping2 += 1    \n",
    "\n",
    "    #print('Calculation has ended')\n",
    "    if (looping2 < 100 and looping3 < 100):\n",
    "        converged = 1\n",
    "#        print('xi',XI)\n",
    "#        print('xii',XII)\n",
    "#        print('beta',beta)\n",
    "    else:\n",
    "        converged = 0\n",
    "#        print('unconverged')\n",
    "    \n",
    "    return XI, XII, beta, converged"
   ]
  },
  {
   "cell_type": "code",
   "execution_count": 95,
   "metadata": {
    "collapsed": false
   },
   "outputs": [
    {
     "name": "stdout",
     "output_type": "stream",
     "text": [
      "The slowest run took 17.87 times longer than the fastest. This could mean that an intermediate result is being cached.\n",
      "1000 loops, best of 3: 94.6 µs per loop\n",
      "(array([[ 0.05351685],\n",
      "       [ 0.52503396],\n",
      "       [ 0.42144919]]), array([[ 0.88451549],\n",
      "       [ 0.10349176],\n",
      "       [ 0.01199276]]), array([[ 0.29661078]]), 1)\n"
     ]
    }
   ],
   "source": [
    "%timeit ans=ELLflash(Z,beta0,k0,MODEL)\n",
    "ans=ELLflash(Z,beta0,k0,MODEL)\n",
    "print(ans)"
   ]
  },
  {
   "cell_type": "code",
   "execution_count": 91,
   "metadata": {
    "collapsed": false
   },
   "outputs": [],
   "source": [
    "@jit(nopython=True)\n",
    "def ELLflash_fast(Z,beta0,K0,alpha,A):\n",
    "    beta=beta0.copy()\n",
    "    prevbeta=beta.copy()\n",
    "    K=K0.copy()\n",
    "    prevK=K.copy()\n",
    "    XI=Z.copy()\n",
    "    XII=Z.copy()\n",
    "    looping2=0\n",
    "    looping3=0\n",
    "    \n",
    "    looping2 = 0\n",
    "    while ( (looping2 == 0) # means do at least once\n",
    "           or ((np.linalg.norm(K-prevK))>0.0001 # convergence criteria\n",
    "               and looping2 < 1000) ): # max number of iterations\n",
    "        looping3 = 0\n",
    "        while ( (looping3 == 0)\n",
    "               or (np.linalg.norm(beta-prevbeta)>0.0001 # convergence criteria\n",
    "                   and looping3 < 100) ): #max number of iterations\n",
    "            prevbeta = beta\n",
    "            \n",
    "            a = (1/(1+beta*(K-1))) * (K-1)\n",
    "            beta = beta+(1/((Z.T*a.T) @ a)) @ (Z.T @ a)\n",
    "            \n",
    "            looping3 += 1        \n",
    "\n",
    "        prevK = K\n",
    "        XI = (1./(1+beta * (K-1))) * Z\n",
    "\n",
    "        gamaI = Gamma(T,XI,alpha,A)\n",
    "        \n",
    "        XII = K*XI\n",
    "\n",
    "        gamaII = Gamma(T,XII,alpha,A)\n",
    "        \n",
    "        K = (gamaI)/(gamaII)\n",
    "                       \n",
    "        looping2 += 1    \n",
    "\n",
    "    #print('Calculation has ended')\n",
    "    if (looping2 < 100 and looping3 < 100):\n",
    "        converged = 1\n",
    "#        print('xi',XI)\n",
    "#        print('xii',XII)\n",
    "#        print('beta',beta)\n",
    "    else:\n",
    "        converged = 0\n",
    "#        print('unconverged')\n",
    "    \n",
    "    return XI, XII, beta, converged"
   ]
  },
  {
   "cell_type": "code",
   "execution_count": 96,
   "metadata": {
    "collapsed": false
   },
   "outputs": [
    {
     "name": "stdout",
     "output_type": "stream",
     "text": [
      "The slowest run took 520.70 times longer than the fastest. This could mean that an intermediate result is being cached.\n",
      "10000 loops, best of 3: 25.8 µs per loop\n",
      "(array([[ 0.05351685],\n",
      "       [ 0.52503396],\n",
      "       [ 0.42144919]]), array([[ 0.88451549],\n",
      "       [ 0.10349176],\n",
      "       [ 0.01199276]]), array([[ 0.29661078]]), 1)\n"
     ]
    }
   ],
   "source": [
    "BETA0=np.array([[beta0]])\n",
    "%timeit ans=ELLflash_fast(Z,BETA0*1.5,k0,alpha,A)\n",
    "#ans=ELLflash_fast(Z,BETA0*1.5,k0,alpha,A)\n",
    "#print(Z,BETA0,k0,alpha,A)\n",
    "print(ans)\n",
    "#print(ans[0])"
   ]
  },
  {
   "cell_type": "code",
   "execution_count": 12,
   "metadata": {
    "collapsed": false
   },
   "outputs": [],
   "source": [
    "from scipy import optimize as opt\n",
    "\n",
    "def ELLflash_sci(Z,beta0,K0,MODEL):\n",
    "    beta=beta0\n",
    "    prevbeta=beta0\n",
    "    K=K0\n",
    "    prevK=K0\n",
    "    looping2=0\n",
    "    looping3=0\n",
    "\n",
    "    XI=np.zeros([3,1])\n",
    "    XII=np.zeros([3,1])\n",
    "    converged=0\n",
    "    \n",
    "    def fixK(kxixii):\n",
    "        \n",
    "        beta0 = kxixii[9]\n",
    "        \n",
    "        K=np.zeros([3,1])\n",
    "        \n",
    "        K[0:3,0]=kxixii[0:3]\n",
    "        \n",
    "\n",
    "        F = lambda beta: (Z.T @ ((1/(1+beta*(K-1))) * (K-1)))\n",
    "        J = lambda beta: -(((Z.T*((1/(1+beta*(K-1))) * (K-1)).T) @ ((1/(1+beta*(K-1))) * (K-1))))\n",
    "        beta = opt.newton(F,beta0,J,tol=1e-5, maxiter=50)\n",
    "\n",
    "        \n",
    "        XI = (1./(1+beta * (K-1))) * Z\n",
    "\n",
    "        #gamaI = MODEL(XI)\n",
    "        gamaI=Gamma(T,XI,alpha,A)\n",
    "        \n",
    "        XII = K*XI\n",
    "        #gamaII = MODEL(XII)\n",
    "        gamaII=Gamma(T,XII,alpha,A)\n",
    "        #print(K)\n",
    "        \n",
    "        ans = np.zeros([10])\n",
    "        for i in range(3):\n",
    "            ans[i] = ((gamaI)/(gamaII))[i,0]\n",
    "            \n",
    "        for i in range(3):\n",
    "            ans[3+i] = XI[i]\n",
    "            \n",
    "        for i in range(3):\n",
    "            ans[6+i] = XII[i]\n",
    "            \n",
    "        ans[9] = beta\n",
    "        \n",
    "        return ans\n",
    "    \n",
    "    ans = np.zeros(10)\n",
    "    \n",
    "    for i in range(3):\n",
    "        ans[i] = K[i,0]\n",
    "        \n",
    "    ans[9]=beta0\n",
    "            \n",
    "    kxixii = opt.fixed_point(lambda kxixii: fixK(kxixii), ans, xtol=1e-08, maxiter=500)\n",
    "    \n",
    "    XI = np.zeros([3,1])\n",
    "    XII = np.zeros([3,1])\n",
    "    \n",
    "    for i in range(3):\n",
    "        XI[i,0] = kxixii[3+i]\n",
    "        XII[i,0] = kxixii[6+i]\n",
    "        beta = kxixii[9]\n",
    "    converged=1\n",
    "    \n",
    "    return XI, XII, beta, converged"
   ]
  },
  {
   "cell_type": "code",
   "execution_count": 13,
   "metadata": {
    "collapsed": false
   },
   "outputs": [
    {
     "name": "stdout",
     "output_type": "stream",
     "text": [
      "[[ 0.05351685]\n",
      " [ 0.52503396]\n",
      " [ 0.42144919]]\n",
      "[[ 0.88451549]\n",
      " [ 0.10349176]\n",
      " [ 0.01199276]]\n",
      "0.296610778651\n",
      "1\n"
     ]
    }
   ],
   "source": [
    "ans=ELLflash_sci(Z,BETA0*1.5,k0*1.1,MODEL)\n",
    "print(ans[0])\n",
    "print(ans[1])\n",
    "print(ans[2])\n",
    "print(ans[3])"
   ]
  },
  {
   "cell_type": "code",
   "execution_count": 15,
   "metadata": {
    "collapsed": false,
    "scrolled": true
   },
   "outputs": [
    {
     "name": "stdout",
     "output_type": "stream",
     "text": [
      "The slowest run took 8.48 times longer than the fastest. This could mean that an intermediate result is being cached.\n",
      "1000 loops, best of 3: 1.2 ms per loop\n",
      "[[ 0.3]\n",
      " [ 0.4]\n",
      " [ 0.3]] [[ 0.2966]] [[ 16.52779552]\n",
      " [  0.1971144 ]\n",
      " [  0.02845599]] [[ 0.   0.2  0.2]\n",
      " [ 0.2  0.   0.2]\n",
      " [ 0.2  0.2  0. ]] [[    0.     107.99  1011.98]\n",
      " [  555.81     0.   -1113.1 ]\n",
      " [ 2277.37  1217.37     0.  ]]\n",
      "(array([[ 0.05351685],\n",
      "       [ 0.52503396],\n",
      "       [ 0.42144919]]), array([[ 0.88451549],\n",
      "       [ 0.10349176],\n",
      "       [ 0.01199276]]), 0.29661077865072083, 1)\n",
      "[[ 0.05351685]\n",
      " [ 0.52503396]\n",
      " [ 0.42144919]]\n"
     ]
    }
   ],
   "source": [
    "BETA0=np.array([[beta0]])\n",
    "%timeit ans=ELLflash_sci(Z,BETA0,k0,MODEL)\n",
    "print(Z,BETA0,k0,alpha,A)\n",
    "print(ans)\n",
    "print(ans[0])"
   ]
  },
  {
   "cell_type": "code",
   "execution_count": 22,
   "metadata": {
    "collapsed": false
   },
   "outputs": [
    {
     "name": "stdout",
     "output_type": "stream",
     "text": [
      "293.15\n",
      "[[ 0.9168827 ]\n",
      " [ 0.3519015 ]\n",
      " [ 0.17377495]]\n",
      "[[ 0.91689205]\n",
      " [ 0.35194092]\n",
      " [ 0.17381633]]\n",
      "hue\n",
      "[[ 0.05351624]\n",
      " [ 0.52503406]\n",
      " [ 0.4214497 ]]\n",
      "[[ 0.88451339]\n",
      " [ 0.10349332]\n",
      " [ 0.01199329]]\n",
      "[[ 0.29661204]]\n",
      "1\n"
     ]
    }
   ],
   "source": [
    "ztest=np.array([[0.3000,\n",
    "0.4000,\n",
    "0.3000]]).T\n",
    "\n",
    "betatest=0.2966\n",
    "\n",
    "xitest=np.array([[0.0535,\n",
    "0.5250,\n",
    "0.4215]]).T\n",
    "\n",
    "\n",
    "xiitest=np.array([[0.8845,\n",
    "0.1035,\n",
    "0.0120]]).T\n",
    "\n",
    "ktest=1/(xitest/xiitest)\n",
    "\n",
    "beta0=betatest*1\n",
    "k0=ktest*1\n",
    "Z=ztest\n",
    "\n",
    "print(T)\n",
    "print(xitest*Gamma(T,xitest,alpha,A))\n",
    "print(xiitest*Gamma(T,xiitest,alpha,A))\n",
    "\n",
    "print('hue')\n",
    "MODEL = lambda x: Gamma(T,x,alpha,A)\n",
    "ans=ELLflash(Z,beta0,k0,MODEL)\n",
    "print(ans[0])\n",
    "print(ans[1])\n",
    "print(ans[2])\n",
    "print(ans[3])"
   ]
  },
  {
   "cell_type": "code",
   "execution_count": 24,
   "metadata": {
    "collapsed": false
   },
   "outputs": [
    {
     "name": "stdout",
     "output_type": "stream",
     "text": [
      "The slowest run took 25.21 times longer than the fastest. This could mean that an intermediate result is being cached.\n",
      "1000 loops, best of 3: 609 µs per loop\n"
     ]
    }
   ],
   "source": [
    "%timeit ans=ELLflash(Z,beta0,k0,MODEL)"
   ]
  },
  {
   "cell_type": "markdown",
   "metadata": {
    "collapsed": true
   },
   "source": [
    "# initial guess\n"
   ]
  },
  {
   "cell_type": "code",
   "execution_count": null,
   "metadata": {
    "collapsed": false
   },
   "outputs": [],
   "source": [
    "#Estimativas Iniciais\n",
    "\n",
    "def iguess(Z,MODEL):\n",
    "    X0 = Z\n",
    "    gama0 = MODEL(X0)\n",
    "    \n",
    "    Xlin = 1/(gama0.T @ Z) * (gama0*Z)\n",
    "\n",
    "    gamalin = MODEL(Xlin)\n",
    "\n",
    "    Klin = (1./gamalin) * gama0\n",
    "\n",
    "    KlinMin = np.min(Klin)\n",
    "    KlinMax = np.max(Klin)\n",
    "\n",
    "    nI0 = (KlinMax - Klin) * Z\n",
    "\n",
    "    XI0 = 1/(np.sum(nI0)) * nI0\n",
    "\n",
    "    gamaI0=MODEL(XI0)\n",
    "\n",
    "    nII0=(Klin-KlinMin) * Z\n",
    "\n",
    "    XII0=1/(np.sum(nII0)) * nII0;\n",
    "\n",
    "    gamaII0=MODEL(XII0)\n",
    "\n",
    "    beta0 = 1/(KlinMax-KlinMin) * np.sum(nII0)\n",
    "    \n",
    "    K0 = np.exp(np.log(gamaI0)-np.log(gamaII0))\n",
    "\n",
    "    return beta0, K0"
   ]
  },
  {
   "cell_type": "code",
   "execution_count": null,
   "metadata": {
    "collapsed": false
   },
   "outputs": [],
   "source": [
    "ztest=np.array([[0.3000,\n",
    "0.4000,\n",
    "0.3000]]).T\n",
    "betatest=0.2966\n",
    "xitest=np.array([[0.0535,\n",
    "0.5250,\n",
    "0.4215]]).T\n",
    "xiitest=np.array([[0.8845,\n",
    "0.1035,\n",
    "0.0120]]).T\n",
    "ktest=1/(xitest/xiitest)\n",
    "\n",
    "###\n",
    "\n",
    "Z=ztest\n",
    "\n",
    "print(T)\n",
    "print(xitest*Gamma(T,xitest,alpha,A))\n",
    "print(xiitest*Gamma(T,xiitest,alpha,A))\n",
    "\n",
    "print('hue')\n",
    "MODEL = lambda x: Gamma(T,x,alpha,A)\n",
    "\n",
    "iguesses = iguess(Z,MODEL)\n",
    "\n",
    "beta0 = iguesses[0]\n",
    "K0 = iguesses[1]\n",
    "\n",
    "print(beta0)\n",
    "print(K0)\n",
    "\n",
    "ans=ELLflash(Z,beta0,K0,MODEL)\n",
    "print(ans[0])\n",
    "print(ans[1])\n",
    "print(ans[2])\n",
    "print(ans[3])"
   ]
  },
  {
   "cell_type": "markdown",
   "metadata": {},
   "source": [
    "# grid calc plot"
   ]
  },
  {
   "cell_type": "code",
   "execution_count": null,
   "metadata": {
    "collapsed": false
   },
   "outputs": [],
   "source": [
    "Z1 = np.linspace(0,1,10)\n",
    "Z2 = np.linspace(0,1,10)\n",
    "Z3 = np.linspace(0,1,10)\n",
    "\n",
    "Z1[-1]=1-1e-9\n",
    "Z2[-1]=1-1e-9\n",
    "Z3[-1]=1-1e-9\n",
    "Z1[-1]=1-1e-9\n",
    "Z2[-1]=1-1e-9\n",
    "Z3[-1]=1-1e-9\n",
    "\n",
    "rawZs = np.ndarray((10,10), dtype=object)\n",
    "\n",
    "flags = np.zeros((10,10))\n",
    "\n",
    "for i in range(10):\n",
    "    for j in range(10):\n",
    "        rawZs[i,j]=np.array([Z1[i],Z2[j],1-Z1[i]-Z2[j]])\n",
    "        if ( rawZs[i,j][0] + rawZs[i,j][1] +  rawZs[i,j][2] == 1 ):\n",
    "            flags[i,j] = 1\n",
    "            \n",
    "Zs = rawZs[np.where(flags==1)]\n",
    "\n",
    "npts = Zs.shape[0]\n",
    "print(npts)\n",
    "\n",
    "Resultados_beta = np.zeros([npts])\n",
    "Resultados_conv = np.zeros([npts])\n",
    "Resultados_Z = np.zeros([3,npts])\n",
    "Resultados_XI = np.zeros([3,npts])\n",
    "Resultados_XII = np.zeros([3,npts])\n",
    "\n",
    "l=0\n",
    "for k in range(npts):\n",
    "    MODEL = lambda x: Gamma(T,x,alpha,A)\n",
    "    beta0, K0 = iguess(np.array([Zs[k]]).T,MODEL)\n",
    "    #print(beta0,K0)\n",
    "    #print(Zs[k],beta0,K0)\n",
    "    ans = ELLflash(np.array([Zs[k]]).T,beta0,K0,MODEL)\n",
    "    if (0<ans[2] and 1>ans[2] and ans[3]==1):\n",
    "        print(ans[0][0][0],ans[0][1][0],ans[0][2][0])\n",
    "        Resultados_XI[:,l] = np.array([ans[0][0][0],ans[0][1][0],ans[0][2][0]])\n",
    "        Resultados_XII[:,l] = np.array([ans[1][0][0],ans[1][1][0],ans[1][2][0]])\n",
    "        Resultados_beta[l] = ans[2]\n",
    "        Resultados_conv[l] = ans[3]\n",
    "        print(ans[3])\n",
    "        l+=1\n",
    "        \n",
    "print('done',l)\n",
    "    \n",
    "ndone=l-1"
   ]
  },
  {
   "cell_type": "code",
   "execution_count": null,
   "metadata": {
    "collapsed": false
   },
   "outputs": [],
   "source": [
    "fResultados_XI = Resultados_XI[:,np.where(Resultados_conv==1)]\n",
    "fResultados_XII = Resultados_XII[:,np.where(Resultados_conv==1)]\n",
    "fResultados_beta = Resultados_beta[np.where(Resultados_conv==1)]"
   ]
  },
  {
   "cell_type": "code",
   "execution_count": null,
   "metadata": {
    "collapsed": false
   },
   "outputs": [],
   "source": [
    "print(Resultados_XI[:,3]) #ERRADO AQUI"
   ]
  },
  {
   "cell_type": "code",
   "execution_count": null,
   "metadata": {
    "collapsed": false,
    "scrolled": false
   },
   "outputs": [],
   "source": [
    "print(fResultados_XI[:,0,3]) #ERRADO AQUI"
   ]
  },
  {
   "cell_type": "code",
   "execution_count": null,
   "metadata": {
    "collapsed": false
   },
   "outputs": [],
   "source": [
    "test_data1 = np.zeros([ndone,3])\n",
    "test_data2 = np.zeros([ndone,3])\n",
    "\n",
    "from matplotlib import pyplot as plt\n",
    "\n",
    "for k in range(24):\n",
    "    #print(Resultados_XI[:,0])\n",
    "    test_data1[k,0:3] = fResultados_XI[:,0,k]\n",
    "    test_data2[k,0:3] = fResultados_XII[:,0,k]\n",
    "    #test_data[l,3] = GM[l]\n",
    "\n",
    "print(test_data1[:,:])\n",
    "    \n",
    "a=test_data1[:,0]\n",
    "b=test_data1[:,1]\n",
    "\n"
   ]
  },
  {
   "cell_type": "code",
   "execution_count": null,
   "metadata": {
    "collapsed": false
   },
   "outputs": [],
   "source": [
    "\n",
    "# barycentric coords: (a,b,c)\n",
    "a=test_data1[:,0]\n",
    "b=test_data1[:,1]\n",
    "c=test_data1[:,2]\n",
    "\n",
    "d=test_data2[:,0]\n",
    "e=test_data2[:,1]\n",
    "f=test_data2[:,2]\n",
    "\n",
    "# create a triangulation out of these points\n",
    "#Tri = tri.Triangulation(cartx,carty)\n",
    "#Tri = tri.Triangulation(a,b)\n",
    "\n",
    "# plot the contour\n",
    "#plt.tricontourf(cartx,carty,Tri.triangles,v)\n",
    "#plt.tricontourf(a,b,Tri.triangles,v)\n",
    "\n",
    "\n",
    "# create the grid\n",
    "#corners = np.array([[0, 0], [1, 0], [0.5,  np.sqrt(3)*0.5]])\n",
    "#corners = np.array([[0, 0], [1, 0], [0,1]])\n",
    "#triangle = tri.Triangulation(corners[:, 0], corners[:, 1])\n",
    "\n",
    "# creating the grid\n",
    "#refiner = tri.UniformTriRefiner(triangle)\n",
    "#trimesh = refiner.refine_triangulation(subdiv=4)\n",
    "\n",
    "#plotting the mesh\n",
    "#plt.triplot(trimesh,'k--')\n",
    "\n",
    "plt.scatter(a,b)\n",
    "plt.scatter(d,e)\n",
    "plt.title('phase diagram')\n",
    "#plt.axis('off')\n",
    "plt.show()"
   ]
  },
  {
   "cell_type": "code",
   "execution_count": null,
   "metadata": {
    "collapsed": false
   },
   "outputs": [],
   "source": [
    "#determinar pto crítico\n",
    "xcrit=0.4 #aprox.\n",
    "\n",
    "\n",
    "#refiltrar a e b\n",
    "\n",
    "al=a[np.where(a<=0.4)]\n",
    "ar=a[np.where(a>0.4)]\n",
    "dl=d[np.where(d<=0.4)]\n",
    "dr=d[np.where(d>0.4)]\n",
    "\n",
    "bl=b[np.where(a<=0.4)]\n",
    "br=b[np.where(a>0.4)]\n",
    "el=e[np.where(d<=0.4)]\n",
    "er=e[np.where(d>0.4)]"
   ]
  },
  {
   "cell_type": "code",
   "execution_count": null,
   "metadata": {
    "collapsed": false,
    "scrolled": true
   },
   "outputs": [],
   "source": [
    "Ly = np.concatenate((al,dl),axis=0)\n",
    "Lx = np.concatenate((bl,el),axis=0)\n",
    "\n",
    "Ry = np.concatenate((ar,dr),axis=0)\n",
    "Rx = np.concatenate((br,er),axis=0)\n",
    "\n",
    "sLy=np.sort(Ly)\n",
    "sLx=np.sort(Lx)\n",
    "sRy=np.sort(Ry)\n",
    "sRx=-np.sort(-Rx)\n",
    "\n",
    "plt.plot(sLy,sLx)\n",
    "plt.plot(sRy,sRx)\n",
    "\n",
    "plt.show()\n",
    "\n",
    "print(Ly)\n",
    "\n",
    "#now the tielines\n",
    "\n"
   ]
  },
  {
   "cell_type": "code",
   "execution_count": null,
   "metadata": {
    "collapsed": false
   },
   "outputs": [],
   "source": [
    "print(a.shape,b.shape,d.shape,e.shape)\n",
    "print(al.shape,bl.shape,dl.shape,el.shape)\n",
    "print(ar.shape,br.shape,dr.shape,er.shape)\n",
    "\n",
    "plt.axis([0,1,0,1])\n",
    "#plt.scatter(d,e)\n",
    "#plt.scatter(a,b)\n",
    "#plt.scatter(a[np.where(a>.4)],b[np.where(a>.4)])\n",
    "#plt.scatter(a[np.where(a<.4)],b[np.where(a<.4)])\n",
    "#plt.scatter(d[np.where(d>.4)],e[np.where(d>.4)])\n",
    "#plt.scatter(d[np.where(d<.4)],e[np.where(d<.4)])\n",
    "for i in range(ndone):\n",
    "    plt.plot([a[i],d[i]],[b[i],e[i]])\n",
    "    \n",
    "plt.scatter(Ly,Lx)    \n",
    "plt.scatter(Ry,Rx)    \n",
    "\n",
    "plt.show()\n",
    "print(a[np.where(a>.4)].shape)\n",
    "print(d[np.where(d<.4)].shape)\n",
    "\n",
    "for i in range(ndone):\n",
    "    print(a[i],b[i],c[i],d[i])"
   ]
  },
  {
   "cell_type": "code",
   "execution_count": null,
   "metadata": {
    "collapsed": true
   },
   "outputs": [],
   "source": []
  },
  {
   "cell_type": "code",
   "execution_count": null,
   "metadata": {
    "collapsed": true
   },
   "outputs": [],
   "source": []
  },
  {
   "cell_type": "code",
   "execution_count": null,
   "metadata": {
    "collapsed": true
   },
   "outputs": [],
   "source": []
  }
 ],
 "metadata": {
  "anaconda-cloud": {},
  "kernelspec": {
   "display_name": "Python [conda root]",
   "language": "python",
   "name": "conda-root-py"
  },
  "language_info": {
   "codemirror_mode": {
    "name": "ipython",
    "version": 3
   },
   "file_extension": ".py",
   "mimetype": "text/x-python",
   "name": "python",
   "nbconvert_exporter": "python",
   "pygments_lexer": "ipython3",
   "version": "3.5.2"
  }
 },
 "nbformat": 4,
 "nbformat_minor": 1
}
