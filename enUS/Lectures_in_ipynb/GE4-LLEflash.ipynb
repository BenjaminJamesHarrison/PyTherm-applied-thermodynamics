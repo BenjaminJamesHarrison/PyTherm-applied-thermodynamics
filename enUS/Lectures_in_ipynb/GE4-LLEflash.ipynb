{
 "cells": [
  {
   "cell_type": "markdown",
   "metadata": {
    "collapsed": false
   },
   "source": [
    "# The Non Random Two Liquids (NRTL) model for *excess Gibbs energy* ($g^E$) and a case study of Liquid-Liquid equilibria of water+ethanol+ethyl acetate"
   ]
  },
  {
   "cell_type": "markdown",
   "metadata": {},
   "source": [
    "## Fitted parameters\n",
    "Renon et al. (1969) fitted 1 $\\alpha$ valid for all 3 binary interactions $\\{(1,2),(1,3),(2,3)\\}$ parameter and 6 $A_{i,j}$ parameters, two for each binary interaction filling a non symmetric $A$ matrix."
   ]
  },
  {
   "cell_type": "code",
   "execution_count": 1,
   "metadata": {
    "collapsed": true
   },
   "outputs": [],
   "source": [
    "#unit system constant\n",
    "R=8.314\n",
    "\n",
    "# Ethyl acetate (1) + water (2) + ethanol (3)\n",
    "\n",
    "alpha12 = 0.4\n",
    "\n",
    "alpha23 = 0.3\n",
    "\n",
    "alpha13 = 0.3\n",
    "\n",
    "# 6 binary Aij parameters\n",
    "Dg12 = 1335 #K\n",
    "Dg21 = 2510 #K\n",
    "\n",
    "Dg23 = 976 #K\n",
    "Dg32 = 88 #K\n",
    "\n",
    "Dg13 = 301 #K\n",
    "Dg31 = 322 #K\n"
   ]
  },
  {
   "cell_type": "markdown",
   "metadata": {
    "collapsed": true
   },
   "source": [
    "## Feeding the fitted parameters to the model in matrix structure:\n",
    "we will assemble the parameters in a matrix structure so that we can access each parameter by its index, as in\n",
    "`A[0,0]` and `A[0,1]`rather than as `A11` and `A12`, so we can loop trough all of them using an iterator, see below:"
   ]
  },
  {
   "cell_type": "code",
   "execution_count": 2,
   "metadata": {
    "collapsed": true
   },
   "outputs": [],
   "source": [
    "import numpy as np\n",
    "from scipy.constants import R"
   ]
  },
  {
   "cell_type": "code",
   "execution_count": 3,
   "metadata": {
    "collapsed": false
   },
   "outputs": [],
   "source": [
    "#assemble matrix with regressed parameters Dg_i,j, according to the model all diagonal terms are zero\n",
    "Dg = np.array([[0, Dg12, Dg13],\n",
    "             [Dg21, 0, Dg23],\n",
    "             [Dg31, Dg32, 0]])\n",
    "\n",
    "\n",
    "#assemble symmetric matrix alpha\n",
    "alpha = np.array([[0, alpha12, alpha13],\n",
    "                [alpha12, 0, alpha23],\n",
    "                [alpha13, alpha23, 0]])\n",
    "\n",
    "#finally\n",
    "A = Dg/R\n"
   ]
  },
  {
   "cell_type": "code",
   "execution_count": 4,
   "metadata": {
    "collapsed": false
   },
   "outputs": [],
   "source": [
    "# chafer's\n",
    "\n",
    "alpha12=alpha13=alpha23=alpha21=alpha31=alpha23=0.2;\n",
    "\n",
    "\n",
    "A12=107.99\n",
    "A21=555.81\n",
    "A13=1011.98\n",
    "A31=2277.37\n",
    "A23=-1113.1\n",
    "A32=1217.37\n",
    "\n",
    "alpha = np.array([[0, alpha12, alpha13],\n",
    "                [alpha12, 0, alpha23],\n",
    "                [alpha13, alpha23, 0]])\n",
    "\n",
    "A = np.array([[0, A12, A13],\n",
    "             [A21, 0, A23],\n",
    "             [A31, A32, 0]])"
   ]
  },
  {
   "cell_type": "code",
   "execution_count": 5,
   "metadata": {
    "collapsed": false
   },
   "outputs": [],
   "source": [
    "from numba import jit\n",
    "@jit\n",
    "def Gamma(T,c_x,q_alpha, q_A):\n",
    "    #note that we used many lines for didatics\n",
    "    #we can do it in few lines:\n",
    "    #note that some expression occur more than once below\n",
    "    #so it may be useful define it as a intermediary recurrent term here\n",
    "    #and calculate it once to use it then several times\n",
    "    q_tau     = q_A/T\n",
    "    q_G       = np.exp(-(q_alpha*q_tau))\n",
    "    l_D       = ((1/((q_G.T) @ c_x)).T)\n",
    "    q_E       = (q_tau*q_G) * l_D \n",
    "    gamma     = np.exp(((q_E+(q_E.T))-(((q_G * l_D) * (c_x.T)) @ (q_E.T))) @ c_x)\n",
    "    return gamma"
   ]
  },
  {
   "cell_type": "code",
   "execution_count": 6,
   "metadata": {
    "collapsed": false
   },
   "outputs": [
    {
     "name": "stdout",
     "output_type": "stream",
     "text": [
      "[[ 7.97865398]\n",
      " [ 0.31550702]\n",
      " [ 0.95773617]]\n"
     ]
    }
   ],
   "source": [
    "#test it to see that the results are the same\n",
    "T=293.15\n",
    "x=np.array([.2,.3,.5]) #normalized\n",
    "x_as_column = np.array([x]).T\n",
    "print(Gamma(T,x_as_column,alpha,A)) #test using those trial input"
   ]
  },
  {
   "cell_type": "markdown",
   "metadata": {
    "collapsed": true
   },
   "source": [
    "# Liq-Liq Equilibria Flash\n",
    "The next step will be using the model in a phase equilibria algorithm, a Liq-Liq equilibria flash calculation\n",
    "\n",
    "it works as follows:\n",
    "\n",
    "The degrees of Freedom for a flash calculation are temperature - T, pressure - P and global composition - z\n",
    "\n",
    "\n",
    "XXX img src from thesis XXX\n",
    "* ...............  =>guess, xL1 xL2, then calls model(T,P,x)\n",
    "* ...............//\n",
    "* .............<=\n",
    "* T,P,z => algorithm => finds equilibrium xL1 xL2 and BETA\n",
    "\n",
    "**Equilibriuma criteria**\n",
    "\n",
    "$$\\mu_{i}^{\\rm {L1}}=\\mu_{i}^{\\rm {L2}}, \\forall i$$\n",
    "\n",
    "**Devised algorithm after analytical simplification of repeated contributions:**\n",
    "\n",
    "$$x_{i}^{\\rm {L1}} \\gamma_{i}^{\\rm {L1}}= x_{i}^{\\rm {L2}} \\gamma_{i}^{\\rm {L2}}, \\forall i$$"
   ]
  },
  {
   "cell_type": "markdown",
   "metadata": {
    "collapsed": true
   },
   "source": [
    "# algorithm\n"
   ]
  },
  {
   "cell_type": "code",
   "execution_count": 190,
   "metadata": {
    "collapsed": false
   },
   "outputs": [
    {
     "name": "stdout",
     "output_type": "stream",
     "text": [
      "293.15\n",
      "[[ 0.9168827 ]\n",
      " [ 0.3519015 ]\n",
      " [ 0.17377495]]\n",
      "[[ 0.91689205]\n",
      " [ 0.35194092]\n",
      " [ 0.17381633]]\n",
      "hue\n",
      "[[ 0.05351624]\n",
      " [ 0.52503406]\n",
      " [ 0.4214497 ]]\n",
      "[[ 0.88451339]\n",
      " [ 0.10349332]\n",
      " [ 0.01199329]]\n",
      "[[ 0.29661204]]\n",
      "1\n"
     ]
    }
   ],
   "source": [
    "def ELLflash_explicit(Z,beta0,K0,MODEL):\n",
    "    beta=prevbeta=beta0\n",
    "    K=prevK=K0\n",
    "    \n",
    "    a = np.zeros(3)\n",
    "    XI = np.zeros(3)\n",
    "    XII = np.zeros(3)\n",
    "    \n",
    "    looping2 = 0\n",
    "    while ( (looping2 == 0) # means do at least once\n",
    "           or (max(abs(K-prevK))>0.0001 # convergence criteria\n",
    "               and looping2 < 1000) ): # max number of iterations\n",
    "        \n",
    "        #Solve RachfordRice equation with a newton raphson loop\n",
    "        looping3 = 0\n",
    "        while ( (looping3 == 0) # means do at least once\n",
    "               or (abs(beta-prevbeta)>0.0001 # convergence criteria\n",
    "                   and looping3 < 1000) ): #max number of iterations\n",
    "            prevbeta = beta\n",
    "\n",
    "            for i in range(3):\n",
    "                a[i] = ( (K[i]-1) / (1+beta*(K[i]-1)) )            \n",
    "\n",
    "            F=0\n",
    "            for j in range(3):\n",
    "                F+=z[i]*a[i]\n",
    "                sumk+=sumj*a[i]\n",
    "\n",
    "            J=0\n",
    "            for j in range(3):\n",
    "                J-=z[i]*a[i]*a[i]\n",
    "                \n",
    "            beta -= F / J\n",
    "\n",
    "            looping3 = looping3 + 1        \n",
    "\n",
    "        prevK = K\n",
    "        \n",
    "        for i in range(3):\n",
    "            XI[i] = Z[i] * (1./(1+beta * (K[i]-1))) #Rachford-Rice composition updating scheme\n",
    "        \n",
    "        gamaI = MODEL(XI)\n",
    "        \n",
    "        for i in range(3):\n",
    "            XII[i] = K[i]*XI[i]\n",
    "\n",
    "        gamaII = MODEL(XII)\n",
    "        \n",
    "        for i in range(3):\n",
    "            K[i] = (gamaI[i])/(gamaII[i])\n",
    "                       \n",
    "        looping2 = looping2 + 1    \n",
    "\n",
    "    #print('Calculation has ended')\n",
    "    if (looping2 < 100 and looping3 < 100):\n",
    "        converged = 1\n",
    "#        print('xi',XI)\n",
    "#        print('xii',XII)\n",
    "#        print('beta',beta)\n",
    "    else:\n",
    "        converged = 0\n",
    "#        print('unconverged')\n",
    "    \n",
    "    return XI, XII, beta, converged\n",
    "\n",
    "ztest=np.array([[0.3000,\n",
    "0.4000,\n",
    "0.3000]]).T\n",
    "\n",
    "betatest=0.2966\n",
    "\n",
    "xitest=np.array([[0.0535,\n",
    "0.5250,\n",
    "0.4215]]).T\n",
    "\n",
    "\n",
    "xiitest=np.array([[0.8845,\n",
    "0.1035,\n",
    "0.0120]]).T\n",
    "\n",
    "ktest=1/(xitest/xiitest)\n",
    "\n",
    "beta0=betatest*1\n",
    "k0=ktest*1\n",
    "Z=ztest\n",
    "\n",
    "print(T)\n",
    "print(xitest*Gamma(T,xitest,alpha,A))\n",
    "print(xiitest*Gamma(T,xiitest,alpha,A))\n",
    "\n",
    "print('hue')\n",
    "MODEL = lambda x: Gamma(T,x,alpha,A)\n",
    "ans=ELLflash(Z,beta0,k0,MODEL)\n",
    "print(ans[0])\n",
    "print(ans[1])\n",
    "print(ans[2])\n",
    "print(ans[3])"
   ]
  },
  {
   "cell_type": "code",
   "execution_count": 192,
   "metadata": {
    "collapsed": false
   },
   "outputs": [],
   "source": [
    "def ELLflash(Z,beta0,K0,MODEL):\n",
    "    beta=prevbeta=beta0\n",
    "    K=prevK=K0\n",
    "    \n",
    "    looping2 = 0\n",
    "    while ( (looping2 == 0) # means do at least once\n",
    "           or (max(abs(K-prevK))>0.0001 # convergence criteria\n",
    "               and looping2 < 1000) ): # max number of iterations\n",
    "        looping3 = 0\n",
    "        while ( (looping3 == 0)\n",
    "               or (abs(beta-prevbeta)>0.0001 # convergence criteria\n",
    "                   and looping3 < 1000) ): #max number of iterations\n",
    "            prevbeta = beta\n",
    "            \n",
    "            a = (1/(1+beta*(K-1))) * (K-1)\n",
    "            beta = beta+(1/((Z.T*a.T) @ a)) @ (Z.T @ a)\n",
    "            \n",
    "            looping3 = looping3 + 1        \n",
    "\n",
    "        prevK = K\n",
    "        XI = (1./(1+beta * (K-1))) * Z\n",
    "\n",
    "        gamaI = MODEL(XI)\n",
    "        \n",
    "        XII = K*XI\n",
    "\n",
    "        gamaII = MODEL(XII)\n",
    "        \n",
    "        K = (gamaI)/(gamaII)\n",
    "                       \n",
    "        looping2 = looping2 + 1    \n",
    "\n",
    "    #print('Calculation has ended')\n",
    "    if (looping2 < 100 and looping3 < 100):\n",
    "        converged = 1\n",
    "#        print('xi',XI)\n",
    "#        print('xii',XII)\n",
    "#        print('beta',beta)\n",
    "    else:\n",
    "        converged = 0\n",
    "#        print('unconverged')\n",
    "    \n",
    "    return XI, XII, beta, converged"
   ]
  },
  {
   "cell_type": "code",
   "execution_count": 193,
   "metadata": {
    "collapsed": false
   },
   "outputs": [
    {
     "name": "stdout",
     "output_type": "stream",
     "text": [
      "293.15\n",
      "[[ 0.9168827 ]\n",
      " [ 0.3519015 ]\n",
      " [ 0.17377495]]\n",
      "[[ 0.91689205]\n",
      " [ 0.35194092]\n",
      " [ 0.17381633]]\n",
      "hue\n",
      "[[ 0.05351624]\n",
      " [ 0.52503406]\n",
      " [ 0.4214497 ]]\n",
      "[[ 0.88451339]\n",
      " [ 0.10349332]\n",
      " [ 0.01199329]]\n",
      "[[ 0.29661204]]\n",
      "1\n"
     ]
    }
   ],
   "source": [
    "ztest=np.array([[0.3000,\n",
    "0.4000,\n",
    "0.3000]]).T\n",
    "\n",
    "betatest=0.2966\n",
    "\n",
    "xitest=np.array([[0.0535,\n",
    "0.5250,\n",
    "0.4215]]).T\n",
    "\n",
    "\n",
    "xiitest=np.array([[0.8845,\n",
    "0.1035,\n",
    "0.0120]]).T\n",
    "\n",
    "ktest=1/(xitest/xiitest)\n",
    "\n",
    "beta0=betatest*1\n",
    "k0=ktest*1\n",
    "Z=ztest\n",
    "\n",
    "print(T)\n",
    "print(xitest*Gamma(T,xitest,alpha,A))\n",
    "print(xiitest*Gamma(T,xiitest,alpha,A))\n",
    "\n",
    "print('hue')\n",
    "MODEL = lambda x: Gamma(T,x,alpha,A)\n",
    "ans=ELLflash(Z,beta0,k0,MODEL)\n",
    "print(ans[0])\n",
    "print(ans[1])\n",
    "print(ans[2])\n",
    "print(ans[3])"
   ]
  },
  {
   "cell_type": "markdown",
   "metadata": {
    "collapsed": true
   },
   "source": [
    "# initial guess\n"
   ]
  },
  {
   "cell_type": "code",
   "execution_count": 194,
   "metadata": {
    "collapsed": false
   },
   "outputs": [],
   "source": [
    "#Estimativas Iniciais\n",
    "\n",
    "def iguess(Z,MODEL):\n",
    "    X0 = Z\n",
    "    gama0 = MODEL(X0)\n",
    "    \n",
    "    Xlin = 1/(gama0.T @ Z) * (gama0*Z)\n",
    "\n",
    "    gamalin = MODEL(Xlin)\n",
    "\n",
    "    Klin = (1./gamalin) * gama0\n",
    "\n",
    "    KlinMin = np.min(Klin)\n",
    "    KlinMax = np.max(Klin)\n",
    "\n",
    "    nI0 = (KlinMax - Klin) * Z\n",
    "\n",
    "    XI0 = 1/(np.sum(nI0)) * nI0\n",
    "\n",
    "    gamaI0=MODEL(XI0)\n",
    "\n",
    "    nII0=(Klin-KlinMin) * Z\n",
    "\n",
    "    XII0=1/(np.sum(nII0)) * nII0;\n",
    "\n",
    "    gamaII0=MODEL(XII0)\n",
    "\n",
    "    beta0 = 1/(KlinMax-KlinMin) * np.sum(nII0)\n",
    "    \n",
    "    K0 = np.exp(np.log(gamaI0)-np.log(gamaII0))\n",
    "\n",
    "    return beta0, K0"
   ]
  },
  {
   "cell_type": "code",
   "execution_count": 195,
   "metadata": {
    "collapsed": false
   },
   "outputs": [
    {
     "name": "stdout",
     "output_type": "stream",
     "text": [
      "293.15\n",
      "[[ 0.9168827 ]\n",
      " [ 0.3519015 ]\n",
      " [ 0.17377495]]\n",
      "[[ 0.91689205]\n",
      " [ 0.35194092]\n",
      " [ 0.17381633]]\n",
      "hue\n",
      "0.394411615605\n",
      "[[ 35.40198618]\n",
      " [  0.21977285]\n",
      " [  0.14735411]]\n",
      "[[ 0.05351532]\n",
      " [ 0.52503359]\n",
      " [ 0.42145109]]\n",
      "[[ 0.88450404]\n",
      " [ 0.10350028]\n",
      " [ 0.01199568]]\n",
      "[[ 0.29661616]]\n",
      "1\n"
     ]
    }
   ],
   "source": [
    "ztest=np.array([[0.3000,\n",
    "0.4000,\n",
    "0.3000]]).T\n",
    "betatest=0.2966\n",
    "xitest=np.array([[0.0535,\n",
    "0.5250,\n",
    "0.4215]]).T\n",
    "xiitest=np.array([[0.8845,\n",
    "0.1035,\n",
    "0.0120]]).T\n",
    "ktest=1/(xitest/xiitest)\n",
    "\n",
    "###\n",
    "\n",
    "Z=ztest\n",
    "\n",
    "print(T)\n",
    "print(xitest*Gamma(T,xitest,alpha,A))\n",
    "print(xiitest*Gamma(T,xiitest,alpha,A))\n",
    "\n",
    "print('hue')\n",
    "MODEL = lambda x: Gamma(T,x,alpha,A)\n",
    "\n",
    "iguesses = iguess(Z,MODEL)\n",
    "\n",
    "beta0 = iguesses[0]\n",
    "K0 = iguesses[1]\n",
    "\n",
    "print(beta0)\n",
    "print(K0)\n",
    "\n",
    "ans=ELLflash(Z,beta0,K0,MODEL)\n",
    "print(ans[0])\n",
    "print(ans[1])\n",
    "print(ans[2])\n",
    "print(ans[3])"
   ]
  },
  {
   "cell_type": "markdown",
   "metadata": {},
   "source": [
    "# grid calc plot"
   ]
  },
  {
   "cell_type": "code",
   "execution_count": 196,
   "metadata": {
    "collapsed": false
   },
   "outputs": [
    {
     "name": "stdout",
     "output_type": "stream",
     "text": [
      "89\n"
     ]
    },
    {
     "name": "stderr",
     "output_type": "stream",
     "text": [
      "/home/segtovichisv/anaconda3/lib/python3.5/site-packages/ipykernel/__main__.py:18: RuntimeWarning: divide by zero encountered in double_scalars\n",
      "/home/segtovichisv/anaconda3/lib/python3.5/site-packages/ipykernel/__main__.py:18: RuntimeWarning: invalid value encountered in multiply\n",
      "/home/segtovichisv/anaconda3/lib/python3.5/site-packages/ipykernel/__main__.py:24: RuntimeWarning: divide by zero encountered in double_scalars\n",
      "/home/segtovichisv/anaconda3/lib/python3.5/site-packages/ipykernel/__main__.py:24: RuntimeWarning: invalid value encountered in multiply\n",
      "/home/segtovichisv/anaconda3/lib/python3.5/site-packages/ipykernel/__main__.py:28: RuntimeWarning: divide by zero encountered in double_scalars\n",
      "/home/segtovichisv/anaconda3/lib/python3.5/site-packages/ipykernel/__main__.py:28: RuntimeWarning: invalid value encountered in double_scalars\n",
      "/home/segtovichisv/anaconda3/lib/python3.5/site-packages/ipykernel/__main__.py:16: RuntimeWarning: overflow encountered in true_divide\n",
      "/home/segtovichisv/anaconda3/lib/python3.5/site-packages/ipykernel/__main__.py:16: RuntimeWarning: divide by zero encountered in true_divide\n"
     ]
    },
    {
     "name": "stdout",
     "output_type": "stream",
     "text": [
      "7.48369985008e-05 0.0 0.999925163001\n",
      "1\n",
      "0.00506591101091 0.247727879755 0.747206209234\n",
      "1\n",
      "0.0379820202613 0.477942870121 0.484075109603\n",
      "1\n",
      "0.0770179575214 0.574827146815 0.348154895604\n",
      "1\n",
      "7.48369985008e-05 0.0 0.999925163001\n",
      "1\n",
      "0.00130275990163 0.142079783268 0.85661745683\n",
      "1\n",
      "0.0554476545947 0.529938099023 0.414614246274\n",
      "1\n",
      "0.114258587934 0.624349933556 0.261391478506\n",
      "1\n",
      "0.220231727759 0.66823853313 0.111529739111\n",
      "1\n",
      "7.48369985008e-05 0.0 0.999925163001\n",
      "1\n",
      "0.00181433540148 0.164847881249 0.833337783349\n",
      "1\n",
      "0.0857278213229 0.588977066548 0.325295112119\n",
      "1\n",
      "0.186217374407 0.665388666178 0.148393959384\n",
      "1\n",
      "0.993252015183 0.0 0.00674798481724\n",
      "1\n",
      "0.987625509954 0.00707708078031 0.00529740926524\n",
      "1\n"
     ]
    },
    {
     "name": "stderr",
     "output_type": "stream",
     "text": [
      "/home/segtovichisv/anaconda3/lib/python3.5/site-packages/ipykernel/__main__.py:15: RuntimeWarning: overflow encountered in multiply\n"
     ]
    },
    {
     "name": "stdout",
     "output_type": "stream",
     "text": [
      "0.146874114689 0.649795252937 0.203330632198\n",
      "1\n",
      "0.993252014575 0.0 0.00674798542538\n",
      "1\n",
      "0.983072096669 0.0116800685755 0.00524783475548\n",
      "1\n"
     ]
    },
    {
     "name": "stderr",
     "output_type": "stream",
     "text": [
      "/home/segtovichisv/anaconda3/lib/python3.5/site-packages/ipykernel/__main__.py:15: RuntimeWarning: invalid value encountered in multiply\n"
     ]
    },
    {
     "name": "stdout",
     "output_type": "stream",
     "text": [
      "0.10358966008 0.612751966094 0.283658373826\n",
      "1\n",
      "0.993252014024 0.0 0.00674798597637\n",
      "1\n",
      "0.972894277893 0.0216028539095 0.00550286819744\n",
      "1\n",
      "0.872647437448 0.114223618613 0.0131289439392\n",
      "1\n",
      "0.993252013615 0.0 0.00674798638527\n",
      "1\n",
      "0.946904709519 0.0461911236945 0.00690416678668\n",
      "1\n",
      "0.993252013964 0.0 0.0067479860364\n",
      "1\n"
     ]
    },
    {
     "name": "stderr",
     "output_type": "stream",
     "text": [
      "/home/segtovichisv/anaconda3/lib/python3.5/site-packages/ipykernel/__main__.py:30: RuntimeWarning: divide by zero encountered in log\n",
      "/home/segtovichisv/anaconda3/lib/python3.5/site-packages/ipykernel/__main__.py:29: RuntimeWarning: divide by zero encountered in true_divide\n"
     ]
    },
    {
     "name": "stdout",
     "output_type": "stream",
     "text": [
      "done 25\n"
     ]
    }
   ],
   "source": [
    "Z1 = np.linspace(0,1,10)\n",
    "Z2 = np.linspace(0,1,10)\n",
    "Z3 = np.linspace(0,1,10)\n",
    "\n",
    "Z1[-1]=1-1e-9\n",
    "Z2[-1]=1-1e-9\n",
    "Z3[-1]=1-1e-9\n",
    "Z1[-1]=1-1e-9\n",
    "Z2[-1]=1-1e-9\n",
    "Z3[-1]=1-1e-9\n",
    "\n",
    "rawZs = np.ndarray((10,10), dtype=object)\n",
    "\n",
    "flags = np.zeros((10,10))\n",
    "\n",
    "for i in range(10):\n",
    "    for j in range(10):\n",
    "        rawZs[i,j]=np.array([Z1[i],Z2[j],1-Z1[i]-Z2[j]])\n",
    "        if ( rawZs[i,j][0] + rawZs[i,j][1] +  rawZs[i,j][2] == 1 ):\n",
    "            flags[i,j] = 1\n",
    "            \n",
    "Zs = rawZs[np.where(flags==1)]\n",
    "\n",
    "npts = Zs.shape[0]\n",
    "print(npts)\n",
    "\n",
    "Resultados_beta = np.zeros([npts])\n",
    "Resultados_conv = np.zeros([npts])\n",
    "Resultados_Z = np.zeros([3,npts])\n",
    "Resultados_XI = np.zeros([3,npts])\n",
    "Resultados_XII = np.zeros([3,npts])\n",
    "\n",
    "l=0\n",
    "for k in range(npts):\n",
    "    MODEL = lambda x: Gamma(T,x,alpha,A)\n",
    "    beta0, K0 = iguess(np.array([Zs[k]]).T,MODEL)\n",
    "    #print(beta0,K0)\n",
    "    #print(Zs[k],beta0,K0)\n",
    "    ans = ELLflash(np.array([Zs[k]]).T,beta0,K0,MODEL)\n",
    "    if (0<ans[2] and 1>ans[2] and ans[3]==1):\n",
    "        print(ans[0][0][0],ans[0][1][0],ans[0][2][0])\n",
    "        Resultados_XI[:,l] = np.array([ans[0][0][0],ans[0][1][0],ans[0][2][0]])\n",
    "        Resultados_XII[:,l] = np.array([ans[1][0][0],ans[1][1][0],ans[1][2][0]])\n",
    "        Resultados_beta[l] = ans[2]\n",
    "        Resultados_conv[l] = ans[3]\n",
    "        print(ans[3])\n",
    "        l+=1\n",
    "        \n",
    "print('done',l)\n",
    "    \n",
    "ndone=l-1"
   ]
  },
  {
   "cell_type": "code",
   "execution_count": 197,
   "metadata": {
    "collapsed": false
   },
   "outputs": [],
   "source": [
    "fResultados_XI = Resultados_XI[:,np.where(Resultados_conv==1)]\n",
    "fResultados_XII = Resultados_XII[:,np.where(Resultados_conv==1)]\n",
    "fResultados_beta = Resultados_beta[np.where(Resultados_conv==1)]"
   ]
  },
  {
   "cell_type": "code",
   "execution_count": 198,
   "metadata": {
    "collapsed": false
   },
   "outputs": [
    {
     "name": "stdout",
     "output_type": "stream",
     "text": [
      "[ 0.07701796  0.57482715  0.3481549 ]\n"
     ]
    }
   ],
   "source": [
    "print(Resultados_XI[:,3]) #ERRADO AQUI"
   ]
  },
  {
   "cell_type": "code",
   "execution_count": 199,
   "metadata": {
    "collapsed": false,
    "scrolled": false
   },
   "outputs": [
    {
     "name": "stdout",
     "output_type": "stream",
     "text": [
      "[ 0.07701796  0.57482715  0.3481549 ]\n"
     ]
    }
   ],
   "source": [
    "print(fResultados_XI[:,0,3]) #ERRADO AQUI"
   ]
  },
  {
   "cell_type": "code",
   "execution_count": 200,
   "metadata": {
    "collapsed": false
   },
   "outputs": [
    {
     "name": "stdout",
     "output_type": "stream",
     "text": [
      "[[  7.48369985e-05   0.00000000e+00   9.99925163e-01]\n",
      " [  5.06591101e-03   2.47727880e-01   7.47206209e-01]\n",
      " [  3.79820203e-02   4.77942870e-01   4.84075110e-01]\n",
      " [  7.70179575e-02   5.74827147e-01   3.48154896e-01]\n",
      " [  7.48369985e-05   0.00000000e+00   9.99925163e-01]\n",
      " [  1.30275990e-03   1.42079783e-01   8.56617457e-01]\n",
      " [  5.54476546e-02   5.29938099e-01   4.14614246e-01]\n",
      " [  1.14258588e-01   6.24349934e-01   2.61391479e-01]\n",
      " [  2.20231728e-01   6.68238533e-01   1.11529739e-01]\n",
      " [  7.48369985e-05   0.00000000e+00   9.99925163e-01]\n",
      " [  1.81433540e-03   1.64847881e-01   8.33337783e-01]\n",
      " [  8.57278213e-02   5.88977067e-01   3.25295112e-01]\n",
      " [  1.86217374e-01   6.65388666e-01   1.48393959e-01]\n",
      " [  9.93252015e-01   0.00000000e+00   6.74798482e-03]\n",
      " [  9.87625510e-01   7.07708078e-03   5.29740927e-03]\n",
      " [  1.46874115e-01   6.49795253e-01   2.03330632e-01]\n",
      " [  9.93252015e-01   0.00000000e+00   6.74798543e-03]\n",
      " [  9.83072097e-01   1.16800686e-02   5.24783476e-03]\n",
      " [  1.03589660e-01   6.12751966e-01   2.83658374e-01]\n",
      " [  9.93252014e-01   0.00000000e+00   6.74798598e-03]\n",
      " [  9.72894278e-01   2.16028539e-02   5.50286820e-03]\n",
      " [  8.72647437e-01   1.14223619e-01   1.31289439e-02]\n",
      " [  9.93252014e-01   0.00000000e+00   6.74798639e-03]\n",
      " [  9.46904710e-01   4.61911237e-02   6.90416679e-03]]\n"
     ]
    }
   ],
   "source": [
    "test_data1 = np.zeros([ndone,3])\n",
    "test_data2 = np.zeros([ndone,3])\n",
    "\n",
    "from matplotlib import pyplot as plt\n",
    "\n",
    "for k in range(24):\n",
    "    #print(Resultados_XI[:,0])\n",
    "    test_data1[k,0:3] = fResultados_XI[:,0,k]\n",
    "    test_data2[k,0:3] = fResultados_XII[:,0,k]\n",
    "    #test_data[l,3] = GM[l]\n",
    "\n",
    "print(test_data1[:,:])\n",
    "    \n",
    "a=test_data1[:,0]\n",
    "b=test_data1[:,1]\n",
    "\n"
   ]
  },
  {
   "cell_type": "code",
   "execution_count": 201,
   "metadata": {
    "collapsed": false
   },
   "outputs": [
    {
     "data": {
      "image/png": "[encoded data removed]",
      "text/plain": [
       "<matplotlib.figure.Figure at 0x7fedc6749518>"
      ]
     },
     "metadata": {},
     "output_type": "display_data"
    }
   ],
   "source": [
    "\n",
    "# barycentric coords: (a,b,c)\n",
    "a=test_data1[:,0]\n",
    "b=test_data1[:,1]\n",
    "c=test_data1[:,2]\n",
    "\n",
    "d=test_data2[:,0]\n",
    "e=test_data2[:,1]\n",
    "f=test_data2[:,2]\n",
    "\n",
    "# create a triangulation out of these points\n",
    "#Tri = tri.Triangulation(cartx,carty)\n",
    "#Tri = tri.Triangulation(a,b)\n",
    "\n",
    "# plot the contour\n",
    "#plt.tricontourf(cartx,carty,Tri.triangles,v)\n",
    "#plt.tricontourf(a,b,Tri.triangles,v)\n",
    "\n",
    "\n",
    "# create the grid\n",
    "#corners = np.array([[0, 0], [1, 0], [0.5,  np.sqrt(3)*0.5]])\n",
    "#corners = np.array([[0, 0], [1, 0], [0,1]])\n",
    "#triangle = tri.Triangulation(corners[:, 0], corners[:, 1])\n",
    "\n",
    "# creating the grid\n",
    "#refiner = tri.UniformTriRefiner(triangle)\n",
    "#trimesh = refiner.refine_triangulation(subdiv=4)\n",
    "\n",
    "#plotting the mesh\n",
    "#plt.triplot(trimesh,'k--')\n",
    "\n",
    "plt.scatter(a,b)\n",
    "plt.scatter(d,e)\n",
    "plt.title('phase diagram')\n",
    "#plt.axis('off')\n",
    "plt.show()"
   ]
  },
  {
   "cell_type": "code",
   "execution_count": 202,
   "metadata": {
    "collapsed": false
   },
   "outputs": [],
   "source": [
    "#determinar pto crítico\n",
    "xcrit=0.4 #aprox.\n",
    "\n",
    "\n",
    "#refiltrar a e b\n",
    "\n",
    "al=a[np.where(a<=0.4)]\n",
    "ar=a[np.where(a>0.4)]\n",
    "dl=d[np.where(d<=0.4)]\n",
    "dr=d[np.where(d>0.4)]\n",
    "\n",
    "bl=b[np.where(a<=0.4)]\n",
    "br=b[np.where(a>0.4)]\n",
    "el=e[np.where(d<=0.4)]\n",
    "er=e[np.where(d>0.4)]"
   ]
  },
  {
   "cell_type": "code",
   "execution_count": 203,
   "metadata": {
    "collapsed": false
   },
   "outputs": [
    {
     "data": {
      "image/png": "[encoded data removed]",
      "text/plain": [
       "<matplotlib.figure.Figure at 0x7fedc0532cf8>"
      ]
     },
     "metadata": {},
     "output_type": "display_data"
    },
    {
     "name": "stdout",
     "output_type": "stream",
     "text": [
      "[  7.48369985e-05   5.06591101e-03   3.79820203e-02   7.70179575e-02\n",
      "   7.48369985e-05   1.30275990e-03   5.54476546e-02   1.14258588e-01\n",
      "   2.20231728e-01   7.48369985e-05   1.81433540e-03   8.57278213e-02\n",
      "   1.86217374e-01   1.46874115e-01   1.03589660e-01   7.48369985e-05\n",
      "   2.73918277e-03   7.48369985e-05   4.61002813e-03   7.48369985e-05\n",
      "   8.97108985e-03   5.98194015e-02   7.48369985e-05   2.11675118e-02]\n"
     ]
    }
   ],
   "source": [
    "Ly = np.concatenate((al,dl),axis=0)\n",
    "Lx = np.concatenate((bl,el),axis=0)\n",
    "\n",
    "Ry = np.concatenate((ar,dr),axis=0)\n",
    "Rx = np.concatenate((br,er),axis=0)\n",
    "\n",
    "sLy=np.sort(Ly)\n",
    "sLx=np.sort(Lx)\n",
    "sRy=np.sort(Ry)\n",
    "sRx=-np.sort(-Rx)\n",
    "\n",
    "plt.plot(sLy,sLx)\n",
    "plt.plot(sRy,sRx)\n",
    "\n",
    "plt.show()\n",
    "\n",
    "print(Ly)\n",
    "\n",
    "#now the tielines\n",
    "\n"
   ]
  },
  {
   "cell_type": "code",
   "execution_count": 204,
   "metadata": {
    "collapsed": false
   },
   "outputs": [
    {
     "name": "stdout",
     "output_type": "stream",
     "text": [
      "(24,) (24,) (24,) (24,)\n",
      "(15,) (15,) (9,) (9,)\n",
      "(9,) (9,) (15,) (15,)\n"
     ]
    },
    {
     "data": {
      "image/png": "[encoded data removed]",
      "text/plain": [
       "<matplotlib.figure.Figure at 0x7fedc0528a58>"
      ]
     },
     "metadata": {},
     "output_type": "display_data"
    },
    {
     "name": "stdout",
     "output_type": "stream",
     "text": [
      "(9,)\n",
      "(9,)\n",
      "7.48369985008e-05 0.0 0.999925163001 0.993252018643\n",
      "0.00506591101091 0.247727879755 0.747206209234 0.981978073686\n",
      "0.0379820202613 0.477942870121 0.484075109603 0.913919709025\n",
      "0.0770179575214 0.574827146815 0.348154895604 0.840094615949\n",
      "7.48369985008e-05 0.0 0.999925163001 0.993252012365\n",
      "0.00130275990163 0.142079783268 0.85661745683 0.991109799052\n",
      "0.0554476545947 0.529938099023 0.414614246274 0.880828826264\n",
      "0.114258587934 0.624349933556 0.261391478506 0.769415407373\n",
      "0.220231727759 0.66823853313 0.111529739111 0.589018134617\n",
      "7.48369985008e-05 0.0 0.999925163001 0.993252019554\n",
      "0.00181433540148 0.164847881249 0.833337783349 0.989885801774\n",
      "0.0857278213229 0.588977066548 0.325295112119 0.823639129463\n",
      "0.186217374407 0.665388666178 0.148393959384 0.64138735509\n",
      "0.993252015183 0.0 0.00674798481724 7.48369985008e-05\n",
      "0.987625509954 0.00707708078031 0.00529740926524 0.00273918276997\n",
      "0.146874114689 0.649795252937 0.203330632198 0.709104529443\n",
      "0.993252014575 0.0 0.00674798542538 7.48369985008e-05\n",
      "0.983072096669 0.0116800685755 0.00524783475548 0.0046100281334\n",
      "0.10358966008 0.612751966094 0.283658373826 0.790167487004\n",
      "0.993252014024 0.0 0.00674798597637 7.48369985008e-05\n",
      "0.972894277893 0.0216028539095 0.00550286819744 0.00897108984603\n",
      "0.872647437448 0.114223618613 0.0131289439392 0.0598194015138\n",
      "0.993252013615 0.0 0.00674798638527 7.48369985008e-05\n",
      "0.946904709519 0.0461911236945 0.00690416678668 0.0211675118218\n"
     ]
    }
   ],
   "source": [
    "print(a.shape,b.shape,d.shape,e.shape)\n",
    "print(al.shape,bl.shape,dl.shape,el.shape)\n",
    "print(ar.shape,br.shape,dr.shape,er.shape)\n",
    "\n",
    "plt.axis([0,1,0,1])\n",
    "#plt.scatter(d,e)\n",
    "#plt.scatter(a,b)\n",
    "#plt.scatter(a[np.where(a>.4)],b[np.where(a>.4)])\n",
    "#plt.scatter(a[np.where(a<.4)],b[np.where(a<.4)])\n",
    "#plt.scatter(d[np.where(d>.4)],e[np.where(d>.4)])\n",
    "#plt.scatter(d[np.where(d<.4)],e[np.where(d<.4)])\n",
    "for i in range(ndone):\n",
    "    plt.plot([a[i],d[i]],[b[i],e[i]])\n",
    "    \n",
    "plt.scatter(Ly,Lx)    \n",
    "plt.scatter(Ry,Rx)    \n",
    "\n",
    "plt.show()\n",
    "print(a[np.where(a>.4)].shape)\n",
    "print(d[np.where(d<.4)].shape)\n",
    "\n",
    "for i in range(ndone):\n",
    "    print(a[i],b[i],c[i],d[i])"
   ]
  },
  {
   "cell_type": "code",
   "execution_count": null,
   "metadata": {
    "collapsed": true
   },
   "outputs": [],
   "source": []
  },
  {
   "cell_type": "code",
   "execution_count": null,
   "metadata": {
    "collapsed": true
   },
   "outputs": [],
   "source": []
  },
  {
   "cell_type": "code",
   "execution_count": null,
   "metadata": {
    "collapsed": true
   },
   "outputs": [],
   "source": []
  }
 ],
 "metadata": {
  "anaconda-cloud": {},
  "kernelspec": {
   "display_name": "Python [conda root]",
   "language": "python",
   "name": "conda-root-py"
  },
  "language_info": {
   "codemirror_mode": {
    "name": "ipython",
    "version": 3
   },
   "file_extension": ".py",
   "mimetype": "text/x-python",
   "name": "python",
   "nbconvert_exporter": "python",
   "pygments_lexer": "ipython3",
   "version": "3.5.2"
  }
 },
 "nbformat": 4,
 "nbformat_minor": 1
}
