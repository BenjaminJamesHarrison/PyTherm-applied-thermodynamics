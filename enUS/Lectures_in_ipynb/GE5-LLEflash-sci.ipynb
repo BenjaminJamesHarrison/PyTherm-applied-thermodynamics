{
 "cells": [
  {
   "cell_type": "markdown",
   "metadata": {
    "collapsed": false
   },
   "source": [
    "# The Non Random Two Liquids (NRTL) model for *excess Gibbs energy* ($g^E$) and a case study of Liquid-Liquid equilibria of limonene+water+ethanol"
   ]
  },
  {
   "cell_type": "markdown",
   "metadata": {
    "collapsed": true
   },
   "source": [
    "## Feeding the fitted parameters to the model in matrix structure:\n",
    "we will assemble the parameters in a matrix structure so that we can access each parameter by its index, as in\n",
    "`A[0,0]` and `A[0,1]`rather than as `A11` and `A12`, so we can loop trough all of them using an iterator, see below:"
   ]
  },
  {
   "cell_type": "code",
   "execution_count": 5,
   "metadata": {
    "collapsed": true
   },
   "outputs": [],
   "source": [
    "import numpy as np\n",
    "from scipy.constants import R"
   ]
  },
  {
   "cell_type": "code",
   "execution_count": 6,
   "metadata": {
    "collapsed": false
   },
   "outputs": [],
   "source": [
    "#fited parameters\n",
    "# chafer's\n",
    "\n",
    "alpha12=alpha13=alpha23=alpha21=alpha31=alpha23=0.2;\n",
    "\n",
    "\n",
    "A12=107.99\n",
    "A21=555.81\n",
    "A13=1011.98\n",
    "A31=2277.37\n",
    "A23=-1113.1\n",
    "A32=1217.37\n",
    "\n",
    "alpha = np.array([[0, alpha12, alpha13],\n",
    "                [alpha12, 0, alpha23],\n",
    "                [alpha13, alpha23, 0]])\n",
    "\n",
    "A = np.array([[0, A12, A13],\n",
    "             [A21, 0, A23],\n",
    "             [A31, A32, 0]])"
   ]
  },
  {
   "cell_type": "code",
   "execution_count": 7,
   "metadata": {
    "collapsed": false
   },
   "outputs": [],
   "source": [
    "from numba import jit\n",
    "@jit\n",
    "def Gamma(T,c_x,q_alpha, q_A):\n",
    "    #note that we used many lines for didatics\n",
    "    #we can do it in few lines:\n",
    "    #note that some expression occur more than once below\n",
    "    #so it may be useful define it as a intermediary recurrent term here\n",
    "    #and calculate it once to use it then several times\n",
    "    q_tau     = q_A/T\n",
    "    q_G       = np.exp(-(q_alpha*q_tau))\n",
    "    l_D       = ((1/((q_G.T) @ c_x)).T)\n",
    "    q_E       = (q_tau*q_G) * l_D \n",
    "    gamma     = np.exp(((q_E+(q_E.T))-(((q_G * l_D) * (c_x.T)) @ (q_E.T))) @ c_x)\n",
    "    return gamma"
   ]
  },
  {
   "cell_type": "code",
   "execution_count": 8,
   "metadata": {
    "collapsed": false
   },
   "outputs": [
    {
     "name": "stdout",
     "output_type": "stream",
     "text": [
      "[[ 7.97865398]\n",
      " [ 0.31550702]\n",
      " [ 0.95773617]]\n"
     ]
    }
   ],
   "source": [
    "#test it to see that the results are the same\n",
    "T=293.15\n",
    "x=np.array([.2,.3,.5]) #normalized\n",
    "x_as_column = np.array([x]).T\n",
    "print(Gamma(T,x_as_column,alpha,A)) #test using those trial input"
   ]
  },
  {
   "cell_type": "markdown",
   "metadata": {
    "collapsed": true
   },
   "source": [
    "# Liq-Liq Equilibria Flash\n",
    "The next step will be using the model in a phase equilibria algorithm, a Liq-Liq equilibria flash calculation\n",
    "\n",
    "it works as follows:\n",
    "\n",
    "The degrees of Freedom for a flash calculation are temperature - T, pressure - P and global composition - z\n",
    "\n",
    "\n",
    "XXX img src from thesis XXX\n",
    "* ...............  =>guess, xL1 xL2, then calls model(T,P,x)\n",
    "* ...............//\n",
    "* .............<=\n",
    "* T,P,z => algorithm => finds equilibrium xL1 xL2 and BETA\n",
    "\n",
    "**Equilibriuma criteria**\n",
    "\n",
    "$$\\mu_{i}^{\\rm {L1}}=\\mu_{i}^{\\rm {L2}}, \\forall i$$\n",
    "\n",
    "**Devised algorithm after analytical simplification of repeated contributions:**\n",
    "\n",
    "$$x_{i}^{\\rm {L1}} \\gamma_{i}^{\\rm {L1}}= x_{i}^{\\rm {L2}} \\gamma_{i}^{\\rm {L2}}, \\forall i$$"
   ]
  },
  {
   "cell_type": "markdown",
   "metadata": {
    "collapsed": true
   },
   "source": [
    "# algorithm\n"
   ]
  },
  {
   "cell_type": "code",
   "execution_count": 9,
   "metadata": {
    "collapsed": false
   },
   "outputs": [
    {
     "name": "stdout",
     "output_type": "stream",
     "text": [
      "293.15\n",
      "[[ 0.9168827 ]\n",
      " [ 0.3519015 ]\n",
      " [ 0.17377495]]\n",
      "[[ 0.91689205]\n",
      " [ 0.35194092]\n",
      " [ 0.17381633]]\n",
      "hue\n",
      "[ 0.05349958  0.52504064  0.42145977]\n",
      "[ 0.88449314  0.10350801  0.01199885]\n",
      "[ 0.29663337]\n",
      "1\n"
     ]
    }
   ],
   "source": [
    "def ELLflash_explicit(Z,beta0,K0,MODEL):\n",
    "    beta=prevbeta=beta0\n",
    "    K=prevK=K0\n",
    "    \n",
    "    a = np.zeros(3)\n",
    "    XI = np.zeros(3)\n",
    "    XII = np.zeros(3)\n",
    "    \n",
    "    looping2 = 0\n",
    "    while ( (looping2 == 0) # means do at least once\n",
    "           or (max(abs(K-prevK))>0.0001 # convergence criteria\n",
    "               and looping2 < 100) ): # max number of iterations\n",
    "        \n",
    "        #Solve RachfordRice equation with a newton raphson loop\n",
    "        looping3 = 0\n",
    "        while ( (looping3 == 0) # means do at least once\n",
    "               or (abs(beta-prevbeta)>0.0001 # convergence criteria\n",
    "                   and looping3 < 100) ): #max number of iterations\n",
    "            prevbeta = beta\n",
    "\n",
    "            for i in range(3):\n",
    "                a[i] = ( (K[i]-1) / (1+beta*(K[i]-1)) )            \n",
    "                \n",
    "            F=0\n",
    "            for j in range(3):\n",
    "                F+=Z[j]*a[j]\n",
    "\n",
    "            J=0\n",
    "            for j in range(3):\n",
    "                J-=Z[j]*a[j]*a[j]\n",
    "                            \n",
    "            beta -= F/J\n",
    "\n",
    "            looping3 = looping3 + 1        \n",
    "\n",
    "        prevK = K\n",
    "        \n",
    "        for i in range(3):\n",
    "            XI[i] = Z[i] * (1./(1+beta * (K[i]-1))) #Rachford-Rice composition updating scheme\n",
    "                \n",
    "        gamaI = MODEL(XI)\n",
    "        \n",
    "        for i in range(3):\n",
    "            XII[i] = K[i]*XI[i]\n",
    "\n",
    "        gamaII = MODEL(XII)\n",
    "        \n",
    "        for i in range(3):\n",
    "            K[i] = (gamaI[i])/(gamaII[i])\n",
    "                       \n",
    "        looping2 = looping2 + 1    \n",
    "\n",
    "    #print('Calculation has ended')\n",
    "    if (looping2 < 100 and looping3 < 100):\n",
    "        converged = 1\n",
    "#        print('xi',XI)\n",
    "#        print('xii',XII)\n",
    "#        print('beta',beta)\n",
    "    else:\n",
    "        converged = 0\n",
    "#        print('unconverged')\n",
    "    \n",
    "    return XI, XII, beta, converged\n",
    "\n",
    "ztest=np.array([[0.3000,\n",
    "0.4000,\n",
    "0.3000]]).T\n",
    "\n",
    "betatest=0.2966\n",
    "\n",
    "xitest=np.array([[0.0535,\n",
    "0.5250,\n",
    "0.4215]]).T\n",
    "\n",
    "\n",
    "xiitest=np.array([[0.8845,\n",
    "0.1035,\n",
    "0.0120]]).T\n",
    "\n",
    "ktest=1/(xitest/xiitest)\n",
    "\n",
    "beta0=betatest*1\n",
    "k0=ktest*1\n",
    "Z=ztest\n",
    "\n",
    "print(T)\n",
    "print(xitest*Gamma(T,xitest,alpha,A))\n",
    "print(xiitest*Gamma(T,xiitest,alpha,A))\n",
    "\n",
    "print('hue')\n",
    "MODEL = lambda x: Gamma(T,x,alpha,A)\n",
    "ans=ELLflash_explicit(Z,beta0,k0,MODEL)\n",
    "print(ans[0])\n",
    "print(ans[1])\n",
    "print(ans[2])\n",
    "print(ans[3])"
   ]
  },
  {
   "cell_type": "code",
   "execution_count": 10,
   "metadata": {
    "collapsed": false
   },
   "outputs": [
    {
     "name": "stdout",
     "output_type": "stream",
     "text": [
      "10000 loops, best of 3: 185 µs per loop\n"
     ]
    }
   ],
   "source": [
    "%timeit ans=ELLflash_explicit(Z,beta0,k0,MODEL)"
   ]
  },
  {
   "cell_type": "code",
   "execution_count": 11,
   "metadata": {
    "collapsed": false
   },
   "outputs": [],
   "source": [
    "def ELLflash(Z,beta0,K0,MODEL): #ELLflash_linalg\n",
    "    beta=prevbeta=beta0\n",
    "    K=prevK=K0\n",
    "    \n",
    "    looping2 = 0\n",
    "    while ( (looping2 == 0) # means do at least once\n",
    "           or ((np.linalg.norm(K-prevK))>0.0001 # convergence criteria\n",
    "               and looping2 < 1000) ): # max number of iterations\n",
    "        looping3 = 0\n",
    "        while ( (looping3 == 0)\n",
    "               or (np.linalg.norm(beta-prevbeta)>0.0001 # convergence criteria\n",
    "                   and looping3 < 100) ): #max number of iterations\n",
    "            prevbeta = beta\n",
    "            \n",
    "            a = (1/(1+beta*(K-1))) * (K-1)\n",
    "            beta = beta+(1/((Z.T*a.T) @ a)) @ (Z.T @ a)\n",
    "            \n",
    "            looping3 += 1        \n",
    "\n",
    "        prevK = K\n",
    "        XI = (1./(1+beta * (K-1))) * Z\n",
    "\n",
    "        gamaI = MODEL(XI)\n",
    "        \n",
    "        XII = K*XI\n",
    "\n",
    "        gamaII = MODEL(XII)\n",
    "        \n",
    "        K = (gamaI)/(gamaII)\n",
    "                       \n",
    "        looping2 += 1    \n",
    "\n",
    "    #print('Calculation has ended')\n",
    "    if (looping2 < 100 and looping3 < 100):\n",
    "        converged = 1\n",
    "#        print('xi',XI)\n",
    "#        print('xii',XII)\n",
    "#        print('beta',beta)\n",
    "    else:\n",
    "        converged = 0\n",
    "#        print('unconverged')\n",
    "    \n",
    "    return XI, XII, beta, converged"
   ]
  },
  {
   "cell_type": "code",
   "execution_count": 12,
   "metadata": {
    "collapsed": false
   },
   "outputs": [
    {
     "name": "stdout",
     "output_type": "stream",
     "text": [
      "The slowest run took 11460.66 times longer than the fastest. This could mean that an intermediate result is being cached.\n",
      "1 loop, best of 3: 154 µs per loop\n",
      "(array([[ 0.05351685],\n",
      "       [ 0.52503396],\n",
      "       [ 0.42144919]]), array([[ 0.88451549],\n",
      "       [ 0.10349176],\n",
      "       [ 0.01199276]]), array([[ 0.29661078]]), 1)\n"
     ]
    }
   ],
   "source": [
    "%timeit ans=ELLflash(Z,beta0,k0,MODEL)\n",
    "ans=ELLflash(Z,beta0,k0,MODEL)\n",
    "print(ans)"
   ]
  },
  {
   "cell_type": "code",
   "execution_count": 13,
   "metadata": {
    "collapsed": false
   },
   "outputs": [],
   "source": [
    "@jit(nopython=True)\n",
    "def ELLflash_fast(Z,beta0,K0,alpha,A):\n",
    "    beta=beta0.copy()\n",
    "    prevbeta=beta.copy()\n",
    "    K=K0.copy()\n",
    "    prevK=K.copy()\n",
    "    XI=Z.copy()\n",
    "    XII=Z.copy()\n",
    "    looping2=0\n",
    "    looping3=0\n",
    "    \n",
    "    looping2 = 0\n",
    "    while ( (looping2 == 0) # means do at least once\n",
    "           or ((np.linalg.norm(K-prevK))>0.0001 # convergence criteria\n",
    "               and looping2 < 1000) ): # max number of iterations\n",
    "        looping3 = 0\n",
    "        while ( (looping3 == 0)\n",
    "               or (np.linalg.norm(beta-prevbeta)>0.0001 # convergence criteria\n",
    "                   and looping3 < 100) ): #max number of iterations\n",
    "            prevbeta = beta\n",
    "            \n",
    "            a = (1/(1+beta*(K-1))) * (K-1)\n",
    "            beta = beta+(1/((Z.T*a.T) @ a)) @ (Z.T @ a)\n",
    "            \n",
    "            looping3 += 1        \n",
    "\n",
    "        prevK = K\n",
    "        XI = (1./(1+beta * (K-1))) * Z\n",
    "\n",
    "        gamaI = Gamma(T,XI,alpha,A)\n",
    "        \n",
    "        XII = K*XI\n",
    "\n",
    "        gamaII = Gamma(T,XII,alpha,A)\n",
    "        \n",
    "        K = (gamaI)/(gamaII)\n",
    "                       \n",
    "        looping2 += 1    \n",
    "\n",
    "    #print('Calculation has ended')\n",
    "    if (looping2 < 100 and looping3 < 100):\n",
    "        converged = 1\n",
    "#        print('xi',XI)\n",
    "#        print('xii',XII)\n",
    "#        print('beta',beta)\n",
    "    else:\n",
    "        converged = 0\n",
    "#        print('unconverged')\n",
    "    \n",
    "    return XI, XII, beta, converged"
   ]
  },
  {
   "cell_type": "code",
   "execution_count": 14,
   "metadata": {
    "collapsed": false
   },
   "outputs": [
    {
     "name": "stdout",
     "output_type": "stream",
     "text": [
      "The slowest run took 39072.28 times longer than the fastest. This could mean that an intermediate result is being cached.\n",
      "1 loop, best of 3: 93.2 µs per loop\n",
      "(array([[ 0.05351685],\n",
      "       [ 0.52503396],\n",
      "       [ 0.42144919]]), array([[ 0.88451549],\n",
      "       [ 0.10349176],\n",
      "       [ 0.01199276]]), array([[ 0.29661078]]), 1)\n"
     ]
    }
   ],
   "source": [
    "BETA0=np.array([[beta0]])\n",
    "%timeit ans=ELLflash_fast(Z,BETA0*1.5,k0,alpha,A)\n",
    "#ans=ELLflash_fast(Z,BETA0*1.5,k0,alpha,A)\n",
    "#print(Z,BETA0,k0,alpha,A)\n",
    "print(ans)\n",
    "#print(ans[0])"
   ]
  },
  {
   "cell_type": "code",
   "execution_count": 54,
   "metadata": {
    "collapsed": false
   },
   "outputs": [
    {
     "name": "stdout",
     "output_type": "stream",
     "text": [
      "[[ 0.05351685]\n",
      " [ 0.52503396]\n",
      " [ 0.42144919]]\n",
      "[[ 0.88451549]\n",
      " [ 0.10349176]\n",
      " [ 0.01199276]]\n",
      "[[ 0.29661078]]\n",
      "1\n"
     ]
    }
   ],
   "source": [
    "from scipy import optimize as opt\n",
    "\n",
    "def ELLflash_sci(Z,beta0,K0,MODEL):\n",
    "        \n",
    "    #prepare FP input\n",
    "    def fix(kxixiibeta):\n",
    "        #local varaibles translation\n",
    "        K=np.array([kxixiibeta[0:3]]).T\n",
    "        beta0 = np.array([[kxixiibeta[9]]])\n",
    "        \n",
    "        #prepare NR input\n",
    "        F = lambda beta, K=K, Z=Z: (Z.T @ ((1/(1+beta*(K-1))) * (K-1)))\n",
    "        J = lambda beta, K=K, Z=Z: -(((Z.T*((1/(1+beta*(K-1))) * (K-1)).T) @ ((1/(1+beta*(K-1))) * (K-1))))\n",
    "        \n",
    "        #run NR\n",
    "        beta = opt.newton(func=F,x0=beta0,fprime=J,tol=1e-5, maxiter=50)\n",
    "        \n",
    "        #run XI, gammaI, XII, gammaII\n",
    "        XI = (1./(1+beta * (K-1))) * Z\n",
    "        gamaI = MODEL(XI)\n",
    "        XII = K*XI\n",
    "        gamaII = MODEL(XII)\n",
    "        \n",
    "        #prepare return-format solution\n",
    "        return np.concatenate( ( ((gamaI)/(gamaII))[0:,0], XI[0:,0], XII[0:,0], beta[0:,0] ), axis=0 )\n",
    "    \n",
    "    #prepare FP input\n",
    "    point0 = np.concatenate( ( K0[0:,0], np.zeros(3), np.zeros(3), beta0[0:,0] ), axis=0 )\n",
    "\n",
    "    #sanity check\n",
    "    if np.isnan(point0).any() or np.isinf(point0).any():\n",
    "        print('nans or infs here')\n",
    "        raise ValueError\n",
    "    \n",
    "    #run FP    \n",
    "    point = opt.fixed_point(func = fix, x0 = point0, xtol=1e-08, maxiter=500)\n",
    "    \n",
    "    #prepare return-format solution\n",
    "    K = np.array([point[0:3]]).T\n",
    "    XI = np.array([point[3:6]]).T\n",
    "    XII = np.array([point[6:9]]).T\n",
    "    beta = np.array([point[9:10]]).T\n",
    "    converged=1\n",
    "    \n",
    "    return XI, XII, beta, converged\n",
    "\n",
    "ans=ELLflash_sci(Z,BETA0*1.4,k0*1.1,MODEL)\n",
    "print(ans[0])\n",
    "print(ans[1])\n",
    "print(ans[2])\n",
    "print(ans[3])"
   ]
  },
  {
   "cell_type": "code",
   "execution_count": 16,
   "metadata": {
    "collapsed": false
   },
   "outputs": [
    {
     "name": "stdout",
     "output_type": "stream",
     "text": [
      "[[ 0.05351685]\n",
      " [ 0.52503396]\n",
      " [ 0.42144919]]\n",
      "[[ 0.88451549]\n",
      " [ 0.10349176]\n",
      " [ 0.01199276]]\n",
      "[[ 0.29661078]]\n",
      "1\n"
     ]
    }
   ],
   "source": [
    "ans=ELLflash_sci(Z,BETA0*1.5,k0*1.1,MODEL)\n",
    "print(ans[0])\n",
    "print(ans[1])\n",
    "print(ans[2])\n",
    "print(ans[3])"
   ]
  },
  {
   "cell_type": "code",
   "execution_count": 17,
   "metadata": {
    "collapsed": false,
    "scrolled": true
   },
   "outputs": [
    {
     "name": "stdout",
     "output_type": "stream",
     "text": [
      "1000 loops, best of 3: 1.16 ms per loop\n",
      "[[ 0.3]\n",
      " [ 0.4]\n",
      " [ 0.3]] [[ 0.2966]] [[ 16.52779552]\n",
      " [  0.1971144 ]\n",
      " [  0.02845599]] [[ 0.   0.2  0.2]\n",
      " [ 0.2  0.   0.2]\n",
      " [ 0.2  0.2  0. ]] [[    0.     107.99  1011.98]\n",
      " [  555.81     0.   -1113.1 ]\n",
      " [ 2277.37  1217.37     0.  ]]\n",
      "(array([[ 0.05351685],\n",
      "       [ 0.52503396],\n",
      "       [ 0.42144919]]), array([[ 0.88451549],\n",
      "       [ 0.10349176],\n",
      "       [ 0.01199276]]), array([[ 0.29661078]]), 1)\n",
      "[[ 0.05351685]\n",
      " [ 0.52503396]\n",
      " [ 0.42144919]]\n"
     ]
    }
   ],
   "source": [
    "BETA0=np.array([[beta0]])\n",
    "%timeit ans=ELLflash_sci(Z,BETA0,k0,MODEL)\n",
    "print(Z,BETA0,k0,alpha,A)\n",
    "print(ans)\n",
    "print(ans[0])"
   ]
  },
  {
   "cell_type": "code",
   "execution_count": 18,
   "metadata": {
    "collapsed": false
   },
   "outputs": [
    {
     "name": "stdout",
     "output_type": "stream",
     "text": [
      "293.15\n",
      "[[ 0.9168827 ]\n",
      " [ 0.3519015 ]\n",
      " [ 0.17377495]]\n",
      "[[ 0.91689205]\n",
      " [ 0.35194092]\n",
      " [ 0.17381633]]\n",
      "hue\n",
      "[[ 0.05351624]\n",
      " [ 0.52503406]\n",
      " [ 0.4214497 ]]\n",
      "[[ 0.88451339]\n",
      " [ 0.10349332]\n",
      " [ 0.01199329]]\n",
      "[[ 0.29661204]]\n",
      "1\n"
     ]
    }
   ],
   "source": [
    "ztest=np.array([[0.3000,\n",
    "0.4000,\n",
    "0.3000]]).T\n",
    "\n",
    "betatest=0.2966\n",
    "\n",
    "xitest=np.array([[0.0535,\n",
    "0.5250,\n",
    "0.4215]]).T\n",
    "\n",
    "\n",
    "xiitest=np.array([[0.8845,\n",
    "0.1035,\n",
    "0.0120]]).T\n",
    "\n",
    "ktest=1/(xitest/xiitest)\n",
    "\n",
    "beta0=betatest*1\n",
    "k0=ktest*1\n",
    "Z=ztest\n",
    "\n",
    "print(T)\n",
    "print(xitest*Gamma(T,xitest,alpha,A))\n",
    "print(xiitest*Gamma(T,xiitest,alpha,A))\n",
    "\n",
    "print('hue')\n",
    "MODEL = lambda x: Gamma(T,x,alpha,A)\n",
    "ans=ELLflash(Z,beta0,k0,MODEL)\n",
    "print(ans[0])\n",
    "print(ans[1])\n",
    "print(ans[2])\n",
    "print(ans[3])"
   ]
  },
  {
   "cell_type": "code",
   "execution_count": 19,
   "metadata": {
    "collapsed": false
   },
   "outputs": [
    {
     "name": "stdout",
     "output_type": "stream",
     "text": [
      "1000 loops, best of 3: 762 µs per loop\n"
     ]
    }
   ],
   "source": [
    "%timeit ans=ELLflash(Z,beta0,k0,MODEL)"
   ]
  },
  {
   "cell_type": "markdown",
   "metadata": {
    "collapsed": true
   },
   "source": [
    "# initial guess\n"
   ]
  },
  {
   "cell_type": "code",
   "execution_count": 20,
   "metadata": {
    "collapsed": false
   },
   "outputs": [],
   "source": [
    "#Estimativas Iniciais\n",
    "\n",
    "def iguess(Z,MODEL):\n",
    "    #print(Z)\n",
    "    X0 = Z\n",
    "    gama0 = MODEL(X0)\n",
    "    \n",
    "    Xlin = 1/(gama0.T @ Z) * (gama0*Z)\n",
    "\n",
    "    gamalin = MODEL(Xlin)\n",
    "\n",
    "    Klin = (1./gamalin) * gama0\n",
    "\n",
    "    KlinMin = np.min(Klin)\n",
    "    KlinMax = np.max(Klin)\n",
    "\n",
    "    nI0 = (KlinMax - Klin) * Z\n",
    "\n",
    "    XI0 = 1/(np.sum(nI0)) * nI0\n",
    "\n",
    "    gamaI0=MODEL(XI0)\n",
    "\n",
    "    nII0=(Klin-KlinMin) * Z\n",
    "\n",
    "    XII0=1/(np.sum(nII0)) * nII0;\n",
    "\n",
    "    gamaII0=MODEL(XII0)\n",
    "\n",
    "    beta0 = np.array([[ 1/(KlinMax-KlinMin) * np.sum(nII0) ]])\n",
    "    \n",
    "    K0 = (gamaI0)/(gamaII0)\n",
    "\n",
    "    return beta0, K0"
   ]
  },
  {
   "cell_type": "code",
   "execution_count": 21,
   "metadata": {
    "collapsed": false
   },
   "outputs": [
    {
     "name": "stdout",
     "output_type": "stream",
     "text": [
      "293.15\n",
      "[[ 0.9168827 ]\n",
      " [ 0.3519015 ]\n",
      " [ 0.17377495]]\n",
      "[[ 0.91689205]\n",
      " [ 0.35194092]\n",
      " [ 0.17381633]]\n",
      "hue\n",
      "[[ 0.39441162]]\n",
      "[[ 35.40198618]\n",
      " [  0.21977285]\n",
      " [  0.14735411]]\n",
      "[[ 0.05351532]\n",
      " [ 0.52503359]\n",
      " [ 0.42145109]]\n",
      "[[ 0.88450404]\n",
      " [ 0.10350028]\n",
      " [ 0.01199568]]\n",
      "[[ 0.29661616]]\n",
      "1\n"
     ]
    }
   ],
   "source": [
    "ztest=np.array([[0.3000,\n",
    "0.4000,\n",
    "0.3000]]).T\n",
    "betatest=0.2966\n",
    "xitest=np.array([[0.0535,\n",
    "0.5250,\n",
    "0.4215]]).T\n",
    "xiitest=np.array([[0.8845,\n",
    "0.1035,\n",
    "0.0120]]).T\n",
    "ktest=1/(xitest/xiitest)\n",
    "\n",
    "###\n",
    "\n",
    "Z=ztest\n",
    "\n",
    "print(T)\n",
    "print(xitest*Gamma(T,xitest,alpha,A))\n",
    "print(xiitest*Gamma(T,xiitest,alpha,A))\n",
    "\n",
    "print('hue')\n",
    "MODEL = lambda x: Gamma(T,x,alpha,A)\n",
    "\n",
    "iguesses = iguess(Z,MODEL)\n",
    "\n",
    "beta0 = iguesses[0]\n",
    "K0 = iguesses[1]\n",
    "\n",
    "print(beta0)\n",
    "print(K0)\n",
    "\n",
    "ans=ELLflash(Z,beta0,K0,MODEL)\n",
    "print(ans[0])\n",
    "print(ans[1])\n",
    "print(ans[2])\n",
    "print(ans[3])"
   ]
  },
  {
   "cell_type": "markdown",
   "metadata": {},
   "source": [
    "# grid calc plot"
   ]
  },
  {
   "cell_type": "code",
   "execution_count": 58,
   "metadata": {
    "collapsed": false
   },
   "outputs": [
    {
     "name": "stdout",
     "output_type": "stream",
     "text": [
      "89\n",
      "no converge here\n",
      "k++\n",
      "no converge here\n",
      "k++\n",
      "no converge here\n",
      "k++\n",
      "no converge here\n",
      "k++\n",
      "no converge here\n",
      "k++\n",
      "no converge here\n",
      "k++\n",
      "no converge here\n",
      "k++\n",
      "no converge here\n",
      "k++\n",
      "no converge here\n",
      "k++\n",
      "no converge here\n",
      "k++\n",
      "1 [[ 0.11179906]]\n",
      "k++\n",
      "1 [[ 0.1085514]]\n",
      "k++\n",
      "1 [[ 0.10108961]]\n",
      "k++\n",
      "no converge here\n",
      "k++\n",
      "1 [[ 0.0446654]]\n",
      "k++\n",
      "no converge here\n",
      "k++\n",
      "no converge here\n",
      "k++\n",
      "1 [[ 0.22367347]]\n",
      "k++\n",
      "1 [[ 0.22319447]]\n",
      "k++\n",
      "no converge here\n",
      "k++\n",
      "no converge here\n",
      "k++\n",
      "no converge here\n",
      "k++\n",
      "1 [[ 0.16480273]]\n",
      "k++\n",
      "no converge here\n",
      "k++\n",
      "no converge here\n",
      "k++\n",
      "no converge here\n",
      "k++\n",
      "no converge here\n",
      "k++\n",
      "1 [[ 0.33554788]]\n",
      "k++\n",
      "no converge here\n",
      "k++\n",
      "no converge here\n",
      "k++\n",
      "no converge here\n",
      "k++\n",
      "1 [[ 0.3355386]]\n",
      "k++\n",
      "1 [[ 0.3233495]]\n",
      "k++\n",
      "no converge here\n",
      "k++\n",
      "no converge here\n",
      "k++\n",
      "no converge here\n",
      "k++\n",
      "no converge here\n",
      "k++\n",
      "1 [[ 0.55257771]]\n",
      "k++\n",
      "no converge here\n",
      "k++\n",
      "no converge here\n",
      "k++\n",
      "1 [[ 0.47190665]]\n",
      "k++\n",
      "1 [[ 0.52956105]]\n",
      "k++\n",
      "no converge here\n",
      "k++\n",
      "no converge here\n",
      "k++\n",
      "nans or infs here\n",
      "no converge here\n",
      "k++\n",
      "no converge here\n",
      "k++\n",
      "no converge here\n",
      "k++\n",
      "1 [[ 0.4407033]]\n",
      "k++\n",
      "1 [[ 0.43692706]]\n",
      "k++\n",
      "no converge here\n",
      "k++\n",
      "1 [[ 0.65867356]]\n",
      "k++\n",
      "no converge here\n",
      "k++\n",
      "no converge here\n",
      "k++\n",
      "no converge here\n",
      "k++\n",
      "no converge here\n",
      "k++\n",
      "no converge here\n",
      "k++\n",
      "no converge here\n",
      "k++\n",
      "1 [[ 0.32882889]]\n",
      "k++\n",
      "1 [[ 0.31768881]]\n",
      "k++\n",
      "1 [[ 0.25341262]]\n",
      "k++\n",
      "no converge here\n",
      "k++\n",
      "no converge here\n",
      "k++\n",
      "no converge here\n",
      "k++\n",
      "no converge here\n",
      "k++\n",
      "no converge here\n",
      "k++\n",
      "1 [[ 0.21695448]]\n",
      "k++\n",
      "1 [[ 0.18269432]]\n",
      "k++\n",
      "no converge here\n",
      "k++\n",
      "no converge here\n",
      "k++\n",
      "no converge here\n",
      "k++\n",
      "no converge here\n",
      "k++\n",
      "no converge here\n",
      "k++\n",
      "no converge here\n",
      "k++\n",
      "1 [[ 0.10508007]]\n",
      "k++\n",
      "no converge here\n",
      "k++\n",
      "nans or infs here\n",
      "no converge here\n",
      "k++\n",
      "no converge here\n",
      "k++\n",
      "no converge here\n",
      "k++\n",
      "no converge here\n",
      "k++\n",
      "no converge here\n",
      "k++\n",
      "no converge here\n",
      "k++\n",
      "no converge here\n",
      "k++\n",
      "no converge here\n",
      "k++\n",
      "no converge here\n",
      "k++\n",
      "no converge here\n",
      "k++\n",
      "no converge here\n",
      "k++\n",
      "nans or infs here\n",
      "no converge here\n",
      "k++\n",
      "no converge here\n",
      "k++\n",
      "no converge here\n",
      "k++\n",
      "done 22\n"
     ]
    },
    {
     "name": "stderr",
     "output_type": "stream",
     "text": [
      "/home/segtovichisv/anaconda3/lib/python3.5/site-packages/ipykernel/__main__.py:31: RuntimeWarning: divide by zero encountered in true_divide\n",
      "/home/segtovichisv/anaconda3/lib/python3.5/site-packages/ipykernel/__main__.py:25: RuntimeWarning: divide by zero encountered in true_divide\n",
      "/home/segtovichisv/anaconda3/lib/python3.5/site-packages/ipykernel/__main__.py:13: RuntimeWarning: invalid value encountered in multiply\n",
      "/home/segtovichisv/anaconda3/lib/python3.5/site-packages/ipykernel/__main__.py:12: RuntimeWarning: invalid value encountered in multiply\n"
     ]
    }
   ],
   "source": [
    "Z1 = np.linspace(0,1,10)\n",
    "Z2 = np.linspace(0,1,10)\n",
    "Z3 = np.linspace(0,1,10)\n",
    "\n",
    "Z1[0]=1e-9\n",
    "Z2[0]=1e-9\n",
    "Z3[0]=1e-9\n",
    "Z1[-1]=1-1e-9\n",
    "Z2[-1]=1-1e-9\n",
    "Z3[-1]=1-1e-9\n",
    "\n",
    "rawZs = np.ndarray((10,10), dtype=object)\n",
    "\n",
    "flags = np.zeros((10,10))\n",
    "\n",
    "for i in range(10):\n",
    "    for j in range(10):\n",
    "        rawZs[i,j]=np.array([Z1[i],Z2[j],1-Z1[i]-Z2[j]])\n",
    "        if ( rawZs[i,j][0] + rawZs[i,j][1] +  rawZs[i,j][2] == 1 ):\n",
    "            flags[i,j] = 1\n",
    "            \n",
    "Zs = rawZs[np.where(flags==1)]\n",
    "\n",
    "npts = Zs.shape[0]\n",
    "print(npts)\n",
    "\n",
    "Resultados_beta = np.zeros([npts])\n",
    "Resultados_conv = np.zeros([npts])\n",
    "Resultados_Z = np.zeros([3,npts])\n",
    "Resultados_XI = np.zeros([3,npts])\n",
    "Resultados_XII = np.zeros([3,npts])\n",
    "\n",
    "l=0\n",
    "for k in range(npts):\n",
    "    MODEL = lambda x: Gamma(T,x,alpha,A)\n",
    "    beta0, K0 = iguess(np.array([Zs[k]]).T,MODEL)\n",
    "    #print(beta0,K0)\n",
    "    #print(Zs[k],beta0,K0)\n",
    "    #ans = ELLflash(np.array([Zs[k]]).T,beta0,K0,MODEL)\n",
    "    \n",
    "    #http://www.scipy-lectures.org/intro/language/exceptions.html\n",
    "    \n",
    "    if np.isnan(beta0) or np.isnan(K0).any():\n",
    "        pass\n",
    "    else:\n",
    "\n",
    "        try:\n",
    "            ans = ELLflash_sci(np.array([Zs[k]]).T,beta0,K0,MODEL)\n",
    "\n",
    "            #succeeds:\n",
    "\n",
    "            if (0<ans[2] and 1>ans[2] and ans[3]==1):\n",
    "                #print(ans[0][0][0],ans[0][1][0],ans[0][2][0])\n",
    "                Resultados_XI[:,l] = np.array([ans[0][0][0],ans[0][1][0],ans[0][2][0]])\n",
    "                Resultados_XII[:,l] = np.array([ans[1][0][0],ans[1][1][0],ans[1][2][0]])\n",
    "                Resultados_beta[l] = ans[2]\n",
    "                Resultados_conv[l] = ans[3]\n",
    "                print(ans[3], ans[2])\n",
    "                l+=1\n",
    "\n",
    "        except RuntimeError:\n",
    "            print('no converge here')\n",
    "            \n",
    "        except ValueError:\n",
    "            print('no converge here')\n",
    "\n",
    "        finally:\n",
    "            print('k++')\n",
    "\n",
    "\n",
    "\n",
    "\n",
    "\n",
    "print('done',l)\n",
    "    \n",
    "ndone=l-1"
   ]
  },
  {
   "cell_type": "code",
   "execution_count": 59,
   "metadata": {
    "collapsed": false
   },
   "outputs": [],
   "source": [
    "fResultados_XI = Resultados_XI[:,np.where(Resultados_conv==1)]\n",
    "fResultados_XII = Resultados_XII[:,np.where(Resultados_conv==1)]\n",
    "fResultados_beta = Resultados_beta[np.where(Resultados_conv==1)]"
   ]
  },
  {
   "cell_type": "code",
   "execution_count": 60,
   "metadata": {
    "collapsed": false
   },
   "outputs": [
    {
     "name": "stdout",
     "output_type": "stream",
     "text": [
      "[ 0.07702471  0.57482405  0.34815124]\n"
     ]
    }
   ],
   "source": [
    "print(Resultados_XI[:,3]) #ERRADO AQUI"
   ]
  },
  {
   "cell_type": "code",
   "execution_count": 61,
   "metadata": {
    "collapsed": false,
    "scrolled": false
   },
   "outputs": [
    {
     "name": "stdout",
     "output_type": "stream",
     "text": [
      "[ 0.07702471  0.57482405  0.34815124]\n"
     ]
    }
   ],
   "source": [
    "print(fResultados_XI[:,0,3]) #ERRADO AQUI"
   ]
  },
  {
   "cell_type": "code",
   "execution_count": 65,
   "metadata": {
    "collapsed": false
   },
   "outputs": [
    {
     "name": "stdout",
     "output_type": "stream",
     "text": [
      "[[  7.48370008e-05   1.12524827e-09   9.99925162e-01]\n",
      " [  5.06591277e-03   2.47727884e-01   7.47206203e-01]\n",
      " [  1.58933398e-02   3.66775725e-01   6.17330935e-01]\n",
      " [  7.70247149e-02   5.74824048e-01   3.48151237e-01]\n",
      " [  7.48370011e-05   1.28648716e-09   9.99925162e-01]\n",
      " [  1.30276003e-03   1.42079784e-01   8.56617456e-01]\n",
      " [  1.14258466e-01   6.24348866e-01   2.61392668e-01]\n",
      " [  7.48370015e-05   1.50166324e-09   9.99925161e-01]\n",
      " [  8.57318564e-02   5.88976023e-01   3.25292121e-01]\n",
      " [  1.86215592e-01   6.65385712e-01   1.48398696e-01]\n",
      " [  9.93252015e-01   7.93301105e-12   6.74798527e-03]\n",
      " [  5.69172496e-02   5.33542016e-01   4.09540734e-01]\n",
      " [  1.46831071e-01   6.49802893e-01   2.03366036e-01]\n",
      " [  9.93252015e-01   9.92684880e-12   6.74798526e-03]\n",
      " [  9.83072115e-01   1.16800539e-02   5.24783149e-03]\n",
      " [  1.03505402e-01   6.12725851e-01   2.83768747e-01]\n",
      " [  9.93252015e-01   1.32593877e-11   6.74798526e-03]\n",
      " [  9.72894280e-01   2.16028501e-02   5.50286946e-03]\n",
      " [  8.72647562e-01   1.14223499e-01   1.31289390e-02]\n",
      " [  9.93252015e-01   1.99602291e-11   6.74798525e-03]\n",
      " [  9.46904702e-01   4.61911344e-02   6.90416365e-03]]\n"
     ]
    }
   ],
   "source": [
    "test_data1 = np.zeros([ndone,3])\n",
    "test_data2 = np.zeros([ndone,3])\n",
    "\n",
    "from matplotlib import pyplot as plt\n",
    "\n",
    "for k in range(ndone):\n",
    "    #print(Resultados_XI[:,0])\n",
    "    test_data1[k,0:3] = fResultados_XI[:,0,k]\n",
    "    test_data2[k,0:3] = fResultados_XII[:,0,k]\n",
    "    #test_data[l,3] = GM[l]\n",
    "\n",
    "print(test_data1[:,:])\n",
    "    \n",
    "a=test_data1[:,0]\n",
    "b=test_data1[:,1]\n",
    "\n"
   ]
  },
  {
   "cell_type": "code",
   "execution_count": 66,
   "metadata": {
    "collapsed": false
   },
   "outputs": [
    {
     "data": {
      "image/png": "[encoded data removed]",
      "text/plain": [
       "<matplotlib.figure.Figure at 0x7fd6aa931048>"
      ]
     },
     "metadata": {},
     "output_type": "display_data"
    }
   ],
   "source": [
    "\n",
    "# barycentric coords: (a,b,c)\n",
    "a=test_data1[:,0]\n",
    "b=test_data1[:,1]\n",
    "c=test_data1[:,2]\n",
    "\n",
    "d=test_data2[:,0]\n",
    "e=test_data2[:,1]\n",
    "f=test_data2[:,2]\n",
    "\n",
    "# create a triangulation out of these points\n",
    "#Tri = tri.Triangulation(cartx,carty)\n",
    "#Tri = tri.Triangulation(a,b)\n",
    "\n",
    "# plot the contour\n",
    "#plt.tricontourf(cartx,carty,Tri.triangles,v)\n",
    "#plt.tricontourf(a,b,Tri.triangles,v)\n",
    "\n",
    "\n",
    "# create the grid\n",
    "#corners = np.array([[0, 0], [1, 0], [0.5,  np.sqrt(3)*0.5]])\n",
    "#corners = np.array([[0, 0], [1, 0], [0,1]])\n",
    "#triangle = tri.Triangulation(corners[:, 0], corners[:, 1])\n",
    "\n",
    "# creating the grid\n",
    "#refiner = tri.UniformTriRefiner(triangle)\n",
    "#trimesh = refiner.refine_triangulation(subdiv=4)\n",
    "\n",
    "#plotting the mesh\n",
    "#plt.triplot(trimesh,'k--')\n",
    "\n",
    "plt.scatter(a,b)\n",
    "plt.scatter(d,e)\n",
    "plt.title('phase diagram')\n",
    "#plt.axis('off')\n",
    "plt.show()"
   ]
  },
  {
   "cell_type": "code",
   "execution_count": 67,
   "metadata": {
    "collapsed": false
   },
   "outputs": [],
   "source": [
    "#determinar pto crítico\n",
    "xcrit=0.4 #aprox.\n",
    "\n",
    "\n",
    "#refiltrar a e b\n",
    "\n",
    "al=a[np.where(a<=0.4)]\n",
    "ar=a[np.where(a>0.4)]\n",
    "dl=d[np.where(d<=0.4)]\n",
    "dr=d[np.where(d>0.4)]\n",
    "\n",
    "bl=b[np.where(a<=0.4)]\n",
    "br=b[np.where(a>0.4)]\n",
    "el=e[np.where(d<=0.4)]\n",
    "er=e[np.where(d>0.4)]"
   ]
  },
  {
   "cell_type": "code",
   "execution_count": 68,
   "metadata": {
    "collapsed": false,
    "scrolled": true
   },
   "outputs": [
    {
     "data": {
      "image/png": "[encoded data removed]",
      "text/plain": [
       "<matplotlib.figure.Figure at 0x7fd6d51d5cf8>"
      ]
     },
     "metadata": {},
     "output_type": "display_data"
    },
    {
     "name": "stdout",
     "output_type": "stream",
     "text": [
      "[  7.48370008e-05   5.06591277e-03   1.58933398e-02   7.70247149e-02\n",
      "   7.48370011e-05   1.30276003e-03   1.14258466e-01   7.48370015e-05\n",
      "   8.57318564e-02   1.86215592e-01   5.69172496e-02   1.46831071e-01\n",
      "   1.03505402e-01   7.48370021e-05   7.48370030e-05   4.61002938e-03\n",
      "   7.48370046e-05   8.97108921e-03   5.98194817e-02   7.48370076e-05\n",
      "   2.11675160e-02]\n"
     ]
    }
   ],
   "source": [
    "Ly = np.concatenate((al,dl),axis=0)\n",
    "Lx = np.concatenate((bl,el),axis=0)\n",
    "\n",
    "Ry = np.concatenate((ar,dr),axis=0)\n",
    "Rx = np.concatenate((br,er),axis=0)\n",
    "\n",
    "sLy=np.sort(Ly)\n",
    "sLx=np.sort(Lx)\n",
    "sRy=np.sort(Ry)\n",
    "sRx=-np.sort(-Rx)\n",
    "\n",
    "plt.plot(sLy,sLx)\n",
    "plt.plot(sRy,sRx)\n",
    "\n",
    "plt.show()\n",
    "\n",
    "print(Ly)\n",
    "\n",
    "#now the tielines\n",
    "\n"
   ]
  },
  {
   "cell_type": "code",
   "execution_count": 69,
   "metadata": {
    "collapsed": false
   },
   "outputs": [
    {
     "name": "stdout",
     "output_type": "stream",
     "text": [
      "(21,) (21,) (21,) (21,)\n",
      "(13,) (13,) (8,) (8,)\n",
      "(8,) (8,) (13,) (13,)\n"
     ]
    },
    {
     "data": {
      "image/png": "[encoded data removed]",
      "text/plain": [
       "<matplotlib.figure.Figure at 0x7fd6d51993c8>"
      ]
     },
     "metadata": {},
     "output_type": "display_data"
    },
    {
     "name": "stdout",
     "output_type": "stream",
     "text": [
      "(8,)\n",
      "(8,)\n",
      "7.48370007603e-05 1.12524826851e-09 0.999925161874 0.993252014725\n",
      "0.00506591277228 0.247727883814 0.747206203414 0.981978188027\n",
      "0.015893339781 0.366775725052 0.617330935167 0.957807899682\n",
      "0.0770247148998 0.574824048076 0.348151237023 0.840174686881\n",
      "7.4837001084e-05 1.28648715711e-09 0.999925161712 0.993252014726\n",
      "0.00130276003047 0.142079784095 0.856617455875 0.991109811995\n",
      "0.114258465709 0.624348866132 0.261392668269 0.769367500288\n",
      "7.48370015161e-05 1.50166323705e-09 0.999925161497 0.993252014726\n",
      "0.0857318563661 0.588976022679 0.325292120962 0.823654339316\n",
      "0.186215592176 0.66538571166 0.148398696183 0.641196168312\n",
      "0.993252014727 7.93301104717e-12 0.0067479852654 7.48370021217e-05\n",
      "0.0569172495758 0.533542016044 0.409540734381 0.878111862091\n",
      "0.146831070799 0.649802893405 0.203366035582 0.708831203072\n",
      "0.993252014728 9.92684879913e-12 0.00674798526246 7.48370030318e-05\n",
      "0.983072114647 0.0116800538668 0.00524783148756 0.00461002938226\n",
      "0.103505401612 0.612725851293 0.283768746998 0.789809174892\n",
      "0.993252014729 1.32593876736e-11 0.00674798525755 7.48370045529e-05\n",
      "0.972894280453 0.0216028500901 0.00550286945974 0.00897108920704\n",
      "0.872647562328 0.11422349859 0.0131289390047 0.0598194816642\n",
      "0.993252014732 1.99602290577e-11 0.00674798524767 7.48370076114e-05\n",
      "0.946904701908 0.0461911344493 0.00690416365365 0.0211675159804\n"
     ]
    }
   ],
   "source": [
    "print(a.shape,b.shape,d.shape,e.shape)\n",
    "print(al.shape,bl.shape,dl.shape,el.shape)\n",
    "print(ar.shape,br.shape,dr.shape,er.shape)\n",
    "\n",
    "plt.axis([0,1,0,1])\n",
    "#plt.scatter(d,e)\n",
    "#plt.scatter(a,b)\n",
    "#plt.scatter(a[np.where(a>.4)],b[np.where(a>.4)])\n",
    "#plt.scatter(a[np.where(a<.4)],b[np.where(a<.4)])\n",
    "#plt.scatter(d[np.where(d>.4)],e[np.where(d>.4)])\n",
    "#plt.scatter(d[np.where(d<.4)],e[np.where(d<.4)])\n",
    "for i in range(ndone):\n",
    "    plt.plot([a[i],d[i]],[b[i],e[i]])\n",
    "    \n",
    "plt.scatter(Ly,Lx)    \n",
    "plt.scatter(Ry,Rx)    \n",
    "\n",
    "plt.show()\n",
    "print(a[np.where(a>.4)].shape)\n",
    "print(d[np.where(d<.4)].shape)\n",
    "\n",
    "for i in range(ndone):\n",
    "    print(a[i],b[i],c[i],d[i])"
   ]
  },
  {
   "cell_type": "code",
   "execution_count": null,
   "metadata": {
    "collapsed": true
   },
   "outputs": [],
   "source": []
  },
  {
   "cell_type": "code",
   "execution_count": null,
   "metadata": {
    "collapsed": true
   },
   "outputs": [],
   "source": []
  },
  {
   "cell_type": "code",
   "execution_count": null,
   "metadata": {
    "collapsed": true
   },
   "outputs": [],
   "source": []
  },
  {
   "cell_type": "code",
   "execution_count": null,
   "metadata": {
    "collapsed": true
   },
   "outputs": [],
   "source": []
  },
  {
   "cell_type": "code",
   "execution_count": null,
   "metadata": {
    "collapsed": true
   },
   "outputs": [],
   "source": []
  },
  {
   "cell_type": "code",
   "execution_count": null,
   "metadata": {
    "collapsed": true
   },
   "outputs": [],
   "source": []
  },
  {
   "cell_type": "code",
   "execution_count": null,
   "metadata": {
    "collapsed": true
   },
   "outputs": [],
   "source": []
  },
  {
   "cell_type": "code",
   "execution_count": null,
   "metadata": {
    "collapsed": true
   },
   "outputs": [],
   "source": []
  }
 ],
 "metadata": {
  "anaconda-cloud": {},
  "kernelspec": {
   "display_name": "Python [conda root]",
   "language": "python",
   "name": "conda-root-py"
  },
  "language_info": {
   "codemirror_mode": {
    "name": "ipython",
    "version": 3
   },
   "file_extension": ".py",
   "mimetype": "text/x-python",
   "name": "python",
   "nbconvert_exporter": "python",
   "pygments_lexer": "ipython3",
   "version": "3.5.2"
  }
 },
 "nbformat": 4,
 "nbformat_minor": 1
}
