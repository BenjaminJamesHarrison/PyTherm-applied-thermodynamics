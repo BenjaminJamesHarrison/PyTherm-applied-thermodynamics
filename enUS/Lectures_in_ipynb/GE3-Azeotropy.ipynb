{
 "cells": [
  {
   "cell_type": "markdown",
   "metadata": {
    "collapsed": false
   },
   "source": [
    "# The Non Random Two Liquids (NRTL) model for *excess Gibbs energy* ($g^E$) and a case study of the Liquid-Liquid equilibria of water+acetone."
   ]
  },
  {
   "cell_type": "markdown",
   "metadata": {},
   "source": [
    "## Fitted parameters\n",
    "from Understanding Distillation Using Column Profile Maps, Author(s): Daniel Beneke, Mark Peters, David Glasser, Diane Hildebrandt\n",
    "\n",
    "http://onlinelibrary.wiley.com/doi/10.1002/9781118477304.app2/pdf\n",
    "\n",
    "ran at 293.15K"
   ]
  },
  {
   "cell_type": "code",
   "execution_count": 14,
   "metadata": {
    "collapsed": true
   },
   "outputs": [],
   "source": [
    "# Acetone (1) + water (2)\n",
    "\n",
    "\n",
    "alpha12 = 0.3\n",
    "\n",
    "Dg12 = 3623.69184608 #J/mol\n",
    "Dg21 = 553.52435239 #J/mol\n",
    "\n",
    "#alpha = 0.4\n",
    "\n",
    "# 6 binary Aij parameters\n",
    "#Dg12 = 12.2e3 #J/mol\n",
    "#Dg21 = 3e3 #J/mol"
   ]
  },
  {
   "cell_type": "markdown",
   "metadata": {
    "collapsed": true
   },
   "source": [
    "## Feeding the fitted parameters to the model in matrix structure:\n",
    "we will assemble the parameters in a matrix structure so that we can access each parameter by its index, as in\n",
    "`A[0,0]` and `A[0,1]`rather than as `A11` and `A12`, so we can loop trough all of them using an iterator, see below:"
   ]
  },
  {
   "cell_type": "code",
   "execution_count": 15,
   "metadata": {
    "collapsed": true
   },
   "outputs": [],
   "source": [
    "import numpy as np\n",
    "from scipy.constants import R"
   ]
  },
  {
   "cell_type": "code",
   "execution_count": 16,
   "metadata": {
    "collapsed": false
   },
   "outputs": [],
   "source": [
    "#assemble matrix with regressed parameters Dg_i,j, according to the model all diagonal terms are zero\n",
    "Dg = np.array([[0, Dg12],\n",
    "             [Dg21, 0]])\n",
    "\n",
    "A = Dg/R\n",
    "\n",
    "#assemble symmetric matrix alpha\n",
    "alpha = np.array([[0, alpha12],\n",
    "                [alpha12, 0]])"
   ]
  },
  {
   "cell_type": "code",
   "execution_count": 17,
   "metadata": {
    "collapsed": false
   },
   "outputs": [],
   "source": [
    "from numba import jit\n",
    "@jit\n",
    "def Gamma(T,c_x,q_alpha, q_A):\n",
    "    #note that we used many lines for didatics\n",
    "    #we can do it in few lines:\n",
    "    #note that some expression occur more than once below\n",
    "    #so it may be useful define it as a intermediary recurrent term here\n",
    "    #and calculate it once to use it then several times\n",
    "    q_tau     = q_A/T\n",
    "    q_G       = np.exp(-(q_alpha*q_tau))\n",
    "    l_D       = ((1/((q_G.T) @ c_x)).T)\n",
    "    q_E       = (q_tau*q_G) * l_D \n",
    "    gamma     = np.exp(((q_E+(q_E.T))-(((q_G * l_D) * (c_x.T)) @ (q_E.T))) @ c_x)\n",
    "    return gamma"
   ]
  },
  {
   "cell_type": "code",
   "execution_count": 18,
   "metadata": {
    "collapsed": false
   },
   "outputs": [
    {
     "name": "stdout",
     "output_type": "stream",
     "text": [
      "[[ 1.72437107]\n",
      " [ 1.18508641]]\n"
     ]
    }
   ],
   "source": [
    "#test it to see that the results are the same\n",
    "T=293.15\n",
    "x=np.array([.4,.6]) #normalized\n",
    "x_as_column = np.array([x]).T\n",
    "print(Gamma(T,x_as_column,alpha,A)) #test using those trial input"
   ]
  },
  {
   "cell_type": "code",
   "execution_count": 19,
   "metadata": {
    "collapsed": false
   },
   "outputs": [
    {
     "name": "stdout",
     "output_type": "stream",
     "text": [
      "2373.27142449\n",
      "24781.8761627\n",
      "101333.212771\n"
     ]
    }
   ],
   "source": [
    "#Calculo de Psat com a Equação de Antoine\n",
    "#Pressões de saturação para entrar em yi.Pbol = xi*Gammai*P_sati\n",
    "#T = 373\n",
    "\n",
    "def PantoineW(T):\n",
    "    Aw = 16.3872\n",
    "    Bw = 3885.70\n",
    "    Cw = 230.170\n",
    "    return (np.exp(Aw - Bw/(T-273 + Cw)))*1000\n",
    "PsatAw = PantoineW(T)\n",
    "print (PsatAw)\n",
    "\n",
    "def PantoineA(T):\n",
    "    Aa = 14.3145\n",
    "    Ba = 2756.22\n",
    "    Ca = 228.06\n",
    "    return (np.exp(Aa - Ba/(T-273 + Ca)))*1000\n",
    "PsatAa = PantoineA(T)\n",
    "print (PsatAa)\n",
    "\n",
    "PsatAw = PantoineW(373)\n",
    "print (PsatAw)"
   ]
  },
  {
   "cell_type": "code",
   "execution_count": 20,
   "metadata": {
    "collapsed": true
   },
   "outputs": [],
   "source": [
    "import matplotlib.pyplot as plt\n",
    "def Pbol(x,T):\n",
    "    y_out = np.zeros(2)\n",
    "    gammas = Gamma(T,x,alpha,A)\n",
    "    Psati = ([PsatAw,PsatAa])\n",
    "    Pbol_=0\n",
    "    for i in range(0,2):\n",
    "#        print(i,Pbol_)\n",
    "        Pbol_ += x[i]*gammas[i]*Psati[i]\n",
    "    \n",
    "    #calculo das composicoes do vapor\n",
    "    for i in range(0,2):\n",
    "        y_out[i] = x[i]*gammas[i]*Psati[i]/Pbol_\n",
    "        \n",
    "        \n",
    "#    print(y_out, Gamma, x, Psati, Pbol_)\n",
    "    return [y_out, Pbol_]\n",
    "\n",
    "def Pbol_MisturaIDEAL(x,T):\n",
    "    y_out = np.zeros(2)\n",
    "    gammas = [1,1]\n",
    "    Psati = ([PsatAw,PsatAa])\n",
    "    Pbol_=0\n",
    "    for i in range(0,2):\n",
    "#        print(i,Pbol_)\n",
    "        Pbol_ += x[i]*gammas[i]*Psati[i]\n",
    "    \n",
    "    #calculo das composicoes do vapor\n",
    "    for i in range(0,2):\n",
    "        y_out[i] = x[i]*gammas[i]*Psati[i]/Pbol_\n",
    "        \n",
    "        \n",
    "#    print(y_out, Gamma, x, Psati, Pbol_)\n",
    "    return [y_out, Pbol_]\n",
    "\n"
   ]
  },
  {
   "cell_type": "code",
   "execution_count": 21,
   "metadata": {
    "collapsed": false
   },
   "outputs": [
    {
     "data": {
      "image/png": "[encoded data removed]",
      "text/plain": [
       "<matplotlib.figure.Figure at 0x7f55fc2c2f28>"
      ]
     },
     "metadata": {},
     "output_type": "display_data"
    },
    {
     "name": "stdout",
     "output_type": "stream",
     "text": [
      "comportamento tipo azeotropia de máximo em P indica tipo azeotropia de mńimo em T\n"
     ]
    }
   ],
   "source": [
    "xwaxis = np.linspace (0,1,100)\n",
    "P_axis = np.zeros(100)\n",
    "ywaxis = np.zeros(100)\n",
    "for i in range (0,100):\n",
    "    xa = 1-xwaxis[i]\n",
    "    x_ = np.array([[xwaxis[i],xa]]).T\n",
    "    y_, P_axis[i] = Pbol(x_,T)\n",
    "    ywaxis[i] = y_[0]\n",
    "\n",
    "plt.figure(1)\n",
    "plt.plot(xwaxis,P_axis)\n",
    "plt.plot(ywaxis,P_axis)\n",
    "\n",
    "xwaxis = np.linspace (0,1,100)\n",
    "P_axis = np.zeros(100)\n",
    "ywaxis = np.zeros(100)\n",
    "for i in range (0,100):\n",
    "    xa = 1-xwaxis[i]\n",
    "    x_ = [xwaxis[i],xa]\n",
    "    y_, P_axis[i] = Pbol_MisturaIDEAL(x_,T)\n",
    "    ywaxis[i] = y_[0]\n",
    "\n",
    "plt.plot(xwaxis,P_axis)\n",
    "plt.plot(ywaxis,P_axis)\n",
    "\n",
    "labels = [r'$P_{bub}(x_W)$', r'$P_{dew}(y_W),$,',r'$P^{ideal}_{bub}(x_W)$', r'$P^{ideal}_{dew}(y_W),$']\n",
    "plt.legend(labels, loc=4)\n",
    "\n",
    "plt.ylabel(r'$Pressure$')\n",
    "plt.xlabel(r'$mole fraction$')\n",
    "\n",
    "plt.show()\n",
    "\n",
    "print(\"comportamento tipo azeotropia de máximo em P indica tipo azeotropia de mńimo em T\")\n",
    "\n",
    "#min em T aqui: http://www.ddbst.com/en/EED/VLE/VLE%20Acetone%3BWater.php\n",
    "\n"
   ]
  },
  {
   "cell_type": "code",
   "execution_count": 22,
   "metadata": {
    "collapsed": true
   },
   "outputs": [],
   "source": [
    "# exp data rip of http://www.ddbst.com/en/EED/VLE/VLE%20Acetone%3BWater.php"
   ]
  },
  {
   "cell_type": "code",
   "execution_count": 23,
   "metadata": {
    "collapsed": true
   },
   "outputs": [],
   "source": [
    "table101=np.loadtxt('dados101.txt', skiprows=1)\n",
    "table344=np.loadtxt('dados344.txt', skiprows=1)\n",
    "table689=np.loadtxt('dados689.txt', skiprows=1)\n",
    "iA=1\n",
    "iW=2"
   ]
  },
  {
   "cell_type": "code",
   "execution_count": 24,
   "metadata": {
    "collapsed": false
   },
   "outputs": [
    {
     "name": "stdout",
     "output_type": "stream",
     "text": [
      "T,xA,yA\n",
      "[[  3.68250000e+02   8.00000000e-03   1.38000000e-01]\n",
      " [  3.63250000e+02   1.60000000e-02   2.77000000e-01]\n",
      " [  3.55250000e+02   3.30000000e-02   4.79000000e-01]\n",
      " [  3.49350000e+02   5.20000000e-02   6.04000000e-01]\n",
      " [  3.45350000e+02   7.20000000e-02   6.75000000e-01]\n",
      " [  3.42650000e+02   9.40000000e-02   7.19000000e-01]\n",
      " [  3.40750000e+02   1.17000000e-01   7.38000000e-01]\n",
      " [  3.38150000e+02   1.71000000e-01   7.76000000e-01]\n",
      " [  3.36450000e+02   2.37000000e-01   8.00000000e-01]\n",
      " [  3.35150000e+02   3.18000000e-01   8.22000000e-01]\n",
      " [  3.34150000e+02   4.20000000e-01   8.39000000e-01]\n",
      " [  3.33050000e+02   5.54000000e-01   8.63000000e-01]\n",
      " [  3.31350000e+02   7.36000000e-01   9.09000000e-01]]\n",
      "[[  3.95650000e+02   1.70000000e-02   3.49000000e-01]\n",
      " [  3.93150000e+02   2.40000000e-02   3.98000000e-01]\n",
      " [  3.85150000e+02   5.50000000e-02   5.18000000e-01]\n",
      " [  3.79150000e+02   1.07000000e-01   6.08000000e-01]\n",
      " [  3.75950000e+02   1.94000000e-01   6.70000000e-01]\n",
      " [  3.74450000e+02   2.73000000e-01   6.95000000e-01]\n",
      " [  3.73050000e+02   3.88000000e-01   7.18000000e-01]\n",
      " [  3.72150000e+02   5.45000000e-01   7.47000000e-01]\n",
      " [  3.71950000e+02   6.33000000e-01   7.68000000e-01]\n",
      " [  3.71750000e+02   7.78000000e-01   8.30000000e-01]\n",
      " [  3.71550000e+02   8.90000000e-01   9.03000000e-01]\n",
      " [  3.71350000e+02   9.50000000e-01   9.51000000e-01]]\n",
      "[[  4.23850000e+02   1.40000000e-02   2.49000000e-01]\n",
      " [  4.15450000e+02   3.60000000e-02   3.95000000e-01]\n",
      " [  4.09550000e+02   7.80000000e-02   5.07000000e-01]\n",
      " [  4.04250000e+02   1.44000000e-01   5.82000000e-01]\n",
      " [  4.02750000e+02   2.29000000e-01   6.18000000e-01]\n",
      " [  4.02150000e+02   3.41000000e-01   6.50000000e-01]\n",
      " [  4.01450000e+02   4.44000000e-01   6.65000000e-01]\n",
      " [  3.99750000e+02   5.59000000e-01   7.00000000e-01]\n",
      " [  3.98850000e+02   7.54000000e-01   7.81000000e-01]\n",
      " [  3.98550000e+02   8.42000000e-01   8.45000000e-01]\n",
      " [  3.99150000e+02   9.25000000e-01   9.12000000e-01]]\n"
     ]
    }
   ],
   "source": [
    "print(\"T,xA,yA\")\n",
    "print(table101)\n",
    "print(table344)\n",
    "print(table689)"
   ]
  },
  {
   "cell_type": "code",
   "execution_count": 25,
   "metadata": {
    "collapsed": false
   },
   "outputs": [
    {
     "name": "stdout",
     "output_type": "stream",
     "text": [
      "13\n",
      "12\n",
      "11\n",
      "101000.0 26784.5936256 0.981611088473 % na escala log\n",
      "101000.0 28778.0703096 0.963045063085 % na escala log\n",
      "101000.0 32938.6384982 0.923593149913 % na escala log\n",
      "101000.0 37403.5582566 0.880380438791 % na escala log\n",
      "101000.0 41845.1300941 0.836626483794 % na escala log\n",
      "101000.0 46402.1248627 0.791017925572 % na escala log\n",
      "101000.0 50815.1107131 0.74611481535 % na escala log\n",
      "101000.0 59873.542994 0.651478865236 % na escala log\n",
      "101000.0 68798.0910119 0.554483952733 % na escala log\n",
      "101000.0 77160.1489478 0.459565176263 % na escala log\n",
      "101000.0 84639.900205 0.371258815778 % na escala log\n",
      "101000.0 91090.9206656 0.293092730939 % na escala log\n",
      "101000.0 96803.9897739 0.211105777337 % na escala log\n",
      "344000.0 28751.9237983 0.991605743001 % na escala log\n",
      "344000.0 30352.4246428 0.988237110367 % na escala log\n",
      "344000.0 37133.2718826 0.974155966303 % na escala log\n",
      "344000.0 47204.298124 0.954243769967 % na escala log\n",
      "344000.0 60625.9771533 0.931026917044 % na escala log\n",
      "344000.0 69844.1348162 0.919000484598 % na escala log\n",
      "344000.0 79534.8947095 0.913472546649 % na escala log\n",
      "344000.0 88081.8378076 0.92223543676 % na escala log\n",
      "344000.0 91507.0074923 0.932530435933 % na escala log\n",
      "344000.0 96192.445578 0.954349628414 % na escala log\n",
      "344000.0 99342.2845169 0.974392510752 % na escala log\n",
      "344000.0 100684.062455 0.987105520014 % na escala log\n",
      "689000.0 27901.0116335 0.996912572032 % na escala log\n",
      "689000.0 32655.6852095 0.992262656365 % na escala log\n",
      "689000.0 40962.3416391 0.984489926477 % na escala log\n",
      "689000.0 52112.7717519 0.975034239662 % na escala log\n",
      "689000.0 63342.3839753 0.967480058344 % na escala log\n",
      "689000.0 74127.6897171 0.963577349077 % na escala log\n",
      "689000.0 81235.3970977 0.964354677896 % na escala log\n",
      "689000.0 87142.8878718 0.968509819586 % na escala log\n",
      "689000.0 94475.9706121 0.980256524452 % na escala log\n",
      "689000.0 97317.9725707 0.986528202266 % na escala log\n",
      "689000.0 99720.4548994 0.993042575399 % na escala log\n",
      "0.857727193184\n"
     ]
    }
   ],
   "source": [
    "nlines=0\n",
    "nP=0\n",
    "tables=[table101,table344,table689]\n",
    "\n",
    "for i in range(3):\n",
    "    nlines = tables[i].shape[0]\n",
    "    print(nlines)\n",
    "    nP += nlines\n",
    "\n",
    "Pcalc=np.zeros(nP)\n",
    "ycalc=np.zeros(nP)\n",
    "\n",
    "Pcalc_ideal=np.zeros(nP)\n",
    "ycalc_ideal=np.zeros(nP)\n",
    "\n",
    "Pexp_levels=[101,344,689]\n",
    "Pexp=np.zeros(nP)\n",
    "yexp=np.zeros(nP)\n",
    "Texp=np.zeros(nP)\n",
    "xexp=np.zeros([nP,2])\n",
    "metrics=np.zeros(nP)\n",
    "residuolog=np.zeros(nP)\n",
    "P_calc_ideal=np.zeros(nP)\n",
    "k=0\n",
    "summres=0\n",
    "for i in range(3):\n",
    "    nlines = tables[i].shape[0]\n",
    "    for j in range(nlines):\n",
    "        Pexp[k]=Pexp_levels[i]*1000\n",
    "        yexp[k]=tables[i][j][2]\n",
    "        xA = tables[i][j][1]\n",
    "        xexp[k,:] = [xA,1-xA]\n",
    "        Texp[k] = tables[i][j][0]\n",
    "        ans=Pbol(xexp[k,:],Texp[k])\n",
    "        ycalc[k]=ans[0][0]\n",
    "        Pcalc[k]=ans[1]\n",
    "        \n",
    "        ans=Pbol_MisturaIDEAL(xexp[k,:],Texp[k])\n",
    "        ycalc_ideal[k]=ans[0][0]\n",
    "        Pcalc_ideal[k]=ans[1]\n",
    "        \n",
    "        dpnrtl= Pcalc[k]-Pexp[k] # close to zero\n",
    "        dpideal = Pcalc_ideal[k]-Pexp[k] # propagation of non ideality of liquid phase interactions into equilibrium pressure of the system\n",
    "        \n",
    "        # metrics we want \n",
    "\n",
    "        # some res which is zero for total fit\n",
    "        # is 0-1 for better than IG\n",
    "        # is more than 1 for worse then IG\n",
    "        \n",
    "        metrics[k] = np.abs(dpnrtl/dpideal)\n",
    "        \n",
    "        #residuolog[k] = (np.log(Pexp[k])-np.log(Pcalc[k]))*100/np.log((Pexp[k]))\n",
    "        \n",
    "        #summres += np.abs(residuolog[k])\n",
    "        \n",
    "        summres += np.abs(metrics[k])\n",
    "        \n",
    "        print(Pexp[k],Pcalc[k],metrics[k],\"% na escala log\")\n",
    "        k+=1\n",
    "\n",
    "#all metrics bigger than 1 when signla reversed in NRTL model\n",
    "# average metrics of 0.7 with correct implementation\n",
    "        \n",
    "print(summres/nP)\n",
    "plt.show()"
   ]
  },
  {
   "cell_type": "code",
   "execution_count": null,
   "metadata": {
    "collapsed": true
   },
   "outputs": [],
   "source": []
  },
  {
   "cell_type": "code",
   "execution_count": null,
   "metadata": {
    "collapsed": true
   },
   "outputs": [],
   "source": []
  },
  {
   "cell_type": "code",
   "execution_count": null,
   "metadata": {
    "collapsed": true
   },
   "outputs": [],
   "source": []
  }
 ],
 "metadata": {
  "anaconda-cloud": {},
  "kernelspec": {
   "display_name": "Python [conda root]",
   "language": "python",
   "name": "conda-root-py"
  },
  "language_info": {
   "codemirror_mode": {
    "name": "ipython",
    "version": 3
   },
   "file_extension": ".py",
   "mimetype": "text/x-python",
   "name": "python",
   "nbconvert_exporter": "python",
   "pygments_lexer": "ipython3",
   "version": "3.5.2"
  }
 },
 "nbformat": 4,
 "nbformat_minor": 1
}
