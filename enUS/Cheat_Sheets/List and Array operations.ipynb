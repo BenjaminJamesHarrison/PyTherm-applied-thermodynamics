{
 "cells": [
  {
   "cell_type": "markdown",
   "metadata": {},
   "source": [
    "# python Lists, numpy.arrays and operations with those"
   ]
  },
  {
   "cell_type": "markdown",
   "metadata": {},
   "source": [
    "# LISTS"
   ]
  },
  {
   "cell_type": "code",
   "execution_count": 1,
   "metadata": {
    "collapsed": false
   },
   "outputs": [
    {
     "name": "stdout",
     "output_type": "stream",
     "text": [
      "[1, 2, 3]\n",
      "1\n",
      "2\n",
      "3\n",
      "[1, 2, 3, 1, 2, 3]\n",
      "2.5\n",
      "5.0\n",
      "7.5\n"
     ]
    }
   ],
   "source": [
    "list1=[1,2,3]\n",
    "print(list1)\n",
    "print(list1[0])\n",
    "print(list1[1])\n",
    "print(list1[2])\n",
    "print(list1+list1) #list addition = concatenation\n",
    "#print(list1*list1) #no such thing as list multiplication\n",
    "print(2.5*list1[0])\n",
    "print(2.5*list1[1])\n",
    "print(2.5*list1[2])\n",
    "# print(2.5*list1) #No automatic broadcasting of multiplication of scalar throughout elements in a list"
   ]
  },
  {
   "cell_type": "markdown",
   "metadata": {},
   "source": [
    "# NumPy ARRAYS"
   ]
  },
  {
   "cell_type": "code",
   "execution_count": 2,
   "metadata": {
    "collapsed": false
   },
   "outputs": [
    {
     "name": "stdout",
     "output_type": "stream",
     "text": [
      "[1 2 3]\n",
      "1\n",
      "2\n",
      "3\n",
      "[2 4 6]\n",
      "2.5\n",
      "5.0\n",
      "7.5\n",
      "[ 2.5  5.   7.5]\n",
      "[1 4 9]\n"
     ]
    }
   ],
   "source": [
    "import numpy as np\n",
    "array1=np.array([1,2,3])\n",
    "print(array1)\n",
    "print(array1[0])\n",
    "print(array1[1])\n",
    "print(array1[2])\n",
    "print(array1+array1) #element wise addition\n",
    "print(2.5*array1[0])\n",
    "print(2.5*array1[1])\n",
    "print(2.5*array1[2])\n",
    "print(2.5*array1) #automatic broadcasting of multiplication of scalar throughout elements in a list\n",
    "print(array1*array1) #element wise multiplication"
   ]
  },
  {
   "cell_type": "markdown",
   "metadata": {},
   "source": [
    "# Views and Copies"
   ]
  },
  {
   "cell_type": "code",
   "execution_count": 3,
   "metadata": {
    "collapsed": false
   },
   "outputs": [
    {
     "name": "stdout",
     "output_type": "stream",
     "text": [
      "[ 0.  0.  0.]\n",
      "see, if they share memory\n",
      "[ 0.  0.  0.]\n",
      "[ 0.  0.  0.] share mem?= True\n",
      "[ 0.  0.  0.] share mem?= True\n",
      "[ 0.  0.  0.] share mem?= True\n",
      "[ 0.  0.  0.] share mem?= False\n",
      "[ 0.  0.  0.] share mem?= False\n",
      "[ 0.  0.  0.] share mem?= True\n",
      "[ 0.  0.  0.] share mem?= False\n",
      "see, if they shared memory, after the increment they all have the same values because the same memory was incremented several time\n",
      "[ 17.  17.  17.] original\n",
      "[ 17.  17.  17.] pointer share mem?= True\n",
      "[ 17.  17.  17.] pointer share mem?= True\n",
      "[ 17.  17.  17.] pointer share mem?= True\n",
      "[ 5.  5.  5.] independent share mem?= False\n",
      "[ 7.  7.  7.] independent share mem?= False\n",
      "[ 17.  17.  17.] pointer share mem?= True\n",
      "[ 13.  13.  13.] independent share mem?= False\n",
      "see, if they shared memory, after the assignment to a slice they all have the same values because the same memory was incremented several time\n",
      "[ 11.  11.  11.] original\n",
      "[ 11.  11.  11.] pointer share mem?= True\n",
      "[ 11.  11.  11.] pointer share mem?= True\n",
      "[ 11.  11.  11.] pointer share mem?= True\n",
      "[ 5.  5.  5.] independent share mem?= False\n",
      "[ 7.  7.  7.] independent share mem?= False\n",
      "[ 11.  11.  11.] pointer share mem?= True\n",
      "[ 13.  13.  13.] independent share mem?= False\n",
      "see this operation behaves diffrently, the right hand side creates a new object with the result of the sum, the left hand side is then a new object with that result\n",
      "[ 11.  11.  11.] original\n",
      "[ 12.  12.  12.] not pointer anymore share mem?= False\n",
      "[ 13.  13.  13.] not pointer anymore share mem?= False\n",
      "[ 14.  14.  14.] not pointer anymore share mem?= False\n",
      "[ 10.  10.  10.] independent share mem?= False\n",
      "[ 14.  14.  14.] independent share mem?= False\n",
      "[ 22.  22.  22.] not pointer anymore share mem?= False\n",
      "[ 26.  26.  26.] independent share mem?= False\n"
     ]
    }
   ],
   "source": [
    "#original array\n",
    "c0=np.zeros(3)\n",
    "print(c0)\n",
    "\n",
    "#views(pointers) or copies(independently allocated memories)?\n",
    "wild1=c0 #obj wild1 not previously defined\n",
    "wild2=c0[:] #obj wild2 not previously defined\n",
    "wild4=c0.copy() #obj wild4 not previously defined\n",
    "wild3=np.zeros(3);wild3=c0 #obj wild3 defined with zeros\n",
    "wild6=np.zeros(3);wild6=c0[:] #obj wild6 defined with zeros\n",
    "wild5=np.zeros(3);wild5[:]=c0[:] #obj wild5 defined with zeros\n",
    "wild7=np.zeros(3);wild7[:]=c0 #obj wild5 defined with zeros\n",
    "\n",
    "print(\"see, if they share memory\")\n",
    "print(c0)\n",
    "print(wild1,\"share mem?=\",np.may_share_memory(c0, wild1))\n",
    "print(wild2,\"share mem?=\",np.may_share_memory(c0, wild2))\n",
    "print(wild3,\"share mem?=\",np.may_share_memory(c0, wild3))\n",
    "print(wild4,\"share mem?=\",np.may_share_memory(c0, wild4))\n",
    "print(wild5,\"share mem?=\",np.may_share_memory(c0, wild5))\n",
    "print(wild6,\"share mem?=\",np.may_share_memory(c0, wild6))\n",
    "print(wild7,\"share mem?=\",np.may_share_memory(c0, wild7))\n",
    "\n",
    "c0    +=0\n",
    "wild1 +=1\n",
    "wild2 +=2\n",
    "wild3 +=3\n",
    "wild4 +=5\n",
    "wild5 +=7\n",
    "wild6 +=11\n",
    "wild7 +=13\n",
    "\n",
    "\n",
    "print(\"see, if they shared memory, after the increment they all have the same values because the same memory was incremented several time\")\n",
    "print(c0, \"original\")\n",
    "print(wild1, \"pointer\",\"share mem?=\",np.may_share_memory(c0, wild1))\n",
    "print(wild2, \"pointer\",\"share mem?=\",np.may_share_memory(c0, wild2))\n",
    "print(wild3, \"pointer\",\"share mem?=\",np.may_share_memory(c0, wild3))\n",
    "print(wild4, \"independent\",\"share mem?=\",np.may_share_memory(c0, wild4))\n",
    "print(wild5, \"independent\",\"share mem?=\",np.may_share_memory(c0, wild5))\n",
    "print(wild6, \"pointer\",\"share mem?=\",np.may_share_memory(c0, wild6))\n",
    "print(wild7, \"independent\",\"share mem?=\",np.may_share_memory(c0, wild7))\n",
    "\n",
    "c0[:]    =0\n",
    "wild1[:] =1\n",
    "wild2[:] =2\n",
    "wild3[:] =3\n",
    "wild4[:] =5\n",
    "wild5[:] =7\n",
    "wild6[:] =11\n",
    "wild7[:] =13\n",
    "\n",
    "\n",
    "print(\"see, if they shared memory, after the assignment to a slice they all have the same values because the same memory was incremented several time\")\n",
    "print(c0, \"original\")\n",
    "print(wild1, \"pointer\",\"share mem?=\",np.may_share_memory(c0, wild1))\n",
    "print(wild2, \"pointer\",\"share mem?=\",np.may_share_memory(c0, wild2))\n",
    "print(wild3, \"pointer\",\"share mem?=\",np.may_share_memory(c0, wild3))\n",
    "print(wild4, \"independent\",\"share mem?=\",np.may_share_memory(c0, wild4))\n",
    "print(wild5, \"independent\",\"share mem?=\",np.may_share_memory(c0, wild5))\n",
    "print(wild6, \"pointer\",\"share mem?=\",np.may_share_memory(c0, wild6))\n",
    "print(wild7, \"independent\",\"share mem?=\",np.may_share_memory(c0, wild7))\n",
    "\n",
    "c0    = c0 + 0\n",
    "wild1 = wild1 + 1\n",
    "wild2 = wild2 + 2\n",
    "wild3 = wild3 + 3\n",
    "wild4 = wild4 + 5\n",
    "wild5 = wild5 + 7\n",
    "wild6 = wild6 + 11\n",
    "wild7 = wild7 + 13\n",
    "\n",
    "print(\"see this operation behaves diffrently, the right hand side creates a new object with the result of the sum, the left hand side is then a new object with that result\")\n",
    "print(c0, \"original\")\n",
    "print(wild1, \"not pointer anymore\",\"share mem?=\",np.may_share_memory(c0, wild1))\n",
    "print(wild2, \"not pointer anymore\",\"share mem?=\",np.may_share_memory(c0, wild2))\n",
    "print(wild3, \"not pointer anymore\",\"share mem?=\",np.may_share_memory(c0, wild3))\n",
    "print(wild4, \"independent\",\"share mem?=\",np.may_share_memory(c0, wild4))\n",
    "print(wild5, \"independent\",\"share mem?=\",np.may_share_memory(c0, wild5))\n",
    "print(wild6, \"not pointer anymore\",\"share mem?=\",np.may_share_memory(c0, wild6))\n",
    "print(wild7, \"independent\",\"share mem?=\",np.may_share_memory(c0, wild7))"
   ]
  },
  {
   "cell_type": "markdown",
   "metadata": {},
   "source": [
    "# 2d arrays and matrices"
   ]
  },
  {
   "cell_type": "code",
   "execution_count": 4,
   "metadata": {
    "collapsed": false,
    "scrolled": true
   },
   "outputs": [
    {
     "name": "stdout",
     "output_type": "stream",
     "text": [
      "M1\n",
      "[[11 12]\n",
      " [21 22]]\n",
      "\n",
      "element of first line (0), first column (0)\n",
      "11\n",
      "[[11 12]\n",
      " [21 22]]\n",
      "[11 12]\n",
      "(2,)\n",
      "[[11 12]]\n",
      "(1, 2)\n"
     ]
    }
   ],
   "source": [
    "M1=np.array([[11,12],[21,22]]) #a (m x n) 2d arry is contructed with m 1d arrays of size n\n",
    "print(\"M1\")\n",
    "print(M1)\n",
    "print(\"\")\n",
    "print(\"element of first line (0), first column (0)\")\n",
    "print(M1[0,0])\n",
    "print(M1[:,:]) #: means slicing, a full slice is the whole array\n",
    "print(M1[0,:]) # 0 for arg1 means 1st line, : for arg2 means full column\n",
    "print(np.shape(M1[0,:])) #this says we got a 1d array with size 2\n",
    "print(M1[0:1,:]) # 0:1 for arg1 means lines 0(inclusive) to 1(exclusive, : for arg2 means full column - the difference from this to the previous is that this preserves shape\n",
    "print(np.shape(M1[0:1,:])) #this says we got a 2d array with size 1 line and 2 columns\n",
    "\n"
   ]
  },
  {
   "cell_type": "markdown",
   "metadata": {},
   "source": [
    "# default constructors:\n",
    "\n"
   ]
  },
  {
   "cell_type": "code",
   "execution_count": 5,
   "metadata": {
    "collapsed": false
   },
   "outputs": [
    {
     "name": "stdout",
     "output_type": "stream",
     "text": [
      "[[ 1.  1.  1.]\n",
      " [ 1.  1.  1.]\n",
      " [ 1.  1.  1.]]\n",
      "[[ 0.  0.  0.]\n",
      " [ 0.  0.  0.]\n",
      " [ 0.  0.  0.]]\n",
      "[[ 1.  0.  0.]\n",
      " [ 0.  1.  0.]\n",
      " [ 0.  0.  1.]]\n"
     ]
    }
   ],
   "source": [
    "# some default constructors:\n",
    "ONES=np.ones([3,3])\n",
    "print(ONES)\n",
    "\n",
    "ZEROS=np.zeros([3,3])\n",
    "print(ZEROS)\n",
    "\n",
    "Id=np.eye(3)\n",
    "print(Id)\n"
   ]
  },
  {
   "cell_type": "markdown",
   "metadata": {},
   "source": [
    "# Linear algebra - matrix operations"
   ]
  },
  {
   "cell_type": "code",
   "execution_count": 6,
   "metadata": {
    "collapsed": false
   },
   "outputs": [
    {
     "name": "stdout",
     "output_type": "stream",
     "text": [
      "[[11 24]\n",
      " [63 88]]\n",
      "[[ 11.    6. ]\n",
      " [  7.    5.5]]\n",
      "[[12 14]\n",
      " [24 26]]\n",
      "[[10 10]\n",
      " [18 18]]\n",
      "[[11 21]\n",
      " [12 22]]\n",
      "[[ 47  70]\n",
      " [ 87 130]]\n",
      "[[ 47  70]\n",
      " [ 87 130]]\n",
      "[[ 47  70]\n",
      " [ 87 130]]\n"
     ]
    }
   ],
   "source": [
    "M2=np.array([[1,2],[3,4]])\n",
    "print(M1*M2) #element wise multiplication\n",
    "print(M1/M2) #element wise \n",
    "print(M1+M2) #element wise \n",
    "print(M1-M2) #element wise \n",
    "\n",
    "print(M1.T) #transpose\n",
    "\n",
    "print(M1.dot(M2)) #matrix multiplication, choose your favorite, read the docs for details\n",
    "print(np.matmul(M1,M2))\n",
    "print(M1 @ M2)\n",
    "\n",
    "# C = A @ B :\n",
    "# C[i,j]=summation_in_k(A[i,k]*B[k,j])\n",
    "#[\n",
    "#  [ 11*1 + 12*3 = 47,    11*2 + 12*4 =  70],\n",
    "#  [ 21*1 + 22*3 = 87,    21*2 + 22*4 = 130]\n",
    "#                                            ]"
   ]
  },
  {
   "cell_type": "code",
   "execution_count": 7,
   "metadata": {
    "collapsed": false
   },
   "outputs": [
    {
     "name": "stdout",
     "output_type": "stream",
     "text": [
      "[[1]\n",
      " [2]]\n",
      "[[1 2]]\n",
      "[[1]\n",
      " [2]]\n",
      "[[1 2]]\n",
      "[[1]\n",
      " [2]]\n",
      "[1 2]\n",
      "[1 2]\n",
      "1\n",
      "2\n",
      "1\n",
      "2\n"
     ]
    }
   ],
   "source": [
    "col1=np.array([[1],\n",
    "               [2]])\n",
    "\n",
    "lin1=np.array([[1, 2],\n",
    "              ])\n",
    "\n",
    "array1d = np.array([1,2])\n",
    "\n",
    "\n",
    "print(col1) # a single-column matrix - not quite the same as as 1d array\n",
    "print(lin1) # a single-line matrix - not quite the same as as 1d array\n",
    "\n",
    "\n",
    "print(col1)\n",
    "print(col1.T) #can be transposed\n",
    "print(col1.T.T) #back and forth\n",
    "\n",
    "print(array1d)\n",
    "print(array1d.T) #cannot be transposed\n",
    "\n",
    "print(col1[0,0]) #single column matrix has only the column 0 but two lines 0 and 1\n",
    "print(col1[1,0]) #nevertheless two indexes must be present\n",
    "\n",
    "print(array1d[0]) #array 1d has 1 dimension\n",
    "print(array1d[1]) #one index identify its elements\n",
    "\n"
   ]
  },
  {
   "cell_type": "code",
   "execution_count": 28,
   "metadata": {
    "collapsed": false
   },
   "outputs": [
    {
     "name": "stdout",
     "output_type": "stream",
     "text": [
      "[[53 56]]\n",
      "[[ 93]\n",
      " [173]]\n",
      "[[13]]\n",
      "[[ 3  6]\n",
      " [ 5 10]]\n",
      "lin1 * M1=\n",
      "[[1 2]]\n",
      "[[11 12]\n",
      " [21 22]]\n",
      "[[11 24]\n",
      " [21 44]]\n",
      "col1 * M1=\n",
      "[[3]\n",
      " [5]]\n",
      "[[11 12]\n",
      " [21 22]]\n",
      "[[ 33  36]\n",
      " [105 110]]\n",
      "lin1 * col1=\n",
      "[[ 3  6]\n",
      " [ 5 10]]\n",
      "[[ 3  6]\n",
      " [ 5 10]]\n",
      "col1*lin1=\n",
      "[[ 3  6]\n",
      " [ 5 10]]\n",
      "[[13]]\n",
      "[1 2]\n",
      "[[ 3  5]\n",
      " [ 7 11]]\n",
      "1d 2d\n",
      "[17 27]\n",
      "[13 29]\n",
      "5\n",
      "[[ 3 10]\n",
      " [ 7 22]]\n",
      "[[ 3 10]\n",
      " [ 7 22]]\n"
     ]
    }
   ],
   "source": [
    "print( lin1 @ M1 ) # #matrix operation checks dimension compatibility\n",
    "print( M1 @ col1 )\n",
    "print( lin1 @ col1) #yields 1x1 matrix (not quite the same as scalar)\n",
    "print( col1 @ lin1 )\n",
    "\n",
    "#print( col1 @ M1 ) #these 2 are illegal\n",
    "#print( M1 @ lin1 )\n",
    "\n",
    "# broadcasting with element wise multiplication between different shaped matrices\n",
    "\n",
    "print(\"lin1 * M1=\")\n",
    "print(lin1)\n",
    "print(M1)\n",
    "print(lin1 * M1) #broadcasts lin1 * first line of M1, then lin1 * second line of M1\n",
    "\n",
    "print(\"col1 * M1=\")\n",
    "print(col1)\n",
    "print(M1)\n",
    "print(col1 * M1) #broadcasts col1 * first column of M1, then col1 * second column of M1\n",
    "\n",
    "print(\"lin1 * col1=\")\n",
    "lin1[0,:]=[1,2]\n",
    "col1[:,0]=[3,5]\n",
    "print(lin1*col1) #the broadcast creates 1xc * lx1 creates a matrix nxm where M[ij]=lin[0,i]*col[j,0]\n",
    "print(col1 @ lin1) #coincidently the same as this matmul\n",
    "\n",
    "print(\"col1*lin1=\")\n",
    "print(col1*lin1) #the broadcasting for elementwise multiplicaiotn does not depend on order\n",
    "print(lin1 @ col1) #the matmul does\n",
    "\n",
    "# what happens with 1d arrays\n",
    "\n",
    "v1=np.array([1,2])\n",
    "M2=np.array([[3,5],[7,11]])\n",
    "print(v1)\n",
    "print(M2)\n",
    "\n",
    "print(\"1d @ 2d and vice versa\")\n",
    "#in these cases, numpy assumes an \"orientation\" to consider the 1d array as a single line or single column matrix and make the matmul operation in the order asked\n",
    "#also the result is cast back in a 1d array, not in 2d array (matrix)\n",
    "#1d matmul 2d\n",
    "print(v1 @ M2) #yields as if v1 was a single line matrix and puts it in a 1d shape (1d array, not quite single line matrix)\n",
    "#2d matmul 1d \n",
    "print(M2 @ v1) #yields as if v1 was a single column matrix and puts it in a 1d shape (1d array, not quite single line matrix)\n",
    "#1d matmul 1d\n",
    "print(v1 @ v1) #assumes as if one was column and other was line and yields scalar (no quite 1d array with size 1 nor matrix with size (1,1))\n",
    "\n",
    "#broadcasting 2d 1d\n",
    "#1d*2d\n",
    "print(v1 * M2) #broadcasts as if the 1d was a single line matrix\n",
    "#2d*1d\n",
    "print(M2 * v1) #broadcast does not depend on order\n",
    "#!!!!!\n",
    "\n"
   ]
  },
  {
   "cell_type": "markdown",
   "metadata": {},
   "source": [
    "# The matlab like matrix class"
   ]
  },
  {
   "cell_type": "code",
   "execution_count": 37,
   "metadata": {
    "collapsed": false
   },
   "outputs": [
    {
     "name": "stdout",
     "output_type": "stream",
     "text": [
      "[[1 2]\n",
      " [3 5]]\n",
      "[[ 33  45]\n",
      " [ 86 118]]\n",
      "[[ 7 22]\n",
      " [39 85]]\n"
     ]
    }
   ],
   "source": [
    "A=np.matrix('[1,2;3,5]')\n",
    "B=np.matrix('[7,11;13,17]')\n",
    "print(A)\n",
    "print(A * B) #this is matrix multipli\n",
    "print(np.multiply(A,B)) #this is element wise multiplicationcation just like in matlab"
   ]
  },
  {
   "cell_type": "markdown",
   "metadata": {},
   "source": [
    "Note that while this matlab-like matrix class exists, we do not recommend it\n",
    "see scipy docs for details:\n",
    ">\"Numpy provides, in addition to np.ndarray, an additional matrix type that you may see used in some existing code. Which one to use?\n",
    ">\n",
    ">Short answer\n",
    ">\n",
    ">Use arrays.\n",
    ">>    They are the standard vector/matrix/tensor type of numpy. Many numpy functions return arrays, not matrices.\n",
    ">>\n",
    ">>    There is a clear distinction between element-wise operations and linear algebra operations.\n",
    ">>\n",
    ">>    You can have standard vectors or row/column vectors if you like.\""
   ]
  },
  {
   "cell_type": "markdown",
   "metadata": {
    "collapsed": true
   },
   "source": [
    "# References\n",
    "* see the matrix class\n",
    " https://docs.scipy.org/doc/numpy-dev/user/numpy-for-matlab-users.html\n",
    "* see Elementary_Matrix_Operations_In_Python\n",
    " https://www.ibm.com/developerworks/community/blogs/jfp/entry/Elementary_Matrix_Operations_In_Python?lang=en\n",
    "* construct arrays with comprehensions\n",
    " http://treyhunner.com/2015/12/python-list-comprehensions-now-in-color/\n",
    "* broadcasting\n",
    " https://docs.scipy.org/doc/numpy/user/basics.broadcasting.html\n"
   ]
  }
 ],
 "metadata": {
  "anaconda-cloud": {},
  "kernelspec": {
   "display_name": "Python [conda root]",
   "language": "python",
   "name": "conda-root-py"
  },
  "language_info": {
   "codemirror_mode": {
    "name": "ipython",
    "version": 3
   },
   "file_extension": ".py",
   "mimetype": "text/x-python",
   "name": "python",
   "nbconvert_exporter": "python",
   "pygments_lexer": "ipython3",
   "version": "3.5.2"
  }
 },
 "nbformat": 4,
 "nbformat_minor": 1
}
